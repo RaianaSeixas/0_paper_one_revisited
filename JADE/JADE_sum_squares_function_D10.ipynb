{
  "nbformat": 4,
  "nbformat_minor": 0,
  "metadata": {
    "colab": {
      "name": "JADE_sum_squares_function_D10.ipynb",
      "provenance": [],
      "collapsed_sections": [],
      "include_colab_link": true
    },
    "kernelspec": {
      "display_name": "Python 3",
      "name": "python3"
    },
    "language_info": {
      "codemirror_mode": {
        "name": "ipython",
        "version": 3
      },
      "file_extension": ".py",
      "mimetype": "text/x-python",
      "name": "python",
      "nbconvert_exporter": "python",
      "pygments_lexer": "ipython3",
      "version": "3.7.3"
    }
  },
  "cells": [
    {
      "cell_type": "markdown",
      "metadata": {
        "id": "view-in-github",
        "colab_type": "text"
      },
      "source": [
        "<a href=\"https://colab.research.google.com/github/RaianaSeixas/0_paper_one_revisited/blob/main/JADE/JADE_sum_squares_function_D10.ipynb\" target=\"_parent\"><img src=\"https://colab.research.google.com/assets/colab-badge.svg\" alt=\"Open In Colab\"/></a>"
      ]
    },
    {
      "cell_type": "code",
      "metadata": {
        "colab": {
          "base_uri": "https://localhost:8080/"
        },
        "id": "IviJOU5POtN8",
        "outputId": "a632d986-e64e-4423-f5c9-ab38edee0988"
      },
      "source": [
        "############################### Importar códigos\n",
        "!git clone https://github.com/ucfilho/optim_raianars_Insight\n",
        "%cd optim_raianars_Insight"
      ],
      "execution_count": 1,
      "outputs": [
        {
          "output_type": "stream",
          "text": [
            "Cloning into 'optim_raianars_Insight'...\n",
            "remote: Enumerating objects: 372, done.\u001b[K\n",
            "remote: Counting objects: 100% (58/58), done.\u001b[K\n",
            "remote: Compressing objects: 100% (58/58), done.\u001b[K\n",
            "remote: Total 372 (delta 33), reused 0 (delta 0), pack-reused 314\u001b[K\n",
            "Receiving objects: 100% (372/372), 326.38 KiB | 19.20 MiB/s, done.\n",
            "Resolving deltas: 100% (214/214), done.\n",
            "/content/optim_raianars_Insight\n"
          ],
          "name": "stdout"
        }
      ]
    },
    {
      "cell_type": "code",
      "metadata": {
        "id": "_E15mKFURR6O"
      },
      "source": [
        "import Function\n",
        "import Go2MinMax\n",
        "import numpy as np\n",
        "import time\n",
        "import matplotlib.pyplot as plt\n",
        "from random import randint\n",
        "import pandas as pd\n",
        "\n",
        "############################### Função\n",
        "dim=10 # \n",
        "fchoice='sum_squares_function'\n",
        "Fun=Function.sum_squares_function\n",
        "MIN,MAX=Go2MinMax.Intervalo(dim,fchoice)\n",
        "#MAX=np.repeat(1.28,dim)\n",
        "#MIN=np.repeat(-1.28,dim)\n",
        "\n",
        "bounds=[]\n",
        "for k in range(len(MAX)):\n",
        "  bounds.append((MIN[k],MAX[k]))\n",
        "\n",
        "############################### DADOS DE ENTRADA \n",
        "RUNS=50 #NÚMERO DE RODADAS\n",
        "Fc=0.1 # fator de correcao parametros da ANN\n",
        "its=1 #10 # quantas vezes vai usar o NPAR antes de alterar de novo\n",
        "ITE=2000 #00 #10 # PONTOS quantas vezes vai alteral NPAR \n",
        "NPAR=100\n"
      ],
      "execution_count": 2,
      "outputs": []
    },
    {
      "cell_type": "code",
      "metadata": {
        "colab": {
          "base_uri": "https://localhost:8080/"
        },
        "id": "lAVDJIRmNQUC",
        "outputId": "12092edf-7f2e-4041-8d65-0fe9e7c81c41"
      },
      "source": [
        "!pip install PyFDE"
      ],
      "execution_count": 3,
      "outputs": [
        {
          "output_type": "stream",
          "text": [
            "Collecting PyFDE\n",
            "\u001b[?25l  Downloading https://files.pythonhosted.org/packages/72/f9/87f7279554d2682e3827d39c3d3a565b2fd42f7114a779e34a601c6c5079/PyFDE-1.3.0.tar.gz (397kB)\n",
            "\r\u001b[K     |▉                               | 10kB 14.4MB/s eta 0:00:01\r\u001b[K     |█▋                              | 20kB 19.0MB/s eta 0:00:01\r\u001b[K     |██▌                             | 30kB 22.3MB/s eta 0:00:01\r\u001b[K     |███▎                            | 40kB 24.8MB/s eta 0:00:01\r\u001b[K     |████▏                           | 51kB 26.6MB/s eta 0:00:01\r\u001b[K     |█████                           | 61kB 28.7MB/s eta 0:00:01\r\u001b[K     |█████▊                          | 71kB 29.4MB/s eta 0:00:01\r\u001b[K     |██████▋                         | 81kB 28.5MB/s eta 0:00:01\r\u001b[K     |███████▍                        | 92kB 29.9MB/s eta 0:00:01\r\u001b[K     |████████▎                       | 102kB 31.5MB/s eta 0:00:01\r\u001b[K     |█████████                       | 112kB 31.5MB/s eta 0:00:01\r\u001b[K     |██████████                      | 122kB 31.5MB/s eta 0:00:01\r\u001b[K     |██████████▊                     | 133kB 31.5MB/s eta 0:00:01\r\u001b[K     |███████████▌                    | 143kB 31.5MB/s eta 0:00:01\r\u001b[K     |████████████▍                   | 153kB 31.5MB/s eta 0:00:01\r\u001b[K     |█████████████▏                  | 163kB 31.5MB/s eta 0:00:01\r\u001b[K     |██████████████                  | 174kB 31.5MB/s eta 0:00:01\r\u001b[K     |██████████████▉                 | 184kB 31.5MB/s eta 0:00:01\r\u001b[K     |███████████████▊                | 194kB 31.5MB/s eta 0:00:01\r\u001b[K     |████████████████▌               | 204kB 31.5MB/s eta 0:00:01\r\u001b[K     |█████████████████▎              | 215kB 31.5MB/s eta 0:00:01\r\u001b[K     |██████████████████▏             | 225kB 31.5MB/s eta 0:00:01\r\u001b[K     |███████████████████             | 235kB 31.5MB/s eta 0:00:01\r\u001b[K     |███████████████████▉            | 245kB 31.5MB/s eta 0:00:01\r\u001b[K     |████████████████████▋           | 256kB 31.5MB/s eta 0:00:01\r\u001b[K     |█████████████████████▌          | 266kB 31.5MB/s eta 0:00:01\r\u001b[K     |██████████████████████▎         | 276kB 31.5MB/s eta 0:00:01\r\u001b[K     |███████████████████████         | 286kB 31.5MB/s eta 0:00:01\r\u001b[K     |████████████████████████        | 296kB 31.5MB/s eta 0:00:01\r\u001b[K     |████████████████████████▊       | 307kB 31.5MB/s eta 0:00:01\r\u001b[K     |█████████████████████████▋      | 317kB 31.5MB/s eta 0:00:01\r\u001b[K     |██████████████████████████▍     | 327kB 31.5MB/s eta 0:00:01\r\u001b[K     |███████████████████████████▎    | 337kB 31.5MB/s eta 0:00:01\r\u001b[K     |████████████████████████████    | 348kB 31.5MB/s eta 0:00:01\r\u001b[K     |████████████████████████████▉   | 358kB 31.5MB/s eta 0:00:01\r\u001b[K     |█████████████████████████████▊  | 368kB 31.5MB/s eta 0:00:01\r\u001b[K     |██████████████████████████████▌ | 378kB 31.5MB/s eta 0:00:01\r\u001b[K     |███████████████████████████████▍| 389kB 31.5MB/s eta 0:00:01\r\u001b[K     |████████████████████████████████| 399kB 31.5MB/s \n",
            "\u001b[?25hRequirement already satisfied: numpy in /usr/local/lib/python3.7/dist-packages (from PyFDE) (1.19.5)\n",
            "Building wheels for collected packages: PyFDE\n",
            "  Building wheel for PyFDE (setup.py) ... \u001b[?25l\u001b[?25hdone\n",
            "  Created wheel for PyFDE: filename=PyFDE-1.3.0-cp37-cp37m-linux_x86_64.whl size=974743 sha256=ad64f7c770ada5f3646f828319c3b1bd1d76b3776221dec760c417048840800d\n",
            "  Stored in directory: /root/.cache/pip/wheels/7d/42/ba/abf21db37934e576c74fc2c9504b5cd97eb6a99e3dec1743c0\n",
            "Successfully built PyFDE\n",
            "Installing collected packages: PyFDE\n",
            "Successfully installed PyFDE-1.3.0\n"
          ],
          "name": "stdout"
        }
      ]
    },
    {
      "cell_type": "code",
      "metadata": {
        "id": "E7DrzRqmM2j8"
      },
      "source": [
        "import pyfde\n",
        "solver = pyfde.JADE(Fun, n_dim= dim, n_pop=NPAR, limits=bounds, minimize=True)\n",
        "solver.p = 0.05\n",
        "solver.c = 0.1"
      ],
      "execution_count": 4,
      "outputs": []
    },
    {
      "cell_type": "code",
      "metadata": {
        "id": "NnOvinHvNl_p"
      },
      "source": [
        "start_time = time.time()\n",
        "BEST_AGENTS=[]\n",
        "MAT_stat=[]"
      ],
      "execution_count": 5,
      "outputs": []
    },
    {
      "cell_type": "code",
      "metadata": {
        "id": "3-uCNVsZNnqa",
        "colab": {
          "base_uri": "https://localhost:8080/"
        },
        "outputId": "7aa84930-5d0f-49da-8ebf-b821c6421575"
      },
      "source": [
        "start_time = time.time()\n",
        "BEST_AGENTS=[]\n",
        "BEST_FIT =[]\n",
        "rows = RUNS\n",
        "cols = dim + 1\n",
        "BEST_XY = np.zeros((rows,cols))\n",
        "for iii in range(RUNS):\n",
        "  solver = pyfde.JADE(Fun, n_dim= dim, n_pop=NPAR, limits=bounds, minimize=True)\n",
        "  solver.p = 0.05\n",
        "  solver.c = 0.1\n",
        "  solver.cr, solver.f = 0.5, 0.5\n",
        "  best, fit = solver.run(n_it=ITE)\n",
        "  kkk = -1\n",
        "  for xi in best:\n",
        "    kkk = kkk +1\n",
        "    BEST_XY[iii,kkk] = xi\n",
        "  BEST_XY[iii,dim] = -fit\n",
        "  BEST_AGENTS.append(best)\n",
        "  TIME = (time.time() - start_time) /60\n",
        "  BEST_FIT.append(-fit)\n",
        "  print('ite ', iii,'time ', TIME,'fob =', -fit)\n",
        "    \n",
        "############################## Cálculo dos Parâmetros de Avaliação   \n",
        "JADE_TIME = (time.time() - start_time)/RUNS"
      ],
      "execution_count": 6,
      "outputs": [
        {
          "output_type": "stream",
          "text": [
            "ite  0 time  0.01897172530492147 fob = 6.906088625267017e-98\n",
            "ite  1 time  0.03825324376424154 fob = 2.2774346750389253e-95\n",
            "ite  2 time  0.05731777747472127 fob = 1.041456394357629e-93\n",
            "ite  3 time  0.0763024091720581 fob = 1.328897725598267e-100\n",
            "ite  4 time  0.09532838662465414 fob = 1.7003373055508753e-94\n",
            "ite  5 time  0.11428033113479615 fob = 1.5729554772578315e-94\n",
            "ite  6 time  0.13300469319025676 fob = 2.5461560216394162e-96\n",
            "ite  7 time  0.15207208395004274 fob = 2.549538863849196e-99\n",
            "ite  8 time  0.17076332569122316 fob = 8.201695122297159e-106\n",
            "ite  9 time  0.18987715244293213 fob = 3.8028119685102127e-93\n",
            "ite  10 time  0.20862128734588622 fob = 2.2312808472554432e-104\n",
            "ite  11 time  0.22774274349212648 fob = 3.3220000394762264e-99\n",
            "ite  12 time  0.24693095684051514 fob = 1.1483359763417405e-101\n",
            "ite  13 time  0.26604499816894533 fob = 2.2055145160683335e-92\n",
            "ite  14 time  0.2851213296254476 fob = 1.6884094393610259e-93\n",
            "ite  15 time  0.3040360927581787 fob = 5.468475672907022e-106\n",
            "ite  16 time  0.32343538602193195 fob = 7.349086236421568e-104\n",
            "ite  17 time  0.3428189277648926 fob = 5.761694441350904e-95\n",
            "ite  18 time  0.361554209391276 fob = 9.949459054099297e-95\n",
            "ite  19 time  0.38064049084981283 fob = 4.203335907637136e-102\n",
            "ite  20 time  0.39983084201812746 fob = 9.326629292349215e-92\n",
            "ite  21 time  0.41898422241210936 fob = 2.8983011867156025e-93\n",
            "ite  22 time  0.43781401713689166 fob = 1.4454480970709794e-111\n",
            "ite  23 time  0.45651221672693887 fob = 4.1654446542775795e-112\n",
            "ite  24 time  0.47544856866200763 fob = 8.53437112235721e-103\n",
            "ite  25 time  0.4947085301081339 fob = 1.572670775771535e-92\n",
            "ite  26 time  0.513638977209727 fob = 7.193649466099569e-99\n",
            "ite  27 time  0.5326098283131917 fob = 1.4902194509138434e-101\n",
            "ite  28 time  0.5516493320465088 fob = 5.245877392140693e-105\n",
            "ite  29 time  0.5705522735913594 fob = 5.892228122751536e-92\n",
            "ite  30 time  0.5896031578381856 fob = 1.7742506806919523e-95\n",
            "ite  31 time  0.6087248285611471 fob = 1.0368709091125524e-99\n",
            "ite  32 time  0.6278029163678487 fob = 1.6690083366755914e-99\n",
            "ite  33 time  0.6471054395039876 fob = 7.247883025474349e-104\n",
            "ite  34 time  0.6662762284278869 fob = 1.1050548056128328e-99\n",
            "ite  35 time  0.685539714495341 fob = 3.932491990763318e-93\n",
            "ite  36 time  0.7046990593274435 fob = 1.2180245976013387e-91\n",
            "ite  37 time  0.7238647937774658 fob = 4.3888498977528104e-105\n",
            "ite  38 time  0.7429010748863221 fob = 1.6588815924995192e-98\n",
            "ite  39 time  0.7618320107460022 fob = 7.828997031304931e-90\n",
            "ite  40 time  0.7808898846308391 fob = 7.205832677937388e-91\n",
            "ite  41 time  0.800293485323588 fob = 7.595136260934302e-92\n",
            "ite  42 time  0.8195154945055644 fob = 5.367019867293277e-95\n",
            "ite  43 time  0.8388092041015625 fob = 4.5338035073967975e-100\n",
            "ite  44 time  0.8580087979634603 fob = 5.666753950711563e-110\n",
            "ite  45 time  0.8767988761266072 fob = 1.4288265764560651e-91\n",
            "ite  46 time  0.8958285371462504 fob = 1.0354773012711546e-105\n",
            "ite  47 time  0.9146724899609884 fob = 1.4874192983922354e-95\n",
            "ite  48 time  0.9338201403617858 fob = 4.5191974611385595e-97\n",
            "ite  49 time  0.9528915325800578 fob = 3.095540378944831e-96\n"
          ],
          "name": "stdout"
        }
      ]
    },
    {
      "cell_type": "code",
      "metadata": {
        "id": "vxovHXZqNuYh"
      },
      "source": [
        "IND_XY = np.argsort(np.array(BEST_XY[:,-1]))\n",
        "BEST_XY = BEST_XY[IND_XY,:]"
      ],
      "execution_count": 7,
      "outputs": []
    },
    {
      "cell_type": "code",
      "metadata": {
        "id": "iNdcjVsFN15n"
      },
      "source": [
        "JADE_BEST=BEST_XY[0]\n",
        "JADE_WORSE=BEST_XY[-1]\n",
        "JADE_MEAN=np.mean(BEST_XY,axis=0)\n",
        "JADE_MAXFO=BEST_XY[:,-1].max()\n",
        "JADE_MINFO=BEST_XY[:,-1].min()\n",
        "JADE_STD=BEST_XY[:,-1].std()\n",
        "JADE_BEST=BEST_XY[(rows-1),(cols-1)]"
      ],
      "execution_count": 8,
      "outputs": []
    },
    {
      "cell_type": "code",
      "metadata": {
        "id": "lNSN5X-wskcx",
        "colab": {
          "base_uri": "https://localhost:8080/"
        },
        "outputId": "82bf5913-fbfa-400e-f3c2-1a71dc0da5c3"
      },
      "source": [
        "print('======== JADE ==============')\n",
        "print('NPAR=',NPAR,'Iterações=',ITE*its,'Dim=', dim,\"Min/Max=\",MIN[0],\"/\",MAX[0],'_',Fun.__name__)\n",
        "print()\n",
        "print('MÉDIA: ',JADE_MEAN[-1])\n",
        "print('MIN __:',JADE_MINFO)\n",
        "print('MAX__: ',JADE_MAXFO)\n",
        "print('STD __:',JADE_STD)\n",
        "print(\"Tempo Médio= %.3f segundos ---\" % (JADE_TIME))\n",
        "print(RUNS,'Rodadas') \n",
        "print()\n",
        "print('BEST: ',JADE_MINFO)\n",
        "\n",
        "print(JADE_MEAN[-1])\n",
        "print(JADE_STD)\n",
        "print(JADE_MINFO)\n"
      ],
      "execution_count": 9,
      "outputs": [
        {
          "output_type": "stream",
          "text": [
            "======== JADE ==============\n",
            "NPAR= 100 Iterações= 2000 Dim= 10 Min/Max= -10 / 10 _ sum_squares_function\n",
            "\n",
            "MÉDIA:  1.8188300751962363e-91\n",
            "MIN __: 4.1654446542775795e-112\n",
            "MAX__:  7.828997031304931e-90\n",
            "STD __: 1.0973816999651254e-90\n",
            "Tempo Médio= 1.143 segundos ---\n",
            "50 Rodadas\n",
            "\n",
            "BEST:  4.1654446542775795e-112\n",
            "1.8188300751962363e-91\n",
            "1.0973816999651254e-90\n",
            "4.1654446542775795e-112\n"
          ],
          "name": "stdout"
        }
      ]
    }
  ]
}