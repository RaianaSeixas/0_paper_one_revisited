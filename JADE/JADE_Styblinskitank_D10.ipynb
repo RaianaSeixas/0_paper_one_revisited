{
  "nbformat": 4,
  "nbformat_minor": 0,
  "metadata": {
    "colab": {
      "name": "JADE_Styblinskitank_D10.ipynb",
      "provenance": [],
      "collapsed_sections": [],
      "include_colab_link": true
    },
    "kernelspec": {
      "display_name": "Python 3",
      "name": "python3"
    },
    "language_info": {
      "codemirror_mode": {
        "name": "ipython",
        "version": 3
      },
      "file_extension": ".py",
      "mimetype": "text/x-python",
      "name": "python",
      "nbconvert_exporter": "python",
      "pygments_lexer": "ipython3",
      "version": "3.7.3"
    }
  },
  "cells": [
    {
      "cell_type": "markdown",
      "metadata": {
        "id": "view-in-github",
        "colab_type": "text"
      },
      "source": [
        "<a href=\"https://colab.research.google.com/github/RaianaSeixas/0_paper_one_revisited/blob/main/JADE/JADE_Styblinskitank_D10.ipynb\" target=\"_parent\"><img src=\"https://colab.research.google.com/assets/colab-badge.svg\" alt=\"Open In Colab\"/></a>"
      ]
    },
    {
      "cell_type": "code",
      "metadata": {
        "colab": {
          "base_uri": "https://localhost:8080/"
        },
        "id": "IviJOU5POtN8",
        "outputId": "226473c3-80ba-4c0b-b8c4-7aff5a5f335f"
      },
      "source": [
        "############################### Importar códigos\n",
        "!git clone https://github.com/ucfilho/optim_raianars_Insight\n",
        "%cd optim_raianars_Insight"
      ],
      "execution_count": 1,
      "outputs": [
        {
          "output_type": "stream",
          "text": [
            "Cloning into 'optim_raianars_Insight'...\n",
            "remote: Enumerating objects: 375, done.\u001b[K\n",
            "remote: Counting objects: 100% (61/61), done.\u001b[K\n",
            "remote: Compressing objects: 100% (61/61), done.\u001b[K\n",
            "remote: Total 375 (delta 35), reused 0 (delta 0), pack-reused 314\u001b[K\n",
            "Receiving objects: 100% (375/375), 327.03 KiB | 12.11 MiB/s, done.\n",
            "Resolving deltas: 100% (216/216), done.\n",
            "/content/optim_raianars_Insight\n"
          ],
          "name": "stdout"
        }
      ]
    },
    {
      "cell_type": "code",
      "metadata": {
        "id": "_E15mKFURR6O"
      },
      "source": [
        "import Function\n",
        "import Go2MinMax\n",
        "import numpy as np\n",
        "import time\n",
        "import matplotlib.pyplot as plt\n",
        "from random import randint\n",
        "import pandas as pd\n",
        "\n",
        "############################### Função\n",
        "dim=10 # \n",
        "fchoice='Styblinskitank'\n",
        "Fun=Function.Styblinskitank\n",
        "MIN,MAX=Go2MinMax.Intervalo(dim,fchoice)\n",
        "#MAX=np.repeat(1.28,dim)\n",
        "#MIN=np.repeat(-1.28,dim)\n",
        "\n",
        "bounds=[]\n",
        "for k in range(len(MAX)):\n",
        "  bounds.append((MIN[k],MAX[k]))\n",
        "\n",
        "############################### DADOS DE ENTRADA \n",
        "RUNS=50 #NÚMERO DE RODADAS\n",
        "Fc=0.1 # fator de correcao parametros da ANN\n",
        "its=1 #10 # quantas vezes vai usar o NPAR antes de alterar de novo\n",
        "ITE=2000 #00 #10 # PONTOS quantas vezes vai alteral NPAR \n",
        "NPAR=100\n"
      ],
      "execution_count": 2,
      "outputs": []
    },
    {
      "cell_type": "code",
      "metadata": {
        "colab": {
          "base_uri": "https://localhost:8080/"
        },
        "id": "lAVDJIRmNQUC",
        "outputId": "f0b9bba3-595e-41eb-a662-c94adf62752c"
      },
      "source": [
        "!pip install PyFDE"
      ],
      "execution_count": 3,
      "outputs": [
        {
          "output_type": "stream",
          "text": [
            "Collecting PyFDE\n",
            "\u001b[?25l  Downloading https://files.pythonhosted.org/packages/72/f9/87f7279554d2682e3827d39c3d3a565b2fd42f7114a779e34a601c6c5079/PyFDE-1.3.0.tar.gz (397kB)\n",
            "\r\u001b[K     |▉                               | 10kB 20.1MB/s eta 0:00:01\r\u001b[K     |█▋                              | 20kB 26.3MB/s eta 0:00:01\r\u001b[K     |██▌                             | 30kB 32.4MB/s eta 0:00:01\r\u001b[K     |███▎                            | 40kB 20.4MB/s eta 0:00:01\r\u001b[K     |████▏                           | 51kB 14.2MB/s eta 0:00:01\r\u001b[K     |█████                           | 61kB 12.0MB/s eta 0:00:01\r\u001b[K     |█████▊                          | 71kB 11.0MB/s eta 0:00:01\r\u001b[K     |██████▋                         | 81kB 11.9MB/s eta 0:00:01\r\u001b[K     |███████▍                        | 92kB 13.1MB/s eta 0:00:01\r\u001b[K     |████████▎                       | 102kB 11.1MB/s eta 0:00:01\r\u001b[K     |█████████                       | 112kB 11.1MB/s eta 0:00:01\r\u001b[K     |██████████                      | 122kB 11.1MB/s eta 0:00:01\r\u001b[K     |██████████▊                     | 133kB 11.1MB/s eta 0:00:01\r\u001b[K     |███████████▌                    | 143kB 11.1MB/s eta 0:00:01\r\u001b[K     |████████████▍                   | 153kB 11.1MB/s eta 0:00:01\r\u001b[K     |█████████████▏                  | 163kB 11.1MB/s eta 0:00:01\r\u001b[K     |██████████████                  | 174kB 11.1MB/s eta 0:00:01\r\u001b[K     |██████████████▉                 | 184kB 11.1MB/s eta 0:00:01\r\u001b[K     |███████████████▊                | 194kB 11.1MB/s eta 0:00:01\r\u001b[K     |████████████████▌               | 204kB 11.1MB/s eta 0:00:01\r\u001b[K     |█████████████████▎              | 215kB 11.1MB/s eta 0:00:01\r\u001b[K     |██████████████████▏             | 225kB 11.1MB/s eta 0:00:01\r\u001b[K     |███████████████████             | 235kB 11.1MB/s eta 0:00:01\r\u001b[K     |███████████████████▉            | 245kB 11.1MB/s eta 0:00:01\r\u001b[K     |████████████████████▋           | 256kB 11.1MB/s eta 0:00:01\r\u001b[K     |█████████████████████▌          | 266kB 11.1MB/s eta 0:00:01\r\u001b[K     |██████████████████████▎         | 276kB 11.1MB/s eta 0:00:01\r\u001b[K     |███████████████████████         | 286kB 11.1MB/s eta 0:00:01\r\u001b[K     |████████████████████████        | 296kB 11.1MB/s eta 0:00:01\r\u001b[K     |████████████████████████▊       | 307kB 11.1MB/s eta 0:00:01\r\u001b[K     |█████████████████████████▋      | 317kB 11.1MB/s eta 0:00:01\r\u001b[K     |██████████████████████████▍     | 327kB 11.1MB/s eta 0:00:01\r\u001b[K     |███████████████████████████▎    | 337kB 11.1MB/s eta 0:00:01\r\u001b[K     |████████████████████████████    | 348kB 11.1MB/s eta 0:00:01\r\u001b[K     |████████████████████████████▉   | 358kB 11.1MB/s eta 0:00:01\r\u001b[K     |█████████████████████████████▊  | 368kB 11.1MB/s eta 0:00:01\r\u001b[K     |██████████████████████████████▌ | 378kB 11.1MB/s eta 0:00:01\r\u001b[K     |███████████████████████████████▍| 389kB 11.1MB/s eta 0:00:01\r\u001b[K     |████████████████████████████████| 399kB 11.1MB/s \n",
            "\u001b[?25hRequirement already satisfied: numpy in /usr/local/lib/python3.7/dist-packages (from PyFDE) (1.19.5)\n",
            "Building wheels for collected packages: PyFDE\n",
            "  Building wheel for PyFDE (setup.py) ... \u001b[?25l\u001b[?25hdone\n",
            "  Created wheel for PyFDE: filename=PyFDE-1.3.0-cp37-cp37m-linux_x86_64.whl size=974722 sha256=579610660f7bb71c814696e862ffe73e9d09276d4168181fdcbac4abf201a5a4\n",
            "  Stored in directory: /root/.cache/pip/wheels/7d/42/ba/abf21db37934e576c74fc2c9504b5cd97eb6a99e3dec1743c0\n",
            "Successfully built PyFDE\n",
            "Installing collected packages: PyFDE\n",
            "Successfully installed PyFDE-1.3.0\n"
          ],
          "name": "stdout"
        }
      ]
    },
    {
      "cell_type": "code",
      "metadata": {
        "id": "E7DrzRqmM2j8"
      },
      "source": [
        "import pyfde\n",
        "solver = pyfde.JADE(Fun, n_dim= dim, n_pop=NPAR, limits=bounds, minimize=True)\n",
        "solver.p = 0.05\n",
        "solver.c = 0.1"
      ],
      "execution_count": 4,
      "outputs": []
    },
    {
      "cell_type": "code",
      "metadata": {
        "id": "NnOvinHvNl_p"
      },
      "source": [
        "start_time = time.time()\n",
        "BEST_AGENTS=[]\n",
        "MAT_stat=[]"
      ],
      "execution_count": 5,
      "outputs": []
    },
    {
      "cell_type": "code",
      "metadata": {
        "id": "3-uCNVsZNnqa",
        "colab": {
          "base_uri": "https://localhost:8080/"
        },
        "outputId": "fbeeea2a-caa4-4f0f-f3f0-6701c3dd8c65"
      },
      "source": [
        "start_time = time.time()\n",
        "BEST_AGENTS=[]\n",
        "BEST_FIT =[]\n",
        "rows = RUNS\n",
        "cols = dim + 1\n",
        "BEST_XY = np.zeros((rows,cols))\n",
        "for iii in range(RUNS):\n",
        "  solver = pyfde.JADE(Fun, n_dim= dim, n_pop=NPAR, limits=bounds, minimize=True)\n",
        "  solver.p = 0.05\n",
        "  solver.c = 0.1\n",
        "  solver.cr, solver.f = 0.5, 0.5\n",
        "  best, fit = solver.run(n_it=ITE)\n",
        "  kkk = -1\n",
        "  for xi in best:\n",
        "    kkk = kkk +1\n",
        "    BEST_XY[iii,kkk] = xi\n",
        "  BEST_XY[iii,dim] = -fit\n",
        "  BEST_AGENTS.append(best)\n",
        "  TIME = (time.time() - start_time) /60\n",
        "  BEST_FIT.append(-fit)\n",
        "  print('ite ', iii,'time ', TIME,'fob =', -fit)\n",
        "    \n",
        "############################## Cálculo dos Parâmetros de Avaliação   \n",
        "JADE_TIME = (time.time() - start_time)/RUNS"
      ],
      "execution_count": 6,
      "outputs": [
        {
          "output_type": "stream",
          "text": [
            "ite  0 time  0.02643477121988932 fob = -391.6616570377145\n",
            "ite  1 time  0.05203416744867961 fob = -391.6616570377145\n",
            "ite  2 time  0.07806078990300497 fob = -391.6616570377146\n",
            "ite  3 time  0.10363744099934896 fob = -391.6616570377145\n",
            "ite  4 time  0.1294780453046163 fob = -391.6616570377145\n",
            "ite  5 time  0.15564411481221516 fob = -391.6616570377145\n",
            "ite  6 time  0.181862477461497 fob = -391.6616570377145\n",
            "ite  7 time  0.20779227415720622 fob = -391.6616570377145\n",
            "ite  8 time  0.23415008385976155 fob = -391.6616570377145\n",
            "ite  9 time  0.2601358652114868 fob = -391.6616570377145\n",
            "ite  10 time  0.28537259499231976 fob = -391.6616570377145\n",
            "ite  11 time  0.3105867544809977 fob = -391.66165703771446\n",
            "ite  12 time  0.335967218875885 fob = -391.6616570377145\n",
            "ite  13 time  0.36184451580047605 fob = -391.66165703771446\n",
            "ite  14 time  0.3876237432161967 fob = -391.66165703771446\n",
            "ite  15 time  0.4135186195373535 fob = -391.6616570377145\n",
            "ite  16 time  0.4395381609598796 fob = -391.6616570377146\n",
            "ite  17 time  0.4658110737800598 fob = -391.66165703771446\n",
            "ite  18 time  0.49211065769195556 fob = -391.6616570377145\n",
            "ite  19 time  0.5186057408650716 fob = -391.6616570377145\n",
            "ite  20 time  0.5449815273284913 fob = -391.66165703771446\n",
            "ite  21 time  0.57106511592865 fob = -391.66165703771446\n",
            "ite  22 time  0.5968331495920817 fob = -391.6616570377145\n",
            "ite  23 time  0.6226946433385213 fob = -391.6616570377146\n",
            "ite  24 time  0.6485896507898966 fob = -391.66165703771446\n",
            "ite  25 time  0.6748007297515869 fob = -391.6616570377145\n",
            "ite  26 time  0.700703497727712 fob = -391.6616570377146\n",
            "ite  27 time  0.727307140827179 fob = -391.6616570377146\n",
            "ite  28 time  0.7533851265907288 fob = -391.6616570377145\n",
            "ite  29 time  0.7794114828109742 fob = -391.6616570377145\n",
            "ite  30 time  0.8053731560707093 fob = -391.6616570377146\n",
            "ite  31 time  0.8313412427902221 fob = -391.6616570377145\n",
            "ite  32 time  0.8571421305338541 fob = -391.66165703771446\n",
            "ite  33 time  0.88319224913915 fob = -391.6616570377145\n",
            "ite  34 time  0.908661154905955 fob = -391.6616570377145\n",
            "ite  35 time  0.9349244634310404 fob = -391.6616570377145\n",
            "ite  36 time  0.9606086810429891 fob = -391.6616570377145\n",
            "ite  37 time  0.98620103597641 fob = -391.6616570377145\n",
            "ite  38 time  1.0122154792149862 fob = -391.66165703771446\n",
            "ite  39 time  1.0381169199943543 fob = -391.6616570377145\n",
            "ite  40 time  1.0644466638565064 fob = -391.66165703771446\n",
            "ite  41 time  1.0899422764778137 fob = -391.6616570377145\n",
            "ite  42 time  1.1156123240788778 fob = -391.6616570377145\n",
            "ite  43 time  1.141788160800934 fob = -391.6616570377145\n",
            "ite  44 time  1.1679084102312725 fob = -391.66165703771446\n",
            "ite  45 time  1.193791937828064 fob = -391.6616570377145\n",
            "ite  46 time  1.219994568824768 fob = -391.6616570377145\n",
            "ite  47 time  1.2461238900820415 fob = -391.6616570377146\n",
            "ite  48 time  1.2725185354550679 fob = -391.6616570377146\n",
            "ite  49 time  1.2982084592183432 fob = -391.66165703771446\n"
          ],
          "name": "stdout"
        }
      ]
    },
    {
      "cell_type": "code",
      "metadata": {
        "id": "vxovHXZqNuYh"
      },
      "source": [
        "IND_XY = np.argsort(np.array(BEST_XY[:,-1]))\n",
        "BEST_XY = BEST_XY[IND_XY,:]"
      ],
      "execution_count": 7,
      "outputs": []
    },
    {
      "cell_type": "code",
      "metadata": {
        "id": "iNdcjVsFN15n"
      },
      "source": [
        "JADE_BEST=BEST_XY[0]\n",
        "JADE_WORSE=BEST_XY[-1]\n",
        "JADE_MEAN=np.mean(BEST_XY,axis=0)\n",
        "JADE_MAXFO=BEST_XY[:,-1].max()\n",
        "JADE_MINFO=BEST_XY[:,-1].min()\n",
        "JADE_STD=BEST_XY[:,-1].std()\n",
        "JADE_BEST=BEST_XY[(rows-1),(cols-1)]"
      ],
      "execution_count": 8,
      "outputs": []
    },
    {
      "cell_type": "code",
      "metadata": {
        "id": "lNSN5X-wskcx",
        "colab": {
          "base_uri": "https://localhost:8080/"
        },
        "outputId": "96b7a8a0-bab8-4681-8ea7-4eb376638a35"
      },
      "source": [
        "print('======== JADE ==============')\n",
        "print('NPAR=',NPAR,'Iterações=',ITE*its,'Dim=', dim,\"Min/Max=\",MIN[0],\"/\",MAX[0],'_',Fun.__name__)\n",
        "print()\n",
        "print('MÉDIA: ',JADE_MEAN[-1])\n",
        "print('MIN __:',JADE_MINFO)\n",
        "print('MAX__: ',JADE_MAXFO)\n",
        "print('STD __:',JADE_STD)\n",
        "print(\"Tempo Médio= %.3f segundos ---\" % (JADE_TIME))\n",
        "print(RUNS,'Rodadas') \n",
        "print()\n",
        "print('BEST: ',JADE_MINFO)\n",
        "\n",
        "print(JADE_MEAN[-1])\n",
        "print(JADE_STD)\n",
        "print(JADE_MINFO)\n"
      ],
      "execution_count": 9,
      "outputs": [
        {
          "output_type": "stream",
          "text": [
            "======== JADE ==============\n",
            "NPAR= 100 Iterações= 2000 Dim= 10 Min/Max= -5 / 5 _ Styblinskitank\n",
            "\n",
            "MÉDIA:  -391.66165703771435\n",
            "MIN __: -391.6616570377146\n",
            "MAX__:  -391.66165703771446\n",
            "STD __: 1.2349551629086153e-13\n",
            "Tempo Médio= 1.558 segundos ---\n",
            "50 Rodadas\n",
            "\n",
            "BEST:  -391.6616570377146\n",
            "-391.66165703771435\n",
            "1.2349551629086153e-13\n",
            "-391.6616570377146\n"
          ],
          "name": "stdout"
        }
      ]
    }
  ]
}