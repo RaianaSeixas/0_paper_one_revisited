{
  "nbformat": 4,
  "nbformat_minor": 0,
  "metadata": {
    "colab": {
      "name": " JADE_PenaltyOne_D10.ipynb",
      "provenance": [],
      "collapsed_sections": [],
      "include_colab_link": true
    },
    "kernelspec": {
      "display_name": "Python 3",
      "name": "python3"
    },
    "language_info": {
      "codemirror_mode": {
        "name": "ipython",
        "version": 3
      },
      "file_extension": ".py",
      "mimetype": "text/x-python",
      "name": "python",
      "nbconvert_exporter": "python",
      "pygments_lexer": "ipython3",
      "version": "3.7.3"
    }
  },
  "cells": [
    {
      "cell_type": "markdown",
      "metadata": {
        "id": "view-in-github",
        "colab_type": "text"
      },
      "source": [
        "<a href=\"https://colab.research.google.com/github/RaianaSeixas/0_paper_one_revisited/blob/main/JADE/JADE_PenaltyOne_D10.ipynb\" target=\"_parent\"><img src=\"https://colab.research.google.com/assets/colab-badge.svg\" alt=\"Open In Colab\"/></a>"
      ]
    },
    {
      "cell_type": "code",
      "metadata": {
        "id": "IviJOU5POtN8",
        "colab": {
          "base_uri": "https://localhost:8080/"
        },
        "outputId": "4febc929-df51-4d6c-9fe5-40f155e64486"
      },
      "source": [
        "############################### Importar códigos\n",
        "!git clone https://github.com/ucfilho/optim_raianars_Insight\n",
        "%cd optim_raianars_Insight"
      ],
      "execution_count": 1,
      "outputs": [
        {
          "output_type": "stream",
          "text": [
            "Cloning into 'optim_raianars_Insight'...\n",
            "remote: Enumerating objects: 375, done.\u001b[K\n",
            "remote: Counting objects: 100% (61/61), done.\u001b[K\n",
            "remote: Compressing objects: 100% (61/61), done.\u001b[K\n",
            "remote: Total 375 (delta 35), reused 0 (delta 0), pack-reused 314\u001b[K\n",
            "Receiving objects: 100% (375/375), 327.03 KiB | 17.21 MiB/s, done.\n",
            "Resolving deltas: 100% (216/216), done.\n",
            "/content/optim_raianars_Insight\n"
          ],
          "name": "stdout"
        }
      ]
    },
    {
      "cell_type": "code",
      "metadata": {
        "id": "_E15mKFURR6O"
      },
      "source": [
        "import Function\n",
        "import Go2MinMax\n",
        "import numpy as np\n",
        "import time\n",
        "import matplotlib.pyplot as plt\n",
        "from random import randint\n",
        "import pandas as pd\n",
        "\n",
        "############################### Função\n",
        "dim=10 # \n",
        "fchoice='PenaltyOne'\n",
        "Fun=Function.PenaltyOne\n",
        "MIN,MAX=Go2MinMax.Intervalo(dim,fchoice)\n",
        "#MAX=np.repeat(1.28,dim)\n",
        "#MIN=np.repeat(-1.28,dim)\n",
        "\n",
        "bounds=[]\n",
        "for k in range(len(MAX)):\n",
        "  bounds.append((MIN[k],MAX[k]))\n",
        "\n",
        "############################### DADOS DE ENTRADA \n",
        "RUNS=50 #NÚMERO DE RODADAS\n",
        "Fc=0.1 # fator de correcao parametros da ANN\n",
        "its=1 #10 # quantas vezes vai usar o NPAR antes de alterar de novo\n",
        "ITE=2000 #00 #10 # PONTOS quantas vezes vai alteral NPAR \n",
        "NPAR=100\n"
      ],
      "execution_count": 2,
      "outputs": []
    },
    {
      "cell_type": "code",
      "metadata": {
        "id": "lAVDJIRmNQUC",
        "colab": {
          "base_uri": "https://localhost:8080/"
        },
        "outputId": "bfa04940-17b3-46da-c584-be85772a1578"
      },
      "source": [
        "!pip install PyFDE"
      ],
      "execution_count": 3,
      "outputs": [
        {
          "output_type": "stream",
          "text": [
            "Collecting PyFDE\n",
            "\u001b[?25l  Downloading https://files.pythonhosted.org/packages/72/f9/87f7279554d2682e3827d39c3d3a565b2fd42f7114a779e34a601c6c5079/PyFDE-1.3.0.tar.gz (397kB)\n",
            "\r\u001b[K     |▉                               | 10kB 15.3MB/s eta 0:00:01\r\u001b[K     |█▋                              | 20kB 20.8MB/s eta 0:00:01\r\u001b[K     |██▌                             | 30kB 19.4MB/s eta 0:00:01\r\u001b[K     |███▎                            | 40kB 17.4MB/s eta 0:00:01\r\u001b[K     |████▏                           | 51kB 9.8MB/s eta 0:00:01\r\u001b[K     |█████                           | 61kB 10.2MB/s eta 0:00:01\r\u001b[K     |█████▊                          | 71kB 9.4MB/s eta 0:00:01\r\u001b[K     |██████▋                         | 81kB 10.4MB/s eta 0:00:01\r\u001b[K     |███████▍                        | 92kB 11.0MB/s eta 0:00:01\r\u001b[K     |████████▎                       | 102kB 9.1MB/s eta 0:00:01\r\u001b[K     |█████████                       | 112kB 9.1MB/s eta 0:00:01\r\u001b[K     |██████████                      | 122kB 9.1MB/s eta 0:00:01\r\u001b[K     |██████████▊                     | 133kB 9.1MB/s eta 0:00:01\r\u001b[K     |███████████▌                    | 143kB 9.1MB/s eta 0:00:01\r\u001b[K     |████████████▍                   | 153kB 9.1MB/s eta 0:00:01\r\u001b[K     |█████████████▏                  | 163kB 9.1MB/s eta 0:00:01\r\u001b[K     |██████████████                  | 174kB 9.1MB/s eta 0:00:01\r\u001b[K     |██████████████▉                 | 184kB 9.1MB/s eta 0:00:01\r\u001b[K     |███████████████▊                | 194kB 9.1MB/s eta 0:00:01\r\u001b[K     |████████████████▌               | 204kB 9.1MB/s eta 0:00:01\r\u001b[K     |█████████████████▎              | 215kB 9.1MB/s eta 0:00:01\r\u001b[K     |██████████████████▏             | 225kB 9.1MB/s eta 0:00:01\r\u001b[K     |███████████████████             | 235kB 9.1MB/s eta 0:00:01\r\u001b[K     |███████████████████▉            | 245kB 9.1MB/s eta 0:00:01\r\u001b[K     |████████████████████▋           | 256kB 9.1MB/s eta 0:00:01\r\u001b[K     |█████████████████████▌          | 266kB 9.1MB/s eta 0:00:01\r\u001b[K     |██████████████████████▎         | 276kB 9.1MB/s eta 0:00:01\r\u001b[K     |███████████████████████         | 286kB 9.1MB/s eta 0:00:01\r\u001b[K     |████████████████████████        | 296kB 9.1MB/s eta 0:00:01\r\u001b[K     |████████████████████████▊       | 307kB 9.1MB/s eta 0:00:01\r\u001b[K     |█████████████████████████▋      | 317kB 9.1MB/s eta 0:00:01\r\u001b[K     |██████████████████████████▍     | 327kB 9.1MB/s eta 0:00:01\r\u001b[K     |███████████████████████████▎    | 337kB 9.1MB/s eta 0:00:01\r\u001b[K     |████████████████████████████    | 348kB 9.1MB/s eta 0:00:01\r\u001b[K     |████████████████████████████▉   | 358kB 9.1MB/s eta 0:00:01\r\u001b[K     |█████████████████████████████▊  | 368kB 9.1MB/s eta 0:00:01\r\u001b[K     |██████████████████████████████▌ | 378kB 9.1MB/s eta 0:00:01\r\u001b[K     |███████████████████████████████▍| 389kB 9.1MB/s eta 0:00:01\r\u001b[K     |████████████████████████████████| 399kB 9.1MB/s \n",
            "\u001b[?25hRequirement already satisfied: numpy in /usr/local/lib/python3.7/dist-packages (from PyFDE) (1.19.5)\n",
            "Building wheels for collected packages: PyFDE\n",
            "  Building wheel for PyFDE (setup.py) ... \u001b[?25l\u001b[?25hdone\n",
            "  Created wheel for PyFDE: filename=PyFDE-1.3.0-cp37-cp37m-linux_x86_64.whl size=974702 sha256=42bbf8b54a413045c87e344076738bbd347244c283f1f1aea34d817d241124fb\n",
            "  Stored in directory: /root/.cache/pip/wheels/7d/42/ba/abf21db37934e576c74fc2c9504b5cd97eb6a99e3dec1743c0\n",
            "Successfully built PyFDE\n",
            "Installing collected packages: PyFDE\n",
            "Successfully installed PyFDE-1.3.0\n"
          ],
          "name": "stdout"
        }
      ]
    },
    {
      "cell_type": "code",
      "metadata": {
        "id": "E7DrzRqmM2j8"
      },
      "source": [
        "import pyfde\n",
        "solver = pyfde.JADE(Fun, n_dim= dim, n_pop=NPAR, limits=bounds, minimize=True)\n",
        "solver.p = 0.05\n",
        "solver.c = 0.1"
      ],
      "execution_count": 4,
      "outputs": []
    },
    {
      "cell_type": "code",
      "metadata": {
        "id": "NnOvinHvNl_p"
      },
      "source": [
        "start_time = time.time()\n",
        "BEST_AGENTS=[]\n",
        "MAT_stat=[]"
      ],
      "execution_count": 5,
      "outputs": []
    },
    {
      "cell_type": "code",
      "metadata": {
        "id": "3-uCNVsZNnqa",
        "colab": {
          "base_uri": "https://localhost:8080/"
        },
        "outputId": "88bdb22b-8ff9-4fde-fb33-64e19f223fec"
      },
      "source": [
        "start_time = time.time()\n",
        "BEST_AGENTS=[]\n",
        "BEST_FIT =[]\n",
        "rows = RUNS\n",
        "cols = dim + 1\n",
        "BEST_XY = np.zeros((rows,cols))\n",
        "for iii in range(RUNS):\n",
        "  solver = pyfde.JADE(Fun, n_dim= dim, n_pop=NPAR, limits=bounds, minimize=True)\n",
        "  solver.p = 0.05\n",
        "  solver.c = 0.1\n",
        "  solver.cr, solver.f = 0.5, 0.5\n",
        "  best, fit = solver.run(n_it=ITE)\n",
        "  kkk = -1\n",
        "  for xi in best:\n",
        "    kkk = kkk +1\n",
        "    BEST_XY[iii,kkk] = xi\n",
        "  BEST_XY[iii,dim] = -fit\n",
        "  BEST_AGENTS.append(best)\n",
        "  TIME = (time.time() - start_time) /60\n",
        "  BEST_FIT.append(-fit)\n",
        "  print('ite ', iii,'time ', TIME,'fob =', -fit)\n",
        "    \n",
        "############################## Cálculo dos Parâmetros de Avaliação   \n",
        "JADE_TIME = (time.time() - start_time)/RUNS"
      ],
      "execution_count": 6,
      "outputs": [
        {
          "output_type": "stream",
          "text": [
            "ite  0 time  0.13627398014068604 fob = 4.7116343153599164e-32\n",
            "ite  1 time  0.273001499970754 fob = 4.7116343153599164e-32\n",
            "ite  2 time  0.40790959596633913 fob = 4.7116343153599164e-32\n",
            "ite  3 time  0.5436817924181621 fob = 4.7116343153599164e-32\n",
            "ite  4 time  0.6815770904223124 fob = 4.7116343153599164e-32\n",
            "ite  5 time  0.81874045530955 fob = 4.7116343153599164e-32\n",
            "ite  6 time  0.957678206761678 fob = 4.7116343153599164e-32\n",
            "ite  7 time  1.097624707221985 fob = 4.7116343153599164e-32\n",
            "ite  8 time  1.2344792803128561 fob = 4.7116343153599164e-32\n",
            "ite  9 time  1.3713321248690287 fob = 4.7116343153599164e-32\n",
            "ite  10 time  1.5065948526064554 fob = 4.7116343153599164e-32\n",
            "ite  11 time  1.642697536945343 fob = 4.7116343153599164e-32\n",
            "ite  12 time  1.77852942943573 fob = 4.7116343153599164e-32\n",
            "ite  13 time  1.9143894116083782 fob = 4.7116343153599164e-32\n",
            "ite  14 time  2.050152309735616 fob = 4.7116343153599164e-32\n",
            "ite  15 time  2.187187548478444 fob = 4.7116343153599164e-32\n",
            "ite  16 time  2.3254331707954408 fob = 4.7116343153599164e-32\n",
            "ite  17 time  2.4643760323524475 fob = 4.7116343153599164e-32\n",
            "ite  18 time  2.599391142527262 fob = 4.7116343153599164e-32\n",
            "ite  19 time  2.736148218313853 fob = 4.7116343153599164e-32\n",
            "ite  20 time  2.872686731815338 fob = 4.7116343153599164e-32\n",
            "ite  21 time  3.0108760436375936 fob = 4.7116343153599164e-32\n",
            "ite  22 time  3.1472439765930176 fob = 4.7116343153599164e-32\n",
            "ite  23 time  3.282282380263011 fob = 4.7116343153599164e-32\n",
            "ite  24 time  3.4177411754926044 fob = 4.7116343153599164e-32\n",
            "ite  25 time  3.5529859185218813 fob = 4.7116343153599164e-32\n",
            "ite  26 time  3.6916861653327944 fob = 4.7116343153599164e-32\n",
            "ite  27 time  3.8296098828315737 fob = 4.7116343153599164e-32\n",
            "ite  28 time  3.9661134918530783 fob = 4.7116343153599164e-32\n",
            "ite  29 time  4.101783049106598 fob = 4.7116343153599164e-32\n",
            "ite  30 time  4.238926116625468 fob = 4.7116343153599164e-32\n",
            "ite  31 time  4.376351491610209 fob = 4.7116343153599164e-32\n",
            "ite  32 time  4.515874095757803 fob = 4.7116343153599164e-32\n",
            "ite  33 time  4.654622292518615 fob = 4.7116343153599164e-32\n",
            "ite  34 time  4.792122916380564 fob = 4.7116343153599164e-32\n",
            "ite  35 time  4.928158307075501 fob = 4.7116343153599164e-32\n",
            "ite  36 time  5.065556248029073 fob = 4.7116343153599164e-32\n",
            "ite  37 time  5.2004398544629415 fob = 4.7116343153599164e-32\n",
            "ite  38 time  5.33612593015035 fob = 4.7116343153599164e-32\n",
            "ite  39 time  5.473273499806722 fob = 4.7116343153599164e-32\n",
            "ite  40 time  5.611589554945628 fob = 4.7116343153599164e-32\n",
            "ite  41 time  5.747602721055348 fob = 4.7116343153599164e-32\n",
            "ite  42 time  5.883401946226756 fob = 4.7116343153599164e-32\n",
            "ite  43 time  6.0189749280611675 fob = 4.7116343153599164e-32\n",
            "ite  44 time  6.158573734760284 fob = 4.7116343153599164e-32\n",
            "ite  45 time  6.298473568757375 fob = 4.7116343153599164e-32\n",
            "ite  46 time  6.436465954780578 fob = 4.7116343153599164e-32\n",
            "ite  47 time  6.574996956189474 fob = 4.7116343153599164e-32\n",
            "ite  48 time  6.71120453675588 fob = 4.7116343153599164e-32\n",
            "ite  49 time  6.85049817164739 fob = 4.7116343153599164e-32\n"
          ],
          "name": "stdout"
        }
      ]
    },
    {
      "cell_type": "code",
      "metadata": {
        "id": "vxovHXZqNuYh"
      },
      "source": [
        "IND_XY = np.argsort(np.array(BEST_XY[:,-1]))\n",
        "BEST_XY = BEST_XY[IND_XY,:]"
      ],
      "execution_count": 7,
      "outputs": []
    },
    {
      "cell_type": "code",
      "metadata": {
        "id": "iNdcjVsFN15n"
      },
      "source": [
        "JADE_BEST=BEST_XY[0]\n",
        "JADE_WORSE=BEST_XY[-1]\n",
        "JADE_MEAN=np.mean(BEST_XY,axis=0)\n",
        "JADE_MAXFO=BEST_XY[:,-1].max()\n",
        "JADE_MINFO=BEST_XY[:,-1].min()\n",
        "JADE_STD=BEST_XY[:,-1].std()\n",
        "JADE_BEST=BEST_XY[(rows-1),(cols-1)]"
      ],
      "execution_count": 8,
      "outputs": []
    },
    {
      "cell_type": "code",
      "metadata": {
        "id": "lNSN5X-wskcx",
        "colab": {
          "base_uri": "https://localhost:8080/"
        },
        "outputId": "65e4f8d3-159b-42e4-9e33-6272099b0fc4"
      },
      "source": [
        "print('======== JADE ==============')\n",
        "print('NPAR=',NPAR,'Iterações=',ITE*its,'Dim=', dim,\"Min/Max=\",MIN[0],\"/\",MAX[0],'_',Fun.__name__)\n",
        "print()\n",
        "print('MÉDIA: ',JADE_MEAN[-1])\n",
        "print('MIN __:',JADE_MINFO)\n",
        "print('MAX__: ',JADE_MAXFO)\n",
        "print('STD __:',JADE_STD)\n",
        "print(\"Tempo Médio= %.3f segundos ---\" % (JADE_TIME))\n",
        "print(RUNS,'Rodadas') \n",
        "print()\n",
        "print('BEST: ',JADE_MINFO)\n",
        "\n",
        "print(JADE_MEAN[-1])\n",
        "print(JADE_STD)\n",
        "print(JADE_MINFO)\n"
      ],
      "execution_count": 9,
      "outputs": [
        {
          "output_type": "stream",
          "text": [
            "======== JADE ==============\n",
            "NPAR= 100 Iterações= 2000 Dim= 10 Min/Max= -50 / 50 _ PenaltyOne\n",
            "\n",
            "MÉDIA:  4.711634315359915e-32\n",
            "MIN __: 4.7116343153599164e-32\n",
            "MAX__:  4.7116343153599164e-32\n",
            "STD __: 1.0947644252537633e-47\n",
            "Tempo Médio= 8.221 segundos ---\n",
            "50 Rodadas\n",
            "\n",
            "BEST:  4.7116343153599164e-32\n",
            "4.711634315359915e-32\n",
            "1.0947644252537633e-47\n",
            "4.7116343153599164e-32\n"
          ],
          "name": "stdout"
        }
      ]
    }
  ]
}