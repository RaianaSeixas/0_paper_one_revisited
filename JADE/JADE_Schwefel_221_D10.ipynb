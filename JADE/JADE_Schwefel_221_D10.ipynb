{
  "nbformat": 4,
  "nbformat_minor": 0,
  "metadata": {
    "colab": {
      "name": "JADE_Schwefel_221_D10.ipynb",
      "provenance": [],
      "collapsed_sections": [],
      "include_colab_link": true
    },
    "kernelspec": {
      "display_name": "Python 3",
      "name": "python3"
    },
    "language_info": {
      "codemirror_mode": {
        "name": "ipython",
        "version": 3
      },
      "file_extension": ".py",
      "mimetype": "text/x-python",
      "name": "python",
      "nbconvert_exporter": "python",
      "pygments_lexer": "ipython3",
      "version": "3.7.3"
    }
  },
  "cells": [
    {
      "cell_type": "markdown",
      "metadata": {
        "id": "view-in-github",
        "colab_type": "text"
      },
      "source": [
        "<a href=\"https://colab.research.google.com/github/RaianaSeixas/0_paper_one_revisited/blob/main/JADE/JADE_Schwefel_221_D10.ipynb\" target=\"_parent\"><img src=\"https://colab.research.google.com/assets/colab-badge.svg\" alt=\"Open In Colab\"/></a>"
      ]
    },
    {
      "cell_type": "code",
      "metadata": {
        "colab": {
          "base_uri": "https://localhost:8080/"
        },
        "id": "IviJOU5POtN8",
        "outputId": "c15342d0-2d71-4b26-957b-326617ec0828"
      },
      "source": [
        "############################### Importar códigos\n",
        "!git clone https://github.com/ucfilho/optim_raianars_Insight\n",
        "%cd optim_raianars_Insight"
      ],
      "execution_count": 14,
      "outputs": [
        {
          "output_type": "stream",
          "text": [
            "Cloning into 'optim_raianars_Insight'...\n",
            "remote: Enumerating objects: 372, done.\u001b[K\n",
            "remote: Counting objects: 100% (58/58), done.\u001b[K\n",
            "remote: Compressing objects: 100% (58/58), done.\u001b[K\n",
            "remote: Total 372 (delta 33), reused 0 (delta 0), pack-reused 314\u001b[K\n",
            "Receiving objects: 100% (372/372), 326.38 KiB | 3.88 MiB/s, done.\n",
            "Resolving deltas: 100% (214/214), done.\n",
            "/content/optim_raianars_Insight/optim_raianars_Insight/optim_raianars_Insight\n"
          ],
          "name": "stdout"
        }
      ]
    },
    {
      "cell_type": "code",
      "metadata": {
        "id": "_E15mKFURR6O"
      },
      "source": [
        "import Function\n",
        "import Go2MinMax\n",
        "import numpy as np\n",
        "import time\n",
        "import matplotlib.pyplot as plt\n",
        "from random import randint\n",
        "import pandas as pd\n",
        "\n",
        "############################### Função\n",
        "dim=10 # \n",
        "fchoice='Schwefel_221'\n",
        "Fun=Function.Schwefel_221\n",
        "MIN,MAX=Go2MinMax.Intervalo(dim,fchoice)\n",
        "#MAX=np.repeat(1.28,dim)\n",
        "#MIN=np.repeat(-1.28,dim)\n",
        "\n",
        "bounds=[]\n",
        "for k in range(len(MAX)):\n",
        "  bounds.append((MIN[k],MAX[k]))\n",
        "\n",
        "############################### DADOS DE ENTRADA \n",
        "RUNS=50 #NÚMERO DE RODADAS\n",
        "Fc=0.1 # fator de correcao parametros da ANN\n",
        "its=1 #10 # quantas vezes vai usar o NPAR antes de alterar de novo\n",
        "ITE=2000 #00 #10 # PONTOS quantas vezes vai alteral NPAR \n",
        "NPAR=100\n"
      ],
      "execution_count": 15,
      "outputs": []
    },
    {
      "cell_type": "code",
      "metadata": {
        "colab": {
          "base_uri": "https://localhost:8080/"
        },
        "id": "lAVDJIRmNQUC",
        "outputId": "1e244ce2-24d4-425c-e791-2cae735ce0ad"
      },
      "source": [
        "!pip install PyFDE"
      ],
      "execution_count": 16,
      "outputs": [
        {
          "output_type": "stream",
          "text": [
            "Requirement already satisfied: PyFDE in /usr/local/lib/python3.7/dist-packages (1.3.0)\n",
            "Requirement already satisfied: numpy in /usr/local/lib/python3.7/dist-packages (from PyFDE) (1.19.5)\n"
          ],
          "name": "stdout"
        }
      ]
    },
    {
      "cell_type": "code",
      "metadata": {
        "id": "E7DrzRqmM2j8"
      },
      "source": [
        "import pyfde\n",
        "solver = pyfde.JADE(Fun, n_dim= dim, n_pop=NPAR, limits=bounds, minimize=True)\n",
        "solver.p = 0.05\n",
        "solver.c = 0.1"
      ],
      "execution_count": 17,
      "outputs": []
    },
    {
      "cell_type": "code",
      "metadata": {
        "id": "NnOvinHvNl_p"
      },
      "source": [
        "start_time = time.time()\n",
        "BEST_AGENTS=[]\n",
        "MAT_stat=[]"
      ],
      "execution_count": 18,
      "outputs": []
    },
    {
      "cell_type": "code",
      "metadata": {
        "id": "3-uCNVsZNnqa",
        "colab": {
          "base_uri": "https://localhost:8080/"
        },
        "outputId": "60d49927-cfa4-4821-8f51-8fed6f455fad"
      },
      "source": [
        "start_time = time.time()\n",
        "BEST_AGENTS=[]\n",
        "BEST_FIT =[]\n",
        "rows = RUNS\n",
        "cols = dim + 1\n",
        "BEST_XY = np.zeros((rows,cols))\n",
        "for iii in range(RUNS):\n",
        "  solver = pyfde.JADE(Fun, n_dim= dim, n_pop=NPAR, limits=bounds, minimize=True)\n",
        "  solver.p = 0.05\n",
        "  solver.c = 0.1\n",
        "  solver.cr, solver.f = 0.5, 0.5\n",
        "  best, fit = solver.run(n_it=ITE)\n",
        "  kkk = -1\n",
        "  for xi in best:\n",
        "    kkk = kkk +1\n",
        "    BEST_XY[iii,kkk] = xi\n",
        "  BEST_XY[iii,dim] = -fit\n",
        "  BEST_AGENTS.append(best)\n",
        "  TIME = (time.time() - start_time) /60\n",
        "  BEST_FIT.append(-fit)\n",
        "  print('ite ', iii,'time ', TIME,'fob =', -fit)\n",
        "    \n",
        "############################## Cálculo dos Parâmetros de Avaliação   \n",
        "JADE_TIME = (time.time() - start_time)/RUNS"
      ],
      "execution_count": 19,
      "outputs": [
        {
          "output_type": "stream",
          "text": [
            "ite  0 time  0.019224131107330324 fob = 2.3538157693100904e-64\n",
            "ite  1 time  0.038242844740549724 fob = 3.7233506809960504e-65\n",
            "ite  2 time  0.05728235244750977 fob = 2.2652293186204047e-64\n",
            "ite  3 time  0.07632712125778199 fob = 9.38395199138236e-63\n",
            "ite  4 time  0.09529057343800863 fob = 9.33276992215355e-63\n",
            "ite  5 time  0.11449091831843058 fob = 1.1164595913956289e-64\n",
            "ite  6 time  0.1344775120417277 fob = 1.0349267321737771e-64\n",
            "ite  7 time  0.1531898816426595 fob = 6.219395928052378e-64\n",
            "ite  8 time  0.17203608353932698 fob = 1.1016690507712992e-64\n",
            "ite  9 time  0.19081371227900187 fob = 2.758997805231554e-65\n",
            "ite  10 time  0.2093599994977315 fob = 3.218391069279099e-66\n",
            "ite  11 time  0.2279040575027466 fob = 1.0716863790358954e-65\n",
            "ite  12 time  0.2466909408569336 fob = 4.880479980435658e-65\n",
            "ite  13 time  0.26525985399881996 fob = 3.5406887792674417e-65\n",
            "ite  14 time  0.2838686227798462 fob = 3.209234309163185e-65\n",
            "ite  15 time  0.30192091862360637 fob = 8.882584673599664e-63\n",
            "ite  16 time  0.3202486872673035 fob = 2.57665784556085e-63\n",
            "ite  17 time  0.33888574441274005 fob = 5.0322857173472105e-65\n",
            "ite  18 time  0.35835028886795045 fob = 5.147296572999955e-67\n",
            "ite  19 time  0.37737208207448325 fob = 4.917204787172363e-65\n",
            "ite  20 time  0.39610838492711387 fob = 1.763505143223531e-65\n",
            "ite  21 time  0.41476730108261106 fob = 2.2464422851593268e-63\n",
            "ite  22 time  0.433470630645752 fob = 5.885283566510271e-66\n",
            "ite  23 time  0.4523258169492086 fob = 1.2255164807279774e-63\n",
            "ite  24 time  0.4717836538950602 fob = 1.1397469795705595e-65\n",
            "ite  25 time  0.49039079745610553 fob = 2.628455048410876e-63\n",
            "ite  26 time  0.5088690042495727 fob = 9.577506596852556e-63\n",
            "ite  27 time  0.5278499325116476 fob = 3.254069502997493e-65\n",
            "ite  28 time  0.5461688915888468 fob = 1.2837256650983256e-63\n",
            "ite  29 time  0.5648987332979838 fob = 1.0516062297197066e-63\n",
            "ite  30 time  0.5839429895083109 fob = 1.6686898932828523e-65\n",
            "ite  31 time  0.6027551531791687 fob = 3.6129743826323645e-64\n",
            "ite  32 time  0.622359017531077 fob = 2.1351787514964918e-61\n",
            "ite  33 time  0.6420580824216207 fob = 1.439725578582591e-66\n",
            "ite  34 time  0.6605881929397583 fob = 1.6094483511817957e-64\n",
            "ite  35 time  0.6792399406433105 fob = 1.2905221810477372e-64\n",
            "ite  36 time  0.6977741956710816 fob = 3.3527023137901555e-64\n",
            "ite  37 time  0.7162272731463114 fob = 1.881361862870887e-64\n",
            "ite  38 time  0.7351949652036031 fob = 4.22564931432356e-65\n",
            "ite  39 time  0.7539834777514139 fob = 3.963661206961561e-65\n",
            "ite  40 time  0.7728869438171386 fob = 4.406236233732512e-64\n",
            "ite  41 time  0.7918052037556966 fob = 1.4848867657932422e-64\n",
            "ite  42 time  0.8102747241655985 fob = 1.5203317109714728e-64\n",
            "ite  43 time  0.8291103959083557 fob = 2.0516295599311497e-63\n",
            "ite  44 time  0.8482343037923177 fob = 2.754811258642558e-64\n",
            "ite  45 time  0.8671646118164062 fob = 2.548338207389362e-65\n",
            "ite  46 time  0.8862285852432251 fob = 2.0352506240341133e-64\n",
            "ite  47 time  0.9048656344413757 fob = 1.0422810728306289e-64\n",
            "ite  48 time  0.923405647277832 fob = 2.800583526932248e-67\n",
            "ite  49 time  0.9416417916615804 fob = 5.69162139386825e-65\n"
          ],
          "name": "stdout"
        }
      ]
    },
    {
      "cell_type": "code",
      "metadata": {
        "id": "vxovHXZqNuYh"
      },
      "source": [
        "IND_XY = np.argsort(np.array(BEST_XY[:,-1]))\n",
        "BEST_XY = BEST_XY[IND_XY,:]"
      ],
      "execution_count": 20,
      "outputs": []
    },
    {
      "cell_type": "code",
      "metadata": {
        "id": "iNdcjVsFN15n"
      },
      "source": [
        "JADE_BEST=BEST_XY[0]\n",
        "JADE_WORSE=BEST_XY[-1]\n",
        "JADE_MEAN=np.mean(BEST_XY,axis=0)\n",
        "JADE_MAXFO=BEST_XY[:,-1].max()\n",
        "JADE_MINFO=BEST_XY[:,-1].min()\n",
        "JADE_STD=BEST_XY[:,-1].std()\n",
        "JADE_BEST=BEST_XY[(rows-1),(cols-1)]"
      ],
      "execution_count": 21,
      "outputs": []
    },
    {
      "cell_type": "code",
      "metadata": {
        "id": "lNSN5X-wskcx",
        "colab": {
          "base_uri": "https://localhost:8080/"
        },
        "outputId": "2c74e6cb-36cb-494f-a120-512147cda423"
      },
      "source": [
        "print('======== JADE ==============')\n",
        "print('NPAR=',NPAR,'Iterações=',ITE*its,'Dim=', dim,\"Min/Max=\",MIN[0],\"/\",MAX[0],'_',Fun.__name__)\n",
        "print()\n",
        "print('MÉDIA: ',JADE_MEAN[-1])\n",
        "print('MIN __:',JADE_MINFO)\n",
        "print('MAX__: ',JADE_MAXFO)\n",
        "print('STD __:',JADE_STD)\n",
        "print(\"Tempo Médio= %.3f segundos ---\" % (JADE_TIME))\n",
        "print(RUNS,'Rodadas') \n",
        "print()\n",
        "print('BEST: ',JADE_MINFO)\n",
        "\n",
        "print(JADE_MEAN[-1])\n",
        "print(JADE_STD)\n",
        "print(JADE_MINFO)\n"
      ],
      "execution_count": 24,
      "outputs": [
        {
          "output_type": "stream",
          "text": [
            "======== JADE ==============\n",
            "NPAR= 100 Iterações= 2000 Dim= 10 Min/Max= -100 / 100 _ Schwefel_221\n",
            "\n",
            "MÉDIA:  5.364243641041154e-63\n",
            "MIN __: 2.800583526932248e-67\n",
            "MAX__:  2.1351787514964918e-61\n",
            "STD __: 2.984131804248676e-62\n",
            "Tempo Médio= 1.130 segundos ---\n",
            "50 Rodadas\n",
            "\n",
            "BEST:  2.800583526932248e-67\n",
            "5.364243641041154e-63\n",
            "2.984131804248676e-62\n",
            "2.800583526932248e-67\n"
          ],
          "name": "stdout"
        }
      ]
    }
  ]
}