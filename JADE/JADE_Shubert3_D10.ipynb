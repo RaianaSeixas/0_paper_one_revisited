{
  "nbformat": 4,
  "nbformat_minor": 0,
  "metadata": {
    "colab": {
      "name": "JADE_Shubert3_D10.ipynb",
      "provenance": [],
      "collapsed_sections": [],
      "include_colab_link": true
    },
    "kernelspec": {
      "display_name": "Python 3",
      "name": "python3"
    },
    "language_info": {
      "codemirror_mode": {
        "name": "ipython",
        "version": 3
      },
      "file_extension": ".py",
      "mimetype": "text/x-python",
      "name": "python",
      "nbconvert_exporter": "python",
      "pygments_lexer": "ipython3",
      "version": "3.7.3"
    }
  },
  "cells": [
    {
      "cell_type": "markdown",
      "metadata": {
        "id": "view-in-github",
        "colab_type": "text"
      },
      "source": [
        "<a href=\"https://colab.research.google.com/github/RaianaSeixas/0_paper_one_revisited/blob/main/JADE/JADE_Shubert3_D10.ipynb\" target=\"_parent\"><img src=\"https://colab.research.google.com/assets/colab-badge.svg\" alt=\"Open In Colab\"/></a>"
      ]
    },
    {
      "cell_type": "code",
      "metadata": {
        "id": "IviJOU5POtN8",
        "colab": {
          "base_uri": "https://localhost:8080/"
        },
        "outputId": "566aa415-89c6-4be5-cc2c-bf96dd3307bd"
      },
      "source": [
        "############################### Importar códigos\n",
        "!git clone https://github.com/ucfilho/optim_raianars_Insight\n",
        "%cd optim_raianars_Insight"
      ],
      "execution_count": 1,
      "outputs": [
        {
          "output_type": "stream",
          "text": [
            "Cloning into 'optim_raianars_Insight'...\n",
            "remote: Enumerating objects: 375, done.\u001b[K\n",
            "remote: Counting objects: 100% (61/61), done.\u001b[K\n",
            "remote: Compressing objects: 100% (61/61), done.\u001b[K\n",
            "remote: Total 375 (delta 35), reused 0 (delta 0), pack-reused 314\u001b[K\n",
            "Receiving objects: 100% (375/375), 327.03 KiB | 20.44 MiB/s, done.\n",
            "Resolving deltas: 100% (216/216), done.\n",
            "/content/optim_raianars_Insight\n"
          ],
          "name": "stdout"
        }
      ]
    },
    {
      "cell_type": "code",
      "metadata": {
        "id": "_E15mKFURR6O"
      },
      "source": [
        "import Function\n",
        "import Go2MinMax\n",
        "import numpy as np\n",
        "import time\n",
        "import matplotlib.pyplot as plt\n",
        "from random import randint\n",
        "import pandas as pd\n",
        "\n",
        "############################### Função\n",
        "dim=10 # \n",
        "fchoice='Shubert3'\n",
        "Fun=Function.Shubert3\n",
        "MIN,MAX=Go2MinMax.Intervalo(dim,fchoice)\n",
        "#MAX=np.repeat(1.28,dim)\n",
        "#MIN=np.repeat(-1.28,dim)\n",
        "\n",
        "bounds=[]\n",
        "for k in range(len(MAX)):\n",
        "  bounds.append((MIN[k],MAX[k]))\n",
        "\n",
        "############################### DADOS DE ENTRADA \n",
        "RUNS=50 #NÚMERO DE RODADAS\n",
        "Fc=0.1 # fator de correcao parametros da ANN\n",
        "its=1 #10 # quantas vezes vai usar o NPAR antes de alterar de novo\n",
        "ITE=2000 #00 #10 # PONTOS quantas vezes vai alteral NPAR \n",
        "NPAR=100\n"
      ],
      "execution_count": 2,
      "outputs": []
    },
    {
      "cell_type": "code",
      "metadata": {
        "id": "lAVDJIRmNQUC",
        "colab": {
          "base_uri": "https://localhost:8080/"
        },
        "outputId": "a1b65f9c-8cdc-4c17-af3f-3e81625c7d94"
      },
      "source": [
        "!pip install PyFDE"
      ],
      "execution_count": 3,
      "outputs": [
        {
          "output_type": "stream",
          "text": [
            "Collecting PyFDE\n",
            "\u001b[?25l  Downloading https://files.pythonhosted.org/packages/72/f9/87f7279554d2682e3827d39c3d3a565b2fd42f7114a779e34a601c6c5079/PyFDE-1.3.0.tar.gz (397kB)\n",
            "\r\u001b[K     |▉                               | 10kB 13.3MB/s eta 0:00:01\r\u001b[K     |█▋                              | 20kB 17.6MB/s eta 0:00:01\r\u001b[K     |██▌                             | 30kB 21.0MB/s eta 0:00:01\r\u001b[K     |███▎                            | 40kB 24.2MB/s eta 0:00:01\r\u001b[K     |████▏                           | 51kB 26.4MB/s eta 0:00:01\r\u001b[K     |█████                           | 61kB 28.6MB/s eta 0:00:01\r\u001b[K     |█████▊                          | 71kB 29.1MB/s eta 0:00:01\r\u001b[K     |██████▋                         | 81kB 30.1MB/s eta 0:00:01\r\u001b[K     |███████▍                        | 92kB 29.8MB/s eta 0:00:01\r\u001b[K     |████████▎                       | 102kB 26.5MB/s eta 0:00:01\r\u001b[K     |█████████                       | 112kB 26.5MB/s eta 0:00:01\r\u001b[K     |██████████                      | 122kB 26.5MB/s eta 0:00:01\r\u001b[K     |██████████▊                     | 133kB 26.5MB/s eta 0:00:01\r\u001b[K     |███████████▌                    | 143kB 26.5MB/s eta 0:00:01\r\u001b[K     |████████████▍                   | 153kB 26.5MB/s eta 0:00:01\r\u001b[K     |█████████████▏                  | 163kB 26.5MB/s eta 0:00:01\r\u001b[K     |██████████████                  | 174kB 26.5MB/s eta 0:00:01\r\u001b[K     |██████████████▉                 | 184kB 26.5MB/s eta 0:00:01\r\u001b[K     |███████████████▊                | 194kB 26.5MB/s eta 0:00:01\r\u001b[K     |████████████████▌               | 204kB 26.5MB/s eta 0:00:01\r\u001b[K     |█████████████████▎              | 215kB 26.5MB/s eta 0:00:01\r\u001b[K     |██████████████████▏             | 225kB 26.5MB/s eta 0:00:01\r\u001b[K     |███████████████████             | 235kB 26.5MB/s eta 0:00:01\r\u001b[K     |███████████████████▉            | 245kB 26.5MB/s eta 0:00:01\r\u001b[K     |████████████████████▋           | 256kB 26.5MB/s eta 0:00:01\r\u001b[K     |█████████████████████▌          | 266kB 26.5MB/s eta 0:00:01\r\u001b[K     |██████████████████████▎         | 276kB 26.5MB/s eta 0:00:01\r\u001b[K     |███████████████████████         | 286kB 26.5MB/s eta 0:00:01\r\u001b[K     |████████████████████████        | 296kB 26.5MB/s eta 0:00:01\r\u001b[K     |████████████████████████▊       | 307kB 26.5MB/s eta 0:00:01\r\u001b[K     |█████████████████████████▋      | 317kB 26.5MB/s eta 0:00:01\r\u001b[K     |██████████████████████████▍     | 327kB 26.5MB/s eta 0:00:01\r\u001b[K     |███████████████████████████▎    | 337kB 26.5MB/s eta 0:00:01\r\u001b[K     |████████████████████████████    | 348kB 26.5MB/s eta 0:00:01\r\u001b[K     |████████████████████████████▉   | 358kB 26.5MB/s eta 0:00:01\r\u001b[K     |█████████████████████████████▊  | 368kB 26.5MB/s eta 0:00:01\r\u001b[K     |██████████████████████████████▌ | 378kB 26.5MB/s eta 0:00:01\r\u001b[K     |███████████████████████████████▍| 389kB 26.5MB/s eta 0:00:01\r\u001b[K     |████████████████████████████████| 399kB 26.5MB/s \n",
            "\u001b[?25hRequirement already satisfied: numpy in /usr/local/lib/python3.7/dist-packages (from PyFDE) (1.19.5)\n",
            "Building wheels for collected packages: PyFDE\n",
            "  Building wheel for PyFDE (setup.py) ... \u001b[?25l\u001b[?25hdone\n",
            "  Created wheel for PyFDE: filename=PyFDE-1.3.0-cp37-cp37m-linux_x86_64.whl size=974703 sha256=04165c3315794955318c301c5ed6c06ecaaf5f23e041dbc37231a79a3658e2e1\n",
            "  Stored in directory: /root/.cache/pip/wheels/7d/42/ba/abf21db37934e576c74fc2c9504b5cd97eb6a99e3dec1743c0\n",
            "Successfully built PyFDE\n",
            "Installing collected packages: PyFDE\n",
            "Successfully installed PyFDE-1.3.0\n"
          ],
          "name": "stdout"
        }
      ]
    },
    {
      "cell_type": "code",
      "metadata": {
        "id": "E7DrzRqmM2j8"
      },
      "source": [
        "import pyfde\n",
        "solver = pyfde.JADE(Fun, n_dim= dim, n_pop=NPAR, limits=bounds, minimize=True)\n",
        "solver.p = 0.05\n",
        "solver.c = 0.1"
      ],
      "execution_count": 4,
      "outputs": []
    },
    {
      "cell_type": "code",
      "metadata": {
        "id": "NnOvinHvNl_p"
      },
      "source": [
        "start_time = time.time()\n",
        "BEST_AGENTS=[]\n",
        "MAT_stat=[]"
      ],
      "execution_count": 5,
      "outputs": []
    },
    {
      "cell_type": "code",
      "metadata": {
        "id": "3-uCNVsZNnqa",
        "colab": {
          "base_uri": "https://localhost:8080/"
        },
        "outputId": "b851323d-643c-4a20-b15b-9d6c7a22aaed"
      },
      "source": [
        "start_time = time.time()\n",
        "BEST_AGENTS=[]\n",
        "BEST_FIT =[]\n",
        "rows = RUNS\n",
        "cols = dim + 1\n",
        "BEST_XY = np.zeros((rows,cols))\n",
        "for iii in range(RUNS):\n",
        "  solver = pyfde.JADE(Fun, n_dim= dim, n_pop=NPAR, limits=bounds, minimize=True)\n",
        "  solver.p = 0.05\n",
        "  solver.c = 0.1\n",
        "  solver.cr, solver.f = 0.5, 0.5\n",
        "  best, fit = solver.run(n_it=ITE)\n",
        "  kkk = -1\n",
        "  for xi in best:\n",
        "    kkk = kkk +1\n",
        "    BEST_XY[iii,kkk] = xi\n",
        "  BEST_XY[iii,dim] = -fit\n",
        "  BEST_AGENTS.append(best)\n",
        "  TIME = (time.time() - start_time) /60\n",
        "  BEST_FIT.append(-fit)\n",
        "  print('ite ', iii,'time ', TIME,'fob =', -fit)\n",
        "    \n",
        "############################## Cálculo dos Parâmetros de Avaliação   \n",
        "JADE_TIME = (time.time() - start_time)/RUNS"
      ],
      "execution_count": 6,
      "outputs": [
        {
          "output_type": "stream",
          "text": [
            "ite  0 time  0.2971849203109741 fob = -148.37950025710603\n",
            "ite  1 time  0.5889289140701294 fob = -148.37950025710603\n",
            "ite  2 time  0.8771436333656311 fob = -148.37950025710603\n",
            "ite  3 time  1.1736064910888673 fob = -148.37950025710603\n",
            "ite  4 time  1.465498435497284 fob = -148.37950025710603\n",
            "ite  5 time  1.7627546707789103 fob = -148.37950025710603\n",
            "ite  6 time  2.0563727776209513 fob = -148.37950025710603\n",
            "ite  7 time  2.352323317527771 fob = -148.379500257106\n",
            "ite  8 time  2.646599006652832 fob = -148.37950025710603\n",
            "ite  9 time  2.9426471908887226 fob = -148.379500257106\n",
            "ite  10 time  3.239695394039154 fob = -148.379500257106\n",
            "ite  11 time  3.5328930020332336 fob = -148.37950025710603\n",
            "ite  12 time  3.835788842042287 fob = -148.37950025710603\n",
            "ite  13 time  4.13555136124293 fob = -148.379500257106\n",
            "ite  14 time  4.433451521396637 fob = -148.379500257106\n",
            "ite  15 time  4.728458885351817 fob = -148.379500257106\n",
            "ite  16 time  5.025170230865479 fob = -148.379500257106\n",
            "ite  17 time  5.323690032958984 fob = -148.37950025710603\n",
            "ite  18 time  5.619171138604482 fob = -148.379500257106\n",
            "ite  19 time  5.91172069311142 fob = -148.37950025710603\n",
            "ite  20 time  6.204925048351288 fob = -148.379500257106\n",
            "ite  21 time  6.499083292484284 fob = -148.37950025710603\n",
            "ite  22 time  6.793863538901011 fob = -148.379500257106\n",
            "ite  23 time  7.088137483596801 fob = -148.379500257106\n",
            "ite  24 time  7.384777009487152 fob = -148.37950025710603\n",
            "ite  25 time  7.681653869152069 fob = -148.379500257106\n",
            "ite  26 time  7.979898567994436 fob = -148.379500257106\n",
            "ite  27 time  8.273024749755859 fob = -148.379500257106\n",
            "ite  28 time  8.570997460683186 fob = -148.379500257106\n",
            "ite  29 time  8.866445712248485 fob = -148.379500257106\n",
            "ite  30 time  9.16374546289444 fob = -148.37950025710603\n",
            "ite  31 time  9.461687231063843 fob = -148.379500257106\n",
            "ite  32 time  9.75647386709849 fob = -148.379500257106\n",
            "ite  33 time  10.0549329717954 fob = -148.379500257106\n",
            "ite  34 time  10.353024089336396 fob = -148.379500257106\n",
            "ite  35 time  10.652925622463226 fob = -148.37950025710603\n",
            "ite  36 time  10.951445933183034 fob = -148.379500257106\n",
            "ite  37 time  11.252804764111836 fob = -148.379500257106\n",
            "ite  38 time  11.55182116429011 fob = -148.379500257106\n",
            "ite  39 time  11.85085033973058 fob = -148.379500257106\n",
            "ite  40 time  12.148432131608327 fob = -148.379500257106\n",
            "ite  41 time  12.446765053272248 fob = -148.37950025710603\n",
            "ite  42 time  12.744247082869212 fob = -148.37950025710603\n",
            "ite  43 time  13.046451552708943 fob = -148.379500257106\n",
            "ite  44 time  13.348360339800516 fob = -148.379500257106\n",
            "ite  45 time  13.650682071844736 fob = -148.379500257106\n",
            "ite  46 time  13.949834303061168 fob = -148.37950025710603\n",
            "ite  47 time  14.249502976735434 fob = -148.379500257106\n",
            "ite  48 time  14.547211798032125 fob = -148.37950025710603\n",
            "ite  49 time  14.845880043506622 fob = -148.379500257106\n"
          ],
          "name": "stdout"
        }
      ]
    },
    {
      "cell_type": "code",
      "metadata": {
        "id": "vxovHXZqNuYh"
      },
      "source": [
        "IND_XY = np.argsort(np.array(BEST_XY[:,-1]))\n",
        "BEST_XY = BEST_XY[IND_XY,:]"
      ],
      "execution_count": 7,
      "outputs": []
    },
    {
      "cell_type": "code",
      "metadata": {
        "id": "iNdcjVsFN15n"
      },
      "source": [
        "JADE_BEST=BEST_XY[0]\n",
        "JADE_WORSE=BEST_XY[-1]\n",
        "JADE_MEAN=np.mean(BEST_XY,axis=0)\n",
        "JADE_MAXFO=BEST_XY[:,-1].max()\n",
        "JADE_MINFO=BEST_XY[:,-1].min()\n",
        "JADE_STD=BEST_XY[:,-1].std()\n",
        "JADE_BEST=BEST_XY[(rows-1),(cols-1)]"
      ],
      "execution_count": 8,
      "outputs": []
    },
    {
      "cell_type": "code",
      "metadata": {
        "id": "lNSN5X-wskcx",
        "colab": {
          "base_uri": "https://localhost:8080/"
        },
        "outputId": "2eca1091-1ace-4ca2-eda1-9772f2262d96"
      },
      "source": [
        "print('======== JADE ==============')\n",
        "print('NPAR=',NPAR,'Iterações=',ITE*its,'Dim=', dim,\"Min/Max=\",MIN[0],\"/\",MAX[0],'_',Fun.__name__)\n",
        "print()\n",
        "print('MÉDIA: ',JADE_MEAN[-1])\n",
        "print('MIN __:',JADE_MINFO)\n",
        "print('MAX__: ',JADE_MAXFO)\n",
        "print('STD __:',JADE_STD)\n",
        "print(\"Tempo Médio= %.3f segundos ---\" % (JADE_TIME))\n",
        "print(RUNS,'Rodadas') \n",
        "print()\n",
        "print('BEST: ',JADE_MINFO)\n",
        "\n",
        "print(JADE_MEAN[-1])\n",
        "print(JADE_STD)\n",
        "print(JADE_MINFO)\n"
      ],
      "execution_count": 9,
      "outputs": [
        {
          "output_type": "stream",
          "text": [
            "======== JADE ==============\n",
            "NPAR= 100 Iterações= 2000 Dim= 10 Min/Max= -10 / 10 _ Shubert3\n",
            "\n",
            "MÉDIA:  -148.379500257106\n",
            "MIN __: -148.37950025710603\n",
            "MAX__:  -148.379500257106\n",
            "STD __: 1.797546735911271e-14\n",
            "Tempo Médio= 17.815 segundos ---\n",
            "50 Rodadas\n",
            "\n",
            "BEST:  -148.37950025710603\n",
            "-148.379500257106\n",
            "1.797546735911271e-14\n",
            "-148.37950025710603\n"
          ],
          "name": "stdout"
        }
      ]
    }
  ]
}