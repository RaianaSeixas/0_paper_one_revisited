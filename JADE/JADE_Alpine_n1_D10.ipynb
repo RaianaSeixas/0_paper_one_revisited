{
  "nbformat": 4,
  "nbformat_minor": 0,
  "metadata": {
    "colab": {
      "name": " JADE_Alpine_n1_D10.ipynb",
      "provenance": [],
      "collapsed_sections": [],
      "include_colab_link": true
    },
    "kernelspec": {
      "display_name": "Python 3",
      "name": "python3"
    },
    "language_info": {
      "codemirror_mode": {
        "name": "ipython",
        "version": 3
      },
      "file_extension": ".py",
      "mimetype": "text/x-python",
      "name": "python",
      "nbconvert_exporter": "python",
      "pygments_lexer": "ipython3",
      "version": "3.7.3"
    }
  },
  "cells": [
    {
      "cell_type": "markdown",
      "metadata": {
        "id": "view-in-github",
        "colab_type": "text"
      },
      "source": [
        "<a href=\"https://colab.research.google.com/github/RaianaSeixas/0_paper_one_revisited/blob/main/JADE/JADE_Alpine_n1_D10.ipynb\" target=\"_parent\"><img src=\"https://colab.research.google.com/assets/colab-badge.svg\" alt=\"Open In Colab\"/></a>"
      ]
    },
    {
      "cell_type": "code",
      "metadata": {
        "id": "IviJOU5POtN8",
        "colab": {
          "base_uri": "https://localhost:8080/"
        },
        "outputId": "8a5f4713-ca67-44dc-8db4-6f21bb9d23bc"
      },
      "source": [
        "############################### Importar códigos\n",
        "!git clone https://github.com/ucfilho/optim_raianars_Insight\n",
        "%cd optim_raianars_Insight"
      ],
      "execution_count": 1,
      "outputs": [
        {
          "output_type": "stream",
          "text": [
            "Cloning into 'optim_raianars_Insight'...\n",
            "remote: Enumerating objects: 375, done.\u001b[K\n",
            "remote: Counting objects: 100% (61/61), done.\u001b[K\n",
            "remote: Compressing objects: 100% (61/61), done.\u001b[K\n",
            "remote: Total 375 (delta 35), reused 0 (delta 0), pack-reused 314\u001b[K\n",
            "Receiving objects: 100% (375/375), 327.03 KiB | 4.25 MiB/s, done.\n",
            "Resolving deltas: 100% (216/216), done.\n",
            "/content/optim_raianars_Insight\n"
          ],
          "name": "stdout"
        }
      ]
    },
    {
      "cell_type": "code",
      "metadata": {
        "id": "_E15mKFURR6O"
      },
      "source": [
        "import Function\n",
        "import Go2MinMax\n",
        "import numpy as np\n",
        "import time\n",
        "import matplotlib.pyplot as plt\n",
        "from random import randint\n",
        "import pandas as pd\n",
        "\n",
        "############################### Função\n",
        "dim=10 # \n",
        "fchoice='Alpine_n1'\n",
        "Fun=Function.Alpine_n1\n",
        "MIN,MAX=Go2MinMax.Intervalo(dim,fchoice)\n",
        "#MAX=np.repeat(1.28,dim)\n",
        "#MIN=np.repeat(-1.28,dim)\n",
        "\n",
        "bounds=[]\n",
        "for k in range(len(MAX)):\n",
        "  bounds.append((MIN[k],MAX[k]))\n",
        "\n",
        "############################### DADOS DE ENTRADA \n",
        "RUNS=50 #NÚMERO DE RODADAS\n",
        "Fc=0.1 # fator de correcao parametros da ANN\n",
        "its=1 #10 # quantas vezes vai usar o NPAR antes de alterar de novo\n",
        "ITE=2000 #00 #10 # PONTOS quantas vezes vai alteral NPAR \n",
        "NPAR=100\n"
      ],
      "execution_count": 2,
      "outputs": []
    },
    {
      "cell_type": "code",
      "metadata": {
        "id": "lAVDJIRmNQUC",
        "colab": {
          "base_uri": "https://localhost:8080/"
        },
        "outputId": "b0de2790-c217-4f31-ec47-283201c4693f"
      },
      "source": [
        "!pip install PyFDE"
      ],
      "execution_count": 3,
      "outputs": [
        {
          "output_type": "stream",
          "text": [
            "Collecting PyFDE\n",
            "\u001b[?25l  Downloading https://files.pythonhosted.org/packages/72/f9/87f7279554d2682e3827d39c3d3a565b2fd42f7114a779e34a601c6c5079/PyFDE-1.3.0.tar.gz (397kB)\n",
            "\u001b[K     |████████████████████████████████| 399kB 5.3MB/s \n",
            "\u001b[?25hRequirement already satisfied: numpy in /usr/local/lib/python3.7/dist-packages (from PyFDE) (1.19.5)\n",
            "Building wheels for collected packages: PyFDE\n",
            "  Building wheel for PyFDE (setup.py) ... \u001b[?25l\u001b[?25hdone\n",
            "  Created wheel for PyFDE: filename=PyFDE-1.3.0-cp37-cp37m-linux_x86_64.whl size=974710 sha256=4cfeafed8f450ce4edb593baf619c7da6856f224ee1ca7d43315329985d6bdc0\n",
            "  Stored in directory: /root/.cache/pip/wheels/7d/42/ba/abf21db37934e576c74fc2c9504b5cd97eb6a99e3dec1743c0\n",
            "Successfully built PyFDE\n",
            "Installing collected packages: PyFDE\n",
            "Successfully installed PyFDE-1.3.0\n"
          ],
          "name": "stdout"
        }
      ]
    },
    {
      "cell_type": "code",
      "metadata": {
        "id": "E7DrzRqmM2j8"
      },
      "source": [
        "import pyfde\n",
        "solver = pyfde.JADE(Fun, n_dim= dim, n_pop=NPAR, limits=bounds, minimize=True)\n",
        "solver.p = 0.05\n",
        "solver.c = 0.1"
      ],
      "execution_count": 4,
      "outputs": []
    },
    {
      "cell_type": "code",
      "metadata": {
        "id": "NnOvinHvNl_p"
      },
      "source": [
        "start_time = time.time()\n",
        "BEST_AGENTS=[]\n",
        "MAT_stat=[]"
      ],
      "execution_count": 5,
      "outputs": []
    },
    {
      "cell_type": "code",
      "metadata": {
        "id": "3-uCNVsZNnqa",
        "colab": {
          "base_uri": "https://localhost:8080/"
        },
        "outputId": "618c0a97-ea7f-453d-81d7-72427760edee"
      },
      "source": [
        "start_time = time.time()\n",
        "BEST_AGENTS=[]\n",
        "BEST_FIT =[]\n",
        "rows = RUNS\n",
        "cols = dim + 1\n",
        "BEST_XY = np.zeros((rows,cols))\n",
        "for iii in range(RUNS):\n",
        "  solver = pyfde.JADE(Fun, n_dim= dim, n_pop=NPAR, limits=bounds, minimize=True)\n",
        "  solver.p = 0.05\n",
        "  solver.c = 0.1\n",
        "  solver.cr, solver.f = 0.5, 0.5\n",
        "  best, fit = solver.run(n_it=ITE)\n",
        "  kkk = -1\n",
        "  for xi in best:\n",
        "    kkk = kkk +1\n",
        "    BEST_XY[iii,kkk] = xi\n",
        "  BEST_XY[iii,dim] = -fit\n",
        "  BEST_AGENTS.append(best)\n",
        "  TIME = (time.time() - start_time) /60\n",
        "  BEST_FIT.append(-fit)\n",
        "  print('ite ', iii,'time ', TIME,'fob =', -fit)\n",
        "    \n",
        "############################## Cálculo dos Parâmetros de Avaliação   \n",
        "JADE_TIME = (time.time() - start_time)/RUNS"
      ],
      "execution_count": 6,
      "outputs": [
        {
          "output_type": "stream",
          "text": [
            "ite  0 time  0.08410098950068155 fob = 5.253155041072894e-17\n",
            "ite  1 time  0.16907963355382283 fob = 1.0970247653908366e-17\n",
            "ite  2 time  0.2506735722223918 fob = 2.155954441141748e-17\n",
            "ite  3 time  0.335269562403361 fob = 1.4412064142545045e-17\n",
            "ite  4 time  0.4209135095278422 fob = 9.852695759735305e-18\n",
            "ite  5 time  0.5055257201194763 fob = 1.7243765009067985e-17\n",
            "ite  6 time  0.5907923817634583 fob = 6.3367193033455075e-18\n",
            "ite  7 time  0.6769482851028442 fob = 2.2988762745628926e-17\n",
            "ite  8 time  0.7642030517260233 fob = 5.594988657293687e-22\n",
            "ite  9 time  0.853513487180074 fob = 1.462803109508225e-18\n",
            "ite  10 time  0.9396061738332112 fob = 6.634681014671075e-17\n",
            "ite  11 time  1.0256345431009928 fob = 2.2675110206010475e-17\n",
            "ite  12 time  1.1144559462865193 fob = 5.796710873697878e-17\n",
            "ite  13 time  1.1984263857205708 fob = 2.4896071457003884e-17\n",
            "ite  14 time  1.2841702898343403 fob = 6.257668064933044e-19\n",
            "ite  15 time  1.3713269273440043 fob = 2.9256018900399606e-17\n",
            "ite  16 time  1.4554251114527383 fob = 2.2581724675720337e-17\n",
            "ite  17 time  1.5400704860687255 fob = 9.752190736376835e-18\n",
            "ite  18 time  1.6256548603375753 fob = 1.5075364441969745e-17\n",
            "ite  19 time  1.7078389883041383 fob = 2.3939183968479933e-17\n",
            "ite  20 time  1.7908361037572225 fob = 1.1880502669908326e-17\n",
            "ite  21 time  1.8755471626917521 fob = 4.905814345189837e-17\n",
            "ite  22 time  1.960292939345042 fob = 3.2361671908149185e-17\n",
            "ite  23 time  2.048489252726237 fob = 1.1418612372464067e-17\n",
            "ite  24 time  2.1399896184603375 fob = 3.882996333823089e-17\n",
            "ite  25 time  2.224651849269867 fob = 1.7388835532692536e-18\n",
            "ite  26 time  2.310772689183553 fob = 2.894185753936801e-17\n",
            "ite  27 time  2.398030082384745 fob = 3.1697633805620016e-17\n",
            "ite  28 time  2.4830212434132894 fob = 1.4310573066539022e-18\n",
            "ite  29 time  2.5676927010218304 fob = 2.908708481058255e-17\n",
            "ite  30 time  2.6529031952222186 fob = 1.6089982372608424e-17\n",
            "ite  31 time  2.738465698560079 fob = 5.90734702946078e-22\n",
            "ite  32 time  2.822524623076121 fob = 1.1342133068340795e-17\n",
            "ite  33 time  2.9049602866172792 fob = 8.420276138978708e-17\n",
            "ite  34 time  2.9886680046717324 fob = 2.9629843652902924e-17\n",
            "ite  35 time  3.070876586437225 fob = 2.1428443984888155e-17\n",
            "ite  36 time  3.151349433263143 fob = 7.299345314043425e-18\n",
            "ite  37 time  3.2327571233113606 fob = 5.992168947083083e-17\n",
            "ite  38 time  3.3186059673627217 fob = 2.6024227164222445e-17\n",
            "ite  39 time  3.400868058204651 fob = 3.995925413996221e-18\n",
            "ite  40 time  3.4858030875523887 fob = 7.036739418560261e-18\n",
            "ite  41 time  3.5690048297246295 fob = 1.3833950633856315e-17\n",
            "ite  42 time  3.653564627965291 fob = 6.773033482333798e-18\n",
            "ite  43 time  3.735139222939809 fob = 5.870565813012386e-18\n",
            "ite  44 time  3.820943570137024 fob = 5.183292097623639e-17\n",
            "ite  45 time  3.906238309542338 fob = 5.456772467789036e-17\n",
            "ite  46 time  3.9887479742368064 fob = 7.208037330272477e-17\n",
            "ite  47 time  4.0717527588208515 fob = 4.647153333995092e-18\n",
            "ite  48 time  4.156169291337331 fob = 1.4424725906567028e-19\n",
            "ite  49 time  4.239899655183156 fob = 5.527274718598897e-18\n"
          ],
          "name": "stdout"
        }
      ]
    },
    {
      "cell_type": "code",
      "metadata": {
        "id": "vxovHXZqNuYh"
      },
      "source": [
        "IND_XY = np.argsort(np.array(BEST_XY[:,-1]))\n",
        "BEST_XY = BEST_XY[IND_XY,:]"
      ],
      "execution_count": 7,
      "outputs": []
    },
    {
      "cell_type": "code",
      "metadata": {
        "id": "iNdcjVsFN15n"
      },
      "source": [
        "JADE_BEST=BEST_XY[0]\n",
        "JADE_WORSE=BEST_XY[-1]\n",
        "JADE_MEAN=np.mean(BEST_XY,axis=0)\n",
        "JADE_MAXFO=BEST_XY[:,-1].max()\n",
        "JADE_MINFO=BEST_XY[:,-1].min()\n",
        "JADE_STD=BEST_XY[:,-1].std()\n",
        "JADE_BEST=BEST_XY[(rows-1),(cols-1)]"
      ],
      "execution_count": 8,
      "outputs": []
    },
    {
      "cell_type": "code",
      "metadata": {
        "id": "lNSN5X-wskcx",
        "colab": {
          "base_uri": "https://localhost:8080/"
        },
        "outputId": "d30f9036-b703-4e03-974e-a234ed74418f"
      },
      "source": [
        "print('======== JADE ==============')\n",
        "print('NPAR=',NPAR,'Iterações=',ITE*its,'Dim=', dim,\"Min/Max=\",MIN[0],\"/\",MAX[0],'_',Fun.__name__)\n",
        "print()\n",
        "print('MÉDIA: ',JADE_MEAN[-1])\n",
        "print('MIN __:',JADE_MINFO)\n",
        "print('MAX__: ',JADE_MAXFO)\n",
        "print('STD __:',JADE_STD)\n",
        "print(\"Tempo Médio= %.3f segundos ---\" % (JADE_TIME))\n",
        "print(RUNS,'Rodadas') \n",
        "print()\n",
        "print('BEST: ',JADE_MINFO)\n",
        "\n",
        "print(JADE_MEAN[-1])\n",
        "print(JADE_STD)\n",
        "print(JADE_MINFO)\n"
      ],
      "execution_count": 9,
      "outputs": [
        {
          "output_type": "stream",
          "text": [
            "======== JADE ==============\n",
            "NPAR= 100 Iterações= 2000 Dim= 10 Min/Max= -10 / 10 _ Alpine_n1\n",
            "\n",
            "MÉDIA:  2.298336798119274e-17\n",
            "MIN __: 5.594988657293687e-22\n",
            "MAX__:  8.420276138978708e-17\n",
            "STD __: 2.0772834650268003e-17\n",
            "Tempo Médio= 5.088 segundos ---\n",
            "50 Rodadas\n",
            "\n",
            "BEST:  5.594988657293687e-22\n",
            "2.298336798119274e-17\n",
            "2.0772834650268003e-17\n",
            "5.594988657293687e-22\n"
          ],
          "name": "stdout"
        }
      ]
    }
  ]
}