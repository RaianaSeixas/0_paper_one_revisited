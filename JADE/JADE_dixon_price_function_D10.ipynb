{
  "nbformat": 4,
  "nbformat_minor": 0,
  "metadata": {
    "colab": {
      "name": "JADE_dixon_price_function_D10.ipynb",
      "provenance": [],
      "collapsed_sections": [],
      "include_colab_link": true
    },
    "kernelspec": {
      "display_name": "Python 3",
      "name": "python3"
    },
    "language_info": {
      "codemirror_mode": {
        "name": "ipython",
        "version": 3
      },
      "file_extension": ".py",
      "mimetype": "text/x-python",
      "name": "python",
      "nbconvert_exporter": "python",
      "pygments_lexer": "ipython3",
      "version": "3.7.3"
    }
  },
  "cells": [
    {
      "cell_type": "markdown",
      "metadata": {
        "id": "view-in-github",
        "colab_type": "text"
      },
      "source": [
        "<a href=\"https://colab.research.google.com/github/RaianaSeixas/0_paper_one_revisited/blob/main/JADE/JADE_dixon_price_function_D10.ipynb\" target=\"_parent\"><img src=\"https://colab.research.google.com/assets/colab-badge.svg\" alt=\"Open In Colab\"/></a>"
      ]
    },
    {
      "cell_type": "code",
      "metadata": {
        "id": "IviJOU5POtN8",
        "colab": {
          "base_uri": "https://localhost:8080/"
        },
        "outputId": "480f6d9c-1572-492d-cff5-fd6411a27253"
      },
      "source": [
        "############################### Importar códigos\n",
        "!git clone https://github.com/ucfilho/optim_raianars_Insight\n",
        "%cd optim_raianars_Insight"
      ],
      "execution_count": 1,
      "outputs": [
        {
          "output_type": "stream",
          "text": [
            "Cloning into 'optim_raianars_Insight'...\n",
            "remote: Enumerating objects: 375, done.\u001b[K\n",
            "remote: Counting objects: 100% (61/61), done.\u001b[K\n",
            "remote: Compressing objects: 100% (61/61), done.\u001b[K\n",
            "remote: Total 375 (delta 35), reused 0 (delta 0), pack-reused 314\u001b[K\n",
            "Receiving objects: 100% (375/375), 327.03 KiB | 3.37 MiB/s, done.\n",
            "Resolving deltas: 100% (216/216), done.\n",
            "/content/optim_raianars_Insight\n"
          ],
          "name": "stdout"
        }
      ]
    },
    {
      "cell_type": "code",
      "metadata": {
        "id": "_E15mKFURR6O"
      },
      "source": [
        "import Function\n",
        "import Go2MinMax\n",
        "import numpy as np\n",
        "import time\n",
        "import matplotlib.pyplot as plt\n",
        "from random import randint\n",
        "import pandas as pd\n",
        "\n",
        "############################### Função\n",
        "dim=10 # \n",
        "fchoice='dixon_price_function'\n",
        "Fun=Function.dixon_price_function\n",
        "MIN,MAX=Go2MinMax.Intervalo(dim,fchoice)\n",
        "#MAX=np.repeat(1.28,dim)\n",
        "#MIN=np.repeat(-1.28,dim)\n",
        "\n",
        "bounds=[]\n",
        "for k in range(len(MAX)):\n",
        "  bounds.append((MIN[k],MAX[k]))\n",
        "\n",
        "############################### DADOS DE ENTRADA \n",
        "RUNS=50 #NÚMERO DE RODADAS\n",
        "Fc=0.1 # fator de correcao parametros da ANN\n",
        "its=1 #10 # quantas vezes vai usar o NPAR antes de alterar de novo\n",
        "ITE=2000 #00 #10 # PONTOS quantas vezes vai alteral NPAR \n",
        "NPAR=100\n"
      ],
      "execution_count": 2,
      "outputs": []
    },
    {
      "cell_type": "code",
      "metadata": {
        "id": "lAVDJIRmNQUC",
        "colab": {
          "base_uri": "https://localhost:8080/"
        },
        "outputId": "a8bae6a9-6d9c-4b67-e1c4-5baa74a8fb65"
      },
      "source": [
        "!pip install PyFDE"
      ],
      "execution_count": 3,
      "outputs": [
        {
          "output_type": "stream",
          "text": [
            "Collecting PyFDE\n",
            "\u001b[?25l  Downloading https://files.pythonhosted.org/packages/72/f9/87f7279554d2682e3827d39c3d3a565b2fd42f7114a779e34a601c6c5079/PyFDE-1.3.0.tar.gz (397kB)\n",
            "\u001b[K     |████████████████████████████████| 399kB 6.9MB/s \n",
            "\u001b[?25hRequirement already satisfied: numpy in /usr/local/lib/python3.7/dist-packages (from PyFDE) (1.19.5)\n",
            "Building wheels for collected packages: PyFDE\n",
            "  Building wheel for PyFDE (setup.py) ... \u001b[?25l\u001b[?25hdone\n",
            "  Created wheel for PyFDE: filename=PyFDE-1.3.0-cp37-cp37m-linux_x86_64.whl size=974701 sha256=ddec565bd0c23bdab0c52a9b4092008baf1a953c900974d6f32805df4e9c3b7a\n",
            "  Stored in directory: /root/.cache/pip/wheels/7d/42/ba/abf21db37934e576c74fc2c9504b5cd97eb6a99e3dec1743c0\n",
            "Successfully built PyFDE\n",
            "Installing collected packages: PyFDE\n",
            "Successfully installed PyFDE-1.3.0\n"
          ],
          "name": "stdout"
        }
      ]
    },
    {
      "cell_type": "code",
      "metadata": {
        "id": "E7DrzRqmM2j8"
      },
      "source": [
        "import pyfde\n",
        "solver = pyfde.JADE(Fun, n_dim= dim, n_pop=NPAR, limits=bounds, minimize=True)\n",
        "solver.p = 0.05\n",
        "solver.c = 0.1"
      ],
      "execution_count": 4,
      "outputs": []
    },
    {
      "cell_type": "code",
      "metadata": {
        "id": "NnOvinHvNl_p"
      },
      "source": [
        "start_time = time.time()\n",
        "BEST_AGENTS=[]\n",
        "MAT_stat=[]"
      ],
      "execution_count": 5,
      "outputs": []
    },
    {
      "cell_type": "code",
      "metadata": {
        "id": "3-uCNVsZNnqa",
        "colab": {
          "base_uri": "https://localhost:8080/"
        },
        "outputId": "df0b843f-2783-45e1-c104-426e537f029c"
      },
      "source": [
        "start_time = time.time()\n",
        "BEST_AGENTS=[]\n",
        "BEST_FIT =[]\n",
        "rows = RUNS\n",
        "cols = dim + 1\n",
        "BEST_XY = np.zeros((rows,cols))\n",
        "for iii in range(RUNS):\n",
        "  solver = pyfde.JADE(Fun, n_dim= dim, n_pop=NPAR, limits=bounds, minimize=True)\n",
        "  solver.p = 0.05\n",
        "  solver.c = 0.1\n",
        "  solver.cr, solver.f = 0.5, 0.5\n",
        "  best, fit = solver.run(n_it=ITE)\n",
        "  kkk = -1\n",
        "  for xi in best:\n",
        "    kkk = kkk +1\n",
        "    BEST_XY[iii,kkk] = xi\n",
        "  BEST_XY[iii,dim] = -fit\n",
        "  BEST_AGENTS.append(best)\n",
        "  TIME = (time.time() - start_time) /60\n",
        "  BEST_FIT.append(-fit)\n",
        "  print('ite ', iii,'time ', TIME,'fob =', -fit)\n",
        "    \n",
        "############################## Cálculo dos Parâmetros de Avaliação   \n",
        "JADE_TIME = (time.time() - start_time)/RUNS"
      ],
      "execution_count": 6,
      "outputs": [
        {
          "output_type": "stream",
          "text": [
            "ite  0 time  0.033047032356262204 fob = 0.6666666666666778\n",
            "ite  1 time  0.06473510265350342 fob = 0.666666666666703\n",
            "ite  2 time  0.09696826140085855 fob = 0.6666666666698388\n",
            "ite  3 time  0.12837345997492472 fob = 0.6666666666666665\n",
            "ite  4 time  0.16066465775171915 fob = 0.6666666666666669\n",
            "ite  5 time  0.1924226959546407 fob = 0.6666666666666667\n",
            "ite  6 time  0.2239141583442688 fob = 0.6666666666670429\n",
            "ite  7 time  0.2551103115081787 fob = 0.6666666666670572\n",
            "ite  8 time  0.2869340459505717 fob = 0.6666666666722763\n",
            "ite  9 time  0.3189369479815165 fob = 0.6666666666673364\n",
            "ite  10 time  0.3507238944371541 fob = 0.6666666667000447\n",
            "ite  11 time  0.38200449546178183 fob = 0.6666666666666841\n",
            "ite  12 time  0.4140751282374064 fob = 0.6666666666666777\n",
            "ite  13 time  0.44597694476445515 fob = 0.6666666666666666\n",
            "ite  14 time  0.4780403137207031 fob = 0.6666666666674028\n",
            "ite  15 time  0.5104447404543558 fob = 0.6666666666666677\n",
            "ite  16 time  0.543007246653239 fob = 0.6666666666687195\n",
            "ite  17 time  0.5749775807062785 fob = 0.6666666666667102\n",
            "ite  18 time  0.6064900477727254 fob = 0.6666666666667541\n",
            "ite  19 time  0.6383311192194621 fob = 0.6666666666925689\n",
            "ite  20 time  0.6705645044644674 fob = 0.6666666666695269\n",
            "ite  21 time  0.7021859566370646 fob = 0.6666666666680513\n",
            "ite  22 time  0.7342564264933268 fob = 0.6666666666666665\n",
            "ite  23 time  0.7658169825871786 fob = 0.6666666666666804\n",
            "ite  24 time  0.7970576922098795 fob = 0.6666666666666667\n",
            "ite  25 time  0.8286111791928609 fob = 0.6666666666666765\n",
            "ite  26 time  0.8604067246119181 fob = 0.6666666666666776\n",
            "ite  27 time  0.891933266321818 fob = 0.6666666666666841\n",
            "ite  28 time  0.9239377895991008 fob = 0.6666666666667351\n",
            "ite  29 time  0.9555983821551005 fob = 0.6666666666666685\n",
            "ite  30 time  0.9869218468666077 fob = 0.6666666666666723\n",
            "ite  31 time  1.018658459186554 fob = 0.6666666666666665\n",
            "ite  32 time  1.0507935325304667 fob = 0.666666666666667\n",
            "ite  33 time  1.08251557747523 fob = 0.6666666666666665\n",
            "ite  34 time  1.1143731713294982 fob = 0.66666666671676\n",
            "ite  35 time  1.1457041462262472 fob = 0.6666666666667224\n",
            "ite  36 time  1.1773990551630655 fob = 0.6666666666667347\n",
            "ite  37 time  1.2091021537780762 fob = 0.6666666666666684\n",
            "ite  38 time  1.2413467288017273 fob = 0.6666666666666705\n",
            "ite  39 time  1.2736326654752095 fob = 0.6666666666666687\n",
            "ite  40 time  1.3055259466171265 fob = 0.6666666666681507\n",
            "ite  41 time  1.3375215649604797 fob = 0.6666666666666734\n",
            "ite  42 time  1.3690658569335938 fob = 0.6666666666672721\n",
            "ite  43 time  1.4008010546366374 fob = 0.6666666666666671\n",
            "ite  44 time  1.4327582637468974 fob = 0.6666666666667034\n",
            "ite  45 time  1.4645575443903605 fob = 0.6666666666701128\n",
            "ite  46 time  1.4963473757108052 fob = 0.6666666666667145\n",
            "ite  47 time  1.527338174978892 fob = 0.6666666666666665\n",
            "ite  48 time  1.5588724215825398 fob = 0.6666666666671653\n",
            "ite  49 time  1.5912011543909708 fob = 0.6666666666667069\n"
          ],
          "name": "stdout"
        }
      ]
    },
    {
      "cell_type": "code",
      "metadata": {
        "id": "vxovHXZqNuYh"
      },
      "source": [
        "IND_XY = np.argsort(np.array(BEST_XY[:,-1]))\n",
        "BEST_XY = BEST_XY[IND_XY,:]"
      ],
      "execution_count": 7,
      "outputs": []
    },
    {
      "cell_type": "code",
      "metadata": {
        "id": "iNdcjVsFN15n"
      },
      "source": [
        "JADE_BEST=BEST_XY[0]\n",
        "JADE_WORSE=BEST_XY[-1]\n",
        "JADE_MEAN=np.mean(BEST_XY,axis=0)\n",
        "JADE_MAXFO=BEST_XY[:,-1].max()\n",
        "JADE_MINFO=BEST_XY[:,-1].min()\n",
        "JADE_STD=BEST_XY[:,-1].std()\n",
        "JADE_BEST=BEST_XY[(rows-1),(cols-1)]"
      ],
      "execution_count": 8,
      "outputs": []
    },
    {
      "cell_type": "code",
      "metadata": {
        "id": "lNSN5X-wskcx",
        "colab": {
          "base_uri": "https://localhost:8080/"
        },
        "outputId": "2e193030-5045-40e7-d865-586afc8d574d"
      },
      "source": [
        "print('======== JADE ==============')\n",
        "print('NPAR=',NPAR,'Iterações=',ITE*its,'Dim=', dim,\"Min/Max=\",MIN[0],\"/\",MAX[0],'_',Fun.__name__)\n",
        "print()\n",
        "print('MÉDIA: ',JADE_MEAN[-1])\n",
        "print('MIN __:',JADE_MINFO)\n",
        "print('MAX__: ',JADE_MAXFO)\n",
        "print('STD __:',JADE_STD)\n",
        "print(\"Tempo Médio= %.3f segundos ---\" % (JADE_TIME))\n",
        "print(RUNS,'Rodadas') \n",
        "print()\n",
        "print('BEST: ',JADE_MINFO)\n",
        "\n",
        "print(JADE_MEAN[-1])\n",
        "print(JADE_STD)\n",
        "print(JADE_MINFO)\n"
      ],
      "execution_count": 9,
      "outputs": [
        {
          "output_type": "stream",
          "text": [
            "======== JADE ==============\n",
            "NPAR= 100 Iterações= 2000 Dim= 10 Min/Max= -10 / 10 _ dixon_price_function\n",
            "\n",
            "MÉDIA:  0.6666666666693319\n",
            "MIN __: 0.6666666666666665\n",
            "MAX__:  0.66666666671676\n",
            "STD __: 8.956620628009836e-12\n",
            "Tempo Médio= 1.910 segundos ---\n",
            "50 Rodadas\n",
            "\n",
            "BEST:  0.6666666666666665\n",
            "0.6666666666693319\n",
            "8.956620628009836e-12\n",
            "0.6666666666666665\n"
          ],
          "name": "stdout"
        }
      ]
    }
  ]
}