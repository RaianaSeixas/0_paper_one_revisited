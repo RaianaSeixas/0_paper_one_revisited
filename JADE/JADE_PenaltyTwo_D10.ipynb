{
  "nbformat": 4,
  "nbformat_minor": 0,
  "metadata": {
    "colab": {
      "name": "JADE_PenaltyTwo_D10.ipynb",
      "provenance": [],
      "collapsed_sections": [],
      "include_colab_link": true
    },
    "kernelspec": {
      "display_name": "Python 3",
      "name": "python3"
    },
    "language_info": {
      "codemirror_mode": {
        "name": "ipython",
        "version": 3
      },
      "file_extension": ".py",
      "mimetype": "text/x-python",
      "name": "python",
      "nbconvert_exporter": "python",
      "pygments_lexer": "ipython3",
      "version": "3.7.3"
    }
  },
  "cells": [
    {
      "cell_type": "markdown",
      "metadata": {
        "id": "view-in-github",
        "colab_type": "text"
      },
      "source": [
        "<a href=\"https://colab.research.google.com/github/RaianaSeixas/0_paper_one_revisited/blob/main/JADE/JADE_PenaltyTwo_D10.ipynb\" target=\"_parent\"><img src=\"https://colab.research.google.com/assets/colab-badge.svg\" alt=\"Open In Colab\"/></a>"
      ]
    },
    {
      "cell_type": "code",
      "metadata": {
        "id": "IviJOU5POtN8",
        "colab": {
          "base_uri": "https://localhost:8080/"
        },
        "outputId": "ba5f1a77-d375-4c3f-b2b6-8b0d05a6c27a"
      },
      "source": [
        "############################### Importar códigos\n",
        "!git clone https://github.com/ucfilho/optim_raianars_Insight\n",
        "%cd optim_raianars_Insight"
      ],
      "execution_count": 1,
      "outputs": [
        {
          "output_type": "stream",
          "text": [
            "Cloning into 'optim_raianars_Insight'...\n",
            "remote: Enumerating objects: 375, done.\u001b[K\n",
            "remote: Counting objects: 100% (61/61), done.\u001b[K\n",
            "remote: Compressing objects: 100% (61/61), done.\u001b[K\n",
            "remote: Total 375 (delta 35), reused 0 (delta 0), pack-reused 314\u001b[K\n",
            "Receiving objects: 100% (375/375), 327.03 KiB | 6.96 MiB/s, done.\n",
            "Resolving deltas: 100% (216/216), done.\n",
            "/content/optim_raianars_Insight\n"
          ],
          "name": "stdout"
        }
      ]
    },
    {
      "cell_type": "code",
      "metadata": {
        "id": "_E15mKFURR6O"
      },
      "source": [
        "import Function\n",
        "import Go2MinMax\n",
        "import numpy as np\n",
        "import time\n",
        "import matplotlib.pyplot as plt\n",
        "from random import randint\n",
        "import pandas as pd\n",
        "\n",
        "############################### Função\n",
        "dim=10 # \n",
        "fchoice='PenaltyTwo'\n",
        "Fun=Function.PenaltyTwo\n",
        "MIN,MAX=Go2MinMax.Intervalo(dim,fchoice)\n",
        "#MAX=np.repeat(1.28,dim)\n",
        "#MIN=np.repeat(-1.28,dim)\n",
        "\n",
        "bounds=[]\n",
        "for k in range(len(MAX)):\n",
        "  bounds.append((MIN[k],MAX[k]))\n",
        "\n",
        "############################### DADOS DE ENTRADA \n",
        "RUNS=50 #NÚMERO DE RODADAS\n",
        "Fc=0.1 # fator de correcao parametros da ANN\n",
        "its=1 #10 # quantas vezes vai usar o NPAR antes de alterar de novo\n",
        "ITE=2000 #00 #10 # PONTOS quantas vezes vai alteral NPAR \n",
        "NPAR=100\n"
      ],
      "execution_count": 2,
      "outputs": []
    },
    {
      "cell_type": "code",
      "metadata": {
        "id": "lAVDJIRmNQUC",
        "colab": {
          "base_uri": "https://localhost:8080/"
        },
        "outputId": "f4e4cb43-bd15-4edc-9a89-b1db8d4a03c5"
      },
      "source": [
        "!pip install PyFDE"
      ],
      "execution_count": 3,
      "outputs": [
        {
          "output_type": "stream",
          "text": [
            "Collecting PyFDE\n",
            "\u001b[?25l  Downloading https://files.pythonhosted.org/packages/72/f9/87f7279554d2682e3827d39c3d3a565b2fd42f7114a779e34a601c6c5079/PyFDE-1.3.0.tar.gz (397kB)\n",
            "\r\u001b[K     |▉                               | 10kB 13.5MB/s eta 0:00:01\r\u001b[K     |█▋                              | 20kB 19.3MB/s eta 0:00:01\r\u001b[K     |██▌                             | 30kB 17.2MB/s eta 0:00:01\r\u001b[K     |███▎                            | 40kB 15.6MB/s eta 0:00:01\r\u001b[K     |████▏                           | 51kB 8.8MB/s eta 0:00:01\r\u001b[K     |█████                           | 61kB 8.2MB/s eta 0:00:01\r\u001b[K     |█████▊                          | 71kB 8.3MB/s eta 0:00:01\r\u001b[K     |██████▋                         | 81kB 9.0MB/s eta 0:00:01\r\u001b[K     |███████▍                        | 92kB 9.8MB/s eta 0:00:01\r\u001b[K     |████████▎                       | 102kB 8.1MB/s eta 0:00:01\r\u001b[K     |█████████                       | 112kB 8.1MB/s eta 0:00:01\r\u001b[K     |██████████                      | 122kB 8.1MB/s eta 0:00:01\r\u001b[K     |██████████▊                     | 133kB 8.1MB/s eta 0:00:01\r\u001b[K     |███████████▌                    | 143kB 8.1MB/s eta 0:00:01\r\u001b[K     |████████████▍                   | 153kB 8.1MB/s eta 0:00:01\r\u001b[K     |█████████████▏                  | 163kB 8.1MB/s eta 0:00:01\r\u001b[K     |██████████████                  | 174kB 8.1MB/s eta 0:00:01\r\u001b[K     |██████████████▉                 | 184kB 8.1MB/s eta 0:00:01\r\u001b[K     |███████████████▊                | 194kB 8.1MB/s eta 0:00:01\r\u001b[K     |████████████████▌               | 204kB 8.1MB/s eta 0:00:01\r\u001b[K     |█████████████████▎              | 215kB 8.1MB/s eta 0:00:01\r\u001b[K     |██████████████████▏             | 225kB 8.1MB/s eta 0:00:01\r\u001b[K     |███████████████████             | 235kB 8.1MB/s eta 0:00:01\r\u001b[K     |███████████████████▉            | 245kB 8.1MB/s eta 0:00:01\r\u001b[K     |████████████████████▋           | 256kB 8.1MB/s eta 0:00:01\r\u001b[K     |█████████████████████▌          | 266kB 8.1MB/s eta 0:00:01\r\u001b[K     |██████████████████████▎         | 276kB 8.1MB/s eta 0:00:01\r\u001b[K     |███████████████████████         | 286kB 8.1MB/s eta 0:00:01\r\u001b[K     |████████████████████████        | 296kB 8.1MB/s eta 0:00:01\r\u001b[K     |████████████████████████▊       | 307kB 8.1MB/s eta 0:00:01\r\u001b[K     |█████████████████████████▋      | 317kB 8.1MB/s eta 0:00:01\r\u001b[K     |██████████████████████████▍     | 327kB 8.1MB/s eta 0:00:01\r\u001b[K     |███████████████████████████▎    | 337kB 8.1MB/s eta 0:00:01\r\u001b[K     |████████████████████████████    | 348kB 8.1MB/s eta 0:00:01\r\u001b[K     |████████████████████████████▉   | 358kB 8.1MB/s eta 0:00:01\r\u001b[K     |█████████████████████████████▊  | 368kB 8.1MB/s eta 0:00:01\r\u001b[K     |██████████████████████████████▌ | 378kB 8.1MB/s eta 0:00:01\r\u001b[K     |███████████████████████████████▍| 389kB 8.1MB/s eta 0:00:01\r\u001b[K     |████████████████████████████████| 399kB 8.1MB/s \n",
            "\u001b[?25hRequirement already satisfied: numpy in /usr/local/lib/python3.7/dist-packages (from PyFDE) (1.19.5)\n",
            "Building wheels for collected packages: PyFDE\n",
            "  Building wheel for PyFDE (setup.py) ... \u001b[?25l\u001b[?25hdone\n",
            "  Created wheel for PyFDE: filename=PyFDE-1.3.0-cp37-cp37m-linux_x86_64.whl size=974709 sha256=ab154deec19bd200db9afbed3184edc0a3f051bd7288f149f1f40b4e0d061a5e\n",
            "  Stored in directory: /root/.cache/pip/wheels/7d/42/ba/abf21db37934e576c74fc2c9504b5cd97eb6a99e3dec1743c0\n",
            "Successfully built PyFDE\n",
            "Installing collected packages: PyFDE\n",
            "Successfully installed PyFDE-1.3.0\n"
          ],
          "name": "stdout"
        }
      ]
    },
    {
      "cell_type": "code",
      "metadata": {
        "id": "E7DrzRqmM2j8"
      },
      "source": [
        "import pyfde\n",
        "solver = pyfde.JADE(Fun, n_dim= dim, n_pop=NPAR, limits=bounds, minimize=True)\n",
        "solver.p = 0.05\n",
        "solver.c = 0.1"
      ],
      "execution_count": 4,
      "outputs": []
    },
    {
      "cell_type": "code",
      "metadata": {
        "id": "NnOvinHvNl_p"
      },
      "source": [
        "start_time = time.time()\n",
        "BEST_AGENTS=[]\n",
        "MAT_stat=[]"
      ],
      "execution_count": 5,
      "outputs": []
    },
    {
      "cell_type": "code",
      "metadata": {
        "id": "3-uCNVsZNnqa",
        "colab": {
          "base_uri": "https://localhost:8080/"
        },
        "outputId": "378a25d0-5262-4fe0-8d8e-252cbdd021a7"
      },
      "source": [
        "start_time = time.time()\n",
        "BEST_AGENTS=[]\n",
        "BEST_FIT =[]\n",
        "rows = RUNS\n",
        "cols = dim + 1\n",
        "BEST_XY = np.zeros((rows,cols))\n",
        "for iii in range(RUNS):\n",
        "  solver = pyfde.JADE(Fun, n_dim= dim, n_pop=NPAR, limits=bounds, minimize=True)\n",
        "  solver.p = 0.05\n",
        "  solver.c = 0.1\n",
        "  solver.cr, solver.f = 0.5, 0.5\n",
        "  best, fit = solver.run(n_it=ITE)\n",
        "  kkk = -1\n",
        "  for xi in best:\n",
        "    kkk = kkk +1\n",
        "    BEST_XY[iii,kkk] = xi\n",
        "  BEST_XY[iii,dim] = -fit\n",
        "  BEST_AGENTS.append(best)\n",
        "  TIME = (time.time() - start_time) /60\n",
        "  BEST_FIT.append(-fit)\n",
        "  print('ite ', iii,'time ', TIME,'fob =', -fit)\n",
        "    \n",
        "############################## Cálculo dos Parâmetros de Avaliação   \n",
        "JADE_TIME = (time.time() - start_time)/RUNS"
      ],
      "execution_count": 6,
      "outputs": [
        {
          "output_type": "stream",
          "text": [
            "ite  0 time  0.12993646065394085 fob = 1.3497838043956716e-32\n",
            "ite  1 time  0.25543206135431923 fob = 1.3497838043956716e-32\n",
            "ite  2 time  0.3814892570177714 fob = 1.3497838043956716e-32\n",
            "ite  3 time  0.5093790292739868 fob = 1.3497838043956716e-32\n",
            "ite  4 time  0.6352659503618876 fob = 1.3497838043956716e-32\n",
            "ite  5 time  0.7631005048751831 fob = 1.3497838043956716e-32\n",
            "ite  6 time  0.8903316974639892 fob = 1.3497838043956716e-32\n",
            "ite  7 time  1.0181280732154847 fob = 1.3497838043956716e-32\n",
            "ite  8 time  1.1450836499532064 fob = 1.3497838043956716e-32\n",
            "ite  9 time  1.271891442934672 fob = 1.3497838043956716e-32\n",
            "ite  10 time  1.399236019452413 fob = 1.3497838043956716e-32\n",
            "ite  11 time  1.5260834137598673 fob = 1.3497838043956716e-32\n",
            "ite  12 time  1.6531075318654378 fob = 1.3497838043956716e-32\n",
            "ite  13 time  1.7791680534680685 fob = 1.3497838043956716e-32\n",
            "ite  14 time  1.9087624033292134 fob = 1.3497838043956716e-32\n",
            "ite  15 time  2.0375369071960447 fob = 1.3497838043956716e-32\n",
            "ite  16 time  2.165502095222473 fob = 1.3497838043956716e-32\n",
            "ite  17 time  2.294492034117381 fob = 1.3497838043956716e-32\n",
            "ite  18 time  2.4184296170870465 fob = 1.3497838043956716e-32\n",
            "ite  19 time  2.544010166327159 fob = 1.3497838043956716e-32\n",
            "ite  20 time  2.671781678994497 fob = 1.3497838043956716e-32\n",
            "ite  21 time  2.7995665391286213 fob = 1.3497838043956716e-32\n",
            "ite  22 time  2.926157820224762 fob = 1.3497838043956716e-32\n",
            "ite  23 time  3.053962238629659 fob = 1.3497838043956716e-32\n",
            "ite  24 time  3.180882728099823 fob = 1.3497838043956716e-32\n",
            "ite  25 time  3.3096790949503583 fob = 1.3497838043956716e-32\n",
            "ite  26 time  3.438388494650523 fob = 1.3497838043956716e-32\n",
            "ite  27 time  3.564093891779582 fob = 1.3497838043956716e-32\n",
            "ite  28 time  3.6913463830947877 fob = 1.3497838043956716e-32\n",
            "ite  29 time  3.8179235219955445 fob = 1.3497838043956716e-32\n",
            "ite  30 time  3.94546453555425 fob = 1.3497838043956716e-32\n",
            "ite  31 time  4.071167945861816 fob = 1.3497838043956716e-32\n",
            "ite  32 time  4.197645421822866 fob = 1.3497838043956716e-32\n",
            "ite  33 time  4.326504194736481 fob = 1.3497838043956716e-32\n",
            "ite  34 time  4.45351513226827 fob = 1.3497838043956716e-32\n",
            "ite  35 time  4.58036934932073 fob = 1.3497838043956716e-32\n",
            "ite  36 time  4.70752094189326 fob = 1.3497838043956716e-32\n",
            "ite  37 time  4.834937985738119 fob = 1.3497838043956716e-32\n",
            "ite  38 time  4.961923964818319 fob = 1.3497838043956716e-32\n",
            "ite  39 time  5.088846747080485 fob = 1.3497838043956716e-32\n",
            "ite  40 time  5.214533801873525 fob = 1.3497838043956716e-32\n",
            "ite  41 time  5.342651263872782 fob = 1.3497838043956716e-32\n",
            "ite  42 time  5.47124316294988 fob = 1.3497838043956716e-32\n",
            "ite  43 time  5.600584967931112 fob = 1.3497838043956716e-32\n",
            "ite  44 time  5.729326657454172 fob = 1.3497838043956716e-32\n",
            "ite  45 time  5.856519794464111 fob = 1.3497838043956716e-32\n",
            "ite  46 time  5.98553995291392 fob = 1.3497838043956716e-32\n",
            "ite  47 time  6.11442711353302 fob = 1.3497838043956716e-32\n",
            "ite  48 time  6.24240532318751 fob = 1.3497838043956716e-32\n",
            "ite  49 time  6.369144030412039 fob = 1.3497838043956716e-32\n"
          ],
          "name": "stdout"
        }
      ]
    },
    {
      "cell_type": "code",
      "metadata": {
        "id": "vxovHXZqNuYh"
      },
      "source": [
        "IND_XY = np.argsort(np.array(BEST_XY[:,-1]))\n",
        "BEST_XY = BEST_XY[IND_XY,:]"
      ],
      "execution_count": 7,
      "outputs": []
    },
    {
      "cell_type": "code",
      "metadata": {
        "id": "iNdcjVsFN15n"
      },
      "source": [
        "JADE_BEST=BEST_XY[0]\n",
        "JADE_WORSE=BEST_XY[-1]\n",
        "JADE_MEAN=np.mean(BEST_XY,axis=0)\n",
        "JADE_MAXFO=BEST_XY[:,-1].max()\n",
        "JADE_MINFO=BEST_XY[:,-1].min()\n",
        "JADE_STD=BEST_XY[:,-1].std()\n",
        "JADE_BEST=BEST_XY[(rows-1),(cols-1)]"
      ],
      "execution_count": 8,
      "outputs": []
    },
    {
      "cell_type": "code",
      "metadata": {
        "id": "lNSN5X-wskcx",
        "colab": {
          "base_uri": "https://localhost:8080/"
        },
        "outputId": "f855e75c-d74d-41b4-f4ac-71d8cb9ac24f"
      },
      "source": [
        "print('======== JADE ==============')\n",
        "print('NPAR=',NPAR,'Iterações=',ITE*its,'Dim=', dim,\"Min/Max=\",MIN[0],\"/\",MAX[0],'_',Fun.__name__)\n",
        "print()\n",
        "print('MÉDIA: ',JADE_MEAN[-1])\n",
        "print('MIN __:',JADE_MINFO)\n",
        "print('MAX__: ',JADE_MAXFO)\n",
        "print('STD __:',JADE_STD)\n",
        "print(\"Tempo Médio= %.3f segundos ---\" % (JADE_TIME))\n",
        "print(RUNS,'Rodadas') \n",
        "print()\n",
        "print('BEST: ',JADE_MINFO)\n",
        "\n",
        "print(JADE_MEAN[-1])\n",
        "print(JADE_STD)\n",
        "print(JADE_MINFO)\n"
      ],
      "execution_count": 9,
      "outputs": [
        {
          "output_type": "stream",
          "text": [
            "======== JADE ==============\n",
            "NPAR= 100 Iterações= 2000 Dim= 10 Min/Max= -50 / 50 _ PenaltyTwo\n",
            "\n",
            "MÉDIA:  1.3497838043956727e-32\n",
            "MIN __: 1.3497838043956716e-32\n",
            "MAX__:  1.3497838043956716e-32\n",
            "STD __: 2.7369110631344083e-48\n",
            "Tempo Médio= 7.643 segundos ---\n",
            "50 Rodadas\n",
            "\n",
            "BEST:  1.3497838043956716e-32\n",
            "1.3497838043956727e-32\n",
            "2.7369110631344083e-48\n",
            "1.3497838043956716e-32\n"
          ],
          "name": "stdout"
        }
      ]
    }
  ]
}