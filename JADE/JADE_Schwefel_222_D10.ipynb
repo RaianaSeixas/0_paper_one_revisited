{
  "nbformat": 4,
  "nbformat_minor": 0,
  "metadata": {
    "colab": {
      "name": "JADE_Schwefel_222_D10.ipynb",
      "provenance": [],
      "collapsed_sections": [],
      "include_colab_link": true
    },
    "kernelspec": {
      "display_name": "Python 3",
      "name": "python3"
    },
    "language_info": {
      "codemirror_mode": {
        "name": "ipython",
        "version": 3
      },
      "file_extension": ".py",
      "mimetype": "text/x-python",
      "name": "python",
      "nbconvert_exporter": "python",
      "pygments_lexer": "ipython3",
      "version": "3.7.3"
    }
  },
  "cells": [
    {
      "cell_type": "markdown",
      "metadata": {
        "id": "view-in-github",
        "colab_type": "text"
      },
      "source": [
        "<a href=\"https://colab.research.google.com/github/RaianaSeixas/0_paper_one_revisited/blob/main/JADE/JADE_Schwefel_222_D10.ipynb\" target=\"_parent\"><img src=\"https://colab.research.google.com/assets/colab-badge.svg\" alt=\"Open In Colab\"/></a>"
      ]
    },
    {
      "cell_type": "code",
      "metadata": {
        "colab": {
          "base_uri": "https://localhost:8080/"
        },
        "id": "IviJOU5POtN8",
        "outputId": "0a47ebe9-56ee-4db6-9a27-29b11e81b25b"
      },
      "source": [
        "############################### Importar códigos\n",
        "!git clone https://github.com/ucfilho/optim_raianars_Insight\n",
        "%cd optim_raianars_Insight"
      ],
      "execution_count": 1,
      "outputs": [
        {
          "output_type": "stream",
          "text": [
            "Cloning into 'optim_raianars_Insight'...\n",
            "remote: Enumerating objects: 372, done.\u001b[K\n",
            "remote: Counting objects: 100% (58/58), done.\u001b[K\n",
            "remote: Compressing objects: 100% (58/58), done.\u001b[K\n",
            "remote: Total 372 (delta 33), reused 0 (delta 0), pack-reused 314\u001b[K\n",
            "Receiving objects: 100% (372/372), 326.38 KiB | 4.03 MiB/s, done.\n",
            "Resolving deltas: 100% (214/214), done.\n",
            "/content/optim_raianars_Insight\n"
          ],
          "name": "stdout"
        }
      ]
    },
    {
      "cell_type": "code",
      "metadata": {
        "id": "_E15mKFURR6O"
      },
      "source": [
        "import Function\n",
        "import Go2MinMax\n",
        "import numpy as np\n",
        "import time\n",
        "import matplotlib.pyplot as plt\n",
        "from random import randint\n",
        "import pandas as pd\n",
        "\n",
        "############################### Função\n",
        "dim=10 # \n",
        "fchoice='Schwefel_222'\n",
        "Fun=Function.Schwefel_222\n",
        "MIN,MAX=Go2MinMax.Intervalo(dim,fchoice)\n",
        "#MAX=np.repeat(1.28,dim)\n",
        "#MIN=np.repeat(-1.28,dim)\n",
        "\n",
        "bounds=[]\n",
        "for k in range(len(MAX)):\n",
        "  bounds.append((MIN[k],MAX[k]))\n",
        "\n",
        "############################### DADOS DE ENTRADA \n",
        "RUNS=50 #NÚMERO DE RODADAS\n",
        "Fc=0.1 # fator de correcao parametros da ANN\n",
        "its=1 #10 # quantas vezes vai usar o NPAR antes de alterar de novo\n",
        "ITE=2000 #00 #10 # PONTOS quantas vezes vai alteral NPAR \n",
        "NPAR=100\n"
      ],
      "execution_count": 2,
      "outputs": []
    },
    {
      "cell_type": "code",
      "metadata": {
        "colab": {
          "base_uri": "https://localhost:8080/"
        },
        "id": "lAVDJIRmNQUC",
        "outputId": "3b7e3f75-0366-4df0-a259-7f452b66ea04"
      },
      "source": [
        "!pip install PyFDE"
      ],
      "execution_count": 3,
      "outputs": [
        {
          "output_type": "stream",
          "text": [
            "Collecting PyFDE\n",
            "\u001b[?25l  Downloading https://files.pythonhosted.org/packages/72/f9/87f7279554d2682e3827d39c3d3a565b2fd42f7114a779e34a601c6c5079/PyFDE-1.3.0.tar.gz (397kB)\n",
            "\u001b[K     |████████████████████████████████| 399kB 5.4MB/s \n",
            "\u001b[?25hRequirement already satisfied: numpy in /usr/local/lib/python3.7/dist-packages (from PyFDE) (1.19.5)\n",
            "Building wheels for collected packages: PyFDE\n",
            "  Building wheel for PyFDE (setup.py) ... \u001b[?25l\u001b[?25hdone\n",
            "  Created wheel for PyFDE: filename=PyFDE-1.3.0-cp37-cp37m-linux_x86_64.whl size=974739 sha256=7c834a7266fa03681fd0e16f7541ca4892bd42fb56e915768e8e890957f2a724\n",
            "  Stored in directory: /root/.cache/pip/wheels/7d/42/ba/abf21db37934e576c74fc2c9504b5cd97eb6a99e3dec1743c0\n",
            "Successfully built PyFDE\n",
            "Installing collected packages: PyFDE\n",
            "Successfully installed PyFDE-1.3.0\n"
          ],
          "name": "stdout"
        }
      ]
    },
    {
      "cell_type": "code",
      "metadata": {
        "id": "E7DrzRqmM2j8"
      },
      "source": [
        "import pyfde\n",
        "solver = pyfde.JADE(Fun, n_dim= dim, n_pop=NPAR, limits=bounds, minimize=True)\n",
        "solver.p = 0.05\n",
        "solver.c = 0.1"
      ],
      "execution_count": 4,
      "outputs": []
    },
    {
      "cell_type": "code",
      "metadata": {
        "id": "NnOvinHvNl_p"
      },
      "source": [
        "start_time = time.time()\n",
        "BEST_AGENTS=[]\n",
        "MAT_stat=[]"
      ],
      "execution_count": 5,
      "outputs": []
    },
    {
      "cell_type": "code",
      "metadata": {
        "id": "3-uCNVsZNnqa",
        "colab": {
          "base_uri": "https://localhost:8080/"
        },
        "outputId": "4fa6f583-420f-4488-b9da-cb16ebd41b1c"
      },
      "source": [
        "start_time = time.time()\n",
        "BEST_AGENTS=[]\n",
        "BEST_FIT =[]\n",
        "rows = RUNS\n",
        "cols = dim + 1\n",
        "BEST_XY = np.zeros((rows,cols))\n",
        "for iii in range(RUNS):\n",
        "  solver = pyfde.JADE(Fun, n_dim= dim, n_pop=NPAR, limits=bounds, minimize=True)\n",
        "  solver.p = 0.05\n",
        "  solver.c = 0.1\n",
        "  solver.cr, solver.f = 0.5, 0.5\n",
        "  best, fit = solver.run(n_it=ITE)\n",
        "  kkk = -1\n",
        "  for xi in best:\n",
        "    kkk = kkk +1\n",
        "    BEST_XY[iii,kkk] = xi\n",
        "  BEST_XY[iii,dim] = -fit\n",
        "  BEST_AGENTS.append(best)\n",
        "  TIME = (time.time() - start_time) /60\n",
        "  BEST_FIT.append(-fit)\n",
        "  print('ite ', iii,'time ', TIME,'fob =', -fit)\n",
        "    \n",
        "############################## Cálculo dos Parâmetros de Avaliação   \n",
        "JADE_TIME = (time.time() - start_time)/RUNS"
      ],
      "execution_count": 6,
      "outputs": [
        {
          "output_type": "stream",
          "text": [
            "ite  0 time  0.0240066925684611 fob = 1.6278846226160216e-47\n",
            "ite  1 time  0.047339117527008055 fob = 9.917097125561921e-47\n",
            "ite  2 time  0.06989715496699016 fob = 2.615732563355631e-46\n",
            "ite  3 time  0.09306475321451822 fob = 7.92374420202437e-46\n",
            "ite  4 time  0.11622697909673055 fob = 4.1318288189779743e-50\n",
            "ite  5 time  0.13906739552815756 fob = 1.1196875989184e-47\n",
            "ite  6 time  0.16225179036458334 fob = 1.8723295280966562e-47\n",
            "ite  7 time  0.18542078733444214 fob = 7.483841645578127e-48\n",
            "ite  8 time  0.20855260292689007 fob = 1.8692568448875712e-47\n",
            "ite  9 time  0.23177626132965087 fob = 1.8578207814157623e-48\n",
            "ite  10 time  0.25463796854019166 fob = 7.440191372429269e-46\n",
            "ite  11 time  0.2778642376263936 fob = 3.3808429694658188e-46\n",
            "ite  12 time  0.300874137878418 fob = 6.654742475961648e-48\n",
            "ite  13 time  0.3244056502978007 fob = 1.7426006966165595e-48\n",
            "ite  14 time  0.3476696769396464 fob = 2.6053084280037526e-45\n",
            "ite  15 time  0.3714448571205139 fob = 1.3008214754613217e-48\n",
            "ite  16 time  0.394290022055308 fob = 1.9939058641532968e-46\n",
            "ite  17 time  0.41708204746246336 fob = 3.9750510155023105e-48\n",
            "ite  18 time  0.4404319961865743 fob = 1.850793666992513e-46\n",
            "ite  19 time  0.4630900859832764 fob = 4.3345271904343453e-47\n",
            "ite  20 time  0.4864713708559672 fob = 7.410038421136016e-47\n",
            "ite  21 time  0.509269924958547 fob = 6.130306220736372e-47\n",
            "ite  22 time  0.5321212609608968 fob = 2.9782943192762882e-46\n",
            "ite  23 time  0.5553540786107382 fob = 7.345598401473313e-48\n",
            "ite  24 time  0.5783507386843364 fob = 1.5733243720390306e-48\n",
            "ite  25 time  0.6017784833908081 fob = 2.88399459528096e-47\n",
            "ite  26 time  0.6251134077707926 fob = 6.027503611307229e-46\n",
            "ite  27 time  0.6481630643208821 fob = 1.2771819202053996e-46\n",
            "ite  28 time  0.6712695439656575 fob = 6.0072253372763804e-46\n",
            "ite  29 time  0.6943048755327861 fob = 1.849509165239376e-46\n",
            "ite  30 time  0.7175845583279927 fob = 1.2662939072683246e-47\n",
            "ite  31 time  0.7404667059580485 fob = 6.446164670700811e-47\n",
            "ite  32 time  0.7635936419169108 fob = 2.5917359552444112e-47\n",
            "ite  33 time  0.7865744471549988 fob = 1.992493280298343e-48\n",
            "ite  34 time  0.8097545782725016 fob = 1.5147169137821847e-45\n",
            "ite  35 time  0.8329174160957337 fob = 4.253563505930706e-48\n",
            "ite  36 time  0.8560386300086975 fob = 2.1995482235989668e-48\n",
            "ite  37 time  0.8791266918182373 fob = 8.851182689380232e-49\n",
            "ite  38 time  0.9022439241409301 fob = 1.7667294769532875e-47\n",
            "ite  39 time  0.9252951939900717 fob = 2.1434715430287852e-47\n",
            "ite  40 time  0.9485544761021932 fob = 1.3414879011918079e-47\n",
            "ite  41 time  0.9715500950813294 fob = 8.889698510734835e-48\n",
            "ite  42 time  0.9948203523953756 fob = 2.4190963364337785e-47\n",
            "ite  43 time  1.017997153600057 fob = 6.3684884320211e-47\n",
            "ite  44 time  1.0412320733070373 fob = 4.159841222895882e-46\n",
            "ite  45 time  1.0639986515045166 fob = 4.529232119622332e-47\n",
            "ite  46 time  1.0867140491803486 fob = 6.252288046606774e-46\n",
            "ite  47 time  1.1097843805948893 fob = 3.582535933452473e-46\n",
            "ite  48 time  1.1326494693756104 fob = 1.4404089557853194e-46\n",
            "ite  49 time  1.1555487434069316 fob = 7.235717579384935e-48\n"
          ],
          "name": "stdout"
        }
      ]
    },
    {
      "cell_type": "code",
      "metadata": {
        "id": "vxovHXZqNuYh"
      },
      "source": [
        "IND_XY = np.argsort(np.array(BEST_XY[:,-1]))\n",
        "BEST_XY = BEST_XY[IND_XY,:]"
      ],
      "execution_count": 7,
      "outputs": []
    },
    {
      "cell_type": "code",
      "metadata": {
        "id": "iNdcjVsFN15n"
      },
      "source": [
        "JADE_BEST=BEST_XY[0]\n",
        "JADE_WORSE=BEST_XY[-1]\n",
        "JADE_MEAN=np.mean(BEST_XY,axis=0)\n",
        "JADE_MAXFO=BEST_XY[:,-1].max()\n",
        "JADE_MINFO=BEST_XY[:,-1].min()\n",
        "JADE_STD=BEST_XY[:,-1].std()\n",
        "JADE_BEST=BEST_XY[(rows-1),(cols-1)]"
      ],
      "execution_count": 8,
      "outputs": []
    },
    {
      "cell_type": "code",
      "metadata": {
        "id": "lNSN5X-wskcx",
        "colab": {
          "base_uri": "https://localhost:8080/"
        },
        "outputId": "a3497d1d-a409-4956-86a2-04d400c5295a"
      },
      "source": [
        "print('======== JADE ==============')\n",
        "print('NPAR=',NPAR,'Iterações=',ITE*its,'Dim=', dim,\"Min/Max=\",MIN[0],\"/\",MAX[0],'_',Fun.__name__)\n",
        "print()\n",
        "print('MÉDIA: ',JADE_MEAN[-1])\n",
        "print('MIN __:',JADE_MINFO)\n",
        "print('MAX__: ',JADE_MAXFO)\n",
        "print('STD __:',JADE_STD)\n",
        "print(\"Tempo Médio= %.3f segundos ---\" % (JADE_TIME))\n",
        "print(RUNS,'Rodadas') \n",
        "print()\n",
        "print('BEST: ',JADE_MINFO)\n",
        "\n",
        "print(JADE_MEAN[-1])\n",
        "print(JADE_STD)\n",
        "print(JADE_MINFO)\n"
      ],
      "execution_count": 9,
      "outputs": [
        {
          "output_type": "stream",
          "text": [
            "======== JADE ==============\n",
            "NPAR= 100 Iterações= 2000 Dim= 10 Min/Max= -10 / 10 _ Schwefel_222\n",
            "\n",
            "MÉDIA:  2.1431669480509986e-46\n",
            "MIN __: 4.1318288189779743e-50\n",
            "MAX__:  2.6053084280037526e-45\n",
            "STD __: 4.435283759847597e-46\n",
            "Tempo Médio= 1.387 segundos ---\n",
            "50 Rodadas\n",
            "\n",
            "BEST:  4.1318288189779743e-50\n",
            "2.1431669480509986e-46\n",
            "4.435283759847597e-46\n",
            "4.1318288189779743e-50\n"
          ],
          "name": "stdout"
        }
      ]
    }
  ]
}