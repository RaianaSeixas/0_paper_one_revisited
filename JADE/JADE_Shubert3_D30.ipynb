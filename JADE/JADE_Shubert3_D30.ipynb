{
  "nbformat": 4,
  "nbformat_minor": 0,
  "metadata": {
    "colab": {
      "name": "JADE_Shubert3_D30.ipynb",
      "provenance": [],
      "collapsed_sections": [],
      "include_colab_link": true
    },
    "kernelspec": {
      "display_name": "Python 3",
      "name": "python3"
    },
    "language_info": {
      "codemirror_mode": {
        "name": "ipython",
        "version": 3
      },
      "file_extension": ".py",
      "mimetype": "text/x-python",
      "name": "python",
      "nbconvert_exporter": "python",
      "pygments_lexer": "ipython3",
      "version": "3.7.3"
    }
  },
  "cells": [
    {
      "cell_type": "markdown",
      "metadata": {
        "id": "view-in-github",
        "colab_type": "text"
      },
      "source": [
        "<a href=\"https://colab.research.google.com/github/RaianaSeixas/0_paper_one_revisited/blob/main/JADE/JADE_Shubert3_D30.ipynb\" target=\"_parent\"><img src=\"https://colab.research.google.com/assets/colab-badge.svg\" alt=\"Open In Colab\"/></a>"
      ]
    },
    {
      "cell_type": "code",
      "metadata": {
        "id": "IviJOU5POtN8",
        "colab": {
          "base_uri": "https://localhost:8080/"
        },
        "outputId": "b9b9614d-368d-4e4d-dd93-42f91ab79606"
      },
      "source": [
        "############################### Importar códigos\n",
        "!git clone https://github.com/ucfilho/optim_raianars_Insight\n",
        "%cd optim_raianars_Insight"
      ],
      "execution_count": 1,
      "outputs": [
        {
          "output_type": "stream",
          "text": [
            "Cloning into 'optim_raianars_Insight'...\n",
            "remote: Enumerating objects: 375, done.\u001b[K\n",
            "remote: Counting objects: 100% (61/61), done.\u001b[K\n",
            "remote: Compressing objects: 100% (61/61), done.\u001b[K\n",
            "remote: Total 375 (delta 35), reused 0 (delta 0), pack-reused 314\u001b[K\n",
            "Receiving objects: 100% (375/375), 327.03 KiB | 1.70 MiB/s, done.\n",
            "Resolving deltas: 100% (216/216), done.\n",
            "/content/optim_raianars_Insight\n"
          ],
          "name": "stdout"
        }
      ]
    },
    {
      "cell_type": "code",
      "metadata": {
        "id": "_E15mKFURR6O"
      },
      "source": [
        "import Function\n",
        "import Go2MinMax\n",
        "import numpy as np\n",
        "import time\n",
        "import matplotlib.pyplot as plt\n",
        "from random import randint\n",
        "import pandas as pd\n",
        "\n",
        "############################### Função\n",
        "dim=30 # \n",
        "fchoice='Shubert3'\n",
        "Fun=Function.Shubert3\n",
        "MIN,MAX=Go2MinMax.Intervalo(dim,fchoice)\n",
        "#MAX=np.repeat(1.28,dim)\n",
        "#MIN=np.repeat(-1.28,dim)\n",
        "\n",
        "bounds=[]\n",
        "for k in range(len(MAX)):\n",
        "  bounds.append((MIN[k],MAX[k]))\n",
        "\n",
        "############################### DADOS DE ENTRADA \n",
        "RUNS=50 #NÚMERO DE RODADAS\n",
        "Fc=0.1 # fator de correcao parametros da ANN\n",
        "its=1 #10 # quantas vezes vai usar o NPAR antes de alterar de novo\n",
        "ITE=2000 #00 #10 # PONTOS quantas vezes vai alteral NPAR \n",
        "NPAR=100\n"
      ],
      "execution_count": 2,
      "outputs": []
    },
    {
      "cell_type": "code",
      "metadata": {
        "id": "lAVDJIRmNQUC",
        "colab": {
          "base_uri": "https://localhost:8080/"
        },
        "outputId": "b4d747ee-fb0a-4aca-8ff0-db118ca33db9"
      },
      "source": [
        "!pip install PyFDE"
      ],
      "execution_count": 3,
      "outputs": [
        {
          "output_type": "stream",
          "text": [
            "Collecting PyFDE\n",
            "\u001b[?25l  Downloading https://files.pythonhosted.org/packages/72/f9/87f7279554d2682e3827d39c3d3a565b2fd42f7114a779e34a601c6c5079/PyFDE-1.3.0.tar.gz (397kB)\n",
            "\r\u001b[K     |▉                               | 10kB 10.6MB/s eta 0:00:01\r\u001b[K     |█▋                              | 20kB 14.7MB/s eta 0:00:01\r\u001b[K     |██▌                             | 30kB 13.9MB/s eta 0:00:01\r\u001b[K     |███▎                            | 40kB 11.7MB/s eta 0:00:01\r\u001b[K     |████▏                           | 51kB 7.1MB/s eta 0:00:01\r\u001b[K     |█████                           | 61kB 6.8MB/s eta 0:00:01\r\u001b[K     |█████▊                          | 71kB 7.2MB/s eta 0:00:01\r\u001b[K     |██████▋                         | 81kB 7.9MB/s eta 0:00:01\r\u001b[K     |███████▍                        | 92kB 8.0MB/s eta 0:00:01\r\u001b[K     |████████▎                       | 102kB 8.7MB/s eta 0:00:01\r\u001b[K     |█████████                       | 112kB 8.7MB/s eta 0:00:01\r\u001b[K     |██████████                      | 122kB 8.7MB/s eta 0:00:01\r\u001b[K     |██████████▊                     | 133kB 8.7MB/s eta 0:00:01\r\u001b[K     |███████████▌                    | 143kB 8.7MB/s eta 0:00:01\r\u001b[K     |████████████▍                   | 153kB 8.7MB/s eta 0:00:01\r\u001b[K     |█████████████▏                  | 163kB 8.7MB/s eta 0:00:01\r\u001b[K     |██████████████                  | 174kB 8.7MB/s eta 0:00:01\r\u001b[K     |██████████████▉                 | 184kB 8.7MB/s eta 0:00:01\r\u001b[K     |███████████████▊                | 194kB 8.7MB/s eta 0:00:01\r\u001b[K     |████████████████▌               | 204kB 8.7MB/s eta 0:00:01\r\u001b[K     |█████████████████▎              | 215kB 8.7MB/s eta 0:00:01\r\u001b[K     |██████████████████▏             | 225kB 8.7MB/s eta 0:00:01\r\u001b[K     |███████████████████             | 235kB 8.7MB/s eta 0:00:01\r\u001b[K     |███████████████████▉            | 245kB 8.7MB/s eta 0:00:01\r\u001b[K     |████████████████████▋           | 256kB 8.7MB/s eta 0:00:01\r\u001b[K     |█████████████████████▌          | 266kB 8.7MB/s eta 0:00:01\r\u001b[K     |██████████████████████▎         | 276kB 8.7MB/s eta 0:00:01\r\u001b[K     |███████████████████████         | 286kB 8.7MB/s eta 0:00:01\r\u001b[K     |████████████████████████        | 296kB 8.7MB/s eta 0:00:01\r\u001b[K     |████████████████████████▊       | 307kB 8.7MB/s eta 0:00:01\r\u001b[K     |█████████████████████████▋      | 317kB 8.7MB/s eta 0:00:01\r\u001b[K     |██████████████████████████▍     | 327kB 8.7MB/s eta 0:00:01\r\u001b[K     |███████████████████████████▎    | 337kB 8.7MB/s eta 0:00:01\r\u001b[K     |████████████████████████████    | 348kB 8.7MB/s eta 0:00:01\r\u001b[K     |████████████████████████████▉   | 358kB 8.7MB/s eta 0:00:01\r\u001b[K     |█████████████████████████████▊  | 368kB 8.7MB/s eta 0:00:01\r\u001b[K     |██████████████████████████████▌ | 378kB 8.7MB/s eta 0:00:01\r\u001b[K     |███████████████████████████████▍| 389kB 8.7MB/s eta 0:00:01\r\u001b[K     |████████████████████████████████| 399kB 8.7MB/s \n",
            "\u001b[?25hRequirement already satisfied: numpy in /usr/local/lib/python3.7/dist-packages (from PyFDE) (1.19.5)\n",
            "Building wheels for collected packages: PyFDE\n",
            "  Building wheel for PyFDE (setup.py) ... \u001b[?25l\u001b[?25hdone\n",
            "  Created wheel for PyFDE: filename=PyFDE-1.3.0-cp37-cp37m-linux_x86_64.whl size=974690 sha256=1c3ce601192b1dabf7d11011792a006f55461efff5df33f32326bf5b3aa2f79f\n",
            "  Stored in directory: /root/.cache/pip/wheels/7d/42/ba/abf21db37934e576c74fc2c9504b5cd97eb6a99e3dec1743c0\n",
            "Successfully built PyFDE\n",
            "Installing collected packages: PyFDE\n",
            "Successfully installed PyFDE-1.3.0\n"
          ],
          "name": "stdout"
        }
      ]
    },
    {
      "cell_type": "code",
      "metadata": {
        "id": "E7DrzRqmM2j8"
      },
      "source": [
        "import pyfde\n",
        "solver = pyfde.JADE(Fun, n_dim= dim, n_pop=NPAR, limits=bounds, minimize=True)\n",
        "solver.p = 0.05\n",
        "solver.c = 0.1"
      ],
      "execution_count": 4,
      "outputs": []
    },
    {
      "cell_type": "code",
      "metadata": {
        "id": "NnOvinHvNl_p"
      },
      "source": [
        "start_time = time.time()\n",
        "BEST_AGENTS=[]\n",
        "MAT_stat=[]"
      ],
      "execution_count": 5,
      "outputs": []
    },
    {
      "cell_type": "code",
      "metadata": {
        "id": "3-uCNVsZNnqa",
        "colab": {
          "base_uri": "https://localhost:8080/"
        },
        "outputId": "facb10e7-3d7e-4a63-9162-d07004c4b4ba"
      },
      "source": [
        "start_time = time.time()\n",
        "BEST_AGENTS=[]\n",
        "BEST_FIT =[]\n",
        "rows = RUNS\n",
        "cols = dim + 1\n",
        "BEST_XY = np.zeros((rows,cols))\n",
        "for iii in range(RUNS):\n",
        "  solver = pyfde.JADE(Fun, n_dim= dim, n_pop=NPAR, limits=bounds, minimize=True)\n",
        "  solver.p = 0.05\n",
        "  solver.c = 0.1\n",
        "  solver.cr, solver.f = 0.5, 0.5\n",
        "  best, fit = solver.run(n_it=ITE)\n",
        "  kkk = -1\n",
        "  for xi in best:\n",
        "    kkk = kkk +1\n",
        "    BEST_XY[iii,kkk] = xi\n",
        "  BEST_XY[iii,dim] = -fit\n",
        "  BEST_AGENTS.append(best)\n",
        "  TIME = (time.time() - start_time) /60\n",
        "  BEST_FIT.append(-fit)\n",
        "  print('ite ', iii,'time ', TIME,'fob =', -fit)\n",
        "    \n",
        "############################## Cálculo dos Parâmetros de Avaliação   \n",
        "JADE_TIME = (time.time() - start_time)/RUNS"
      ],
      "execution_count": 6,
      "outputs": [
        {
          "output_type": "stream",
          "text": [
            "ite  0 time  0.8718290170033772 fob = -445.13806967251264\n",
            "ite  1 time  1.7426158785820007 fob = -445.1380514913635\n",
            "ite  2 time  2.601726313432058 fob = -445.1376521729964\n",
            "ite  3 time  3.475832521915436 fob = -445.13789390509857\n",
            "ite  4 time  4.34591695467631 fob = -445.137894969593\n",
            "ite  5 time  5.222065198421478 fob = -445.1379508088273\n",
            "ite  6 time  6.088488296667735 fob = -445.1380906383837\n",
            "ite  7 time  6.964000407854716 fob = -445.1380027280487\n",
            "ite  8 time  7.833232287565867 fob = -445.13786168485393\n",
            "ite  9 time  8.708635711669922 fob = -445.13788521710876\n",
            "ite  10 time  9.582509251435598 fob = -445.137662232681\n",
            "ite  11 time  10.450812995433807 fob = -445.13794523995335\n",
            "ite  12 time  11.322959510485331 fob = -445.1381127166295\n",
            "ite  13 time  12.204203565915426 fob = -445.1379434298431\n",
            "ite  14 time  13.080298328399659 fob = -445.13802576342704\n",
            "ite  15 time  13.940126903851827 fob = -445.13795534699136\n",
            "ite  16 time  14.806167229016621 fob = -445.13783092781995\n",
            "ite  17 time  15.68564403851827 fob = -445.13812144442227\n",
            "ite  18 time  16.54432962735494 fob = -445.1380410371364\n",
            "ite  19 time  17.407822875181832 fob = -445.1380341495804\n",
            "ite  20 time  18.268820349375407 fob = -445.13783246480864\n",
            "ite  21 time  19.129584884643556 fob = -445.13793264354655\n",
            "ite  22 time  19.993551810582478 fob = -445.1380949065318\n",
            "ite  23 time  20.852718702952068 fob = -445.13796201843576\n",
            "ite  24 time  21.719436224301656 fob = -445.1379728152394\n",
            "ite  25 time  22.588584009806315 fob = -445.1378872889908\n",
            "ite  26 time  23.45589602390925 fob = -445.13784753420106\n",
            "ite  27 time  24.316943530241648 fob = -445.1381227944542\n",
            "ite  28 time  25.18219151496887 fob = -445.1381264043242\n",
            "ite  29 time  26.047986749807993 fob = -445.13792193546925\n",
            "ite  30 time  26.912573142846426 fob = -445.1375128839406\n",
            "ite  31 time  27.782602512836455 fob = -445.1381069292229\n",
            "ite  32 time  28.647788099447887 fob = -445.1380198327576\n",
            "ite  33 time  29.51643870274226 fob = -445.1379527412261\n",
            "ite  34 time  30.39370377063751 fob = -445.13788843250313\n",
            "ite  35 time  31.253945700327556 fob = -445.1380102637862\n",
            "ite  36 time  32.120558726787564 fob = -445.1377674531558\n",
            "ite  37 time  32.98317985932032 fob = -445.1379902926354\n",
            "ite  38 time  33.841152012348175 fob = -445.1378515103713\n",
            "ite  39 time  34.70662026802699 fob = -445.1381135847357\n",
            "ite  40 time  35.57519276142121 fob = -445.1379534548574\n",
            "ite  41 time  36.43981332381566 fob = -445.13788912943494\n",
            "ite  42 time  37.3117342154185 fob = -445.13751060010645\n",
            "ite  43 time  38.184001851081845 fob = -445.138184528166\n",
            "ite  44 time  39.054208974043526 fob = -445.13780769737394\n",
            "ite  45 time  39.924255669116974 fob = -445.1379531726392\n",
            "ite  46 time  40.79460038344065 fob = -445.13767276718073\n",
            "ite  47 time  41.66352997223536 fob = -445.13820581732153\n",
            "ite  48 time  42.53150601784388 fob = -445.1379429551715\n",
            "ite  49 time  43.40230774482091 fob = -445.1380626186192\n"
          ],
          "name": "stdout"
        }
      ]
    },
    {
      "cell_type": "code",
      "metadata": {
        "id": "vxovHXZqNuYh"
      },
      "source": [
        "IND_XY = np.argsort(np.array(BEST_XY[:,-1]))\n",
        "BEST_XY = BEST_XY[IND_XY,:]"
      ],
      "execution_count": 7,
      "outputs": []
    },
    {
      "cell_type": "code",
      "metadata": {
        "id": "iNdcjVsFN15n"
      },
      "source": [
        "JADE_BEST=BEST_XY[0]\n",
        "JADE_WORSE=BEST_XY[-1]\n",
        "JADE_MEAN=np.mean(BEST_XY,axis=0)\n",
        "JADE_MAXFO=BEST_XY[:,-1].max()\n",
        "JADE_MINFO=BEST_XY[:,-1].min()\n",
        "JADE_STD=BEST_XY[:,-1].std()\n",
        "JADE_BEST=BEST_XY[(rows-1),(cols-1)]"
      ],
      "execution_count": 8,
      "outputs": []
    },
    {
      "cell_type": "code",
      "metadata": {
        "id": "lNSN5X-wskcx",
        "colab": {
          "base_uri": "https://localhost:8080/"
        },
        "outputId": "97e49515-f198-4efa-b931-3650d8fd4227"
      },
      "source": [
        "print('======== JADE ==============')\n",
        "print('NPAR=',NPAR,'Iterações=',ITE*its,'Dim=', dim,\"Min/Max=\",MIN[0],\"/\",MAX[0],'_',Fun.__name__)\n",
        "print()\n",
        "print('MÉDIA: ',JADE_MEAN[-1])\n",
        "print('MIN __:',JADE_MINFO)\n",
        "print('MAX__: ',JADE_MAXFO)\n",
        "print('STD __:',JADE_STD)\n",
        "print(\"Tempo Médio= %.3f segundos ---\" % (JADE_TIME))\n",
        "print(RUNS,'Rodadas') \n",
        "print()\n",
        "print('BEST: ',JADE_MINFO)\n",
        "\n",
        "print(JADE_MEAN[-1])\n",
        "print(JADE_STD)\n",
        "print(JADE_MINFO)\n"
      ],
      "execution_count": 9,
      "outputs": [
        {
          "output_type": "stream",
          "text": [
            "======== JADE ==============\n",
            "NPAR= 100 Iterações= 2000 Dim= 30 Min/Max= -10 / 10 _ Shubert3\n",
            "\n",
            "MÉDIA:  -445.13794246096967\n",
            "MIN __: -445.13820581732153\n",
            "MAX__:  -445.13751060010645\n",
            "STD __: 0.00015256116135959095\n",
            "Tempo Médio= 52.083 segundos ---\n",
            "50 Rodadas\n",
            "\n",
            "BEST:  -445.13820581732153\n",
            "-445.13794246096967\n",
            "0.00015256116135959095\n",
            "-445.13820581732153\n"
          ],
          "name": "stdout"
        }
      ]
    }
  ]
}