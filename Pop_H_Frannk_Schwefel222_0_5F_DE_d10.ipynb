{
  "nbformat": 4,
  "nbformat_minor": 0,
  "metadata": {
    "colab": {
      "name": "Pop_H_Frannk_Schwefel222_0.5F-DE_d10.ipynb",
      "provenance": [],
      "collapsed_sections": [],
      "include_colab_link": true
    },
    "kernelspec": {
      "name": "python3",
      "display_name": "Python 3"
    },
    "language_info": {
      "codemirror_mode": {
        "name": "ipython",
        "version": 3
      },
      "file_extension": ".py",
      "mimetype": "text/x-python",
      "name": "python",
      "nbconvert_exporter": "python",
      "pygments_lexer": "ipython3",
      "version": "3.7.3"
    }
  },
  "cells": [
    {
      "cell_type": "markdown",
      "metadata": {
        "id": "view-in-github",
        "colab_type": "text"
      },
      "source": [
        "<a href=\"https://colab.research.google.com/github/RaianaSeixas/0_paper_one_revisited/blob/main/Pop_H_Frannk_Schwefel222_0_5F_DE_d10.ipynb\" target=\"_parent\"><img src=\"https://colab.research.google.com/assets/colab-badge.svg\" alt=\"Open In Colab\"/></a>"
      ]
    },
    {
      "cell_type": "code",
      "metadata": {
        "colab": {
          "base_uri": "https://localhost:8080/"
        },
        "id": "c59cDVKoxDLX",
        "outputId": "c11ef62b-fd9e-4588-dac3-425b412e2595"
      },
      "source": [
        "############################### Importar códigos\n",
        "!git clone https://github.com/ucfilho/optim_raianars_Insight/ #clonar do Github\n",
        "%cd optim_raianars_Insight\n",
        "import de_soma_Insight\n",
        "import de_bounds_matriz\n",
        "import Go2Ann"
      ],
      "execution_count": 1,
      "outputs": [
        {
          "output_type": "stream",
          "text": [
            "Cloning into 'optim_raianars_Insight'...\n",
            "remote: Enumerating objects: 323, done.\u001b[K\n",
            "remote: Counting objects: 100% (9/9), done.\u001b[K\n",
            "remote: Compressing objects: 100% (9/9), done.\u001b[K\n",
            "remote: Total 323 (delta 3), reused 0 (delta 0), pack-reused 314\u001b[K\n",
            "Receiving objects: 100% (323/323), 312.84 KiB | 14.22 MiB/s, done.\n",
            "Resolving deltas: 100% (184/184), done.\n",
            "/content/optim_raianars_Insight\n"
          ],
          "name": "stdout"
        }
      ]
    },
    {
      "cell_type": "code",
      "metadata": {
        "id": "Va-6Xios8RjU",
        "colab": {
          "base_uri": "https://localhost:8080/"
        },
        "outputId": "c17af098-8678-47a3-908c-6b02bb64732b"
      },
      "source": [
        "!git clone https://github.com/ucfilho/Raianars_paper_One #clonar do Github\n",
        "%cd Raianars_paper_One"
      ],
      "execution_count": 2,
      "outputs": [
        {
          "output_type": "stream",
          "text": [
            "Cloning into 'Raianars_paper_One'...\n",
            "remote: Enumerating objects: 248, done.\u001b[K\n",
            "remote: Counting objects: 100% (119/119), done.\u001b[K\n",
            "remote: Compressing objects: 100% (119/119), done.\u001b[K\n",
            "remote: Total 248 (delta 64), reused 0 (delta 0), pack-reused 129\u001b[K\n",
            "Receiving objects: 100% (248/248), 654.97 KiB | 26.20 MiB/s, done.\n",
            "Resolving deltas: 100% (136/136), done.\n",
            "/content/optim_raianars_Insight/Raianars_paper_One\n"
          ],
          "name": "stdout"
        }
      ]
    },
    {
      "cell_type": "code",
      "metadata": {
        "id": "_E15mKFURR6O"
      },
      "source": [
        "#import Go2Ann\n",
        "#import de_soma_Insight\n",
        "#import de_bounds_matriz\n",
        "#import Function\n",
        "import Go2MinMax\n",
        "from AvaliaX import AvaliaX\n",
        "#from Function import FUN\n",
        "#from Function import Function.FUN\n",
        "#from Function import Function.Fun\n",
        "#from Function import Function\n",
        "from GeraIndices import GeraIndices\n",
        "import numpy as np\n",
        "import time\n",
        "import matplotlib.pyplot as plt\n",
        "from random import randint\n",
        "from scipy import optimize\n",
        "import pandas as pd\n",
        "from sklearn.metrics import confusion_matrix\n",
        "\n",
        "############################### DADOS DE ENTRADA \n",
        "RUNS=50 #NÚMERO DE RODADAS\n",
        "Fc=0.1 # fator de correcao parametros da ANN\n",
        "its=1 #10 # quantas vezes vai usar o NPAR antes de alterar de novo\n",
        "ITE=2000 #10 # PONTOS quantas vezes vai alteral NPAR \n",
        "NPAR=100\n",
        "mut=0.5\n",
        "crossp=0.5\n",
        "\n",
        "fator = 1.0/2.0; \n",
        "Fi=mut;CRi=crossp;# para impressão\n",
        "#fator = 2.0/3.0; \n",
        "mut2=0.5;crossp2=0.5;mut3=0.75;crossp3=0.25;mut4=0.25;crossp4=0.25;\n"
      ],
      "execution_count": 3,
      "outputs": []
    },
    {
      "cell_type": "code",
      "metadata": {
        "colab": {
          "base_uri": "https://localhost:8080/"
        },
        "id": "ik3ZjkUKycUK",
        "outputId": "ba3b3ab3-4d07-486f-f2ab-fdea9db82d6a"
      },
      "source": [
        "############################### Importar códigos\n",
        "!git clone https://github.com/ucfilho/optim_raianars_Insight/ #clonar do Github\n",
        "%cd optim_raianars_Insight\n",
        "import de_soma_Insight\n",
        "import de_bounds_matriz"
      ],
      "execution_count": 4,
      "outputs": [
        {
          "output_type": "stream",
          "text": [
            "Cloning into 'optim_raianars_Insight'...\n",
            "remote: Enumerating objects: 323, done.\u001b[K\n",
            "remote: Counting objects:  11% (1/9)\u001b[K\rremote: Counting objects:  22% (2/9)\u001b[K\rremote: Counting objects:  33% (3/9)\u001b[K\rremote: Counting objects:  44% (4/9)\u001b[K\rremote: Counting objects:  55% (5/9)\u001b[K\rremote: Counting objects:  66% (6/9)\u001b[K\rremote: Counting objects:  77% (7/9)\u001b[K\rremote: Counting objects:  88% (8/9)\u001b[K\rremote: Counting objects: 100% (9/9)\u001b[K\rremote: Counting objects: 100% (9/9), done.\u001b[K\n",
            "remote: Compressing objects:  11% (1/9)\u001b[K\rremote: Compressing objects:  22% (2/9)\u001b[K\rremote: Compressing objects:  33% (3/9)\u001b[K\rremote: Compressing objects:  44% (4/9)\u001b[K\rremote: Compressing objects:  55% (5/9)\u001b[K\rremote: Compressing objects:  66% (6/9)\u001b[K\rremote: Compressing objects:  77% (7/9)\u001b[K\rremote: Compressing objects:  88% (8/9)\u001b[K\rremote: Compressing objects: 100% (9/9)\u001b[K\rremote: Compressing objects: 100% (9/9), done.\u001b[K\n",
            "Receiving objects:   0% (1/323)   \rReceiving objects:   1% (4/323)   \rReceiving objects:   2% (7/323)   \rReceiving objects:   3% (10/323)   \rReceiving objects:   4% (13/323)   \rReceiving objects:   5% (17/323)   \rReceiving objects:   6% (20/323)   \rReceiving objects:   7% (23/323)   \rReceiving objects:   8% (26/323)   \rReceiving objects:   9% (30/323)   \rReceiving objects:  10% (33/323)   \rReceiving objects:  11% (36/323)   \rReceiving objects:  12% (39/323)   \rReceiving objects:  13% (42/323)   \rReceiving objects:  14% (46/323)   \rReceiving objects:  15% (49/323)   \rReceiving objects:  16% (52/323)   \rReceiving objects:  17% (55/323)   \rReceiving objects:  18% (59/323)   \rReceiving objects:  19% (62/323)   \rReceiving objects:  20% (65/323)   \rReceiving objects:  21% (68/323)   \rReceiving objects:  22% (72/323)   \rReceiving objects:  23% (75/323)   \rReceiving objects:  24% (78/323)   \rReceiving objects:  25% (81/323)   \rReceiving objects:  26% (84/323)   \rReceiving objects:  27% (88/323)   \rReceiving objects:  28% (91/323)   \rReceiving objects:  29% (94/323)   \rReceiving objects:  30% (97/323)   \rReceiving objects:  31% (101/323)   \rReceiving objects:  32% (104/323)   \rReceiving objects:  33% (107/323)   \rReceiving objects:  34% (110/323)   \rReceiving objects:  35% (114/323)   \rReceiving objects:  36% (117/323)   \rReceiving objects:  37% (120/323)   \rReceiving objects:  38% (123/323)   \rReceiving objects:  39% (126/323)   \rReceiving objects:  40% (130/323)   \rReceiving objects:  41% (133/323)   \rReceiving objects:  42% (136/323)   \rReceiving objects:  43% (139/323)   \rReceiving objects:  44% (143/323)   \rReceiving objects:  45% (146/323)   \rReceiving objects:  46% (149/323)   \rReceiving objects:  47% (152/323)   \rReceiving objects:  48% (156/323)   \rReceiving objects:  49% (159/323)   \rReceiving objects:  50% (162/323)   \rReceiving objects:  51% (165/323)   \rReceiving objects:  52% (168/323)   \rReceiving objects:  53% (172/323)   \rReceiving objects:  54% (175/323)   \rReceiving objects:  55% (178/323)   \rReceiving objects:  56% (181/323)   \rReceiving objects:  57% (185/323)   \rReceiving objects:  58% (188/323)   \rremote: Total 323 (delta 3), reused 0 (delta 0), pack-reused 314\u001b[K\n",
            "Receiving objects:  59% (191/323)   \rReceiving objects:  60% (194/323)   \rReceiving objects:  61% (198/323)   \rReceiving objects:  62% (201/323)   \rReceiving objects:  63% (204/323)   \rReceiving objects:  64% (207/323)   \rReceiving objects:  65% (210/323)   \rReceiving objects:  66% (214/323)   \rReceiving objects:  67% (217/323)   \rReceiving objects:  68% (220/323)   \rReceiving objects:  69% (223/323)   \rReceiving objects:  70% (227/323)   \rReceiving objects:  71% (230/323)   \rReceiving objects:  72% (233/323)   \rReceiving objects:  73% (236/323)   \rReceiving objects:  74% (240/323)   \rReceiving objects:  75% (243/323)   \rReceiving objects:  76% (246/323)   \rReceiving objects:  77% (249/323)   \rReceiving objects:  78% (252/323)   \rReceiving objects:  79% (256/323)   \rReceiving objects:  80% (259/323)   \rReceiving objects:  81% (262/323)   \rReceiving objects:  82% (265/323)   \rReceiving objects:  83% (269/323)   \rReceiving objects:  84% (272/323)   \rReceiving objects:  85% (275/323)   \rReceiving objects:  86% (278/323)   \rReceiving objects:  87% (282/323)   \rReceiving objects:  88% (285/323)   \rReceiving objects:  89% (288/323)   \rReceiving objects:  90% (291/323)   \rReceiving objects:  91% (294/323)   \rReceiving objects:  92% (298/323)   \rReceiving objects:  93% (301/323)   \rReceiving objects:  94% (304/323)   \rReceiving objects:  95% (307/323)   \rReceiving objects:  96% (311/323)   \rReceiving objects:  97% (314/323)   \rReceiving objects:  98% (317/323)   \rReceiving objects:  99% (320/323)   \rReceiving objects: 100% (323/323)   \rReceiving objects: 100% (323/323), 312.84 KiB | 19.55 MiB/s, done.\n",
            "Resolving deltas:   0% (0/184)   \rResolving deltas:  25% (46/184)   \rResolving deltas:  43% (80/184)   \rResolving deltas:  53% (99/184)   \rResolving deltas:  70% (130/184)   \rResolving deltas:  72% (134/184)   \rResolving deltas:  78% (145/184)   \rResolving deltas:  89% (164/184)   \rResolving deltas:  93% (172/184)   \rResolving deltas:  94% (174/184)   \rResolving deltas:  96% (178/184)   \rResolving deltas:  98% (181/184)   \rResolving deltas: 100% (184/184)   \rResolving deltas: 100% (184/184), done.\n",
            "/content/optim_raianars_Insight/Raianars_paper_One/optim_raianars_Insight\n"
          ],
          "name": "stdout"
        }
      ]
    },
    {
      "cell_type": "code",
      "metadata": {
        "colab": {
          "base_uri": "https://localhost:8080/"
        },
        "id": "lJogRB30yepw",
        "outputId": "a242043d-1068-46f0-b4f3-425a43bdf1db"
      },
      "source": [
        "!git clone https://github.com/ucfilho/Raianars_paper_One #clonar do Github\n",
        "%cd Raianars_paper_One"
      ],
      "execution_count": 5,
      "outputs": [
        {
          "output_type": "stream",
          "text": [
            "Cloning into 'Raianars_paper_One'...\n",
            "remote: Enumerating objects: 248, done.\u001b[K\n",
            "remote: Counting objects: 100% (119/119), done.\u001b[K\n",
            "remote: Compressing objects: 100% (119/119), done.\u001b[K\n",
            "remote: Total 248 (delta 64), reused 0 (delta 0), pack-reused 129\u001b[K\n",
            "Receiving objects: 100% (248/248), 654.97 KiB | 18.71 MiB/s, done.\n",
            "Resolving deltas: 100% (136/136), done.\n",
            "/content/optim_raianars_Insight/Raianars_paper_One/optim_raianars_Insight/Raianars_paper_One\n"
          ],
          "name": "stdout"
        }
      ]
    },
    {
      "cell_type": "code",
      "metadata": {
        "id": "P8LIRCsdywOX"
      },
      "source": [
        "############################### Função\n",
        "import Function\n",
        "#'''  \n",
        "############################### Função\n",
        "dim=10\n",
        "#fchoice='Rastrigin' #fchoice='Michalewicz' #fchoice='Schwefel' #'Schwefel_222'\n",
        "fchoice='Schwefel_222'\n",
        "Fun=Function.Schwefel_222\n",
        "MIN,MAX=Go2MinMax.Intervalo(dim,fchoice)\n",
        "#fx=\n",
        "#'''\n",
        "#####################################\n",
        "PAR=len(MAX) #NUM DE PARAMETROS A SER OTIMIZADOS\n",
        "\n",
        "bounds=[]\n",
        "for k in range(len(MAX)):\n",
        "  bounds.append((MIN[k],MAX[k]))"
      ],
      "execution_count": 6,
      "outputs": []
    },
    {
      "cell_type": "code",
      "metadata": {
        "id": "qTINtQ1cosZK",
        "colab": {
          "base_uri": "https://localhost:8080/"
        },
        "outputId": "35510462-81ed-45e9-aa3d-e818cc7a5d34"
      },
      "source": [
        "!git clone https://github.com/ucfilho/ANN_read_matrix #clonar do Github\n",
        "%cd ANN_read_matrix"
      ],
      "execution_count": 7,
      "outputs": [
        {
          "output_type": "stream",
          "text": [
            "Cloning into 'ANN_read_matrix'...\n",
            "remote: Enumerating objects: 20, done.\u001b[K\n",
            "remote: Counting objects: 100% (20/20), done.\u001b[K\n",
            "remote: Compressing objects: 100% (18/18), done.\u001b[K\n",
            "remote: Total 20 (delta 5), reused 0 (delta 0), pack-reused 0\u001b[K\n",
            "Unpacking objects: 100% (20/20), done.\n",
            "/content/optim_raianars_Insight/Raianars_paper_One/optim_raianars_Insight/Raianars_paper_One/ANN_read_matrix\n"
          ],
          "name": "stdout"
        }
      ]
    },
    {
      "cell_type": "code",
      "metadata": {
        "id": "QiQLYOoNoyCw"
      },
      "source": [
        "ANN_F=pd.read_csv('ANN_INSIGHT_Valor_F.csv')"
      ],
      "execution_count": 8,
      "outputs": []
    },
    {
      "cell_type": "code",
      "metadata": {
        "id": "uHtW2amaDzFv"
      },
      "source": [
        "ANN_CR=pd.read_csv('ANN_INSIGHT_CR.csv')"
      ],
      "execution_count": 9,
      "outputs": []
    },
    {
      "cell_type": "code",
      "metadata": {
        "id": "EH6h_vke2yu1"
      },
      "source": [
        "syn0_F,syn1_F,X_max_F,X_min_F=Go2Ann.GetMatriz(ANN_F)"
      ],
      "execution_count": 10,
      "outputs": []
    },
    {
      "cell_type": "code",
      "metadata": {
        "id": "WW_3ZWJXD60i"
      },
      "source": [
        "syn0_CR,syn1_CR,X_max_CR,X_min_CR=Go2Ann.GetMatriz(ANN_CR)"
      ],
      "execution_count": 11,
      "outputs": []
    },
    {
      "cell_type": "code",
      "metadata": {
        "id": "b4gwBvVTyaXh"
      },
      "source": [
        "ANN_CR=pd.read_csv('ANN_INSIGHT_CR.csv')"
      ],
      "execution_count": 12,
      "outputs": []
    },
    {
      "cell_type": "code",
      "metadata": {
        "id": "6jL8MxpHvk-Y"
      },
      "source": [
        "fields = ['DI RELATIVO','FRAC Its','Fo','CRo']"
      ],
      "execution_count": 13,
      "outputs": []
    },
    {
      "cell_type": "code",
      "metadata": {
        "id": "Mb3LmbSmj9v7",
        "colab": {
          "base_uri": "https://localhost:8080/"
        },
        "outputId": "49667ca6-2652-4052-bde7-7616c6f76bba"
      },
      "source": [
        "##################################### \n",
        "\n",
        "TOTAL=10*dim*its*ITE\n",
        "TOTAL=int(TOTAL/2)   # CONFERIR SE ESTE EH O MELHOR LUGAR\n",
        "\n",
        "dimensions=len(MAX)\n",
        "start_time = time.time() #INICIALIZA CONTAGEM DO TEMPO\n",
        "\n",
        "\n",
        "PAR=dim\n",
        "fobj=Fun\n",
        "\n",
        "MAX_P=np.zeros(ITE) # ATENCAO para variar F e Cr MAX_P passa a ser 3 vezes maior\n",
        "MIN_P=np.zeros(ITE) # ATENCAO para variar F e Cr MIN_P passa a ser 3 vezes maior\n",
        "\n",
        "for i in range(dim):\n",
        "  MAX_P[i]=MAX[i] \n",
        "  MIN_P[i]=MIN[i]\n",
        "\n",
        "rodadas=1\n",
        "NPAR1=int(fator*NPAR);\n",
        "NPAR2=int((NPAR-NPAR1)/3);\n",
        "NPAR3=int((NPAR-NPAR1)/3);\n",
        "NPAR4=int((NPAR-NPAR1)/3);\n",
        "NPAR1 = NPAR-3*NPAR2\n",
        "print('frac=',fator);\n",
        "print('Npar1=',NPAR1);\n",
        "print('Npar2=',NPAR2);\n",
        "print('Npar3=',NPAR3);\n",
        "print('Npar4=',NPAR4);\n",
        "print('Npar=',NPAR)\n",
        "\n",
        "cols=dim\n",
        "\n",
        "X1=np.zeros((NPAR1,cols)) # X1 is Frannk population\n",
        "for i in range(NPAR1):\n",
        "  for j in range(cols):\n",
        "    r=np.random.random()\n",
        "    X1[i,j]=r*(MAX[j]-MIN[j])+MIN[j]\n",
        "    \n",
        "X2=np.zeros((NPAR2,cols)) # X2 is population DE (default DE)\n",
        "for i in range(NPAR2):\n",
        "  for j in range(cols):\n",
        "    r=np.random.random()\n",
        "    X2[i,j]=r*(MAX[j]-MIN[j])+MIN[j]\n",
        "\n",
        "X3=np.zeros((NPAR3,cols)) # X1 is Frannk population\n",
        "for i in range(NPAR3):\n",
        "  for j in range(cols):\n",
        "    r=np.random.random()\n",
        "    X3[i,j]=r*(MAX[j]-MIN[j])+MIN[j]\n",
        "    \n",
        "X4=np.zeros((NPAR4,cols)) # X2 is population DE (default DE)\n",
        "for i in range(NPAR4):\n",
        "  for j in range(cols):\n",
        "    r=np.random.random()\n",
        "    X4[i,j]=r*(MAX[j]-MIN[j])+MIN[j]\n",
        "    \n",
        " ############################################################\n",
        "  #bounds=[(5*dim, 15*dim)] * PONTOS # ITE\n",
        "  #bounds=[(3*dim, 12*dim)] * PONTOS # ITE\n",
        "  #bounds=[(4*dim, 16*dim)] * PONTOS\n",
        "  \n",
        "  # nao pode ser assim pq o bounds vale p o DE nao dos parametros\n",
        "  #p=int(TOTAL/its/ITE) \n",
        "  #bounds=[(p, p)] * PONTOS\n"
      ],
      "execution_count": 14,
      "outputs": [
        {
          "output_type": "stream",
          "text": [
            "frac= 0.5\n",
            "Npar1= 52\n",
            "Npar2= 16\n",
            "Npar3= 16\n",
            "Npar4= 16\n",
            "Npar= 100\n"
          ],
          "name": "stdout"
        }
      ]
    },
    {
      "cell_type": "code",
      "metadata": {
        "id": "rnX8ttNopd1G",
        "colab": {
          "base_uri": "https://localhost:8080/"
        },
        "outputId": "819b659f-2d2c-417f-e62f-b34d9017eef4"
      },
      "source": [
        "\n",
        "start_time = time.time()\n",
        "BEST_AGENTS=[]\n",
        "MAT_stat=[]\n",
        "for iii in range(RUNS):\n",
        "    MAT=[] \n",
        "    mut=Fi\n",
        "    crossp=CRi\n",
        "    SOMA=0\n",
        "    pop = np.random.rand(NPAR, dim)\n",
        "    diff=np.zeros(PAR)\n",
        "\n",
        "\n",
        "    X1=np.zeros((NPAR1,cols)) # X1 is Frannk population\n",
        "    for i in range(NPAR1):\n",
        "      for j in range(cols):\n",
        "        r=np.random.random()\n",
        "        X1[i,j]=r*(MAX[j]-MIN[j])+MIN[j]\n",
        "        \n",
        "    X2=np.zeros((NPAR2,cols)) # X2 is population DE (default DE)\n",
        "    for i in range(NPAR2):\n",
        "      for j in range(cols):\n",
        "        r=np.random.random()\n",
        "        X2[i,j]=r*(MAX[j]-MIN[j])+MIN[j]\n",
        "\n",
        "    X3=np.zeros((NPAR3,cols)) # X2 is population DE (default DE)\n",
        "    for i in range(NPAR3):\n",
        "      for j in range(cols):\n",
        "        r=np.random.random()\n",
        "        X3[i,j]=r*(MAX[j]-MIN[j])+MIN[j]\n",
        "\n",
        "    X4=np.zeros((NPAR4,cols)) # X2 is population DE (default DE)\n",
        "    for i in range(NPAR4):\n",
        "      for j in range(cols):\n",
        "        r=np.random.random()\n",
        "        X4[i,j]=r*(MAX[j]-MIN[j])+MIN[j]\n",
        "    \n",
        "    DIo=1e99\n",
        "  \n",
        "    CRo=crossp;Fo=mut;\n",
        "    Fitness = np.asarray([Fun(ind) for ind in X1])\n",
        "    XY,BEST_XY,BESTo,FOBESTo=AvaliaX(X1,Fitness)\n",
        "    nrow,ncol=X1.shape\n",
        "\n",
        "    QUANT=17;MAT_INDo=np.zeros((1,QUANT)); # quantos indices esta fazendo\n",
        "    MAT_INDo[0,5]=nrow  # VALOR NP\n",
        "    MAT_INDo[0,6]=Fo    # VALOR Fo   \n",
        "    MAT_INDo[0,7]=CRo   # VALOR CRo\n",
        "  \n",
        "    MAT_INDo=GeraIndices(X1,BESTo,FOBESTo,DIo,MAT_INDo,SOMA,TOTAL,syn0_F,\n",
        "                        syn1_F,X_max_F,X_min_F,syn0_CR,syn1_CR,X_max_CR,\n",
        "                        X_min_CR,Fc,fields,Fun)\n",
        "  \n",
        "    DIo=np.copy(MAT_INDo[0,0])\n",
        "    MAT_INDo[0,15]=Fo    # VALOR Fo   \n",
        "    MAT_INDo[0,16]=CRo   # VALOR CRo\n",
        "    #ind_crossp=ITE-1\n",
        "    \n",
        "\n",
        "    \n",
        "    for k in range(ITE):\n",
        "\n",
        "\n",
        "\n",
        "      X2,BEST2,FOBEST,XY,BEST_XY=de_bounds_matriz.de(bounds, mut2, crossp2,NPAR2, its,fobj,X2)\n",
        "      X3,BEST3,FOBEST,XY,BEST_XY=de_bounds_matriz.de(bounds, mut3, crossp3,NPAR3, its,fobj,X3)\n",
        "      X4,BEST4,FOBEST,XY,BEST_XY=de_bounds_matriz.de(bounds, mut4, crossp4,NPAR4, its,fobj,X4)\n",
        "      \n",
        "      X1,BEST1,FOBEST,XY,BEST_XY,SOMA= de_soma_Insight.de(MAX,MIN, mut, crossp,NPAR1,its,Fun,X1,SOMA,TOTAL)\n",
        "\n",
        "      MAT_IND=GeraIndices(X1,BESTo,FOBESTo,DIo,MAT_INDo,SOMA,TOTAL,syn0_F,\n",
        "                          syn1_F,X_max_F,X_min_F,syn0_CR,syn1_CR,X_max_CR,\n",
        "                          X_min_CR,Fc,fields,Fun)\n",
        "    \n",
        "      BESTo=np.copy(BEST1);FOBESTo=np.copy(FOBEST);\n",
        "      MAT.append(MAT_IND.ravel())\n",
        "    \n",
        "      MAT_INDo[0,6]=MAT_IND[0,15]   # VALOR Fo   \n",
        "      MAT_INDo[0,7]=MAT_IND[0,16]   # VALOR CRo\n",
        "      mut=MAT_IND[0,15]\n",
        "      crossp=MAT_IND[0,16]\n",
        "      X1[0,:] = BEST2;X1[1,:] = BEST3; X1[2,:] = BEST4;X1[NPAR1-1,:] = BEST1;\n",
        "      X2[0,:] = BEST1;X2[1,:] = BEST3;X2[2,:] = BEST4;X2[NPAR2-1,:] = BEST2;\n",
        "      X3[0,:] = BEST1;X3[1,:] = BEST2;X3[2,:] = BEST4;X3[NPAR3-1,:] = BEST3;\n",
        "      X4[0,:] = BEST1;X4[1,:] = BEST2;X4[2,:] = BEST3;X4[NPAR4-1,:] = BEST4;\n",
        "    print('k=',iii,'time=',(time.time()-start_time)/60, 'FO=',FOBEST)  \n",
        "    BEST_AGENTS.append(BEST_XY)\n",
        "    MAT_stat.append(MAT)\n",
        "    #print(\"GlobalParam e Solucao:\", BEST,\"Funcao=\",FOBEST)\n",
        "    \n",
        "############################## Cálculo dos Parâmetros de Avaliação   \n",
        "TIME = (time.time() - start_time)/RUNS\n",
        "BEST_AGENTS=np.array(BEST_AGENTS)\n",
        "BEST_AGENTS_ST= BEST_AGENTS[BEST_AGENTS[:,-1].argsort()]\n",
        "BEST=BEST_AGENTS_ST[0]\n",
        "WORSE=BEST_AGENTS_ST[-1]\n",
        "MEAN=np.mean(BEST_AGENTS,axis=0)\n",
        "MAXFO=BEST_AGENTS[:,-1].max()\n",
        "MINFO=BEST_AGENTS[:,-1].min()\n",
        "STD=BEST_AGENTS[:,-1].std()"
      ],
      "execution_count": 15,
      "outputs": [
        {
          "output_type": "stream",
          "text": [
            "k= 0 time= 0.7313031276067098 FO= 1.7183842728051923e-61\n",
            "k= 1 time= 1.4626815915107727 FO= 3.699165135990294e-64\n",
            "k= 2 time= 2.194501296679179 FO= 2.2661084697754407e-59\n",
            "k= 3 time= 2.9267781416575116 FO= 6.989982400489088e-60\n",
            "k= 4 time= 3.6563079754511514 FO= 2.7986823757166306e-64\n",
            "k= 5 time= 4.4373485485712685 FO= 4.040796080605143e-70\n",
            "k= 6 time= 5.217753020922343 FO= 8.480471318428037e-62\n",
            "k= 7 time= 5.985162691275279 FO= 7.11944017959985e-64\n",
            "k= 8 time= 6.769762921333313 FO= 7.08223729064106e-70\n",
            "k= 9 time= 7.531571821371714 FO= 2.990008739817977e-62\n",
            "k= 10 time= 8.298821965853373 FO= 3.460315582399657e-63\n",
            "k= 11 time= 9.067966600259146 FO= 1.541498847291847e-73\n",
            "k= 12 time= 9.820479607582092 FO= 3.09605824310359e-69\n",
            "k= 13 time= 10.579641564687092 FO= 8.698609578646728e-61\n",
            "k= 14 time= 11.353482818603515 FO= 5.462588841160632e-68\n",
            "k= 15 time= 12.164668420950571 FO= 8.583934370751494e-60\n",
            "k= 16 time= 12.922058018048604 FO= 1.553729872201861e-62\n",
            "k= 17 time= 13.685688368479411 FO= 3.389892120866186e-59\n",
            "k= 18 time= 14.443671727180481 FO= 2.4677355332406658e-61\n",
            "k= 19 time= 15.185739719867707 FO= 1.0921571281661761e-62\n",
            "k= 20 time= 15.938874729474385 FO= 2.379894554220486e-64\n",
            "k= 21 time= 16.691313751538594 FO= 7.366110986244848e-60\n",
            "k= 22 time= 17.450859248638153 FO= 4.674752313618401e-64\n",
            "k= 23 time= 18.213107967376708 FO= 9.987580424397491e-60\n",
            "k= 24 time= 18.952929715315502 FO= 3.123217162566293e-63\n",
            "k= 25 time= 19.691792662938436 FO= 4.1991577871927436e-63\n",
            "k= 26 time= 20.427897651990254 FO= 5.286081780218973e-62\n",
            "k= 27 time= 21.167746984958647 FO= 2.6110484639297073e-68\n",
            "k= 28 time= 21.909011960029602 FO= 1.8709804178657264e-68\n",
            "k= 29 time= 22.645058691501617 FO= 1.0856978566671689e-59\n",
            "k= 30 time= 23.387893867492675 FO= 1.9381839968559536e-60\n",
            "k= 31 time= 24.139091968536377 FO= 8.177078251598593e-63\n",
            "k= 32 time= 24.885842736562093 FO= 2.5366276411707123e-61\n",
            "k= 33 time= 25.629679489135743 FO= 1.9050764961605605e-60\n",
            "k= 34 time= 26.354005086421967 FO= 1.0572761922800365e-59\n",
            "k= 35 time= 27.079358446598054 FO= 5.0339532882521e-63\n",
            "k= 36 time= 27.804365106423695 FO= 1.1747515978209664e-68\n",
            "k= 37 time= 28.52817088762919 FO= 2.019216407972174e-65\n",
            "k= 38 time= 29.254019745190938 FO= 8.202447362224653e-63\n",
            "k= 39 time= 29.988608332475028 FO= 4.151947941953768e-68\n",
            "k= 40 time= 30.786150459448496 FO= 2.4180643254668077e-70\n",
            "k= 41 time= 31.55651223262151 FO= 6.483354825215851e-67\n",
            "k= 42 time= 32.2780783255895 FO= 9.805263594580554e-63\n",
            "k= 43 time= 32.99963980913162 FO= 2.321263865294977e-65\n",
            "k= 44 time= 33.72054821252823 FO= 1.0269626856879482e-58\n",
            "k= 45 time= 34.444379127025606 FO= 7.95991072811473e-59\n",
            "k= 46 time= 35.16144020160039 FO= 2.1136853196161482e-60\n",
            "k= 47 time= 35.88256315787633 FO= 5.41386544172152e-60\n",
            "k= 48 time= 36.60497648715973 FO= 8.6475279069261e-60\n",
            "k= 49 time= 37.324412779013315 FO= 1.457390667010217e-67\n"
          ],
          "name": "stdout"
        }
      ]
    },
    {
      "cell_type": "code",
      "metadata": {
        "id": "TLEE0UrZSvJF",
        "colab": {
          "base_uri": "https://localhost:8080/"
        },
        "outputId": "baa9837d-bca1-4c22-cf27-2c644682f3ef"
      },
      "source": [
        "#len(X2[1,:])\n",
        "print(cols)"
      ],
      "execution_count": 16,
      "outputs": [
        {
          "output_type": "stream",
          "text": [
            "10\n"
          ],
          "name": "stdout"
        }
      ]
    },
    {
      "cell_type": "code",
      "metadata": {
        "id": "k3p9TGsx1OCu"
      },
      "source": [
        "NOMES=['DIVERSIDADE (DI)',  'DI RELATIVO','FRAC Its',\n",
        "           'VELOC FOBJ','VELOC X','NP','Fo','CRo','fmin','fmax',\n",
        "           'AD_fmin','AD_fmax','DELTA FOBJ','DELTA VX','r_fitness',\n",
        "           'F','CR']\n",
        "# BEST_INDEX= BEST_AGENTS[BEST_AGENTS[:,-1].argmin()]  \n",
        "BEST_INDEX = np.argmin(BEST_AGENTS[:,-1])\n",
        "df=pd.DataFrame(MAT_stat[BEST_INDEX], columns=NOMES)\n",
        "\n"
      ],
      "execution_count": 17,
      "outputs": []
    },
    {
      "cell_type": "code",
      "metadata": {
        "id": "jIHiKR_t1xxs",
        "colab": {
          "base_uri": "https://localhost:8080/"
        },
        "outputId": "10b85672-0db6-4d08-dc78-029acbcc6677"
      },
      "source": [
        "pd.set_option('display.max_columns', 30)  \n",
        "print(df)"
      ],
      "execution_count": 18,
      "outputs": [
        {
          "output_type": "stream",
          "text": [
            "      DIVERSIDADE (DI)   DI RELATIVO  FRAC Its  VELOC FOBJ  VELOC X    NP  \\\n",
            "0         1.741307e+01  9.890317e-01   0.00052         2.0      2.0  52.0   \n",
            "1         1.666423e+01  9.464989e-01   0.00104         2.0      2.0  52.0   \n",
            "2         1.588525e+01  9.022539e-01   0.00156         1.0      2.0  52.0   \n",
            "3         1.497602e+01  8.506117e-01   0.00208         1.0      2.0  52.0   \n",
            "4         1.443503e+01  8.198843e-01   0.00260         1.0      2.0  52.0   \n",
            "...                ...           ...       ...         ...      ...   ...   \n",
            "1995      2.497840e-57  1.418729e-58   1.00001         1.0      1.0  52.0   \n",
            "1996      2.497840e-57  1.418729e-58   1.00001         1.0      1.0  52.0   \n",
            "1997      2.497840e-57  1.418729e-58   1.00001         1.0      1.0  52.0   \n",
            "1998      2.497840e-57  1.418729e-58   1.00001         0.0      0.0  52.0   \n",
            "1999      2.497840e-57  1.418729e-58   1.00001         1.0      1.0  52.0   \n",
            "\n",
            "            Fo       CRo          fmin          fmax  AD_fmin  AD_fmax  \\\n",
            "0     0.500000  0.500000  1.289484e+02  9.650065e+06      1.0      1.0   \n",
            "1     0.252742  0.335161  3.803932e+01  7.015055e+06      1.0      1.0   \n",
            "2     0.432157  0.229418  2.845084e+01  1.589036e+06      1.0      1.0   \n",
            "3     0.237199  0.160420  2.254606e+01  1.247656e+06      1.0      1.0   \n",
            "4     0.388523  0.228648  1.815155e+01  6.367347e+05      1.0      1.0   \n",
            "...        ...       ...           ...           ...      ...      ...   \n",
            "1995  0.336337  0.139216  2.704403e-73  1.087241e-56      1.0      1.0   \n",
            "1996  0.336337  0.139216  2.618664e-73  1.087241e-56      1.0      1.0   \n",
            "1997  0.336337  0.139216  1.661795e-73  1.087241e-56      1.0      1.0   \n",
            "1998  0.336337  0.139216  1.661795e-73  1.087241e-56      1.0      1.0   \n",
            "1999  0.336337  0.139216  1.541499e-73  1.087241e-56      1.0      1.0   \n",
            "\n",
            "      DELTA FOBJ  DELTA VX  r_fitness         F        CR  \n",
            "0            0.0       0.0   0.999987  0.252742  0.335161  \n",
            "1            0.0       0.0   0.999995  0.432157  0.229418  \n",
            "2            0.0       0.0   0.999982  0.237199  0.160420  \n",
            "3            0.0       0.0   0.999982  0.388523  0.228648  \n",
            "4            0.0       0.0   0.999971  0.627431  0.166160  \n",
            "...          ...       ...        ...       ...       ...  \n",
            "1995         0.0       0.0   1.000000  0.336337  0.139216  \n",
            "1996         0.0       0.0   1.000000  0.336337  0.139216  \n",
            "1997         0.0       0.0   1.000000  0.336337  0.139216  \n",
            "1998         0.0       0.0   1.000000  0.336337  0.139216  \n",
            "1999         0.0       0.0   1.000000  0.336337  0.139216  \n",
            "\n",
            "[2000 rows x 17 columns]\n"
          ],
          "name": "stdout"
        }
      ]
    },
    {
      "cell_type": "code",
      "metadata": {
        "id": "bx0ywpMtAAjw",
        "colab": {
          "base_uri": "https://localhost:8080/",
          "height": 296
        },
        "outputId": "83312173-85b2-4df8-c5f3-0c462d58f055"
      },
      "source": [
        "plt.plot(df['FRAC Its'],df['CR'])\n",
        "plt.xlabel('Iteração/Total')\n",
        "plt.ylabel('CR')"
      ],
      "execution_count": 19,
      "outputs": [
        {
          "output_type": "execute_result",
          "data": {
            "text/plain": [
              "Text(0, 0.5, 'CR')"
            ]
          },
          "metadata": {
            "tags": []
          },
          "execution_count": 19
        },
        {
          "output_type": "display_data",
          "data": {
            "image/png": "[encoded data removed]",
            "text/plain": [
              "<Figure size 432x288 with 1 Axes>"
            ]
          },
          "metadata": {
            "tags": [],
            "needs_background": "light"
          }
        }
      ]
    },
    {
      "cell_type": "code",
      "metadata": {
        "id": "BvPFvbDvteDC",
        "colab": {
          "base_uri": "https://localhost:8080/",
          "height": 295
        },
        "outputId": "2078b9bd-575e-4272-d869-7fc626ad73b1"
      },
      "source": [
        "\n",
        "fig, ax = plt.subplots()\n",
        "ax.plot(df['FRAC Its'],df['F'],label='F')\n",
        "ax.set_xlabel('Iteração/Total')\n",
        "ax.set_ylabel('Parâmetros')\n",
        "ax.plot(df['FRAC Its'],df['CR'],'-r', label='CR')\n",
        "nome=Fun.__name__+'  M=Diversidade'+ '  D='+str(dim)\n",
        "ax.set_title(nome)\n",
        "leg = ax.legend()\n"
      ],
      "execution_count": 20,
      "outputs": [
        {
          "output_type": "display_data",
          "data": {
            "image/png": "[encoded data removed]",
            "text/plain": [
              "<Figure size 432x288 with 1 Axes>"
            ]
          },
          "metadata": {
            "tags": [],
            "needs_background": "light"
          }
        }
      ]
    },
    {
      "cell_type": "code",
      "metadata": {
        "id": "htooaGpDia_0",
        "colab": {
          "base_uri": "https://localhost:8080/",
          "height": 312
        },
        "outputId": "a5d96558-a714-458c-b319-3b06bf098797"
      },
      "source": [
        "f, axarr = plt.subplots(2, sharex=True)\n",
        "axarr[0].plot(df['FRAC Its'],df['F'])\n",
        "axarr[0].set_ylabel('F')\n",
        "axarr[1].plot(df['FRAC Its'],df['CR'])\n",
        "axarr[1].set_ylabel('CR')\n",
        "axarr[1].set_xlabel('Iteração/Total')\n",
        "nome=Fun.__name__+'_Diversidade_'+ 'D='+str(dim)\n",
        "axarr[0].set_title(nome)\n"
      ],
      "execution_count": 21,
      "outputs": [
        {
          "output_type": "execute_result",
          "data": {
            "text/plain": [
              "Text(0.5, 1.0, 'Schwefel_222_Diversidade_D=10')"
            ]
          },
          "metadata": {
            "tags": []
          },
          "execution_count": 21
        },
        {
          "output_type": "display_data",
          "data": {
            "image/png": "[encoded data removed]",
            "text/plain": [
              "<Figure size 432x288 with 2 Axes>"
            ]
          },
          "metadata": {
            "tags": [],
            "needs_background": "light"
          }
        }
      ]
    },
    {
      "cell_type": "code",
      "metadata": {
        "id": "lNSN5X-wskcx",
        "colab": {
          "base_uri": "https://localhost:8080/"
        },
        "outputId": "67adfb18-29db-4de7-909b-743f97a7df9c"
      },
      "source": [
        "nome='SUB'+'_Fo-'+str(Fi)+'_CRo-'+str(CRi)+'_D-'+str(dim)+'_Interv-'+str(ITE)\n",
        "print('MCS-FRANNK','Fator F/DE= %.2f' %(fator),'NPAR=',NPAR,'Iterações=',ITE*its,'Dim=', PAR,\"Min/Max=\",MIN[0],\"/\",MAX[0],'_',Fun.__name__)\n",
        "print(nome, '\\n')\n",
        "#print('BEST: ',BEST)\n",
        "#print('MÉDIA: ',MEAN)\n",
        "print('MÉDIA: ',MEAN[-1],'STD __:',STD)\n",
        "print('MIN __:',MINFO, 'MAX__: ',MAXFO)\n",
        "print(MEAN[-1])\n",
        "print(STD)\n",
        "print(MINFO)\n",
        "print(\"Tempo Médio= %.3f segundos ---\" % (TIME))\n",
        "print(RUNS,'Rodadas') \n",
        "print()\n",
        "print('BEST: ',BEST)\n",
        "# print('melhor=',BEST_AGENTS[BEST_INDEX])"
      ],
      "execution_count": 22,
      "outputs": [
        {
          "output_type": "stream",
          "text": [
            "MCS-FRANNK Fator F/DE= 0.50 NPAR= 100 Iterações= 2000 Dim= 10 Min/Max= -10 / 10 _ Schwefel_222\n",
            "SUB_Fo-0.5_CRo-0.5_D-10_Interv-2000 \n",
            "\n",
            "MÉDIA:  6.300226855249877e-60 STD __: 1.8538413499086333e-59\n",
            "MIN __: 1.541498847291847e-73 MAX__:  1.0269626856879482e-58\n",
            "6.300226855249877e-60\n",
            "1.8538413499086333e-59\n",
            "1.541498847291847e-73\n",
            "Tempo Médio= 44.789 segundos ---\n",
            "50 Rodadas\n",
            "\n",
            "BEST:  [ 1.30389900e-74  3.68658290e-75 -1.60961892e-74 -4.29176579e-75\n",
            " -3.48026140e-74 -6.16650225e-75  3.20524916e-75  3.95178043e-74\n",
            " -9.33958146e-75 -2.40046057e-74  1.54149885e-73]\n"
          ],
          "name": "stdout"
        }
      ]
    }
  ]
}