{
  "nbformat": 4,
  "nbformat_minor": 0,
  "metadata": {
    "colab": {
      "name": "JADE_AND_Pop_H_Frannk__D30_0.5F-DE_XinSheYang.ipynb",
      "provenance": [],
      "collapsed_sections": [],
      "include_colab_link": true
    },
    "kernelspec": {
      "name": "python3",
      "display_name": "Python 3"
    },
    "language_info": {
      "codemirror_mode": {
        "name": "ipython",
        "version": 3
      },
      "file_extension": ".py",
      "mimetype": "text/x-python",
      "name": "python",
      "nbconvert_exporter": "python",
      "pygments_lexer": "ipython3",
      "version": "3.7.3"
    }
  },
  "cells": [
    {
      "cell_type": "markdown",
      "metadata": {
        "id": "view-in-github",
        "colab_type": "text"
      },
      "source": [
        "<a href=\"https://colab.research.google.com/github/RaianaSeixas/0_paper_one_revisited/blob/main/JADE_AND_Pop_H_Frannk__D30_0_5F_DE_XinSheYang.ipynb\" target=\"_parent\"><img src=\"https://colab.research.google.com/assets/colab-badge.svg\" alt=\"Open In Colab\"/></a>"
      ]
    },
    {
      "cell_type": "code",
      "metadata": {
        "colab": {
          "base_uri": "https://localhost:8080/"
        },
        "id": "c59cDVKoxDLX",
        "outputId": "94629043-5ac3-45b2-a430-5e4e2e08eea1"
      },
      "source": [
        "############################### Importar códigos\n",
        "!git clone https://github.com/ucfilho/optim_raianars_Insight\n",
        "%cd optim_raianars_Insight"
      ],
      "execution_count": null,
      "outputs": [
        {
          "output_type": "stream",
          "text": [
            "Cloning into 'optim_raianars_Insight'...\n",
            "remote: Enumerating objects: 366, done.\u001b[K\n",
            "remote: Counting objects: 100% (52/52), done.\u001b[K\n",
            "remote: Compressing objects: 100% (52/52), done.\u001b[K\n",
            "remote: Total 366 (delta 29), reused 0 (delta 0), pack-reused 314\u001b[K\n",
            "Receiving objects: 100% (366/366), 325.07 KiB | 3.53 MiB/s, done.\n",
            "Resolving deltas: 100% (210/210), done.\n",
            "/content/optim_raianars_Insight/optim_raianars_Insight\n"
          ],
          "name": "stdout"
        }
      ]
    },
    {
      "cell_type": "code",
      "metadata": {
        "id": "_E15mKFURR6O"
      },
      "source": [
        "import Function\n",
        "import Go2MinMax\n",
        "from GeraIndices import GeraIndices\n",
        "import Go2Ann\n",
        "import de_soma_Insight\n",
        "import de_bounds_matriz\n",
        "from AvaliaX import AvaliaX\n",
        "\n",
        "import numpy as np\n",
        "import time\n",
        "import matplotlib.pyplot as plt\n",
        "from random import randint\n",
        "from scipy import optimize\n",
        "import pandas as pd\n",
        "from sklearn.metrics import confusion_matrix\n",
        "\n",
        "############################### Função\n",
        "dim=30 # \n",
        "fchoice='XinSheYang'\n",
        "Fun=Function.XinSheYang\n",
        "MIN,MAX=Go2MinMax.Intervalo(dim,fchoice)\n",
        "#MAX=np.repeat(1.28,dim)\n",
        "#MIN=np.repeat(-1.28,dim)\n",
        "\n",
        "bounds=[]\n",
        "for k in range(len(MAX)):\n",
        "  bounds.append((MIN[k],MAX[k]))\n",
        "\n",
        "\n",
        "############################### DADOS DE ENTRADA \n",
        "RUNS=50 #NÚMERO DE RODADAS\n",
        "Fc=0.1 # fator de correcao parametros da ANN\n",
        "its=1 #10 # quantas vezes vai usar o NPAR antes de alterar de novo\n",
        "ITE=2000 #00 #10 # PONTOS quantas vezes vai alteral NPAR \n",
        "NPAR=100\n",
        "mut=0.5\n",
        "crossp=0.5\n",
        "\n",
        "#fator = 1.0/3.0; \n",
        "Fi=mut;CRi=crossp;# para impressão\n",
        "fator = 1.0/2.0; \n",
        "mut2=0.5;crossp2=0.5;mut3=0.75;crossp3=0.25;mut4=0.25;crossp4=0.25;\n"
      ],
      "execution_count": null,
      "outputs": []
    },
    {
      "cell_type": "code",
      "metadata": {
        "colab": {
          "base_uri": "https://localhost:8080/"
        },
        "id": "lAVDJIRmNQUC",
        "outputId": "7a812118-a385-4ef8-fd15-e7413355a6a0"
      },
      "source": [
        "!pip install PyFDE"
      ],
      "execution_count": null,
      "outputs": [
        {
          "output_type": "stream",
          "text": [
            "Collecting PyFDE\n",
            "\u001b[?25l  Downloading https://files.pythonhosted.org/packages/72/f9/87f7279554d2682e3827d39c3d3a565b2fd42f7114a779e34a601c6c5079/PyFDE-1.3.0.tar.gz (397kB)\n",
            "\r\u001b[K     |▉                               | 10kB 12.0MB/s eta 0:00:01\r\u001b[K     |█▋                              | 20kB 15.4MB/s eta 0:00:01\r\u001b[K     |██▌                             | 30kB 18.5MB/s eta 0:00:01\r\u001b[K     |███▎                            | 40kB 20.5MB/s eta 0:00:01\r\u001b[K     |████▏                           | 51kB 7.3MB/s eta 0:00:01\r\u001b[K     |█████                           | 61kB 7.9MB/s eta 0:00:01\r\u001b[K     |█████▊                          | 71kB 5.8MB/s eta 0:00:01\r\u001b[K     |██████▋                         | 81kB 6.5MB/s eta 0:00:01\r\u001b[K     |███████▍                        | 92kB 5.2MB/s eta 0:00:01\r\u001b[K     |████████▎                       | 102kB 5.6MB/s eta 0:00:01\r\u001b[K     |█████████                       | 112kB 5.6MB/s eta 0:00:01\r\u001b[K     |██████████                      | 122kB 5.6MB/s eta 0:00:01\r\u001b[K     |██████████▊                     | 133kB 5.6MB/s eta 0:00:01\r\u001b[K     |███████████▌                    | 143kB 5.6MB/s eta 0:00:01\r\u001b[K     |████████████▍                   | 153kB 5.6MB/s eta 0:00:01\r\u001b[K     |█████████████▏                  | 163kB 5.6MB/s eta 0:00:01\r\u001b[K     |██████████████                  | 174kB 5.6MB/s eta 0:00:01\r\u001b[K     |██████████████▉                 | 184kB 5.6MB/s eta 0:00:01\r\u001b[K     |███████████████▊                | 194kB 5.6MB/s eta 0:00:01\r\u001b[K     |████████████████▌               | 204kB 5.6MB/s eta 0:00:01\r\u001b[K     |█████████████████▎              | 215kB 5.6MB/s eta 0:00:01\r\u001b[K     |██████████████████▏             | 225kB 5.6MB/s eta 0:00:01\r\u001b[K     |███████████████████             | 235kB 5.6MB/s eta 0:00:01\r\u001b[K     |███████████████████▉            | 245kB 5.6MB/s eta 0:00:01\r\u001b[K     |████████████████████▋           | 256kB 5.6MB/s eta 0:00:01\r\u001b[K     |█████████████████████▌          | 266kB 5.6MB/s eta 0:00:01\r\u001b[K     |██████████████████████▎         | 276kB 5.6MB/s eta 0:00:01\r\u001b[K     |███████████████████████         | 286kB 5.6MB/s eta 0:00:01\r\u001b[K     |████████████████████████        | 296kB 5.6MB/s eta 0:00:01\r\u001b[K     |████████████████████████▊       | 307kB 5.6MB/s eta 0:00:01\r\u001b[K     |█████████████████████████▋      | 317kB 5.6MB/s eta 0:00:01\r\u001b[K     |██████████████████████████▍     | 327kB 5.6MB/s eta 0:00:01\r\u001b[K     |███████████████████████████▎    | 337kB 5.6MB/s eta 0:00:01\r\u001b[K     |████████████████████████████    | 348kB 5.6MB/s eta 0:00:01\r\u001b[K     |████████████████████████████▉   | 358kB 5.6MB/s eta 0:00:01\r\u001b[K     |█████████████████████████████▊  | 368kB 5.6MB/s eta 0:00:01\r\u001b[K     |██████████████████████████████▌ | 378kB 5.6MB/s eta 0:00:01\r\u001b[K     |███████████████████████████████▍| 389kB 5.6MB/s eta 0:00:01\r\u001b[K     |████████████████████████████████| 399kB 5.6MB/s \n",
            "\u001b[?25hRequirement already satisfied: numpy in /usr/local/lib/python3.7/dist-packages (from PyFDE) (1.19.5)\n",
            "Building wheels for collected packages: PyFDE\n",
            "  Building wheel for PyFDE (setup.py) ... \u001b[?25l\u001b[?25hdone\n",
            "  Created wheel for PyFDE: filename=PyFDE-1.3.0-cp37-cp37m-linux_x86_64.whl size=974662 sha256=1742d997bf47e80b6250cccb020028a2a48450437ae23635520f85db8f639e25\n",
            "  Stored in directory: /root/.cache/pip/wheels/7d/42/ba/abf21db37934e576c74fc2c9504b5cd97eb6a99e3dec1743c0\n",
            "Successfully built PyFDE\n",
            "Installing collected packages: PyFDE\n",
            "Successfully installed PyFDE-1.3.0\n"
          ],
          "name": "stdout"
        }
      ]
    },
    {
      "cell_type": "code",
      "metadata": {
        "id": "E7DrzRqmM2j8"
      },
      "source": [
        "import pyfde\n",
        "solver = pyfde.JADE(Fun, n_dim= dim, n_pop=NPAR, limits=bounds, minimize=True)\n",
        "solver.p = 0.05\n",
        "solver.c = 0.1"
      ],
      "execution_count": null,
      "outputs": []
    },
    {
      "cell_type": "code",
      "metadata": {
        "id": "NnOvinHvNl_p"
      },
      "source": [
        "start_time = time.time()\n",
        "BEST_AGENTS=[]\n",
        "MAT_stat=[]"
      ],
      "execution_count": null,
      "outputs": []
    },
    {
      "cell_type": "code",
      "metadata": {
        "colab": {
          "base_uri": "https://localhost:8080/"
        },
        "id": "3-uCNVsZNnqa",
        "outputId": "a05ce7d9-0b98-4354-996c-d4e71a6d1000"
      },
      "source": [
        "start_time = time.time()\n",
        "BEST_AGENTS=[]\n",
        "BEST_FIT =[]\n",
        "rows = RUNS\n",
        "cols = dim + 1\n",
        "BEST_XY = np.zeros((rows,cols))\n",
        "for iii in range(RUNS):\n",
        "  best, fit = solver.run(n_it=ITE)\n",
        "  kkk = -1\n",
        "  for xi in best:\n",
        "    kkk = kkk +1\n",
        "    BEST_XY[iii,kkk] = xi\n",
        "  BEST_XY[iii,dim] = -fit\n",
        "  BEST_AGENTS.append(best)\n",
        "  TIME = (time.time() - start_time) /60\n",
        "  BEST_FIT.append(-fit)\n",
        "  print('ite ', iii,'time ', TIME,'fob =', -fit)\n",
        "    \n",
        "############################## Cálculo dos Parâmetros de Avaliação   \n",
        "JADE_TIME = (time.time() - start_time)/RUNS"
      ],
      "execution_count": null,
      "outputs": [
        {
          "output_type": "stream",
          "text": [
            "ite  0 time  0.24013796250025432 fob = 0.9950234947576022\n",
            "ite  1 time  0.47683349053064983 fob = 0.9950234947576022\n",
            "ite  2 time  0.7150690674781799 fob = 0.9950234947576022\n",
            "ite  3 time  0.9537620464960734 fob = 0.9950234947576022\n",
            "ite  4 time  1.192709243297577 fob = 0.9950234947576022\n",
            "ite  5 time  1.4292897939682008 fob = 0.9950234947576022\n",
            "ite  6 time  1.6683101614316305 fob = 0.9950234947576022\n",
            "ite  7 time  1.9067485372225443 fob = 0.9950234947576022\n",
            "ite  8 time  2.1438775777816774 fob = 0.9950234947576022\n",
            "ite  9 time  2.3837878584861754 fob = 0.9950234947576022\n",
            "ite  10 time  2.622146733601888 fob = 0.9950234947576022\n",
            "ite  11 time  2.861091760794322 fob = 0.9950234947576022\n",
            "ite  12 time  3.0972318410873414 fob = 0.9950234947576022\n",
            "ite  13 time  3.3357054114341738 fob = 0.9950234947576022\n",
            "ite  14 time  3.5817581017812095 fob = 0.9950234947576022\n",
            "ite  15 time  3.84120104710261 fob = 0.9950234947576022\n",
            "ite  16 time  4.082356238365174 fob = 0.9950234947576022\n",
            "ite  17 time  4.3215718269348145 fob = 0.9950234947576022\n",
            "ite  18 time  4.561056009928385 fob = 0.9950234947576022\n",
            "ite  19 time  4.799990399678548 fob = 0.9950234947576022\n",
            "ite  20 time  5.043641114234925 fob = 0.9950234947576022\n",
            "ite  21 time  5.282766739527385 fob = 0.9950234947576022\n",
            "ite  22 time  5.521894633769989 fob = 0.9950234947576022\n",
            "ite  23 time  5.7613539854685465 fob = 0.9950234947576022\n",
            "ite  24 time  6.000349609057109 fob = 0.9950234947576022\n",
            "ite  25 time  6.240581385294596 fob = 0.9950234947576022\n",
            "ite  26 time  6.478597319126129 fob = 0.9950234947576022\n",
            "ite  27 time  6.72131013472875 fob = 0.9950234947576022\n",
            "ite  28 time  6.960501019159953 fob = 0.9950234947576022\n",
            "ite  29 time  7.200237369537353 fob = 0.9950234947576022\n",
            "ite  30 time  7.43937037785848 fob = 0.9950234947576022\n",
            "ite  31 time  7.679121124744415 fob = 0.9950234947576022\n",
            "ite  32 time  7.920164080460866 fob = 0.9950234947576022\n",
            "ite  33 time  8.160203194618225 fob = 0.9950234947576022\n",
            "ite  34 time  8.399555230140686 fob = 0.9950234947576022\n",
            "ite  35 time  8.637293144067128 fob = 0.9950234947576022\n",
            "ite  36 time  8.873485171794892 fob = 0.9950234947576022\n",
            "ite  37 time  9.11175369421641 fob = 0.9950234947576022\n",
            "ite  38 time  9.348093020915986 fob = 0.9950234947576022\n",
            "ite  39 time  9.585941191514333 fob = 0.9950234947576022\n",
            "ite  40 time  9.824684715270996 fob = 0.9950234947576022\n",
            "ite  41 time  10.064171882470449 fob = 0.9950234947576022\n",
            "ite  42 time  10.302092858155568 fob = 0.9950234947576022\n",
            "ite  43 time  10.540098190307617 fob = 0.9950234947576022\n",
            "ite  44 time  10.779039033253987 fob = 0.9950234947576022\n",
            "ite  45 time  11.016168816884358 fob = 0.9950234947576022\n",
            "ite  46 time  11.256267527739206 fob = 0.9950234947576022\n",
            "ite  47 time  11.492972552776337 fob = 0.9950234947576022\n",
            "ite  48 time  11.732143326600392 fob = 0.9950234947576022\n",
            "ite  49 time  11.970907747745514 fob = 0.9950234947576022\n"
          ],
          "name": "stdout"
        }
      ]
    },
    {
      "cell_type": "code",
      "metadata": {
        "id": "vxovHXZqNuYh"
      },
      "source": [
        "IND_XY = np.argsort(np.array(BEST_XY[:,-1]))\n",
        "BEST_XY = BEST_XY[IND_XY,:]"
      ],
      "execution_count": null,
      "outputs": []
    },
    {
      "cell_type": "code",
      "metadata": {
        "id": "iNdcjVsFN15n"
      },
      "source": [
        "JADE_BEST=BEST_XY[0]\n",
        "JADE_WORSE=BEST_XY[-1]\n",
        "JADE_MEAN=np.mean(BEST_XY,axis=0)\n",
        "JADE_MAXFO=BEST_XY[:,-1].max()\n",
        "JADE_MINFO=BEST_XY[:,-1].min()\n",
        "JADE_STD=BEST_XY[:,-1].std()\n",
        "JADE_BEST=BEST_XY[(rows-1),(cols-1)]"
      ],
      "execution_count": null,
      "outputs": []
    },
    {
      "cell_type": "code",
      "metadata": {
        "id": "qTINtQ1cosZK",
        "colab": {
          "base_uri": "https://localhost:8080/"
        },
        "outputId": "c1ea7d76-9da9-4ca1-d94a-8519695b79db"
      },
      "source": [
        "!git clone https://github.com/ucfilho/ANN_read_matrix #clonar do Github\n",
        "%cd ANN_read_matrix"
      ],
      "execution_count": null,
      "outputs": [
        {
          "output_type": "stream",
          "text": [
            "Cloning into 'ANN_read_matrix'...\n",
            "remote: Enumerating objects: 20, done.\u001b[K\n",
            "remote: Counting objects: 100% (20/20), done.\u001b[K\n",
            "remote: Compressing objects: 100% (18/18), done.\u001b[K\n",
            "remote: Total 20 (delta 5), reused 0 (delta 0), pack-reused 0\u001b[K\n",
            "Unpacking objects: 100% (20/20), done.\n",
            "/content/optim_raianars_Insight/optim_raianars_Insight/ANN_read_matrix\n"
          ],
          "name": "stdout"
        }
      ]
    },
    {
      "cell_type": "code",
      "metadata": {
        "id": "QiQLYOoNoyCw"
      },
      "source": [
        "ANN_F=pd.read_csv('ANN_INSIGHT_Valor_F.csv')"
      ],
      "execution_count": null,
      "outputs": []
    },
    {
      "cell_type": "code",
      "metadata": {
        "id": "uHtW2amaDzFv"
      },
      "source": [
        "ANN_CR=pd.read_csv('ANN_INSIGHT_CR.csv')"
      ],
      "execution_count": null,
      "outputs": []
    },
    {
      "cell_type": "code",
      "metadata": {
        "id": "EH6h_vke2yu1"
      },
      "source": [
        "syn0_F,syn1_F,X_max_F,X_min_F=Go2Ann.GetMatriz(ANN_F)"
      ],
      "execution_count": null,
      "outputs": []
    },
    {
      "cell_type": "code",
      "metadata": {
        "id": "WW_3ZWJXD60i"
      },
      "source": [
        "syn0_CR,syn1_CR,X_max_CR,X_min_CR=Go2Ann.GetMatriz(ANN_CR)"
      ],
      "execution_count": null,
      "outputs": []
    },
    {
      "cell_type": "code",
      "metadata": {
        "id": "b4gwBvVTyaXh"
      },
      "source": [
        "ANN_CR=pd.read_csv('ANN_INSIGHT_CR.csv')"
      ],
      "execution_count": null,
      "outputs": []
    },
    {
      "cell_type": "code",
      "metadata": {
        "id": "6jL8MxpHvk-Y"
      },
      "source": [
        "fields = ['DI RELATIVO','FRAC Its','Fo','CRo']"
      ],
      "execution_count": null,
      "outputs": []
    },
    {
      "cell_type": "code",
      "metadata": {
        "id": "Mb3LmbSmj9v7",
        "colab": {
          "base_uri": "https://localhost:8080/"
        },
        "outputId": "dd3892b5-7b0c-41b7-d006-86a2ba4a3298"
      },
      "source": [
        "##################################### \n",
        "\n",
        "TOTAL=10*dim*its*ITE\n",
        "TOTAL=int(TOTAL/2)   # CONFERIR SE ESTE EH O MELHOR LUGAR\n",
        "\n",
        "dimensions=len(MAX)\n",
        "start_time = time.time() #INICIALIZA CONTAGEM DO TEMPO\n",
        "\n",
        "\n",
        "PAR=dim\n",
        "fobj=Fun\n",
        "\n",
        "MAX_P=np.zeros(ITE) # ATENCAO para variar F e Cr MAX_P passa a ser 3 vezes maior\n",
        "MIN_P=np.zeros(ITE) # ATENCAO para variar F e Cr MIN_P passa a ser 3 vezes maior\n",
        "\n",
        "for i in range(dim):\n",
        "  MAX_P[i]=MAX[i] \n",
        "  MIN_P[i]=MIN[i]\n",
        "\n",
        "rodadas=1\n",
        "NPAR1=int(fator*NPAR);\n",
        "NPAR2=int((NPAR-NPAR1)/3);\n",
        "NPAR3=int((NPAR-NPAR1)/3);\n",
        "NPAR4=int((NPAR-NPAR1)/3);\n",
        "NPAR1 = NPAR-3*NPAR2\n",
        "print('frac=',fator);\n",
        "print('Npar1=',NPAR1);\n",
        "print('Npar2=',NPAR2);\n",
        "print('Npar3=',NPAR3);\n",
        "print('Npar4=',NPAR4);\n",
        "print('Npar=',NPAR)\n",
        "\n",
        "cols=dim\n",
        "\n",
        "X1=np.zeros((NPAR1,cols)) # X1 is Frannk population\n",
        "for i in range(NPAR1):\n",
        "  for j in range(cols):\n",
        "    r=np.random.random()\n",
        "    X1[i,j]=r*(MAX[j]-MIN[j])+MIN[j]\n",
        "    \n",
        "X2=np.zeros((NPAR2,cols)) # X2 is population DE (default DE)\n",
        "for i in range(NPAR2):\n",
        "  for j in range(cols):\n",
        "    r=np.random.random()\n",
        "    X2[i,j]=r*(MAX[j]-MIN[j])+MIN[j]\n",
        "\n",
        "X3=np.zeros((NPAR3,cols)) # X1 is Frannk population\n",
        "for i in range(NPAR3):\n",
        "  for j in range(cols):\n",
        "    r=np.random.random()\n",
        "    X3[i,j]=r*(MAX[j]-MIN[j])+MIN[j]\n",
        "    \n",
        "X4=np.zeros((NPAR4,cols)) # X2 is population DE (default DE)\n",
        "for i in range(NPAR4):\n",
        "  for j in range(cols):\n",
        "    r=np.random.random()\n",
        "    X4[i,j]=r*(MAX[j]-MIN[j])+MIN[j]\n",
        "    \n",
        " ############################################################\n",
        "  #bounds=[(5*dim, 15*dim)] * PONTOS # ITE\n",
        "  #bounds=[(3*dim, 12*dim)] * PONTOS # ITE\n",
        "  #bounds=[(4*dim, 16*dim)] * PONTOS\n",
        "  \n",
        "  # nao pode ser assim pq o bounds vale p o DE nao dos parametros\n",
        "  #p=int(TOTAL/its/ITE) \n",
        "  #bounds=[(p, p)] * PONTOS\n"
      ],
      "execution_count": null,
      "outputs": [
        {
          "output_type": "stream",
          "text": [
            "frac= 0.5\n",
            "Npar1= 52\n",
            "Npar2= 16\n",
            "Npar3= 16\n",
            "Npar4= 16\n",
            "Npar= 100\n"
          ],
          "name": "stdout"
        }
      ]
    },
    {
      "cell_type": "code",
      "metadata": {
        "id": "rnX8ttNopd1G",
        "colab": {
          "base_uri": "https://localhost:8080/"
        },
        "outputId": "b547cd08-e4b8-4829-af0c-eee5fd8bf0d4"
      },
      "source": [
        "\n",
        "start_time = time.time()\n",
        "BEST_AGENTS=[]\n",
        "MAT_stat=[]\n",
        "for iii in range(RUNS):\n",
        "    MAT=[] \n",
        "    mut=Fi\n",
        "    crossp=CRi\n",
        "    SOMA=0\n",
        "    pop = np.random.rand(NPAR, dim)\n",
        "    diff=np.zeros(PAR)\n",
        "\n",
        "\n",
        "    X1=np.zeros((NPAR1,cols)) # X1 is Frannk population\n",
        "    for i in range(NPAR1):\n",
        "      for j in range(cols):\n",
        "        r=np.random.random()\n",
        "        X1[i,j]=r*(MAX[j]-MIN[j])+MIN[j]\n",
        "        \n",
        "    X2=np.zeros((NPAR2,cols)) # X2 is population DE (default DE)\n",
        "    for i in range(NPAR2):\n",
        "      for j in range(cols):\n",
        "        r=np.random.random()\n",
        "        X2[i,j]=r*(MAX[j]-MIN[j])+MIN[j]\n",
        "\n",
        "    X3=np.zeros((NPAR3,cols)) # X2 is population DE (default DE)\n",
        "    for i in range(NPAR3):\n",
        "      for j in range(cols):\n",
        "        r=np.random.random()\n",
        "        X3[i,j]=r*(MAX[j]-MIN[j])+MIN[j]\n",
        "\n",
        "    X4=np.zeros((NPAR4,cols)) # X2 is population DE (default DE)\n",
        "    for i in range(NPAR4):\n",
        "      for j in range(cols):\n",
        "        r=np.random.random()\n",
        "        X4[i,j]=r*(MAX[j]-MIN[j])+MIN[j]\n",
        "    \n",
        "    DIo=1e99\n",
        "  \n",
        "    CRo=crossp;Fo=mut;\n",
        "    Fitness = np.asarray([Fun(ind) for ind in X1])\n",
        "    XY,BEST_XY,BESTo,FOBESTo=AvaliaX(X1,Fitness)\n",
        "    nrow,ncol=X1.shape\n",
        "\n",
        "    QUANT=17;MAT_INDo=np.zeros((1,QUANT)); # quantos indices esta fazendo\n",
        "    MAT_INDo[0,5]=nrow  # VALOR NP\n",
        "    MAT_INDo[0,6]=Fo    # VALOR Fo   \n",
        "    MAT_INDo[0,7]=CRo   # VALOR CRo\n",
        "  \n",
        "    MAT_INDo=GeraIndices(X1,BESTo,FOBESTo,DIo,MAT_INDo,SOMA,TOTAL,syn0_F,\n",
        "                        syn1_F,X_max_F,X_min_F,syn0_CR,syn1_CR,X_max_CR,\n",
        "                        X_min_CR,Fc,fields,Fun)\n",
        "  \n",
        "    DIo=np.copy(MAT_INDo[0,0])\n",
        "    MAT_INDo[0,15]=Fo    # VALOR Fo   \n",
        "    MAT_INDo[0,16]=CRo   # VALOR CRo\n",
        "    #ind_crossp=ITE-1\n",
        "    \n",
        "\n",
        "    \n",
        "    for k in range(ITE):\n",
        "\n",
        "\n",
        "\n",
        "      X2,BEST2,FOBEST,XY,BEST_XY=de_bounds_matriz.de(bounds, mut2, crossp2,NPAR2, its,fobj,X2)\n",
        "      X3,BEST3,FOBEST,XY,BEST_XY=de_bounds_matriz.de(bounds, mut3, crossp3,NPAR3, its,fobj,X3)\n",
        "      X4,BEST4,FOBEST,XY,BEST_XY=de_bounds_matriz.de(bounds, mut4, crossp4,NPAR4, its,fobj,X4)\n",
        "      \n",
        "      X1,BEST1,FOBEST,XY,BEST_XY,SOMA= de_soma_Insight.de(MAX,MIN, mut, crossp,NPAR1,its,Fun,X1,SOMA,TOTAL)\n",
        "\n",
        "      MAT_IND=GeraIndices(X1,BESTo,FOBESTo,DIo,MAT_INDo,SOMA,TOTAL,syn0_F,\n",
        "                          syn1_F,X_max_F,X_min_F,syn0_CR,syn1_CR,X_max_CR,\n",
        "                          X_min_CR,Fc,fields,Fun)\n",
        "    \n",
        "      BESTo=np.copy(BEST1);FOBESTo=np.copy(FOBEST);\n",
        "      MAT.append(MAT_IND.ravel())\n",
        "    \n",
        "      MAT_INDo[0,6]=MAT_IND[0,15]   # VALOR Fo   \n",
        "      MAT_INDo[0,7]=MAT_IND[0,16]   # VALOR CRo\n",
        "      mut=MAT_IND[0,15]\n",
        "      crossp=MAT_IND[0,16]\n",
        "      X1[0,:] = BEST2;X1[1,:] = BEST3; X1[2,:] = BEST4;X1[NPAR1-1,:] = BEST1;\n",
        "      X2[0,:] = BEST1;X2[1,:] = BEST3;X2[2,:] = BEST4;X2[NPAR2-1,:] = BEST2;\n",
        "      X3[0,:] = BEST1;X3[1,:] = BEST2;X3[2,:] = BEST4;X3[NPAR3-1,:] = BEST3;\n",
        "      X4[0,:] = BEST1;X4[1,:] = BEST2;X4[2,:] = BEST3;X4[NPAR4-1,:] = BEST4;\n",
        "    print('k=',iii,'time=',(time.time()-start_time)/60, 'FO=',FOBEST)  \n",
        "    BEST_AGENTS.append(BEST_XY)\n",
        "    MAT_stat.append(MAT)\n",
        "    #print(\"GlobalParam e Solucao:\", BEST,\"Funcao=\",FOBEST)\n",
        "    \n",
        "############################## Cálculo dos Parâmetros de Avaliação   \n",
        "TIME = (time.time() - start_time)/RUNS\n",
        "BEST_AGENTS=np.array(BEST_AGENTS)\n",
        "BEST_AGENTS_ST= BEST_AGENTS[BEST_AGENTS[:,-1].argsort()]\n",
        "BEST=BEST_AGENTS_ST[0]\n",
        "WORSE=BEST_AGENTS_ST[-1]\n",
        "MEAN=np.mean(BEST_AGENTS,axis=0)\n",
        "MAXFO=BEST_AGENTS[:,-1].max()\n",
        "MINFO=BEST_AGENTS[:,-1].min()\n",
        "STD=BEST_AGENTS[:,-1].std()"
      ],
      "execution_count": null,
      "outputs": [
        {
          "output_type": "stream",
          "text": [
            "k= 0 time= 3.0100760738054912 FO= 0.9950234947576022\n",
            "k= 1 time= 5.9817583401997885 FO= 0.9950234947576022\n",
            "k= 2 time= 8.949753709634145 FO= 0.9950234947576022\n",
            "k= 3 time= 11.910712218284607 FO= 0.9950234947576022\n",
            "k= 4 time= 14.874735379219056 FO= 0.9950234947576022\n",
            "k= 5 time= 17.843058760960897 FO= 0.9950234947576022\n",
            "k= 6 time= 20.80888344446818 FO= 0.9950234947576022\n",
            "k= 7 time= 23.773130619525908 FO= 0.9950234947576022\n",
            "k= 8 time= 26.736718078454334 FO= 0.9950234947576022\n",
            "k= 9 time= 29.703995966911314 FO= 0.9950234947576022\n",
            "k= 10 time= 32.66141380866369 FO= 0.9950234947576022\n",
            "k= 11 time= 35.62361147403717 FO= 0.9950234947576022\n",
            "k= 12 time= 38.58690447012584 FO= 0.9950234947576022\n",
            "k= 13 time= 41.55775205294291 FO= 0.9950234947576022\n",
            "k= 14 time= 44.52815454006195 FO= 0.9950234947576022\n",
            "k= 15 time= 47.500418706734976 FO= 0.9950234947576022\n",
            "k= 16 time= 50.472529383500415 FO= 0.9950234947576022\n",
            "k= 17 time= 53.440319724877675 FO= 0.9950234947576022\n",
            "k= 18 time= 56.3998007774353 FO= 0.9950234947576022\n",
            "k= 19 time= 59.37160699367523 FO= 0.9950234947576022\n",
            "k= 20 time= 62.32847684224446 FO= 0.9950234947576022\n",
            "k= 21 time= 65.2924792210261 FO= 0.9950234947576022\n",
            "k= 22 time= 68.25462713241578 FO= 0.9950234947576022\n",
            "k= 23 time= 71.24294430017471 FO= 0.9950234947576022\n",
            "k= 24 time= 74.19759890238444 FO= 0.9950234947576022\n",
            "k= 25 time= 77.16083250840505 FO= 0.9950234947576022\n",
            "k= 26 time= 80.12348408301672 FO= 0.9950234947576022\n",
            "k= 27 time= 83.0887079278628 FO= 0.9950234947576022\n",
            "k= 28 time= 86.04922272761662 FO= 0.9950234947576022\n",
            "k= 29 time= 89.00277833938598 FO= 0.9950234947576022\n",
            "k= 30 time= 91.9635169227918 FO= 0.9950234947576022\n",
            "k= 31 time= 94.91930616299311 FO= 0.9950234947576022\n",
            "k= 32 time= 97.87542380094528 FO= 0.9950234947576022\n",
            "k= 33 time= 100.82923237482707 FO= 0.9950234947576022\n",
            "k= 34 time= 103.76419562101364 FO= 0.9950234947576022\n",
            "k= 35 time= 106.71088947852452 FO= 0.9950234947576022\n",
            "k= 36 time= 109.66577057441076 FO= 0.9950234947576022\n",
            "k= 37 time= 112.63718947172165 FO= 0.9950234947576022\n",
            "k= 38 time= 115.59887764056523 FO= 0.9950234947576022\n",
            "k= 39 time= 118.56452014446259 FO= 0.9950234947576022\n",
            "k= 40 time= 121.53003675142924 FO= 0.9950234947576022\n",
            "k= 41 time= 124.4769026239713 FO= 0.9950234947576022\n",
            "k= 42 time= 127.43955962657928 FO= 0.9950234947576022\n",
            "k= 43 time= 130.4026645342509 FO= 0.9950234947576022\n",
            "k= 44 time= 133.38127071062723 FO= 0.9950234947576022\n",
            "k= 45 time= 136.34479506413143 FO= 0.9950234947576022\n",
            "k= 46 time= 139.30826344092688 FO= 0.9950234947576022\n",
            "k= 47 time= 142.26817201375962 FO= 0.9950234947576022\n",
            "k= 48 time= 145.22438623110455 FO= 0.9950234947576022\n",
            "k= 49 time= 148.18038251797358 FO= 0.9950234947576022\n"
          ],
          "name": "stdout"
        }
      ]
    },
    {
      "cell_type": "code",
      "metadata": {
        "id": "TLEE0UrZSvJF",
        "colab": {
          "base_uri": "https://localhost:8080/"
        },
        "outputId": "a6a3fe01-8489-43bc-bcec-4f060e0d2a58"
      },
      "source": [
        "#len(X2[1,:])\n",
        "print(cols)"
      ],
      "execution_count": null,
      "outputs": [
        {
          "output_type": "stream",
          "text": [
            "30\n"
          ],
          "name": "stdout"
        }
      ]
    },
    {
      "cell_type": "code",
      "metadata": {
        "id": "k3p9TGsx1OCu"
      },
      "source": [
        "NOMES=['DIVERSIDADE (DI)',  'DI RELATIVO','FRAC Its',\n",
        "           'VELOC FOBJ','VELOC X','NP','Fo','CRo','fmin','fmax',\n",
        "           'AD_fmin','AD_fmax','DELTA FOBJ','DELTA VX','r_fitness',\n",
        "           'F','CR']\n",
        "# BEST_INDEX= BEST_AGENTS[BEST_AGENTS[:,-1].argmin()]  \n",
        "BEST_INDEX = np.argmin(BEST_AGENTS[:,-1])\n",
        "df=pd.DataFrame(MAT_stat[BEST_INDEX], columns=NOMES)\n",
        "\n"
      ],
      "execution_count": null,
      "outputs": []
    },
    {
      "cell_type": "code",
      "metadata": {
        "id": "jIHiKR_t1xxs"
      },
      "source": [
        "pd.set_option('display.max_columns', 30)  \n",
        "#print(df)"
      ],
      "execution_count": null,
      "outputs": []
    },
    {
      "cell_type": "code",
      "metadata": {
        "id": "bx0ywpMtAAjw",
        "colab": {
          "base_uri": "https://localhost:8080/",
          "height": 296
        },
        "outputId": "0958f978-fd69-48c7-a8bd-9fc3f02b3e3f"
      },
      "source": [
        "plt.plot(df['FRAC Its'],df['CR'])\n",
        "plt.xlabel('Iteração/Total')\n",
        "plt.ylabel('CR')"
      ],
      "execution_count": null,
      "outputs": [
        {
          "output_type": "execute_result",
          "data": {
            "text/plain": [
              "Text(0, 0.5, 'CR')"
            ]
          },
          "metadata": {
            "tags": []
          },
          "execution_count": 23
        },
        {
          "output_type": "display_data",
          "data": {
            "image/png": "[encoded data removed]",
            "text/plain": [
              "<Figure size 432x288 with 1 Axes>"
            ]
          },
          "metadata": {
            "tags": [],
            "needs_background": "light"
          }
        }
      ]
    },
    {
      "cell_type": "code",
      "metadata": {
        "id": "BvPFvbDvteDC",
        "colab": {
          "base_uri": "https://localhost:8080/",
          "height": 54
        },
        "outputId": "cad8ebd4-3423-409e-b2b5-25d668210d25"
      },
      "source": [
        "\n",
        "fig, ax = plt.subplots()\n",
        "ax.plot(df['FRAC Its'],df['F'],label='F')\n",
        "ax.set_xlabel('Iteração/Total')\n",
        "ax.set_ylabel('Parâmetros')\n",
        "ax.plot(df['FRAC Its'],df['CR'],'-r', label='CR')\n",
        "nome=Fun.__name__+'  M=Diversidade'+ '  D='+str(dim)\n",
        "ax.set_title(nome)\n",
        "leg = ax.legend()\n"
      ],
      "execution_count": null,
      "outputs": [
        {
          "output_type": "display_data",
          "data": {
            "image/png": "[encoded data removed]",
            "text/plain": [
              "<Figure size 432x288 with 1 Axes>"
            ]
          },
          "metadata": {
            "tags": [],
            "needs_background": "light"
          }
        }
      ]
    },
    {
      "cell_type": "code",
      "metadata": {
        "id": "htooaGpDia_0",
        "colab": {
          "base_uri": "https://localhost:8080/",
          "height": 71
        },
        "outputId": "96ee6ec9-1fba-494d-c004-a85d2ed809b5"
      },
      "source": [
        "f, axarr = plt.subplots(2, sharex=True)\n",
        "axarr[0].plot(df['FRAC Its'],df['F'])\n",
        "axarr[0].set_ylabel('F')\n",
        "axarr[1].plot(df['FRAC Its'],df['CR'])\n",
        "axarr[1].set_ylabel('CR')\n",
        "axarr[1].set_xlabel('Iteração/Total')\n",
        "nome=Fun.__name__+'_Diversidade_'+ 'D='+str(dim)\n",
        "axarr[0].set_title(nome)\n"
      ],
      "execution_count": null,
      "outputs": [
        {
          "output_type": "execute_result",
          "data": {
            "text/plain": [
              "Text(0.5, 1.0, 'XinSheYang_Diversidade_D=30')"
            ]
          },
          "metadata": {
            "tags": []
          },
          "execution_count": 25
        },
        {
          "output_type": "display_data",
          "data": {
            "image/png": "[encoded data removed]",
            "text/plain": [
              "<Figure size 432x288 with 2 Axes>"
            ]
          },
          "metadata": {
            "tags": [],
            "needs_background": "light"
          }
        }
      ]
    },
    {
      "cell_type": "code",
      "metadata": {
        "id": "lNSN5X-wskcx",
        "colab": {
          "base_uri": "https://localhost:8080/"
        },
        "outputId": "0ae49b1f-3ebf-46c6-be98-e9840963e2f4"
      },
      "source": [
        "nome='SUB'+'_Fo-'+str(Fi)+'_CRo-'+str(CRi)+'_D-'+str(dim)+'_Interv-'+str(ITE)\n",
        "print('MCS-FRANNK','Fator F/DE= %.2f' %(fator),'NPAR=',NPAR,'Iterações=',ITE*its,'Dim=', PAR,\"Min/Max=\",MIN[0],\"/\",MAX[0],'_',Fun.__name__)\n",
        "print(nome, '\\n')\n",
        "#print('BEST: ',BEST)\n",
        "#print('MÉDIA: ',MEAN)\n",
        "print('MÉDIA: ',MEAN[-1],'STD __:',STD)\n",
        "print('MIN __:',MINFO, 'MAX__: ',MAXFO)\n",
        "print(MEAN[-1])\n",
        "print(STD)\n",
        "print(MINFO)\n",
        "print(\"Tempo Médio= %.3f segundos ---\" % (TIME))\n",
        "print(RUNS,'Rodadas') \n",
        "print()\n",
        "print('BEST: ',BEST)\n",
        "# print('melhor=',BEST_AGENTS[BEST_INDEX])\n",
        "\n",
        "print('======== JADE ==============')\n",
        "print('MÉDIA: ',JADE_MEAN[-1])\n",
        "print('MIN __:',JADE_MINFO)\n",
        "print('MAX__: ',JADE_MAXFO)\n",
        "print('STD __:',JADE_STD)\n",
        "print(\"Tempo Médio= %.3f segundos ---\" % (JADE_TIME))\n",
        "print(RUNS,'Rodadas') \n",
        "print()\n",
        "print('BEST: ',JADE_BEST)\n",
        "\n",
        "print(JADE_MEAN[-1])\n",
        "print(JADE_STD)\n",
        "print(JADE_MINFO)\n",
        "\n",
        "print('================================')"
      ],
      "execution_count": null,
      "outputs": [
        {
          "output_type": "stream",
          "text": [
            "MCS-FRANNK Fator F/DE= 0.50 NPAR= 100 Iterações= 2000 Dim= 30 Min/Max= -6.283185307179586 / 6.283185307179586 _ XinSheYang\n",
            "SUB_Fo-0.5_CRo-0.5_D-30_Interv-2000 \n",
            "\n",
            "MÉDIA:  0.995023494757603 STD __: 1.1102230246251565e-16\n",
            "MIN __: 0.9950234947576022 MAX__:  0.9950234947576022\n",
            "0.995023494757603\n",
            "1.1102230246251565e-16\n",
            "0.9950234947576022\n",
            "Tempo Médio= 177.816 segundos ---\n",
            "50 Rodadas\n",
            "\n",
            "BEST:  [-6.28318531  6.28318531  6.28318531 -6.28318531 -6.28318531 -6.28318531\n",
            " -6.28318531  6.28318531 -6.28318531  6.28318531  6.28318531 -6.28318531\n",
            " -6.28318531  6.28318531 -6.28318531 -6.28318531  6.28318531 -6.28318531\n",
            " -6.28318531 -6.28318531  6.28318531  6.28318531 -6.28318531  6.28318531\n",
            "  6.28318531 -6.28318531  6.28318531 -6.28318531  6.28318531  6.28318531\n",
            "  0.99502349]\n",
            "======== JADE ==============\n",
            "MÉDIA:  0.995023494757603\n",
            "MIN __: 0.9950234947576022\n",
            "MAX__:  0.9950234947576022\n",
            "STD __: 1.1102230246251565e-16\n",
            "Tempo Médio= 14.365 segundos ---\n",
            "50 Rodadas\n",
            "\n",
            "BEST:  0.9950234947576022\n",
            "0.995023494757603\n",
            "1.1102230246251565e-16\n",
            "0.9950234947576022\n",
            "================================\n"
          ],
          "name": "stdout"
        }
      ]
    },
    {
      "cell_type": "code",
      "metadata": {
        "id": "soc6munUN56c",
        "colab": {
          "base_uri": "https://localhost:8080/"
        },
        "outputId": "bc3177e9-1933-424e-e8db-6767285920a0"
      },
      "source": [
        "print('FRANNK POP H                 JADE')\n",
        "print(MEAN[-1],'       ',JADE_MEAN[-1])\n",
        "print(STD,'      ',JADE_STD)\n",
        "print(MINFO,'       ',JADE_MINFO)\n"
      ],
      "execution_count": null,
      "outputs": [
        {
          "output_type": "stream",
          "text": [
            "FRANNK POP H                 JADE\n",
            "0.995023494757603         0.995023494757603\n",
            "1.1102230246251565e-16        1.1102230246251565e-16\n",
            "0.9950234947576022         0.9950234947576022\n"
          ],
          "name": "stdout"
        }
      ]
    }
  ]
}