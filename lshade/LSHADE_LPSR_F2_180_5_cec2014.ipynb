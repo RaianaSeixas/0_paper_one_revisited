{
  "nbformat": 4,
  "nbformat_minor": 0,
  "metadata": {
    "colab": {
      "name": "LSHADE_LPSR_F2_180/5_cec2014.ipynb",
      "provenance": [],
      "collapsed_sections": [],
      "include_colab_link": true
    },
    "kernelspec": {
      "name": "python3",
      "display_name": "Python 3"
    },
    "language_info": {
      "codemirror_mode": {
        "name": "ipython",
        "version": 3
      },
      "file_extension": ".py",
      "mimetype": "text/x-python",
      "name": "python",
      "nbconvert_exporter": "python",
      "pygments_lexer": "ipython3",
      "version": "3.7.3"
    }
  },
  "cells": [
    {
      "cell_type": "markdown",
      "metadata": {
        "id": "view-in-github",
        "colab_type": "text"
      },
      "source": [
        "<a href=\"https://colab.research.google.com/github/RaianaSeixas/0_paper_one_revisited/blob/main/lshade/LSHADE_LPSR_F2_180_5_cec2014.ipynb\" target=\"_parent\"><img src=\"https://colab.research.google.com/assets/colab-badge.svg\" alt=\"Open In Colab\"/></a>"
      ]
    },
    {
      "cell_type": "code",
      "source": [
        "############################### DADOS DE ENTRADA \n",
        " \n",
        "RUNS=50 #NÚMERO DE RODADAS\n",
        "Fc=0.1 # fator de correcao parametros da ANN\n",
        "its=1 #10 # quantas vezes vai usar o NPAR antes de alterar de novo\n",
        "ITE=1000 #10 # PONTOS quantas vezes vai alteral NPAR \n",
        "NPAR=100\n",
        "mut=0.5\n",
        "crossp=0.5\n",
        "Fi=mut;CRi=crossp;# para impressão\n",
        "# fator = 1.0/3.0; \n",
        "fator = 1.0 # just LSHADE...\n",
        "mut2=0.5;crossp2=0.5;mut3=0.75;crossp3=0.25;mut4=0.25;crossp4=0.25;\n",
        "mut_best  =0.5 ; crossp_best =0.5\n",
        "maxNP = 180\n",
        "minNP = 5\n",
        "maxFES =300000\n",
        "FIX = 100 # Number of adjusts random walk\n",
        "H = 6\n",
        "kH = 0 # kH is used to work with H  \n",
        "terminal = 0.1\n",
        "p=0.1\n",
        "SF=[];SCR=[];MF=[];MCR=[];Xarq=[]\n"
      ],
      "metadata": {
        "id": "SWHauA_QxHPz"
      },
      "execution_count": 1,
      "outputs": []
    },
    {
      "cell_type": "code",
      "metadata": {
        "colab": {
          "base_uri": "https://localhost:8080/"
        },
        "id": "c59cDVKoxDLX",
        "outputId": "fc3b86ee-7af6-4097-fbd3-3129f2f339fa"
      },
      "source": [
        "############################### Importar códigos\n",
        "!git clone https://github.com/ucfilho/optim_raianars_Insight/ #clonar do Github\n",
        "%cd optim_raianars_Insight\n",
        "import de_soma_Insight\n",
        "import de_bounds_matriz\n",
        "import Go2Ann\n",
        "import randomWALK\n",
        "import annDE_FES_new\n",
        "import classicDE_FES_new\n",
        "import stepsWALK_new\n",
        "import LShade_new\n",
        "from pandas import read_csv"
      ],
      "execution_count": 2,
      "outputs": [
        {
          "output_type": "stream",
          "name": "stdout",
          "text": [
            "Cloning into 'optim_raianars_Insight'...\n",
            "remote: Enumerating objects: 851, done.\u001b[K\n",
            "remote: Counting objects: 100% (210/210), done.\u001b[K\n",
            "remote: Compressing objects: 100% (128/128), done.\u001b[K\n",
            "remote: Total 851 (delta 139), reused 124 (delta 82), pack-reused 641\u001b[K\n",
            "Receiving objects: 100% (851/851), 441.66 KiB | 10.77 MiB/s, done.\n",
            "Resolving deltas: 100% (529/529), done.\n",
            "/content/optim_raianars_Insight\n"
          ]
        }
      ]
    },
    {
      "cell_type": "code",
      "metadata": {
        "id": "Va-6Xios8RjU",
        "colab": {
          "base_uri": "https://localhost:8080/"
        },
        "outputId": "00305467-b0f3-4ab2-c0fd-470fe26e40df"
      },
      "source": [
        "!git clone https://github.com/ucfilho/Raianars_paper_One #clonar do Github\n",
        "%cd Raianars_paper_One"
      ],
      "execution_count": 3,
      "outputs": [
        {
          "output_type": "stream",
          "name": "stdout",
          "text": [
            "Cloning into 'Raianars_paper_One'...\n",
            "remote: Enumerating objects: 277, done.\u001b[K\n",
            "remote: Counting objects: 100% (148/148), done.\u001b[K\n",
            "remote: Compressing objects: 100% (65/65), done.\u001b[K\n",
            "remote: Total 277 (delta 83), reused 142 (delta 82), pack-reused 129\u001b[K\n",
            "Receiving objects: 100% (277/277), 667.30 KiB | 13.08 MiB/s, done.\n",
            "Resolving deltas: 100% (155/155), done.\n",
            "/content/optim_raianars_Insight/Raianars_paper_One\n"
          ]
        }
      ]
    },
    {
      "cell_type": "code",
      "metadata": {
        "id": "_E15mKFURR6O"
      },
      "source": [
        "#import Go2Ann\n",
        "#import de_soma_Insight\n",
        "#import de_bounds_matriz\n",
        "#import Function\n",
        "import Go2MinMax\n",
        "from AvaliaX import AvaliaX\n",
        "import numpy as np\n",
        "import scipy.stats\n",
        "import random\n",
        "from GeraIndices import GeraIndices\n",
        "import numpy as np\n",
        "import time\n",
        "import matplotlib.pyplot as plt\n",
        "from random import randint\n",
        "from scipy import optimize\n",
        "import pandas as pd\n",
        "from sklearn.metrics import confusion_matrix"
      ],
      "execution_count": 4,
      "outputs": []
    },
    {
      "cell_type": "code",
      "metadata": {
        "id": "ik3ZjkUKycUK",
        "colab": {
          "base_uri": "https://localhost:8080/"
        },
        "outputId": "000cf7dc-74d5-4770-88d5-c34200948fbd"
      },
      "source": [
        "############################### Importar códigos\n",
        "!git clone https://github.com/ucfilho/optim_raianars_Insight/ #clonar do Github\n",
        "%cd optim_raianars_Insight\n",
        "import de_soma_Insight\n",
        "import de_bounds_matriz"
      ],
      "execution_count": 5,
      "outputs": [
        {
          "output_type": "stream",
          "name": "stdout",
          "text": [
            "Cloning into 'optim_raianars_Insight'...\n",
            "remote: Enumerating objects: 851, done.\u001b[K\n",
            "remote: Counting objects: 100% (210/210), done.\u001b[K\n",
            "remote: Compressing objects: 100% (128/128), done.\u001b[K\n",
            "remote: Total 851 (delta 139), reused 124 (delta 82), pack-reused 641\u001b[K\n",
            "Receiving objects: 100% (851/851), 441.66 KiB | 9.60 MiB/s, done.\n",
            "Resolving deltas: 100% (529/529), done.\n",
            "/content/optim_raianars_Insight/Raianars_paper_One/optim_raianars_Insight\n"
          ]
        }
      ]
    },
    {
      "cell_type": "code",
      "metadata": {
        "id": "lJogRB30yepw",
        "colab": {
          "base_uri": "https://localhost:8080/"
        },
        "outputId": "7505a584-9ca6-4b1e-bce1-6fadd980079f"
      },
      "source": [
        "#!git clone https://github.com/ucfilho/Raianars_paper_One #clonar do Github\n",
        "#%cd Raianars_paper_One\n",
        "\n",
        "!git clone https://github.com/ucfilho/Raianars_Routines #clonar do Github\n",
        "%cd Raianars_Routines"
      ],
      "execution_count": 6,
      "outputs": [
        {
          "output_type": "stream",
          "name": "stdout",
          "text": [
            "Cloning into 'Raianars_Routines'...\n",
            "remote: Enumerating objects: 77, done.\u001b[K\n",
            "remote: Counting objects: 100% (77/77), done.\u001b[K\n",
            "remote: Compressing objects: 100% (73/73), done.\u001b[K\n",
            "remote: Total 77 (delta 23), reused 0 (delta 0), pack-reused 0\u001b[K\n",
            "Unpacking objects: 100% (77/77), done.\n",
            "/content/optim_raianars_Insight/Raianars_paper_One/optim_raianars_Insight/Raianars_Routines\n"
          ]
        }
      ]
    },
    {
      "cell_type": "code",
      "source": [
        "!git clone https://github.com/ucfilho/functions_cec2014_data\n",
        "%cd functions_cec2014_data\n",
        "import F1_to_F27_cec2014_zero_to_hero\n",
        "import cec2014_names\n",
        "import cec2014_shift_rotate"
      ],
      "metadata": {
        "id": "Z66tL-D0qM1H",
        "colab": {
          "base_uri": "https://localhost:8080/"
        },
        "outputId": "ec87927e-f59b-46f5-959d-e00d9836871e"
      },
      "execution_count": 7,
      "outputs": [
        {
          "output_type": "stream",
          "name": "stdout",
          "text": [
            "Cloning into 'functions_cec2014_data'...\n",
            "remote: Enumerating objects: 300, done.\u001b[K\n",
            "remote: Counting objects: 100% (6/6), done.\u001b[K\n",
            "remote: Compressing objects: 100% (6/6), done.\u001b[K\n",
            "remote: Total 300 (delta 2), reused 0 (delta 0), pack-reused 294\u001b[K\n",
            "Receiving objects: 100% (300/300), 465.31 KiB | 5.35 MiB/s, done.\n",
            "Resolving deltas: 100% (181/181), done.\n",
            "/content/optim_raianars_Insight/Raianars_paper_One/optim_raianars_Insight/Raianars_Routines/functions_cec2014_data\n"
          ]
        }
      ]
    },
    {
      "cell_type": "code",
      "source": [
        "function_select = 'F2'\n",
        "Function = F1_to_F27_cec2014_zero_to_hero.F2\n",
        "Shift_Rotate= cec2014_shift_rotate.F2\n",
        "problem_size = 30 # possibles 2, 10, 20, 30, 50, 100"
      ],
      "metadata": {
        "id": "hN3HYnHmqX3f"
      },
      "execution_count": 8,
      "outputs": []
    },
    {
      "cell_type": "code",
      "source": [
        "dim = problem_size "
      ],
      "metadata": {
        "id": "yCggKdhhtnp1"
      },
      "execution_count": 9,
      "outputs": []
    },
    {
      "cell_type": "code",
      "source": [
        "f_matrix = \"M_\"+function_select[1:]+\"_D\"+str(problem_size) + \".txt\"\n",
        "shift_data_file=\"shift_data_\"+function_select[1:]+\".txt\"\n",
        "F_bias = cec2014_names.BiasValue()[function_select]\n",
        "type_fun = cec2014_names.TypeFunctions()[function_select]\n",
        "Function_CEC2014 =function_select + \"_\" + cec2014_names.NamesFunctions()[function_select]+\"_D_\"+str(problem_size)"
      ],
      "metadata": {
        "id": "r5pD3VaXqYAj"
      },
      "execution_count": 10,
      "outputs": []
    },
    {
      "cell_type": "code",
      "source": [
        "!pip install --upgrade --no-cache-dir gdown"
      ],
      "metadata": {
        "id": "QFsJfpK3qfQy",
        "colab": {
          "base_uri": "https://localhost:8080/"
        },
        "outputId": "f9b3e9a3-2b5b-4125-d8fc-3553ce2027bc"
      },
      "execution_count": 11,
      "outputs": [
        {
          "output_type": "stream",
          "name": "stdout",
          "text": [
            "Looking in indexes: https://pypi.org/simple, https://us-python.pkg.dev/colab-wheels/public/simple/\n",
            "Requirement already satisfied: gdown in /usr/local/lib/python3.7/dist-packages (4.4.0)\n",
            "Requirement already satisfied: six in /usr/local/lib/python3.7/dist-packages (from gdown) (1.15.0)\n",
            "Requirement already satisfied: tqdm in /usr/local/lib/python3.7/dist-packages (from gdown) (4.64.0)\n",
            "Requirement already satisfied: requests[socks] in /usr/local/lib/python3.7/dist-packages (from gdown) (2.23.0)\n",
            "Requirement already satisfied: filelock in /usr/local/lib/python3.7/dist-packages (from gdown) (3.7.0)\n",
            "Requirement already satisfied: beautifulsoup4 in /usr/local/lib/python3.7/dist-packages (from gdown) (4.6.3)\n",
            "Requirement already satisfied: idna<3,>=2.5 in /usr/local/lib/python3.7/dist-packages (from requests[socks]->gdown) (2.10)\n",
            "Requirement already satisfied: chardet<4,>=3.0.2 in /usr/local/lib/python3.7/dist-packages (from requests[socks]->gdown) (3.0.4)\n",
            "Requirement already satisfied: certifi>=2017.4.17 in /usr/local/lib/python3.7/dist-packages (from requests[socks]->gdown) (2022.5.18.1)\n",
            "Requirement already satisfied: urllib3!=1.25.0,!=1.25.1,<1.26,>=1.21.1 in /usr/local/lib/python3.7/dist-packages (from requests[socks]->gdown) (1.24.3)\n",
            "Requirement already satisfied: PySocks!=1.5.7,>=1.5.6 in /usr/local/lib/python3.7/dist-packages (from requests[socks]->gdown) (1.7.1)\n"
          ]
        }
      ]
    },
    {
      "cell_type": "code",
      "source": [
        "# !gdown --id 1yM-cGzp7F35bXZ-f80uoJHzGqAb52CPz\n",
        "# https://drive.google.com/file/d/1yM-cGzp7F35bXZ-f80uoJHzGqAb52CPz/view?usp=sharing\n",
        "!gdown --id 1yM-cGzp7F35bXZ-f80uoJHzGqAb52CPz"
      ],
      "metadata": {
        "id": "bCv2CFD3qp0q",
        "colab": {
          "base_uri": "https://localhost:8080/"
        },
        "outputId": "2a6f3ed9-8b31-412b-bab0-fb85560250bc"
      },
      "execution_count": 12,
      "outputs": [
        {
          "output_type": "stream",
          "name": "stdout",
          "text": [
            "/usr/local/lib/python3.7/dist-packages/gdown/cli.py:131: FutureWarning: Option `--id` was deprecated in version 4.3.1 and will be removed in 5.0. You don't need to pass it anymore to use a file ID.\n",
            "  category=FutureWarning,\n",
            "Downloading...\n",
            "From: https://drive.google.com/uc?id=1yM-cGzp7F35bXZ-f80uoJHzGqAb52CPz\n",
            "To: /content/optim_raianars_Insight/Raianars_paper_One/optim_raianars_Insight/Raianars_Routines/functions_cec2014_data/cec2014.zip\n",
            "100% 36.1M/36.1M [00:00<00:00, 224MB/s]\n"
          ]
        }
      ]
    },
    {
      "cell_type": "code",
      "source": [
        "import zipfile\n",
        "file_name = zipfile.ZipFile('cec2014.zip', 'r')\n",
        "file_name.extractall()"
      ],
      "metadata": {
        "id": "-N1Hsa88W-Mr"
      },
      "execution_count": 13,
      "outputs": []
    },
    {
      "cell_type": "code",
      "source": [
        "def load_shift_data__(data_file=None):\n",
        "    data = read_csv(data_file, delimiter='\\s+', index_col=False, header=None)\n",
        "    return data.values.reshape((-1))\n",
        "\n",
        "def load_matrix_data__(data_file=None):\n",
        "    data = read_csv(data_file, delimiter='\\s+', index_col=False, header=None)\n",
        "    return data.values"
      ],
      "metadata": {
        "id": "_tEgxfW4qwlt"
      },
      "execution_count": 14,
      "outputs": []
    },
    {
      "cell_type": "code",
      "source": [
        "shift_data_a = load_shift_data__(shift_data_file)[:problem_size]\n",
        "matrix_a = load_matrix_data__(f_matrix)\n",
        "if (type_fun == 'hybrid'):\n",
        "  f_shuffle = \"shuffle_data_\"+function_select[1:]+\"_D\"+str(problem_size) + \".txt\"\n",
        "  shuffle = (load_shift_data__(f_shuffle)[:problem_size] - np.ones(problem_size)).astype(int)\n",
        "else:\n",
        "  shuffle = matrix_a"
      ],
      "metadata": {
        "id": "NJVx_raoq9GU"
      },
      "execution_count": 15,
      "outputs": []
    },
    {
      "cell_type": "code",
      "source": [
        "SUPPORT_DIMENSION = [2, 10, 20, 30, 50, 100]\n",
        "SUPPORT_DIMENSION_2 = [10, 20, 30, 50, 100]\n",
        "\n",
        "#def Fun(solution,shift_data=shift_data_a, matrix=matrix_a, shuffle):#, bias=F_bias):\n",
        "def CEC2014(solution, shift_data ,  matrix, shuffle):#, bias=F_bias):\n",
        "  if(type_fun == 'shift_rotate'):\n",
        "    z = Shift_Rotate(solution , shift_data , matrix,shuffle)\n",
        "    result = Function(z) + F_bias\n",
        "  elif(type_fun =='hybrid'): # F17 to F22\n",
        "    z = Shift_Rotate(solution , shift_data , matrix,shuffle)\n",
        "    result = z + F_bias\n",
        " \n",
        "  return result"
      ],
      "metadata": {
        "id": "AF2E2EIwrC8o"
      },
      "execution_count": 16,
      "outputs": []
    },
    {
      "cell_type": "code",
      "source": [
        " shift_data = shift_data_a\n",
        " matrix = matrix_a\n",
        " shuffle = shuffle\n",
        " def Hybrid(solution):\n",
        "   resp = CEC2014(solution, shift_data = shift_data_a, matrix = matrix_a, shuffle = shuffle)\n",
        "   return resp"
      ],
      "metadata": {
        "id": "jIcMJI-UrK8V"
      },
      "execution_count": 17,
      "outputs": []
    },
    {
      "cell_type": "code",
      "source": [
        "!git clone https://github.com/ucfilho/Raianars_paper_One #clonar do Github\n",
        "%cd Raianars_paper_One"
      ],
      "metadata": {
        "id": "9Vsz9VQRrLVf",
        "colab": {
          "base_uri": "https://localhost:8080/"
        },
        "outputId": "41c790e6-4e1c-4069-f328-087e280513f0"
      },
      "execution_count": 18,
      "outputs": [
        {
          "output_type": "stream",
          "name": "stdout",
          "text": [
            "Cloning into 'Raianars_paper_One'...\n",
            "remote: Enumerating objects: 277, done.\u001b[K\n",
            "remote: Counting objects: 100% (148/148), done.\u001b[K\n",
            "remote: Compressing objects: 100% (65/65), done.\u001b[K\n",
            "remote: Total 277 (delta 83), reused 142 (delta 82), pack-reused 129\u001b[K\n",
            "Receiving objects: 100% (277/277), 667.30 KiB | 12.36 MiB/s, done.\n",
            "Resolving deltas: 100% (155/155), done.\n",
            "/content/optim_raianars_Insight/Raianars_paper_One/optim_raianars_Insight/Raianars_Routines/functions_cec2014_data/Raianars_paper_One\n"
          ]
        }
      ]
    },
    {
      "cell_type": "code",
      "source": [
        "MAX=np.repeat(100,dim)\n",
        "MIN=np.repeat(-100,dim)\n",
        "\n",
        "bounds=[]\n",
        "for k in range(len(MAX)):\n",
        "  bounds.append((MIN[k],MAX[k]))"
      ],
      "metadata": {
        "id": "ukk5Twiiq0MN"
      },
      "execution_count": 19,
      "outputs": []
    },
    {
      "cell_type": "code",
      "metadata": {
        "id": "qTINtQ1cosZK",
        "colab": {
          "base_uri": "https://localhost:8080/"
        },
        "outputId": "e1902366-f358-45b9-852e-ca5c96f7edd3"
      },
      "source": [
        "!git clone https://github.com/ucfilho/ANN_read_matrix #clonar do Github\n",
        "%cd ANN_read_matrix"
      ],
      "execution_count": 20,
      "outputs": [
        {
          "output_type": "stream",
          "name": "stdout",
          "text": [
            "Cloning into 'ANN_read_matrix'...\n",
            "remote: Enumerating objects: 20, done.\u001b[K\n",
            "remote: Total 20 (delta 0), reused 0 (delta 0), pack-reused 20\u001b[K\n",
            "Unpacking objects: 100% (20/20), done.\n",
            "/content/optim_raianars_Insight/Raianars_paper_One/optim_raianars_Insight/Raianars_Routines/functions_cec2014_data/Raianars_paper_One/ANN_read_matrix\n"
          ]
        }
      ]
    },
    {
      "cell_type": "code",
      "metadata": {
        "id": "QiQLYOoNoyCw"
      },
      "source": [
        "ANN_F=pd.read_csv('ANN_INSIGHT_Valor_F.csv')"
      ],
      "execution_count": 21,
      "outputs": []
    },
    {
      "cell_type": "code",
      "metadata": {
        "id": "uHtW2amaDzFv"
      },
      "source": [
        "ANN_CR=pd.read_csv('ANN_INSIGHT_CR.csv')"
      ],
      "execution_count": 22,
      "outputs": []
    },
    {
      "cell_type": "code",
      "metadata": {
        "id": "EH6h_vke2yu1"
      },
      "source": [
        "syn0_F,syn1_F,X_max_F,X_min_F=Go2Ann.GetMatriz(ANN_F)"
      ],
      "execution_count": 23,
      "outputs": []
    },
    {
      "cell_type": "code",
      "metadata": {
        "id": "WW_3ZWJXD60i"
      },
      "source": [
        "syn0_CR,syn1_CR,X_max_CR,X_min_CR=Go2Ann.GetMatriz(ANN_CR)"
      ],
      "execution_count": 24,
      "outputs": []
    },
    {
      "cell_type": "code",
      "metadata": {
        "id": "b4gwBvVTyaXh"
      },
      "source": [
        "ANN_CR=pd.read_csv('ANN_INSIGHT_CR.csv')"
      ],
      "execution_count": 25,
      "outputs": []
    },
    {
      "cell_type": "code",
      "metadata": {
        "id": "6jL8MxpHvk-Y"
      },
      "source": [
        "fields = ['DI RELATIVO','FRAC Its','Fo','CRo']"
      ],
      "execution_count": 26,
      "outputs": []
    },
    {
      "cell_type": "code",
      "metadata": {
        "id": "Mb3LmbSmj9v7",
        "colab": {
          "base_uri": "https://localhost:8080/"
        },
        "outputId": "0cdfbbd6-3f6b-4767-8bc6-17d31db4eac7"
      },
      "source": [
        "##################################### \n",
        "\n",
        "TOTAL=10*dim*its*ITE\n",
        "TOTAL=int(TOTAL/2)   # CONFERIR SE ESTE EH O MELHOR LUGAR\n",
        "\n",
        "#dimensions=len(MAX)\n",
        "dimensions=dim\n",
        "start_time = time.time() #INICIALIZA CONTAGEM DO TEMPO\n",
        "\n",
        "\n",
        "PAR=dim\n",
        "Fun = Function\n",
        "fobj=Fun\n",
        "\n",
        "MAX_P=np.zeros(ITE) # ATENCAO para variar F e Cr MAX_P passa a ser 3 vezes maior\n",
        "MIN_P=np.zeros(ITE) # ATENCAO para variar F e Cr MIN_P passa a ser 3 vezes maior\n",
        "\n",
        "for i in range(dim):\n",
        "  MAX_P[i]=MAX[i] \n",
        "  MIN_P[i]=MIN[i]\n",
        "\n",
        "rodadas=1\n",
        "NPAR1=int(fator*NPAR);\n",
        "NPAR2=int((NPAR-NPAR1)/3);\n",
        "NPAR3=int((NPAR-NPAR1)/3);\n",
        "NPAR4=int((NPAR-NPAR1)/3);\n",
        "NPAR1 = NPAR-3*NPAR2\n",
        "print('frac=',fator);\n",
        "print('Npar1=',NPAR1);\n",
        "print('Npar2=',NPAR2);\n",
        "print('Npar3=',NPAR3);\n",
        "print('Npar4=',NPAR4);\n",
        "print('Npar=',NPAR)\n",
        "\n",
        "cols=dim\n",
        "\n",
        "X1=np.zeros((NPAR1,cols)) # X1 is Frannk population\n",
        "for i in range(NPAR1):\n",
        "  for j in range(cols):\n",
        "    r=np.random.random()\n",
        "    X1[i,j]=r*(MAX[j]-MIN[j])+MIN[j]\n",
        "    \n",
        "X2=np.zeros((NPAR2,cols)) # X2 is population DE (default DE)\n",
        "for i in range(NPAR2):\n",
        "  for j in range(cols):\n",
        "    r=np.random.random()\n",
        "    X2[i,j]=r*(MAX[j]-MIN[j])+MIN[j]\n",
        "\n",
        "X3=np.zeros((NPAR3,cols)) # X1 is Frannk population\n",
        "for i in range(NPAR3):\n",
        "  for j in range(cols):\n",
        "    r=np.random.random()\n",
        "    X3[i,j]=r*(MAX[j]-MIN[j])+MIN[j]\n",
        "    \n",
        "X4=np.zeros((NPAR4,cols)) # X2 is population DE (default DE)\n",
        "for i in range(NPAR4):\n",
        "  for j in range(cols):\n",
        "    r=np.random.random()\n",
        "    X4[i,j]=r*(MAX[j]-MIN[j])+MIN[j]\n",
        "    \n",
        " ############################################################\n",
        "  #bounds=[(5*dim, 15*dim)] * PONTOS # ITE\n",
        "  #bounds=[(3*dim, 12*dim)] * PONTOS # ITE\n",
        "  #bounds=[(4*dim, 16*dim)] * PONTOS\n",
        "  \n",
        "  # nao pode ser assim pq o bounds vale p o DE nao dos parametros\n",
        "  #p=int(TOTAL/its/ITE) \n",
        "  #bounds=[(p, p)] * PONTOS\n"
      ],
      "execution_count": 27,
      "outputs": [
        {
          "output_type": "stream",
          "name": "stdout",
          "text": [
            "frac= 1.0\n",
            "Npar1= 100\n",
            "Npar2= 0\n",
            "Npar3= 0\n",
            "Npar4= 0\n",
            "Npar= 100\n"
          ]
        }
      ]
    },
    {
      "cell_type": "code",
      "metadata": {
        "id": "rnX8ttNopd1G",
        "colab": {
          "base_uri": "https://localhost:8080/"
        },
        "outputId": "2fcd1782-8e41-4345-faf9-0fb2d7a78080"
      },
      "source": [
        "start_time = time.time()\n",
        "BEST_AGENTS=[]\n",
        "MAT_stat=[]\n",
        "for iii in range(RUNS):\n",
        "    FES = 0 ; gen = 0 \n",
        "    MAT=[] \n",
        "    mut=Fi\n",
        "    crossp=CRi\n",
        "    SOMA=0\n",
        "    pop = np.random.rand(NPAR, dim)\n",
        "    diff=np.zeros(PAR)\n",
        "\n",
        "    NPAR = maxNP\n",
        "    # fator = 1.0\n",
        "    NPAR1=int(fator*NPAR);\n",
        "    '''\n",
        "    NPAR2=int((NPAR-NPAR1)/3);\n",
        "    NPAR3=int((NPAR-NPAR1)/3);\n",
        "    NPAR4=int((NPAR-NPAR1)/3);\n",
        "    NPAR1 = NPAR-3*NPAR2\n",
        "    '''\n",
        "\n",
        "    X1=np.zeros((NPAR1,cols)) # X1 is Frannk population\n",
        "    for i in range(NPAR1):\n",
        "      for j in range(cols):\n",
        "        r=np.random.random()\n",
        "        X1[i,j]=r*(MAX[j]-MIN[j])+MIN[j]\n",
        "    '''    \n",
        "    X2=np.zeros((NPAR2,cols)) # X2 is population DE (default DE)\n",
        "    for i in range(NPAR2):\n",
        "      for j in range(cols):\n",
        "        r=np.random.random()\n",
        "        X2[i,j]=r*(MAX[j]-MIN[j])+MIN[j]\n",
        "\n",
        "    X3=np.zeros((NPAR3,cols)) # X2 is population DE (default DE)\n",
        "    for i in range(NPAR3):\n",
        "      for j in range(cols):\n",
        "        r=np.random.random()\n",
        "        X3[i,j]=r*(MAX[j]-MIN[j])+MIN[j]\n",
        "\n",
        "    X4=np.zeros((NPAR4,cols)) # X2 is population DE (default DE)\n",
        "    for i in range(NPAR4):\n",
        "      for j in range(cols):\n",
        "        r=np.random.random()\n",
        "        X4[i,j]=r*(MAX[j]-MIN[j])+MIN[j]\n",
        "    '''\n",
        "    fit1 = np.asarray([fobj(ind) for ind in X1])\n",
        "    best_idx = np.argmin(fit1)\n",
        "    best = X1[best_idx]\n",
        "    fbest = fit1[best_idx] \n",
        "\n",
        "    '''\n",
        "    fit2 = np.asarray([fobj(ind) for ind in X2])\n",
        "    fit3 = np.asarray([fobj(ind) for ind in X3])\n",
        "    fit4 = np.asarray([fobj(ind) for ind in X4])\n",
        "    FES = FES + NPAR1 + NPAR2 + NPAR3+ NPAR4\n",
        "    '''\n",
        "    FES = FES + NPAR1\n",
        "    fit_best =[]\n",
        "    DIo=1e99\n",
        "  \n",
        "    CRo=crossp;Fo=mut;\n",
        "    #Fitness = np.asarray([Fun(ind, shift_data , matrix, shuffle) for ind in X1])\n",
        "    XY,BEST_XY,BESTo,FOBESTo=AvaliaX(X1,fit1 )\n",
        "    nrow,ncol=X1.shape\n",
        "    FES = FES + nrow\n",
        "\n",
        "    QUANT=17;MAT_INDo=np.zeros((1,QUANT)); # quantos indices esta fazendo\n",
        "    MAT_INDo[0,5]=nrow  # VALOR NP\n",
        "    MAT_INDo[0,6]=Fo    # VALOR Fo   \n",
        "    MAT_INDo[0,7]=CRo   # VALOR CRo\n",
        "\n",
        "    Fuma = Fun  # Fuma era Fun\n",
        "  \n",
        "    MAT_INDo=GeraIndices(X1,BESTo,FOBESTo,DIo,MAT_INDo,SOMA,TOTAL,syn0_F,\n",
        "                        syn1_F,X_max_F,X_min_F,syn0_CR,syn1_CR,X_max_CR,\n",
        "                        X_min_CR,Fc,fields,Fuma)\n",
        "  \n",
        "    DIo=np.copy(MAT_INDo[0,0])\n",
        "    MAT_INDo[0,15]=Fo    # VALOR Fo   \n",
        "    MAT_INDo[0,16]=CRo   # VALOR CRo\n",
        "\n",
        "    # Just to intialize variables:\n",
        "    FESr = 0\n",
        "    FOBEST1 = 1E99;FOBEST2 = 1E99;FOBEST3 = 1E99;FOBEST4 = 1E99\n",
        "    #BEST1,BEST2,BEST3,BEST4  =  np.copy(X1[0,:]),np.copy(X2[0,:]),np.copy(X3[0,:]), np.copy(X4[0,:]) \n",
        "    BEST1  =  np.copy(X1[0,:])\n",
        "    popsize = NPAR\n",
        "    FUNCTION = []\n",
        "    for i in range(H):\n",
        "      MCR.append(0.5);MF.append(0.5) # line 3\n",
        "    Narquive = popsize\n",
        "    setTUNE =[SF,SCR,MF,MCR,p, terminal, Narquive,H,kH]\n",
        "    while(FESr == 0 ):\n",
        "\n",
        "      #print('FES',FES)\n",
        "\n",
        "      gen = gen +1\n",
        "      ##=cool=#####################################################################################\n",
        "      '''\n",
        "      fback,Xback,BESTback,FOBESTback,FESback= np.copy(fit2),np.copy(X2),BEST2,FOBEST2,FES\n",
        "      fit2,X2,BEST2,FOBEST2,XY2,BEST_XY2,FES=classicDE_FES_new.de(bounds, mut2, crossp2,NPAR2, its,fobj,fit2,X2,FES) # de_bounds_matriz\n",
        "      if(FES > maxFES):\n",
        "        FESr = FES \n",
        "        fit2,X2,BEST2,FOBEST2,FES = np.copy(fback),np.copy(Xback),BESTback,FOBESTback,FESback\n",
        "      \n",
        "      fback,Xback,BESTback,FOBESTback,FESback= np.copy(fit3),np.copy(X3),BEST3,FOBEST3,FES\n",
        "      fit3,X3,BEST3,FOBEST3,XY3,BEST_XY3,FES=classicDE_FES_new.de(bounds, mut3, crossp3,NPAR3, its,fobj,fit3,X3,FES) #de_bounds_matriz\n",
        "      if(FES > maxFES): \n",
        "        FESr = FES\n",
        "        fit3,X3,BEST3,FOBEST3,FES = np.copy(fback),np.copy(Xback),BESTback,FOBESTback,FESback\n",
        "\n",
        "      fback,Xback,BESTback,FOBESTback,FESback= np.copy(fit4),np.copy(X4),BEST4,FOBEST4,FES\n",
        "      fit4,X4,BEST4,FOBEST4,XY4,BEST_XY4,FES=classicDE_FES_new.de(bounds, mut4, crossp4,NPAR4, its,fobj,fit4,X4,FES) # de_bounds_matriz\n",
        "      if(FES > maxFES): \n",
        "        FESr = FES\n",
        "        fit4,X4,BEST4,FOBEST4,FES = np.copy(fback),np.copy(Xback),BESTback,FOBESTback,FESback\n",
        "      '''\n",
        "      \n",
        "      \n",
        "\n",
        "      \n",
        "\n",
        "      fback,Xback,BESTback,FOBESTback,FESback= np.copy(fit1),np.copy(X1),BEST1,FOBEST1,FES\n",
        "      Xarqback = Xarq\n",
        "      #fit1,X1,BEST1,FOBEST1,XY,BEST_XY,FES = annDE_FES_new.de(MAX,MIN, mut, crossp, NPAR1, its,fobj,fit1,X1,FES)\n",
        "      fit1,X1,BEST1,FOBEST1,XY,BEST_XY,FES,Xarq,setTUNE= LShade_new.LShade(MAX,MIN, popsize,fobj,setTUNE,best,fbest,fit1,X1,Xarq,FES)\n",
        "    \n",
        "      if(FES > maxFES):\n",
        "        FESr = FES \n",
        "        fit1,X1,BEST1,FOBEST1,FES = np.copy(fback),np.copy(Xback),BESTback,FOBESTback,FESback\n",
        "        #Xarq = np.copy(Xarqback)\n",
        "        Xarq = Xarqback\n",
        "      calc = (minNP-maxNP)/maxFES*FES+maxNP # Linear Population Size Reduction (LPSR)\n",
        "      calc = int(np.round(calc)) # Linear Population Size Reduction (LPSR) \n",
        "      gen = gen + 1\n",
        "      #fator = 1.0\n",
        "      NPAR = calc\n",
        "      NPAR1=int(fator*NPAR);\n",
        "      NPAR2=int((NPAR-NPAR1)/3);\n",
        "      NPAR3=int((NPAR-NPAR1)/3);\n",
        "      NPAR4=int((NPAR-NPAR1)/3);\n",
        "      NPAR1 = NPAR-3*NPAR2\n",
        "      '''\n",
        "      if(NPAR2 > len(X2[:,0])):\n",
        "        NPAR2 = len(X2[:,0])\n",
        "      '''\n",
        "      if(NPAR1 > len(X1[:,0])):\n",
        "        NPAR1 = len(X1[:,0])\n",
        "\n",
        "      \n",
        "      X1 = X1[:NPAR1,:];\n",
        "      #if(len(Xarq)>0) : Xarq = Xarq[:NPAR1,:]\n",
        "      if(len(Xarq)>0) : Xarq = Xarq[:NPAR1]\n",
        "      # X2 = X2[:NPAR2,:]; X3 = X3[:NPAR3,:]; X4 = X4[:NPAR4,:];\n",
        "      fit1 = fit1[:NPAR1];# fit2 = fit2[:NPAR2]; fit3 = fit3[:NPAR3]; fit4 = fit4[:NPAR4];\n",
        "      popsize = NPAR1\n",
        "      Narquive = popsize\n",
        "      NP = popsize\n",
        "      '''\n",
        "      X1[0,:] = BEST2;X1[1,:] = BEST3; X1[2,:] = BEST4;X1[3,:] = BEST1;\n",
        "      X2[0,:] = BEST1;X2[1,:] = BEST3;X2[2,:] = BEST4;X2[3,:] = BEST2;\n",
        "      X3[0,:] = BEST1;X3[1,:] = BEST2;X3[2,:] = BEST4;X3[3,:] = BEST3;\n",
        "      X4[0,:] = BEST1;X4[1,:] = BEST2;X4[2,:] = BEST3;X4[3,:] = BEST4;\n",
        "      fit1[0] = FOBEST1; fit2[1] = FOBEST2;fit3[0] = FOBEST3; fit4[1] = FOBEST4;\n",
        "      '''\n",
        "    '''\n",
        "    for i in range(FIX):\n",
        "      \n",
        "        Fitback,Xback,BESTback,FOBESTback,FESback= np.copy(fit2), np.copy(X2),BEST2,FOBEST2,FES\n",
        "        \n",
        "        if ( FESr == 0):\n",
        "          Fitback,Xback,BESTback,FOBESTback,FESback= np.copy(X2),BEST2,FOBEST2,FES\n",
        "          fit2,X2,BEST2,FOBEST2,XY2,BEST_XY2,FESr=classicDE_FES_new.de(bounds,mut_best, crossp_best,NPAR2, its,fobj,fit2,X2,FES) # de_bounds_matriz\n",
        "        if ( FESr > 0):\n",
        "          fit2, X2,BEST2,FOBEST2,FES = np.copy(Fitback),np.copy(Xback),BESTback,FOBESTback,FESback\n",
        "\n",
        "\n",
        "        if(FES > maxFES): \n",
        "          fit2, X2,BEST2,FOBEST2,FES = np.copy(Fitback),np.copy(Xback),BESTback,FOBESTback,FESback\n",
        "        \n",
        "        \n",
        "        fit2,X2,BEST2,FOBEST2,XY,BEST_XY, FES= stepsWALK_new.fixWALK(Fun,BEST2,FOBEST2,NPAR2,tunePAR,MAX,MIN,fit2,X2,FIX)\n",
        "        # print('FES',FES)\n",
        "\n",
        "      ############################################################################################\n",
        "      ############################################################################################\n",
        "    \n",
        "    if(FES > maxFES):\n",
        "      fit2,X2,BEST2,FOBEST2,FES = np.copy(Fitback),np.copy(Xback),BESTback,FOBESTback,FESback\n",
        "\n",
        "    FUNCTION.append(FOBEST2)\n",
        "    '''\n",
        "    #setTUNE= [SF,SCR,MF,MCR,p, terminal, Narquive]\n",
        "    setTUNE =[SF,SCR,MF,MCR,p, terminal, Narquive,H,kH]\n",
        "    print('run=',iii,'gen=',gen,'time=',(time.time()-start_time)/60, 'eval FES=', FES,'FO=',FOBEST1)  \n",
        "    BEST_AGENTS.append(BEST_XY)"
      ],
      "execution_count": 28,
      "outputs": [
        {
          "output_type": "stream",
          "name": "stdout",
          "text": [
            "run= 0 gen= 12292 time= 2.604104010264079 eval FES= 300000 FO= 5.737894016188262e-85\n",
            "run= 1 gen= 12292 time= 4.9479155460993445 eval FES= 300000 FO= 9.50924134556131e-87\n",
            "run= 2 gen= 12292 time= 7.323304220040639 eval FES= 300000 FO= 7.072683467548032e-85\n",
            "run= 3 gen= 12292 time= 9.66422506570816 eval FES= 300000 FO= 2.3492605050371216e-87\n",
            "run= 4 gen= 12292 time= 12.006495833396912 eval FES= 300000 FO= 2.4031464876576026e-86\n",
            "run= 5 gen= 12292 time= 14.340999480088552 eval FES= 300000 FO= 3.120660222686636e-88\n",
            "run= 6 gen= 12292 time= 16.67237102985382 eval FES= 300000 FO= 5.895037133205681e-85\n",
            "run= 7 gen= 12292 time= 18.972546660900115 eval FES= 300000 FO= 5.87426687503516e-83\n",
            "run= 8 gen= 12292 time= 21.200744263331096 eval FES= 300000 FO= 4.895182546877046e-28\n",
            "run= 9 gen= 12292 time= 23.456066199143727 eval FES= 300000 FO= 3.9723573420167802e-28\n",
            "run= 10 gen= 12292 time= 25.732017024358115 eval FES= 300000 FO= 1.6602224853741048e-28\n",
            "run= 11 gen= 12292 time= 28.004045395056405 eval FES= 300000 FO= 4.02491166407204e-28\n",
            "run= 12 gen= 12292 time= 30.262100728352866 eval FES= 300000 FO= 1.414473820568616e-27\n",
            "run= 13 gen= 12292 time= 32.51253481705984 eval FES= 300000 FO= 3.4574045109221583e-28\n",
            "run= 14 gen= 12292 time= 34.76765061616898 eval FES= 300000 FO= 4.03910304467993e-28\n",
            "run= 15 gen= 12292 time= 37.01971932649612 eval FES= 300000 FO= 9.187301550126444e-28\n",
            "run= 16 gen= 12292 time= 39.266022574901584 eval FES= 300000 FO= 4.304616369482604e-28\n",
            "run= 17 gen= 12292 time= 41.50402735471725 eval FES= 300000 FO= 4.5573835281032794e-27\n",
            "run= 18 gen= 12292 time= 43.747994005680084 eval FES= 300000 FO= 9.930872323719634e-29\n",
            "run= 19 gen= 12292 time= 45.99325939019521 eval FES= 300000 FO= 1.1394764236328827e-28\n",
            "run= 20 gen= 12292 time= 48.23736045360565 eval FES= 300000 FO= 4.962969312015614e-27\n",
            "run= 21 gen= 12292 time= 50.48361932833989 eval FES= 300000 FO= 5.3098600184630986e-27\n",
            "run= 22 gen= 12292 time= 52.73692270517349 eval FES= 300000 FO= 1.0792840913009323e-27\n",
            "run= 23 gen= 12292 time= 54.988710820674896 eval FES= 300000 FO= 8.371212489268123e-28\n",
            "run= 24 gen= 12292 time= 57.26064919233322 eval FES= 300000 FO= 1.5618652375592706e-28\n",
            "run= 25 gen= 12292 time= 59.543236219882964 eval FES= 300000 FO= 5.498286116848094e-29\n",
            "run= 26 gen= 12292 time= 61.83036742210388 eval FES= 300000 FO= 2.0162904733685628e-28\n",
            "run= 27 gen= 12292 time= 64.10633531411489 eval FES= 300000 FO= 1.3410082060190023e-28\n",
            "run= 28 gen= 12292 time= 66.38340872128805 eval FES= 300000 FO= 2.8966173722039774e-28\n",
            "run= 29 gen= 12292 time= 68.67076371908188 eval FES= 300000 FO= 7.554071177601944e-28\n",
            "run= 30 gen= 12292 time= 70.94507727225621 eval FES= 300000 FO= 1.5682359295574667e-28\n",
            "run= 31 gen= 12292 time= 73.24664052724839 eval FES= 300000 FO= 5.476163500393518e-28\n",
            "run= 32 gen= 12292 time= 75.50777997970582 eval FES= 300000 FO= 8.022605951338045e-28\n",
            "run= 33 gen= 12292 time= 77.81384638150533 eval FES= 300000 FO= 7.4979905303841225e-28\n",
            "run= 34 gen= 12292 time= 80.06526629130046 eval FES= 300000 FO= 1.0607388653991975e-28\n",
            "run= 35 gen= 12292 time= 82.31642109950384 eval FES= 300000 FO= 1.040079265914649e-28\n",
            "run= 36 gen= 12292 time= 84.56421310504278 eval FES= 300000 FO= 1.9207925925158668e-28\n",
            "run= 37 gen= 12292 time= 86.82575949033101 eval FES= 300000 FO= 7.112189897330887e-28\n",
            "run= 38 gen= 12292 time= 89.07452414433162 eval FES= 300000 FO= 5.197362433772055e-28\n",
            "run= 39 gen= 12292 time= 91.33101957241693 eval FES= 300000 FO= 5.611930921298752e-28\n",
            "run= 40 gen= 12292 time= 93.59797044197718 eval FES= 300000 FO= 3.4721663157973824e-28\n",
            "run= 41 gen= 12292 time= 95.87111577590306 eval FES= 300000 FO= 2.0410898700682602e-27\n",
            "run= 42 gen= 12292 time= 98.12895449002583 eval FES= 300000 FO= 1.0387816419612707e-28\n",
            "run= 43 gen= 12292 time= 100.36471559604009 eval FES= 300000 FO= 3.2154463003237678e-28\n",
            "run= 44 gen= 12292 time= 102.6305534084638 eval FES= 300000 FO= 8.998012123304348e-29\n",
            "run= 45 gen= 12292 time= 104.88146092494328 eval FES= 300000 FO= 2.25413014536194e-27\n",
            "run= 46 gen= 12292 time= 107.14859669208526 eval FES= 300000 FO= 7.603209273077227e-29\n",
            "run= 47 gen= 12292 time= 109.40328347285589 eval FES= 300000 FO= 5.747038477433015e-28\n",
            "run= 48 gen= 12292 time= 111.68464281956355 eval FES= 300000 FO= 1.7000694378711054e-28\n",
            "run= 49 gen= 12292 time= 113.93981343507767 eval FES= 300000 FO= 1.307548912098297e-28\n"
          ]
        }
      ]
    },
    {
      "cell_type": "code",
      "metadata": {
        "id": "TLEE0UrZSvJF",
        "colab": {
          "base_uri": "https://localhost:8080/"
        },
        "outputId": "2b254f1c-c92c-4ebe-8f7c-6aacb7c778f0"
      },
      "source": [
        "#len(X2[1,:])\n",
        "print(cols)"
      ],
      "execution_count": 29,
      "outputs": [
        {
          "output_type": "stream",
          "name": "stdout",
          "text": [
            "30\n"
          ]
        }
      ]
    },
    {
      "cell_type": "code",
      "source": [
        "BEST_AGENTS=np.array(BEST_AGENTS)"
      ],
      "metadata": {
        "id": "scZnrGN1uoW3"
      },
      "execution_count": 30,
      "outputs": []
    },
    {
      "cell_type": "code",
      "metadata": {
        "id": "k3p9TGsx1OCu"
      },
      "source": [
        "NOMES=['DIVERSIDADE (DI)',  'DI RELATIVO','FRAC Its',\n",
        "           'VELOC FOBJ','VELOC X','NP','Fo','CRo','fmin','fmax',\n",
        "           'AD_fmin','AD_fmax','DELTA FOBJ','DELTA VX','r_fitness',\n",
        "           'F','CR']\n",
        "# BEST_INDEX= BEST_AGENTS[BEST_AGENTS[:,-1].argmin()]  \n",
        "BEST_INDEX = np.argmin(BEST_AGENTS[:,-1])\n",
        "#df=pd.DataFrame(MAT_stat[BEST_INDEX], columns=NOMES)\n",
        "\n"
      ],
      "execution_count": 31,
      "outputs": []
    },
    {
      "cell_type": "code",
      "source": [
        "TIME = (time.time() - start_time)/RUNS\n",
        "BEST_AGENTS=np.array(BEST_AGENTS)\n",
        "BEST_AGENTS_ST= BEST_AGENTS[BEST_AGENTS[:,-1].argsort()]\n",
        "BEST=BEST_AGENTS_ST[0]\n",
        "WORSE=BEST_AGENTS_ST[-1]\n",
        "MEAN=np.mean(BEST_AGENTS,axis=0)\n",
        "MAXFO=BEST_AGENTS[:,-1].max()\n",
        "MINFO=BEST_AGENTS[:,-1].min()\n",
        "STD=BEST_AGENTS[:,-1].std()    "
      ],
      "metadata": {
        "id": "CqGHCBBnw7jn"
      },
      "execution_count": 32,
      "outputs": []
    },
    {
      "cell_type": "code",
      "metadata": {
        "id": "lNSN5X-wskcx",
        "colab": {
          "base_uri": "https://localhost:8080/"
        },
        "outputId": "8d5eb13a-ac68-44f5-c5f7-359f6f8267cf"
      },
      "source": [
        "nome='SUB'+'_Fo-'+str(Fi)+'_CRo-'+str(CRi)+'_D-'+str(dim)+'_Interv-'+str(ITE)\n",
        "print('MCS-FRANNK','Fator F/DE= %.2f' %(fator),'NPAR=',NPAR,'Iterações=',ITE*its,'Dim=', PAR,\"Min/Max=\",MIN[0],\"/\",MAX[0],'_',Fun.__name__)\n",
        "print(nome, '\\n')\n",
        "#print('BEST: ',BEST)\n",
        "#print('MÉDIA: ',MEAN)\n",
        "print('MÉDIA: ',MEAN[-1],'STD __:',STD)\n",
        "print('MIN __:',MINFO, 'MAX__: ',MAXFO)\n",
        "print(MEAN[-1])\n",
        "print(STD)\n",
        "print(MINFO)\n",
        "print(\"Tempo Médio= %.3f segundos ---\" % (TIME))\n",
        "print(RUNS,'Rodadas') \n",
        "print()\n",
        "print('BEST: ',BEST)\n",
        "# print('melhor=',BEST_AGENTS[BEST_INDEX])"
      ],
      "execution_count": 33,
      "outputs": [
        {
          "output_type": "stream",
          "name": "stdout",
          "text": [
            "MCS-FRANNK Fator F/DE= 1.00 NPAR= 5 Iterações= 1000 Dim= 30 Min/Max= -100 / 100 _ F2\n",
            "SUB_Fo-0.5_CRo-0.5_D-30_Interv-1000 \n",
            "\n",
            "MÉDIA:  6.8062843779689065e-28 STD __: 1.1752165595807292e-27\n",
            "MIN __: 3.120660222686636e-88 MAX__:  5.2668428035780846e-27\n",
            "6.8062843779689065e-28\n",
            "1.1752165595807292e-27\n",
            "3.120660222686636e-88\n",
            "Tempo Médio= 136.730 segundos ---\n",
            "50 Rodadas\n",
            "\n",
            "BEST:  [ 1.10128155e-44  2.95739205e-48  1.77915547e-48  7.55273810e-49\n",
            "  8.54365858e-49  6.63367180e-49 -1.28730685e-48 -7.96997456e-51\n",
            " -1.30188688e-48 -3.30540539e-48 -5.01076574e-49  3.94499855e-50\n",
            " -2.67232543e-48 -2.96458169e-49 -4.05287536e-48 -2.21696591e-49\n",
            "  8.66580667e-48 -4.50934471e-49  2.87871254e-49 -1.51561069e-48\n",
            " -1.72686846e-49 -6.07764576e-49  1.52841548e-48 -3.24650670e-48\n",
            "  1.02163576e-48 -4.81832141e-49  1.03803834e-48  6.55962092e-48\n",
            "  1.02074818e-48 -1.23237954e-48  3.12066022e-88]\n"
          ]
        }
      ]
    },
    {
      "cell_type": "code",
      "source": [
        "len(Xarq)"
      ],
      "metadata": {
        "id": "uX1gnDDVPlWX",
        "colab": {
          "base_uri": "https://localhost:8080/"
        },
        "outputId": "f5789e81-fcb6-4363-98c9-9274a03e16aa"
      },
      "execution_count": 37,
      "outputs": [
        {
          "output_type": "execute_result",
          "data": {
            "text/plain": [
              "5"
            ]
          },
          "metadata": {},
          "execution_count": 37
        }
      ]
    },
    {
      "cell_type": "code",
      "source": [
        "MCR"
      ],
      "metadata": {
        "colab": {
          "base_uri": "https://localhost:8080/"
        },
        "id": "brB1tYZDYEUU",
        "outputId": "df21dd5e-8dbd-4f9e-fcfc-046b40d43042"
      },
      "execution_count": 39,
      "outputs": [
        {
          "output_type": "execute_result",
          "data": {
            "text/plain": [
              "[0.1,\n",
              " 0.1,\n",
              " 0.1,\n",
              " 0.1,\n",
              " 0.1,\n",
              " 0.1,\n",
              " 0.5,\n",
              " 0.5,\n",
              " 0.5,\n",
              " 0.5,\n",
              " 0.5,\n",
              " 0.5,\n",
              " 0.5,\n",
              " 0.5,\n",
              " 0.5,\n",
              " 0.5,\n",
              " 0.5,\n",
              " 0.5,\n",
              " 0.5,\n",
              " 0.5,\n",
              " 0.5,\n",
              " 0.5,\n",
              " 0.5,\n",
              " 0.5,\n",
              " 0.5,\n",
              " 0.5,\n",
              " 0.5,\n",
              " 0.5,\n",
              " 0.5,\n",
              " 0.5,\n",
              " 0.5,\n",
              " 0.5,\n",
              " 0.5,\n",
              " 0.5,\n",
              " 0.5,\n",
              " 0.5,\n",
              " 0.5,\n",
              " 0.5,\n",
              " 0.5,\n",
              " 0.5,\n",
              " 0.5,\n",
              " 0.5,\n",
              " 0.5,\n",
              " 0.5,\n",
              " 0.5,\n",
              " 0.5,\n",
              " 0.5,\n",
              " 0.5,\n",
              " 0.5,\n",
              " 0.5,\n",
              " 0.5,\n",
              " 0.5,\n",
              " 0.5,\n",
              " 0.5,\n",
              " 0.5,\n",
              " 0.5,\n",
              " 0.5,\n",
              " 0.5,\n",
              " 0.5,\n",
              " 0.5,\n",
              " 0.5,\n",
              " 0.5,\n",
              " 0.5,\n",
              " 0.5,\n",
              " 0.5,\n",
              " 0.5,\n",
              " 0.5,\n",
              " 0.5,\n",
              " 0.5,\n",
              " 0.5,\n",
              " 0.5,\n",
              " 0.5,\n",
              " 0.5,\n",
              " 0.5,\n",
              " 0.5,\n",
              " 0.5,\n",
              " 0.5,\n",
              " 0.5,\n",
              " 0.5,\n",
              " 0.5,\n",
              " 0.5,\n",
              " 0.5,\n",
              " 0.5,\n",
              " 0.5,\n",
              " 0.5,\n",
              " 0.5,\n",
              " 0.5,\n",
              " 0.5,\n",
              " 0.5,\n",
              " 0.5,\n",
              " 0.5,\n",
              " 0.5,\n",
              " 0.5,\n",
              " 0.5,\n",
              " 0.5,\n",
              " 0.5,\n",
              " 0.5,\n",
              " 0.5,\n",
              " 0.5,\n",
              " 0.5,\n",
              " 0.5,\n",
              " 0.5,\n",
              " 0.5,\n",
              " 0.5,\n",
              " 0.5,\n",
              " 0.5,\n",
              " 0.5,\n",
              " 0.5,\n",
              " 0.5,\n",
              " 0.5,\n",
              " 0.5,\n",
              " 0.5,\n",
              " 0.5,\n",
              " 0.5,\n",
              " 0.5,\n",
              " 0.5,\n",
              " 0.5,\n",
              " 0.5,\n",
              " 0.5,\n",
              " 0.5,\n",
              " 0.5,\n",
              " 0.5,\n",
              " 0.5,\n",
              " 0.5,\n",
              " 0.5,\n",
              " 0.5,\n",
              " 0.5,\n",
              " 0.5,\n",
              " 0.5,\n",
              " 0.5,\n",
              " 0.5,\n",
              " 0.5,\n",
              " 0.5,\n",
              " 0.5,\n",
              " 0.5,\n",
              " 0.5,\n",
              " 0.5,\n",
              " 0.5,\n",
              " 0.5,\n",
              " 0.5,\n",
              " 0.5,\n",
              " 0.5,\n",
              " 0.5,\n",
              " 0.5,\n",
              " 0.5,\n",
              " 0.5,\n",
              " 0.5,\n",
              " 0.5,\n",
              " 0.5,\n",
              " 0.5,\n",
              " 0.5,\n",
              " 0.5,\n",
              " 0.5,\n",
              " 0.5,\n",
              " 0.5,\n",
              " 0.5,\n",
              " 0.5,\n",
              " 0.5,\n",
              " 0.5,\n",
              " 0.5,\n",
              " 0.5,\n",
              " 0.5,\n",
              " 0.5,\n",
              " 0.5,\n",
              " 0.5,\n",
              " 0.5,\n",
              " 0.5,\n",
              " 0.5,\n",
              " 0.5,\n",
              " 0.5,\n",
              " 0.5,\n",
              " 0.5,\n",
              " 0.5,\n",
              " 0.5,\n",
              " 0.5,\n",
              " 0.5,\n",
              " 0.5,\n",
              " 0.5,\n",
              " 0.5,\n",
              " 0.5,\n",
              " 0.5,\n",
              " 0.5,\n",
              " 0.5,\n",
              " 0.5,\n",
              " 0.5,\n",
              " 0.5,\n",
              " 0.5,\n",
              " 0.5,\n",
              " 0.5,\n",
              " 0.5,\n",
              " 0.5,\n",
              " 0.5,\n",
              " 0.5,\n",
              " 0.5,\n",
              " 0.5,\n",
              " 0.5,\n",
              " 0.5,\n",
              " 0.5,\n",
              " 0.5,\n",
              " 0.5,\n",
              " 0.5,\n",
              " 0.5,\n",
              " 0.5,\n",
              " 0.5,\n",
              " 0.5,\n",
              " 0.5,\n",
              " 0.5,\n",
              " 0.5,\n",
              " 0.5,\n",
              " 0.5,\n",
              " 0.5,\n",
              " 0.5,\n",
              " 0.5,\n",
              " 0.5,\n",
              " 0.5,\n",
              " 0.5,\n",
              " 0.5,\n",
              " 0.5,\n",
              " 0.5,\n",
              " 0.5,\n",
              " 0.5,\n",
              " 0.5,\n",
              " 0.5,\n",
              " 0.5,\n",
              " 0.5,\n",
              " 0.5,\n",
              " 0.5,\n",
              " 0.5,\n",
              " 0.5,\n",
              " 0.5,\n",
              " 0.5,\n",
              " 0.5,\n",
              " 0.5,\n",
              " 0.5,\n",
              " 0.5,\n",
              " 0.5,\n",
              " 0.5,\n",
              " 0.5,\n",
              " 0.5,\n",
              " 0.5,\n",
              " 0.5,\n",
              " 0.5,\n",
              " 0.5,\n",
              " 0.5,\n",
              " 0.5,\n",
              " 0.5,\n",
              " 0.5,\n",
              " 0.5,\n",
              " 0.5,\n",
              " 0.5,\n",
              " 0.5,\n",
              " 0.5,\n",
              " 0.5,\n",
              " 0.5,\n",
              " 0.5,\n",
              " 0.5,\n",
              " 0.5,\n",
              " 0.5,\n",
              " 0.5,\n",
              " 0.5,\n",
              " 0.5,\n",
              " 0.5,\n",
              " 0.5,\n",
              " 0.5,\n",
              " 0.5,\n",
              " 0.5,\n",
              " 0.5,\n",
              " 0.5,\n",
              " 0.5,\n",
              " 0.5,\n",
              " 0.5,\n",
              " 0.5,\n",
              " 0.5,\n",
              " 0.5,\n",
              " 0.5,\n",
              " 0.5,\n",
              " 0.5,\n",
              " 0.5,\n",
              " 0.5,\n",
              " 0.5,\n",
              " 0.5,\n",
              " 0.5,\n",
              " 0.5,\n",
              " 0.5,\n",
              " 0.5,\n",
              " 0.5,\n",
              " 0.5,\n",
              " 0.5,\n",
              " 0.5,\n",
              " 0.5,\n",
              " 0.5,\n",
              " 0.5,\n",
              " 0.5,\n",
              " 0.5,\n",
              " 0.5,\n",
              " 0.5,\n",
              " 0.5,\n",
              " 0.5,\n",
              " 0.5,\n",
              " 0.5]"
            ]
          },
          "metadata": {},
          "execution_count": 39
        }
      ]
    },
    {
      "cell_type": "code",
      "source": [
        "len(MF)"
      ],
      "metadata": {
        "colab": {
          "base_uri": "https://localhost:8080/"
        },
        "id": "zRJhumJbYQv_",
        "outputId": "ea600620-625b-49b5-b1a7-b5fa83c5f11e"
      },
      "execution_count": 41,
      "outputs": [
        {
          "output_type": "execute_result",
          "data": {
            "text/plain": [
              "300"
            ]
          },
          "metadata": {},
          "execution_count": 41
        }
      ]
    }
  ]
}