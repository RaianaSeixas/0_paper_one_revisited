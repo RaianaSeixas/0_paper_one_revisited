{
  "nbformat": 4,
  "nbformat_minor": 0,
  "metadata": {
    "colab": {
      "name": "Good Frannk_2000_Schwefel_223_D_10_0.5_0.5.ipynb",
      "provenance": [],
      "collapsed_sections": [],
      "include_colab_link": true
    },
    "kernelspec": {
      "name": "python3",
      "display_name": "Python 3"
    }
  },
  "cells": [
    {
      "cell_type": "markdown",
      "metadata": {
        "id": "view-in-github",
        "colab_type": "text"
      },
      "source": [
        "<a href=\"https://colab.research.google.com/github/RaianaSeixas/0_paper_one_revisited/blob/main/Frannk_2000_Schwefel_223_D_10_0_5_0_5.ipynb\" target=\"_parent\"><img src=\"https://colab.research.google.com/assets/colab-badge.svg\" alt=\"Open In Colab\"/></a>"
      ]
    },
    {
      "cell_type": "code",
      "metadata": {
        "id": "anFukot-ypn6"
      },
      "source": [
        "import numpy as np\n",
        "import pandas as pd\n",
        "import time"
      ],
      "execution_count": 17,
      "outputs": []
    },
    {
      "cell_type": "code",
      "metadata": {
        "id": "6Oh714_-z1Ia",
        "colab": {
          "base_uri": "https://localhost:8080/"
        },
        "outputId": "3c2ed3f6-f85f-43bc-8045-46647c2f292c"
      },
      "source": [
        "#!git clone https://github.com/ucfilho/Raianars_July_2020 #clonar do Github\n",
        "#%cd Raianars_July_2020\n",
        "############################### Importar códigos\n",
        "!git clone https://github.com/ucfilho/optim_raianars_Insight\n",
        "%cd optim_raianars_Insight"
      ],
      "execution_count": 18,
      "outputs": [
        {
          "output_type": "stream",
          "text": [
            "Cloning into 'optim_raianars_Insight'...\n",
            "remote: Enumerating objects: 375, done.\u001b[K\n",
            "remote: Counting objects: 100% (61/61), done.\u001b[K\n",
            "remote: Compressing objects: 100% (61/61), done.\u001b[K\n",
            "remote: Total 375 (delta 35), reused 0 (delta 0), pack-reused 314\u001b[K\n",
            "Receiving objects: 100% (375/375), 327.03 KiB | 12.58 MiB/s, done.\n",
            "Resolving deltas: 100% (216/216), done.\n",
            "/content/optim_raianars_Insight/ANN_read_matrix/optim_raianars_Insight/ANN_read_matrix/optim_raianars_Insight\n"
          ],
          "name": "stdout"
        }
      ]
    },
    {
      "cell_type": "code",
      "metadata": {
        "id": "LnzftXkky78A"
      },
      "source": [
        "import Go2Ann\n",
        "import de_soma_Insight\n",
        "import de_bounds_matriz\n",
        "from AvaliaX import AvaliaX\n",
        "from GeraIndices import GeraIndices"
      ],
      "execution_count": 19,
      "outputs": []
    },
    {
      "cell_type": "code",
      "metadata": {
        "id": "HNW92728z7fR"
      },
      "source": [
        "import Function\n",
        "import Go2MinMax"
      ],
      "execution_count": 20,
      "outputs": []
    },
    {
      "cell_type": "code",
      "metadata": {
        "id": "T_C-e7aH0CZH"
      },
      "source": [
        "ITE=2000 #10 # PONTOS quantas vezes vai alteral NPAR \n",
        "NPAR=100 # NUMBER OF PARTICLES\n",
        "dim=10\n",
        "RUNS=50\n",
        "fchoice='Schwefel_223'  #MS\n",
        "Fun=Function.Schwefel_223\n",
        "\n",
        "MIN,MAX=Go2MinMax.Intervalo(dim,fchoice)\n",
        "bounds = [(0,0)]*dim\n",
        "\n",
        "for i in range(dim):\n",
        "  bounds[i] = (MIN[i],MAX[i])"
      ],
      "execution_count": 21,
      "outputs": []
    },
    {
      "cell_type": "code",
      "metadata": {
        "id": "Nqv5qp9yzQEw"
      },
      "source": [
        "############################### INPUT INFORMATION (FRANNK)\n",
        "Fc=0.1 # fator de correcao parametros da ANN\n",
        "its=1 #10 # quantas vezes vai usar o NPAR antes de alterar de novo\n",
        "mut=0.5\n",
        "crossp=0.5\n",
        "Fi=mut;CRi=crossp;# para impressão\n",
        "PAR=len(MAX) #NUM DE PARAMETROS A SER OTIMIZADOS"
      ],
      "execution_count": 22,
      "outputs": []
    },
    {
      "cell_type": "code",
      "metadata": {
        "id": "raWOfeJBztuj",
        "colab": {
          "base_uri": "https://localhost:8080/"
        },
        "outputId": "366d18b2-f01a-432e-d912-aa3718428f8c"
      },
      "source": [
        "!git clone https://github.com/ucfilho/ANN_read_matrix #clonar do Github\n",
        "%cd ANN_read_matrix"
      ],
      "execution_count": 23,
      "outputs": [
        {
          "output_type": "stream",
          "text": [
            "Cloning into 'ANN_read_matrix'...\n",
            "remote: Enumerating objects: 20, done.\u001b[K\n",
            "remote: Counting objects: 100% (20/20), done.\u001b[K\n",
            "remote: Compressing objects: 100% (18/18), done.\u001b[K\n",
            "remote: Total 20 (delta 5), reused 0 (delta 0), pack-reused 0\u001b[K\n",
            "Unpacking objects: 100% (20/20), done.\n",
            "/content/optim_raianars_Insight/ANN_read_matrix/optim_raianars_Insight/ANN_read_matrix/optim_raianars_Insight/ANN_read_matrix\n"
          ],
          "name": "stdout"
        }
      ]
    },
    {
      "cell_type": "code",
      "metadata": {
        "id": "N2lyPfivzwGv",
        "colab": {
          "base_uri": "https://localhost:8080/"
        },
        "outputId": "7ec98dcf-4c71-4faa-9eb2-8370a799f2f3"
      },
      "source": [
        "ANN_F=pd.read_csv('ANN_INSIGHT_Valor_F.csv')\n",
        "ANN_CR=pd.read_csv('ANN_INSIGHT_CR.csv')\n",
        "syn0_F,syn1_F,X_max_F,X_min_F=Go2Ann.GetMatriz(ANN_F)\n",
        "syn0_CR,syn1_CR,X_max_CR,X_min_CR=Go2Ann.GetMatriz(ANN_CR)\n",
        "fields = ['DI RELATIVO','FRAC Its','Fo','CRo']\n",
        "\n",
        "#TOTAL=7*dim*its*ITE\n",
        "TOTAL=10*dim*its*ITE\n",
        "TOTAL=int(TOTAL/2)   # CONFERIR SE ESTE EH O MELHOR LUGAR\n",
        "\n",
        "dimensions=len(MAX)\n",
        "start_time = time.time() #INICIALIZA CONTAGEM DO TEMPO\n",
        "\n",
        "MAX_P=np.zeros(ITE) # ATENCAO para variar F e Cr MAX_P passa a ser 3 vezes maior\n",
        "MIN_P=np.zeros(ITE) # ATENCAO para variar F e Cr MIN_P passa a ser 3 vezes maior\n",
        "\n",
        "for i in range(dim):\n",
        "  MAX_P[i]=MAX[i] \n",
        "  MIN_P[i]=MIN[i]\n",
        "\n",
        "rodadas=1\n",
        "for i in range(rodadas):\n",
        "  SOMA=0\n",
        "  pop = np.random.rand(NPAR, dimensions)\n",
        "  diff=np.zeros(PAR)\n",
        "  for ii in range(PAR):\n",
        "    diff[ii] = MAX[ii]-MIN[ii]\n",
        "  X = MIN + pop * diff\n",
        "    \n",
        "  PONTOS=ITE # DIVISOES DA POPULACAO\n",
        "start_time = time.time()\n",
        "BEST_AGENTS=[]\n",
        "MAT_stat=[]\n",
        "for i in range(RUNS):\n",
        "    MAT=[] \n",
        "    mut=Fi\n",
        "    crossp=CRi\n",
        "    SOMA=0\n",
        "    SOMAf=0\n",
        "    start_ite = time.time()\n",
        "    delta_time=(start_ite-start_time)/60\n",
        "    #print('ite=',i,'total=50','time=',delta_time)\n",
        "    pop = np.random.rand(NPAR, dim)\n",
        "    diff=np.zeros(PAR)\n",
        "    for ii in range(PAR):\n",
        "      diff[ii] = MAX[ii]-MIN[ii]\n",
        "    X = MIN + pop * diff\n",
        "    Xf = MIN + pop * diff\n",
        "    \n",
        "    DIo=1e99\n",
        "  \n",
        "    CRo=crossp;Fo=mut;\n",
        "    Fitness = np.asarray([Fun(ind) for ind in X])\n",
        "\n",
        "    XY,BEST_XY,BESTo,FOBESTo=AvaliaX(X,Fitness)\n",
        "    nrow,ncol=X.shape\n",
        "\n",
        "    QUANT=17;MAT_INDo=np.zeros((1,QUANT)); # quantos indices esta fazendo\n",
        "    MAT_INDo[0,5]=nrow  # VALOR NP\n",
        "    MAT_INDo[0,6]=Fo    # VALOR Fo   \n",
        "    MAT_INDo[0,7]=CRo   # VALOR CRo\n",
        "  \n",
        "    MAT_INDo=GeraIndices(X,BESTo,FOBESTo,DIo,MAT_INDo,SOMA,TOTAL,syn0_F,\n",
        "                        syn1_F,X_max_F,X_min_F,syn0_CR,syn1_CR,X_max_CR,\n",
        "                        X_min_CR,Fc,fields,Fun)\n",
        "  \n",
        "    DIo=np.copy(MAT_INDo[0,0])\n",
        "    MAT_INDo[0,15]=Fo    # VALOR Fo   \n",
        "    MAT_INDo[0,16]=CRo   # VALOR CRo\n",
        "    #ind_crossp=ITE-1\n",
        "\n",
        "    \n",
        "    for k in range(ITE):\n",
        "      X,BEST,FOBEST,XY,BEST_XY,SOMA= de_soma_Insight.de(MAX,MIN, mut, crossp,NPAR,its,Fun,X,SOMA,TOTAL)\n",
        "      #Xf,BESTf,FOBESTf,XYf,BEST_XYf,SOMAf= de_soma_Insight.de(MAX,MIN, Fi, CRi, NPAR,its,Fun,Xf,SOMAf,TOTAL)\n",
        "\n",
        "      \n",
        "      MAT_IND=GeraIndices(X,BESTo,FOBESTo,DIo,MAT_INDo,SOMA,TOTAL,syn0_F,\n",
        "                          syn1_F,X_max_F,X_min_F,syn0_CR,syn1_CR,X_max_CR,\n",
        "                          X_min_CR,Fc,fields,Fun)\n",
        "    \n",
        "      BESTo=np.copy(BEST);FOBESTo=np.copy(FOBEST);\n",
        "      MAT.append(MAT_IND.ravel())\n",
        "    \n",
        "      MAT_INDo[0,6]=MAT_IND[0,15]   # VALOR Fo   \n",
        "      MAT_INDo[0,7]=MAT_IND[0,16]   # VALOR CRo\n",
        "      mut=MAT_IND[0,15]\n",
        "      crossp=MAT_IND[0,16]\n",
        "\n",
        "      Fitness = np.asarray([Fun(ind) for ind in X])\n",
        "      #Fitnessf = np.asarray([Fun(ind) for ind in Xf])\n",
        "      Maior=np.argmax(Fitness)\n",
        "      #Maiorf=np.argmax(Fitnessf)\n",
        "      Menor=np.argmin(Fitness)\n",
        "      #Menorf=np.argmin(Fitnessf)\n",
        "\n",
        "      #X[Maior,:]=np.copy(Xf[Menorf,:])\n",
        "      #Xf[Maiorf,:]=np.copy(X[Menor,:])\n",
        "    print('i=',i,'time=',(time.time()-start_time)/60, 'FO=',FOBEST)  \n",
        "      \n",
        "    BEST_AGENTS.append(BEST_XY)\n",
        "    MAT_stat.append(MAT)\n",
        "    #print(\"GlobalParam e Solucao:\", BEST,\"Funcao=\",FOBEST)\n",
        "    \n",
        "############################## Cálculo dos Parâmetros de Avaliação   \n",
        "TIME = (time.time() - start_time)/RUNS\n",
        "BEST_AGENTS=np.array(BEST_AGENTS)\n",
        "BEST_AGENTS_ST= BEST_AGENTS[BEST_AGENTS[:,-1].argsort()]\n",
        "BEST=BEST_AGENTS_ST[0]\n",
        "WORSE=BEST_AGENTS_ST[-1]\n",
        "MEAN=np.mean(BEST_AGENTS,axis=0)\n",
        "MAXFO=BEST_AGENTS[:,-1].max()\n",
        "MINFO=BEST_AGENTS[:,-1].min()\n",
        "STD=BEST_AGENTS[:,-1].std()\n",
        "\n",
        "nome='_ANN_Div3x4_Fo-'+str(Fi)+'_CRo-'+str(CRi)+'_D-'+str(dim)+'_Interv-'+str(ITE)\n",
        "print('DE_POP_VAR_F_CR','TOTAL=',TOTAL,'Iterações=',ITE*its,'Dim=', PAR,\"Min/Max=\",MIN[0],\"/\",MAX[0],'_',Fun.__name__)\n",
        "print(nome, '\\n')\n",
        "print('MÉDIA: ',MEAN[-1])\n",
        "print('MIN __:',MINFO)\n",
        "print('MAX__: ',MAXFO)\n",
        "print('STD __:',STD)\n",
        "print(\"Tempo Médio= %.3f segundos ---\" % (TIME))\n",
        "print(RUNS,'Rodadas') \n",
        "print()\n",
        "print('BEST: ',BEST)"
      ],
      "execution_count": 24,
      "outputs": [
        {
          "output_type": "stream",
          "text": [
            "i= 0 time= 0.8607945680618286 FO= 5.843765547506923e-234\n",
            "i= 1 time= 1.709054676691691 FO= 3.187107820200926e-233\n",
            "i= 2 time= 2.5590498288472494 FO= 2.6732051988524775e-234\n",
            "i= 3 time= 3.422051787376404 FO= 1.3159493781595008e-235\n",
            "i= 4 time= 4.292864386240641 FO= 9.488415286011317e-233\n",
            "i= 5 time= 5.155522890885671 FO= 3.6053004817883764e-232\n",
            "i= 6 time= 6.035007389386495 FO= 1.1285303682961666e-239\n",
            "i= 7 time= 6.905688746770223 FO= 6.972705688080188e-237\n",
            "i= 8 time= 7.77069456577301 FO= 3.3948847349705595e-236\n",
            "i= 9 time= 8.62990673383077 FO= 1.92722939402023e-232\n",
            "i= 10 time= 9.535685058434805 FO= 6.0296398797622245e-233\n",
            "i= 11 time= 10.39472103913625 FO= 1.9400373841446674e-232\n",
            "i= 12 time= 11.250107097625733 FO= 1.1728960431920845e-235\n",
            "i= 13 time= 12.104205401738485 FO= 3.922848658155826e-233\n",
            "i= 14 time= 12.966786638895671 FO= 1.5877546250645342e-231\n",
            "i= 15 time= 13.820328652858734 FO= 3.4232440705704505e-232\n",
            "i= 16 time= 14.668879330158234 FO= 3.9770902194445526e-234\n",
            "i= 17 time= 15.50957453250885 FO= 1.4532375361861322e-235\n",
            "i= 18 time= 16.35517770051956 FO= 1.7433906764855677e-230\n",
            "i= 19 time= 17.205499267578126 FO= 1.792121376185416e-231\n",
            "i= 20 time= 18.05076944430669 FO= 2.9838135049302582e-248\n",
            "i= 21 time= 18.896394741535186 FO= 3.8356049939684254e-237\n",
            "i= 22 time= 19.745584825674694 FO= 1.8354941996052795e-233\n",
            "i= 23 time= 20.589264758427937 FO= 3.1608093902340068e-232\n",
            "i= 24 time= 21.4295734445254 FO= 5.220997644989361e-232\n",
            "i= 25 time= 22.27364964087804 FO= 1.587912623206751e-236\n",
            "i= 26 time= 23.120013439655303 FO= 1.0353464086677914e-233\n",
            "i= 27 time= 23.954438122113547 FO= 2.5119666592764113e-228\n",
            "i= 28 time= 24.80422600507736 FO= 7.319162827641598e-233\n",
            "i= 29 time= 25.6384992758433 FO= 6.115974150680019e-235\n",
            "i= 30 time= 26.481907224655153 FO= 2.304837585348321e-233\n",
            "i= 31 time= 27.32619237502416 FO= 2.7216230255692223e-232\n",
            "i= 32 time= 28.171065600713096 FO= 3.0569235172106595e-244\n",
            "i= 33 time= 28.998870297273 FO= 7.376591195602954e-234\n",
            "i= 34 time= 29.81836189428965 FO= 1.044518048926714e-232\n",
            "i= 35 time= 30.624141482512155 FO= 1.2379166351232822e-236\n",
            "i= 36 time= 31.431643891334534 FO= 7.217158226468681e-235\n",
            "i= 37 time= 32.23999650080999 FO= 6.867999121270622e-233\n",
            "i= 38 time= 33.056845072905226 FO= 3.9589561593610667e-233\n",
            "i= 39 time= 33.90846817890803 FO= 7.453218093885595e-235\n",
            "i= 40 time= 34.75662533839544 FO= 9.339902730834954e-235\n",
            "i= 41 time= 35.60094600915909 FO= 3.800538655716041e-232\n",
            "i= 42 time= 36.43746383984884 FO= 1.5858807791095391e-232\n",
            "i= 43 time= 37.27923922538757 FO= 3.912196975161734e-232\n",
            "i= 44 time= 38.12914932568868 FO= 3.348968939716947e-231\n",
            "i= 45 time= 38.97877932786942 FO= 7.53586498595802e-233\n",
            "i= 46 time= 39.8047626097997 FO= 3.919407147756032e-232\n",
            "i= 47 time= 40.63168031771978 FO= 1.1743692097307526e-231\n",
            "i= 48 time= 41.46995263894399 FO= 3.731612613123248e-231\n",
            "i= 49 time= 42.30444601774216 FO= 1.6259457563075817e-234\n",
            "DE_POP_VAR_F_CR TOTAL= 100000 Iterações= 2000 Dim= 10 Min/Max= -10 / 10 _ Schwefel_223\n",
            "_ANN_Div3x4_Fo-0.5_CRo-0.5_D-10_Interv-2000 \n",
            "\n",
            "MÉDIA:  5.090442808584952e-230\n",
            "MIN __: 2.9838135049302582e-248\n",
            "MAX__:  2.5119666592764113e-228\n",
            "STD __: 0.0\n",
            "Tempo Médio= 50.765 segundos ---\n",
            "50 Rodadas\n",
            "\n",
            "BEST:  [ 9.65568370e-026  9.57829939e-026  4.10055767e-026  9.11103479e-026\n",
            "  1.23568407e-025 -8.68429037e-026  7.34187627e-026 -3.65247052e-026\n",
            "  8.10434093e-026 -1.76168126e-025  2.98381350e-248]\n"
          ],
          "name": "stdout"
        }
      ]
    }
  ]
}