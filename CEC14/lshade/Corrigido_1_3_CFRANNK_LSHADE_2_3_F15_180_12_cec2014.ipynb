{
  "nbformat": 4,
  "nbformat_minor": 0,
  "metadata": {
    "colab": {
      "name": "Corrigido_1/3-CFRANNK_LSHADE_2/3_F15_180/12_cec2014.ipynb",
      "provenance": [],
      "collapsed_sections": [],
      "include_colab_link": true
    },
    "kernelspec": {
      "name": "python3",
      "display_name": "Python 3"
    },
    "language_info": {
      "codemirror_mode": {
        "name": "ipython",
        "version": 3
      },
      "file_extension": ".py",
      "mimetype": "text/x-python",
      "name": "python",
      "nbconvert_exporter": "python",
      "pygments_lexer": "ipython3",
      "version": "3.7.3"
    }
  },
  "cells": [
    {
      "cell_type": "markdown",
      "metadata": {
        "id": "view-in-github",
        "colab_type": "text"
      },
      "source": [
        "<a href=\"https://colab.research.google.com/github/RaianaSeixas/0_paper_one_revisited/blob/main/CEC14/lshade/Corrigido_1_3_CFRANNK_LSHADE_2_3_F15_180_12_cec2014.ipynb\" target=\"_parent\"><img src=\"https://colab.research.google.com/assets/colab-badge.svg\" alt=\"Open In Colab\"/></a>"
      ]
    },
    {
      "cell_type": "code",
      "source": [
        "############################### DADOS DE ENTRADA \n",
        " \n",
        "# this code only run from F22 to F25 (you just need to change this line the pararameters and type =cool= \n",
        "#          to go to line to change IFrank, de best or your combination\n",
        "RUNS=50 #NÚMERO DE RODADAS\n",
        "Fc=0.1 # fator de correcao parametros da ANN\n",
        "its=1 #10 # quantas vezes vai usar o NPAR antes de alterar de novo\n",
        "ITE=1000 #10 # PONTOS quantas vezes vai alteral NPAR \n",
        "NPAR=100\n",
        "mut=0.5\n",
        "crossp=0.5\n",
        "Fi=mut;CRi=crossp;# para impressão\n",
        "fator = 1.0/3.0; \n",
        "#fator = 1.0 # just LSHADE...\n",
        "mut2=0.5;crossp2=0.5;mut3=0.5;crossp3=0.5;mut4=0.25;crossp4=0.25;\n",
        "mut_best  =0.5 ; crossp_best =0.5\n",
        "maxNP = 180\n",
        "minNP = 12\n",
        "maxFES =300000\n",
        "FIX = 100 # Number of adjusts random walk\n",
        "H = 6\n",
        "kH = 0 # kH is used to work with H  \n",
        "terminal = 0.1\n",
        "p=0.1\n",
        "SF=[];SCR=[];MF=[];MCR=[];Xarq=[]\n",
        "muARRAY = [0.5,0.75,0.25,0.25,0.75]\n",
        "crARRAY = [0.5,0.25,0.75,0.25,0.75]\n",
        "numARRAY = len(muARRAY)\n",
        "MFi=0.5\n",
        "MCRi=0.5\n"
      ],
      "metadata": {
        "id": "SWHauA_QxHPz"
      },
      "execution_count": 1,
      "outputs": []
    },
    {
      "cell_type": "code",
      "metadata": {
        "colab": {
          "base_uri": "https://localhost:8080/"
        },
        "id": "c59cDVKoxDLX",
        "outputId": "e7a29120-b8cb-4a8b-8cd2-fcf0918df50b"
      },
      "source": [
        "############################### Importar códigos\n",
        "!git clone https://github.com/ucfilho/optim_raianars_Insight/ #clonar do Github\n",
        "%cd optim_raianars_Insight\n",
        "import de_soma_Insight\n",
        "import de_bounds_matriz\n",
        "import Go2Ann\n",
        "import randomWALK\n",
        "import annDE_FES_new\n",
        "import classicDE_FES_new\n",
        "import stepsWALK_new\n",
        "import LShade_new\n",
        "from pandas import read_csv"
      ],
      "execution_count": 2,
      "outputs": [
        {
          "output_type": "stream",
          "name": "stdout",
          "text": [
            "Cloning into 'optim_raianars_Insight'...\n",
            "remote: Enumerating objects: 863, done.\u001b[K\n",
            "remote: Counting objects: 100% (222/222), done.\u001b[K\n",
            "remote: Compressing objects: 100% (140/140), done.\u001b[K\n",
            "remote: Total 863 (delta 146), reused 124 (delta 82), pack-reused 641\u001b[K\n",
            "Receiving objects: 100% (863/863), 444.75 KiB | 15.88 MiB/s, done.\n",
            "Resolving deltas: 100% (536/536), done.\n",
            "/content/optim_raianars_Insight\n"
          ]
        }
      ]
    },
    {
      "cell_type": "code",
      "metadata": {
        "id": "Va-6Xios8RjU",
        "colab": {
          "base_uri": "https://localhost:8080/"
        },
        "outputId": "d454c44d-78ea-43aa-bbd0-08b4873568ae"
      },
      "source": [
        "!git clone https://github.com/ucfilho/Raianars_paper_One #clonar do Github\n",
        "%cd Raianars_paper_One"
      ],
      "execution_count": 3,
      "outputs": [
        {
          "output_type": "stream",
          "name": "stdout",
          "text": [
            "Cloning into 'Raianars_paper_One'...\n",
            "remote: Enumerating objects: 277, done.\u001b[K\n",
            "remote: Counting objects: 100% (148/148), done.\u001b[K\n",
            "remote: Compressing objects: 100% (65/65), done.\u001b[K\n",
            "remote: Total 277 (delta 83), reused 142 (delta 82), pack-reused 129\u001b[K\n",
            "Receiving objects: 100% (277/277), 667.30 KiB | 18.54 MiB/s, done.\n",
            "Resolving deltas: 100% (155/155), done.\n",
            "/content/optim_raianars_Insight/Raianars_paper_One\n"
          ]
        }
      ]
    },
    {
      "cell_type": "code",
      "metadata": {
        "id": "_E15mKFURR6O"
      },
      "source": [
        "#import Go2Ann\n",
        "#import de_soma_Insight\n",
        "#import de_bounds_matriz\n",
        "#import Function\n",
        "import Go2MinMax\n",
        "from AvaliaX import AvaliaX\n",
        "import numpy as np\n",
        "import scipy.stats\n",
        "import random\n",
        "from GeraIndices import GeraIndices\n",
        "import numpy as np\n",
        "import time\n",
        "import matplotlib.pyplot as plt\n",
        "from random import randint\n",
        "from scipy import optimize\n",
        "import pandas as pd\n",
        "from sklearn.metrics import confusion_matrix"
      ],
      "execution_count": 4,
      "outputs": []
    },
    {
      "cell_type": "code",
      "metadata": {
        "id": "ik3ZjkUKycUK",
        "colab": {
          "base_uri": "https://localhost:8080/"
        },
        "outputId": "67ba24df-bad9-4215-fac4-3aa5880e1924"
      },
      "source": [
        "############################### Importar códigos\n",
        "!git clone https://github.com/ucfilho/optim_raianars_Insight/ #clonar do Github\n",
        "%cd optim_raianars_Insight\n",
        "import de_soma_Insight\n",
        "import de_bounds_matriz"
      ],
      "execution_count": 5,
      "outputs": [
        {
          "output_type": "stream",
          "name": "stdout",
          "text": [
            "Cloning into 'optim_raianars_Insight'...\n",
            "remote: Enumerating objects: 863, done.\u001b[K\n",
            "remote: Counting objects: 100% (222/222), done.\u001b[K\n",
            "remote: Compressing objects: 100% (140/140), done.\u001b[K\n",
            "remote: Total 863 (delta 146), reused 124 (delta 82), pack-reused 641\u001b[K\n",
            "Receiving objects: 100% (863/863), 444.75 KiB | 8.24 MiB/s, done.\n",
            "Resolving deltas: 100% (536/536), done.\n",
            "/content/optim_raianars_Insight/Raianars_paper_One/optim_raianars_Insight\n"
          ]
        }
      ]
    },
    {
      "cell_type": "code",
      "metadata": {
        "id": "lJogRB30yepw",
        "colab": {
          "base_uri": "https://localhost:8080/"
        },
        "outputId": "547c1f3e-d67e-4364-eea7-8f3126a4b23a"
      },
      "source": [
        "#!git clone https://github.com/ucfilho/Raianars_paper_One #clonar do Github\n",
        "#%cd Raianars_paper_One\n",
        "\n",
        "!git clone https://github.com/ucfilho/Raianars_Routines #clonar do Github\n",
        "%cd Raianars_Routines"
      ],
      "execution_count": 6,
      "outputs": [
        {
          "output_type": "stream",
          "name": "stdout",
          "text": [
            "Cloning into 'Raianars_Routines'...\n",
            "remote: Enumerating objects: 77, done.\u001b[K\n",
            "remote: Counting objects: 100% (77/77), done.\u001b[K\n",
            "remote: Compressing objects: 100% (73/73), done.\u001b[K\n",
            "remote: Total 77 (delta 23), reused 0 (delta 0), pack-reused 0\u001b[K\n",
            "Unpacking objects: 100% (77/77), done.\n",
            "/content/optim_raianars_Insight/Raianars_paper_One/optim_raianars_Insight/Raianars_Routines\n"
          ]
        }
      ]
    },
    {
      "cell_type": "code",
      "source": [
        "!git clone https://github.com/ucfilho/functions_cec2014_data\n",
        "%cd functions_cec2014_data\n",
        "import F1_to_F27_cec2014_zero_to_hero\n",
        "import cec2014_names\n",
        "import cec2014_shift_rotate"
      ],
      "metadata": {
        "id": "Z66tL-D0qM1H",
        "colab": {
          "base_uri": "https://localhost:8080/"
        },
        "outputId": "46af8800-8d2d-431c-93e6-fdf94ef0de1d"
      },
      "execution_count": 7,
      "outputs": [
        {
          "output_type": "stream",
          "name": "stdout",
          "text": [
            "Cloning into 'functions_cec2014_data'...\n",
            "remote: Enumerating objects: 300, done.\u001b[K\n",
            "remote: Counting objects: 100% (6/6), done.\u001b[K\n",
            "remote: Compressing objects: 100% (6/6), done.\u001b[K\n",
            "remote: Total 300 (delta 2), reused 0 (delta 0), pack-reused 294\u001b[K\n",
            "Receiving objects: 100% (300/300), 465.31 KiB | 8.46 MiB/s, done.\n",
            "Resolving deltas: 100% (181/181), done.\n",
            "/content/optim_raianars_Insight/Raianars_paper_One/optim_raianars_Insight/Raianars_Routines/functions_cec2014_data\n"
          ]
        }
      ]
    },
    {
      "cell_type": "code",
      "source": [
        "function_select = 'F15'\n",
        "Function = F1_to_F27_cec2014_zero_to_hero.F15\n",
        "Shift_Rotate= cec2014_shift_rotate.F15\n",
        "problem_size = 30 # possibles 2, 10, 20, 30, 50, 100"
      ],
      "metadata": {
        "id": "hN3HYnHmqX3f"
      },
      "execution_count": 8,
      "outputs": []
    },
    {
      "cell_type": "code",
      "source": [
        "dim = problem_size "
      ],
      "metadata": {
        "id": "yCggKdhhtnp1"
      },
      "execution_count": 9,
      "outputs": []
    },
    {
      "cell_type": "code",
      "source": [
        "f_matrix = \"M_\"+function_select[1:]+\"_D\"+str(problem_size) + \".txt\"\n",
        "shift_data_file=\"shift_data_\"+function_select[1:]+\".txt\"\n",
        "F_bias = cec2014_names.BiasValue()[function_select]\n",
        "type_fun = cec2014_names.TypeFunctions()[function_select]\n",
        "Function_CEC2014 =function_select + \"_\" + cec2014_names.NamesFunctions()[function_select]+\"_D_\"+str(problem_size)"
      ],
      "metadata": {
        "id": "r5pD3VaXqYAj"
      },
      "execution_count": 10,
      "outputs": []
    },
    {
      "cell_type": "code",
      "source": [
        "!pip install --upgrade --no-cache-dir gdown"
      ],
      "metadata": {
        "id": "QFsJfpK3qfQy",
        "colab": {
          "base_uri": "https://localhost:8080/"
        },
        "outputId": "c31c48bf-2dc1-4135-e73c-850225557439"
      },
      "execution_count": 11,
      "outputs": [
        {
          "output_type": "stream",
          "name": "stdout",
          "text": [
            "Looking in indexes: https://pypi.org/simple, https://us-python.pkg.dev/colab-wheels/public/simple/\n",
            "Requirement already satisfied: gdown in /usr/local/lib/python3.7/dist-packages (4.4.0)\n",
            "Requirement already satisfied: beautifulsoup4 in /usr/local/lib/python3.7/dist-packages (from gdown) (4.6.3)\n",
            "Requirement already satisfied: filelock in /usr/local/lib/python3.7/dist-packages (from gdown) (3.7.0)\n",
            "Requirement already satisfied: six in /usr/local/lib/python3.7/dist-packages (from gdown) (1.15.0)\n",
            "Requirement already satisfied: tqdm in /usr/local/lib/python3.7/dist-packages (from gdown) (4.64.0)\n",
            "Requirement already satisfied: requests[socks] in /usr/local/lib/python3.7/dist-packages (from gdown) (2.23.0)\n",
            "Requirement already satisfied: chardet<4,>=3.0.2 in /usr/local/lib/python3.7/dist-packages (from requests[socks]->gdown) (3.0.4)\n",
            "Requirement already satisfied: idna<3,>=2.5 in /usr/local/lib/python3.7/dist-packages (from requests[socks]->gdown) (2.10)\n",
            "Requirement already satisfied: urllib3!=1.25.0,!=1.25.1,<1.26,>=1.21.1 in /usr/local/lib/python3.7/dist-packages (from requests[socks]->gdown) (1.24.3)\n",
            "Requirement already satisfied: certifi>=2017.4.17 in /usr/local/lib/python3.7/dist-packages (from requests[socks]->gdown) (2022.5.18.1)\n",
            "Requirement already satisfied: PySocks!=1.5.7,>=1.5.6 in /usr/local/lib/python3.7/dist-packages (from requests[socks]->gdown) (1.7.1)\n"
          ]
        }
      ]
    },
    {
      "cell_type": "code",
      "source": [
        "# !gdown --id 1yM-cGzp7F35bXZ-f80uoJHzGqAb52CPz\n",
        "# https://drive.google.com/file/d/1yM-cGzp7F35bXZ-f80uoJHzGqAb52CPz/view?usp=sharing\n",
        "!gdown --id 1yM-cGzp7F35bXZ-f80uoJHzGqAb52CPz"
      ],
      "metadata": {
        "id": "bCv2CFD3qp0q",
        "colab": {
          "base_uri": "https://localhost:8080/"
        },
        "outputId": "ecfcaff1-08f3-4a52-a891-0d610516c111"
      },
      "execution_count": 12,
      "outputs": [
        {
          "output_type": "stream",
          "name": "stdout",
          "text": [
            "/usr/local/lib/python3.7/dist-packages/gdown/cli.py:131: FutureWarning: Option `--id` was deprecated in version 4.3.1 and will be removed in 5.0. You don't need to pass it anymore to use a file ID.\n",
            "  category=FutureWarning,\n",
            "Downloading...\n",
            "From: https://drive.google.com/uc?id=1yM-cGzp7F35bXZ-f80uoJHzGqAb52CPz\n",
            "To: /content/optim_raianars_Insight/Raianars_paper_One/optim_raianars_Insight/Raianars_Routines/functions_cec2014_data/cec2014.zip\n",
            "100% 36.1M/36.1M [00:00<00:00, 133MB/s]\n"
          ]
        }
      ]
    },
    {
      "cell_type": "code",
      "source": [
        "import zipfile\n",
        "file_name = zipfile.ZipFile('cec2014.zip', 'r')\n",
        "file_name.extractall()"
      ],
      "metadata": {
        "id": "-N1Hsa88W-Mr"
      },
      "execution_count": 13,
      "outputs": []
    },
    {
      "cell_type": "code",
      "source": [
        "def load_shift_data__(data_file=None):\n",
        "    data = read_csv(data_file, delimiter='\\s+', index_col=False, header=None)\n",
        "    return data.values.reshape((-1))\n",
        "\n",
        "def load_matrix_data__(data_file=None):\n",
        "    data = read_csv(data_file, delimiter='\\s+', index_col=False, header=None)\n",
        "    return data.values"
      ],
      "metadata": {
        "id": "_tEgxfW4qwlt"
      },
      "execution_count": 14,
      "outputs": []
    },
    {
      "cell_type": "code",
      "source": [
        "shift_data_a = load_shift_data__(shift_data_file)[:problem_size]\n",
        "matrix_a = load_matrix_data__(f_matrix)\n",
        "if (type_fun == 'hybrid'):\n",
        "  f_shuffle = \"shuffle_data_\"+function_select[1:]+\"_D\"+str(problem_size) + \".txt\"\n",
        "  shuffle = (load_shift_data__(f_shuffle)[:problem_size] - np.ones(problem_size)).astype(int)\n",
        "else:\n",
        "  shuffle = matrix_a"
      ],
      "metadata": {
        "id": "NJVx_raoq9GU"
      },
      "execution_count": 15,
      "outputs": []
    },
    {
      "cell_type": "code",
      "source": [
        "SUPPORT_DIMENSION = [2, 10, 20, 30, 50, 100]\n",
        "SUPPORT_DIMENSION_2 = [10, 20, 30, 50, 100]\n",
        "\n",
        "#def Fun(solution,shift_data=shift_data_a, matrix=matrix_a, shuffle):#, bias=F_bias):\n",
        "def CEC2014(solution, shift_data ,  matrix, shuffle):#, bias=F_bias):\n",
        "  if(type_fun == 'shift_rotate'):\n",
        "    z = Shift_Rotate(solution , shift_data , matrix,shuffle)\n",
        "    result = Function(z) + F_bias\n",
        "  elif(type_fun =='hybrid'): # F17 to F22\n",
        "    z = Shift_Rotate(solution , shift_data , matrix,shuffle)\n",
        "    result = z + F_bias\n",
        " \n",
        "  return result"
      ],
      "metadata": {
        "id": "AF2E2EIwrC8o"
      },
      "execution_count": 16,
      "outputs": []
    },
    {
      "cell_type": "code",
      "source": [
        " shift_data = shift_data_a\n",
        " matrix = matrix_a\n",
        " shuffle = shuffle\n",
        " def Hybrid(solution):\n",
        "   resp = CEC2014(solution, shift_data = shift_data_a, matrix = matrix_a, shuffle = shuffle)\n",
        "   return resp"
      ],
      "metadata": {
        "id": "jIcMJI-UrK8V"
      },
      "execution_count": 17,
      "outputs": []
    },
    {
      "cell_type": "code",
      "source": [
        "!git clone https://github.com/ucfilho/Raianars_paper_One #clonar do Github\n",
        "%cd Raianars_paper_One"
      ],
      "metadata": {
        "id": "9Vsz9VQRrLVf",
        "colab": {
          "base_uri": "https://localhost:8080/"
        },
        "outputId": "c488e5a9-3de1-4aa7-95b8-742f015bfb86"
      },
      "execution_count": 18,
      "outputs": [
        {
          "output_type": "stream",
          "name": "stdout",
          "text": [
            "Cloning into 'Raianars_paper_One'...\n",
            "remote: Enumerating objects: 277, done.\u001b[K\n",
            "remote: Counting objects: 100% (148/148), done.\u001b[K\n",
            "remote: Compressing objects: 100% (65/65), done.\u001b[K\n",
            "remote: Total 277 (delta 83), reused 142 (delta 82), pack-reused 129\u001b[K\n",
            "Receiving objects: 100% (277/277), 667.30 KiB | 20.85 MiB/s, done.\n",
            "Resolving deltas: 100% (155/155), done.\n",
            "/content/optim_raianars_Insight/Raianars_paper_One/optim_raianars_Insight/Raianars_Routines/functions_cec2014_data/Raianars_paper_One\n"
          ]
        }
      ]
    },
    {
      "cell_type": "code",
      "source": [
        "MAX=np.repeat(100,dim)\n",
        "MIN=np.repeat(-100,dim)\n",
        "\n",
        "bounds=[]\n",
        "for k in range(len(MAX)):\n",
        "  bounds.append((MIN[k],MAX[k]))"
      ],
      "metadata": {
        "id": "ukk5Twiiq0MN"
      },
      "execution_count": 19,
      "outputs": []
    },
    {
      "cell_type": "code",
      "metadata": {
        "id": "qTINtQ1cosZK",
        "colab": {
          "base_uri": "https://localhost:8080/"
        },
        "outputId": "ac623035-400d-4373-ca5a-c11bc39e776d"
      },
      "source": [
        "!git clone https://github.com/ucfilho/ANN_read_matrix #clonar do Github\n",
        "%cd ANN_read_matrix"
      ],
      "execution_count": 20,
      "outputs": [
        {
          "output_type": "stream",
          "name": "stdout",
          "text": [
            "Cloning into 'ANN_read_matrix'...\n",
            "remote: Enumerating objects: 20, done.\u001b[K\n",
            "remote: Total 20 (delta 0), reused 0 (delta 0), pack-reused 20\u001b[K\n",
            "Unpacking objects: 100% (20/20), done.\n",
            "/content/optim_raianars_Insight/Raianars_paper_One/optim_raianars_Insight/Raianars_Routines/functions_cec2014_data/Raianars_paper_One/ANN_read_matrix\n"
          ]
        }
      ]
    },
    {
      "cell_type": "code",
      "metadata": {
        "id": "QiQLYOoNoyCw"
      },
      "source": [
        "ANN_F=pd.read_csv('ANN_INSIGHT_Valor_F.csv')"
      ],
      "execution_count": 21,
      "outputs": []
    },
    {
      "cell_type": "code",
      "metadata": {
        "id": "uHtW2amaDzFv"
      },
      "source": [
        "ANN_CR=pd.read_csv('ANN_INSIGHT_CR.csv')"
      ],
      "execution_count": 22,
      "outputs": []
    },
    {
      "cell_type": "code",
      "metadata": {
        "id": "EH6h_vke2yu1"
      },
      "source": [
        "syn0_F,syn1_F,X_max_F,X_min_F=Go2Ann.GetMatriz(ANN_F)"
      ],
      "execution_count": 23,
      "outputs": []
    },
    {
      "cell_type": "code",
      "metadata": {
        "id": "WW_3ZWJXD60i"
      },
      "source": [
        "syn0_CR,syn1_CR,X_max_CR,X_min_CR=Go2Ann.GetMatriz(ANN_CR)"
      ],
      "execution_count": 24,
      "outputs": []
    },
    {
      "cell_type": "code",
      "metadata": {
        "id": "b4gwBvVTyaXh"
      },
      "source": [
        "ANN_CR=pd.read_csv('ANN_INSIGHT_CR.csv')"
      ],
      "execution_count": 25,
      "outputs": []
    },
    {
      "cell_type": "code",
      "metadata": {
        "id": "6jL8MxpHvk-Y"
      },
      "source": [
        "fields = ['DI RELATIVO','FRAC Its','Fo','CRo']"
      ],
      "execution_count": 26,
      "outputs": []
    },
    {
      "cell_type": "code",
      "metadata": {
        "id": "Mb3LmbSmj9v7",
        "colab": {
          "base_uri": "https://localhost:8080/",
          "height": 174
        },
        "outputId": "59e8b2cb-c7b2-4181-9a08-2e0a7f8bafb2"
      },
      "source": [
        "##################################### \n",
        "\n",
        "TOTAL=10*dim*its*ITE\n",
        "TOTAL=int(TOTAL/2)   # CONFERIR SE ESTE EH O MELHOR LUGAR\n",
        "\n",
        "#dimensions=len(MAX)\n",
        "dimensions=dim\n",
        "start_time = time.time() #INICIALIZA CONTAGEM DO TEMPO\n",
        "\n",
        "\n",
        "PAR=dim\n",
        "Fun = Function\n",
        "fobj=Fun\n",
        "\n",
        "MAX_P=np.zeros(ITE) # ATENCAO para variar F e Cr MAX_P passa a ser 3 vezes maior\n",
        "MIN_P=np.zeros(ITE) # ATENCAO para variar F e Cr MIN_P passa a ser 3 vezes maior\n",
        "\n",
        "for i in range(dim):\n",
        "  MAX_P[i]=MAX[i] \n",
        "  MIN_P[i]=MIN[i]\n",
        "\n",
        "rodadas=1\n",
        "NPAR1=int(fator*NPAR);\n",
        "#NPAR2=int(fator*NPAR)\n",
        "#NPAR2=int((NPAR-NPAR1)/3);\n",
        "#NPAR3=int((NPAR-NPAR1)/3);\n",
        "#NPAR4=int((NPAR-NPAR1)/3);\n",
        "NPAR2 = NPAR-NPAR1\n",
        "print('frac=',fator);\n",
        "print('Npar1=',NPAR1);\n",
        "print('Npar2=',NPAR2);\n",
        "#print('Npar3=',NPAR3);\n",
        "#print('Npar4=',NPAR4);\n",
        "print('Npar=',NPAR)\n",
        "\n",
        "cols=dim\n",
        "\n",
        "X1=np.zeros((NPAR1,cols)) # X1 is Frannk population\n",
        "for i in range(NPAR1):\n",
        "  for j in range(cols):\n",
        "    r=np.random.random()\n",
        "    X1[i,j]=r*(MAX[j]-MIN[j])+MIN[j]\n",
        "    \n",
        "X2=np.zeros((NPAR2,cols)) # X2 is population DE (default DE)\n",
        "for i in range(NPAR2):\n",
        "  for j in range(cols):\n",
        "    r=np.random.random()\n",
        "    X2[i,j]=r*(MAX[j]-MIN[j])+MIN[j]\n",
        "\n",
        "'''X3=np.zeros((NPAR3,cols)) # X1 is Frannk population\n",
        "for i in range(NPAR3):\n",
        "  for j in range(cols):\n",
        "    r=np.random.random()\n",
        "    X3[i,j]=r*(MAX[j]-MIN[j])+MIN[j]'''\n",
        "'''    \n",
        "X4=np.zeros((NPAR4,cols)) # X2 is population DE (default DE)\n",
        "for i in range(NPAR4):\n",
        "  for j in range(cols):\n",
        "    r=np.random.random()\n",
        "    X4[i,j]=r*(MAX[j]-MIN[j])+MIN[j]\n",
        "    \n",
        " ############################################################\n",
        "  #bounds=[(5*dim, 15*dim)] * PONTOS # ITE\n",
        "  #bounds=[(3*dim, 12*dim)] * PONTOS # ITE\n",
        "  #bounds=[(4*dim, 16*dim)] * PONTOS\n",
        "  \n",
        "  # nao pode ser assim pq o bounds vale p o DE nao dos parametros\n",
        "  #p=int(TOTAL/its/ITE) \n",
        "  #bounds=[(p, p)] * PONTOS\n",
        "'''"
      ],
      "execution_count": 27,
      "outputs": [
        {
          "output_type": "stream",
          "name": "stdout",
          "text": [
            "frac= 0.3333333333333333\n",
            "Npar1= 33\n",
            "Npar2= 67\n",
            "Npar= 100\n"
          ]
        },
        {
          "output_type": "execute_result",
          "data": {
            "text/plain": [
              "'    \\nX4=np.zeros((NPAR4,cols)) # X2 is population DE (default DE)\\nfor i in range(NPAR4):\\n  for j in range(cols):\\n    r=np.random.random()\\n    X4[i,j]=r*(MAX[j]-MIN[j])+MIN[j]\\n    \\n ############################################################\\n  #bounds=[(5*dim, 15*dim)] * PONTOS # ITE\\n  #bounds=[(3*dim, 12*dim)] * PONTOS # ITE\\n  #bounds=[(4*dim, 16*dim)] * PONTOS\\n  \\n  # nao pode ser assim pq o bounds vale p o DE nao dos parametros\\n  #p=int(TOTAL/its/ITE) \\n  #bounds=[(p, p)] * PONTOS\\n'"
            ],
            "application/vnd.google.colaboratory.intrinsic+json": {
              "type": "string"
            }
          },
          "metadata": {},
          "execution_count": 27
        }
      ]
    },
    {
      "cell_type": "code",
      "metadata": {
        "id": "rnX8ttNopd1G",
        "colab": {
          "base_uri": "https://localhost:8080/"
        },
        "outputId": "f59ff429-86cb-4625-f8c8-eeeb2d3f959b"
      },
      "source": [
        "start_time = time.time()\n",
        "BEST_AGENTS=[]\n",
        "MAT_stat=[]\n",
        "for iii in range(RUNS):\n",
        "    FES = 0 ; gen = 0 \n",
        "    MAT=[] \n",
        "    mut=Fi\n",
        "    crossp=CRi\n",
        "    SOMA=0\n",
        "    pop = np.random.rand(NPAR, dim)\n",
        "    diff=np.zeros(PAR)\n",
        "\n",
        "    NPAR = maxNP\n",
        "    # fator = 1.0\n",
        "    #NPAR1=int(fator*NPAR);NPAR2=int(fator*NPAR);NPAR3 = NPAR-NPAR1-NPAR1\n",
        "    NPAR1=int(fator*NPAR);NPAR2 = NPAR-NPAR1\n",
        "    '''\n",
        "    NPAR2=int((NPAR-NPAR1)/3);\n",
        "    NPAR3=int((NPAR-NPAR1)/3);\n",
        "    NPAR4=int((NPAR-NPAR1)/3);\n",
        "    NPAR1 = NPAR-3*NPAR2\n",
        "    '''\n",
        "\n",
        "    X1=np.zeros((NPAR1,cols)) # X1 is Frannk population\n",
        "    for i in range(NPAR1):\n",
        "      for j in range(cols):\n",
        "        r=np.random.random()\n",
        "        X1[i,j]=r*(MAX[j]-MIN[j])+MIN[j]\n",
        "       \n",
        "    X2=np.zeros((NPAR2,cols)) # X2 is population DE (default DE)\n",
        "    for i in range(NPAR2):\n",
        "      for j in range(cols):\n",
        "        r=np.random.random()\n",
        "        X2[i,j]=r*(MAX[j]-MIN[j])+MIN[j]\n",
        "    \n",
        "    '''    X3=np.zeros((NPAR3,cols)) # X2 is population DE (default DE)\n",
        "    for i in range(NPAR3):\n",
        "      for j in range(cols):\n",
        "        r=np.random.random()\n",
        "        X3[i,j]=r*(MAX[j]-MIN[j])+MIN[j]'''\n",
        "    ''' \n",
        "    X4=np.zeros((NPAR4,cols)) # X2 is population DE (default DE)\n",
        "    for i in range(NPAR4):\n",
        "      for j in range(cols):\n",
        "        r=np.random.random()\n",
        "        X4[i,j]=r*(MAX[j]-MIN[j])+MIN[j]\n",
        "    '''\n",
        "    fit1 = np.asarray([fobj(ind) for ind in X1])\n",
        "    best_idx = np.argmin(fit1)\n",
        "    best1 = X1[best_idx]\n",
        "    fbest1 = fit1[best_idx] \n",
        "\n",
        "    \n",
        "    fit2 = np.asarray([fobj(ind) for ind in X2])\n",
        "    best_idx = np.argmin(fit2)\n",
        "    best2 = X2[best_idx]\n",
        "    fbest2 = fit2[best_idx] \n",
        "\n",
        "    '''    fit3 = np.asarray([fobj(ind) for ind in X3])\n",
        "    best_idx = np.argmin(fit3)\n",
        "    best3 = X3[best_idx]\n",
        "    fbest3 = fit3[best_idx] '''\n",
        "    '''\n",
        "    fit3 = np.asarray([fobj(ind) for ind in X3])\n",
        "    fit4 = np.asarray([fobj(ind) for ind in X4])\n",
        "    FES = FES + NPAR1 + NPAR2 + NPAR3+ NPAR4\n",
        "    '''\n",
        "    FES = FES + NPAR1 + NPAR2\n",
        "    fit_best =[]\n",
        "    DIo=1e99\n",
        "  \n",
        "    CRo=crossp;Fo=mut;\n",
        "    #Fitness = np.asarray([Fun(ind, shift_data , matrix, shuffle) for ind in X1])\n",
        "    XY,BEST_XY,BESTo,FOBESTo=AvaliaX(X1,fit1 )\n",
        "    nrow,ncol=X1.shape\n",
        "    FES = FES + nrow\n",
        "\n",
        "    QUANT=17;MAT_INDo=np.zeros((1,QUANT)); # quantos indices esta fazendo\n",
        "    MAT_INDo[0,5]=nrow  # VALOR NP\n",
        "    MAT_INDo[0,6]=Fo    # VALOR Fo   \n",
        "    MAT_INDo[0,7]=CRo   # VALOR CRo\n",
        "\n",
        "    Fuma = Fun  # Fuma era Fun\n",
        "  \n",
        "    MAT_INDo=GeraIndices(X1,BESTo,FOBESTo,DIo,MAT_INDo,SOMA,TOTAL,syn0_F,\n",
        "                        syn1_F,X_max_F,X_min_F,syn0_CR,syn1_CR,X_max_CR,\n",
        "                        X_min_CR,Fc,fields,Fuma)\n",
        "  \n",
        "    DIo=np.copy(MAT_INDo[0,0])\n",
        "    MAT_INDo[0,15]=Fo    # VALOR Fo   \n",
        "    MAT_INDo[0,16]=CRo   # VALOR CRo\n",
        "\n",
        "    # Just to intialize variables:\n",
        "    FESr = 0\n",
        "    FOBEST1 = fbest1;FOBEST2 = fbest2;FOBEST3 = 1E99;FOBEST4 = 1E99\n",
        "    #BEST1,BEST2,BEST3,BEST4  =  np.copy(X1[0,:]),np.copy(X2[0,:]),np.copy(X3[0,:]), np.copy(X4[0,:]) \n",
        "    BEST1  =  best1\n",
        "    BEST2  =  best2\n",
        "    #BEST3  =  best3\n",
        "    popsize = NPAR\n",
        "    FUNCTION = []\n",
        "\n",
        "    MF=[];MCR=[];\n",
        "    for i in range(H):\n",
        "      MCR.append(MCRi);MF.append(MFi) # line 3\n",
        "    \n",
        "    Narquive=popsize\n",
        "    setTUNE =[SF,SCR,MF,MCR,p, terminal, Narquive,H,kH]\n",
        "    while(FESr == 0 ):\n",
        "\n",
        "      #print('FES',FES)\n",
        "\n",
        "      gen = gen +1\n",
        "      ##=cool=#####################################################################################\n",
        "      '''\n",
        "      fback,Xback,BESTback,FOBESTback,FESback= np.copy(fit2),np.copy(X2),BEST2,FOBEST2,FES\n",
        "      fit2,X2,BEST2,FOBEST2,XY2,BEST_XY2,FES=classicDE_FES_new.de(bounds, mut2, crossp2,NPAR2, its,fobj,fit2,X2,FES) # de_bounds_matriz\n",
        "      if(FES > maxFES):\n",
        "        FESr = FES \n",
        "        fit2,X2,BEST2,FOBEST2,FES = np.copy(fback),np.copy(Xback),BESTback,FOBESTback,FESback\n",
        "      \n",
        "      fback,Xback,BESTback,FOBESTback,FESback= np.copy(fit3),np.copy(X3),BEST3,FOBEST3,FES\n",
        "      fit3,X3,BEST3,FOBEST3,XY3,BEST_XY3,FES=classicDE_FES_new.de(bounds, mut3, crossp3,NPAR3, its,fobj,fit3,X3,FES) #de_bounds_matriz\n",
        "      if(FES > maxFES): \n",
        "        FESr = FES\n",
        "        fit3,X3,BEST3,FOBEST3,FES = np.copy(fback),np.copy(Xback),BESTback,FOBESTback,FESback\n",
        "\n",
        "      fback,Xback,BESTback,FOBESTback,FESback= np.copy(fit4),np.copy(X4),BEST4,FOBEST4,FES\n",
        "      fit4,X4,BEST4,FOBEST4,XY4,BEST_XY4,FES=classicDE_FES_new.de(bounds, mut4, crossp4,NPAR4, its,fobj,fit4,X4,FES) # de_bounds_matriz\n",
        "      if(FES > maxFES): \n",
        "        FESr = FES\n",
        "        fit4,X4,BEST4,FOBEST4,FES = np.copy(fback),np.copy(Xback),BESTback,FOBESTback,FESback\n",
        "      '''\n",
        "      \n",
        "      \n",
        "\n",
        "      \n",
        "\n",
        "      fback,Xback,BESTback,FOBESTback,FESback= np.copy(fit1),np.copy(X1),BEST1,FOBEST1,FES\n",
        "      fit1,X1,BEST1,FOBEST1,XY,BEST_XY,FES = annDE_FES_new.de(MAX,MIN, mut, crossp, NPAR1, its,fobj,fit1,X1,FES)\n",
        "      if(FES > maxFES):\n",
        "        FESr = FES \n",
        "        fit1,X1,BEST1,FOBEST1,FES = np.copy(fback),np.copy(Xback),BESTback,FOBESTback,FESback\n",
        "\n",
        "      fback,Xback,BESTback,FOBESTback,FESback= np.copy(fit2),np.copy(X2),BEST2,FOBEST2,FES\n",
        "      Xarqback = Xarq\n",
        "      fit2,X2,BEST2,FOBEST2,XY,BEST_XY,FES,Xarq,setTUNE= LShade_new.LShade(MAX,MIN, NPAR2,fobj,setTUNE,best2,fbest2,fit2,X2,Xarq,FES)\n",
        "      if(FES > maxFES):\n",
        "        FESr = FES \n",
        "        fit2,X2,BEST2,FOBEST2,FES = np.copy(fback),np.copy(Xback),BESTback,FOBESTback,FESback\n",
        "        Xarq = Xarqback\n",
        "      ri = random.randint(0, numARRAY-1)\n",
        "      \n",
        "      '''mut3 = muARRAY[ri]; crossp3 = crARRAY[ri]\n",
        "      fback,Xback,BESTback,FOBESTback,FESback= np.copy(fit3),np.copy(X3),BEST3,FOBEST3,FES\n",
        "      fit3,X3,BEST3,FOBEST3,XY3,BEST_XY3,FES=classicDE_FES_new.de(bounds, mut3, crossp3,NPAR3, its,fobj,fit3,X3,FES) #de_bounds_matriz\n",
        "      if(FES > maxFES): \n",
        "        FESr = FES\n",
        "        fit3,X3,BEST3,FOBEST3,FES = np.copy(fback),np.copy(Xback),BESTback,FOBESTback,FESback'''\n",
        "\n",
        "\n",
        "      calc = (minNP-maxNP)/maxFES*FES+maxNP # Linear Population Size Reduction (LPSR)\n",
        "      calc = int(np.round(calc)) # Linear Population Size Reduction (LPSR) \n",
        "      gen = gen + 1\n",
        "      #fator = 1.0\n",
        "      NPAR = calc\n",
        "      NPAR1=int(fator*NPAR);\n",
        "      #NPAR2=int(fator*NPAR);\n",
        "      NPAR2=NPAR-NPAR1\n",
        "      #NPAR3=int((NPAR-NPAR1)/3);\n",
        "      #NPAR4=int((NPAR-NPAR1)/3);\n",
        "      #NPAR1 = NPAR-3*NPAR2\n",
        "\n",
        "      '''\n",
        "      if(NPAR2 > len(X2[:,0])):\n",
        "        NPAR2 = len(X2[:,0])\n",
        "      '''\n",
        "      if(NPAR1 > len(X1[:,0])):\n",
        "        NPAR1 = len(X1[:,0])\n",
        "      if(NPAR2 > len(X2[:,0])):\n",
        "        NPAR2 = len(X2[:,0])\n",
        "      '''      if(NPAR3 > len(X3[:,0])):\n",
        "        NPAR3 = len(X3[:,0])  '''  \n",
        "          \n",
        "      X1 = X1[:NPAR1,:];X2 = X2[:NPAR2,:];#X3 = X3[:NPAR3,:];\n",
        "      if(len(Xarq)>0) : Xarq = Xarq[:NPAR2]\n",
        "       #X4 = X4[:NPAR4,:];\n",
        "      fit1 = fit1[:NPAR1];fit2 = fit2[:NPAR2]; #fit3 = fit3[:NPAR3]; # fit4 = fit4[:NPAR4];\n",
        "      popsize = NPAR2\n",
        "      Narquive = popsize\n",
        "      NP = popsize\n",
        "\n",
        "      #MUDEI AQUI ENSEMBLE\n",
        "      X1[0,:] = BEST1;X1[NPAR1-1,:] = BEST2;#X1[2,:] = BEST3;# X1[2,:] = BEST4;\n",
        "      X2[0,:] = BEST2;X2[NPAR2-1,:] = BEST2;#X2[2,:] = BEST3;#X2[3,:] = BEST2;\n",
        "      #X3[0,:] = BEST1;X3[1,:] = BEST2;X3[2,:] = BEST3;#X3[3,:] = BEST3;\n",
        "      #X4[0,:] = BEST1;X4[1,:] = BEST2;X4[2,:] = BEST3;X4[3,:] = BEST4;\n",
        "      fit1[0] = FOBEST1; fit1[NPAR1-1] = FOBEST2;#fit1[2] = FOBEST3;\n",
        "      fit2[0] = FOBEST2; fit2[NPAR2-1] = FOBEST2;#fit2[2] = FOBEST3;\n",
        "      #fit3[0] = FOBEST1; fit3[1] = FOBEST2;fit3[2] = FOBEST3;\n",
        "      '''\n",
        "      X1[0,:] = BEST2;X1[1,:] = BEST3; X1[2,:] = BEST4;X1[3,:] = BEST1;\n",
        "      X2[0,:] = BEST1;X2[1,:] = BEST3;X2[2,:] = BEST4;X2[3,:] = BEST2;\n",
        "      X3[0,:] = BEST1;X3[1,:] = BEST2;X3[2,:] = BEST4;X3[3,:] = BEST3;\n",
        "      X4[0,:] = BEST1;X4[1,:] = BEST2;X4[2,:] = BEST3;X4[3,:] = BEST4;\n",
        "      fit1[0] = FOBEST1; fit2[1] = FOBEST2;fit3[0] = FOBEST3; fit4[1] = FOBEST4;\n",
        "      '''\n",
        "    '''\n",
        "    for i in range(FIX):\n",
        "      \n",
        "        Fitback,Xback,BESTback,FOBESTback,FESback= np.copy(fit2), np.copy(X2),BEST2,FOBEST2,FES\n",
        "        \n",
        "        if ( FESr == 0):\n",
        "          Fitback,Xback,BESTback,FOBESTback,FESback= np.copy(X2),BEST2,FOBEST2,FES\n",
        "          fit2,X2,BEST2,FOBEST2,XY2,BEST_XY2,FESr=classicDE_FES_new.de(bounds,mut_best, crossp_best,NPAR2, its,fobj,fit2,X2,FES) # de_bounds_matriz\n",
        "        if ( FESr > 0):\n",
        "          fit2, X2,BEST2,FOBEST2,FES = np.copy(Fitback),np.copy(Xback),BESTback,FOBESTback,FESback\n",
        "\n",
        "\n",
        "        if(FES > maxFES): \n",
        "          fit2, X2,BEST2,FOBEST2,FES = np.copy(Fitback),np.copy(Xback),BESTback,FOBESTback,FESback\n",
        "        \n",
        "        \n",
        "        fit2,X2,BEST2,FOBEST2,XY,BEST_XY, FES= stepsWALK_new.fixWALK(Fun,BEST2,FOBEST2,NPAR2,tunePAR,MAX,MIN,fit2,X2,FIX)\n",
        "        # print('FES',FES)\n",
        "\n",
        "      ############################################################################################\n",
        "      ############################################################################################\n",
        "    \n",
        "    if(FES > maxFES):\n",
        "      fit2,X2,BEST2,FOBEST2,FES = np.copy(Fitback),np.copy(Xback),BESTback,FOBESTback,FESback\n",
        "\n",
        "    FUNCTION.append(FOBEST2)\n",
        "    '''\n",
        "    #setTUNE= [SF,SCR,MF,MCR,p, terminal, Narquive]\n",
        "    setTUNE =[SF,SCR,MF,MCR,p, terminal, Narquive,H,kH]\n",
        "    print('run=',iii,'gen=',gen,'time=',(time.time()-start_time)/60, 'eval FES=', FES,'FO=',FOBEST1)  \n",
        "    BEST_AGENTS.append(BEST_XY)"
      ],
      "execution_count": 29,
      "outputs": [
        {
          "output_type": "stream",
          "name": "stdout",
          "text": [
            "run= 0 gen= 9670 time= 2.530324558417002 eval FES= 299997 FO= 5.449634795877383\n",
            "run= 1 gen= 9670 time= 5.043246976534525 eval FES= 299997 FO= 4.590662938700327\n",
            "run= 2 gen= 9670 time= 7.552773423989614 eval FES= 299997 FO= 7.741949746930346\n",
            "run= 3 gen= 9670 time= 10.077542062600454 eval FES= 299997 FO= 3.019134363501526\n",
            "run= 4 gen= 9670 time= 12.5927818775177 eval FES= 299997 FO= 9.852804450614927\n",
            "run= 5 gen= 9670 time= 15.109859136740367 eval FES= 299997 FO= 5.932039515343865\n",
            "run= 6 gen= 9670 time= 17.6202840924263 eval FES= 299997 FO= 5.633139476586913\n",
            "run= 7 gen= 9670 time= 20.13341647386551 eval FES= 299997 FO= 9.014460512934132\n",
            "run= 8 gen= 9670 time= 22.64706871112188 eval FES= 299997 FO= 4.760511742032537\n",
            "run= 9 gen= 9670 time= 25.16007218360901 eval FES= 299997 FO= 3.1398066133301468\n",
            "run= 10 gen= 9670 time= 27.674641370773315 eval FES= 299997 FO= 2.886246585946676\n",
            "run= 11 gen= 9670 time= 30.182851723829906 eval FES= 299997 FO= 5.235753800883897\n",
            "run= 12 gen= 9670 time= 32.70328716039658 eval FES= 299997 FO= 5.294429787075757\n",
            "run= 13 gen= 9670 time= 35.216181894143425 eval FES= 299997 FO= 5.692847684655952\n",
            "run= 14 gen= 9670 time= 37.73344142039617 eval FES= 299997 FO= 7.754564519155713\n",
            "run= 15 gen= 9670 time= 40.23553402423859 eval FES= 299997 FO= 8.927929682667218\n",
            "run= 16 gen= 9670 time= 42.73701477050781 eval FES= 299997 FO= 5.443744920262811\n",
            "run= 17 gen= 9670 time= 45.243558724721275 eval FES= 299997 FO= 5.806977948930932\n",
            "run= 18 gen= 9670 time= 47.75565716425578 eval FES= 299997 FO= 6.595423828228598\n",
            "run= 19 gen= 9670 time= 50.26314576069514 eval FES= 299997 FO= 5.9735631538096845\n",
            "run= 20 gen= 9670 time= 52.76314099232356 eval FES= 299997 FO= 5.930649037971746\n",
            "run= 21 gen= 9670 time= 55.280779767036435 eval FES= 299997 FO= 7.49418409291829\n",
            "run= 22 gen= 9670 time= 57.79043641090393 eval FES= 299997 FO= 5.165112478885941\n",
            "run= 23 gen= 9670 time= 60.313566048940025 eval FES= 299997 FO= 11.405681494988576\n",
            "run= 24 gen= 9670 time= 62.83822189172109 eval FES= 299997 FO= 4.656511761560588\n",
            "run= 25 gen= 9670 time= 65.34788403908412 eval FES= 299997 FO= 5.660929060835511\n",
            "run= 26 gen= 9670 time= 67.85265047152838 eval FES= 299997 FO= 4.712062608412766\n",
            "run= 27 gen= 9670 time= 70.35483614206314 eval FES= 299997 FO= 3.515138670663424\n",
            "run= 28 gen= 9670 time= 72.85357046524683 eval FES= 299997 FO= 8.205153768088357\n",
            "run= 29 gen= 9670 time= 75.34798379739125 eval FES= 299997 FO= 6.6745973610151195\n",
            "run= 30 gen= 9670 time= 77.85124242305756 eval FES= 299997 FO= 5.9822721023492225\n",
            "run= 31 gen= 9670 time= 80.34675558805466 eval FES= 299997 FO= 7.787725873738051\n",
            "run= 32 gen= 9670 time= 82.85119902292887 eval FES= 299997 FO= 4.66305885320144\n",
            "run= 33 gen= 9670 time= 85.35774206320444 eval FES= 299997 FO= 5.032097369969146\n",
            "run= 34 gen= 9670 time= 87.8591041525205 eval FES= 299997 FO= 6.099811228587745\n",
            "run= 35 gen= 9670 time= 90.35875986814499 eval FES= 299997 FO= 3.987202033697084\n",
            "run= 36 gen= 9670 time= 92.85271695454915 eval FES= 299997 FO= 7.182374019274706\n",
            "run= 37 gen= 9670 time= 95.3776462674141 eval FES= 299997 FO= 11.224029896813382\n",
            "run= 38 gen= 9670 time= 97.86386041243871 eval FES= 299997 FO= 7.513052163360771\n",
            "run= 39 gen= 9670 time= 100.33811794519424 eval FES= 299997 FO= 4.53389514851142\n",
            "run= 40 gen= 9670 time= 102.80952920913697 eval FES= 299997 FO= 7.852192015730597\n",
            "run= 41 gen= 9670 time= 105.2794047554334 eval FES= 299997 FO= 4.1300705934609185\n",
            "run= 42 gen= 9670 time= 107.74977414608001 eval FES= 299997 FO= 7.079466879604511\n",
            "run= 43 gen= 9670 time= 110.23047408262889 eval FES= 299997 FO= 6.476286808542185\n",
            "run= 44 gen= 9670 time= 112.69600571791331 eval FES= 299997 FO= 3.795251782615532\n",
            "run= 45 gen= 9670 time= 115.1633255402247 eval FES= 299997 FO= 5.40085600046428\n",
            "run= 46 gen= 9670 time= 117.63881254990896 eval FES= 299997 FO= 9.135909184625616\n",
            "run= 47 gen= 9670 time= 120.12332634131114 eval FES= 299997 FO= 6.4508278915925255\n",
            "run= 48 gen= 9670 time= 122.60476792653402 eval FES= 299997 FO= 6.046312878283979\n",
            "run= 49 gen= 9670 time= 125.08084051609039 eval FES= 299997 FO= 7.277557017067315\n"
          ]
        }
      ]
    },
    {
      "cell_type": "code",
      "source": [
        "BEST_AGENTS=np.array(BEST_AGENTS)"
      ],
      "metadata": {
        "id": "scZnrGN1uoW3"
      },
      "execution_count": null,
      "outputs": []
    },
    {
      "cell_type": "code",
      "metadata": {
        "id": "k3p9TGsx1OCu"
      },
      "source": [
        "NOMES=['DIVERSIDADE (DI)',  'DI RELATIVO','FRAC Its',\n",
        "           'VELOC FOBJ','VELOC X','NP','Fo','CRo','fmin','fmax',\n",
        "           'AD_fmin','AD_fmax','DELTA FOBJ','DELTA VX','r_fitness',\n",
        "           'F','CR']\n",
        "# BEST_INDEX= BEST_AGENTS[BEST_AGENTS[:,-1].argmin()]  \n",
        "BEST_INDEX = np.argmin(BEST_AGENTS[:,-1])\n",
        "#df=pd.DataFrame(MAT_stat[BEST_INDEX], columns=NOMES)\n",
        "\n"
      ],
      "execution_count": null,
      "outputs": []
    },
    {
      "cell_type": "code",
      "source": [
        "TIME = (time.time() - start_time)/RUNS\n",
        "BEST_AGENTS=np.array(BEST_AGENTS)\n",
        "BEST_AGENTS_ST= BEST_AGENTS[BEST_AGENTS[:,-1].argsort()]\n",
        "BEST=BEST_AGENTS_ST[0]\n",
        "WORSE=BEST_AGENTS_ST[-1]\n",
        "MEAN=np.mean(BEST_AGENTS,axis=0)\n",
        "MAXFO=BEST_AGENTS[:,-1].max()\n",
        "MINFO=BEST_AGENTS[:,-1].min()\n",
        "STD=BEST_AGENTS[:,-1].std()    "
      ],
      "metadata": {
        "id": "CqGHCBBnw7jn"
      },
      "execution_count": null,
      "outputs": []
    },
    {
      "cell_type": "code",
      "metadata": {
        "id": "lNSN5X-wskcx"
      },
      "source": [
        "nome='SUB'+'_Fo-'+str(Fi)+'_CRo-'+str(CRi)+'_D-'+str(dim)+'_Interv-'+str(ITE)\n",
        "print('MCS-FRANNK','Fator F/DE= %.2f' %(fator),'NPAR=',NPAR,'Iterações=',ITE*its,'Dim=', PAR,\"Min/Max=\",MIN[0],\"/\",MAX[0],'_',Fun.__name__)\n",
        "print(nome, '\\n')\n",
        "#print('BEST: ',BEST)\n",
        "#print('MÉDIA: ',MEAN)\n",
        "print('MÉDIA: ',MEAN[-1],'STD __:',STD)\n",
        "print('MIN __:',MINFO, 'MAX__: ',MAXFO)\n",
        "print(MEAN[-1])\n",
        "print(STD)\n",
        "print(MINFO)\n",
        "print(\"Tempo Médio= %.3f segundos ---\" % (TIME))\n",
        "print(RUNS,'Rodadas') \n",
        "print()\n",
        "print('BEST: ',BEST)\n",
        "# print('melhor=',BEST_AGENTS[BEST_INDEX])"
      ],
      "execution_count": null,
      "outputs": []
    },
    {
      "cell_type": "code",
      "source": [
        "MF,MCR,SF,SCR"
      ],
      "metadata": {
        "id": "3RQpDGEjsGVx"
      },
      "execution_count": null,
      "outputs": []
    },
    {
      "cell_type": "code",
      "source": [
        "FES,Xarq"
      ],
      "metadata": {
        "id": "uX1gnDDVPlWX"
      },
      "execution_count": null,
      "outputs": []
    }
  ]
}