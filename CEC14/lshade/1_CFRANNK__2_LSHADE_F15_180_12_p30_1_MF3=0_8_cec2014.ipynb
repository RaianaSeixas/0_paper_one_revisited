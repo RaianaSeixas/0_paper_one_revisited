{
  "nbformat": 4,
  "nbformat_minor": 0,
  "metadata": {
    "colab": {
      "name": " 1-CFRANNK__2-LSHADE_F15_180/12_p30.1_MF3=0.8_cec2014.ipynb",
      "provenance": [],
      "collapsed_sections": [],
      "include_colab_link": true
    },
    "kernelspec": {
      "name": "python3",
      "display_name": "Python 3"
    },
    "language_info": {
      "codemirror_mode": {
        "name": "ipython",
        "version": 3
      },
      "file_extension": ".py",
      "mimetype": "text/x-python",
      "name": "python",
      "nbconvert_exporter": "python",
      "pygments_lexer": "ipython3",
      "version": "3.7.3"
    }
  },
  "cells": [
    {
      "cell_type": "markdown",
      "metadata": {
        "id": "view-in-github",
        "colab_type": "text"
      },
      "source": [
        "<a href=\"https://colab.research.google.com/github/RaianaSeixas/0_paper_one_revisited/blob/main/CEC14/lshade/1_CFRANNK__2_LSHADE_F15_180_12_p30_1_MF3%3D0_8_cec2014.ipynb\" target=\"_parent\"><img src=\"https://colab.research.google.com/assets/colab-badge.svg\" alt=\"Open In Colab\"/></a>"
      ]
    },
    {
      "cell_type": "code",
      "source": [
        "############################### DADOS DE ENTRADA \n",
        "RUNS=50 #NÚMERO DE RODADAS\n",
        "Fc=0.1 # fator de correcao parametros da ANN\n",
        "its=1 #10 # quantas vezes vai usar o NPAR antes de alterar de novo\n",
        "ITE=1000 #10 # PONTOS quantas vezes vai alteral NPAR \n",
        "NPAR=100\n",
        "mut=0.5\n",
        "crossp=0.5\n",
        "Fi=mut;CRi=crossp;# para impressão\n",
        "fator = 1.0/3.0; \n",
        "#fator = 1.0 # just LSHADE...\n",
        "mut2=0.5;crossp2=0.5;mut3=0.5;crossp3=0.5;mut4=0.25;crossp4=0.25;\n",
        "mut_best  =0.5 ; crossp_best =0.5\n",
        "maxNP = 180\n",
        "minNP = 12\n",
        "maxFES =300000\n",
        "FIX = 100 # Number of adjusts random walk\n",
        "H = 6\n",
        "kH = 0 # kH is used to work with H  \n",
        "terminal = 0.1\n",
        "p=0.1\n",
        "SF=[];SCR=[];MF=[];MCR=[];Xarq=[]\n",
        "muARRAY = [0.5,0.75,0.25,0.25,0.75]\n",
        "crARRAY = [0.5,0.25,0.75,0.25,0.75]\n",
        "numARRAY = len(muARRAY)\n",
        "SF3=[];SCR3=[];MF3=[];MCR3=[];Xarq3=[]\n",
        "p3=0.1\n",
        "MFi=0.5\n",
        "MCRi=0.5\n",
        "MFi3=0.8\n",
        "MCRi3=0.8\n"
      ],
      "metadata": {
        "id": "SWHauA_QxHPz"
      },
      "execution_count": 1,
      "outputs": []
    },
    {
      "cell_type": "code",
      "metadata": {
        "colab": {
          "base_uri": "https://localhost:8080/"
        },
        "id": "c59cDVKoxDLX",
        "outputId": "02cfc140-97d3-433c-e948-3e3a64063fef"
      },
      "source": [
        "############################### Importar códigos\n",
        "!git clone https://github.com/ucfilho/optim_raianars_Insight/ #clonar do Github\n",
        "%cd optim_raianars_Insight\n",
        "import de_soma_Insight\n",
        "import de_bounds_matriz\n",
        "import Go2Ann\n",
        "import randomWALK\n",
        "import annDE_FES_new\n",
        "import classicDE_FES_new\n",
        "import stepsWALK_new\n",
        "import LShade_new\n",
        "from pandas import read_csv"
      ],
      "execution_count": 2,
      "outputs": [
        {
          "output_type": "stream",
          "name": "stdout",
          "text": [
            "Cloning into 'optim_raianars_Insight'...\n",
            "remote: Enumerating objects: 866, done.\u001b[K\n",
            "remote: Counting objects: 100% (225/225), done.\u001b[K\n",
            "remote: Compressing objects: 100% (143/143), done.\u001b[K\n",
            "remote: Total 866 (delta 148), reused 124 (delta 82), pack-reused 641\u001b[K\n",
            "Receiving objects: 100% (866/866), 445.54 KiB | 4.69 MiB/s, done.\n",
            "Resolving deltas: 100% (538/538), done.\n",
            "/content/optim_raianars_Insight\n"
          ]
        }
      ]
    },
    {
      "cell_type": "code",
      "metadata": {
        "id": "Va-6Xios8RjU",
        "colab": {
          "base_uri": "https://localhost:8080/"
        },
        "outputId": "39da0edb-a3f4-4567-b503-84d751215454"
      },
      "source": [
        "!git clone https://github.com/ucfilho/Raianars_paper_One #clonar do Github\n",
        "%cd Raianars_paper_One"
      ],
      "execution_count": 3,
      "outputs": [
        {
          "output_type": "stream",
          "name": "stdout",
          "text": [
            "Cloning into 'Raianars_paper_One'...\n",
            "remote: Enumerating objects: 277, done.\u001b[K\n",
            "remote: Counting objects:   0% (1/148)\u001b[K\rremote: Counting objects:   1% (2/148)\u001b[K\rremote: Counting objects:   2% (3/148)\u001b[K\rremote: Counting objects:   3% (5/148)\u001b[K\rremote: Counting objects:   4% (6/148)\u001b[K\rremote: Counting objects:   5% (8/148)\u001b[K\rremote: Counting objects:   6% (9/148)\u001b[K\rremote: Counting objects:   7% (11/148)\u001b[K\rremote: Counting objects:   8% (12/148)\u001b[K\rremote: Counting objects:   9% (14/148)\u001b[K\rremote: Counting objects:  10% (15/148)\u001b[K\rremote: Counting objects:  11% (17/148)\u001b[K\rremote: Counting objects:  12% (18/148)\u001b[K\rremote: Counting objects:  13% (20/148)\u001b[K\rremote: Counting objects:  14% (21/148)\u001b[K\rremote: Counting objects:  15% (23/148)\u001b[K\rremote: Counting objects:  16% (24/148)\u001b[K\rremote: Counting objects:  17% (26/148)\u001b[K\rremote: Counting objects:  18% (27/148)\u001b[K\rremote: Counting objects:  19% (29/148)\u001b[K\rremote: Counting objects:  20% (30/148)\u001b[K\rremote: Counting objects:  21% (32/148)\u001b[K\rremote: Counting objects:  22% (33/148)\u001b[K\rremote: Counting objects:  23% (35/148)\u001b[K\rremote: Counting objects:  24% (36/148)\u001b[K\rremote: Counting objects:  25% (37/148)\u001b[K\rremote: Counting objects:  26% (39/148)\u001b[K\rremote: Counting objects:  27% (40/148)\u001b[K\rremote: Counting objects:  28% (42/148)\u001b[K\rremote: Counting objects:  29% (43/148)\u001b[K\rremote: Counting objects:  30% (45/148)\u001b[K\rremote: Counting objects:  31% (46/148)\u001b[K\rremote: Counting objects:  32% (48/148)\u001b[K\rremote: Counting objects:  33% (49/148)\u001b[K\rremote: Counting objects:  34% (51/148)\u001b[K\rremote: Counting objects:  35% (52/148)\u001b[K\rremote: Counting objects:  36% (54/148)\u001b[K\rremote: Counting objects:  37% (55/148)\u001b[K\rremote: Counting objects:  38% (57/148)\u001b[K\rremote: Counting objects:  39% (58/148)\u001b[K\rremote: Counting objects:  40% (60/148)\u001b[K\rremote: Counting objects:  41% (61/148)\u001b[K\rremote: Counting objects:  42% (63/148)\u001b[K\rremote: Counting objects:  43% (64/148)\u001b[K\rremote: Counting objects:  44% (66/148)\u001b[K\rremote: Counting objects:  45% (67/148)\u001b[K\rremote: Counting objects:  46% (69/148)\u001b[K\rremote: Counting objects:  47% (70/148)\u001b[K\rremote: Counting objects:  48% (72/148)\u001b[K\rremote: Counting objects:  49% (73/148)\u001b[K\rremote: Counting objects:  50% (74/148)\u001b[K\rremote: Counting objects:  51% (76/148)\u001b[K\rremote: Counting objects:  52% (77/148)\u001b[K\rremote: Counting objects:  53% (79/148)\u001b[K\rremote: Counting objects:  54% (80/148)\u001b[K\rremote: Counting objects:  55% (82/148)\u001b[K\rremote: Counting objects:  56% (83/148)\u001b[K\rremote: Counting objects:  57% (85/148)\u001b[K\rremote: Counting objects:  58% (86/148)\u001b[K\rremote: Counting objects:  59% (88/148)\u001b[K\rremote: Counting objects:  60% (89/148)\u001b[K\rremote: Counting objects:  61% (91/148)\u001b[K\rremote: Counting objects:  62% (92/148)\u001b[K\rremote: Counting objects:  63% (94/148)\u001b[K\rremote: Counting objects:  64% (95/148)\u001b[K\rremote: Counting objects:  65% (97/148)\u001b[K\rremote: Counting objects:  66% (98/148)\u001b[K\rremote: Counting objects:  67% (100/148)\u001b[K\rremote: Counting objects:  68% (101/148)\u001b[K\rremote: Counting objects:  69% (103/148)\u001b[K\rremote: Counting objects:  70% (104/148)\u001b[K\rremote: Counting objects:  71% (106/148)\u001b[K\rremote: Counting objects:  72% (107/148)\u001b[K\rremote: Counting objects:  73% (109/148)\u001b[K\rremote: Counting objects:  74% (110/148)\u001b[K\rremote: Counting objects:  75% (111/148)\u001b[K\rremote: Counting objects:  76% (113/148)\u001b[K\rremote: Counting objects:  77% (114/148)\u001b[K\rremote: Counting objects:  78% (116/148)\u001b[K\rremote: Counting objects:  79% (117/148)\u001b[K\rremote: Counting objects:  80% (119/148)\u001b[K\rremote: Counting objects:  81% (120/148)\u001b[K\rremote: Counting objects:  82% (122/148)\u001b[K\rremote: Counting objects:  83% (123/148)\u001b[K\rremote: Counting objects:  84% (125/148)\u001b[K\rremote: Counting objects:  85% (126/148)\u001b[K\rremote: Counting objects:  86% (128/148)\u001b[K\rremote: Counting objects:  87% (129/148)\u001b[K\rremote: Counting objects:  88% (131/148)\u001b[K\rremote: Counting objects:  89% (132/148)\u001b[K\rremote: Counting objects:  90% (134/148)\u001b[K\rremote: Counting objects:  91% (135/148)\u001b[K\rremote: Counting objects:  92% (137/148)\u001b[K\rremote: Counting objects:  93% (138/148)\u001b[K\rremote: Counting objects:  94% (140/148)\u001b[K\rremote: Counting objects:  95% (141/148)\u001b[K\rremote: Counting objects:  96% (143/148)\u001b[K\rremote: Counting objects:  97% (144/148)\u001b[K\rremote: Counting objects:  98% (146/148)\u001b[K\rremote: Counting objects:  99% (147/148)\u001b[K\rremote: Counting objects: 100% (148/148)\u001b[K\rremote: Counting objects: 100% (148/148), done.\u001b[K\n",
            "remote: Compressing objects: 100% (65/65), done.\u001b[K\n",
            "remote: Total 277 (delta 83), reused 142 (delta 82), pack-reused 129\u001b[K\n",
            "Receiving objects: 100% (277/277), 667.30 KiB | 6.35 MiB/s, done.\n",
            "Resolving deltas: 100% (155/155), done.\n",
            "/content/optim_raianars_Insight/Raianars_paper_One\n"
          ]
        }
      ]
    },
    {
      "cell_type": "code",
      "metadata": {
        "id": "_E15mKFURR6O"
      },
      "source": [
        "#import Go2Ann\n",
        "#import de_soma_Insight\n",
        "#import de_bounds_matriz\n",
        "#import Function\n",
        "import Go2MinMax\n",
        "from AvaliaX import AvaliaX\n",
        "import numpy as np\n",
        "import scipy.stats\n",
        "import random\n",
        "from GeraIndices import GeraIndices\n",
        "import numpy as np\n",
        "import time\n",
        "import matplotlib.pyplot as plt\n",
        "from random import randint\n",
        "from scipy import optimize\n",
        "import pandas as pd\n",
        "from sklearn.metrics import confusion_matrix"
      ],
      "execution_count": 4,
      "outputs": []
    },
    {
      "cell_type": "code",
      "metadata": {
        "id": "ik3ZjkUKycUK",
        "colab": {
          "base_uri": "https://localhost:8080/"
        },
        "outputId": "5809deea-c88d-4a8f-e00f-07c2456d40e1"
      },
      "source": [
        "############################### Importar códigos\n",
        "!git clone https://github.com/ucfilho/optim_raianars_Insight/ #clonar do Github\n",
        "%cd optim_raianars_Insight\n",
        "import de_soma_Insight\n",
        "import de_bounds_matriz"
      ],
      "execution_count": 5,
      "outputs": [
        {
          "output_type": "stream",
          "name": "stdout",
          "text": [
            "Cloning into 'optim_raianars_Insight'...\n",
            "remote: Enumerating objects: 866, done.\u001b[K\n",
            "remote: Counting objects: 100% (225/225), done.\u001b[K\n",
            "remote: Compressing objects: 100% (143/143), done.\u001b[K\n",
            "remote: Total 866 (delta 148), reused 124 (delta 82), pack-reused 641\u001b[K\n",
            "Receiving objects: 100% (866/866), 445.54 KiB | 4.84 MiB/s, done.\n",
            "Resolving deltas: 100% (538/538), done.\n",
            "/content/optim_raianars_Insight/Raianars_paper_One/optim_raianars_Insight\n"
          ]
        }
      ]
    },
    {
      "cell_type": "code",
      "metadata": {
        "id": "lJogRB30yepw",
        "colab": {
          "base_uri": "https://localhost:8080/"
        },
        "outputId": "618f8157-c06a-43b3-dcdd-5d93f562f4ac"
      },
      "source": [
        "#!git clone https://github.com/ucfilho/Raianars_paper_One #clonar do Github\n",
        "#%cd Raianars_paper_One\n",
        "\n",
        "!git clone https://github.com/ucfilho/Raianars_Routines #clonar do Github\n",
        "%cd Raianars_Routines"
      ],
      "execution_count": 6,
      "outputs": [
        {
          "output_type": "stream",
          "name": "stdout",
          "text": [
            "Cloning into 'Raianars_Routines'...\n",
            "remote: Enumerating objects: 77, done.\u001b[K\n",
            "remote: Counting objects: 100% (77/77), done.\u001b[K\n",
            "remote: Compressing objects: 100% (73/73), done.\u001b[K\n",
            "remote: Total 77 (delta 23), reused 0 (delta 0), pack-reused 0\u001b[K\n",
            "Unpacking objects: 100% (77/77), done.\n",
            "/content/optim_raianars_Insight/Raianars_paper_One/optim_raianars_Insight/Raianars_Routines\n"
          ]
        }
      ]
    },
    {
      "cell_type": "code",
      "source": [
        "!git clone https://github.com/ucfilho/functions_cec2014_data\n",
        "%cd functions_cec2014_data\n",
        "import F1_to_F27_cec2014_zero_to_hero\n",
        "import cec2014_names\n",
        "import cec2014_shift_rotate"
      ],
      "metadata": {
        "id": "Z66tL-D0qM1H",
        "colab": {
          "base_uri": "https://localhost:8080/"
        },
        "outputId": "53582b38-d200-49d3-bd85-da55f7dfa9e5"
      },
      "execution_count": 7,
      "outputs": [
        {
          "output_type": "stream",
          "name": "stdout",
          "text": [
            "Cloning into 'functions_cec2014_data'...\n",
            "remote: Enumerating objects: 300, done.\u001b[K\n",
            "remote: Counting objects: 100% (297/297), done.\u001b[K\n",
            "remote: Compressing objects: 100% (117/117), done.\u001b[K\n",
            "remote: Total 300 (delta 182), reused 290 (delta 178), pack-reused 3\u001b[K\n",
            "Receiving objects: 100% (300/300), 466.45 KiB | 3.82 MiB/s, done.\n",
            "Resolving deltas: 100% (182/182), done.\n",
            "/content/optim_raianars_Insight/Raianars_paper_One/optim_raianars_Insight/Raianars_Routines/functions_cec2014_data\n"
          ]
        }
      ]
    },
    {
      "cell_type": "code",
      "source": [
        "function_select = 'F15'\n",
        "Function = F1_to_F27_cec2014_zero_to_hero.F15\n",
        "Shift_Rotate= cec2014_shift_rotate.F15\n",
        "problem_size = 30 # possibles 2, 10, 20, 30, 50, 100"
      ],
      "metadata": {
        "id": "hN3HYnHmqX3f"
      },
      "execution_count": 8,
      "outputs": []
    },
    {
      "cell_type": "code",
      "source": [
        "dim = problem_size "
      ],
      "metadata": {
        "id": "yCggKdhhtnp1"
      },
      "execution_count": 9,
      "outputs": []
    },
    {
      "cell_type": "code",
      "source": [
        "f_matrix = \"M_\"+function_select[1:]+\"_D\"+str(problem_size) + \".txt\"\n",
        "shift_data_file=\"shift_data_\"+function_select[1:]+\".txt\"\n",
        "F_bias = cec2014_names.BiasValue()[function_select]\n",
        "type_fun = cec2014_names.TypeFunctions()[function_select]\n",
        "Function_CEC2014 =function_select + \"_\" + cec2014_names.NamesFunctions()[function_select]+\"_D_\"+str(problem_size)"
      ],
      "metadata": {
        "id": "r5pD3VaXqYAj"
      },
      "execution_count": 10,
      "outputs": []
    },
    {
      "cell_type": "code",
      "source": [
        "!pip install --upgrade --no-cache-dir gdown"
      ],
      "metadata": {
        "id": "QFsJfpK3qfQy",
        "colab": {
          "base_uri": "https://localhost:8080/"
        },
        "outputId": "57c2abdc-85bc-465d-d84b-6d4d868875b7"
      },
      "execution_count": 11,
      "outputs": [
        {
          "output_type": "stream",
          "name": "stdout",
          "text": [
            "Looking in indexes: https://pypi.org/simple, https://us-python.pkg.dev/colab-wheels/public/simple/\n",
            "Requirement already satisfied: gdown in /usr/local/lib/python3.7/dist-packages (4.4.0)\n",
            "Requirement already satisfied: requests[socks] in /usr/local/lib/python3.7/dist-packages (from gdown) (2.23.0)\n",
            "Requirement already satisfied: beautifulsoup4 in /usr/local/lib/python3.7/dist-packages (from gdown) (4.6.3)\n",
            "Requirement already satisfied: tqdm in /usr/local/lib/python3.7/dist-packages (from gdown) (4.64.0)\n",
            "Requirement already satisfied: filelock in /usr/local/lib/python3.7/dist-packages (from gdown) (3.7.0)\n",
            "Requirement already satisfied: six in /usr/local/lib/python3.7/dist-packages (from gdown) (1.15.0)\n",
            "Requirement already satisfied: idna<3,>=2.5 in /usr/local/lib/python3.7/dist-packages (from requests[socks]->gdown) (2.10)\n",
            "Requirement already satisfied: chardet<4,>=3.0.2 in /usr/local/lib/python3.7/dist-packages (from requests[socks]->gdown) (3.0.4)\n",
            "Requirement already satisfied: certifi>=2017.4.17 in /usr/local/lib/python3.7/dist-packages (from requests[socks]->gdown) (2022.5.18.1)\n",
            "Requirement already satisfied: urllib3!=1.25.0,!=1.25.1,<1.26,>=1.21.1 in /usr/local/lib/python3.7/dist-packages (from requests[socks]->gdown) (1.24.3)\n",
            "Requirement already satisfied: PySocks!=1.5.7,>=1.5.6 in /usr/local/lib/python3.7/dist-packages (from requests[socks]->gdown) (1.7.1)\n"
          ]
        }
      ]
    },
    {
      "cell_type": "code",
      "source": [
        "# !gdown --id 1yM-cGzp7F35bXZ-f80uoJHzGqAb52CPz\n",
        "# https://drive.google.com/file/d/1yM-cGzp7F35bXZ-f80uoJHzGqAb52CPz/view?usp=sharing\n",
        "!gdown --id 1yM-cGzp7F35bXZ-f80uoJHzGqAb52CPz"
      ],
      "metadata": {
        "id": "bCv2CFD3qp0q",
        "colab": {
          "base_uri": "https://localhost:8080/"
        },
        "outputId": "4e530659-38b2-47b2-c451-788c866ef06d"
      },
      "execution_count": 12,
      "outputs": [
        {
          "output_type": "stream",
          "name": "stdout",
          "text": [
            "/usr/local/lib/python3.7/dist-packages/gdown/cli.py:131: FutureWarning: Option `--id` was deprecated in version 4.3.1 and will be removed in 5.0. You don't need to pass it anymore to use a file ID.\n",
            "  category=FutureWarning,\n",
            "Downloading...\n",
            "From: https://drive.google.com/uc?id=1yM-cGzp7F35bXZ-f80uoJHzGqAb52CPz\n",
            "To: /content/optim_raianars_Insight/Raianars_paper_One/optim_raianars_Insight/Raianars_Routines/functions_cec2014_data/cec2014.zip\n",
            "100% 36.1M/36.1M [00:00<00:00, 192MB/s] \n"
          ]
        }
      ]
    },
    {
      "cell_type": "code",
      "source": [
        "import zipfile\n",
        "file_name = zipfile.ZipFile('cec2014.zip', 'r')\n",
        "file_name.extractall()"
      ],
      "metadata": {
        "id": "-N1Hsa88W-Mr"
      },
      "execution_count": 13,
      "outputs": []
    },
    {
      "cell_type": "code",
      "source": [
        "def load_shift_data__(data_file=None):\n",
        "    data = read_csv(data_file, delimiter='\\s+', index_col=False, header=None)\n",
        "    return data.values.reshape((-1))\n",
        "\n",
        "def load_matrix_data__(data_file=None):\n",
        "    data = read_csv(data_file, delimiter='\\s+', index_col=False, header=None)\n",
        "    return data.values"
      ],
      "metadata": {
        "id": "_tEgxfW4qwlt"
      },
      "execution_count": 14,
      "outputs": []
    },
    {
      "cell_type": "code",
      "source": [
        "shift_data_a = load_shift_data__(shift_data_file)[:problem_size]\n",
        "matrix_a = load_matrix_data__(f_matrix)\n",
        "if (type_fun == 'hybrid'):\n",
        "  f_shuffle = \"shuffle_data_\"+function_select[1:]+\"_D\"+str(problem_size) + \".txt\"\n",
        "  shuffle = (load_shift_data__(f_shuffle)[:problem_size] - np.ones(problem_size)).astype(int)\n",
        "else:\n",
        "  shuffle = matrix_a"
      ],
      "metadata": {
        "id": "NJVx_raoq9GU"
      },
      "execution_count": 15,
      "outputs": []
    },
    {
      "cell_type": "code",
      "source": [
        "SUPPORT_DIMENSION = [2, 10, 20, 30, 50, 100]\n",
        "SUPPORT_DIMENSION_2 = [10, 20, 30, 50, 100]\n",
        "\n",
        "#def Fun(solution,shift_data=shift_data_a, matrix=matrix_a, shuffle):#, bias=F_bias):\n",
        "def CEC2014(solution, shift_data ,  matrix, shuffle):#, bias=F_bias):\n",
        "  if(type_fun == 'shift_rotate'):\n",
        "    z = Shift_Rotate(solution , shift_data , matrix,shuffle)\n",
        "    result = Function(z) + F_bias\n",
        "  elif(type_fun =='hybrid'): # F17 to F22\n",
        "    z = Shift_Rotate(solution , shift_data , matrix,shuffle)\n",
        "    result = z + F_bias\n",
        " \n",
        "  return result"
      ],
      "metadata": {
        "id": "AF2E2EIwrC8o"
      },
      "execution_count": 16,
      "outputs": []
    },
    {
      "cell_type": "code",
      "source": [
        " shift_data = shift_data_a\n",
        " matrix = matrix_a\n",
        " shuffle = shuffle\n",
        " def Hybrid(solution):\n",
        "   resp = CEC2014(solution, shift_data = shift_data_a, matrix = matrix_a, shuffle = shuffle)\n",
        "   return resp"
      ],
      "metadata": {
        "id": "jIcMJI-UrK8V"
      },
      "execution_count": 17,
      "outputs": []
    },
    {
      "cell_type": "code",
      "source": [
        "!git clone https://github.com/ucfilho/Raianars_paper_One #clonar do Github\n",
        "%cd Raianars_paper_One"
      ],
      "metadata": {
        "id": "9Vsz9VQRrLVf",
        "colab": {
          "base_uri": "https://localhost:8080/"
        },
        "outputId": "e7f373f5-d682-4ef4-9700-1b46de182e28"
      },
      "execution_count": 18,
      "outputs": [
        {
          "output_type": "stream",
          "name": "stdout",
          "text": [
            "Cloning into 'Raianars_paper_One'...\n",
            "remote: Enumerating objects: 277, done.\u001b[K\n",
            "remote: Counting objects:   0% (1/148)\u001b[K\rremote: Counting objects:   1% (2/148)\u001b[K\rremote: Counting objects:   2% (3/148)\u001b[K\rremote: Counting objects:   3% (5/148)\u001b[K\rremote: Counting objects:   4% (6/148)\u001b[K\rremote: Counting objects:   5% (8/148)\u001b[K\rremote: Counting objects:   6% (9/148)\u001b[K\rremote: Counting objects:   7% (11/148)\u001b[K\rremote: Counting objects:   8% (12/148)\u001b[K\rremote: Counting objects:   9% (14/148)\u001b[K\rremote: Counting objects:  10% (15/148)\u001b[K\rremote: Counting objects:  11% (17/148)\u001b[K\rremote: Counting objects:  12% (18/148)\u001b[K\rremote: Counting objects:  13% (20/148)\u001b[K\rremote: Counting objects:  14% (21/148)\u001b[K\rremote: Counting objects:  15% (23/148)\u001b[K\rremote: Counting objects:  16% (24/148)\u001b[K\rremote: Counting objects:  17% (26/148)\u001b[K\rremote: Counting objects:  18% (27/148)\u001b[K\rremote: Counting objects:  19% (29/148)\u001b[K\rremote: Counting objects:  20% (30/148)\u001b[K\rremote: Counting objects:  21% (32/148)\u001b[K\rremote: Counting objects:  22% (33/148)\u001b[K\rremote: Counting objects:  23% (35/148)\u001b[K\rremote: Counting objects:  24% (36/148)\u001b[K\rremote: Counting objects:  25% (37/148)\u001b[K\rremote: Counting objects:  26% (39/148)\u001b[K\rremote: Counting objects:  27% (40/148)\u001b[K\rremote: Counting objects:  28% (42/148)\u001b[K\rremote: Counting objects:  29% (43/148)\u001b[K\rremote: Counting objects:  30% (45/148)\u001b[K\rremote: Counting objects:  31% (46/148)\u001b[K\rremote: Counting objects:  32% (48/148)\u001b[K\rremote: Counting objects:  33% (49/148)\u001b[K\rremote: Counting objects:  34% (51/148)\u001b[K\rremote: Counting objects:  35% (52/148)\u001b[K\rremote: Counting objects:  36% (54/148)\u001b[K\rremote: Counting objects:  37% (55/148)\u001b[K\rremote: Counting objects:  38% (57/148)\u001b[K\rremote: Counting objects:  39% (58/148)\u001b[K\rremote: Counting objects:  40% (60/148)\u001b[K\rremote: Counting objects:  41% (61/148)\u001b[K\rremote: Counting objects:  42% (63/148)\u001b[K\rremote: Counting objects:  43% (64/148)\u001b[K\rremote: Counting objects:  44% (66/148)\u001b[K\rremote: Counting objects:  45% (67/148)\u001b[K\rremote: Counting objects:  46% (69/148)\u001b[K\rremote: Counting objects:  47% (70/148)\u001b[K\rremote: Counting objects:  48% (72/148)\u001b[K\rremote: Counting objects:  49% (73/148)\u001b[K\rremote: Counting objects:  50% (74/148)\u001b[K\rremote: Counting objects:  51% (76/148)\u001b[K\rremote: Counting objects:  52% (77/148)\u001b[K\rremote: Counting objects:  53% (79/148)\u001b[K\rremote: Counting objects:  54% (80/148)\u001b[K\rremote: Counting objects:  55% (82/148)\u001b[K\rremote: Counting objects:  56% (83/148)\u001b[K\rremote: Counting objects:  57% (85/148)\u001b[K\rremote: Counting objects:  58% (86/148)\u001b[K\rremote: Counting objects:  59% (88/148)\u001b[K\rremote: Counting objects:  60% (89/148)\u001b[K\rremote: Counting objects:  61% (91/148)\u001b[K\rremote: Counting objects:  62% (92/148)\u001b[K\rremote: Counting objects:  63% (94/148)\u001b[K\rremote: Counting objects:  64% (95/148)\u001b[K\rremote: Counting objects:  65% (97/148)\u001b[K\rremote: Counting objects:  66% (98/148)\u001b[K\rremote: Counting objects:  67% (100/148)\u001b[K\rremote: Counting objects:  68% (101/148)\u001b[K\rremote: Counting objects:  69% (103/148)\u001b[K\rremote: Counting objects:  70% (104/148)\u001b[K\rremote: Counting objects:  71% (106/148)\u001b[K\rremote: Counting objects:  72% (107/148)\u001b[K\rremote: Counting objects:  73% (109/148)\u001b[K\rremote: Counting objects:  74% (110/148)\u001b[K\rremote: Counting objects:  75% (111/148)\u001b[K\rremote: Counting objects:  76% (113/148)\u001b[K\rremote: Counting objects:  77% (114/148)\u001b[K\rremote: Counting objects:  78% (116/148)\u001b[K\rremote: Counting objects:  79% (117/148)\u001b[K\rremote: Counting objects:  80% (119/148)\u001b[K\rremote: Counting objects:  81% (120/148)\u001b[K\rremote: Counting objects:  82% (122/148)\u001b[K\rremote: Counting objects:  83% (123/148)\u001b[K\rremote: Counting objects:  84% (125/148)\u001b[K\rremote: Counting objects:  85% (126/148)\u001b[K\rremote: Counting objects:  86% (128/148)\u001b[K\rremote: Counting objects:  87% (129/148)\u001b[K\rremote: Counting objects:  88% (131/148)\u001b[K\rremote: Counting objects:  89% (132/148)\u001b[K\rremote: Counting objects:  90% (134/148)\u001b[K\rremote: Counting objects:  91% (135/148)\u001b[K\rremote: Counting objects:  92% (137/148)\u001b[K\rremote: Counting objects:  93% (138/148)\u001b[K\rremote: Counting objects:  94% (140/148)\u001b[K\rremote: Counting objects:  95% (141/148)\u001b[K\rremote: Counting objects:  96% (143/148)\u001b[K\rremote: Counting objects:  97% (144/148)\u001b[K\rremote: Counting objects:  98% (146/148)\u001b[K\rremote: Counting objects:  99% (147/148)\u001b[K\rremote: Counting objects: 100% (148/148)\u001b[K\rremote: Counting objects: 100% (148/148), done.\u001b[K\n",
            "remote: Compressing objects: 100% (65/65), done.\u001b[K\n",
            "remote: Total 277 (delta 83), reused 142 (delta 82), pack-reused 129\u001b[K\n",
            "Receiving objects: 100% (277/277), 667.30 KiB | 6.12 MiB/s, done.\n",
            "Resolving deltas: 100% (155/155), done.\n",
            "/content/optim_raianars_Insight/Raianars_paper_One/optim_raianars_Insight/Raianars_Routines/functions_cec2014_data/Raianars_paper_One\n"
          ]
        }
      ]
    },
    {
      "cell_type": "code",
      "source": [
        "MAX=np.repeat(100,dim)\n",
        "MIN=np.repeat(-100,dim)\n",
        "\n",
        "bounds=[]\n",
        "for k in range(len(MAX)):\n",
        "  bounds.append((MIN[k],MAX[k]))"
      ],
      "metadata": {
        "id": "ukk5Twiiq0MN"
      },
      "execution_count": 19,
      "outputs": []
    },
    {
      "cell_type": "code",
      "metadata": {
        "id": "qTINtQ1cosZK",
        "colab": {
          "base_uri": "https://localhost:8080/"
        },
        "outputId": "01a27484-2b03-48e6-c7e7-e17e446eef89"
      },
      "source": [
        "!git clone https://github.com/ucfilho/ANN_read_matrix #clonar do Github\n",
        "%cd ANN_read_matrix"
      ],
      "execution_count": 20,
      "outputs": [
        {
          "output_type": "stream",
          "name": "stdout",
          "text": [
            "Cloning into 'ANN_read_matrix'...\n",
            "remote: Enumerating objects: 20, done.\u001b[K\n",
            "remote: Total 20 (delta 0), reused 0 (delta 0), pack-reused 20\u001b[K\n",
            "Unpacking objects: 100% (20/20), done.\n",
            "/content/optim_raianars_Insight/Raianars_paper_One/optim_raianars_Insight/Raianars_Routines/functions_cec2014_data/Raianars_paper_One/ANN_read_matrix\n"
          ]
        }
      ]
    },
    {
      "cell_type": "code",
      "metadata": {
        "id": "QiQLYOoNoyCw"
      },
      "source": [
        "ANN_F=pd.read_csv('ANN_INSIGHT_Valor_F.csv')"
      ],
      "execution_count": 21,
      "outputs": []
    },
    {
      "cell_type": "code",
      "metadata": {
        "id": "uHtW2amaDzFv"
      },
      "source": [
        "ANN_CR=pd.read_csv('ANN_INSIGHT_CR.csv')"
      ],
      "execution_count": 22,
      "outputs": []
    },
    {
      "cell_type": "code",
      "metadata": {
        "id": "EH6h_vke2yu1"
      },
      "source": [
        "syn0_F,syn1_F,X_max_F,X_min_F=Go2Ann.GetMatriz(ANN_F)"
      ],
      "execution_count": 23,
      "outputs": []
    },
    {
      "cell_type": "code",
      "metadata": {
        "id": "WW_3ZWJXD60i"
      },
      "source": [
        "syn0_CR,syn1_CR,X_max_CR,X_min_CR=Go2Ann.GetMatriz(ANN_CR)"
      ],
      "execution_count": 24,
      "outputs": []
    },
    {
      "cell_type": "code",
      "metadata": {
        "id": "b4gwBvVTyaXh"
      },
      "source": [
        "ANN_CR=pd.read_csv('ANN_INSIGHT_CR.csv')"
      ],
      "execution_count": 25,
      "outputs": []
    },
    {
      "cell_type": "code",
      "metadata": {
        "id": "6jL8MxpHvk-Y"
      },
      "source": [
        "fields = ['DI RELATIVO','FRAC Its','Fo','CRo']"
      ],
      "execution_count": 26,
      "outputs": []
    },
    {
      "cell_type": "code",
      "metadata": {
        "id": "Mb3LmbSmj9v7",
        "colab": {
          "base_uri": "https://localhost:8080/",
          "height": 157
        },
        "outputId": "e13615dc-9001-44bd-e3af-7809906f7775"
      },
      "source": [
        "##################################### \n",
        "\n",
        "TOTAL=10*dim*its*ITE\n",
        "TOTAL=int(TOTAL/2)   # CONFERIR SE ESTE EH O MELHOR LUGAR\n",
        "\n",
        "#dimensions=len(MAX)\n",
        "dimensions=dim\n",
        "start_time = time.time() #INICIALIZA CONTAGEM DO TEMPO\n",
        "\n",
        "\n",
        "PAR=dim\n",
        "Fun = Function\n",
        "fobj=Fun\n",
        "\n",
        "MAX_P=np.zeros(ITE) # ATENCAO para variar F e Cr MAX_P passa a ser 3 vezes maior\n",
        "MIN_P=np.zeros(ITE) # ATENCAO para variar F e Cr MIN_P passa a ser 3 vezes maior\n",
        "\n",
        "for i in range(dim):\n",
        "  MAX_P[i]=MAX[i] \n",
        "  MIN_P[i]=MIN[i]\n",
        "NPAR=maxNP\n",
        "rodadas=1\n",
        "NPAR1=int(fator*NPAR);\n",
        "NPAR2=int(fator*NPAR)\n",
        "#NPAR2=int((NPAR-NPAR1)/3);\n",
        "#NPAR3=int((NPAR-NPAR1)/3);\n",
        "#NPAR4=int((NPAR-NPAR1)/3);\n",
        "NPAR3 = NPAR-NPAR1-NPAR1\n",
        "print('frac=',fator);\n",
        "print('Npar1=',NPAR1);\n",
        "print('Npar2=',NPAR2);\n",
        "print('Npar3=',NPAR3);\n",
        "#print('Npar4=',NPAR4);\n",
        "print('Npar=',NPAR)\n",
        "\n",
        "cols=dim\n",
        "\n",
        "X1=np.zeros((NPAR1,cols)) # X1 is Frannk population\n",
        "for i in range(NPAR1):\n",
        "  for j in range(cols):\n",
        "    r=np.random.random()\n",
        "    X1[i,j]=r*(MAX[j]-MIN[j])+MIN[j]\n",
        "    \n",
        "X2=np.zeros((NPAR2,cols)) # X2 is population DE (default DE)\n",
        "for i in range(NPAR2):\n",
        "  for j in range(cols):\n",
        "    r=np.random.random()\n",
        "    X2[i,j]=r*(MAX[j]-MIN[j])+MIN[j]\n",
        "\n",
        "X3=np.zeros((NPAR3,cols)) # X1 is Frannk population\n",
        "for i in range(NPAR3):\n",
        "  for j in range(cols):\n",
        "    r=np.random.random()\n",
        "    X3[i,j]=r*(MAX[j]-MIN[j])+MIN[j]\n",
        "'''    \n",
        "X4=np.zeros((NPAR4,cols)) # X2 is population DE (default DE)\n",
        "for i in range(NPAR4):\n",
        "  for j in range(cols):\n",
        "    r=np.random.random()\n",
        "    X4[i,j]=r*(MAX[j]-MIN[j])+MIN[j]\n",
        "    \n",
        " ############################################################\n",
        "  #bounds=[(5*dim, 15*dim)] * PONTOS # ITE\n",
        "  #bounds=[(3*dim, 12*dim)] * PONTOS # ITE\n",
        "  #bounds=[(4*dim, 16*dim)] * PONTOS\n",
        "  \n",
        "  # nao pode ser assim pq o bounds vale p o DE nao dos parametros\n",
        "  #p=int(TOTAL/its/ITE) \n",
        "  #bounds=[(p, p)] * PONTOS\n",
        "'''"
      ],
      "execution_count": 27,
      "outputs": [
        {
          "output_type": "stream",
          "name": "stdout",
          "text": [
            "frac= 0.3333333333333333\n",
            "Npar1= 60\n",
            "Npar2= 60\n",
            "Npar3= 60\n",
            "Npar= 180\n"
          ]
        },
        {
          "output_type": "execute_result",
          "data": {
            "text/plain": [
              "'    \\nX4=np.zeros((NPAR4,cols)) # X2 is population DE (default DE)\\nfor i in range(NPAR4):\\n  for j in range(cols):\\n    r=np.random.random()\\n    X4[i,j]=r*(MAX[j]-MIN[j])+MIN[j]\\n    \\n ############################################################\\n  #bounds=[(5*dim, 15*dim)] * PONTOS # ITE\\n  #bounds=[(3*dim, 12*dim)] * PONTOS # ITE\\n  #bounds=[(4*dim, 16*dim)] * PONTOS\\n  \\n  # nao pode ser assim pq o bounds vale p o DE nao dos parametros\\n  #p=int(TOTAL/its/ITE) \\n  #bounds=[(p, p)] * PONTOS\\n'"
            ],
            "application/vnd.google.colaboratory.intrinsic+json": {
              "type": "string"
            }
          },
          "metadata": {},
          "execution_count": 27
        }
      ]
    },
    {
      "cell_type": "code",
      "metadata": {
        "id": "rnX8ttNopd1G",
        "colab": {
          "base_uri": "https://localhost:8080/"
        },
        "outputId": "b2dfd2fb-227e-4739-d6f6-467ca3143e1d"
      },
      "source": [
        "start_time = time.time()\n",
        "BEST_AGENTS=[]\n",
        "MAT_stat=[]\n",
        "for iii in range(RUNS):\n",
        "    FES = 0 ; gen = 0 \n",
        "    MAT=[] \n",
        "    mut=Fi\n",
        "    crossp=CRi\n",
        "    SOMA=0\n",
        "    pop = np.random.rand(NPAR, dim)\n",
        "    diff=np.zeros(PAR)\n",
        "\n",
        "    NPAR = maxNP\n",
        "    # fator = 1.0\n",
        "    NPAR1=int(fator*NPAR);NPAR2=int(fator*NPAR);NPAR3 = NPAR-NPAR1-NPAR1\n",
        "    '''\n",
        "    NPAR2=int((NPAR-NPAR1)/3);\n",
        "    NPAR3=int((NPAR-NPAR1)/3);\n",
        "    NPAR4=int((NPAR-NPAR1)/3);\n",
        "    NPAR1 = NPAR-3*NPAR2\n",
        "    '''\n",
        "\n",
        "    X1=np.zeros((NPAR1,cols)) # X1 is Frannk population\n",
        "    for i in range(NPAR1):\n",
        "      for j in range(cols):\n",
        "        r=np.random.random()\n",
        "        X1[i,j]=r*(MAX[j]-MIN[j])+MIN[j]\n",
        "       \n",
        "    X2=np.zeros((NPAR2,cols)) # X2 is population DE (default DE)\n",
        "    for i in range(NPAR2):\n",
        "      for j in range(cols):\n",
        "        r=np.random.random()\n",
        "        X2[i,j]=r*(MAX[j]-MIN[j])+MIN[j]\n",
        "    \n",
        "    X3=np.zeros((NPAR3,cols)) # X2 is population DE (default DE)\n",
        "    for i in range(NPAR3):\n",
        "      for j in range(cols):\n",
        "        r=np.random.random()\n",
        "        X3[i,j]=r*(MAX[j]-MIN[j])+MIN[j]\n",
        "    ''' \n",
        "    X4=np.zeros((NPAR4,cols)) # X2 is population DE (default DE)\n",
        "    for i in range(NPAR4):\n",
        "      for j in range(cols):\n",
        "        r=np.random.random()\n",
        "        X4[i,j]=r*(MAX[j]-MIN[j])+MIN[j]\n",
        "    '''\n",
        "    fit1 = np.asarray([fobj(ind) for ind in X1])\n",
        "    best_idx = np.argmin(fit1)\n",
        "    best1 = X1[best_idx]\n",
        "    fbest1 = fit1[best_idx] \n",
        "\n",
        "    \n",
        "    fit2 = np.asarray([fobj(ind) for ind in X2])\n",
        "    best_idx = np.argmin(fit2)\n",
        "    best2 = X1[best_idx]\n",
        "    fbest2 = fit2[best_idx] \n",
        "\n",
        "    fit3 = np.asarray([fobj(ind) for ind in X3])\n",
        "    best_idx = np.argmin(fit3)\n",
        "    best3 = X3[best_idx]\n",
        "    fbest3 = fit3[best_idx] \n",
        "    '''\n",
        "    fit3 = np.asarray([fobj(ind) for ind in X3])\n",
        "    fit4 = np.asarray([fobj(ind) for ind in X4])\n",
        "    FES = FES + NPAR1 + NPAR2 + NPAR3+ NPAR4\n",
        "    '''\n",
        "    FES = FES + NPAR1 + NPAR2 + NPAR3\n",
        "    fit_best =[]\n",
        "    DIo=1e99\n",
        "  \n",
        "    CRo=crossp;Fo=mut;\n",
        "    #Fitness = np.asarray([Fun(ind, shift_data , matrix, shuffle) for ind in X1])\n",
        "    XY,BEST_XY,BESTo,FOBESTo=AvaliaX(X1,fit1 )\n",
        "    nrow,ncol=X1.shape\n",
        "    FES = FES + nrow\n",
        "\n",
        "    QUANT=17;MAT_INDo=np.zeros((1,QUANT)); # quantos indices esta fazendo\n",
        "    MAT_INDo[0,5]=nrow  # VALOR NP\n",
        "    MAT_INDo[0,6]=Fo    # VALOR Fo   \n",
        "    MAT_INDo[0,7]=CRo   # VALOR CRo\n",
        "\n",
        "    Fuma = Fun  # Fuma era Fun\n",
        "  \n",
        "    MAT_INDo=GeraIndices(X1,BESTo,FOBESTo,DIo,MAT_INDo,SOMA,TOTAL,syn0_F,\n",
        "                        syn1_F,X_max_F,X_min_F,syn0_CR,syn1_CR,X_max_CR,\n",
        "                        X_min_CR,Fc,fields,Fuma)\n",
        "  \n",
        "    DIo=np.copy(MAT_INDo[0,0])\n",
        "    MAT_INDo[0,15]=Fo    # VALOR Fo   \n",
        "    MAT_INDo[0,16]=CRo   # VALOR CRo\n",
        "\n",
        "    # Just to intialize variables:\n",
        "    FESr = 0\n",
        "    BEST_XY1 = 0;BEST_XY2 = 0;BEST_XY3 = 0\n",
        "    FOBEST1 = fbest1;FOBEST2 = fbest2;FOBEST3 = fbest3;FOBEST4 = 1E99\n",
        "    #BEST1,BEST2,BEST3,BEST4  =  np.copy(X1[0,:]),np.copy(X2[0,:]),np.copy(X3[0,:]), np.copy(X4[0,:]) \n",
        "    BEST1  =  best1\n",
        "    BEST2  =  best2\n",
        "    BEST3  =  best3\n",
        "    popsize = NPAR\n",
        "    FUNCTION = []\n",
        "\n",
        "    MF=[];MCR=[];\n",
        "    for i in range(H):\n",
        "      MCR.append(MCRi);MF.append(MFi) # line 3\n",
        "\n",
        "    MF3=[];MCR3=[];\n",
        "    for i in range(H):\n",
        "      MCR3.append(MCRi3);MF3.append(MFi3) # line 3\n",
        "\n",
        "\n",
        "    Narquive = popsize\n",
        "    setTUNE =[SF,SCR,MF,MCR,p, terminal, Narquive,H,kH]\n",
        "    setTUNE3 =[SF3,SCR3,MF3,MCR3,p3, terminal, Narquive,H,kH]\n",
        "    while(FESr == 0 ):\n",
        "\n",
        "      #print('FES',FES)\n",
        "\n",
        "      gen = gen +1\n",
        "      ##=cool=#####################################################################################\n",
        "      '''\n",
        "      fback,Xback,BESTback,FOBESTback,FESback= np.copy(fit2),np.copy(X2),BEST2,FOBEST2,FES\n",
        "      fit2,X2,BEST2,FOBEST2,XY2,BEST_XY2,FES=classicDE_FES_new.de(bounds, mut2, crossp2,NPAR2, its,fobj,fit2,X2,FES) # de_bounds_matriz\n",
        "      if(FES > maxFES):\n",
        "        FESr = FES \n",
        "        fit2,X2,BEST2,FOBEST2,FES = np.copy(fback),np.copy(Xback),BESTback,FOBESTback,FESback\n",
        "      \n",
        "      fback,Xback,BESTback,FOBESTback,FESback= np.copy(fit3),np.copy(X3),BEST3,FOBEST3,FES\n",
        "      fit3,X3,BEST3,FOBEST3,XY3,BEST_XY3,FES=classicDE_FES_new.de(bounds, mut3, crossp3,NPAR3, its,fobj,fit3,X3,FES) #de_bounds_matriz\n",
        "      if(FES > maxFES): \n",
        "        FESr = FES\n",
        "        fit3,X3,BEST3,FOBEST3,FES = np.copy(fback),np.copy(Xback),BESTback,FOBESTback,FESback\n",
        "\n",
        "      fback,Xback,BESTback,FOBESTback,FESback= np.copy(fit4),np.copy(X4),BEST4,FOBEST4,FES\n",
        "      fit4,X4,BEST4,FOBEST4,XY4,BEST_XY4,FES=classicDE_FES_new.de(bounds, mut4, crossp4,NPAR4, its,fobj,fit4,X4,FES) # de_bounds_matriz\n",
        "      if(FES > maxFES): \n",
        "        FESr = FES\n",
        "        fit4,X4,BEST4,FOBEST4,FES = np.copy(fback),np.copy(Xback),BESTback,FOBESTback,FESback\n",
        "      '''\n",
        "      \n",
        "      \n",
        "      #print('gen=',gen,'size 3=====',NPAR3,X3.shape[1],X3.shape[0],'=======')\n",
        "      \n",
        "\n",
        "      fback,Xback,BESTback,FOBESTback,FESback= np.copy(fit1),np.copy(X1),BEST1,FOBEST1,FES\n",
        "      BEST_XYback = BEST_XY1 \n",
        "      fit1,X1,BEST1,FOBEST1,XY,BEST_XY1,FES = annDE_FES_new.de(MAX,MIN, mut, crossp, NPAR1, its,fobj,fit1,X1,FES)\n",
        "      if(FES > maxFES):\n",
        "        FESr = FES \n",
        "        fit1,X1,BEST1,FOBEST1,FES = np.copy(fback),np.copy(Xback),BESTback,FOBESTback,FESback\n",
        "        BEST_XY1 = BEST_XYback\n",
        "      fback,Xback,BESTback,FOBESTback,FESback= np.copy(fit2),np.copy(X2),BEST2,FOBEST2,FES\n",
        "      Xarqback = Xarq\n",
        "      BEST_XYback = BEST_XY2\n",
        "      fit2,X2,BEST2,FOBEST2,XY,BEST_XY2,FES,Xarq,setTUNE= LShade_new.LShade(MAX,MIN, NPAR2,fobj,setTUNE,best2,fbest2,fit2,X2,Xarq,FES)\n",
        "      if(FES > maxFES):\n",
        "        FESr = FES \n",
        "        fit2,X2,BEST2,FOBEST2,FES = np.copy(fback),np.copy(Xback),BESTback,FOBESTback,FESback\n",
        "        Xarq = Xarqback\n",
        "        BEST_XY2 = BEST_XYback\n",
        "      ri = random.randint(0, numARRAY-1)\n",
        "\n",
        "      fback,Xback,BESTback,FOBESTback,FESback,BEST_XY3= np.copy(fit3),np.copy(X3),BEST3,FOBEST3,FES,BEST_XY3 \n",
        "      Xarqback = Xarq\n",
        "      \n",
        "      fit3,X3,BEST3,FOBEST3,XY,BEST_XY3,FES,Xarq3,setTUNE3= LShade_new.LShade(MAX,MIN, NPAR3,fobj,setTUNE3,best3,fbest3,fit3,X3,Xarq3,FES)\n",
        "      if(FES > maxFES):\n",
        "        FESr = FES \n",
        "        fit3,X3,BEST3,FOBEST3,FES = np.copy(fback),np.copy(Xback),BESTback,FOBESTback,FESback\n",
        "        Xarq3 = Xarqback\n",
        "        BEST_XY3 = BEST_XYback\n",
        "\n",
        "\n",
        "      N3 = NPAR3\n",
        "      calc = (minNP-maxNP)/maxFES*FES+maxNP\n",
        "      #print('calc=',calc)\n",
        "      # Linear Population Size Reduction (LPSR)\n",
        "      calc = int(np.round(calc)) # Linear Population Size Reduction (LPSR) \n",
        "      #fator = 1.0\n",
        "      NPAR = calc\n",
        "      NPAR1=int(fator*NPAR);\n",
        "      NPAR2=int(fator*NPAR);\n",
        "      NPAR3=NPAR-NPAR1-NPAR2\n",
        "      \n",
        "      #NPAR3=int((NPAR-NPAR1)/3);\n",
        "      #NPAR4=int((NPAR-NPAR1)/3);\n",
        "      #NPAR1 = NPAR-3*NPAR2\n",
        "\n",
        "      #print('gen=',gen,'calc ==',calc,'fes',FES,'===oooo====')      \n",
        "\n",
        "      '''\n",
        "      if(NPAR2 > len(X2[:,0])):\n",
        "        NPAR2 = len(X2[:,0])\n",
        "      '''\n",
        "      if(NPAR1 > len(X1[:,0])):\n",
        "        NPAR1 = len(X1[:,0])\n",
        "      if(NPAR2 > len(X2[:,0])):\n",
        "        NPAR2 = len(X2[:,0])\n",
        "      if(NPAR3 > len(X3[:,0])):\n",
        "        NPAR3 = len(X3[:,0])  \n",
        "      if(N3 >= NPAR3):\n",
        "        NPAR3 = N3            \n",
        "          \n",
        "      X1 = X1[:NPAR1,:];X2 = X2[:NPAR2,:];X3 = X3[:NPAR3,:];\n",
        "      if(len(Xarq)>0) : Xarq = Xarq[:NPAR2]\n",
        "      if(len(Xarq3)>0) : Xarq3 = Xarq3[:NPAR3]\n",
        "       #X4 = X4[:NPAR4,:];\n",
        "      fit1 = fit1[:NPAR1];fit2 = fit2[:NPAR2]; fit3 = fit3[:NPAR3]; # fit4 = fit4[:NPAR4];\n",
        "      popsize = NPAR1\n",
        "      Narquive = popsize\n",
        "      NP = popsize\n",
        "\n",
        "      X1[0,:] = BEST1;X1[1,:] = BEST2;X1[2,:] = BEST3;# X1[2,:] = BEST4;\n",
        "      X2[0,:] = BEST1;X2[1,:] = BEST2;X2[2,:] = BEST3;#X2[3,:] = BEST2;\n",
        "      X3[0,:] = BEST1;X3[1,:] = BEST2;X3[2,:] = BEST3;#X3[3,:] = BEST3;\n",
        "      #X4[0,:] = BEST1;X4[1,:] = BEST2;X4[2,:] = BEST3;X4[3,:] = BEST4;\n",
        "      fit1[0] = FOBEST1; fit1[1] = FOBEST2;fit1[2] = FOBEST3;\n",
        "      fit2[0] = FOBEST1; fit2[1] = FOBEST2;fit2[2] = FOBEST3;\n",
        "      fit3[0] = FOBEST1; fit3[1] = FOBEST2;fit3[2] = FOBEST3;\n",
        "      '''\n",
        "      X1[0,:] = BEST2;X1[1,:] = BEST3; X1[2,:] = BEST4;X1[3,:] = BEST1;\n",
        "      X2[0,:] = BEST1;X2[1,:] = BEST3;X2[2,:] = BEST4;X2[3,:] = BEST2;\n",
        "      X3[0,:] = BEST1;X3[1,:] = BEST2;X3[2,:] = BEST4;X3[3,:] = BEST3;\n",
        "      X4[0,:] = BEST1;X4[1,:] = BEST2;X4[2,:] = BEST3;X4[3,:] = BEST4;\n",
        "      fit1[0] = FOBEST1; fit2[1] = FOBEST2;fit3[0] = FOBEST3; fit4[1] = FOBEST4;\n",
        "      '''\n",
        "    '''\n",
        "    for i in range(FIX):\n",
        "      \n",
        "        Fitback,Xback,BESTback,FOBESTback,FESback= np.copy(fit2), np.copy(X2),BEST2,FOBEST2,FES\n",
        "        \n",
        "        if ( FESr == 0):\n",
        "          Fitback,Xback,BESTback,FOBESTback,FESback= np.copy(X2),BEST2,FOBEST2,FES\n",
        "          fit2,X2,BEST2,FOBEST2,XY2,BEST_XY2,FESr=classicDE_FES_new.de(bounds,mut_best, crossp_best,NPAR2, its,fobj,fit2,X2,FES) # de_bounds_matriz\n",
        "        if ( FESr > 0):\n",
        "          fit2, X2,BEST2,FOBEST2,FES = np.copy(Fitback),np.copy(Xback),BESTback,FOBESTback,FESback\n",
        "\n",
        "\n",
        "        if(FES > maxFES): \n",
        "          fit2, X2,BEST2,FOBEST2,FES = np.copy(Fitback),np.copy(Xback),BESTback,FOBESTback,FESback\n",
        "        \n",
        "        \n",
        "        fit2,X2,BEST2,FOBEST2,XY,BEST_XY, FES= stepsWALK_new.fixWALK(Fun,BEST2,FOBEST2,NPAR2,tunePAR,MAX,MIN,fit2,X2,FIX)\n",
        "        # print('FES',FES)\n",
        "\n",
        "      ############################################################################################\n",
        "      ############################################################################################\n",
        "    \n",
        "    if(FES > maxFES):\n",
        "      fit2,X2,BEST2,FOBEST2,FES = np.copy(Fitback),np.copy(Xback),BESTback,FOBESTback,FESback\n",
        "\n",
        "    FUNCTION.append(FOBEST2)\n",
        "    '''\n",
        "    #setTUNE= [SF,SCR,MF,MCR,p, terminal, Narquive]\n",
        "    setTUNE =[SF,SCR,MF,MCR,p, terminal, Narquive,H,kH]\n",
        "    setTUNE3 =[SF3,SCR3,MF3,MCR3,p3, terminal, Narquive,H,kH]\n",
        "    print('run=',iii,'gen=',gen,'time=',(time.time()-start_time)/60, 'eval FES=', FES,'FO=',FOBEST1)  \n",
        "    BEST_AGENTS.append(BEST_XY3)"
      ],
      "execution_count": 28,
      "outputs": [
        {
          "metadata": {
            "tags": null
          },
          "name": "stdout",
          "output_type": "stream",
          "text": [
            "run= 0 gen= 2623 time= 3.124580697218577 eval FES= 299998 FO= 1.4256421452219117\n"
          ]
        },
        {
          "metadata": {
            "tags": null
          },
          "name": "stderr",
          "output_type": "stream",
          "text": [
            "/content/optim_raianars_Insight/LShade_new.py:124: RuntimeWarning: invalid value encountered in double_scalars\n",
            "  MCR[kH] = np.dot(w,y**2)/np.dot(w,y)\n"
          ]
        },
        {
          "output_type": "stream",
          "name": "stdout",
          "text": [
            "run= 1 gen= 2623 time= 6.027178736527761 eval FES= 299998 FO= 2.044324776684008\n",
            "run= 2 gen= 2623 time= 8.914770738283794 eval FES= 299998 FO= 1.4497280523673604\n",
            "run= 3 gen= 2623 time= 11.804771927992503 eval FES= 299998 FO= 1.7095923965960271\n",
            "run= 4 gen= 2623 time= 14.692031673590343 eval FES= 299998 FO= 1.57400388515194\n",
            "run= 5 gen= 2623 time= 17.5751589735349 eval FES= 299998 FO= 1.494801874151693\n",
            "run= 6 gen= 2623 time= 20.451306513945262 eval FES= 299998 FO= 1.4706120365922912\n",
            "run= 7 gen= 2623 time= 23.317460799217223 eval FES= 299998 FO= 1.412036185087098\n",
            "run= 8 gen= 2623 time= 26.204987068970997 eval FES= 299998 FO= 1.2554655305484403\n",
            "run= 9 gen= 2623 time= 29.092362908522286 eval FES= 299998 FO= 1.7913177262402988\n",
            "run= 10 gen= 2623 time= 31.983393506209055 eval FES= 299998 FO= 1.3730538835443389\n",
            "run= 11 gen= 2623 time= 34.85874813397725 eval FES= 299998 FO= 1.7008869165866307\n",
            "run= 12 gen= 2623 time= 37.73529569307963 eval FES= 299998 FO= 1.415226934213507\n",
            "run= 13 gen= 2623 time= 40.620042045911156 eval FES= 299998 FO= 1.1321595454698945\n",
            "run= 14 gen= 2623 time= 43.4962473432223 eval FES= 299998 FO= 1.4311043198639295\n",
            "run= 15 gen= 2623 time= 46.36997051636378 eval FES= 299998 FO= 1.1263672247330063\n",
            "run= 16 gen= 2623 time= 49.25012415250142 eval FES= 299998 FO= 1.9460380596534388\n",
            "run= 17 gen= 2623 time= 52.13368412653605 eval FES= 299998 FO= 1.4963058817159811\n",
            "run= 18 gen= 2623 time= 55.00390569368998 eval FES= 299998 FO= 2.1359221998656994\n",
            "run= 19 gen= 2623 time= 57.88050273656845 eval FES= 299998 FO= 1.6409033845989316\n",
            "run= 20 gen= 2623 time= 60.753603907426196 eval FES= 299998 FO= 1.9310480300663584\n",
            "run= 21 gen= 2623 time= 63.64006991783778 eval FES= 299998 FO= 2.770174411263941\n",
            "run= 22 gen= 2623 time= 66.51235474745432 eval FES= 299998 FO= 2.2303906845086123\n",
            "run= 23 gen= 2623 time= 69.38324289719263 eval FES= 299998 FO= 1.3515052203391913\n",
            "run= 24 gen= 2623 time= 72.26116013129553 eval FES= 299998 FO= 1.5243083120562781\n",
            "run= 25 gen= 2623 time= 75.13249491850534 eval FES= 299998 FO= 2.110067019362836\n",
            "run= 26 gen= 2623 time= 77.99410217603048 eval FES= 299998 FO= 2.5345261773050867\n",
            "run= 27 gen= 2623 time= 80.86339021523794 eval FES= 299998 FO= 1.261748246483759\n",
            "run= 28 gen= 2623 time= 83.73021131356558 eval FES= 299998 FO= 2.693949166796217\n",
            "run= 29 gen= 2623 time= 86.60647341807683 eval FES= 299998 FO= 1.8220487748250556\n",
            "run= 30 gen= 2623 time= 89.4823301633199 eval FES= 299998 FO= 1.3951661637065802\n",
            "run= 31 gen= 2623 time= 92.36462420622507 eval FES= 299998 FO= 1.1102458341294583\n",
            "run= 32 gen= 2623 time= 95.2334239800771 eval FES= 299998 FO= 1.7757458325574822\n",
            "run= 33 gen= 2623 time= 98.11259241104126 eval FES= 299998 FO= 1.5982343452570125\n",
            "run= 34 gen= 2623 time= 100.99574642181396 eval FES= 299998 FO= 1.3798239751296213\n",
            "run= 35 gen= 2623 time= 103.87107601165772 eval FES= 299998 FO= 1.3839065778019366\n",
            "run= 36 gen= 2623 time= 106.74697090784709 eval FES= 299998 FO= 1.7156447954149903\n",
            "run= 37 gen= 2623 time= 109.62205169995626 eval FES= 299998 FO= 2.0562874832778366\n",
            "run= 38 gen= 2623 time= 112.49309340715408 eval FES= 299998 FO= 1.6244317561401882\n",
            "run= 39 gen= 2623 time= 115.39121700525284 eval FES= 299998 FO= 2.3599114607328557\n",
            "run= 40 gen= 2623 time= 118.26726352771124 eval FES= 299998 FO= 1.1769390471388745\n",
            "run= 41 gen= 2623 time= 121.15231367746989 eval FES= 299998 FO= 1.4946870849359088\n",
            "run= 42 gen= 2623 time= 124.0162766456604 eval FES= 299998 FO= 0.9594688173819877\n",
            "run= 43 gen= 2623 time= 126.90380344788234 eval FES= 299998 FO= 1.0992705725164922\n",
            "run= 44 gen= 2623 time= 129.78162893851598 eval FES= 299998 FO= 1.3746765104910366\n",
            "run= 45 gen= 2623 time= 132.62610547145206 eval FES= 299998 FO= 1.8763076559080298\n",
            "run= 46 gen= 2623 time= 135.4673989613851 eval FES= 299998 FO= 1.9041112406513208\n",
            "run= 47 gen= 2623 time= 138.30833448171614 eval FES= 299998 FO= 1.3606143970763735\n",
            "run= 48 gen= 2623 time= 141.1383717417717 eval FES= 299998 FO= 1.5655142975946843\n",
            "run= 49 gen= 2623 time= 143.97412678003312 eval FES= 299998 FO= 1.1891250223193772\n"
          ]
        }
      ]
    },
    {
      "cell_type": "code",
      "source": [
        "fit3.shape"
      ],
      "metadata": {
        "id": "TP_aOnia6JWH",
        "colab": {
          "base_uri": "https://localhost:8080/"
        },
        "outputId": "66c63dee-bded-4c14-b4ce-f1efd91bfb03"
      },
      "execution_count": 29,
      "outputs": [
        {
          "output_type": "execute_result",
          "data": {
            "text/plain": [
              "(60,)"
            ]
          },
          "metadata": {},
          "execution_count": 29
        }
      ]
    },
    {
      "cell_type": "code",
      "source": [
        "ri"
      ],
      "metadata": {
        "id": "_XwlI1vDfTuP",
        "colab": {
          "base_uri": "https://localhost:8080/"
        },
        "outputId": "ba6de82d-6f63-469d-f6ff-53b8ecca569c"
      },
      "execution_count": 30,
      "outputs": [
        {
          "output_type": "execute_result",
          "data": {
            "text/plain": [
              "4"
            ]
          },
          "metadata": {},
          "execution_count": 30
        }
      ]
    },
    {
      "cell_type": "code",
      "source": [
        "MCR"
      ],
      "metadata": {
        "id": "k0WrHkxaf7kg",
        "colab": {
          "base_uri": "https://localhost:8080/"
        },
        "outputId": "d0edf163-cdaa-4c31-bced-caefcdfc114d"
      },
      "execution_count": 31,
      "outputs": [
        {
          "output_type": "execute_result",
          "data": {
            "text/plain": [
              "[0.1, 0.1, 0.1, 0.1, 0.1, 0.1]"
            ]
          },
          "metadata": {},
          "execution_count": 31
        }
      ]
    },
    {
      "cell_type": "code",
      "source": [
        "MF"
      ],
      "metadata": {
        "id": "GmeY53AKfZle",
        "colab": {
          "base_uri": "https://localhost:8080/"
        },
        "outputId": "f4888744-c7b3-4607-8ec6-c503a1f64ad6"
      },
      "execution_count": 32,
      "outputs": [
        {
          "output_type": "execute_result",
          "data": {
            "text/plain": [
              "[1.0,\n",
              " 1.0,\n",
              " 0.7656455037320364,\n",
              " 0.955201295341144,\n",
              " 0.7776096883614786,\n",
              " 0.9241649219506274]"
            ]
          },
          "metadata": {},
          "execution_count": 32
        }
      ]
    },
    {
      "cell_type": "code",
      "source": [
        "NPAR1,NPAR2,NPAR3,X1.shape,X2.shape,X3.shape"
      ],
      "metadata": {
        "id": "HLMbmikcZEiq",
        "colab": {
          "base_uri": "https://localhost:8080/"
        },
        "outputId": "c843c388-4f3d-4297-bbc5-8ce64f05e46c"
      },
      "execution_count": 33,
      "outputs": [
        {
          "output_type": "execute_result",
          "data": {
            "text/plain": [
              "(4, 4, 60, (4, 30), (4, 30), (60, 30))"
            ]
          },
          "metadata": {},
          "execution_count": 33
        }
      ]
    },
    {
      "cell_type": "code",
      "metadata": {
        "id": "TLEE0UrZSvJF",
        "colab": {
          "base_uri": "https://localhost:8080/"
        },
        "outputId": "e64f589d-04ab-40fb-dd8d-3abbb2c25a51"
      },
      "source": [
        "#len(X2[1,:])\n",
        "print(cols)"
      ],
      "execution_count": 34,
      "outputs": [
        {
          "output_type": "stream",
          "name": "stdout",
          "text": [
            "30\n"
          ]
        }
      ]
    },
    {
      "cell_type": "code",
      "source": [
        "BEST_AGENTS=np.array(BEST_AGENTS)"
      ],
      "metadata": {
        "id": "scZnrGN1uoW3"
      },
      "execution_count": 35,
      "outputs": []
    },
    {
      "cell_type": "code",
      "metadata": {
        "id": "k3p9TGsx1OCu"
      },
      "source": [
        "NOMES=['DIVERSIDADE (DI)',  'DI RELATIVO','FRAC Its',\n",
        "           'VELOC FOBJ','VELOC X','NP','Fo','CRo','fmin','fmax',\n",
        "           'AD_fmin','AD_fmax','DELTA FOBJ','DELTA VX','r_fitness',\n",
        "           'F','CR']\n",
        "# BEST_INDEX= BEST_AGENTS[BEST_AGENTS[:,-1].argmin()]  \n",
        "BEST_INDEX = np.argmin(BEST_AGENTS[:,-1])\n",
        "#df=pd.DataFrame(MAT_stat[BEST_INDEX], columns=NOMES)\n",
        "\n"
      ],
      "execution_count": 36,
      "outputs": []
    },
    {
      "cell_type": "code",
      "source": [
        "TIME = (time.time() - start_time)/RUNS\n",
        "BEST_AGENTS=np.array(BEST_AGENTS)\n",
        "BEST_AGENTS_ST= BEST_AGENTS[BEST_AGENTS[:,-1].argsort()]\n",
        "BEST=BEST_AGENTS_ST[0]\n",
        "WORSE=BEST_AGENTS_ST[-1]\n",
        "MEAN=np.mean(BEST_AGENTS,axis=0)\n",
        "MAXFO=BEST_AGENTS[:,-1].max()\n",
        "MINFO=BEST_AGENTS[:,-1].min()\n",
        "STD=BEST_AGENTS[:,-1].std()    "
      ],
      "metadata": {
        "id": "CqGHCBBnw7jn"
      },
      "execution_count": 37,
      "outputs": []
    },
    {
      "cell_type": "code",
      "metadata": {
        "id": "lNSN5X-wskcx",
        "colab": {
          "base_uri": "https://localhost:8080/"
        },
        "outputId": "884d02a4-4709-4442-92b3-b159f9af7bdc"
      },
      "source": [
        "nome='SUB'+'_Fo-'+str(Fi)+'_CRo-'+str(CRi)+'_D-'+str(dim)+'_Interv-'+str(ITE)\n",
        "print('MCS-FRANNK','Fator F/DE= %.2f' %(fator),'NPAR=',NPAR,'Iterações=',ITE*its,'Dim=', PAR,\"Min/Max=\",MIN[0],\"/\",MAX[0],'_',Fun.__name__)\n",
        "print(nome, '\\n')\n",
        "#print('BEST: ',BEST)\n",
        "#print('MÉDIA: ',MEAN)\n",
        "print('MÉDIA: ',MEAN[-1],'STD __:',STD)\n",
        "print('MIN __:',MINFO, 'MAX__: ',MAXFO)\n",
        "print(MEAN[-1])\n",
        "print(STD)\n",
        "print(MINFO)\n",
        "print(\"Tempo Médio= %.3f segundos ---\" % (TIME))\n",
        "print(RUNS,'Rodadas') \n",
        "print()\n",
        "print('BEST: ',BEST)\n",
        "# print('melhor=',BEST_AGENTS[BEST_INDEX])"
      ],
      "execution_count": 38,
      "outputs": [
        {
          "output_type": "stream",
          "name": "stdout",
          "text": [
            "MCS-FRANNK Fator F/DE= 0.33 NPAR= 12 Iterações= 1000 Dim= 30 Min/Max= -100 / 100 _ F15\n",
            "SUB_Fo-0.5_CRo-0.5_D-30_Interv-1000 \n",
            "\n",
            "MÉDIA:  1.6332477502275904 STD __: 0.4087018612768851\n",
            "MIN __: 0.9596616553964075 MAX__:  2.770174411263941\n",
            "1.6332477502275904\n",
            "0.4087018612768851\n",
            "0.9596616553964075\n",
            "Tempo Médio= 172.772 segundos ---\n",
            "50 Rodadas\n",
            "\n",
            "BEST:  [ 0.6016279   0.71386614  0.26025302  0.30636125  0.33366849  0.6077382\n",
            "  0.72131686  0.49003369  0.67081055  0.40961638  0.41028342  0.4111934\n",
            "  0.51847321  0.61968579  0.73665852  0.79245491  0.65990007  0.78825612\n",
            "  0.62522891  0.74333885  0.80196332  0.65945331  0.68326257  0.21837926\n",
            "  0.28610762  0.08291919 -0.22598655  0.38317277  0.49536926  0.59575171\n",
            "  0.95966166]\n"
          ]
        }
      ]
    },
    {
      "cell_type": "code",
      "source": [
        "MF,MCR,SF,SCR"
      ],
      "metadata": {
        "id": "3RQpDGEjsGVx",
        "colab": {
          "base_uri": "https://localhost:8080/"
        },
        "outputId": "0fc8606a-fd2f-40ea-a036-5b559a1c6848"
      },
      "execution_count": 39,
      "outputs": [
        {
          "output_type": "execute_result",
          "data": {
            "text/plain": [
              "([1.0,\n",
              "  1.0,\n",
              "  0.7656455037320364,\n",
              "  0.955201295341144,\n",
              "  0.7776096883614786,\n",
              "  0.9241649219506274],\n",
              " [0.1, 0.1, 0.1, 0.1, 0.1, 0.1],\n",
              " [],\n",
              " [])"
            ]
          },
          "metadata": {},
          "execution_count": 39
        }
      ]
    },
    {
      "cell_type": "code",
      "source": [
        "FES,Xarq"
      ],
      "metadata": {
        "id": "uX1gnDDVPlWX",
        "colab": {
          "base_uri": "https://localhost:8080/"
        },
        "outputId": "c936b086-721b-4f35-a281-b2af0b36d278"
      },
      "execution_count": 40,
      "outputs": [
        {
          "output_type": "execute_result",
          "data": {
            "text/plain": [
              "(299998, [array([ -60.44688259,  -52.46980606,  -52.2568734 ,   37.50370839,\n",
              "         -100.        ,   22.59169259,   88.76600713,  -13.29482986,\n",
              "           61.46672395,   38.38623553,  -40.33683895,   36.13444109,\n",
              "         -100.        ,   56.86821255,   66.78501258,   49.36782482,\n",
              "           56.36478653,  -64.63947497,  -48.26615977,    6.3774648 ,\n",
              "           16.62835624,  -20.82420957,   58.55137862,  -81.3429638 ,\n",
              "          -76.45851687,    7.31441748,  -51.32147635,   29.60972259,\n",
              "          -68.30908977,  -73.88408473]),\n",
              "  array([  -4.92338816,   37.02913041,  -28.76254453,  -39.49695634,\n",
              "          -11.81542123,  -62.8218087 ,   26.00658102,   -3.84551033,\n",
              "          -90.61927755,   12.40552848,   48.42068775,   51.44620942,\n",
              "           -7.76379498,  -16.32220764, -100.        ,   92.00731015,\n",
              "            0.35173315,  -36.96689335,  -29.31468517,  -75.72624216,\n",
              "           59.53803406,   49.79391948,   75.7756145 ,   -7.83501786,\n",
              "            1.17543367,   62.78086972,  -11.95656744,   47.27547447,\n",
              "           32.84726497,  -42.41885441]),\n",
              "  array([ 82.78208905,  71.66285352, -41.36060388,  41.16532094,\n",
              "           2.07817798,  -3.49211837,  33.10513757,   3.22090306,\n",
              "         -38.70109369,  88.33487   , -53.40870636, -23.06058486,\n",
              "         -58.72604932,  82.06401645,  78.63081051,  87.92145242,\n",
              "         -11.28208489,  88.83800627,  53.43550254, -73.66987654,\n",
              "         -50.5236906 ,  -5.78144531, -13.34079635, -14.32547427,\n",
              "         -44.67333782,  -6.16450622, -90.9404835 , -79.18937921,\n",
              "         -63.54882614, -74.04097041]),\n",
              "  array([ -43.35666829,  -41.54954798,   -7.31169195,  -11.0830004 ,\n",
              "           30.50035355,  -39.41189701,  -65.47989846,   20.69694891,\n",
              "          -35.70694742,  -40.43207047,   11.31977651,  -41.33474146,\n",
              "           26.09930455, -100.        ,   84.78160678,    2.07062091,\n",
              "           65.77857546,   90.57625541,  100.        ,  -40.90899142,\n",
              "           49.23804316,   17.61036096,   11.33602498,   61.38474411,\n",
              "          -58.22654105,  -30.21927618,   -5.79630603,  -42.43153042,\n",
              "           76.17541528,   76.36222013])])"
            ]
          },
          "metadata": {},
          "execution_count": 40
        }
      ]
    }
  ]
}