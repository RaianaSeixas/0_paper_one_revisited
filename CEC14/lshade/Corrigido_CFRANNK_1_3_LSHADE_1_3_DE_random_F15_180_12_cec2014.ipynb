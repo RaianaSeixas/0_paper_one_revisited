{
  "cells": [
    {
      "cell_type": "markdown",
      "metadata": {
        "id": "view-in-github",
        "colab_type": "text"
      },
      "source": [
        "<a href=\"https://colab.research.google.com/github/RaianaSeixas/0_paper_one_revisited/blob/main/CEC14/lshade/Corrigido_CFRANNK_1_3_LSHADE_1_3_DE_random_F15_180_12_cec2014.ipynb\" target=\"_parent\"><img src=\"https://colab.research.google.com/assets/colab-badge.svg\" alt=\"Open In Colab\"/></a>"
      ]
    },
    {
      "cell_type": "code",
      "execution_count": null,
      "metadata": {
        "id": "SWHauA_QxHPz"
      },
      "outputs": [],
      "source": [
        "############################### DADOS DE ENTRADA \n",
        " \n",
        "# this code only run from F22 to F25 (you just need to change this line the pararameters and type =cool= \n",
        "#          to go to line to change IFrank, de best or your combination\n",
        "RUNS=50 #NÚMERO DE RODADAS\n",
        "Fc=0.1 # fator de correcao parametros da ANN\n",
        "its=1 #10 # quantas vezes vai usar o NPAR antes de alterar de novo\n",
        "ITE=1000 #10 # PONTOS quantas vezes vai alteral NPAR \n",
        "NPAR=100\n",
        "mut=0.5\n",
        "crossp=0.5\n",
        "Fi=mut;CRi=crossp;# para impressão\n",
        "fator = 1.0/3.0; \n",
        "#fator = 1.0 # just LSHADE...\n",
        "mut2=0.5;crossp2=0.5;mut3=0.5;crossp3=0.5;mut4=0.25;crossp4=0.25;\n",
        "mut_best  =0.5 ; crossp_best =0.5\n",
        "maxNP = 180\n",
        "minNP = 12\n",
        "maxFES =300000\n",
        "FIX = 100 # Number of adjusts random walk\n",
        "H = 6\n",
        "kH = 0 # kH is used to work with H  \n",
        "terminal = 0.1\n",
        "p=0.1\n",
        "SF=[];SCR=[];MF=[];MCR=[];Xarq=[]\n",
        "muARRAY = [0.5,0.75,0.25,0.25,0.75]\n",
        "crARRAY = [0.5,0.25,0.75,0.25,0.75]\n",
        "numARRAY = len(muARRAY)\n",
        "MFi=0.5\n",
        "MCRi=0.5\n"
      ]
    },
    {
      "cell_type": "code",
      "execution_count": null,
      "metadata": {
        "colab": {
          "base_uri": "https://localhost:8080/"
        },
        "id": "c59cDVKoxDLX",
        "outputId": "1be259a3-0d18-4795-9896-cd9e341904a8"
      },
      "outputs": [
        {
          "name": "stdout",
          "output_type": "stream",
          "text": [
            "Cloning into 'optim_raianars_Insight'...\n",
            "remote: Enumerating objects: 863, done.\u001b[K\n",
            "remote: Counting objects: 100% (222/222), done.\u001b[K\n",
            "remote: Compressing objects: 100% (140/140), done.\u001b[K\n",
            "remote: Total 863 (delta 146), reused 124 (delta 82), pack-reused 641\u001b[K\n",
            "Receiving objects: 100% (863/863), 444.75 KiB | 12.71 MiB/s, done.\n",
            "Resolving deltas: 100% (536/536), done.\n",
            "/content/optim_raianars_Insight/Raianars_paper_One/optim_raianars_Insight/Raianars_Routines/functions_cec2014_data/Raianars_paper_One/ANN_read_matrix/optim_raianars_Insight/Raianars_paper_One/optim_raianars_Insight/Raianars_Routines/functions_cec2014_data/Raianars_paper_One/ANN_read_matrix/optim_raianars_Insight\n"
          ]
        }
      ],
      "source": [
        "############################### Importar códigos\n",
        "!git clone https://github.com/ucfilho/optim_raianars_Insight/ #clonar do Github\n",
        "%cd optim_raianars_Insight\n",
        "import de_soma_Insight\n",
        "import de_bounds_matriz\n",
        "import Go2Ann\n",
        "import randomWALK\n",
        "import annDE_FES_new\n",
        "import classicDE_FES_new\n",
        "import stepsWALK_new\n",
        "import LShade_new\n",
        "from pandas import read_csv"
      ]
    },
    {
      "cell_type": "code",
      "execution_count": null,
      "metadata": {
        "colab": {
          "base_uri": "https://localhost:8080/"
        },
        "id": "Va-6Xios8RjU",
        "outputId": "64606ab2-0543-4ab9-9659-79a386f72819"
      },
      "outputs": [
        {
          "name": "stdout",
          "output_type": "stream",
          "text": [
            "Cloning into 'Raianars_paper_One'...\n",
            "remote: Enumerating objects: 277, done.\u001b[K\n",
            "remote: Counting objects: 100% (148/148), done.\u001b[K\n",
            "remote: Compressing objects: 100% (65/65), done.\u001b[K\n",
            "remote: Total 277 (delta 83), reused 142 (delta 82), pack-reused 129\u001b[K\n",
            "Receiving objects: 100% (277/277), 667.30 KiB | 20.22 MiB/s, done.\n",
            "Resolving deltas: 100% (155/155), done.\n",
            "/content/optim_raianars_Insight/Raianars_paper_One/optim_raianars_Insight/Raianars_Routines/functions_cec2014_data/Raianars_paper_One/ANN_read_matrix/optim_raianars_Insight/Raianars_paper_One/optim_raianars_Insight/Raianars_Routines/functions_cec2014_data/Raianars_paper_One/ANN_read_matrix/optim_raianars_Insight/Raianars_paper_One\n"
          ]
        }
      ],
      "source": [
        "!git clone https://github.com/ucfilho/Raianars_paper_One #clonar do Github\n",
        "%cd Raianars_paper_One"
      ]
    },
    {
      "cell_type": "code",
      "execution_count": null,
      "metadata": {
        "id": "_E15mKFURR6O"
      },
      "outputs": [],
      "source": [
        "#import Go2Ann\n",
        "#import de_soma_Insight\n",
        "#import de_bounds_matriz\n",
        "#import Function\n",
        "import Go2MinMax\n",
        "from AvaliaX import AvaliaX\n",
        "import numpy as np\n",
        "import scipy.stats\n",
        "import random\n",
        "from GeraIndices import GeraIndices\n",
        "import numpy as np\n",
        "import time\n",
        "import matplotlib.pyplot as plt\n",
        "from random import randint\n",
        "from scipy import optimize\n",
        "import pandas as pd\n",
        "from sklearn.metrics import confusion_matrix"
      ]
    },
    {
      "cell_type": "code",
      "execution_count": null,
      "metadata": {
        "colab": {
          "base_uri": "https://localhost:8080/"
        },
        "id": "ik3ZjkUKycUK",
        "outputId": "857a1be0-b954-4f5e-b09d-7b3c6d9022a9"
      },
      "outputs": [
        {
          "name": "stdout",
          "output_type": "stream",
          "text": [
            "Cloning into 'optim_raianars_Insight'...\n",
            "remote: Enumerating objects: 863, done.\u001b[K\n",
            "remote: Counting objects: 100% (222/222), done.\u001b[K\n",
            "remote: Compressing objects: 100% (140/140), done.\u001b[K\n",
            "remote: Total 863 (delta 146), reused 124 (delta 82), pack-reused 641\u001b[K\n",
            "Receiving objects: 100% (863/863), 444.75 KiB | 15.88 MiB/s, done.\n",
            "Resolving deltas: 100% (536/536), done.\n",
            "/content/optim_raianars_Insight/Raianars_paper_One/optim_raianars_Insight/Raianars_Routines/functions_cec2014_data/Raianars_paper_One/ANN_read_matrix/optim_raianars_Insight/Raianars_paper_One/optim_raianars_Insight/Raianars_Routines/functions_cec2014_data/Raianars_paper_One/ANN_read_matrix/optim_raianars_Insight/Raianars_paper_One/optim_raianars_Insight\n"
          ]
        }
      ],
      "source": [
        "############################### Importar códigos\n",
        "!git clone https://github.com/ucfilho/optim_raianars_Insight/ #clonar do Github\n",
        "%cd optim_raianars_Insight\n",
        "import de_soma_Insight\n",
        "import de_bounds_matriz"
      ]
    },
    {
      "cell_type": "code",
      "execution_count": null,
      "metadata": {
        "colab": {
          "base_uri": "https://localhost:8080/"
        },
        "id": "lJogRB30yepw",
        "outputId": "cf5bf951-ee81-4d16-b275-5154f48030dd"
      },
      "outputs": [
        {
          "name": "stdout",
          "output_type": "stream",
          "text": [
            "Cloning into 'Raianars_Routines'...\n",
            "remote: Enumerating objects: 77, done.\u001b[K\n",
            "remote: Counting objects: 100% (77/77), done.\u001b[K\n",
            "remote: Compressing objects: 100% (73/73), done.\u001b[K\n",
            "remote: Total 77 (delta 23), reused 0 (delta 0), pack-reused 0\u001b[K\n",
            "Unpacking objects: 100% (77/77), done.\n",
            "/content/optim_raianars_Insight/Raianars_paper_One/optim_raianars_Insight/Raianars_Routines/functions_cec2014_data/Raianars_paper_One/ANN_read_matrix/optim_raianars_Insight/Raianars_paper_One/optim_raianars_Insight/Raianars_Routines/functions_cec2014_data/Raianars_paper_One/ANN_read_matrix/optim_raianars_Insight/Raianars_paper_One/optim_raianars_Insight/Raianars_Routines\n"
          ]
        }
      ],
      "source": [
        "#!git clone https://github.com/ucfilho/Raianars_paper_One #clonar do Github\n",
        "#%cd Raianars_paper_One\n",
        "\n",
        "!git clone https://github.com/ucfilho/Raianars_Routines #clonar do Github\n",
        "%cd Raianars_Routines"
      ]
    },
    {
      "cell_type": "code",
      "execution_count": null,
      "metadata": {
        "colab": {
          "base_uri": "https://localhost:8080/"
        },
        "id": "Z66tL-D0qM1H",
        "outputId": "fefb6cdc-d4d5-4831-e926-6cc9a39ed204"
      },
      "outputs": [
        {
          "name": "stdout",
          "output_type": "stream",
          "text": [
            "Cloning into 'functions_cec2014_data'...\n",
            "remote: Enumerating objects: 300, done.\u001b[K\n",
            "remote: Counting objects: 100% (297/297), done.\u001b[K\n",
            "remote: Compressing objects: 100% (117/117), done.\u001b[K\n",
            "remote: Total 300 (delta 182), reused 290 (delta 178), pack-reused 3\u001b[K\n",
            "Receiving objects: 100% (300/300), 466.45 KiB | 8.64 MiB/s, done.\n",
            "Resolving deltas: 100% (182/182), done.\n",
            "/content/optim_raianars_Insight/Raianars_paper_One/optim_raianars_Insight/Raianars_Routines/functions_cec2014_data/Raianars_paper_One/ANN_read_matrix/optim_raianars_Insight/Raianars_paper_One/optim_raianars_Insight/Raianars_Routines/functions_cec2014_data/Raianars_paper_One/ANN_read_matrix/optim_raianars_Insight/Raianars_paper_One/optim_raianars_Insight/Raianars_Routines/functions_cec2014_data\n"
          ]
        }
      ],
      "source": [
        "!git clone https://github.com/ucfilho/functions_cec2014_data\n",
        "%cd functions_cec2014_data\n",
        "import F1_to_F27_cec2014_zero_to_hero\n",
        "import cec2014_names\n",
        "import cec2014_shift_rotate"
      ]
    },
    {
      "cell_type": "code",
      "execution_count": null,
      "metadata": {
        "id": "hN3HYnHmqX3f"
      },
      "outputs": [],
      "source": [
        "function_select = 'F15'\n",
        "Function = F1_to_F27_cec2014_zero_to_hero.F15\n",
        "Shift_Rotate= cec2014_shift_rotate.F15\n",
        "problem_size = 30 # possibles 2, 10, 20, 30, 50, 100"
      ]
    },
    {
      "cell_type": "code",
      "execution_count": null,
      "metadata": {
        "id": "yCggKdhhtnp1"
      },
      "outputs": [],
      "source": [
        "dim = problem_size "
      ]
    },
    {
      "cell_type": "code",
      "execution_count": null,
      "metadata": {
        "id": "r5pD3VaXqYAj"
      },
      "outputs": [],
      "source": [
        "f_matrix = \"M_\"+function_select[1:]+\"_D\"+str(problem_size) + \".txt\"\n",
        "shift_data_file=\"shift_data_\"+function_select[1:]+\".txt\"\n",
        "F_bias = cec2014_names.BiasValue()[function_select]\n",
        "type_fun = cec2014_names.TypeFunctions()[function_select]\n",
        "Function_CEC2014 =function_select + \"_\" + cec2014_names.NamesFunctions()[function_select]+\"_D_\"+str(problem_size)"
      ]
    },
    {
      "cell_type": "code",
      "execution_count": null,
      "metadata": {
        "colab": {
          "base_uri": "https://localhost:8080/"
        },
        "id": "QFsJfpK3qfQy",
        "outputId": "835e8c43-ea7a-4281-85f4-3d65aa73ce52"
      },
      "outputs": [
        {
          "name": "stdout",
          "output_type": "stream",
          "text": [
            "Looking in indexes: https://pypi.org/simple, https://us-python.pkg.dev/colab-wheels/public/simple/\n",
            "Requirement already satisfied: gdown in /usr/local/lib/python3.7/dist-packages (4.4.0)\n",
            "Requirement already satisfied: tqdm in /usr/local/lib/python3.7/dist-packages (from gdown) (4.64.0)\n",
            "Requirement already satisfied: six in /usr/local/lib/python3.7/dist-packages (from gdown) (1.15.0)\n",
            "Requirement already satisfied: filelock in /usr/local/lib/python3.7/dist-packages (from gdown) (3.7.0)\n",
            "Requirement already satisfied: requests[socks] in /usr/local/lib/python3.7/dist-packages (from gdown) (2.23.0)\n",
            "Requirement already satisfied: beautifulsoup4 in /usr/local/lib/python3.7/dist-packages (from gdown) (4.6.3)\n",
            "Requirement already satisfied: urllib3!=1.25.0,!=1.25.1,<1.26,>=1.21.1 in /usr/local/lib/python3.7/dist-packages (from requests[socks]->gdown) (1.24.3)\n",
            "Requirement already satisfied: certifi>=2017.4.17 in /usr/local/lib/python3.7/dist-packages (from requests[socks]->gdown) (2022.5.18.1)\n",
            "Requirement already satisfied: idna<3,>=2.5 in /usr/local/lib/python3.7/dist-packages (from requests[socks]->gdown) (2.10)\n",
            "Requirement already satisfied: chardet<4,>=3.0.2 in /usr/local/lib/python3.7/dist-packages (from requests[socks]->gdown) (3.0.4)\n",
            "Requirement already satisfied: PySocks!=1.5.7,>=1.5.6 in /usr/local/lib/python3.7/dist-packages (from requests[socks]->gdown) (1.7.1)\n"
          ]
        }
      ],
      "source": [
        "!pip install --upgrade --no-cache-dir gdown"
      ]
    },
    {
      "cell_type": "code",
      "execution_count": null,
      "metadata": {
        "colab": {
          "base_uri": "https://localhost:8080/"
        },
        "id": "bCv2CFD3qp0q",
        "outputId": "57c4a58e-e85c-4e3e-b186-a8fafb3da610"
      },
      "outputs": [
        {
          "name": "stdout",
          "output_type": "stream",
          "text": [
            "/usr/local/lib/python3.7/dist-packages/gdown/cli.py:131: FutureWarning: Option `--id` was deprecated in version 4.3.1 and will be removed in 5.0. You don't need to pass it anymore to use a file ID.\n",
            "  category=FutureWarning,\n",
            "Downloading...\n",
            "From: https://drive.google.com/uc?id=1yM-cGzp7F35bXZ-f80uoJHzGqAb52CPz\n",
            "To: /content/optim_raianars_Insight/Raianars_paper_One/optim_raianars_Insight/Raianars_Routines/functions_cec2014_data/Raianars_paper_One/ANN_read_matrix/optim_raianars_Insight/Raianars_paper_One/optim_raianars_Insight/Raianars_Routines/functions_cec2014_data/Raianars_paper_One/ANN_read_matrix/optim_raianars_Insight/Raianars_paper_One/optim_raianars_Insight/Raianars_Routines/functions_cec2014_data/cec2014.zip\n",
            "100% 36.1M/36.1M [00:00<00:00, 317MB/s]\n"
          ]
        }
      ],
      "source": [
        "# !gdown --id 1yM-cGzp7F35bXZ-f80uoJHzGqAb52CPz\n",
        "# https://drive.google.com/file/d/1yM-cGzp7F35bXZ-f80uoJHzGqAb52CPz/view?usp=sharing\n",
        "!gdown --id 1yM-cGzp7F35bXZ-f80uoJHzGqAb52CPz"
      ]
    },
    {
      "cell_type": "code",
      "execution_count": null,
      "metadata": {
        "id": "-N1Hsa88W-Mr"
      },
      "outputs": [],
      "source": [
        "import zipfile\n",
        "file_name = zipfile.ZipFile('cec2014.zip', 'r')\n",
        "file_name.extractall()"
      ]
    },
    {
      "cell_type": "code",
      "execution_count": null,
      "metadata": {
        "id": "_tEgxfW4qwlt"
      },
      "outputs": [],
      "source": [
        "def load_shift_data__(data_file=None):\n",
        "    data = read_csv(data_file, delimiter='\\s+', index_col=False, header=None)\n",
        "    return data.values.reshape((-1))\n",
        "\n",
        "def load_matrix_data__(data_file=None):\n",
        "    data = read_csv(data_file, delimiter='\\s+', index_col=False, header=None)\n",
        "    return data.values"
      ]
    },
    {
      "cell_type": "code",
      "execution_count": null,
      "metadata": {
        "id": "NJVx_raoq9GU"
      },
      "outputs": [],
      "source": [
        "shift_data_a = load_shift_data__(shift_data_file)[:problem_size]\n",
        "matrix_a = load_matrix_data__(f_matrix)\n",
        "if (type_fun == 'hybrid'):\n",
        "  f_shuffle = \"shuffle_data_\"+function_select[1:]+\"_D\"+str(problem_size) + \".txt\"\n",
        "  shuffle = (load_shift_data__(f_shuffle)[:problem_size] - np.ones(problem_size)).astype(int)\n",
        "else:\n",
        "  shuffle = matrix_a"
      ]
    },
    {
      "cell_type": "code",
      "execution_count": null,
      "metadata": {
        "id": "AF2E2EIwrC8o"
      },
      "outputs": [],
      "source": [
        "SUPPORT_DIMENSION = [2, 10, 20, 30, 50, 100]\n",
        "SUPPORT_DIMENSION_2 = [10, 20, 30, 50, 100]\n",
        "\n",
        "#def Fun(solution,shift_data=shift_data_a, matrix=matrix_a, shuffle):#, bias=F_bias):\n",
        "def CEC2014(solution, shift_data ,  matrix, shuffle):#, bias=F_bias):\n",
        "  if(type_fun == 'shift_rotate'):\n",
        "    z = Shift_Rotate(solution , shift_data , matrix,shuffle)\n",
        "    result = Function(z) + F_bias\n",
        "  elif(type_fun =='hybrid'): # F17 to F22\n",
        "    z = Shift_Rotate(solution , shift_data , matrix,shuffle)\n",
        "    result = z + F_bias\n",
        " \n",
        "  return result"
      ]
    },
    {
      "cell_type": "code",
      "execution_count": null,
      "metadata": {
        "id": "jIcMJI-UrK8V"
      },
      "outputs": [],
      "source": [
        " shift_data = shift_data_a\n",
        " matrix = matrix_a\n",
        " shuffle = shuffle\n",
        " def Hybrid(solution):\n",
        "   resp = CEC2014(solution, shift_data = shift_data_a, matrix = matrix_a, shuffle = shuffle)\n",
        "   return resp"
      ]
    },
    {
      "cell_type": "code",
      "execution_count": null,
      "metadata": {
        "colab": {
          "base_uri": "https://localhost:8080/"
        },
        "id": "9Vsz9VQRrLVf",
        "outputId": "ab0c4813-9af4-4fa9-deab-7d61155231b5"
      },
      "outputs": [
        {
          "name": "stdout",
          "output_type": "stream",
          "text": [
            "Cloning into 'Raianars_paper_One'...\n",
            "remote: Enumerating objects: 277, done.\u001b[K\n",
            "remote: Counting objects: 100% (148/148), done.\u001b[K\n",
            "remote: Compressing objects: 100% (65/65), done.\u001b[K\n",
            "remote: Total 277 (delta 83), reused 142 (delta 82), pack-reused 129\u001b[K\n",
            "Receiving objects: 100% (277/277), 667.30 KiB | 19.07 MiB/s, done.\n",
            "Resolving deltas: 100% (155/155), done.\n",
            "/content/optim_raianars_Insight/Raianars_paper_One/optim_raianars_Insight/Raianars_Routines/functions_cec2014_data/Raianars_paper_One/ANN_read_matrix/optim_raianars_Insight/Raianars_paper_One/optim_raianars_Insight/Raianars_Routines/functions_cec2014_data/Raianars_paper_One/ANN_read_matrix/optim_raianars_Insight/Raianars_paper_One/optim_raianars_Insight/Raianars_Routines/functions_cec2014_data/Raianars_paper_One\n"
          ]
        }
      ],
      "source": [
        "!git clone https://github.com/ucfilho/Raianars_paper_One #clonar do Github\n",
        "%cd Raianars_paper_One"
      ]
    },
    {
      "cell_type": "code",
      "execution_count": null,
      "metadata": {
        "id": "ukk5Twiiq0MN"
      },
      "outputs": [],
      "source": [
        "MAX=np.repeat(100,dim)\n",
        "MIN=np.repeat(-100,dim)\n",
        "\n",
        "bounds=[]\n",
        "for k in range(len(MAX)):\n",
        "  bounds.append((MIN[k],MAX[k]))"
      ]
    },
    {
      "cell_type": "code",
      "execution_count": null,
      "metadata": {
        "colab": {
          "base_uri": "https://localhost:8080/"
        },
        "id": "qTINtQ1cosZK",
        "outputId": "e665f4f6-f7f4-4787-b164-e12506e895cb"
      },
      "outputs": [
        {
          "name": "stdout",
          "output_type": "stream",
          "text": [
            "Cloning into 'ANN_read_matrix'...\n",
            "remote: Enumerating objects: 20, done.\u001b[K\n",
            "remote: Total 20 (delta 0), reused 0 (delta 0), pack-reused 20\u001b[K\n",
            "Unpacking objects: 100% (20/20), done.\n",
            "/content/optim_raianars_Insight/Raianars_paper_One/optim_raianars_Insight/Raianars_Routines/functions_cec2014_data/Raianars_paper_One/ANN_read_matrix/optim_raianars_Insight/Raianars_paper_One/optim_raianars_Insight/Raianars_Routines/functions_cec2014_data/Raianars_paper_One/ANN_read_matrix/optim_raianars_Insight/Raianars_paper_One/optim_raianars_Insight/Raianars_Routines/functions_cec2014_data/Raianars_paper_One/ANN_read_matrix\n"
          ]
        }
      ],
      "source": [
        "!git clone https://github.com/ucfilho/ANN_read_matrix #clonar do Github\n",
        "%cd ANN_read_matrix"
      ]
    },
    {
      "cell_type": "code",
      "execution_count": null,
      "metadata": {
        "id": "QiQLYOoNoyCw"
      },
      "outputs": [],
      "source": [
        "ANN_F=pd.read_csv('ANN_INSIGHT_Valor_F.csv')"
      ]
    },
    {
      "cell_type": "code",
      "execution_count": null,
      "metadata": {
        "id": "uHtW2amaDzFv"
      },
      "outputs": [],
      "source": [
        "ANN_CR=pd.read_csv('ANN_INSIGHT_CR.csv')"
      ]
    },
    {
      "cell_type": "code",
      "execution_count": null,
      "metadata": {
        "id": "EH6h_vke2yu1"
      },
      "outputs": [],
      "source": [
        "syn0_F,syn1_F,X_max_F,X_min_F=Go2Ann.GetMatriz(ANN_F)"
      ]
    },
    {
      "cell_type": "code",
      "execution_count": null,
      "metadata": {
        "id": "WW_3ZWJXD60i"
      },
      "outputs": [],
      "source": [
        "syn0_CR,syn1_CR,X_max_CR,X_min_CR=Go2Ann.GetMatriz(ANN_CR)"
      ]
    },
    {
      "cell_type": "code",
      "execution_count": null,
      "metadata": {
        "id": "b4gwBvVTyaXh"
      },
      "outputs": [],
      "source": [
        "ANN_CR=pd.read_csv('ANN_INSIGHT_CR.csv')"
      ]
    },
    {
      "cell_type": "code",
      "execution_count": null,
      "metadata": {
        "id": "6jL8MxpHvk-Y"
      },
      "outputs": [],
      "source": [
        "fields = ['DI RELATIVO','FRAC Its','Fo','CRo']"
      ]
    },
    {
      "cell_type": "code",
      "execution_count": null,
      "metadata": {
        "colab": {
          "base_uri": "https://localhost:8080/",
          "height": 174
        },
        "id": "Mb3LmbSmj9v7",
        "outputId": "6898f063-fb12-4ca1-c945-c7c29d79a81c"
      },
      "outputs": [
        {
          "name": "stdout",
          "output_type": "stream",
          "text": [
            "frac= 0.3333333333333333\n",
            "Npar1= 33\n",
            "Npar2= 33\n",
            "Npar3= 34\n",
            "Npar= 100\n"
          ]
        },
        {
          "data": {
            "application/vnd.google.colaboratory.intrinsic+json": {
              "type": "string"
            },
            "text/plain": [
              "'    \\nX4=np.zeros((NPAR4,cols)) # X2 is population DE (default DE)\\nfor i in range(NPAR4):\\n  for j in range(cols):\\n    r=np.random.random()\\n    X4[i,j]=r*(MAX[j]-MIN[j])+MIN[j]\\n    \\n ############################################################\\n  #bounds=[(5*dim, 15*dim)] * PONTOS # ITE\\n  #bounds=[(3*dim, 12*dim)] * PONTOS # ITE\\n  #bounds=[(4*dim, 16*dim)] * PONTOS\\n  \\n  # nao pode ser assim pq o bounds vale p o DE nao dos parametros\\n  #p=int(TOTAL/its/ITE) \\n  #bounds=[(p, p)] * PONTOS\\n'"
            ]
          },
          "execution_count": 91,
          "metadata": {},
          "output_type": "execute_result"
        }
      ],
      "source": [
        "##################################### \n",
        "\n",
        "TOTAL=10*dim*its*ITE\n",
        "TOTAL=int(TOTAL/2)   # CONFERIR SE ESTE EH O MELHOR LUGAR\n",
        "\n",
        "#dimensions=len(MAX)\n",
        "dimensions=dim\n",
        "start_time = time.time() #INICIALIZA CONTAGEM DO TEMPO\n",
        "\n",
        "\n",
        "PAR=dim\n",
        "Fun = Function\n",
        "fobj=Fun\n",
        "\n",
        "MAX_P=np.zeros(ITE) # ATENCAO para variar F e Cr MAX_P passa a ser 3 vezes maior\n",
        "MIN_P=np.zeros(ITE) # ATENCAO para variar F e Cr MIN_P passa a ser 3 vezes maior\n",
        "\n",
        "for i in range(dim):\n",
        "  MAX_P[i]=MAX[i] \n",
        "  MIN_P[i]=MIN[i]\n",
        "\n",
        "rodadas=1\n",
        "NPAR1=int(fator*NPAR);\n",
        "NPAR2=int(fator*NPAR)\n",
        "#NPAR2=int((NPAR-NPAR1)/3);\n",
        "#NPAR3=int((NPAR-NPAR1)/3);\n",
        "#NPAR4=int((NPAR-NPAR1)/3);\n",
        "NPAR3 = NPAR-NPAR1-NPAR1\n",
        "print('frac=',fator);\n",
        "print('Npar1=',NPAR1);\n",
        "print('Npar2=',NPAR2);\n",
        "print('Npar3=',NPAR3);\n",
        "#print('Npar4=',NPAR4);\n",
        "print('Npar=',NPAR)\n",
        "\n",
        "cols=dim\n",
        "\n",
        "X1=np.zeros((NPAR1,cols)) # X1 is Frannk population\n",
        "for i in range(NPAR1):\n",
        "  for j in range(cols):\n",
        "    r=np.random.random()\n",
        "    X1[i,j]=r*(MAX[j]-MIN[j])+MIN[j]\n",
        "    \n",
        "X2=np.zeros((NPAR2,cols)) # X2 is population DE (default DE)\n",
        "for i in range(NPAR2):\n",
        "  for j in range(cols):\n",
        "    r=np.random.random()\n",
        "    X2[i,j]=r*(MAX[j]-MIN[j])+MIN[j]\n",
        "\n",
        "X3=np.zeros((NPAR3,cols)) # X1 is Frannk population\n",
        "for i in range(NPAR3):\n",
        "  for j in range(cols):\n",
        "    r=np.random.random()\n",
        "    X3[i,j]=r*(MAX[j]-MIN[j])+MIN[j]\n",
        "'''    \n",
        "X4=np.zeros((NPAR4,cols)) # X2 is population DE (default DE)\n",
        "for i in range(NPAR4):\n",
        "  for j in range(cols):\n",
        "    r=np.random.random()\n",
        "    X4[i,j]=r*(MAX[j]-MIN[j])+MIN[j]\n",
        "    \n",
        " ############################################################\n",
        "  #bounds=[(5*dim, 15*dim)] * PONTOS # ITE\n",
        "  #bounds=[(3*dim, 12*dim)] * PONTOS # ITE\n",
        "  #bounds=[(4*dim, 16*dim)] * PONTOS\n",
        "  \n",
        "  # nao pode ser assim pq o bounds vale p o DE nao dos parametros\n",
        "  #p=int(TOTAL/its/ITE) \n",
        "  #bounds=[(p, p)] * PONTOS\n",
        "'''"
      ]
    },
    {
      "cell_type": "code",
      "execution_count": null,
      "metadata": {
        "colab": {
          "background_save": true,
          "base_uri": "https://localhost:8080/"
        },
        "id": "rnX8ttNopd1G",
        "outputId": "72265137-2757-4bff-b504-75d48558347b"
      },
      "outputs": [
        {
          "name": "stdout",
          "output_type": "stream",
          "text": [
            "run= 0 gen= 9762 time= 2.1445878028869627 eval FES= 299999 FO= 1.683390351775356\n",
            "run= 1 gen= 9762 time= 4.06878043015798 eval FES= 299999 FO= 1.6056201819449303\n",
            "run= 2 gen= 9762 time= 5.9817850907643635 eval FES= 299999 FO= 1.7262400395013602\n",
            "run= 3 gen= 9762 time= 7.893102598190308 eval FES= 299999 FO= 1.614221197827841\n",
            "run= 4 gen= 9762 time= 9.801912490526835 eval FES= 299999 FO= 2.065189406747521\n",
            "run= 5 gen= 9762 time= 11.713749674956004 eval FES= 299999 FO= 1.394245535629448\n",
            "run= 6 gen= 9762 time= 13.626770571867626 eval FES= 299999 FO= 1.7144595832456688\n",
            "run= 7 gen= 9762 time= 15.53820343017578 eval FES= 299999 FO= 1.9039032113454883\n",
            "run= 8 gen= 9762 time= 17.44826119740804 eval FES= 299999 FO= 2.4109509015212054\n",
            "run= 9 gen= 9762 time= 19.362930043538412 eval FES= 299999 FO= 1.4181848462289446\n",
            "run= 10 gen= 9762 time= 21.275300065676372 eval FES= 299999 FO= 2.634138681745843\n",
            "run= 11 gen= 9762 time= 23.187765645980836 eval FES= 299999 FO= 2.0291707685336506\n",
            "run= 12 gen= 9762 time= 25.097951555252074 eval FES= 299999 FO= 1.7105393358010066\n",
            "run= 13 gen= 9762 time= 27.006768290201823 eval FES= 299999 FO= 1.4558819983241413\n",
            "run= 14 gen= 9762 time= 28.919906290372214 eval FES= 299999 FO= 1.384032639647052\n",
            "run= 15 gen= 9762 time= 30.833123699824014 eval FES= 299999 FO= 1.3622782385299033\n",
            "run= 16 gen= 9762 time= 32.74931048552195 eval FES= 299999 FO= 1.8275253899928896\n"
          ]
        },
        {
          "name": "stderr",
          "output_type": "stream",
          "text": [
            "/content/optim_raianars_Insight/LShade_new.py:124: RuntimeWarning: invalid value encountered in double_scalars\n",
            "  MCR[kH] = np.dot(w,y**2)/np.dot(w,y)\n"
          ]
        },
        {
          "name": "stdout",
          "output_type": "stream",
          "text": [
            "run= 17 gen= 9762 time= 34.66473755836487 eval FES= 299999 FO= 1.4859241770406793\n",
            "run= 18 gen= 9762 time= 36.57982527414958 eval FES= 299999 FO= 1.4858885360737863\n",
            "run= 19 gen= 9762 time= 38.49392502705256 eval FES= 299999 FO= 2.143923518274012\n",
            "run= 20 gen= 9762 time= 40.406934742132826 eval FES= 299999 FO= 1.8220397299291533\n",
            "run= 21 gen= 9762 time= 42.3207062681516 eval FES= 299999 FO= 1.919592527324228\n",
            "run= 22 gen= 9762 time= 44.23119960228602 eval FES= 299999 FO= 1.9891508467726937\n",
            "run= 23 gen= 9762 time= 46.147458863258365 eval FES= 299999 FO= 1.6004175230179254\n",
            "run= 24 gen= 9762 time= 48.06139302651088 eval FES= 299999 FO= 1.6494092167052323\n",
            "run= 25 gen= 9762 time= 49.97752405802409 eval FES= 299999 FO= 1.2196726269704992\n",
            "run= 26 gen= 9762 time= 51.888573690255484 eval FES= 299999 FO= 1.943865605698757\n",
            "run= 27 gen= 9762 time= 53.806352496147156 eval FES= 299999 FO= 1.5685025814232185\n",
            "run= 28 gen= 9762 time= 55.721813086668654 eval FES= 299999 FO= 1.5888988677272011\n",
            "run= 29 gen= 9762 time= 57.632327389717105 eval FES= 299999 FO= 1.5024071572212492\n",
            "run= 30 gen= 9762 time= 59.54336874087652 eval FES= 299999 FO= 1.505166466928738\n",
            "run= 31 gen= 9762 time= 61.4536981900533 eval FES= 299999 FO= 1.3039171014498936\n",
            "run= 32 gen= 9762 time= 63.36251934369405 eval FES= 299999 FO= 1.2054949379085655\n",
            "run= 33 gen= 9762 time= 65.27319053411483 eval FES= 299999 FO= 1.50356369102705\n",
            "run= 34 gen= 9762 time= 67.18364250262579 eval FES= 299999 FO= 1.882030372482822\n",
            "run= 35 gen= 9762 time= 69.10399820407231 eval FES= 299999 FO= 1.1491092522000583\n",
            "run= 36 gen= 9762 time= 71.01657729546228 eval FES= 299999 FO= 3.3770095459203455\n",
            "run= 37 gen= 9762 time= 72.93125878572464 eval FES= 299999 FO= 3.3429208577255842\n",
            "run= 38 gen= 9762 time= 74.84204419851304 eval FES= 299999 FO= 1.7496664283162626\n",
            "run= 39 gen= 9762 time= 76.75671214262644 eval FES= 299999 FO= 2.0054567069335443\n",
            "run= 40 gen= 9762 time= 78.66846197048822 eval FES= 299999 FO= 1.7872278793495502\n",
            "run= 41 gen= 9762 time= 80.57841599384943 eval FES= 299999 FO= 2.0881686049646513\n",
            "run= 42 gen= 9762 time= 82.47462922334671 eval FES= 299999 FO= 1.4822241061048653\n",
            "run= 43 gen= 9762 time= 84.36754283905029 eval FES= 299999 FO= 2.082432416436045\n",
            "run= 44 gen= 9762 time= 86.26133056879044 eval FES= 299999 FO= 1.3958436861066406\n",
            "run= 45 gen= 9762 time= 88.15929247140885 eval FES= 299999 FO= 1.7873580957926543\n",
            "run= 46 gen= 9762 time= 90.05274083216985 eval FES= 299999 FO= 1.6505441360099917\n",
            "run= 47 gen= 9762 time= 91.94581930239995 eval FES= 299999 FO= 1.8386049493414611\n",
            "run= 48 gen= 9762 time= 93.84073195060094 eval FES= 299999 FO= 1.5454428624897738\n",
            "run= 49 gen= 9762 time= 95.736689778169 eval FES= 299999 FO= 1.704842840652339\n"
          ]
        }
      ],
      "source": [
        "start_time = time.time()\n",
        "BEST_AGENTS=[]\n",
        "MAT_stat=[]\n",
        "for iii in range(RUNS):\n",
        "    FES = 0 ; gen = 0 \n",
        "    MAT=[] \n",
        "    mut=Fi\n",
        "    crossp=CRi\n",
        "    SOMA=0\n",
        "    pop = np.random.rand(NPAR, dim)\n",
        "    diff=np.zeros(PAR)\n",
        "\n",
        "    NPAR = maxNP\n",
        "    # fator = 1.0\n",
        "    NPAR1=int(fator*NPAR);NPAR2=int(fator*NPAR);NPAR3 = NPAR-NPAR1-NPAR1\n",
        "    '''\n",
        "    NPAR2=int((NPAR-NPAR1)/3);\n",
        "    NPAR3=int((NPAR-NPAR1)/3);\n",
        "    NPAR4=int((NPAR-NPAR1)/3);\n",
        "    NPAR1 = NPAR-3*NPAR2\n",
        "    '''\n",
        "\n",
        "    X1=np.zeros((NPAR1,cols)) # X1 is Frannk population\n",
        "    for i in range(NPAR1):\n",
        "      for j in range(cols):\n",
        "        r=np.random.random()\n",
        "        X1[i,j]=r*(MAX[j]-MIN[j])+MIN[j]\n",
        "       \n",
        "    X2=np.zeros((NPAR2,cols)) # X2 is population DE (default DE)\n",
        "    for i in range(NPAR2):\n",
        "      for j in range(cols):\n",
        "        r=np.random.random()\n",
        "        X2[i,j]=r*(MAX[j]-MIN[j])+MIN[j]\n",
        "    \n",
        "    X3=np.zeros((NPAR3,cols)) # X2 is population DE (default DE)\n",
        "    for i in range(NPAR3):\n",
        "      for j in range(cols):\n",
        "        r=np.random.random()\n",
        "        X3[i,j]=r*(MAX[j]-MIN[j])+MIN[j]\n",
        "    ''' \n",
        "    X4=np.zeros((NPAR4,cols)) # X2 is population DE (default DE)\n",
        "    for i in range(NPAR4):\n",
        "      for j in range(cols):\n",
        "        r=np.random.random()\n",
        "        X4[i,j]=r*(MAX[j]-MIN[j])+MIN[j]\n",
        "    '''\n",
        "    fit1 = np.asarray([fobj(ind) for ind in X1])\n",
        "    best_idx = np.argmin(fit1)\n",
        "    best1 = X1[best_idx]\n",
        "    fbest1 = fit1[best_idx] \n",
        "\n",
        "    \n",
        "    fit2 = np.asarray([fobj(ind) for ind in X2])\n",
        "    best_idx = np.argmin(fit2)\n",
        "    best2 = X1[best_idx]\n",
        "    fbest2 = fit2[best_idx] \n",
        "\n",
        "    fit3 = np.asarray([fobj(ind) for ind in X3])\n",
        "    best_idx = np.argmin(fit3)\n",
        "    best3 = X3[best_idx]\n",
        "    fbest3 = fit3[best_idx] \n",
        "    '''\n",
        "    fit3 = np.asarray([fobj(ind) for ind in X3])\n",
        "    fit4 = np.asarray([fobj(ind) for ind in X4])\n",
        "    FES = FES + NPAR1 + NPAR2 + NPAR3+ NPAR4\n",
        "    '''\n",
        "    FES = FES + NPAR1 + NPAR2 + NPAR3\n",
        "    fit_best =[]\n",
        "    DIo=1e99\n",
        "  \n",
        "    CRo=crossp;Fo=mut;\n",
        "    #Fitness = np.asarray([Fun(ind, shift_data , matrix, shuffle) for ind in X1])\n",
        "    XY,BEST_XY,BESTo,FOBESTo=AvaliaX(X1,fit1 )\n",
        "    nrow,ncol=X1.shape\n",
        "    FES = FES + nrow\n",
        "\n",
        "    QUANT=17;MAT_INDo=np.zeros((1,QUANT)); # quantos indices esta fazendo\n",
        "    MAT_INDo[0,5]=nrow  # VALOR NP\n",
        "    MAT_INDo[0,6]=Fo    # VALOR Fo   \n",
        "    MAT_INDo[0,7]=CRo   # VALOR CRo\n",
        "\n",
        "    Fuma = Fun  # Fuma era Fun\n",
        "  \n",
        "    MAT_INDo=GeraIndices(X1,BESTo,FOBESTo,DIo,MAT_INDo,SOMA,TOTAL,syn0_F,\n",
        "                        syn1_F,X_max_F,X_min_F,syn0_CR,syn1_CR,X_max_CR,\n",
        "                        X_min_CR,Fc,fields,Fuma)\n",
        "  \n",
        "    DIo=np.copy(MAT_INDo[0,0])\n",
        "    MAT_INDo[0,15]=Fo    # VALOR Fo   \n",
        "    MAT_INDo[0,16]=CRo   # VALOR CRo\n",
        "\n",
        "    # Just to intialize variables:\n",
        "    FESr = 0\n",
        "    FOBEST1 = fbest1;FOBEST2 = fbest2;FOBEST3 = fbest3;FOBEST4 = 1E99\n",
        "    #BEST1,BEST2,BEST3,BEST4  =  np.copy(X1[0,:]),np.copy(X2[0,:]),np.copy(X3[0,:]), np.copy(X4[0,:]) \n",
        "    BEST1  =  best1\n",
        "    BEST2  =  best2\n",
        "    BEST3  =  best3\n",
        "    popsize = NPAR\n",
        "    FUNCTION = []\n",
        "\n",
        "    MF=[];MCR=[];\n",
        "    for i in range(H):\n",
        "      MCR.append(MCRi);MF.append(MFi) # line 3\n",
        "    \n",
        "    Narquive = popsize\n",
        "    setTUNE =[SF,SCR,MF,MCR,p, terminal, Narquive,H,kH]\n",
        "    \n",
        "    \n",
        "    while(FESr == 0 ):\n",
        "\n",
        "      #print('FES',FES)\n",
        "\n",
        "      gen = gen +1\n",
        "      ##=cool=#####################################################################################\n",
        "      '''\n",
        "      fback,Xback,BESTback,FOBESTback,FESback= np.copy(fit2),np.copy(X2),BEST2,FOBEST2,FES\n",
        "      fit2,X2,BEST2,FOBEST2,XY2,BEST_XY2,FES=classicDE_FES_new.de(bounds, mut2, crossp2,NPAR2, its,fobj,fit2,X2,FES) # de_bounds_matriz\n",
        "      if(FES > maxFES):\n",
        "        FESr = FES \n",
        "        fit2,X2,BEST2,FOBEST2,FES = np.copy(fback),np.copy(Xback),BESTback,FOBESTback,FESback\n",
        "      \n",
        "      fback,Xback,BESTback,FOBESTback,FESback= np.copy(fit3),np.copy(X3),BEST3,FOBEST3,FES\n",
        "      fit3,X3,BEST3,FOBEST3,XY3,BEST_XY3,FES=classicDE_FES_new.de(bounds, mut3, crossp3,NPAR3, its,fobj,fit3,X3,FES) #de_bounds_matriz\n",
        "      if(FES > maxFES): \n",
        "        FESr = FES\n",
        "        fit3,X3,BEST3,FOBEST3,FES = np.copy(fback),np.copy(Xback),BESTback,FOBESTback,FESback\n",
        "\n",
        "      fback,Xback,BESTback,FOBESTback,FESback= np.copy(fit4),np.copy(X4),BEST4,FOBEST4,FES\n",
        "      fit4,X4,BEST4,FOBEST4,XY4,BEST_XY4,FES=classicDE_FES_new.de(bounds, mut4, crossp4,NPAR4, its,fobj,fit4,X4,FES) # de_bounds_matriz\n",
        "      if(FES > maxFES): \n",
        "        FESr = FES\n",
        "        fit4,X4,BEST4,FOBEST4,FES = np.copy(fback),np.copy(Xback),BESTback,FOBESTback,FESback\n",
        "      '''\n",
        "      \n",
        "      \n",
        "\n",
        "      \n",
        "\n",
        "      fback,Xback,BESTback,FOBESTback,FESback= np.copy(fit1),np.copy(X1),BEST1,FOBEST1,FES\n",
        "      fit1,X1,BEST1,FOBEST1,XY,BEST_XY,FES = annDE_FES_new.de(MAX,MIN, mut, crossp, NPAR1, its,fobj,fit1,X1,FES)\n",
        "      if(FES > maxFES):\n",
        "        FESr = FES \n",
        "        fit1,X1,BEST1,FOBEST1,FES = np.copy(fback),np.copy(Xback),BESTback,FOBESTback,FESback\n",
        "\n",
        "      fback,Xback,BESTback,FOBESTback,FESback= np.copy(fit2),np.copy(X2),BEST2,FOBEST2,FES\n",
        "      Xarqback = Xarq\n",
        "      fit2,X2,BEST2,FOBEST2,XY,BEST_XY,FES,Xarq,setTUNE= LShade_new.LShade(MAX,MIN, NPAR2,fobj,setTUNE,best2,fbest2,fit2,X2,Xarq,FES)\n",
        "      if(FES > maxFES):\n",
        "        FESr = FES \n",
        "        fit2,X2,BEST2,FOBEST2,FES = np.copy(fback),np.copy(Xback),BESTback,FOBESTback,FESback\n",
        "        Xarq = Xarqback\n",
        "      ri = random.randint(0, numARRAY-1)\n",
        "      \n",
        "      mut3 = muARRAY[ri]; crossp3 = crARRAY[ri]\n",
        "      fback,Xback,BESTback,FOBESTback,FESback= np.copy(fit3),np.copy(X3),BEST3,FOBEST3,FES\n",
        "      fit3,X3,BEST3,FOBEST3,XY3,BEST_XY3,FES=classicDE_FES_new.de(bounds, mut3, crossp3,NPAR3, its,fobj,fit3,X3,FES) #de_bounds_matriz\n",
        "      if(FES > maxFES): \n",
        "        FESr = FES\n",
        "        fit3,X3,BEST3,FOBEST3,FES = np.copy(fback),np.copy(Xback),BESTback,FOBESTback,FESback\n",
        "\n",
        "\n",
        "      calc = (minNP-maxNP)/maxFES*FES+maxNP # Linear Population Size Reduction (LPSR)\n",
        "      calc = int(np.round(calc)) # Linear Population Size Reduction (LPSR) \n",
        "      gen = gen + 1\n",
        "      #fator = 1.0\n",
        "      NPAR = calc\n",
        "      NPAR1=int(fator*NPAR);\n",
        "      NPAR2=int(fator*NPAR);\n",
        "      NPAR3=NPAR-NPAR1-NPAR2\n",
        "      #NPAR3=int((NPAR-NPAR1)/3);\n",
        "      #NPAR4=int((NPAR-NPAR1)/3);\n",
        "      #NPAR1 = NPAR-3*NPAR2\n",
        "\n",
        "      '''\n",
        "      if(NPAR2 > len(X2[:,0])):\n",
        "        NPAR2 = len(X2[:,0])\n",
        "      '''\n",
        "      if(NPAR1 > len(X1[:,0])):\n",
        "        NPAR1 = len(X1[:,0])\n",
        "      if(NPAR2 > len(X2[:,0])):\n",
        "        NPAR2 = len(X2[:,0])\n",
        "      if(NPAR3 > len(X3[:,0])):\n",
        "        NPAR3 = len(X3[:,0])    \n",
        "          \n",
        "      X1 = X1[:NPAR1,:];X2 = X2[:NPAR2,:];X3 = X3[:NPAR3,:];\n",
        "      if(len(Xarq)>0) : Xarq = Xarq[:NPAR2]\n",
        "       #X4 = X4[:NPAR4,:];\n",
        "      fit1 = fit1[:NPAR1];fit2 = fit2[:NPAR2]; fit3 = fit3[:NPAR3]; # fit4 = fit4[:NPAR4];\n",
        "      popsize = NPAR2\n",
        "      Narquive = popsize\n",
        "      NP = popsize\n",
        "\n",
        "      X1[0,:] = BEST1;X1[1,:] = BEST2;X1[2,:] = BEST3;# X1[2,:] = BEST4;\n",
        "      X2[0,:] = BEST1;X2[1,:] = BEST2;X2[2,:] = BEST3;#X2[3,:] = BEST2;\n",
        "      X3[0,:] = BEST1;X3[1,:] = BEST2;X3[2,:] = BEST3;#X3[3,:] = BEST3;\n",
        "      #X4[0,:] = BEST1;X4[1,:] = BEST2;X4[2,:] = BEST3;X4[3,:] = BEST4;\n",
        "      fit1[0] = FOBEST1; fit1[1] = FOBEST2;fit1[2] = FOBEST3;\n",
        "      fit2[0] = FOBEST1; fit2[1] = FOBEST2;fit2[2] = FOBEST3;\n",
        "      fit3[0] = FOBEST1; fit3[1] = FOBEST2;fit3[2] = FOBEST3;\n",
        "      '''\n",
        "      X1[0,:] = BEST2;X1[1,:] = BEST3; X1[2,:] = BEST4;X1[3,:] = BEST1;\n",
        "      X2[0,:] = BEST1;X2[1,:] = BEST3;X2[2,:] = BEST4;X2[3,:] = BEST2;\n",
        "      X3[0,:] = BEST1;X3[1,:] = BEST2;X3[2,:] = BEST4;X3[3,:] = BEST3;\n",
        "      X4[0,:] = BEST1;X4[1,:] = BEST2;X4[2,:] = BEST3;X4[3,:] = BEST4;\n",
        "      fit1[0] = FOBEST1; fit2[1] = FOBEST2;fit3[0] = FOBEST3; fit4[1] = FOBEST4;\n",
        "      '''\n",
        "    '''\n",
        "    for i in range(FIX):\n",
        "      \n",
        "        Fitback,Xback,BESTback,FOBESTback,FESback= np.copy(fit2), np.copy(X2),BEST2,FOBEST2,FES\n",
        "        \n",
        "        if ( FESr == 0):\n",
        "          Fitback,Xback,BESTback,FOBESTback,FESback= np.copy(X2),BEST2,FOBEST2,FES\n",
        "          fit2,X2,BEST2,FOBEST2,XY2,BEST_XY2,FESr=classicDE_FES_new.de(bounds,mut_best, crossp_best,NPAR2, its,fobj,fit2,X2,FES) # de_bounds_matriz\n",
        "        if ( FESr > 0):\n",
        "          fit2, X2,BEST2,FOBEST2,FES = np.copy(Fitback),np.copy(Xback),BESTback,FOBESTback,FESback\n",
        "\n",
        "\n",
        "        if(FES > maxFES): \n",
        "          fit2, X2,BEST2,FOBEST2,FES = np.copy(Fitback),np.copy(Xback),BESTback,FOBESTback,FESback\n",
        "        \n",
        "        \n",
        "        fit2,X2,BEST2,FOBEST2,XY,BEST_XY, FES= stepsWALK_new.fixWALK(Fun,BEST2,FOBEST2,NPAR2,tunePAR,MAX,MIN,fit2,X2,FIX)\n",
        "        # print('FES',FES)\n",
        "\n",
        "      ############################################################################################\n",
        "      ############################################################################################\n",
        "    \n",
        "    if(FES > maxFES):\n",
        "      fit2,X2,BEST2,FOBEST2,FES = np.copy(Fitback),np.copy(Xback),BESTback,FOBESTback,FESback\n",
        "\n",
        "    FUNCTION.append(FOBEST2)\n",
        "    '''\n",
        "    #setTUNE= [SF,SCR,MF,MCR,p, terminal, Narquive]\n",
        "    setTUNE =[SF,SCR,MF,MCR,p, terminal, Narquive,H,kH]\n",
        "    print('run=',iii,'gen=',gen,'time=',(time.time()-start_time)/60, 'eval FES=', FES,'FO=',FOBEST1)  \n",
        "    BEST_AGENTS.append(BEST_XY)"
      ]
    },
    {
      "cell_type": "code",
      "execution_count": null,
      "metadata": {
        "colab": {
          "background_save": true
        },
        "id": "HLMbmikcZEiq",
        "outputId": "08702ae5-ec23-4bab-d6ed-abfe1379bfbf"
      },
      "outputs": [
        {
          "data": {
            "text/plain": [
              "(4, 4, 4, (4, 30), (4, 30), (4, 30))"
            ]
          },
          "execution_count": null,
          "metadata": {},
          "output_type": "execute_result"
        }
      ],
      "source": [
        "NPAR1,NPAR2,NPAR3,X1.shape,X2.shape,X3.shape"
      ]
    },
    {
      "cell_type": "code",
      "execution_count": null,
      "metadata": {
        "colab": {
          "background_save": true
        },
        "id": "TLEE0UrZSvJF",
        "outputId": "c82288bf-bf0b-4bb3-b23e-22c63a8257ef"
      },
      "outputs": [
        {
          "name": "stdout",
          "output_type": "stream",
          "text": [
            "30\n"
          ]
        }
      ],
      "source": [
        "#len(X2[1,:])\n",
        "print(cols)"
      ]
    },
    {
      "cell_type": "code",
      "execution_count": null,
      "metadata": {
        "colab": {
          "background_save": true
        },
        "id": "scZnrGN1uoW3"
      },
      "outputs": [],
      "source": [
        "BEST_AGENTS=np.array(BEST_AGENTS)"
      ]
    },
    {
      "cell_type": "code",
      "execution_count": null,
      "metadata": {
        "colab": {
          "background_save": true
        },
        "id": "k3p9TGsx1OCu"
      },
      "outputs": [],
      "source": [
        "NOMES=['DIVERSIDADE (DI)',  'DI RELATIVO','FRAC Its',\n",
        "           'VELOC FOBJ','VELOC X','NP','Fo','CRo','fmin','fmax',\n",
        "           'AD_fmin','AD_fmax','DELTA FOBJ','DELTA VX','r_fitness',\n",
        "           'F','CR']\n",
        "# BEST_INDEX= BEST_AGENTS[BEST_AGENTS[:,-1].argmin()]  \n",
        "BEST_INDEX = np.argmin(BEST_AGENTS[:,-1])\n",
        "#df=pd.DataFrame(MAT_stat[BEST_INDEX], columns=NOMES)\n",
        "\n"
      ]
    },
    {
      "cell_type": "code",
      "execution_count": null,
      "metadata": {
        "colab": {
          "background_save": true
        },
        "id": "CqGHCBBnw7jn"
      },
      "outputs": [],
      "source": [
        "TIME = (time.time() - start_time)/RUNS\n",
        "BEST_AGENTS=np.array(BEST_AGENTS)\n",
        "BEST_AGENTS_ST= BEST_AGENTS[BEST_AGENTS[:,-1].argsort()]\n",
        "BEST=BEST_AGENTS_ST[0]\n",
        "WORSE=BEST_AGENTS_ST[-1]\n",
        "MEAN=np.mean(BEST_AGENTS,axis=0)\n",
        "MAXFO=BEST_AGENTS[:,-1].max()\n",
        "MINFO=BEST_AGENTS[:,-1].min()\n",
        "STD=BEST_AGENTS[:,-1].std()    "
      ]
    },
    {
      "cell_type": "code",
      "execution_count": null,
      "metadata": {
        "colab": {
          "background_save": true
        },
        "id": "lNSN5X-wskcx",
        "outputId": "aaa059f9-1eae-44a6-d44b-8ef4563ad0b3"
      },
      "outputs": [
        {
          "name": "stdout",
          "output_type": "stream",
          "text": [
            "MCS-FRANNK Fator F/DE= 0.33 NPAR= 12 Iterações= 1000 Dim= 30 Min/Max= -100 / 100 _ F15\n",
            "SUB_Fo-0.5_CRo-0.5_D-30_Interv-1000 \n",
            "\n",
            "MÉDIA:  1.7646737997327961 STD __: 0.43957263455604884\n",
            "MIN __: 1.1491092522000583 MAX__:  3.3770095459203455\n",
            "1.7646737997327961\n",
            "0.43957263455604884\n",
            "1.1491092522000583\n",
            "Tempo Médio= 114.886 segundos ---\n",
            "50 Rodadas\n",
            "\n",
            "BEST:  [ 0.27893273  0.31593802 -0.1420466   0.24834241  0.55906181  0.55578267\n",
            "  0.5551274   0.65958649  0.46114083  0.22452411 -0.18712583 -0.18564681\n",
            "  0.25531158  0.49283514 -0.00256276 -0.33975946  0.32654007 -0.1351802\n",
            "  0.3549363   0.555233    0.29736761  0.43616233  0.54053092  0.53931651\n",
            "  0.78991287  0.60722559  0.71854969  0.56448963  0.67344131  0.20426872\n",
            "  1.14910925]\n"
          ]
        }
      ],
      "source": [
        "nome='SUB'+'_Fo-'+str(Fi)+'_CRo-'+str(CRi)+'_D-'+str(dim)+'_Interv-'+str(ITE)\n",
        "print('MCS-FRANNK','Fator F/DE= %.2f' %(fator),'NPAR=',NPAR,'Iterações=',ITE*its,'Dim=', PAR,\"Min/Max=\",MIN[0],\"/\",MAX[0],'_',Fun.__name__)\n",
        "print(nome, '\\n')\n",
        "#print('BEST: ',BEST)\n",
        "#print('MÉDIA: ',MEAN)\n",
        "print('MÉDIA: ',MEAN[-1],'STD __:',STD)\n",
        "print('MIN __:',MINFO, 'MAX__: ',MAXFO)\n",
        "print(MEAN[-1])\n",
        "print(STD)\n",
        "print(MINFO)\n",
        "print(\"Tempo Médio= %.3f segundos ---\" % (TIME))\n",
        "print(RUNS,'Rodadas') \n",
        "print()\n",
        "print('BEST: ',BEST)\n",
        "# print('melhor=',BEST_AGENTS[BEST_INDEX])"
      ]
    },
    {
      "cell_type": "code",
      "execution_count": null,
      "metadata": {
        "colab": {
          "background_save": true
        },
        "id": "3RQpDGEjsGVx",
        "outputId": "e18ebbcb-8474-401e-e0c3-3ab6f1e15312"
      },
      "outputs": [
        {
          "data": {
            "text/plain": [
              "([1.0,\n",
              "  0.9528412431843308,\n",
              "  1.0,\n",
              "  0.8791542839024392,\n",
              "  0.9340844382386075,\n",
              "  0.8772129591432757],\n",
              " [0.1, 0.1, 0.1, 0.1, 0.1, 0.1],\n",
              " [],\n",
              " [])"
            ]
          },
          "execution_count": null,
          "metadata": {},
          "output_type": "execute_result"
        }
      ],
      "source": [
        "MF,MCR,SF,SCR"
      ]
    },
    {
      "cell_type": "code",
      "execution_count": null,
      "metadata": {
        "colab": {
          "background_save": true
        },
        "id": "uX1gnDDVPlWX",
        "outputId": "03d70fb9-414f-45aa-f8e8-e7f371d8c359"
      },
      "outputs": [
        {
          "data": {
            "text/plain": [
              "(299999, [array([ -4.93505133, -20.26294437,  71.77153144, -84.03879121,\n",
              "          21.88894884, -23.38624713,  48.6533924 ,  18.67108274,\n",
              "          29.7155286 ,  94.86869815,  -3.00073321,  28.05170388,\n",
              "         -47.78483308, -68.49876354, -41.26390101,  60.27026612,\n",
              "          32.02573263, -36.60208356,  53.11827635,  19.69451524,\n",
              "          45.37927662, -46.38150666, -48.89007842,  -1.52938888,\n",
              "         -95.39143878,  99.85806074,  63.54326427,  -6.7383941 ,\n",
              "         -19.27368275,  15.52657233]),\n",
              "  array([-74.65492309,  56.58024446,  90.35317317,  94.29316739,\n",
              "          38.92845423,  69.84638925,  54.70561314,  92.55295801,\n",
              "          17.99671845,  14.89653451, -14.09000088,  79.20558373,\n",
              "          57.45452569, -12.01455031,  22.58362995, -17.16825375,\n",
              "           1.60988629, -62.11893613,  25.62398914, -40.82707994,\n",
              "         -45.47216308,  55.09038743, -59.71497647,  31.68438594,\n",
              "         -98.08604458,  63.64271239, -78.29019259,  41.85097929,\n",
              "          91.13300141,   7.78420053]),\n",
              "  array([ 50.62178416,  75.70970731, -23.61304567, -99.11267708,\n",
              "         -34.02326021, -46.60730072,  41.15293025, -62.25585031,\n",
              "         -84.30674089,  55.77930423,  66.341277  ,  27.81172936,\n",
              "          84.84361372,  96.50297907, -83.6285255 , -49.25264675,\n",
              "          56.97055483,  51.32808654, -40.72203965,  81.93684194,\n",
              "          55.35103266,  -8.43768012,  72.25407494, -30.47943129,\n",
              "          79.85957723, -45.74972109,  42.11486175,  27.18122539,\n",
              "          67.54537293,  65.33409693]),\n",
              "  array([-74.50294635, -16.69570893, -83.56864072,  52.03122467,\n",
              "         -88.38800784, -29.72110086,  47.96819502,  14.27679966,\n",
              "         -20.69425568,   7.48800854, -59.25227541, -10.71511409,\n",
              "         -16.78262315, -11.11499846,  18.52225851, -42.56867392,\n",
              "          10.71134179,  27.53187433,  56.62187128, -64.16091252,\n",
              "         -16.63614852, -48.62513641, -20.02993421, -75.65697835,\n",
              "         -47.24968583, -75.56890224, -91.00582272,  59.97834116,\n",
              "         -12.8653396 ,  44.76138983])])"
            ]
          },
          "execution_count": null,
          "metadata": {},
          "output_type": "execute_result"
        }
      ],
      "source": [
        "FES,Xarq"
      ]
    }
  ],
  "metadata": {
    "colab": {
      "collapsed_sections": [],
      "name": "Corrigido_CFRANNK_1/3_LSHADE_1/3_DE_random_F15_180/12_cec2014.ipynb",
      "provenance": [],
      "include_colab_link": true
    },
    "kernelspec": {
      "display_name": "Python 3",
      "name": "python3"
    },
    "language_info": {
      "codemirror_mode": {
        "name": "ipython",
        "version": 3
      },
      "file_extension": ".py",
      "mimetype": "text/x-python",
      "name": "python",
      "nbconvert_exporter": "python",
      "pygments_lexer": "ipython3",
      "version": "3.7.3"
    }
  },
  "nbformat": 4,
  "nbformat_minor": 0
}