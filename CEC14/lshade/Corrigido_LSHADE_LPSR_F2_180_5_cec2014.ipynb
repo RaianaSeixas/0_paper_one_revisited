{
  "nbformat": 4,
  "nbformat_minor": 0,
  "metadata": {
    "colab": {
      "name": "Corrigido_LSHADE_LPSR_F2_180/5_cec2014.ipynb",
      "provenance": [],
      "collapsed_sections": [],
      "include_colab_link": true
    },
    "kernelspec": {
      "name": "python3",
      "display_name": "Python 3"
    },
    "language_info": {
      "codemirror_mode": {
        "name": "ipython",
        "version": 3
      },
      "file_extension": ".py",
      "mimetype": "text/x-python",
      "name": "python",
      "nbconvert_exporter": "python",
      "pygments_lexer": "ipython3",
      "version": "3.7.3"
    }
  },
  "cells": [
    {
      "cell_type": "markdown",
      "metadata": {
        "id": "view-in-github",
        "colab_type": "text"
      },
      "source": [
        "<a href=\"https://colab.research.google.com/github/RaianaSeixas/0_paper_one_revisited/blob/main/CEC14/lshade/Corrigido_LSHADE_LPSR_F2_180_5_cec2014.ipynb\" target=\"_parent\"><img src=\"https://colab.research.google.com/assets/colab-badge.svg\" alt=\"Open In Colab\"/></a>"
      ]
    },
    {
      "cell_type": "code",
      "source": [
        "############################### DADOS DE ENTRADA \n",
        " \n",
        "RUNS=50 #NÚMERO DE RODADAS\n",
        "Fc=0.1 # fator de correcao parametros da ANN\n",
        "its=1 #10 # quantas vezes vai usar o NPAR antes de alterar de novo\n",
        "ITE=1000 #10 # PONTOS quantas vezes vai alteral NPAR \n",
        "NPAR=100\n",
        "mut=0.5\n",
        "crossp=0.5\n",
        "Fi=mut;CRi=crossp;# para impressão\n",
        "# fator = 1.0/3.0; \n",
        "fator = 1.0 # just LSHADE...\n",
        "mut2=0.5;crossp2=0.5;mut3=0.75;crossp3=0.25;mut4=0.25;crossp4=0.25;\n",
        "mut_best  =0.5 ; crossp_best =0.5\n",
        "maxNP = 180\n",
        "minNP = 5\n",
        "maxFES =300000\n",
        "FIX = 100 # Number of adjusts random walk\n",
        "H = 6\n",
        "kH = 0 # kH is used to work with H  \n",
        "terminal = 0.1\n",
        "p=0.1\n",
        "SF=[];SCR=[];MF=[];MCR=[];Xarq=[]\n",
        "MFi=0.5\n",
        "MCRi=0.5"
      ],
      "metadata": {
        "id": "SWHauA_QxHPz"
      },
      "execution_count": null,
      "outputs": []
    },
    {
      "cell_type": "code",
      "metadata": {
        "colab": {
          "base_uri": "https://localhost:8080/"
        },
        "id": "c59cDVKoxDLX",
        "outputId": "47997e8b-1bba-4349-d151-62165992cc35"
      },
      "source": [
        "############################### Importar códigos\n",
        "!git clone https://github.com/ucfilho/optim_raianars_Insight/ #clonar do Github\n",
        "%cd optim_raianars_Insight\n",
        "import de_soma_Insight\n",
        "import de_bounds_matriz\n",
        "import Go2Ann\n",
        "import randomWALK\n",
        "import annDE_FES_new\n",
        "import classicDE_FES_new\n",
        "import stepsWALK_new\n",
        "import LShade_new\n",
        "from pandas import read_csv"
      ],
      "execution_count": null,
      "outputs": [
        {
          "output_type": "stream",
          "name": "stdout",
          "text": [
            "Cloning into 'optim_raianars_Insight'...\n",
            "remote: Enumerating objects: 863, done.\u001b[K\n",
            "remote: Counting objects:   0% (1/222)\u001b[K\rremote: Counting objects:   1% (3/222)\u001b[K\rremote: Counting objects:   2% (5/222)\u001b[K\rremote: Counting objects:   3% (7/222)\u001b[K\rremote: Counting objects:   4% (9/222)\u001b[K\rremote: Counting objects:   5% (12/222)\u001b[K\rremote: Counting objects:   6% (14/222)\u001b[K\rremote: Counting objects:   7% (16/222)\u001b[K\rremote: Counting objects:   8% (18/222)\u001b[K\rremote: Counting objects:   9% (20/222)\u001b[K\rremote: Counting objects:  10% (23/222)\u001b[K\rremote: Counting objects:  11% (25/222)\u001b[K\rremote: Counting objects:  12% (27/222)\u001b[K\rremote: Counting objects:  13% (29/222)\u001b[K\rremote: Counting objects:  14% (32/222)\u001b[K\rremote: Counting objects:  15% (34/222)\u001b[K\rremote: Counting objects:  16% (36/222)\u001b[K\rremote: Counting objects:  17% (38/222)\u001b[K\rremote: Counting objects:  18% (40/222)\u001b[K\rremote: Counting objects:  19% (43/222)\u001b[K\rremote: Counting objects:  20% (45/222)\u001b[K\rremote: Counting objects:  21% (47/222)\u001b[K\rremote: Counting objects:  22% (49/222)\u001b[K\rremote: Counting objects:  23% (52/222)\u001b[K\rremote: Counting objects:  24% (54/222)\u001b[K\rremote: Counting objects:  25% (56/222)\u001b[K\rremote: Counting objects:  26% (58/222)\u001b[K\rremote: Counting objects:  27% (60/222)\u001b[K\rremote: Counting objects:  28% (63/222)\u001b[K\rremote: Counting objects:  29% (65/222)\u001b[K\rremote: Counting objects:  30% (67/222)\u001b[K\rremote: Counting objects:  31% (69/222)\u001b[K\rremote: Counting objects:  32% (72/222)\u001b[K\rremote: Counting objects:  33% (74/222)\u001b[K\rremote: Counting objects:  34% (76/222)\u001b[K\rremote: Counting objects:  35% (78/222)\u001b[K\rremote: Counting objects:  36% (80/222)\u001b[K\rremote: Counting objects:  37% (83/222)\u001b[K\rremote: Counting objects:  38% (85/222)\u001b[K\rremote: Counting objects:  39% (87/222)\u001b[K\rremote: Counting objects:  40% (89/222)\u001b[K\rremote: Counting objects:  41% (92/222)\u001b[K\rremote: Counting objects:  42% (94/222)\u001b[K\rremote: Counting objects:  43% (96/222)\u001b[K\rremote: Counting objects:  44% (98/222)\u001b[K\rremote: Counting objects:  45% (100/222)\u001b[K\rremote: Counting objects:  46% (103/222)\u001b[K\rremote: Counting objects:  47% (105/222)\u001b[K\rremote: Counting objects:  48% (107/222)\u001b[K\rremote: Counting objects:  49% (109/222)\u001b[K\rremote: Counting objects:  50% (111/222)\u001b[K\rremote: Counting objects:  51% (114/222)\u001b[K\rremote: Counting objects:  52% (116/222)\u001b[K\rremote: Counting objects:  53% (118/222)\u001b[K\rremote: Counting objects:  54% (120/222)\u001b[K\rremote: Counting objects:  55% (123/222)\u001b[K\rremote: Counting objects:  56% (125/222)\u001b[K\rremote: Counting objects:  57% (127/222)\u001b[K\rremote: Counting objects:  58% (129/222)\u001b[K\rremote: Counting objects:  59% (131/222)\u001b[K\rremote: Counting objects:  60% (134/222)\u001b[K\rremote: Counting objects:  61% (136/222)\u001b[K\rremote: Counting objects:  62% (138/222)\u001b[K\rremote: Counting objects:  63% (140/222)\u001b[K\rremote: Counting objects:  64% (143/222)\u001b[K\rremote: Counting objects:  65% (145/222)\u001b[K\rremote: Counting objects:  66% (147/222)\u001b[K\rremote: Counting objects:  67% (149/222)\u001b[K\rremote: Counting objects:  68% (151/222)\u001b[K\rremote: Counting objects:  69% (154/222)\u001b[K\rremote: Counting objects:  70% (156/222)\u001b[K\rremote: Counting objects:  71% (158/222)\u001b[K\rremote: Counting objects:  72% (160/222)\u001b[K\rremote: Counting objects:  73% (163/222)\u001b[K\rremote: Counting objects:  74% (165/222)\u001b[K\rremote: Counting objects:  75% (167/222)\u001b[K\rremote: Counting objects:  76% (169/222)\u001b[K\rremote: Counting objects:  77% (171/222)\u001b[K\rremote: Counting objects:  78% (174/222)\u001b[K\rremote: Counting objects:  79% (176/222)\u001b[K\rremote: Counting objects:  80% (178/222)\u001b[K\rremote: Counting objects:  81% (180/222)\u001b[K\rremote: Counting objects:  82% (183/222)\u001b[K\rremote: Counting objects:  83% (185/222)\u001b[K\rremote: Counting objects:  84% (187/222)\u001b[K\rremote: Counting objects:  85% (189/222)\u001b[K\rremote: Counting objects:  86% (191/222)\u001b[K\rremote: Counting objects:  87% (194/222)\u001b[K\rremote: Counting objects:  88% (196/222)\u001b[K\rremote: Counting objects:  89% (198/222)\u001b[K\rremote: Counting objects:  90% (200/222)\u001b[K\rremote: Counting objects:  91% (203/222)\u001b[K\rremote: Counting objects:  92% (205/222)\u001b[K\rremote: Counting objects:  93% (207/222)\u001b[K\rremote: Counting objects:  94% (209/222)\u001b[K\rremote: Counting objects:  95% (211/222)\u001b[K\rremote: Counting objects:  96% (214/222)\u001b[K\rremote: Counting objects:  97% (216/222)\u001b[K\rremote: Counting objects:  98% (218/222)\u001b[K\rremote: Counting objects:  99% (220/222)\u001b[K\rremote: Counting objects: 100% (222/222)\u001b[K\rremote: Counting objects: 100% (222/222), done.\u001b[K\n",
            "remote: Compressing objects:   0% (1/140)\u001b[K\rremote: Compressing objects:   1% (2/140)\u001b[K\rremote: Compressing objects:   2% (3/140)\u001b[K\rremote: Compressing objects:   3% (5/140)\u001b[K\rremote: Compressing objects:   4% (6/140)\u001b[K\rremote: Compressing objects:   5% (7/140)\u001b[K\rremote: Compressing objects:   6% (9/140)\u001b[K\rremote: Compressing objects:   7% (10/140)\u001b[K\rremote: Compressing objects:   8% (12/140)\u001b[K\rremote: Compressing objects:   9% (13/140)\u001b[K\rremote: Compressing objects:  10% (14/140)\u001b[K\rremote: Compressing objects:  11% (16/140)\u001b[K\rremote: Compressing objects:  12% (17/140)\u001b[K\rremote: Compressing objects:  13% (19/140)\u001b[K\rremote: Compressing objects:  14% (20/140)\u001b[K\rremote: Compressing objects:  15% (21/140)\u001b[K\rremote: Compressing objects:  16% (23/140)\u001b[K\rremote: Compressing objects:  17% (24/140)\u001b[K\rremote: Compressing objects:  18% (26/140)\u001b[K\rremote: Compressing objects:  19% (27/140)\u001b[K\rremote: Compressing objects:  20% (28/140)\u001b[K\rremote: Compressing objects:  21% (30/140)\u001b[K\rremote: Compressing objects:  22% (31/140)\u001b[K\rremote: Compressing objects:  23% (33/140)\u001b[K\rremote: Compressing objects:  24% (34/140)\u001b[K\rremote: Compressing objects:  25% (35/140)\u001b[K\rremote: Compressing objects:  26% (37/140)\u001b[K\rremote: Compressing objects:  27% (38/140)\u001b[K\rremote: Compressing objects:  28% (40/140)\u001b[K\rremote: Compressing objects:  29% (41/140)\u001b[K\rremote: Compressing objects:  30% (42/140)\u001b[K\rremote: Compressing objects:  31% (44/140)\u001b[K\rremote: Compressing objects:  32% (45/140)\u001b[K\rremote: Compressing objects:  33% (47/140)\u001b[K\rremote: Compressing objects:  34% (48/140)\u001b[K\rremote: Compressing objects:  35% (49/140)\u001b[K\rremote: Compressing objects:  36% (51/140)\u001b[K\rremote: Compressing objects:  37% (52/140)\u001b[K\rremote: Compressing objects:  38% (54/140)\u001b[K\rremote: Compressing objects:  39% (55/140)\u001b[K\rremote: Compressing objects:  40% (56/140)\u001b[K\rremote: Compressing objects:  41% (58/140)\u001b[K\rremote: Compressing objects:  42% (59/140)\u001b[K\rremote: Compressing objects:  43% (61/140)\u001b[K\rremote: Compressing objects:  44% (62/140)\u001b[K\rremote: Compressing objects:  45% (63/140)\u001b[K\rremote: Compressing objects:  46% (65/140)\u001b[K\rremote: Compressing objects:  47% (66/140)\u001b[K\rremote: Compressing objects:  48% (68/140)\u001b[K\rremote: Compressing objects:  49% (69/140)\u001b[K\rremote: Compressing objects:  50% (70/140)\u001b[K\rremote: Compressing objects:  51% (72/140)\u001b[K\rremote: Compressing objects:  52% (73/140)\u001b[K\rremote: Compressing objects:  53% (75/140)\u001b[K\rremote: Compressing objects:  54% (76/140)\u001b[K\rremote: Compressing objects:  55% (77/140)\u001b[K\rremote: Compressing objects:  56% (79/140)\u001b[K\rremote: Compressing objects:  57% (80/140)\u001b[K\rremote: Compressing objects:  58% (82/140)\u001b[K\rremote: Compressing objects:  59% (83/140)\u001b[K\rremote: Compressing objects:  60% (84/140)\u001b[K\rremote: Compressing objects:  61% (86/140)\u001b[K\rremote: Compressing objects:  62% (87/140)\u001b[K\rremote: Compressing objects:  63% (89/140)\u001b[K\rremote: Compressing objects:  64% (90/140)\u001b[K\rremote: Compressing objects:  65% (91/140)\u001b[K\rremote: Compressing objects:  66% (93/140)\u001b[K\rremote: Compressing objects:  67% (94/140)\u001b[K\rremote: Compressing objects:  68% (96/140)\u001b[K\rremote: Compressing objects:  69% (97/140)\u001b[K\rremote: Compressing objects:  70% (98/140)\u001b[K\rremote: Compressing objects:  71% (100/140)\u001b[K\rremote: Compressing objects:  72% (101/140)\u001b[K\rremote: Compressing objects:  73% (103/140)\u001b[K\rremote: Compressing objects:  74% (104/140)\u001b[K\rremote: Compressing objects:  75% (105/140)\u001b[K\rremote: Compressing objects:  76% (107/140)\u001b[K\rremote: Compressing objects:  77% (108/140)\u001b[K\rremote: Compressing objects:  78% (110/140)\u001b[K\rremote: Compressing objects:  79% (111/140)\u001b[K\rremote: Compressing objects:  80% (112/140)\u001b[K\rremote: Compressing objects:  81% (114/140)\u001b[K\rremote: Compressing objects:  82% (115/140)\u001b[K\rremote: Compressing objects:  83% (117/140)\u001b[K\rremote: Compressing objects:  84% (118/140)\u001b[K\rremote: Compressing objects:  85% (119/140)\u001b[K\rremote: Compressing objects:  86% (121/140)\u001b[K\rremote: Compressing objects:  87% (122/140)\u001b[K\rremote: Compressing objects:  88% (124/140)\u001b[K\rremote: Compressing objects:  89% (125/140)\u001b[K\rremote: Compressing objects:  90% (126/140)\u001b[K\rremote: Compressing objects:  91% (128/140)\u001b[K\rremote: Compressing objects:  92% (129/140)\u001b[K\rremote: Compressing objects:  93% (131/140)\u001b[K\rremote: Compressing objects:  94% (132/140)\u001b[K\rremote: Compressing objects:  95% (133/140)\u001b[K\rremote: Compressing objects:  96% (135/140)\u001b[K\rremote: Compressing objects:  97% (136/140)\u001b[K\rremote: Compressing objects:  98% (138/140)\u001b[K\rremote: Compressing objects:  99% (139/140)\u001b[K\rremote: Compressing objects: 100% (140/140)\u001b[K\rremote: Compressing objects: 100% (140/140), done.\u001b[K\n",
            "remote: Total 863 (delta 146), reused 124 (delta 82), pack-reused 641\u001b[K\n",
            "Receiving objects: 100% (863/863), 444.75 KiB | 18.53 MiB/s, done.\n",
            "Resolving deltas: 100% (536/536), done.\n",
            "/content/optim_raianars_Insight/Raianars_paper_One/optim_raianars_Insight/Raianars_Routines/functions_cec2014_data/Raianars_paper_One/ANN_read_matrix/optim_raianars_Insight/Raianars_paper_One/optim_raianars_Insight/Raianars_Routines/functions_cec2014_data/Raianars_paper_One/ANN_read_matrix/optim_raianars_Insight/Raianars_paper_One/optim_raianars_Insight/Raianars_Routines/functions_cec2014_data/Raianars_paper_One/ANN_read_matrix/optim_raianars_Insight\n"
          ]
        }
      ]
    },
    {
      "cell_type": "code",
      "metadata": {
        "id": "Va-6Xios8RjU",
        "colab": {
          "base_uri": "https://localhost:8080/"
        },
        "outputId": "6a80fe04-a53a-430e-d58d-d510b18cc299"
      },
      "source": [
        "!git clone https://github.com/ucfilho/Raianars_paper_One #clonar do Github\n",
        "%cd Raianars_paper_One"
      ],
      "execution_count": null,
      "outputs": [
        {
          "output_type": "stream",
          "name": "stdout",
          "text": [
            "Cloning into 'Raianars_paper_One'...\n",
            "remote: Enumerating objects: 277, done.\u001b[K\n",
            "remote: Counting objects: 100% (148/148), done.\u001b[K\n",
            "remote: Compressing objects: 100% (65/65), done.\u001b[K\n",
            "remote: Total 277 (delta 83), reused 142 (delta 82), pack-reused 129\u001b[K\n",
            "Receiving objects: 100% (277/277), 667.30 KiB | 1.85 MiB/s, done.\n",
            "Resolving deltas: 100% (155/155), done.\n",
            "/content/optim_raianars_Insight/Raianars_paper_One/optim_raianars_Insight/Raianars_Routines/functions_cec2014_data/Raianars_paper_One/ANN_read_matrix/optim_raianars_Insight/Raianars_paper_One/optim_raianars_Insight/Raianars_Routines/functions_cec2014_data/Raianars_paper_One/ANN_read_matrix/optim_raianars_Insight/Raianars_paper_One/optim_raianars_Insight/Raianars_Routines/functions_cec2014_data/Raianars_paper_One/ANN_read_matrix/optim_raianars_Insight/Raianars_paper_One\n"
          ]
        }
      ]
    },
    {
      "cell_type": "code",
      "metadata": {
        "id": "_E15mKFURR6O"
      },
      "source": [
        "#import Go2Ann\n",
        "#import de_soma_Insight\n",
        "#import de_bounds_matriz\n",
        "#import Function\n",
        "import Go2MinMax\n",
        "from AvaliaX import AvaliaX\n",
        "import numpy as np\n",
        "import scipy.stats\n",
        "import random\n",
        "from GeraIndices import GeraIndices\n",
        "import numpy as np\n",
        "import time\n",
        "import matplotlib.pyplot as plt\n",
        "from random import randint\n",
        "from scipy import optimize\n",
        "import pandas as pd\n",
        "from sklearn.metrics import confusion_matrix"
      ],
      "execution_count": null,
      "outputs": []
    },
    {
      "cell_type": "code",
      "metadata": {
        "id": "ik3ZjkUKycUK",
        "colab": {
          "base_uri": "https://localhost:8080/"
        },
        "outputId": "69f4a033-35db-4075-a947-155e6f2d29fc"
      },
      "source": [
        "############################### Importar códigos\n",
        "!git clone https://github.com/ucfilho/optim_raianars_Insight/ #clonar do Github\n",
        "%cd optim_raianars_Insight\n",
        "import de_soma_Insight\n",
        "import de_bounds_matriz"
      ],
      "execution_count": null,
      "outputs": [
        {
          "output_type": "stream",
          "name": "stdout",
          "text": [
            "Cloning into 'optim_raianars_Insight'...\n",
            "remote: Enumerating objects: 863, done.\u001b[K\n",
            "remote: Counting objects: 100% (222/222), done.\u001b[K\n",
            "remote: Compressing objects: 100% (140/140), done.\u001b[K\n",
            "remote: Total 863 (delta 146), reused 124 (delta 82), pack-reused 641\u001b[K\n",
            "Receiving objects: 100% (863/863), 444.75 KiB | 1.30 MiB/s, done.\n",
            "Resolving deltas: 100% (536/536), done.\n",
            "/content/optim_raianars_Insight/Raianars_paper_One/optim_raianars_Insight/Raianars_Routines/functions_cec2014_data/Raianars_paper_One/ANN_read_matrix/optim_raianars_Insight/Raianars_paper_One/optim_raianars_Insight/Raianars_Routines/functions_cec2014_data/Raianars_paper_One/ANN_read_matrix/optim_raianars_Insight/Raianars_paper_One/optim_raianars_Insight/Raianars_Routines/functions_cec2014_data/Raianars_paper_One/ANN_read_matrix/optim_raianars_Insight/Raianars_paper_One/optim_raianars_Insight\n"
          ]
        }
      ]
    },
    {
      "cell_type": "code",
      "metadata": {
        "id": "lJogRB30yepw",
        "colab": {
          "base_uri": "https://localhost:8080/"
        },
        "outputId": "a9494dc6-e8d2-4afe-c7d4-534c01343a30"
      },
      "source": [
        "#!git clone https://github.com/ucfilho/Raianars_paper_One #clonar do Github\n",
        "#%cd Raianars_paper_One\n",
        "\n",
        "!git clone https://github.com/ucfilho/Raianars_Routines #clonar do Github\n",
        "%cd Raianars_Routines"
      ],
      "execution_count": null,
      "outputs": [
        {
          "output_type": "stream",
          "name": "stdout",
          "text": [
            "Cloning into 'Raianars_Routines'...\n",
            "remote: Enumerating objects: 77, done.\u001b[K\n",
            "remote: Counting objects: 100% (77/77), done.\u001b[K\n",
            "remote: Compressing objects: 100% (73/73), done.\u001b[K\n",
            "remote: Total 77 (delta 23), reused 0 (delta 0), pack-reused 0\u001b[K\n",
            "Unpacking objects: 100% (77/77), done.\n",
            "/content/optim_raianars_Insight/Raianars_paper_One/optim_raianars_Insight/Raianars_Routines/functions_cec2014_data/Raianars_paper_One/ANN_read_matrix/optim_raianars_Insight/Raianars_paper_One/optim_raianars_Insight/Raianars_Routines/functions_cec2014_data/Raianars_paper_One/ANN_read_matrix/optim_raianars_Insight/Raianars_paper_One/optim_raianars_Insight/Raianars_Routines/functions_cec2014_data/Raianars_paper_One/ANN_read_matrix/optim_raianars_Insight/Raianars_paper_One/optim_raianars_Insight/Raianars_Routines\n"
          ]
        }
      ]
    },
    {
      "cell_type": "code",
      "source": [
        "!git clone https://github.com/ucfilho/functions_cec2014_data\n",
        "%cd functions_cec2014_data\n",
        "import F1_to_F27_cec2014_zero_to_hero\n",
        "import cec2014_names\n",
        "import cec2014_shift_rotate"
      ],
      "metadata": {
        "id": "Z66tL-D0qM1H",
        "colab": {
          "base_uri": "https://localhost:8080/"
        },
        "outputId": "cf785271-1041-4212-c9d6-7ac126453de0"
      },
      "execution_count": null,
      "outputs": [
        {
          "output_type": "stream",
          "name": "stdout",
          "text": [
            "Cloning into 'functions_cec2014_data'...\n",
            "remote: Enumerating objects: 300, done.\u001b[K\n",
            "remote: Counting objects: 100% (297/297), done.\u001b[K\n",
            "remote: Compressing objects: 100% (117/117), done.\u001b[K\n",
            "remote: Total 300 (delta 182), reused 290 (delta 178), pack-reused 3\u001b[K\n",
            "Receiving objects: 100% (300/300), 466.45 KiB | 1.30 MiB/s, done.\n",
            "Resolving deltas: 100% (182/182), done.\n",
            "/content/optim_raianars_Insight/Raianars_paper_One/optim_raianars_Insight/Raianars_Routines/functions_cec2014_data/Raianars_paper_One/ANN_read_matrix/optim_raianars_Insight/Raianars_paper_One/optim_raianars_Insight/Raianars_Routines/functions_cec2014_data/Raianars_paper_One/ANN_read_matrix/optim_raianars_Insight/Raianars_paper_One/optim_raianars_Insight/Raianars_Routines/functions_cec2014_data/Raianars_paper_One/ANN_read_matrix/optim_raianars_Insight/Raianars_paper_One/optim_raianars_Insight/Raianars_Routines/functions_cec2014_data\n"
          ]
        }
      ]
    },
    {
      "cell_type": "code",
      "source": [
        "function_select = 'F2'\n",
        "Function = F1_to_F27_cec2014_zero_to_hero.F2\n",
        "Shift_Rotate= cec2014_shift_rotate.F2\n",
        "problem_size = 30 # possibles 2, 10, 20, 30, 50, 100"
      ],
      "metadata": {
        "id": "hN3HYnHmqX3f"
      },
      "execution_count": null,
      "outputs": []
    },
    {
      "cell_type": "code",
      "source": [
        "dim = problem_size "
      ],
      "metadata": {
        "id": "yCggKdhhtnp1"
      },
      "execution_count": null,
      "outputs": []
    },
    {
      "cell_type": "code",
      "source": [
        "f_matrix = \"M_\"+function_select[1:]+\"_D\"+str(problem_size) + \".txt\"\n",
        "shift_data_file=\"shift_data_\"+function_select[1:]+\".txt\"\n",
        "F_bias = cec2014_names.BiasValue()[function_select]\n",
        "type_fun = cec2014_names.TypeFunctions()[function_select]\n",
        "Function_CEC2014 =function_select + \"_\" + cec2014_names.NamesFunctions()[function_select]+\"_D_\"+str(problem_size)"
      ],
      "metadata": {
        "id": "r5pD3VaXqYAj"
      },
      "execution_count": null,
      "outputs": []
    },
    {
      "cell_type": "code",
      "source": [
        "!pip install --upgrade --no-cache-dir gdown"
      ],
      "metadata": {
        "id": "QFsJfpK3qfQy",
        "colab": {
          "base_uri": "https://localhost:8080/"
        },
        "outputId": "e04c5062-bd7c-47e5-b0da-9c71d445bae2"
      },
      "execution_count": null,
      "outputs": [
        {
          "output_type": "stream",
          "name": "stdout",
          "text": [
            "Looking in indexes: https://pypi.org/simple, https://us-python.pkg.dev/colab-wheels/public/simple/\n",
            "Requirement already satisfied: gdown in /usr/local/lib/python3.7/dist-packages (4.4.0)\n",
            "Requirement already satisfied: filelock in /usr/local/lib/python3.7/dist-packages (from gdown) (3.7.0)\n",
            "Requirement already satisfied: requests[socks] in /usr/local/lib/python3.7/dist-packages (from gdown) (2.23.0)\n",
            "Requirement already satisfied: beautifulsoup4 in /usr/local/lib/python3.7/dist-packages (from gdown) (4.6.3)\n",
            "Requirement already satisfied: tqdm in /usr/local/lib/python3.7/dist-packages (from gdown) (4.64.0)\n",
            "Requirement already satisfied: six in /usr/local/lib/python3.7/dist-packages (from gdown) (1.15.0)\n",
            "Requirement already satisfied: certifi>=2017.4.17 in /usr/local/lib/python3.7/dist-packages (from requests[socks]->gdown) (2022.5.18.1)\n",
            "Requirement already satisfied: urllib3!=1.25.0,!=1.25.1,<1.26,>=1.21.1 in /usr/local/lib/python3.7/dist-packages (from requests[socks]->gdown) (1.24.3)\n",
            "Requirement already satisfied: idna<3,>=2.5 in /usr/local/lib/python3.7/dist-packages (from requests[socks]->gdown) (2.10)\n",
            "Requirement already satisfied: chardet<4,>=3.0.2 in /usr/local/lib/python3.7/dist-packages (from requests[socks]->gdown) (3.0.4)\n",
            "Requirement already satisfied: PySocks!=1.5.7,>=1.5.6 in /usr/local/lib/python3.7/dist-packages (from requests[socks]->gdown) (1.7.1)\n"
          ]
        }
      ]
    },
    {
      "cell_type": "code",
      "source": [
        "# !gdown --id 1yM-cGzp7F35bXZ-f80uoJHzGqAb52CPz\n",
        "# https://drive.google.com/file/d/1yM-cGzp7F35bXZ-f80uoJHzGqAb52CPz/view?usp=sharing\n",
        "!gdown --id 1yM-cGzp7F35bXZ-f80uoJHzGqAb52CPz"
      ],
      "metadata": {
        "id": "bCv2CFD3qp0q",
        "colab": {
          "base_uri": "https://localhost:8080/"
        },
        "outputId": "2202d848-4026-4d98-b32e-bec4dabb693a"
      },
      "execution_count": null,
      "outputs": [
        {
          "output_type": "stream",
          "name": "stdout",
          "text": [
            "/usr/local/lib/python3.7/dist-packages/gdown/cli.py:131: FutureWarning: Option `--id` was deprecated in version 4.3.1 and will be removed in 5.0. You don't need to pass it anymore to use a file ID.\n",
            "  category=FutureWarning,\n",
            "Downloading...\n",
            "From: https://drive.google.com/uc?id=1yM-cGzp7F35bXZ-f80uoJHzGqAb52CPz\n",
            "To: /content/optim_raianars_Insight/Raianars_paper_One/optim_raianars_Insight/Raianars_Routines/functions_cec2014_data/Raianars_paper_One/ANN_read_matrix/optim_raianars_Insight/Raianars_paper_One/optim_raianars_Insight/Raianars_Routines/functions_cec2014_data/Raianars_paper_One/ANN_read_matrix/optim_raianars_Insight/Raianars_paper_One/optim_raianars_Insight/Raianars_Routines/functions_cec2014_data/Raianars_paper_One/ANN_read_matrix/optim_raianars_Insight/Raianars_paper_One/optim_raianars_Insight/Raianars_Routines/functions_cec2014_data/cec2014.zip\n",
            "100% 36.1M/36.1M [00:00<00:00, 277MB/s]\n"
          ]
        }
      ]
    },
    {
      "cell_type": "code",
      "source": [
        "import zipfile\n",
        "file_name = zipfile.ZipFile('cec2014.zip', 'r')\n",
        "file_name.extractall()"
      ],
      "metadata": {
        "id": "-N1Hsa88W-Mr"
      },
      "execution_count": null,
      "outputs": []
    },
    {
      "cell_type": "code",
      "source": [
        "def load_shift_data__(data_file=None):\n",
        "    data = read_csv(data_file, delimiter='\\s+', index_col=False, header=None)\n",
        "    return data.values.reshape((-1))\n",
        "\n",
        "def load_matrix_data__(data_file=None):\n",
        "    data = read_csv(data_file, delimiter='\\s+', index_col=False, header=None)\n",
        "    return data.values"
      ],
      "metadata": {
        "id": "_tEgxfW4qwlt"
      },
      "execution_count": null,
      "outputs": []
    },
    {
      "cell_type": "code",
      "source": [
        "shift_data_a = load_shift_data__(shift_data_file)[:problem_size]\n",
        "matrix_a = load_matrix_data__(f_matrix)\n",
        "if (type_fun == 'hybrid'):\n",
        "  f_shuffle = \"shuffle_data_\"+function_select[1:]+\"_D\"+str(problem_size) + \".txt\"\n",
        "  shuffle = (load_shift_data__(f_shuffle)[:problem_size] - np.ones(problem_size)).astype(int)\n",
        "else:\n",
        "  shuffle = matrix_a"
      ],
      "metadata": {
        "id": "NJVx_raoq9GU"
      },
      "execution_count": null,
      "outputs": []
    },
    {
      "cell_type": "code",
      "source": [
        "SUPPORT_DIMENSION = [2, 10, 20, 30, 50, 100]\n",
        "SUPPORT_DIMENSION_2 = [10, 20, 30, 50, 100]\n",
        "\n",
        "#def Fun(solution,shift_data=shift_data_a, matrix=matrix_a, shuffle):#, bias=F_bias):\n",
        "def CEC2014(solution, shift_data ,  matrix, shuffle):#, bias=F_bias):\n",
        "  if(type_fun == 'shift_rotate'):\n",
        "    z = Shift_Rotate(solution , shift_data , matrix,shuffle)\n",
        "    result = Function(z) + F_bias\n",
        "  elif(type_fun =='hybrid'): # F17 to F22\n",
        "    z = Shift_Rotate(solution , shift_data , matrix,shuffle)\n",
        "    result = z + F_bias\n",
        " \n",
        "  return result"
      ],
      "metadata": {
        "id": "AF2E2EIwrC8o"
      },
      "execution_count": null,
      "outputs": []
    },
    {
      "cell_type": "code",
      "source": [
        " shift_data = shift_data_a\n",
        " matrix = matrix_a\n",
        " shuffle = shuffle\n",
        " def Hybrid(solution):\n",
        "   resp = CEC2014(solution, shift_data = shift_data_a, matrix = matrix_a, shuffle = shuffle)\n",
        "   return resp"
      ],
      "metadata": {
        "id": "jIcMJI-UrK8V"
      },
      "execution_count": null,
      "outputs": []
    },
    {
      "cell_type": "code",
      "source": [
        "!git clone https://github.com/ucfilho/Raianars_paper_One #clonar do Github\n",
        "%cd Raianars_paper_One"
      ],
      "metadata": {
        "id": "9Vsz9VQRrLVf",
        "colab": {
          "base_uri": "https://localhost:8080/"
        },
        "outputId": "e65084b1-c2bc-4313-fa4e-964e8932f2bf"
      },
      "execution_count": null,
      "outputs": [
        {
          "output_type": "stream",
          "name": "stdout",
          "text": [
            "Cloning into 'Raianars_paper_One'...\n",
            "remote: Enumerating objects: 277, done.\u001b[K\n",
            "remote: Counting objects: 100% (148/148), done.\u001b[K\n",
            "remote: Compressing objects: 100% (65/65), done.\u001b[K\n",
            "remote: Total 277 (delta 83), reused 142 (delta 82), pack-reused 129\u001b[K\n",
            "Receiving objects: 100% (277/277), 667.30 KiB | 1.81 MiB/s, done.\n",
            "Resolving deltas: 100% (155/155), done.\n",
            "/content/optim_raianars_Insight/Raianars_paper_One/optim_raianars_Insight/Raianars_Routines/functions_cec2014_data/Raianars_paper_One/ANN_read_matrix/optim_raianars_Insight/Raianars_paper_One/optim_raianars_Insight/Raianars_Routines/functions_cec2014_data/Raianars_paper_One/ANN_read_matrix/optim_raianars_Insight/Raianars_paper_One/optim_raianars_Insight/Raianars_Routines/functions_cec2014_data/Raianars_paper_One/ANN_read_matrix/optim_raianars_Insight/Raianars_paper_One/optim_raianars_Insight/Raianars_Routines/functions_cec2014_data/Raianars_paper_One\n"
          ]
        }
      ]
    },
    {
      "cell_type": "code",
      "source": [
        "MAX=np.repeat(100,dim)\n",
        "MIN=np.repeat(-100,dim)\n",
        "\n",
        "bounds=[]\n",
        "for k in range(len(MAX)):\n",
        "  bounds.append((MIN[k],MAX[k]))"
      ],
      "metadata": {
        "id": "ukk5Twiiq0MN"
      },
      "execution_count": null,
      "outputs": []
    },
    {
      "cell_type": "code",
      "metadata": {
        "id": "qTINtQ1cosZK",
        "colab": {
          "base_uri": "https://localhost:8080/"
        },
        "outputId": "9f78956c-67fe-4b35-f782-6e88ad319089"
      },
      "source": [
        "!git clone https://github.com/ucfilho/ANN_read_matrix #clonar do Github\n",
        "%cd ANN_read_matrix"
      ],
      "execution_count": null,
      "outputs": [
        {
          "output_type": "stream",
          "name": "stdout",
          "text": [
            "Cloning into 'ANN_read_matrix'...\n",
            "remote: Enumerating objects: 20, done.\u001b[K\n",
            "remote: Total 20 (delta 0), reused 0 (delta 0), pack-reused 20\u001b[K\n",
            "Unpacking objects: 100% (20/20), done.\n",
            "/content/optim_raianars_Insight/Raianars_paper_One/optim_raianars_Insight/Raianars_Routines/functions_cec2014_data/Raianars_paper_One/ANN_read_matrix/optim_raianars_Insight/Raianars_paper_One/optim_raianars_Insight/Raianars_Routines/functions_cec2014_data/Raianars_paper_One/ANN_read_matrix/optim_raianars_Insight/Raianars_paper_One/optim_raianars_Insight/Raianars_Routines/functions_cec2014_data/Raianars_paper_One/ANN_read_matrix/optim_raianars_Insight/Raianars_paper_One/optim_raianars_Insight/Raianars_Routines/functions_cec2014_data/Raianars_paper_One/ANN_read_matrix\n"
          ]
        }
      ]
    },
    {
      "cell_type": "code",
      "metadata": {
        "id": "QiQLYOoNoyCw"
      },
      "source": [
        "ANN_F=pd.read_csv('ANN_INSIGHT_Valor_F.csv')"
      ],
      "execution_count": null,
      "outputs": []
    },
    {
      "cell_type": "code",
      "metadata": {
        "id": "uHtW2amaDzFv"
      },
      "source": [
        "ANN_CR=pd.read_csv('ANN_INSIGHT_CR.csv')"
      ],
      "execution_count": null,
      "outputs": []
    },
    {
      "cell_type": "code",
      "metadata": {
        "id": "EH6h_vke2yu1"
      },
      "source": [
        "syn0_F,syn1_F,X_max_F,X_min_F=Go2Ann.GetMatriz(ANN_F)"
      ],
      "execution_count": null,
      "outputs": []
    },
    {
      "cell_type": "code",
      "metadata": {
        "id": "WW_3ZWJXD60i"
      },
      "source": [
        "syn0_CR,syn1_CR,X_max_CR,X_min_CR=Go2Ann.GetMatriz(ANN_CR)"
      ],
      "execution_count": null,
      "outputs": []
    },
    {
      "cell_type": "code",
      "metadata": {
        "id": "b4gwBvVTyaXh"
      },
      "source": [
        "ANN_CR=pd.read_csv('ANN_INSIGHT_CR.csv')"
      ],
      "execution_count": null,
      "outputs": []
    },
    {
      "cell_type": "code",
      "metadata": {
        "id": "6jL8MxpHvk-Y"
      },
      "source": [
        "fields = ['DI RELATIVO','FRAC Its','Fo','CRo']"
      ],
      "execution_count": null,
      "outputs": []
    },
    {
      "cell_type": "code",
      "metadata": {
        "id": "Mb3LmbSmj9v7",
        "colab": {
          "base_uri": "https://localhost:8080/"
        },
        "outputId": "e66601ed-c02c-47d5-846f-406c7cb82113"
      },
      "source": [
        "##################################### \n",
        "\n",
        "TOTAL=10*dim*its*ITE\n",
        "TOTAL=int(TOTAL/2)   # CONFERIR SE ESTE EH O MELHOR LUGAR\n",
        "\n",
        "#dimensions=len(MAX)\n",
        "dimensions=dim\n",
        "start_time = time.time() #INICIALIZA CONTAGEM DO TEMPO\n",
        "\n",
        "\n",
        "PAR=dim\n",
        "Fun = Function\n",
        "fobj=Fun\n",
        "\n",
        "MAX_P=np.zeros(ITE) # ATENCAO para variar F e Cr MAX_P passa a ser 3 vezes maior\n",
        "MIN_P=np.zeros(ITE) # ATENCAO para variar F e Cr MIN_P passa a ser 3 vezes maior\n",
        "\n",
        "for i in range(dim):\n",
        "  MAX_P[i]=MAX[i] \n",
        "  MIN_P[i]=MIN[i]\n",
        "\n",
        "rodadas=1\n",
        "NPAR1=int(fator*NPAR);\n",
        "NPAR2=int((NPAR-NPAR1)/3);\n",
        "NPAR3=int((NPAR-NPAR1)/3);\n",
        "NPAR4=int((NPAR-NPAR1)/3);\n",
        "NPAR1 = NPAR-3*NPAR2\n",
        "print('frac=',fator);\n",
        "print('Npar1=',NPAR1);\n",
        "print('Npar2=',NPAR2);\n",
        "print('Npar3=',NPAR3);\n",
        "print('Npar4=',NPAR4);\n",
        "print('Npar=',NPAR)\n",
        "\n",
        "cols=dim\n",
        "\n",
        "X1=np.zeros((NPAR1,cols)) # X1 is Frannk population\n",
        "for i in range(NPAR1):\n",
        "  for j in range(cols):\n",
        "    r=np.random.random()\n",
        "    X1[i,j]=r*(MAX[j]-MIN[j])+MIN[j]\n",
        "    \n",
        "X2=np.zeros((NPAR2,cols)) # X2 is population DE (default DE)\n",
        "for i in range(NPAR2):\n",
        "  for j in range(cols):\n",
        "    r=np.random.random()\n",
        "    X2[i,j]=r*(MAX[j]-MIN[j])+MIN[j]\n",
        "\n",
        "X3=np.zeros((NPAR3,cols)) # X1 is Frannk population\n",
        "for i in range(NPAR3):\n",
        "  for j in range(cols):\n",
        "    r=np.random.random()\n",
        "    X3[i,j]=r*(MAX[j]-MIN[j])+MIN[j]\n",
        "    \n",
        "X4=np.zeros((NPAR4,cols)) # X2 is population DE (default DE)\n",
        "for i in range(NPAR4):\n",
        "  for j in range(cols):\n",
        "    r=np.random.random()\n",
        "    X4[i,j]=r*(MAX[j]-MIN[j])+MIN[j]\n",
        "    \n",
        " ############################################################\n",
        "  #bounds=[(5*dim, 15*dim)] * PONTOS # ITE\n",
        "  #bounds=[(3*dim, 12*dim)] * PONTOS # ITE\n",
        "  #bounds=[(4*dim, 16*dim)] * PONTOS\n",
        "  \n",
        "  # nao pode ser assim pq o bounds vale p o DE nao dos parametros\n",
        "  #p=int(TOTAL/its/ITE) \n",
        "  #bounds=[(p, p)] * PONTOS\n"
      ],
      "execution_count": null,
      "outputs": [
        {
          "output_type": "stream",
          "name": "stdout",
          "text": [
            "frac= 1.0\n",
            "Npar1= 100\n",
            "Npar2= 0\n",
            "Npar3= 0\n",
            "Npar4= 0\n",
            "Npar= 100\n"
          ]
        }
      ]
    },
    {
      "cell_type": "code",
      "metadata": {
        "id": "rnX8ttNopd1G",
        "colab": {
          "base_uri": "https://localhost:8080/"
        },
        "outputId": "64540716-b9a9-48e1-b521-5ca293cf0ab3"
      },
      "source": [
        "start_time = time.time()\n",
        "BEST_AGENTS=[]\n",
        "MAT_stat=[]\n",
        "for iii in range(RUNS):\n",
        "\n",
        "    FES = 0 ; gen = 0 \n",
        "    MAT=[] \n",
        "    mut=Fi\n",
        "    crossp=CRi\n",
        "    SOMA=0\n",
        "    pop = np.random.rand(NPAR, dim)\n",
        "    diff=np.zeros(PAR)\n",
        "\n",
        "    NPAR = maxNP\n",
        "    # fator = 1.0\n",
        "    NPAR1=int(fator*NPAR);\n",
        "    '''\n",
        "    NPAR2=int((NPAR-NPAR1)/3);\n",
        "    NPAR3=int((NPAR-NPAR1)/3);\n",
        "    NPAR4=int((NPAR-NPAR1)/3);\n",
        "    NPAR1 = NPAR-3*NPAR2\n",
        "    '''\n",
        "\n",
        "    X1=np.zeros((NPAR1,cols)) # X1 is Frannk population\n",
        "    for i in range(NPAR1):\n",
        "      for j in range(cols):\n",
        "        r=np.random.random()\n",
        "        X1[i,j]=r*(MAX[j]-MIN[j])+MIN[j]\n",
        "    '''    \n",
        "    X2=np.zeros((NPAR2,cols)) # X2 is population DE (default DE)\n",
        "    for i in range(NPAR2):\n",
        "      for j in range(cols):\n",
        "        r=np.random.random()\n",
        "        X2[i,j]=r*(MAX[j]-MIN[j])+MIN[j]\n",
        "\n",
        "    X3=np.zeros((NPAR3,cols)) # X2 is population DE (default DE)\n",
        "    for i in range(NPAR3):\n",
        "      for j in range(cols):\n",
        "        r=np.random.random()\n",
        "        X3[i,j]=r*(MAX[j]-MIN[j])+MIN[j]\n",
        "\n",
        "    X4=np.zeros((NPAR4,cols)) # X2 is population DE (default DE)\n",
        "    for i in range(NPAR4):\n",
        "      for j in range(cols):\n",
        "        r=np.random.random()\n",
        "        X4[i,j]=r*(MAX[j]-MIN[j])+MIN[j]\n",
        "    '''\n",
        "    fit1 = np.asarray([fobj(ind) for ind in X1])\n",
        "    best_idx = np.argmin(fit1)\n",
        "    best = X1[best_idx]\n",
        "    fbest = fit1[best_idx] \n",
        "\n",
        "    '''\n",
        "    fit2 = np.asarray([fobj(ind) for ind in X2])\n",
        "    fit3 = np.asarray([fobj(ind) for ind in X3])\n",
        "    fit4 = np.asarray([fobj(ind) for ind in X4])\n",
        "    FES = FES + NPAR1 + NPAR2 + NPAR3+ NPAR4\n",
        "    '''\n",
        "    FES = FES + NPAR1\n",
        "    fit_best =[]\n",
        "    DIo=1e99\n",
        "  \n",
        "    CRo=crossp;Fo=mut;\n",
        "    #Fitness = np.asarray([Fun(ind, shift_data , matrix, shuffle) for ind in X1])\n",
        "    XY,BEST_XY,BESTo,FOBESTo=AvaliaX(X1,fit1 )\n",
        "    nrow,ncol=X1.shape\n",
        "    FES = FES + nrow\n",
        "\n",
        "    QUANT=17;MAT_INDo=np.zeros((1,QUANT)); # quantos indices esta fazendo\n",
        "    MAT_INDo[0,5]=nrow  # VALOR NP\n",
        "    MAT_INDo[0,6]=Fo    # VALOR Fo   \n",
        "    MAT_INDo[0,7]=CRo   # VALOR CRo\n",
        "\n",
        "    Fuma = Fun  # Fuma era Fun\n",
        "  \n",
        "    MAT_INDo=GeraIndices(X1,BESTo,FOBESTo,DIo,MAT_INDo,SOMA,TOTAL,syn0_F,\n",
        "                        syn1_F,X_max_F,X_min_F,syn0_CR,syn1_CR,X_max_CR,\n",
        "                        X_min_CR,Fc,fields,Fuma)\n",
        "  \n",
        "    DIo=np.copy(MAT_INDo[0,0])\n",
        "    MAT_INDo[0,15]=Fo    # VALOR Fo   \n",
        "    MAT_INDo[0,16]=CRo   # VALOR CRo\n",
        "\n",
        "    # Just to intialize variables:\n",
        "    FESr = 0\n",
        "    FOBEST1 = 1E99;FOBEST2 = 1E99;FOBEST3 = 1E99;FOBEST4 = 1E99\n",
        "    #BEST1,BEST2,BEST3,BEST4  =  np.copy(X1[0,:]),np.copy(X2[0,:]),np.copy(X3[0,:]), np.copy(X4[0,:]) \n",
        "    BEST1  =  np.copy(X1[0,:])\n",
        "    popsize = NPAR\n",
        "    FUNCTION = []\n",
        " \n",
        "    MF=[]; MCR=[];\n",
        "    for i in range(H):\n",
        "      MCR.append(MCRi);MF.append(MFi) # line 3\n",
        " \n",
        "    Narquive = popsize\n",
        "    setTUNE =[SF,SCR,MF,MCR,p, terminal, Narquive,H,kH]\n",
        "    while(FESr == 0 ):\n",
        "\n",
        "      #print('FES',FES)\n",
        "\n",
        "      gen = gen +1\n",
        "      ##=cool=#####################################################################################\n",
        "      '''\n",
        "      fback,Xback,BESTback,FOBESTback,FESback= np.copy(fit2),np.copy(X2),BEST2,FOBEST2,FES\n",
        "      fit2,X2,BEST2,FOBEST2,XY2,BEST_XY2,FES=classicDE_FES_new.de(bounds, mut2, crossp2,NPAR2, its,fobj,fit2,X2,FES) # de_bounds_matriz\n",
        "      if(FES > maxFES):\n",
        "        FESr = FES \n",
        "        fit2,X2,BEST2,FOBEST2,FES = np.copy(fback),np.copy(Xback),BESTback,FOBESTback,FESback\n",
        "      \n",
        "      fback,Xback,BESTback,FOBESTback,FESback= np.copy(fit3),np.copy(X3),BEST3,FOBEST3,FES\n",
        "      fit3,X3,BEST3,FOBEST3,XY3,BEST_XY3,FES=classicDE_FES_new.de(bounds, mut3, crossp3,NPAR3, its,fobj,fit3,X3,FES) #de_bounds_matriz\n",
        "      if(FES > maxFES): \n",
        "        FESr = FES\n",
        "        fit3,X3,BEST3,FOBEST3,FES = np.copy(fback),np.copy(Xback),BESTback,FOBESTback,FESback\n",
        "\n",
        "      fback,Xback,BESTback,FOBESTback,FESback= np.copy(fit4),np.copy(X4),BEST4,FOBEST4,FES\n",
        "      fit4,X4,BEST4,FOBEST4,XY4,BEST_XY4,FES=classicDE_FES_new.de(bounds, mut4, crossp4,NPAR4, its,fobj,fit4,X4,FES) # de_bounds_matriz\n",
        "      if(FES > maxFES): \n",
        "        FESr = FES\n",
        "        fit4,X4,BEST4,FOBEST4,FES = np.copy(fback),np.copy(Xback),BESTback,FOBESTback,FESback\n",
        "      '''\n",
        "      \n",
        "      \n",
        "\n",
        "      \n",
        "\n",
        "      fback,Xback,BESTback,FOBESTback,FESback= np.copy(fit1),np.copy(X1),BEST1,FOBEST1,FES\n",
        "      Xarqback = Xarq\n",
        "      #fit1,X1,BEST1,FOBEST1,XY,BEST_XY,FES = annDE_FES_new.de(MAX,MIN, mut, crossp, NPAR1, its,fobj,fit1,X1,FES)\n",
        "      fit1,X1,BEST1,FOBEST1,XY,BEST_XY,FES,Xarq,setTUNE= LShade_new.LShade(MAX,MIN, popsize,fobj,setTUNE,best,fbest,fit1,X1,Xarq,FES)\n",
        "    \n",
        "      if(FES > maxFES):\n",
        "        FESr = FES \n",
        "        fit1,X1,BEST1,FOBEST1,FES = np.copy(fback),np.copy(Xback),BESTback,FOBESTback,FESback\n",
        "        #Xarq = np.copy(Xarqback)\n",
        "        Xarq = Xarqback\n",
        "      calc = (minNP-maxNP)/maxFES*FES+maxNP # Linear Population Size Reduction (LPSR)\n",
        "      calc = int(np.round(calc)) # Linear Population Size Reduction (LPSR) \n",
        "      gen = gen + 1\n",
        "      #fator = 1.0\n",
        "      NPAR = calc\n",
        "      NPAR1=int(fator*NPAR);\n",
        "      NPAR2=int((NPAR-NPAR1)/3);\n",
        "      NPAR3=int((NPAR-NPAR1)/3);\n",
        "      NPAR4=int((NPAR-NPAR1)/3);\n",
        "      NPAR1 = NPAR-3*NPAR2\n",
        "      '''\n",
        "      if(NPAR2 > len(X2[:,0])):\n",
        "        NPAR2 = len(X2[:,0])\n",
        "      '''\n",
        "      if(NPAR1 > len(X1[:,0])):\n",
        "        NPAR1 = len(X1[:,0])\n",
        "\n",
        "      \n",
        "      X1 = X1[:NPAR1,:];\n",
        "      #if(len(Xarq)>0) : Xarq = Xarq[:NPAR1,:]\n",
        "      if(len(Xarq)>0) : Xarq = Xarq[:NPAR1]\n",
        "      # X2 = X2[:NPAR2,:]; X3 = X3[:NPAR3,:]; X4 = X4[:NPAR4,:];\n",
        "      fit1 = fit1[:NPAR1];# fit2 = fit2[:NPAR2]; fit3 = fit3[:NPAR3]; fit4 = fit4[:NPAR4];\n",
        "      popsize = NPAR1\n",
        "      Narquive = popsize\n",
        "      NP = popsize\n",
        "      '''\n",
        "      X1[0,:] = BEST2;X1[1,:] = BEST3; X1[2,:] = BEST4;X1[3,:] = BEST1;\n",
        "      X2[0,:] = BEST1;X2[1,:] = BEST3;X2[2,:] = BEST4;X2[3,:] = BEST2;\n",
        "      X3[0,:] = BEST1;X3[1,:] = BEST2;X3[2,:] = BEST4;X3[3,:] = BEST3;\n",
        "      X4[0,:] = BEST1;X4[1,:] = BEST2;X4[2,:] = BEST3;X4[3,:] = BEST4;\n",
        "      fit1[0] = FOBEST1; fit2[1] = FOBEST2;fit3[0] = FOBEST3; fit4[1] = FOBEST4;\n",
        "      '''\n",
        "    '''\n",
        "    for i in range(FIX):\n",
        "      \n",
        "        Fitback,Xback,BESTback,FOBESTback,FESback= np.copy(fit2), np.copy(X2),BEST2,FOBEST2,FES\n",
        "        \n",
        "        if ( FESr == 0):\n",
        "          Fitback,Xback,BESTback,FOBESTback,FESback= np.copy(X2),BEST2,FOBEST2,FES\n",
        "          fit2,X2,BEST2,FOBEST2,XY2,BEST_XY2,FESr=classicDE_FES_new.de(bounds,mut_best, crossp_best,NPAR2, its,fobj,fit2,X2,FES) # de_bounds_matriz\n",
        "        if ( FESr > 0):\n",
        "          fit2, X2,BEST2,FOBEST2,FES = np.copy(Fitback),np.copy(Xback),BESTback,FOBESTback,FESback\n",
        "\n",
        "\n",
        "        if(FES > maxFES): \n",
        "          fit2, X2,BEST2,FOBEST2,FES = np.copy(Fitback),np.copy(Xback),BESTback,FOBESTback,FESback\n",
        "        \n",
        "        \n",
        "        fit2,X2,BEST2,FOBEST2,XY,BEST_XY, FES= stepsWALK_new.fixWALK(Fun,BEST2,FOBEST2,NPAR2,tunePAR,MAX,MIN,fit2,X2,FIX)\n",
        "        # print('FES',FES)\n",
        "\n",
        "      ############################################################################################\n",
        "      ############################################################################################\n",
        "    \n",
        "    if(FES > maxFES):\n",
        "      fit2,X2,BEST2,FOBEST2,FES = np.copy(Fitback),np.copy(Xback),BESTback,FOBESTback,FESback\n",
        "\n",
        "    FUNCTION.append(FOBEST2)\n",
        "    '''\n",
        "    #setTUNE= [SF,SCR,MF,MCR,p, terminal, Narquive]\n",
        "    setTUNE =[SF,SCR,MF,MCR,p, terminal, Narquive,H,kH]\n",
        "    print('run=',iii,'gen=',gen,'time=',(time.time()-start_time)/60, 'eval FES=', FES,'FO=',FOBEST1)  \n",
        "    BEST_AGENTS.append(BEST_XY)"
      ],
      "execution_count": null,
      "outputs": [
        {
          "metadata": {
            "tags": null
          },
          "name": "stdout",
          "output_type": "stream",
          "text": [
            "=======\n",
            "[0.5, 0.5, 0.5, 0.5, 0.5, 0.5]\n",
            "[0.5, 0.5, 0.5, 0.5, 0.5, 0.5]\n",
            "=======\n",
            "run= 0 gen= 12292 time= 2.567563509941101 eval FES= 300000 FO= 2.5648747925449326e-86\n",
            "=======\n",
            "[0.5, 0.5, 0.5, 0.5, 0.5, 0.5]\n",
            "[0.5, 0.5, 0.5, 0.5, 0.5, 0.5]\n",
            "=======\n",
            "run= 1 gen= 12292 time= 4.910880049069722 eval FES= 300000 FO= 1.6798507651957577e-88\n",
            "=======\n",
            "[0.5, 0.5, 0.5, 0.5, 0.5, 0.5]\n",
            "[0.5, 0.5, 0.5, 0.5, 0.5, 0.5]\n",
            "=======\n",
            "run= 2 gen= 12292 time= 7.242918793360392 eval FES= 300000 FO= 1.3686088126390556e-82\n",
            "=======\n",
            "[0.5, 0.5, 0.5, 0.5, 0.5, 0.5]\n",
            "[0.5, 0.5, 0.5, 0.5, 0.5, 0.5]\n",
            "=======\n",
            "run= 3 gen= 12292 time= 9.566956905523936 eval FES= 300000 FO= 7.71547424909483e-83\n",
            "=======\n",
            "[0.5, 0.5, 0.5, 0.5, 0.5, 0.5]\n",
            "[0.5, 0.5, 0.5, 0.5, 0.5, 0.5]\n",
            "=======\n",
            "run= 4 gen= 12292 time= 11.914695703983307 eval FES= 300000 FO= 4.5015824224641855e-88\n",
            "=======\n",
            "[0.5, 0.5, 0.5, 0.5, 0.5, 0.5]\n",
            "[0.5, 0.5, 0.5, 0.5, 0.5, 0.5]\n",
            "=======\n",
            "run= 5 gen= 12292 time= 14.232878824075064 eval FES= 300000 FO= 1.1273926102537056e-86\n",
            "=======\n",
            "[0.5, 0.5, 0.5, 0.5, 0.5, 0.5]\n",
            "[0.5, 0.5, 0.5, 0.5, 0.5, 0.5]\n",
            "=======\n",
            "run= 6 gen= 12292 time= 16.67677572965622 eval FES= 300000 FO= 7.396637941041147e-90\n",
            "=======\n",
            "[0.5, 0.5, 0.5, 0.5, 0.5, 0.5]\n",
            "[0.5, 0.5, 0.5, 0.5, 0.5, 0.5]\n",
            "=======\n",
            "run= 7 gen= 12292 time= 19.01885588566462 eval FES= 300000 FO= 6.670026852108689e-88\n",
            "=======\n",
            "[0.5, 0.5, 0.5, 0.5, 0.5, 0.5]\n",
            "[0.5, 0.5, 0.5, 0.5, 0.5, 0.5]\n",
            "=======\n",
            "run= 8 gen= 12292 time= 21.361271039644876 eval FES= 300000 FO= 2.2746948417487495e-84\n",
            "=======\n",
            "[0.5, 0.5, 0.5, 0.5, 0.5, 0.5]\n",
            "[0.5, 0.5, 0.5, 0.5, 0.5, 0.5]\n",
            "=======\n",
            "run= 9 gen= 12292 time= 23.679206498463948 eval FES= 300000 FO= 2.3872392608794262e-86\n",
            "=======\n",
            "[0.5, 0.5, 0.5, 0.5, 0.5, 0.5]\n",
            "[0.5, 0.5, 0.5, 0.5, 0.5, 0.5]\n",
            "=======\n",
            "run= 10 gen= 12292 time= 25.99362927277883 eval FES= 300000 FO= 2.2703363194626957e-82\n",
            "=======\n",
            "[0.5, 0.5, 0.5, 0.5, 0.5, 0.5]\n",
            "[0.5, 0.5, 0.5, 0.5, 0.5, 0.5]\n",
            "=======\n",
            "run= 11 gen= 12292 time= 28.3048943956693 eval FES= 300000 FO= 1.664625871185369e-85\n",
            "=======\n",
            "[0.5, 0.5, 0.5, 0.5, 0.5, 0.5]\n",
            "[0.5, 0.5, 0.5, 0.5, 0.5, 0.5]\n",
            "=======\n",
            "run= 12 gen= 12292 time= 30.625304079055788 eval FES= 300000 FO= 3.044230440248726e-86\n",
            "=======\n",
            "[0.5, 0.5, 0.5, 0.5, 0.5, 0.5]\n",
            "[0.5, 0.5, 0.5, 0.5, 0.5, 0.5]\n",
            "=======\n",
            "run= 13 gen= 12292 time= 32.93973069985707 eval FES= 300000 FO= 5.040184928133171e-82\n",
            "=======\n",
            "[0.5, 0.5, 0.5, 0.5, 0.5, 0.5]\n",
            "[0.5, 0.5, 0.5, 0.5, 0.5, 0.5]\n",
            "=======\n",
            "run= 14 gen= 12292 time= 35.245028746128085 eval FES= 300000 FO= 4.5449512614666625e-89\n",
            "=======\n",
            "[0.5, 0.5, 0.5, 0.5, 0.5, 0.5]\n",
            "[0.5, 0.5, 0.5, 0.5, 0.5, 0.5]\n",
            "=======\n",
            "run= 15 gen= 12292 time= 37.55841372807821 eval FES= 300000 FO= 5.683085149537932e-86\n",
            "=======\n",
            "[0.5, 0.5, 0.5, 0.5, 0.5, 0.5]\n",
            "[0.5, 0.5, 0.5, 0.5, 0.5, 0.5]\n",
            "=======\n",
            "run= 16 gen= 12292 time= 39.87382064263026 eval FES= 300000 FO= 3.672371739629933e-89\n",
            "=======\n",
            "[0.5, 0.5, 0.5, 0.5, 0.5, 0.5]\n",
            "[0.5, 0.5, 0.5, 0.5, 0.5, 0.5]\n",
            "=======\n",
            "run= 17 gen= 12292 time= 42.21103767156601 eval FES= 300000 FO= 4.726567565429819e-89\n",
            "=======\n",
            "[0.5, 0.5, 0.5, 0.5, 0.5, 0.5]\n",
            "[0.5, 0.5, 0.5, 0.5, 0.5, 0.5]\n",
            "=======\n",
            "run= 18 gen= 12292 time= 44.5325025955836 eval FES= 300000 FO= 1.055573012764399e-86\n",
            "=======\n",
            "[0.5, 0.5, 0.5, 0.5, 0.5, 0.5]\n",
            "[0.5, 0.5, 0.5, 0.5, 0.5, 0.5]\n",
            "=======\n",
            "run= 19 gen= 12292 time= 46.84810076157252 eval FES= 300000 FO= 1.2900088348078823e-87\n",
            "=======\n",
            "[0.5, 0.5, 0.5, 0.5, 0.5, 0.5]\n",
            "[0.5, 0.5, 0.5, 0.5, 0.5, 0.5]\n",
            "=======\n",
            "run= 20 gen= 12292 time= 49.1718465924263 eval FES= 300000 FO= 1.147932286241005e-86\n",
            "=======\n",
            "[0.5, 0.5, 0.5, 0.5, 0.5, 0.5]\n",
            "[0.5, 0.5, 0.5, 0.5, 0.5, 0.5]\n",
            "=======\n",
            "run= 21 gen= 12292 time= 51.51102909247081 eval FES= 300000 FO= 2.676500666731064e-84\n",
            "=======\n",
            "[0.5, 0.5, 0.5, 0.5, 0.5, 0.5]\n",
            "[0.5, 0.5, 0.5, 0.5, 0.5, 0.5]\n",
            "=======\n",
            "run= 22 gen= 12292 time= 53.83676141500473 eval FES= 300000 FO= 2.953945909026795e-84\n",
            "=======\n",
            "[0.5, 0.5, 0.5, 0.5, 0.5, 0.5]\n",
            "[0.5, 0.5, 0.5, 0.5, 0.5, 0.5]\n",
            "=======\n"
          ]
        },
        {
          "metadata": {
            "tags": null
          },
          "name": "stderr",
          "output_type": "stream",
          "text": [
            "/content/optim_raianars_Insight/LShade_new.py:124: RuntimeWarning: invalid value encountered in double_scalars\n",
            "  MCR[kH] = np.dot(w,y**2)/np.dot(w,y)\n"
          ]
        },
        {
          "output_type": "stream",
          "name": "stdout",
          "text": [
            "run= 23 gen= 12292 time= 56.15648947159449 eval FES= 300000 FO= 1.2458414963069637e-85\n",
            "=======\n",
            "[0.5, 0.5, 0.5, 0.5, 0.5, 0.5]\n",
            "[0.5, 0.5, 0.5, 0.5, 0.5, 0.5]\n",
            "=======\n",
            "run= 24 gen= 12292 time= 58.47784781455994 eval FES= 300000 FO= 2.985763024026049e-84\n",
            "=======\n",
            "[0.5, 0.5, 0.5, 0.5, 0.5, 0.5]\n",
            "[0.5, 0.5, 0.5, 0.5, 0.5, 0.5]\n",
            "=======\n",
            "run= 25 gen= 12292 time= 60.81252104441325 eval FES= 300000 FO= 2.2354380141432283e-88\n",
            "=======\n",
            "[0.5, 0.5, 0.5, 0.5, 0.5, 0.5]\n",
            "[0.5, 0.5, 0.5, 0.5, 0.5, 0.5]\n",
            "=======\n",
            "run= 26 gen= 12292 time= 63.12891494433085 eval FES= 300000 FO= 1.1519197570480613e-84\n",
            "=======\n",
            "[0.5, 0.5, 0.5, 0.5, 0.5, 0.5]\n",
            "[0.5, 0.5, 0.5, 0.5, 0.5, 0.5]\n",
            "=======\n",
            "run= 27 gen= 12292 time= 65.45529530843099 eval FES= 300000 FO= 1.941151472196629e-86\n",
            "=======\n",
            "[0.5, 0.5, 0.5, 0.5, 0.5, 0.5]\n",
            "[0.5, 0.5, 0.5, 0.5, 0.5, 0.5]\n",
            "=======\n",
            "run= 28 gen= 12292 time= 67.76622181336084 eval FES= 300000 FO= 5.73839469756646e-86\n",
            "=======\n",
            "[0.5, 0.5, 0.5, 0.5, 0.5, 0.5]\n",
            "[0.5, 0.5, 0.5, 0.5, 0.5, 0.5]\n",
            "=======\n",
            "run= 29 gen= 12292 time= 70.08922792673111 eval FES= 300000 FO= 4.365282158760326e-87\n",
            "=======\n",
            "[0.5, 0.5, 0.5, 0.5, 0.5, 0.5]\n",
            "[0.5, 0.5, 0.5, 0.5, 0.5, 0.5]\n",
            "=======\n",
            "run= 30 gen= 12292 time= 72.46376112302144 eval FES= 300000 FO= 7.193043066828454e-85\n",
            "=======\n",
            "[0.5, 0.5, 0.5, 0.5, 0.5, 0.5]\n",
            "[0.5, 0.5, 0.5, 0.5, 0.5, 0.5]\n",
            "=======\n",
            "run= 31 gen= 12292 time= 74.79181216955185 eval FES= 300000 FO= 1.2800334930181523e-85\n",
            "=======\n",
            "[0.5, 0.5, 0.5, 0.5, 0.5, 0.5]\n",
            "[0.5, 0.5, 0.5, 0.5, 0.5, 0.5]\n",
            "=======\n",
            "run= 32 gen= 12292 time= 77.11646602948507 eval FES= 300000 FO= 1.387475285738744e-85\n",
            "=======\n",
            "[0.5, 0.5, 0.5, 0.5, 0.5, 0.5]\n",
            "[0.5, 0.5, 0.5, 0.5, 0.5, 0.5]\n",
            "=======\n",
            "run= 33 gen= 12292 time= 79.43550785382588 eval FES= 300000 FO= 2.111291348605995e-86\n",
            "=======\n",
            "[0.5, 0.5, 0.5, 0.5, 0.5, 0.5]\n",
            "[0.5, 0.5, 0.5, 0.5, 0.5, 0.5]\n",
            "=======\n",
            "run= 34 gen= 12292 time= 81.79156241019567 eval FES= 300000 FO= 1.2972146692741984e-88\n",
            "=======\n",
            "[0.5, 0.5, 0.5, 0.5, 0.5, 0.5]\n",
            "[0.5, 0.5, 0.5, 0.5, 0.5, 0.5]\n",
            "=======\n",
            "run= 35 gen= 12292 time= 84.10737172365188 eval FES= 300000 FO= 1.6317632934140885e-83\n",
            "=======\n",
            "[0.5, 0.5, 0.5, 0.5, 0.5, 0.5]\n",
            "[0.5, 0.5, 0.5, 0.5, 0.5, 0.5]\n",
            "=======\n",
            "run= 36 gen= 12292 time= 86.41943623224894 eval FES= 300000 FO= 9.12607980746315e-84\n",
            "=======\n",
            "[0.5, 0.5, 0.5, 0.5, 0.5, 0.5]\n",
            "[0.5, 0.5, 0.5, 0.5, 0.5, 0.5]\n",
            "=======\n",
            "run= 37 gen= 12292 time= 88.73319207032522 eval FES= 300000 FO= 1.406165551780562e-84\n",
            "=======\n",
            "[0.5, 0.5, 0.5, 0.5, 0.5, 0.5]\n",
            "[0.5, 0.5, 0.5, 0.5, 0.5, 0.5]\n",
            "=======\n",
            "run= 38 gen= 12292 time= 91.06071053743362 eval FES= 300000 FO= 1.0410526714053513e-88\n",
            "=======\n",
            "[0.5, 0.5, 0.5, 0.5, 0.5, 0.5]\n",
            "[0.5, 0.5, 0.5, 0.5, 0.5, 0.5]\n",
            "=======\n",
            "run= 39 gen= 12292 time= 93.36629165013632 eval FES= 300000 FO= 1.4440389700080805e-85\n",
            "=======\n",
            "[0.5, 0.5, 0.5, 0.5, 0.5, 0.5]\n",
            "[0.5, 0.5, 0.5, 0.5, 0.5, 0.5]\n",
            "=======\n",
            "run= 40 gen= 12292 time= 95.67359256744385 eval FES= 300000 FO= 3.5141454146322286e-83\n",
            "=======\n",
            "[0.5, 0.5, 0.5, 0.5, 0.5, 0.5]\n",
            "[0.5, 0.5, 0.5, 0.5, 0.5, 0.5]\n",
            "=======\n",
            "run= 41 gen= 12292 time= 97.98740247488021 eval FES= 300000 FO= 5.340562522576443e-86\n",
            "=======\n",
            "[0.5, 0.5, 0.5, 0.5, 0.5, 0.5]\n",
            "[0.5, 0.5, 0.5, 0.5, 0.5, 0.5]\n",
            "=======\n",
            "run= 42 gen= 12292 time= 100.29920040369034 eval FES= 300000 FO= 1.9953855765824286e-86\n",
            "=======\n",
            "[0.5, 0.5, 0.5, 0.5, 0.5, 0.5]\n",
            "[0.5, 0.5, 0.5, 0.5, 0.5, 0.5]\n",
            "=======\n",
            "run= 43 gen= 12292 time= 102.64100954532623 eval FES= 300000 FO= 3.074262655483242e-86\n",
            "=======\n",
            "[0.5, 0.5, 0.5, 0.5, 0.5, 0.5]\n",
            "[0.5, 0.5, 0.5, 0.5, 0.5, 0.5]\n",
            "=======\n",
            "run= 44 gen= 12292 time= 104.96376532316208 eval FES= 300000 FO= 7.606487699020449e-85\n",
            "=======\n",
            "[0.5, 0.5, 0.5, 0.5, 0.5, 0.5]\n",
            "[0.5, 0.5, 0.5, 0.5, 0.5, 0.5]\n",
            "=======\n",
            "run= 45 gen= 12292 time= 107.27701090971628 eval FES= 300000 FO= 3.921869616527632e-88\n",
            "=======\n",
            "[0.5, 0.5, 0.5, 0.5, 0.5, 0.5]\n",
            "[0.5, 0.5, 0.5, 0.5, 0.5, 0.5]\n",
            "=======\n",
            "run= 46 gen= 12292 time= 109.5759546160698 eval FES= 300000 FO= 4.115685610744157e-84\n",
            "=======\n",
            "[0.5, 0.5, 0.5, 0.5, 0.5, 0.5]\n",
            "[0.5, 0.5, 0.5, 0.5, 0.5, 0.5]\n",
            "=======\n",
            "run= 47 gen= 12292 time= 111.92857069174448 eval FES= 300000 FO= 6.622399401413062e-86\n",
            "=======\n",
            "[0.5, 0.5, 0.5, 0.5, 0.5, 0.5]\n",
            "[0.5, 0.5, 0.5, 0.5, 0.5, 0.5]\n",
            "=======\n",
            "run= 48 gen= 12292 time= 114.2611016313235 eval FES= 300000 FO= 6.982696064502496e-85\n",
            "=======\n",
            "[0.5, 0.5, 0.5, 0.5, 0.5, 0.5]\n",
            "[0.5, 0.5, 0.5, 0.5, 0.5, 0.5]\n",
            "=======\n",
            "run= 49 gen= 12292 time= 116.54830724398295 eval FES= 300000 FO= 8.140149063300323e-88\n"
          ]
        }
      ]
    },
    {
      "cell_type": "code",
      "metadata": {
        "id": "TLEE0UrZSvJF",
        "colab": {
          "base_uri": "https://localhost:8080/"
        },
        "outputId": "f4aef7a5-1dec-450d-f9df-16a64f06459f"
      },
      "source": [
        "#len(X2[1,:])\n",
        "print(cols)"
      ],
      "execution_count": null,
      "outputs": [
        {
          "output_type": "stream",
          "name": "stdout",
          "text": [
            "30\n"
          ]
        }
      ]
    },
    {
      "cell_type": "code",
      "source": [
        "BEST_AGENTS=np.array(BEST_AGENTS)"
      ],
      "metadata": {
        "id": "scZnrGN1uoW3"
      },
      "execution_count": null,
      "outputs": []
    },
    {
      "cell_type": "code",
      "metadata": {
        "id": "k3p9TGsx1OCu"
      },
      "source": [
        "NOMES=['DIVERSIDADE (DI)',  'DI RELATIVO','FRAC Its',\n",
        "           'VELOC FOBJ','VELOC X','NP','Fo','CRo','fmin','fmax',\n",
        "           'AD_fmin','AD_fmax','DELTA FOBJ','DELTA VX','r_fitness',\n",
        "           'F','CR']\n",
        "# BEST_INDEX= BEST_AGENTS[BEST_AGENTS[:,-1].argmin()]  \n",
        "BEST_INDEX = np.argmin(BEST_AGENTS[:,-1])\n",
        "#df=pd.DataFrame(MAT_stat[BEST_INDEX], columns=NOMES)\n",
        "\n"
      ],
      "execution_count": null,
      "outputs": []
    },
    {
      "cell_type": "code",
      "source": [
        "TIME = (time.time() - start_time)/RUNS\n",
        "BEST_AGENTS=np.array(BEST_AGENTS)\n",
        "BEST_AGENTS_ST= BEST_AGENTS[BEST_AGENTS[:,-1].argsort()]\n",
        "BEST=BEST_AGENTS_ST[0]\n",
        "WORSE=BEST_AGENTS_ST[-1]\n",
        "MEAN=np.mean(BEST_AGENTS,axis=0)\n",
        "MAXFO=BEST_AGENTS[:,-1].max()\n",
        "MINFO=BEST_AGENTS[:,-1].min()\n",
        "STD=BEST_AGENTS[:,-1].std()    "
      ],
      "metadata": {
        "id": "CqGHCBBnw7jn"
      },
      "execution_count": null,
      "outputs": []
    },
    {
      "cell_type": "code",
      "metadata": {
        "id": "lNSN5X-wskcx",
        "colab": {
          "base_uri": "https://localhost:8080/"
        },
        "outputId": "c9cfcbee-d017-4581-db88-d091c960b1a0"
      },
      "source": [
        "nome='SUB'+'_Fo-'+str(Fi)+'_CRo-'+str(CRi)+'_D-'+str(dim)+'_Interv-'+str(ITE)\n",
        "print('MCS-FRANNK','Fator F/DE= %.2f' %(fator),'NPAR=',NPAR,'Iterações=',ITE*its,'Dim=', PAR,\"Min/Max=\",MIN[0],\"/\",MAX[0],'_',Fun.__name__)\n",
        "print(nome, '\\n')\n",
        "#print('BEST: ',BEST)\n",
        "#print('MÉDIA: ',MEAN)\n",
        "print('MÉDIA: ',MEAN[-1],'STD __:',STD)\n",
        "print('MIN __:',MINFO, 'MAX__: ',MAXFO)\n",
        "print(MEAN[-1])\n",
        "print(STD)\n",
        "print(MINFO)\n",
        "print(\"Tempo Médio= %.3f segundos ---\" % (TIME))\n",
        "print(RUNS,'Rodadas') \n",
        "print()\n",
        "print('BEST: ',BEST)\n",
        "# print('melhor=',BEST_AGENTS[BEST_INDEX])"
      ],
      "execution_count": null,
      "outputs": [
        {
          "output_type": "stream",
          "name": "stdout",
          "text": [
            "MCS-FRANNK Fator F/DE= 1.00 NPAR= 5 Iterações= 1000 Dim= 30 Min/Max= -100 / 100 _ F2\n",
            "SUB_Fo-0.5_CRo-0.5_D-30_Interv-1000 \n",
            "\n",
            "MÉDIA:  2.0530815262059458e-83 STD __: 7.88444914015087e-83\n",
            "MIN __: 7.396637941041147e-90 MAX__:  5.040184928133171e-82\n",
            "2.0530815262059458e-83\n",
            "7.88444914015087e-83\n",
            "7.396637941041147e-90\n",
            "Tempo Médio= 139.860 segundos ---\n",
            "50 Rodadas\n",
            "\n",
            "BEST:  [ 1.80055049e-45  7.05869484e-50 -8.29049822e-49  5.79524029e-49\n",
            "  2.64762038e-50  3.92681104e-50  4.69185438e-49 -3.94652260e-50\n",
            " -2.48226208e-49 -4.06470372e-49 -2.13124825e-49  1.35714620e-49\n",
            " -5.01443365e-49 -7.09082011e-50 -3.63143211e-50  3.59262672e-50\n",
            "  7.72425097e-49 -4.20625156e-50 -1.03142316e-49  3.74137171e-49\n",
            "  4.05651458e-50 -2.65578114e-50 -2.45019717e-49  2.94647352e-49\n",
            " -2.69984050e-49  4.63040877e-50  4.90824031e-49 -1.63795053e-49\n",
            "  1.49063045e-49 -1.04383269e-48  7.39663794e-90]\n"
          ]
        }
      ]
    },
    {
      "cell_type": "code",
      "source": [
        "len(Xarq)"
      ],
      "metadata": {
        "id": "uX1gnDDVPlWX",
        "colab": {
          "base_uri": "https://localhost:8080/"
        },
        "outputId": "7bb74a44-1774-45d0-c82c-f6d44638f688"
      },
      "execution_count": null,
      "outputs": [
        {
          "output_type": "execute_result",
          "data": {
            "text/plain": [
              "5"
            ]
          },
          "metadata": {},
          "execution_count": 126
        }
      ]
    },
    {
      "cell_type": "code",
      "source": [
        "MCR"
      ],
      "metadata": {
        "colab": {
          "base_uri": "https://localhost:8080/"
        },
        "id": "brB1tYZDYEUU",
        "outputId": "03adacb7-b833-4e99-b8a6-e463b73f0cb5"
      },
      "execution_count": null,
      "outputs": [
        {
          "output_type": "execute_result",
          "data": {
            "text/plain": [
              "[0.8073199545203473,\n",
              " 0.8076258635299338,\n",
              " 0.9799782668652074,\n",
              " 0.9545404690109,\n",
              " 0.9770460823084793,\n",
              " 0.927634844919295]"
            ]
          },
          "metadata": {},
          "execution_count": 127
        }
      ]
    },
    {
      "cell_type": "code",
      "source": [
        "len(MF)"
      ],
      "metadata": {
        "colab": {
          "base_uri": "https://localhost:8080/"
        },
        "id": "zRJhumJbYQv_",
        "outputId": "e46ed08a-6ea0-4dbf-da25-50f928f16860"
      },
      "execution_count": null,
      "outputs": [
        {
          "output_type": "execute_result",
          "data": {
            "text/plain": [
              "6"
            ]
          },
          "metadata": {},
          "execution_count": 128
        }
      ]
    }
  ]
}