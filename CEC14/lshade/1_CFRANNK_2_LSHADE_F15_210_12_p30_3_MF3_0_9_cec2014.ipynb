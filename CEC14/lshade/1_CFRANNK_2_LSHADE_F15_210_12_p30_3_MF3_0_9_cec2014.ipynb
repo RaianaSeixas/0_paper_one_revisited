{
  "nbformat": 4,
  "nbformat_minor": 0,
  "metadata": {
    "colab": {
      "name": "Cópia de 1-CFRANNK_2-LSHADE_F15_210/12_p30.3_MF3-0.9_cec2014.ipynb",
      "provenance": [],
      "collapsed_sections": [],
      "include_colab_link": true
    },
    "kernelspec": {
      "name": "python3",
      "display_name": "Python 3"
    },
    "language_info": {
      "codemirror_mode": {
        "name": "ipython",
        "version": 3
      },
      "file_extension": ".py",
      "mimetype": "text/x-python",
      "name": "python",
      "nbconvert_exporter": "python",
      "pygments_lexer": "ipython3",
      "version": "3.7.3"
    }
  },
  "cells": [
    {
      "cell_type": "markdown",
      "metadata": {
        "id": "view-in-github",
        "colab_type": "text"
      },
      "source": [
        "<a href=\"https://colab.research.google.com/github/RaianaSeixas/0_paper_one_revisited/blob/main/CEC14/lshade/1_CFRANNK_2_LSHADE_F15_210_12_p30_3_MF3_0_9_cec2014.ipynb\" target=\"_parent\"><img src=\"https://colab.research.google.com/assets/colab-badge.svg\" alt=\"Open In Colab\"/></a>"
      ]
    },
    {
      "cell_type": "code",
      "source": [
        "############################### DADOS DE ENTRADA \n",
        "RUNS=50 #NÚMERO DE RODADAS\n",
        "Fc=0.1 # fator de correcao parametros da ANN\n",
        "its=1 #10 # quantas vezes vai usar o NPAR antes de alterar de novo\n",
        "ITE=1000 #10 # PONTOS quantas vezes vai alteral NPAR \n",
        "NPAR=100\n",
        "mut=0.5\n",
        "crossp=0.5\n",
        "Fi=mut;CRi=crossp;# para impressão\n",
        "fator = 1.0/3.0; \n",
        "#fator = 1.0 # just LSHADE...\n",
        "mut2=0.5;crossp2=0.5;mut3=0.5;crossp3=0.5;mut4=0.25;crossp4=0.25;\n",
        "mut_best  =0.5 ; crossp_best =0.5\n",
        "maxNP = 210\n",
        "minNP = 12\n",
        "maxFES =300000\n",
        "FIX = 100 # Number of adjusts random walk\n",
        "H = 6\n",
        "kH = 0 # kH is used to work with H  \n",
        "terminal = 0.1\n",
        "p=0.1\n",
        "SF=[];SCR=[];MF=[];MCR=[];Xarq=[]\n",
        "muARRAY = [0.5,0.75,0.25,0.25,0.75]\n",
        "crARRAY = [0.5,0.25,0.75,0.25,0.75]\n",
        "numARRAY = len(muARRAY)\n",
        "SF3=[];SCR3=[];MF3=[];MCR3=[];Xarq3=[]\n",
        "p3=0.3\n",
        "MFi=0.5\n",
        "MCRi=0.5\n",
        "MFi3=0.9\n",
        "MCRi3=0.9\n"
      ],
      "metadata": {
        "id": "SWHauA_QxHPz"
      },
      "execution_count": 1,
      "outputs": []
    },
    {
      "cell_type": "code",
      "metadata": {
        "colab": {
          "base_uri": "https://localhost:8080/"
        },
        "id": "c59cDVKoxDLX",
        "outputId": "8f098e16-a7f3-40f1-c5e8-dc78c3a892dd"
      },
      "source": [
        "############################### Importar códigos\n",
        "!git clone https://github.com/ucfilho/optim_raianars_Insight/ #clonar do Github\n",
        "%cd optim_raianars_Insight\n",
        "import de_soma_Insight\n",
        "import de_bounds_matriz\n",
        "import Go2Ann\n",
        "import randomWALK\n",
        "import annDE_FES_new\n",
        "import classicDE_FES_new\n",
        "import stepsWALK_new\n",
        "import LShade_new\n",
        "from pandas import read_csv"
      ],
      "execution_count": 2,
      "outputs": [
        {
          "output_type": "stream",
          "name": "stdout",
          "text": [
            "Cloning into 'optim_raianars_Insight'...\n",
            "remote: Enumerating objects: 866, done.\u001b[K\n",
            "remote: Counting objects: 100% (225/225), done.\u001b[K\n",
            "remote: Compressing objects: 100% (143/143), done.\u001b[K\n",
            "remote: Total 866 (delta 148), reused 124 (delta 82), pack-reused 641\u001b[K\n",
            "Receiving objects: 100% (866/866), 445.54 KiB | 8.74 MiB/s, done.\n",
            "Resolving deltas: 100% (538/538), done.\n",
            "/content/optim_raianars_Insight\n"
          ]
        }
      ]
    },
    {
      "cell_type": "code",
      "metadata": {
        "id": "Va-6Xios8RjU",
        "colab": {
          "base_uri": "https://localhost:8080/"
        },
        "outputId": "d812cd43-fa6f-46c1-d4ce-28dadb6f136e"
      },
      "source": [
        "!git clone https://github.com/ucfilho/Raianars_paper_One #clonar do Github\n",
        "%cd Raianars_paper_One"
      ],
      "execution_count": 3,
      "outputs": [
        {
          "output_type": "stream",
          "name": "stdout",
          "text": [
            "Cloning into 'Raianars_paper_One'...\n",
            "remote: Enumerating objects: 277, done.\u001b[K\n",
            "remote: Counting objects: 100% (148/148), done.\u001b[K\n",
            "remote: Compressing objects: 100% (65/65), done.\u001b[K\n",
            "remote: Total 277 (delta 83), reused 142 (delta 82), pack-reused 129\u001b[K\n",
            "Receiving objects: 100% (277/277), 667.30 KiB | 12.36 MiB/s, done.\n",
            "Resolving deltas: 100% (155/155), done.\n",
            "/content/optim_raianars_Insight/Raianars_paper_One\n"
          ]
        }
      ]
    },
    {
      "cell_type": "code",
      "metadata": {
        "id": "_E15mKFURR6O"
      },
      "source": [
        "#import Go2Ann\n",
        "#import de_soma_Insight\n",
        "#import de_bounds_matriz\n",
        "#import Function\n",
        "import Go2MinMax\n",
        "from AvaliaX import AvaliaX\n",
        "import numpy as np\n",
        "import scipy.stats\n",
        "import random\n",
        "from GeraIndices import GeraIndices\n",
        "import numpy as np\n",
        "import time\n",
        "import matplotlib.pyplot as plt\n",
        "from random import randint\n",
        "from scipy import optimize\n",
        "import pandas as pd\n",
        "from sklearn.metrics import confusion_matrix"
      ],
      "execution_count": 4,
      "outputs": []
    },
    {
      "cell_type": "code",
      "metadata": {
        "id": "ik3ZjkUKycUK",
        "colab": {
          "base_uri": "https://localhost:8080/"
        },
        "outputId": "3f2b0cc6-8b64-4ff4-c2c3-6a095ebb8758"
      },
      "source": [
        "############################### Importar códigos\n",
        "!git clone https://github.com/ucfilho/optim_raianars_Insight/ #clonar do Github\n",
        "%cd optim_raianars_Insight\n",
        "import de_soma_Insight\n",
        "import de_bounds_matriz"
      ],
      "execution_count": 5,
      "outputs": [
        {
          "output_type": "stream",
          "name": "stdout",
          "text": [
            "Cloning into 'optim_raianars_Insight'...\n",
            "remote: Enumerating objects: 866, done.\u001b[K\n",
            "remote: Counting objects:   0% (1/225)\u001b[K\rremote: Counting objects:   1% (3/225)\u001b[K\rremote: Counting objects:   2% (5/225)\u001b[K\rremote: Counting objects:   3% (7/225)\u001b[K\rremote: Counting objects:   4% (9/225)\u001b[K\rremote: Counting objects:   5% (12/225)\u001b[K\rremote: Counting objects:   6% (14/225)\u001b[K\rremote: Counting objects:   7% (16/225)\u001b[K\rremote: Counting objects:   8% (18/225)\u001b[K\rremote: Counting objects:   9% (21/225)\u001b[K\rremote: Counting objects:  10% (23/225)\u001b[K\rremote: Counting objects:  11% (25/225)\u001b[K\rremote: Counting objects:  12% (27/225)\u001b[K\rremote: Counting objects:  13% (30/225)\u001b[K\rremote: Counting objects:  14% (32/225)\u001b[K\rremote: Counting objects:  15% (34/225)\u001b[K\rremote: Counting objects:  16% (36/225)\u001b[K\rremote: Counting objects:  17% (39/225)\u001b[K\rremote: Counting objects:  18% (41/225)\u001b[K\rremote: Counting objects:  19% (43/225)\u001b[K\rremote: Counting objects:  20% (45/225)\u001b[K\rremote: Counting objects:  21% (48/225)\u001b[K\rremote: Counting objects:  22% (50/225)\u001b[K\rremote: Counting objects:  23% (52/225)\u001b[K\rremote: Counting objects:  24% (54/225)\u001b[K\rremote: Counting objects:  25% (57/225)\u001b[K\rremote: Counting objects:  26% (59/225)\u001b[K\rremote: Counting objects:  27% (61/225)\u001b[K\rremote: Counting objects:  28% (63/225)\u001b[K\rremote: Counting objects:  29% (66/225)\u001b[K\rremote: Counting objects:  30% (68/225)\u001b[K\rremote: Counting objects:  31% (70/225)\u001b[K\rremote: Counting objects:  32% (72/225)\u001b[K\rremote: Counting objects:  33% (75/225)\u001b[K\rremote: Counting objects:  34% (77/225)\u001b[K\rremote: Counting objects:  35% (79/225)\u001b[K\rremote: Counting objects:  36% (81/225)\u001b[K\rremote: Counting objects:  37% (84/225)\u001b[K\rremote: Counting objects:  38% (86/225)\u001b[K\rremote: Counting objects:  39% (88/225)\u001b[K\rremote: Counting objects:  40% (90/225)\u001b[K\rremote: Counting objects:  41% (93/225)\u001b[K\rremote: Counting objects:  42% (95/225)\u001b[K\rremote: Counting objects:  43% (97/225)\u001b[K\rremote: Counting objects:  44% (99/225)\u001b[K\rremote: Counting objects:  45% (102/225)\u001b[K\rremote: Counting objects:  46% (104/225)\u001b[K\rremote: Counting objects:  47% (106/225)\u001b[K\rremote: Counting objects:  48% (108/225)\u001b[K\rremote: Counting objects:  49% (111/225)\u001b[K\rremote: Counting objects:  50% (113/225)\u001b[K\rremote: Counting objects:  51% (115/225)\u001b[K\rremote: Counting objects:  52% (117/225)\u001b[K\rremote: Counting objects:  53% (120/225)\u001b[K\rremote: Counting objects:  54% (122/225)\u001b[K\rremote: Counting objects:  55% (124/225)\u001b[K\rremote: Counting objects:  56% (126/225)\u001b[K\rremote: Counting objects:  57% (129/225)\u001b[K\rremote: Counting objects:  58% (131/225)\u001b[K\rremote: Counting objects:  59% (133/225)\u001b[K\rremote: Counting objects:  60% (135/225)\u001b[K\rremote: Counting objects:  61% (138/225)\u001b[K\rremote: Counting objects:  62% (140/225)\u001b[K\rremote: Counting objects:  63% (142/225)\u001b[K\rremote: Counting objects:  64% (144/225)\u001b[K\rremote: Counting objects:  65% (147/225)\u001b[K\rremote: Counting objects:  66% (149/225)\u001b[K\rremote: Counting objects:  67% (151/225)\u001b[K\rremote: Counting objects:  68% (153/225)\u001b[K\rremote: Counting objects:  69% (156/225)\u001b[K\rremote: Counting objects:  70% (158/225)\u001b[K\rremote: Counting objects:  71% (160/225)\u001b[K\rremote: Counting objects:  72% (162/225)\u001b[K\rremote: Counting objects:  73% (165/225)\u001b[K\rremote: Counting objects:  74% (167/225)\u001b[K\rremote: Counting objects:  75% (169/225)\u001b[K\rremote: Counting objects:  76% (171/225)\u001b[K\rremote: Counting objects:  77% (174/225)\u001b[K\rremote: Counting objects:  78% (176/225)\u001b[K\rremote: Counting objects:  79% (178/225)\u001b[K\rremote: Counting objects:  80% (180/225)\u001b[K\rremote: Counting objects:  81% (183/225)\u001b[K\rremote: Counting objects:  82% (185/225)\u001b[K\rremote: Counting objects:  83% (187/225)\u001b[K\rremote: Counting objects:  84% (189/225)\u001b[K\rremote: Counting objects:  85% (192/225)\u001b[K\rremote: Counting objects:  86% (194/225)\u001b[K\rremote: Counting objects:  87% (196/225)\u001b[K\rremote: Counting objects:  88% (198/225)\u001b[K\rremote: Counting objects:  89% (201/225)\u001b[K\rremote: Counting objects:  90% (203/225)\u001b[K\rremote: Counting objects:  91% (205/225)\u001b[K\rremote: Counting objects:  92% (207/225)\u001b[K\rremote: Counting objects:  93% (210/225)\u001b[K\rremote: Counting objects:  94% (212/225)\u001b[K\rremote: Counting objects:  95% (214/225)\u001b[K\rremote: Counting objects:  96% (216/225)\u001b[K\rremote: Counting objects:  97% (219/225)\u001b[K\rremote: Counting objects:  98% (221/225)\u001b[K\rremote: Counting objects:  99% (223/225)\u001b[K\rremote: Counting objects: 100% (225/225)\u001b[K\rremote: Counting objects: 100% (225/225), done.\u001b[K\n",
            "remote: Compressing objects:   0% (1/143)\u001b[K\rremote: Compressing objects:   1% (2/143)\u001b[K\rremote: Compressing objects:   2% (3/143)\u001b[K\rremote: Compressing objects:   3% (5/143)\u001b[K\rremote: Compressing objects:   4% (6/143)\u001b[K\rremote: Compressing objects:   5% (8/143)\u001b[K\rremote: Compressing objects:   6% (9/143)\u001b[K\rremote: Compressing objects:   7% (11/143)\u001b[K\rremote: Compressing objects:   8% (12/143)\u001b[K\rremote: Compressing objects:   9% (13/143)\u001b[K\rremote: Compressing objects:  10% (15/143)\u001b[K\rremote: Compressing objects:  11% (16/143)\u001b[K\rremote: Compressing objects:  12% (18/143)\u001b[K\rremote: Compressing objects:  13% (19/143)\u001b[K\rremote: Compressing objects:  14% (21/143)\u001b[K\rremote: Compressing objects:  15% (22/143)\u001b[K\rremote: Compressing objects:  16% (23/143)\u001b[K\rremote: Compressing objects:  17% (25/143)\u001b[K\rremote: Compressing objects:  18% (26/143)\u001b[K\rremote: Compressing objects:  19% (28/143)\u001b[K\rremote: Compressing objects:  20% (29/143)\u001b[K\rremote: Compressing objects:  21% (31/143)\u001b[K\rremote: Compressing objects:  22% (32/143)\u001b[K\rremote: Compressing objects:  23% (33/143)\u001b[K\rremote: Compressing objects:  24% (35/143)\u001b[K\rremote: Compressing objects:  25% (36/143)\u001b[K\rremote: Compressing objects:  26% (38/143)\u001b[K\rremote: Compressing objects:  27% (39/143)\u001b[K\rremote: Compressing objects:  28% (41/143)\u001b[K\rremote: Compressing objects:  29% (42/143)\u001b[K\rremote: Compressing objects:  30% (43/143)\u001b[K\rremote: Compressing objects:  31% (45/143)\u001b[K\rremote: Compressing objects:  32% (46/143)\u001b[K\rremote: Compressing objects:  33% (48/143)\u001b[K\rremote: Compressing objects:  34% (49/143)\u001b[K\rremote: Compressing objects:  35% (51/143)\u001b[K\rremote: Compressing objects:  36% (52/143)\u001b[K\rremote: Compressing objects:  37% (53/143)\u001b[K\rremote: Compressing objects:  38% (55/143)\u001b[K\rremote: Compressing objects:  39% (56/143)\u001b[K\rremote: Compressing objects:  40% (58/143)\u001b[K\rremote: Compressing objects:  41% (59/143)\u001b[K\rremote: Compressing objects:  42% (61/143)\u001b[K\rremote: Compressing objects:  43% (62/143)\u001b[K\rremote: Compressing objects:  44% (63/143)\u001b[K\rremote: Compressing objects:  45% (65/143)\u001b[K\rremote: Compressing objects:  46% (66/143)\u001b[K\rremote: Compressing objects:  47% (68/143)\u001b[K\rremote: Compressing objects:  48% (69/143)\u001b[K\rremote: Compressing objects:  49% (71/143)\u001b[K\rremote: Compressing objects:  50% (72/143)\u001b[K\rremote: Compressing objects:  51% (73/143)\u001b[K\rremote: Compressing objects:  52% (75/143)\u001b[K\rremote: Compressing objects:  53% (76/143)\u001b[K\rremote: Compressing objects:  54% (78/143)\u001b[K\rremote: Compressing objects:  55% (79/143)\u001b[K\rremote: Compressing objects:  56% (81/143)\u001b[K\rremote: Compressing objects:  57% (82/143)\u001b[K\rremote: Compressing objects:  58% (83/143)\u001b[K\rremote: Compressing objects:  59% (85/143)\u001b[K\rremote: Compressing objects:  60% (86/143)\u001b[K\rremote: Compressing objects:  61% (88/143)\u001b[K\rremote: Compressing objects:  62% (89/143)\u001b[K\rremote: Compressing objects:  63% (91/143)\u001b[K\rremote: Compressing objects:  64% (92/143)\u001b[K\rremote: Compressing objects:  65% (93/143)\u001b[K\rremote: Compressing objects:  66% (95/143)\u001b[K\rremote: Compressing objects:  67% (96/143)\u001b[K\rremote: Compressing objects:  68% (98/143)\u001b[K\rremote: Compressing objects:  69% (99/143)\u001b[K\rremote: Compressing objects:  70% (101/143)\u001b[K\rremote: Compressing objects:  71% (102/143)\u001b[K\rremote: Compressing objects:  72% (103/143)\u001b[K\rremote: Compressing objects:  73% (105/143)\u001b[K\rremote: Compressing objects:  74% (106/143)\u001b[K\rremote: Compressing objects:  75% (108/143)\u001b[K\rremote: Compressing objects:  76% (109/143)\u001b[K\rremote: Compressing objects:  77% (111/143)\u001b[K\rremote: Compressing objects:  78% (112/143)\u001b[K\rremote: Compressing objects:  79% (113/143)\u001b[K\rremote: Compressing objects:  80% (115/143)\u001b[K\rremote: Compressing objects:  81% (116/143)\u001b[K\rremote: Compressing objects:  82% (118/143)\u001b[K\rremote: Compressing objects:  83% (119/143)\u001b[K\rremote: Compressing objects:  84% (121/143)\u001b[K\rremote: Compressing objects:  85% (122/143)\u001b[K\rremote: Compressing objects:  86% (123/143)\u001b[K\rremote: Compressing objects:  87% (125/143)\u001b[K\rremote: Compressing objects:  88% (126/143)\u001b[K\rremote: Compressing objects:  89% (128/143)\u001b[K\rremote: Compressing objects:  90% (129/143)\u001b[K\rremote: Compressing objects:  91% (131/143)\u001b[K\rremote: Compressing objects:  92% (132/143)\u001b[K\rremote: Compressing objects:  93% (133/143)\u001b[K\rremote: Compressing objects:  94% (135/143)\u001b[K\rremote: Compressing objects:  95% (136/143)\u001b[K\rremote: Compressing objects:  96% (138/143)\u001b[K\rremote: Compressing objects:  97% (139/143)\u001b[K\rremote: Compressing objects:  98% (141/143)\u001b[K\rremote: Compressing objects:  99% (142/143)\u001b[K\rremote: Compressing objects: 100% (143/143)\u001b[K\rremote: Compressing objects: 100% (143/143), done.\u001b[K\n",
            "Receiving objects:   0% (1/866)   \rReceiving objects:   1% (9/866)   \rReceiving objects:   2% (18/866)   \rReceiving objects:   3% (26/866)   \rReceiving objects:   4% (35/866)   \rReceiving objects:   5% (44/866)   \rReceiving objects:   6% (52/866)   \rReceiving objects:   7% (61/866)   \rReceiving objects:   8% (70/866)   \rReceiving objects:   9% (78/866)   \rReceiving objects:  10% (87/866)   \rReceiving objects:  11% (96/866)   \rReceiving objects:  12% (104/866)   \rReceiving objects:  13% (113/866)   \rReceiving objects:  14% (122/866)   \rReceiving objects:  15% (130/866)   \rReceiving objects:  16% (139/866)   \rReceiving objects:  17% (148/866)   \rReceiving objects:  18% (156/866)   \rReceiving objects:  19% (165/866)   \rReceiving objects:  20% (174/866)   \rReceiving objects:  21% (182/866)   \rReceiving objects:  22% (191/866)   \rReceiving objects:  23% (200/866)   \rReceiving objects:  24% (208/866)   \rReceiving objects:  25% (217/866)   \rReceiving objects:  26% (226/866)   \rReceiving objects:  27% (234/866)   \rReceiving objects:  28% (243/866)   \rReceiving objects:  29% (252/866)   \rReceiving objects:  30% (260/866)   \rReceiving objects:  31% (269/866)   \rReceiving objects:  32% (278/866)   \rReceiving objects:  33% (286/866)   \rReceiving objects:  34% (295/866)   \rReceiving objects:  35% (304/866)   \rReceiving objects:  36% (312/866)   \rReceiving objects:  37% (321/866)   \rReceiving objects:  38% (330/866)   \rReceiving objects:  39% (338/866)   \rReceiving objects:  40% (347/866)   \rReceiving objects:  41% (356/866)   \rReceiving objects:  42% (364/866)   \rReceiving objects:  43% (373/866)   \rReceiving objects:  44% (382/866)   \rReceiving objects:  45% (390/866)   \rReceiving objects:  46% (399/866)   \rReceiving objects:  47% (408/866)   \rReceiving objects:  48% (416/866)   \rReceiving objects:  49% (425/866)   \rReceiving objects:  50% (433/866)   \rReceiving objects:  51% (442/866)   \rReceiving objects:  52% (451/866)   \rReceiving objects:  53% (459/866)   \rReceiving objects:  54% (468/866)   \rReceiving objects:  55% (477/866)   \rReceiving objects:  56% (485/866)   \rReceiving objects:  57% (494/866)   \rReceiving objects:  58% (503/866)   \rReceiving objects:  59% (511/866)   \rReceiving objects:  60% (520/866)   \rReceiving objects:  61% (529/866)   \rReceiving objects:  62% (537/866)   \rReceiving objects:  63% (546/866)   \rReceiving objects:  64% (555/866)   \rReceiving objects:  65% (563/866)   \rReceiving objects:  66% (572/866)   \rReceiving objects:  67% (581/866)   \rReceiving objects:  68% (589/866)   \rReceiving objects:  69% (598/866)   \rremote: Total 866 (delta 148), reused 124 (delta 82), pack-reused 641\u001b[K\n",
            "Receiving objects:  70% (607/866)   \rReceiving objects:  71% (615/866)   \rReceiving objects:  72% (624/866)   \rReceiving objects:  73% (633/866)   \rReceiving objects:  74% (641/866)   \rReceiving objects:  75% (650/866)   \rReceiving objects:  76% (659/866)   \rReceiving objects:  77% (667/866)   \rReceiving objects:  78% (676/866)   \rReceiving objects:  79% (685/866)   \rReceiving objects:  80% (693/866)   \rReceiving objects:  81% (702/866)   \rReceiving objects:  82% (711/866)   \rReceiving objects:  83% (719/866)   \rReceiving objects:  84% (728/866)   \rReceiving objects:  85% (737/866)   \rReceiving objects:  86% (745/866)   \rReceiving objects:  87% (754/866)   \rReceiving objects:  88% (763/866)   \rReceiving objects:  89% (771/866)   \rReceiving objects:  90% (780/866)   \rReceiving objects:  91% (789/866)   \rReceiving objects:  92% (797/866)   \rReceiving objects:  93% (806/866)   \rReceiving objects:  94% (815/866)   \rReceiving objects:  95% (823/866)   \rReceiving objects:  96% (832/866)   \rReceiving objects:  97% (841/866)   \rReceiving objects:  98% (849/866)   \rReceiving objects:  99% (858/866)   \rReceiving objects: 100% (866/866)   \rReceiving objects: 100% (866/866), 445.54 KiB | 9.09 MiB/s, done.\n",
            "Resolving deltas:   0% (0/538)   \rResolving deltas:  21% (118/538)   \rResolving deltas:  26% (145/538)   \rResolving deltas:  33% (180/538)   \rResolving deltas:  35% (193/538)   \rResolving deltas:  36% (194/538)   \rResolving deltas:  39% (211/538)   \rResolving deltas:  42% (228/538)   \rResolving deltas:  53% (286/538)   \rResolving deltas:  64% (348/538)   \rResolving deltas:  65% (354/538)   \rResolving deltas:  67% (362/538)   \rResolving deltas:  68% (368/538)   \rResolving deltas:  72% (389/538)   \rResolving deltas:  80% (434/538)   \rResolving deltas:  96% (521/538)   \rResolving deltas:  98% (529/538)   \rResolving deltas:  99% (536/538)   \rResolving deltas: 100% (538/538)   \rResolving deltas: 100% (538/538), done.\n",
            "/content/optim_raianars_Insight/Raianars_paper_One/optim_raianars_Insight\n"
          ]
        }
      ]
    },
    {
      "cell_type": "code",
      "metadata": {
        "id": "lJogRB30yepw",
        "colab": {
          "base_uri": "https://localhost:8080/"
        },
        "outputId": "05ce3ff7-1fb9-4dd2-ed25-59085ba916ba"
      },
      "source": [
        "#!git clone https://github.com/ucfilho/Raianars_paper_One #clonar do Github\n",
        "#%cd Raianars_paper_One\n",
        "\n",
        "!git clone https://github.com/ucfilho/Raianars_Routines #clonar do Github\n",
        "%cd Raianars_Routines"
      ],
      "execution_count": 6,
      "outputs": [
        {
          "output_type": "stream",
          "name": "stdout",
          "text": [
            "Cloning into 'Raianars_Routines'...\n",
            "remote: Enumerating objects: 77, done.\u001b[K\n",
            "remote: Counting objects: 100% (77/77), done.\u001b[K\n",
            "remote: Compressing objects: 100% (73/73), done.\u001b[K\n",
            "remote: Total 77 (delta 23), reused 0 (delta 0), pack-reused 0\u001b[K\n",
            "Unpacking objects: 100% (77/77), done.\n",
            "/content/optim_raianars_Insight/Raianars_paper_One/optim_raianars_Insight/Raianars_Routines\n"
          ]
        }
      ]
    },
    {
      "cell_type": "code",
      "source": [
        "!git clone https://github.com/ucfilho/functions_cec2014_data\n",
        "%cd functions_cec2014_data\n",
        "import F1_to_F27_cec2014_zero_to_hero\n",
        "import cec2014_names\n",
        "import cec2014_shift_rotate"
      ],
      "metadata": {
        "id": "Z66tL-D0qM1H",
        "colab": {
          "base_uri": "https://localhost:8080/"
        },
        "outputId": "91f57db5-725a-4a45-f047-ead3761d906a"
      },
      "execution_count": 7,
      "outputs": [
        {
          "output_type": "stream",
          "name": "stdout",
          "text": [
            "Cloning into 'functions_cec2014_data'...\n",
            "remote: Enumerating objects: 300, done.\u001b[K\n",
            "remote: Counting objects: 100% (6/6), done.\u001b[K\n",
            "remote: Compressing objects: 100% (6/6), done.\u001b[K\n",
            "remote: Total 300 (delta 2), reused 0 (delta 0), pack-reused 294\u001b[K\n",
            "Receiving objects: 100% (300/300), 465.31 KiB | 6.20 MiB/s, done.\n",
            "Resolving deltas: 100% (181/181), done.\n",
            "/content/optim_raianars_Insight/Raianars_paper_One/optim_raianars_Insight/Raianars_Routines/functions_cec2014_data\n"
          ]
        }
      ]
    },
    {
      "cell_type": "code",
      "source": [
        "function_select = 'F15'\n",
        "Function = F1_to_F27_cec2014_zero_to_hero.F15\n",
        "Shift_Rotate= cec2014_shift_rotate.F15\n",
        "problem_size = 30 # possibles 2, 10, 20, 30, 50, 100"
      ],
      "metadata": {
        "id": "hN3HYnHmqX3f"
      },
      "execution_count": 8,
      "outputs": []
    },
    {
      "cell_type": "code",
      "source": [
        "dim = problem_size "
      ],
      "metadata": {
        "id": "yCggKdhhtnp1"
      },
      "execution_count": 9,
      "outputs": []
    },
    {
      "cell_type": "code",
      "source": [
        "f_matrix = \"M_\"+function_select[1:]+\"_D\"+str(problem_size) + \".txt\"\n",
        "shift_data_file=\"shift_data_\"+function_select[1:]+\".txt\"\n",
        "F_bias = cec2014_names.BiasValue()[function_select]\n",
        "type_fun = cec2014_names.TypeFunctions()[function_select]\n",
        "Function_CEC2014 =function_select + \"_\" + cec2014_names.NamesFunctions()[function_select]+\"_D_\"+str(problem_size)"
      ],
      "metadata": {
        "id": "r5pD3VaXqYAj"
      },
      "execution_count": 10,
      "outputs": []
    },
    {
      "cell_type": "code",
      "source": [
        "!pip install --upgrade --no-cache-dir gdown"
      ],
      "metadata": {
        "id": "QFsJfpK3qfQy",
        "colab": {
          "base_uri": "https://localhost:8080/"
        },
        "outputId": "e68c493c-c528-464e-aea3-06502a744446"
      },
      "execution_count": 11,
      "outputs": [
        {
          "output_type": "stream",
          "name": "stdout",
          "text": [
            "Looking in indexes: https://pypi.org/simple, https://us-python.pkg.dev/colab-wheels/public/simple/\n",
            "Requirement already satisfied: gdown in /usr/local/lib/python3.7/dist-packages (4.4.0)\n",
            "Requirement already satisfied: requests[socks] in /usr/local/lib/python3.7/dist-packages (from gdown) (2.23.0)\n",
            "Requirement already satisfied: beautifulsoup4 in /usr/local/lib/python3.7/dist-packages (from gdown) (4.6.3)\n",
            "Requirement already satisfied: filelock in /usr/local/lib/python3.7/dist-packages (from gdown) (3.7.0)\n",
            "Requirement already satisfied: six in /usr/local/lib/python3.7/dist-packages (from gdown) (1.15.0)\n",
            "Requirement already satisfied: tqdm in /usr/local/lib/python3.7/dist-packages (from gdown) (4.64.0)\n",
            "Requirement already satisfied: idna<3,>=2.5 in /usr/local/lib/python3.7/dist-packages (from requests[socks]->gdown) (2.10)\n",
            "Requirement already satisfied: urllib3!=1.25.0,!=1.25.1,<1.26,>=1.21.1 in /usr/local/lib/python3.7/dist-packages (from requests[socks]->gdown) (1.24.3)\n",
            "Requirement already satisfied: certifi>=2017.4.17 in /usr/local/lib/python3.7/dist-packages (from requests[socks]->gdown) (2022.5.18.1)\n",
            "Requirement already satisfied: chardet<4,>=3.0.2 in /usr/local/lib/python3.7/dist-packages (from requests[socks]->gdown) (3.0.4)\n",
            "Requirement already satisfied: PySocks!=1.5.7,>=1.5.6 in /usr/local/lib/python3.7/dist-packages (from requests[socks]->gdown) (1.7.1)\n"
          ]
        }
      ]
    },
    {
      "cell_type": "code",
      "source": [
        "# !gdown --id 1yM-cGzp7F35bXZ-f80uoJHzGqAb52CPz\n",
        "# https://drive.google.com/file/d/1yM-cGzp7F35bXZ-f80uoJHzGqAb52CPz/view?usp=sharing\n",
        "!gdown --id 1yM-cGzp7F35bXZ-f80uoJHzGqAb52CPz"
      ],
      "metadata": {
        "id": "bCv2CFD3qp0q",
        "colab": {
          "base_uri": "https://localhost:8080/"
        },
        "outputId": "58383d38-7767-4146-ceed-6293f28ab8e4"
      },
      "execution_count": 12,
      "outputs": [
        {
          "output_type": "stream",
          "name": "stdout",
          "text": [
            "/usr/local/lib/python3.7/dist-packages/gdown/cli.py:131: FutureWarning: Option `--id` was deprecated in version 4.3.1 and will be removed in 5.0. You don't need to pass it anymore to use a file ID.\n",
            "  category=FutureWarning,\n",
            "Downloading...\n",
            "From: https://drive.google.com/uc?id=1yM-cGzp7F35bXZ-f80uoJHzGqAb52CPz\n",
            "To: /content/optim_raianars_Insight/Raianars_paper_One/optim_raianars_Insight/Raianars_Routines/functions_cec2014_data/cec2014.zip\n",
            "100% 36.1M/36.1M [00:00<00:00, 138MB/s]\n"
          ]
        }
      ]
    },
    {
      "cell_type": "code",
      "source": [
        "import zipfile\n",
        "file_name = zipfile.ZipFile('cec2014.zip', 'r')\n",
        "file_name.extractall()"
      ],
      "metadata": {
        "id": "-N1Hsa88W-Mr"
      },
      "execution_count": 13,
      "outputs": []
    },
    {
      "cell_type": "code",
      "source": [
        "def load_shift_data__(data_file=None):\n",
        "    data = read_csv(data_file, delimiter='\\s+', index_col=False, header=None)\n",
        "    return data.values.reshape((-1))\n",
        "\n",
        "def load_matrix_data__(data_file=None):\n",
        "    data = read_csv(data_file, delimiter='\\s+', index_col=False, header=None)\n",
        "    return data.values"
      ],
      "metadata": {
        "id": "_tEgxfW4qwlt"
      },
      "execution_count": 14,
      "outputs": []
    },
    {
      "cell_type": "code",
      "source": [
        "shift_data_a = load_shift_data__(shift_data_file)[:problem_size]\n",
        "matrix_a = load_matrix_data__(f_matrix)\n",
        "if (type_fun == 'hybrid'):\n",
        "  f_shuffle = \"shuffle_data_\"+function_select[1:]+\"_D\"+str(problem_size) + \".txt\"\n",
        "  shuffle = (load_shift_data__(f_shuffle)[:problem_size] - np.ones(problem_size)).astype(int)\n",
        "else:\n",
        "  shuffle = matrix_a"
      ],
      "metadata": {
        "id": "NJVx_raoq9GU"
      },
      "execution_count": 15,
      "outputs": []
    },
    {
      "cell_type": "code",
      "source": [
        "SUPPORT_DIMENSION = [2, 10, 20, 30, 50, 100]\n",
        "SUPPORT_DIMENSION_2 = [10, 20, 30, 50, 100]\n",
        "\n",
        "#def Fun(solution,shift_data=shift_data_a, matrix=matrix_a, shuffle):#, bias=F_bias):\n",
        "def CEC2014(solution, shift_data ,  matrix, shuffle):#, bias=F_bias):\n",
        "  if(type_fun == 'shift_rotate'):\n",
        "    z = Shift_Rotate(solution , shift_data , matrix,shuffle)\n",
        "    result = Function(z) + F_bias\n",
        "  elif(type_fun =='hybrid'): # F17 to F22\n",
        "    z = Shift_Rotate(solution , shift_data , matrix,shuffle)\n",
        "    result = z + F_bias\n",
        " \n",
        "  return result"
      ],
      "metadata": {
        "id": "AF2E2EIwrC8o"
      },
      "execution_count": 16,
      "outputs": []
    },
    {
      "cell_type": "code",
      "source": [
        " shift_data = shift_data_a\n",
        " matrix = matrix_a\n",
        " shuffle = shuffle\n",
        " def Hybrid(solution):\n",
        "   resp = CEC2014(solution, shift_data = shift_data_a, matrix = matrix_a, shuffle = shuffle)\n",
        "   return resp"
      ],
      "metadata": {
        "id": "jIcMJI-UrK8V"
      },
      "execution_count": 17,
      "outputs": []
    },
    {
      "cell_type": "code",
      "source": [
        "!git clone https://github.com/ucfilho/Raianars_paper_One #clonar do Github\n",
        "%cd Raianars_paper_One"
      ],
      "metadata": {
        "id": "9Vsz9VQRrLVf",
        "colab": {
          "base_uri": "https://localhost:8080/"
        },
        "outputId": "c4256c5d-800a-4e60-b4d4-4633ee7a907b"
      },
      "execution_count": 18,
      "outputs": [
        {
          "output_type": "stream",
          "name": "stdout",
          "text": [
            "Cloning into 'Raianars_paper_One'...\n",
            "remote: Enumerating objects: 277, done.\u001b[K\n",
            "remote: Counting objects:   0% (1/148)\u001b[K\rremote: Counting objects:   1% (2/148)\u001b[K\rremote: Counting objects:   2% (3/148)\u001b[K\rremote: Counting objects:   3% (5/148)\u001b[K\rremote: Counting objects:   4% (6/148)\u001b[K\rremote: Counting objects:   5% (8/148)\u001b[K\rremote: Counting objects:   6% (9/148)\u001b[K\rremote: Counting objects:   7% (11/148)\u001b[K\rremote: Counting objects:   8% (12/148)\u001b[K\rremote: Counting objects:   9% (14/148)\u001b[K\rremote: Counting objects:  10% (15/148)\u001b[K\rremote: Counting objects:  11% (17/148)\u001b[K\rremote: Counting objects:  12% (18/148)\u001b[K\rremote: Counting objects:  13% (20/148)\u001b[K\rremote: Counting objects:  14% (21/148)\u001b[K\rremote: Counting objects:  15% (23/148)\u001b[K\rremote: Counting objects:  16% (24/148)\u001b[K\rremote: Counting objects:  17% (26/148)\u001b[K\rremote: Counting objects:  18% (27/148)\u001b[K\rremote: Counting objects:  19% (29/148)\u001b[K\rremote: Counting objects:  20% (30/148)\u001b[K\rremote: Counting objects:  21% (32/148)\u001b[K\rremote: Counting objects:  22% (33/148)\u001b[K\rremote: Counting objects:  23% (35/148)\u001b[K\rremote: Counting objects:  24% (36/148)\u001b[K\rremote: Counting objects:  25% (37/148)\u001b[K\rremote: Counting objects:  26% (39/148)\u001b[K\rremote: Counting objects:  27% (40/148)\u001b[K\rremote: Counting objects:  28% (42/148)\u001b[K\rremote: Counting objects:  29% (43/148)\u001b[K\rremote: Counting objects:  30% (45/148)\u001b[K\rremote: Counting objects:  31% (46/148)\u001b[K\rremote: Counting objects:  32% (48/148)\u001b[K\rremote: Counting objects:  33% (49/148)\u001b[K\rremote: Counting objects:  34% (51/148)\u001b[K\rremote: Counting objects:  35% (52/148)\u001b[K\rremote: Counting objects:  36% (54/148)\u001b[K\rremote: Counting objects:  37% (55/148)\u001b[K\rremote: Counting objects:  38% (57/148)\u001b[K\rremote: Counting objects:  39% (58/148)\u001b[K\rremote: Counting objects:  40% (60/148)\u001b[K\rremote: Counting objects:  41% (61/148)\u001b[K\rremote: Counting objects:  42% (63/148)\u001b[K\rremote: Counting objects:  43% (64/148)\u001b[K\rremote: Counting objects:  44% (66/148)\u001b[K\rremote: Counting objects:  45% (67/148)\u001b[K\rremote: Counting objects:  46% (69/148)\u001b[K\rremote: Counting objects:  47% (70/148)\u001b[K\rremote: Counting objects:  48% (72/148)\u001b[K\rremote: Counting objects:  49% (73/148)\u001b[K\rremote: Counting objects:  50% (74/148)\u001b[K\rremote: Counting objects:  51% (76/148)\u001b[K\rremote: Counting objects:  52% (77/148)\u001b[K\rremote: Counting objects:  53% (79/148)\u001b[K\rremote: Counting objects:  54% (80/148)\u001b[K\rremote: Counting objects:  55% (82/148)\u001b[K\rremote: Counting objects:  56% (83/148)\u001b[K\rremote: Counting objects:  57% (85/148)\u001b[K\rremote: Counting objects:  58% (86/148)\u001b[K\rremote: Counting objects:  59% (88/148)\u001b[K\rremote: Counting objects:  60% (89/148)\u001b[K\rremote: Counting objects:  61% (91/148)\u001b[K\rremote: Counting objects:  62% (92/148)\u001b[K\rremote: Counting objects:  63% (94/148)\u001b[K\rremote: Counting objects:  64% (95/148)\u001b[K\rremote: Counting objects:  65% (97/148)\u001b[K\rremote: Counting objects:  66% (98/148)\u001b[K\rremote: Counting objects:  67% (100/148)\u001b[K\rremote: Counting objects:  68% (101/148)\u001b[K\rremote: Counting objects:  69% (103/148)\u001b[K\rremote: Counting objects:  70% (104/148)\u001b[K\rremote: Counting objects:  71% (106/148)\u001b[K\rremote: Counting objects:  72% (107/148)\u001b[K\rremote: Counting objects:  73% (109/148)\u001b[K\rremote: Counting objects:  74% (110/148)\u001b[K\rremote: Counting objects:  75% (111/148)\u001b[K\rremote: Counting objects:  76% (113/148)\u001b[K\rremote: Counting objects:  77% (114/148)\u001b[K\rremote: Counting objects:  78% (116/148)\u001b[K\rremote: Counting objects:  79% (117/148)\u001b[K\rremote: Counting objects:  80% (119/148)\u001b[K\rremote: Counting objects:  81% (120/148)\u001b[K\rremote: Counting objects:  82% (122/148)\u001b[K\rremote: Counting objects:  83% (123/148)\u001b[K\rremote: Counting objects:  84% (125/148)\u001b[K\rremote: Counting objects:  85% (126/148)\u001b[K\rremote: Counting objects:  86% (128/148)\u001b[K\rremote: Counting objects:  87% (129/148)\u001b[K\rremote: Counting objects:  88% (131/148)\u001b[K\rremote: Counting objects:  89% (132/148)\u001b[K\rremote: Counting objects:  90% (134/148)\u001b[K\rremote: Counting objects:  91% (135/148)\u001b[K\rremote: Counting objects:  92% (137/148)\u001b[K\rremote: Counting objects:  93% (138/148)\u001b[K\rremote: Counting objects:  94% (140/148)\u001b[K\rremote: Counting objects:  95% (141/148)\u001b[K\rremote: Counting objects:  96% (143/148)\u001b[K\rremote: Counting objects:  97% (144/148)\u001b[K\rremote: Counting objects:  98% (146/148)\u001b[K\rremote: Counting objects:  99% (147/148)\u001b[K\rremote: Counting objects: 100% (148/148)\u001b[K\rremote: Counting objects: 100% (148/148), done.\u001b[K\n",
            "remote: Compressing objects:   1% (1/65)\u001b[K\rremote: Compressing objects:   3% (2/65)\u001b[K\rremote: Compressing objects:   4% (3/65)\u001b[K\rremote: Compressing objects:   6% (4/65)\u001b[K\rremote: Compressing objects:   7% (5/65)\u001b[K\rremote: Compressing objects:   9% (6/65)\u001b[K\rremote: Compressing objects:  10% (7/65)\u001b[K\rremote: Compressing objects:  12% (8/65)\u001b[K\rremote: Compressing objects:  13% (9/65)\u001b[K\rremote: Compressing objects:  15% (10/65)\u001b[K\rremote: Compressing objects:  16% (11/65)\u001b[K\rremote: Compressing objects:  18% (12/65)\u001b[K\rremote: Compressing objects:  20% (13/65)\u001b[K\rremote: Compressing objects:  21% (14/65)\u001b[K\rremote: Compressing objects:  23% (15/65)\u001b[K\rremote: Compressing objects:  24% (16/65)\u001b[K\rremote: Compressing objects:  26% (17/65)\u001b[K\rremote: Compressing objects:  27% (18/65)\u001b[K\rremote: Compressing objects:  29% (19/65)\u001b[K\rremote: Compressing objects:  30% (20/65)\u001b[K\rremote: Compressing objects:  32% (21/65)\u001b[K\rremote: Compressing objects:  33% (22/65)\u001b[K\rremote: Compressing objects:  35% (23/65)\u001b[K\rremote: Compressing objects:  36% (24/65)\u001b[K\rremote: Compressing objects:  38% (25/65)\u001b[K\rremote: Compressing objects:  40% (26/65)\u001b[K\rremote: Compressing objects:  41% (27/65)\u001b[K\rremote: Compressing objects:  43% (28/65)\u001b[K\rremote: Compressing objects:  44% (29/65)\u001b[K\rremote: Compressing objects:  46% (30/65)\u001b[K\rremote: Compressing objects:  47% (31/65)\u001b[K\rremote: Compressing objects:  49% (32/65)\u001b[K\rremote: Compressing objects:  50% (33/65)\u001b[K\rremote: Compressing objects:  52% (34/65)\u001b[K\rremote: Compressing objects:  53% (35/65)\u001b[K\rremote: Compressing objects:  55% (36/65)\u001b[K\rremote: Compressing objects:  56% (37/65)\u001b[K\rremote: Compressing objects:  58% (38/65)\u001b[K\rremote: Compressing objects:  60% (39/65)\u001b[K\rremote: Compressing objects:  61% (40/65)\u001b[K\rremote: Compressing objects:  63% (41/65)\u001b[K\rremote: Compressing objects:  64% (42/65)\u001b[K\rremote: Compressing objects:  66% (43/65)\u001b[K\rremote: Compressing objects:  67% (44/65)\u001b[K\rremote: Compressing objects:  69% (45/65)\u001b[K\rremote: Compressing objects:  70% (46/65)\u001b[K\rremote: Compressing objects:  72% (47/65)\u001b[K\rremote: Compressing objects:  73% (48/65)\u001b[K\rremote: Compressing objects:  75% (49/65)\u001b[K\rremote: Compressing objects:  76% (50/65)\u001b[K\rremote: Compressing objects:  78% (51/65)\u001b[K\rremote: Compressing objects:  80% (52/65)\u001b[K\rremote: Compressing objects:  81% (53/65)\u001b[K\rremote: Compressing objects:  83% (54/65)\u001b[K\rremote: Compressing objects:  84% (55/65)\u001b[K\rremote: Compressing objects:  86% (56/65)\u001b[K\rremote: Compressing objects:  87% (57/65)\u001b[K\rremote: Compressing objects:  89% (58/65)\u001b[K\rremote: Compressing objects:  90% (59/65)\u001b[K\rremote: Compressing objects:  92% (60/65)\u001b[K\rremote: Compressing objects:  93% (61/65)\u001b[K\rremote: Compressing objects:  95% (62/65)\u001b[K\rremote: Compressing objects:  96% (63/65)\u001b[K\rremote: Compressing objects:  98% (64/65)\u001b[K\rremote: Compressing objects: 100% (65/65)\u001b[K\rremote: Compressing objects: 100% (65/65), done.\u001b[K\n",
            "Receiving objects:   0% (1/277)   \rReceiving objects:   1% (3/277)   \rReceiving objects:   2% (6/277)   \rReceiving objects:   3% (9/277)   \rReceiving objects:   4% (12/277)   \rReceiving objects:   5% (14/277)   \rReceiving objects:   6% (17/277)   \rReceiving objects:   7% (20/277)   \rReceiving objects:   8% (23/277)   \rReceiving objects:   9% (25/277)   \rReceiving objects:  10% (28/277)   \rReceiving objects:  11% (31/277)   \rReceiving objects:  12% (34/277)   \rReceiving objects:  13% (37/277)   \rReceiving objects:  14% (39/277)   \rReceiving objects:  15% (42/277)   \rReceiving objects:  16% (45/277)   \rReceiving objects:  17% (48/277)   \rReceiving objects:  18% (50/277)   \rReceiving objects:  19% (53/277)   \rReceiving objects:  20% (56/277)   \rReceiving objects:  21% (59/277)   \rReceiving objects:  22% (61/277)   \rReceiving objects:  23% (64/277)   \rReceiving objects:  24% (67/277)   \rReceiving objects:  25% (70/277)   \rReceiving objects:  26% (73/277)   \rReceiving objects:  27% (75/277)   \rReceiving objects:  28% (78/277)   \rReceiving objects:  29% (81/277)   \rReceiving objects:  30% (84/277)   \rReceiving objects:  31% (86/277)   \rReceiving objects:  32% (89/277)   \rReceiving objects:  33% (92/277)   \rReceiving objects:  34% (95/277)   \rReceiving objects:  35% (97/277)   \rReceiving objects:  36% (100/277)   \rReceiving objects:  37% (103/277)   \rReceiving objects:  38% (106/277)   \rReceiving objects:  39% (109/277)   \rReceiving objects:  40% (111/277)   \rReceiving objects:  41% (114/277)   \rReceiving objects:  42% (117/277)   \rReceiving objects:  43% (120/277)   \rReceiving objects:  44% (122/277)   \rReceiving objects:  45% (125/277)   \rReceiving objects:  46% (128/277)   \rReceiving objects:  47% (131/277)   \rReceiving objects:  48% (133/277)   \rReceiving objects:  49% (136/277)   \rReceiving objects:  50% (139/277)   \rReceiving objects:  51% (142/277)   \rReceiving objects:  52% (145/277)   \rReceiving objects:  53% (147/277)   \rReceiving objects:  54% (150/277)   \rReceiving objects:  55% (153/277)   \rReceiving objects:  56% (156/277)   \rReceiving objects:  57% (158/277)   \rReceiving objects:  58% (161/277)   \rReceiving objects:  59% (164/277)   \rReceiving objects:  60% (167/277)   \rReceiving objects:  61% (169/277)   \rReceiving objects:  62% (172/277)   \rReceiving objects:  63% (175/277)   \rReceiving objects:  64% (178/277)   \rReceiving objects:  65% (181/277)   \rReceiving objects:  66% (183/277)   \rReceiving objects:  67% (186/277)   \rReceiving objects:  68% (189/277)   \rReceiving objects:  69% (192/277)   \rReceiving objects:  70% (194/277)   \rReceiving objects:  71% (197/277)   \rReceiving objects:  72% (200/277)   \rReceiving objects:  73% (203/277)   \rReceiving objects:  74% (205/277)   \rReceiving objects:  75% (208/277)   \rReceiving objects:  76% (211/277)   \rReceiving objects:  77% (214/277)   \rReceiving objects:  78% (217/277)   \rReceiving objects:  79% (219/277)   \rReceiving objects:  80% (222/277)   \rReceiving objects:  81% (225/277)   \rReceiving objects:  82% (228/277)   \rReceiving objects:  83% (230/277)   \rReceiving objects:  84% (233/277)   \rReceiving objects:  85% (236/277)   \rReceiving objects:  86% (239/277)   \rReceiving objects:  87% (241/277)   \rReceiving objects:  88% (244/277)   \rReceiving objects:  89% (247/277)   \rReceiving objects:  90% (250/277)   \rReceiving objects:  91% (253/277)   \rReceiving objects:  92% (255/277)   \rReceiving objects:  93% (258/277)   \rReceiving objects:  94% (261/277)   \rReceiving objects:  95% (264/277)   \rReceiving objects:  96% (266/277)   \rReceiving objects:  97% (269/277)   \rremote: Total 277 (delta 83), reused 142 (delta 82), pack-reused 129\u001b[K\n",
            "Receiving objects:  98% (272/277)   \rReceiving objects:  99% (275/277)   \rReceiving objects: 100% (277/277)   \rReceiving objects: 100% (277/277), 667.30 KiB | 11.92 MiB/s, done.\n",
            "Resolving deltas:   0% (0/155)   \rResolving deltas:  32% (51/155)   \rResolving deltas:  44% (69/155)   \rResolving deltas:  45% (70/155)   \rResolving deltas:  46% (72/155)   \rResolving deltas:  76% (119/155)   \rResolving deltas:  77% (120/155)   \rResolving deltas:  84% (131/155)   \rResolving deltas:  96% (149/155)   \rResolving deltas:  98% (153/155)   \rResolving deltas: 100% (155/155)   \rResolving deltas: 100% (155/155), done.\n",
            "/content/optim_raianars_Insight/Raianars_paper_One/optim_raianars_Insight/Raianars_Routines/functions_cec2014_data/Raianars_paper_One\n"
          ]
        }
      ]
    },
    {
      "cell_type": "code",
      "source": [
        "MAX=np.repeat(100,dim)\n",
        "MIN=np.repeat(-100,dim)\n",
        "\n",
        "bounds=[]\n",
        "for k in range(len(MAX)):\n",
        "  bounds.append((MIN[k],MAX[k]))"
      ],
      "metadata": {
        "id": "ukk5Twiiq0MN"
      },
      "execution_count": 19,
      "outputs": []
    },
    {
      "cell_type": "code",
      "metadata": {
        "id": "qTINtQ1cosZK",
        "colab": {
          "base_uri": "https://localhost:8080/"
        },
        "outputId": "621238e2-e12a-49cb-bbb6-2221e5776830"
      },
      "source": [
        "!git clone https://github.com/ucfilho/ANN_read_matrix #clonar do Github\n",
        "%cd ANN_read_matrix"
      ],
      "execution_count": 20,
      "outputs": [
        {
          "output_type": "stream",
          "name": "stdout",
          "text": [
            "Cloning into 'ANN_read_matrix'...\n",
            "remote: Enumerating objects: 20, done.\u001b[K\n",
            "remote: Total 20 (delta 0), reused 0 (delta 0), pack-reused 20\u001b[K\n",
            "Unpacking objects: 100% (20/20), done.\n",
            "/content/optim_raianars_Insight/Raianars_paper_One/optim_raianars_Insight/Raianars_Routines/functions_cec2014_data/Raianars_paper_One/ANN_read_matrix\n"
          ]
        }
      ]
    },
    {
      "cell_type": "code",
      "metadata": {
        "id": "QiQLYOoNoyCw"
      },
      "source": [
        "ANN_F=pd.read_csv('ANN_INSIGHT_Valor_F.csv')"
      ],
      "execution_count": 21,
      "outputs": []
    },
    {
      "cell_type": "code",
      "metadata": {
        "id": "uHtW2amaDzFv"
      },
      "source": [
        "ANN_CR=pd.read_csv('ANN_INSIGHT_CR.csv')"
      ],
      "execution_count": 22,
      "outputs": []
    },
    {
      "cell_type": "code",
      "metadata": {
        "id": "EH6h_vke2yu1"
      },
      "source": [
        "syn0_F,syn1_F,X_max_F,X_min_F=Go2Ann.GetMatriz(ANN_F)"
      ],
      "execution_count": 23,
      "outputs": []
    },
    {
      "cell_type": "code",
      "metadata": {
        "id": "WW_3ZWJXD60i"
      },
      "source": [
        "syn0_CR,syn1_CR,X_max_CR,X_min_CR=Go2Ann.GetMatriz(ANN_CR)"
      ],
      "execution_count": 24,
      "outputs": []
    },
    {
      "cell_type": "code",
      "metadata": {
        "id": "b4gwBvVTyaXh"
      },
      "source": [
        "ANN_CR=pd.read_csv('ANN_INSIGHT_CR.csv')"
      ],
      "execution_count": 25,
      "outputs": []
    },
    {
      "cell_type": "code",
      "metadata": {
        "id": "6jL8MxpHvk-Y"
      },
      "source": [
        "fields = ['DI RELATIVO','FRAC Its','Fo','CRo']"
      ],
      "execution_count": 26,
      "outputs": []
    },
    {
      "cell_type": "code",
      "metadata": {
        "id": "Mb3LmbSmj9v7",
        "colab": {
          "base_uri": "https://localhost:8080/",
          "height": 157
        },
        "outputId": "e4f32329-4df3-4f31-da70-792c676b9140"
      },
      "source": [
        "##################################### \n",
        "\n",
        "TOTAL=10*dim*its*ITE\n",
        "TOTAL=int(TOTAL/2)   # CONFERIR SE ESTE EH O MELHOR LUGAR\n",
        "\n",
        "#dimensions=len(MAX)\n",
        "dimensions=dim\n",
        "start_time = time.time() #INICIALIZA CONTAGEM DO TEMPO\n",
        "\n",
        "\n",
        "PAR=dim\n",
        "Fun = Function\n",
        "fobj=Fun\n",
        "\n",
        "MAX_P=np.zeros(ITE) # ATENCAO para variar F e Cr MAX_P passa a ser 3 vezes maior\n",
        "MIN_P=np.zeros(ITE) # ATENCAO para variar F e Cr MIN_P passa a ser 3 vezes maior\n",
        "\n",
        "for i in range(dim):\n",
        "  MAX_P[i]=MAX[i] \n",
        "  MIN_P[i]=MIN[i]\n",
        "NPAR=maxNP\n",
        "rodadas=1\n",
        "NPAR1=int(fator*NPAR);\n",
        "NPAR2=int(fator*NPAR)\n",
        "#NPAR2=int((NPAR-NPAR1)/3);\n",
        "#NPAR3=int((NPAR-NPAR1)/3);\n",
        "#NPAR4=int((NPAR-NPAR1)/3);\n",
        "NPAR3 = NPAR-NPAR1-NPAR1\n",
        "print('frac=',fator);\n",
        "print('Npar1=',NPAR1);\n",
        "print('Npar2=',NPAR2);\n",
        "print('Npar3=',NPAR3);\n",
        "#print('Npar4=',NPAR4);\n",
        "print('Npar=',NPAR)\n",
        "\n",
        "cols=dim\n",
        "\n",
        "X1=np.zeros((NPAR1,cols)) # X1 is Frannk population\n",
        "for i in range(NPAR1):\n",
        "  for j in range(cols):\n",
        "    r=np.random.random()\n",
        "    X1[i,j]=r*(MAX[j]-MIN[j])+MIN[j]\n",
        "    \n",
        "X2=np.zeros((NPAR2,cols)) # X2 is population DE (default DE)\n",
        "for i in range(NPAR2):\n",
        "  for j in range(cols):\n",
        "    r=np.random.random()\n",
        "    X2[i,j]=r*(MAX[j]-MIN[j])+MIN[j]\n",
        "\n",
        "X3=np.zeros((NPAR3,cols)) # X1 is Frannk population\n",
        "for i in range(NPAR3):\n",
        "  for j in range(cols):\n",
        "    r=np.random.random()\n",
        "    X3[i,j]=r*(MAX[j]-MIN[j])+MIN[j]\n",
        "'''    \n",
        "X4=np.zeros((NPAR4,cols)) # X2 is population DE (default DE)\n",
        "for i in range(NPAR4):\n",
        "  for j in range(cols):\n",
        "    r=np.random.random()\n",
        "    X4[i,j]=r*(MAX[j]-MIN[j])+MIN[j]\n",
        "    \n",
        " ############################################################\n",
        "  #bounds=[(5*dim, 15*dim)] * PONTOS # ITE\n",
        "  #bounds=[(3*dim, 12*dim)] * PONTOS # ITE\n",
        "  #bounds=[(4*dim, 16*dim)] * PONTOS\n",
        "  \n",
        "  # nao pode ser assim pq o bounds vale p o DE nao dos parametros\n",
        "  #p=int(TOTAL/its/ITE) \n",
        "  #bounds=[(p, p)] * PONTOS\n",
        "'''"
      ],
      "execution_count": 27,
      "outputs": [
        {
          "output_type": "stream",
          "name": "stdout",
          "text": [
            "frac= 0.3333333333333333\n",
            "Npar1= 70\n",
            "Npar2= 70\n",
            "Npar3= 70\n",
            "Npar= 210\n"
          ]
        },
        {
          "output_type": "execute_result",
          "data": {
            "text/plain": [
              "'    \\nX4=np.zeros((NPAR4,cols)) # X2 is population DE (default DE)\\nfor i in range(NPAR4):\\n  for j in range(cols):\\n    r=np.random.random()\\n    X4[i,j]=r*(MAX[j]-MIN[j])+MIN[j]\\n    \\n ############################################################\\n  #bounds=[(5*dim, 15*dim)] * PONTOS # ITE\\n  #bounds=[(3*dim, 12*dim)] * PONTOS # ITE\\n  #bounds=[(4*dim, 16*dim)] * PONTOS\\n  \\n  # nao pode ser assim pq o bounds vale p o DE nao dos parametros\\n  #p=int(TOTAL/its/ITE) \\n  #bounds=[(p, p)] * PONTOS\\n'"
            ],
            "application/vnd.google.colaboratory.intrinsic+json": {
              "type": "string"
            }
          },
          "metadata": {},
          "execution_count": 27
        }
      ]
    },
    {
      "cell_type": "code",
      "metadata": {
        "id": "rnX8ttNopd1G",
        "colab": {
          "base_uri": "https://localhost:8080/"
        },
        "outputId": "8b6a509d-c383-47d8-b4c8-61fd9e7487df"
      },
      "source": [
        "start_time = time.time()\n",
        "BEST_AGENTS=[]\n",
        "MAT_stat=[]\n",
        "for iii in range(RUNS):\n",
        "    FES = 0 ; gen = 0 \n",
        "    MAT=[] \n",
        "    mut=Fi\n",
        "    crossp=CRi\n",
        "    SOMA=0\n",
        "    pop = np.random.rand(NPAR, dim)\n",
        "    diff=np.zeros(PAR)\n",
        "\n",
        "    NPAR = maxNP\n",
        "    # fator = 1.0\n",
        "    NPAR1=int(fator*NPAR);NPAR2=int(fator*NPAR);NPAR3 = NPAR-NPAR1-NPAR1\n",
        "    '''\n",
        "    NPAR2=int((NPAR-NPAR1)/3);\n",
        "    NPAR3=int((NPAR-NPAR1)/3);\n",
        "    NPAR4=int((NPAR-NPAR1)/3);\n",
        "    NPAR1 = NPAR-3*NPAR2\n",
        "    '''\n",
        "\n",
        "    X1=np.zeros((NPAR1,cols)) # X1 is Frannk population\n",
        "    for i in range(NPAR1):\n",
        "      for j in range(cols):\n",
        "        r=np.random.random()\n",
        "        X1[i,j]=r*(MAX[j]-MIN[j])+MIN[j]\n",
        "       \n",
        "    X2=np.zeros((NPAR2,cols)) # X2 is population DE (default DE)\n",
        "    for i in range(NPAR2):\n",
        "      for j in range(cols):\n",
        "        r=np.random.random()\n",
        "        X2[i,j]=r*(MAX[j]-MIN[j])+MIN[j]\n",
        "    \n",
        "    X3=np.zeros((NPAR3,cols)) # X2 is population DE (default DE)\n",
        "    for i in range(NPAR3):\n",
        "      for j in range(cols):\n",
        "        r=np.random.random()\n",
        "        X3[i,j]=r*(MAX[j]-MIN[j])+MIN[j]\n",
        "    ''' \n",
        "    X4=np.zeros((NPAR4,cols)) # X2 is population DE (default DE)\n",
        "    for i in range(NPAR4):\n",
        "      for j in range(cols):\n",
        "        r=np.random.random()\n",
        "        X4[i,j]=r*(MAX[j]-MIN[j])+MIN[j]\n",
        "    '''\n",
        "    fit1 = np.asarray([fobj(ind) for ind in X1])\n",
        "    best_idx = np.argmin(fit1)\n",
        "    best1 = X1[best_idx]\n",
        "    fbest1 = fit1[best_idx] \n",
        "\n",
        "    \n",
        "    fit2 = np.asarray([fobj(ind) for ind in X2])\n",
        "    best_idx = np.argmin(fit2)\n",
        "    best2 = X1[best_idx]\n",
        "    fbest2 = fit2[best_idx] \n",
        "\n",
        "    fit3 = np.asarray([fobj(ind) for ind in X3])\n",
        "    best_idx = np.argmin(fit3)\n",
        "    best3 = X3[best_idx]\n",
        "    fbest3 = fit3[best_idx] \n",
        "    '''\n",
        "    fit3 = np.asarray([fobj(ind) for ind in X3])\n",
        "    fit4 = np.asarray([fobj(ind) for ind in X4])\n",
        "    FES = FES + NPAR1 + NPAR2 + NPAR3+ NPAR4\n",
        "    '''\n",
        "    FES = FES + NPAR1 + NPAR2 + NPAR3\n",
        "    fit_best =[]\n",
        "    DIo=1e99\n",
        "  \n",
        "    CRo=crossp;Fo=mut;\n",
        "    #Fitness = np.asarray([Fun(ind, shift_data , matrix, shuffle) for ind in X1])\n",
        "    XY,BEST_XY,BESTo,FOBESTo=AvaliaX(X1,fit1 )\n",
        "    nrow,ncol=X1.shape\n",
        "    FES = FES + nrow\n",
        "\n",
        "    QUANT=17;MAT_INDo=np.zeros((1,QUANT)); # quantos indices esta fazendo\n",
        "    MAT_INDo[0,5]=nrow  # VALOR NP\n",
        "    MAT_INDo[0,6]=Fo    # VALOR Fo   \n",
        "    MAT_INDo[0,7]=CRo   # VALOR CRo\n",
        "\n",
        "    Fuma = Fun  # Fuma era Fun\n",
        "  \n",
        "    MAT_INDo=GeraIndices(X1,BESTo,FOBESTo,DIo,MAT_INDo,SOMA,TOTAL,syn0_F,\n",
        "                        syn1_F,X_max_F,X_min_F,syn0_CR,syn1_CR,X_max_CR,\n",
        "                        X_min_CR,Fc,fields,Fuma)\n",
        "  \n",
        "    DIo=np.copy(MAT_INDo[0,0])\n",
        "    MAT_INDo[0,15]=Fo    # VALOR Fo   \n",
        "    MAT_INDo[0,16]=CRo   # VALOR CRo\n",
        "\n",
        "    # Just to intialize variables:\n",
        "    FESr = 0\n",
        "    BEST_XY1 = 0;BEST_XY2 = 0;BEST_XY3 = 0\n",
        "    FOBEST1 = fbest1;FOBEST2 = fbest2;FOBEST3 = fbest3;FOBEST4 = 1E99\n",
        "    #BEST1,BEST2,BEST3,BEST4  =  np.copy(X1[0,:]),np.copy(X2[0,:]),np.copy(X3[0,:]), np.copy(X4[0,:]) \n",
        "    BEST1  =  best1\n",
        "    BEST2  =  best2\n",
        "    BEST3  =  best3\n",
        "    popsize = NPAR\n",
        "    FUNCTION = []\n",
        "\n",
        "    MF=[];MCR=[];\n",
        "    for i in range(H):\n",
        "      MCR.append(MCRi);MF.append(MFi) # line 3\n",
        "\n",
        "    MF3=[];MCR3=[];\n",
        "    for i in range(H):\n",
        "      MCR3.append(MCRi3);MF3.append(MFi3) # line 3\n",
        "\n",
        "\n",
        "    Narquive = popsize\n",
        "    setTUNE =[SF,SCR,MF,MCR,p, terminal, Narquive,H,kH]\n",
        "    setTUNE3 =[SF3,SCR3,MF3,MCR3,p3, terminal, Narquive,H,kH]\n",
        "    while(FESr == 0 ):\n",
        "\n",
        "      #print('FES',FES)\n",
        "\n",
        "      gen = gen +1\n",
        "      ##=cool=#####################################################################################\n",
        "      '''\n",
        "      fback,Xback,BESTback,FOBESTback,FESback= np.copy(fit2),np.copy(X2),BEST2,FOBEST2,FES\n",
        "      fit2,X2,BEST2,FOBEST2,XY2,BEST_XY2,FES=classicDE_FES_new.de(bounds, mut2, crossp2,NPAR2, its,fobj,fit2,X2,FES) # de_bounds_matriz\n",
        "      if(FES > maxFES):\n",
        "        FESr = FES \n",
        "        fit2,X2,BEST2,FOBEST2,FES = np.copy(fback),np.copy(Xback),BESTback,FOBESTback,FESback\n",
        "      \n",
        "      fback,Xback,BESTback,FOBESTback,FESback= np.copy(fit3),np.copy(X3),BEST3,FOBEST3,FES\n",
        "      fit3,X3,BEST3,FOBEST3,XY3,BEST_XY3,FES=classicDE_FES_new.de(bounds, mut3, crossp3,NPAR3, its,fobj,fit3,X3,FES) #de_bounds_matriz\n",
        "      if(FES > maxFES): \n",
        "        FESr = FES\n",
        "        fit3,X3,BEST3,FOBEST3,FES = np.copy(fback),np.copy(Xback),BESTback,FOBESTback,FESback\n",
        "\n",
        "      fback,Xback,BESTback,FOBESTback,FESback= np.copy(fit4),np.copy(X4),BEST4,FOBEST4,FES\n",
        "      fit4,X4,BEST4,FOBEST4,XY4,BEST_XY4,FES=classicDE_FES_new.de(bounds, mut4, crossp4,NPAR4, its,fobj,fit4,X4,FES) # de_bounds_matriz\n",
        "      if(FES > maxFES): \n",
        "        FESr = FES\n",
        "        fit4,X4,BEST4,FOBEST4,FES = np.copy(fback),np.copy(Xback),BESTback,FOBESTback,FESback\n",
        "      '''\n",
        "      \n",
        "      \n",
        "      #print('gen=',gen,'size 3=====',NPAR3,X3.shape[1],X3.shape[0],'=======')\n",
        "      \n",
        "\n",
        "      fback,Xback,BESTback,FOBESTback,FESback= np.copy(fit1),np.copy(X1),BEST1,FOBEST1,FES\n",
        "      BEST_XYback = BEST_XY1 \n",
        "      fit1,X1,BEST1,FOBEST1,XY,BEST_XY1,FES = annDE_FES_new.de(MAX,MIN, mut, crossp, NPAR1, its,fobj,fit1,X1,FES)\n",
        "      if(FES > maxFES):\n",
        "        FESr = FES \n",
        "        fit1,X1,BEST1,FOBEST1,FES = np.copy(fback),np.copy(Xback),BESTback,FOBESTback,FESback\n",
        "        BEST_XY1 = BEST_XYback\n",
        "      fback,Xback,BESTback,FOBESTback,FESback= np.copy(fit2),np.copy(X2),BEST2,FOBEST2,FES\n",
        "      Xarqback = Xarq\n",
        "      BEST_XYback = BEST_XY2\n",
        "      fit2,X2,BEST2,FOBEST2,XY,BEST_XY2,FES,Xarq,setTUNE= LShade_new.LShade(MAX,MIN, NPAR2,fobj,setTUNE,best2,fbest2,fit2,X2,Xarq,FES)\n",
        "      if(FES > maxFES):\n",
        "        FESr = FES \n",
        "        fit2,X2,BEST2,FOBEST2,FES = np.copy(fback),np.copy(Xback),BESTback,FOBESTback,FESback\n",
        "        Xarq = Xarqback\n",
        "        BEST_XY2 = BEST_XYback\n",
        "      ri = random.randint(0, numARRAY-1)\n",
        "\n",
        "      fback,Xback,BESTback,FOBESTback,FESback,BEST_XY3= np.copy(fit3),np.copy(X3),BEST3,FOBEST3,FES,BEST_XY3 \n",
        "      Xarqback = Xarq\n",
        "      \n",
        "      fit3,X3,BEST3,FOBEST3,XY,BEST_XY3,FES,Xarq3,setTUNE3= LShade_new.LShade(MAX,MIN, NPAR3,fobj,setTUNE3,best3,fbest3,fit3,X3,Xarq3,FES)\n",
        "      if(FES > maxFES):\n",
        "        FESr = FES \n",
        "        fit3,X3,BEST3,FOBEST3,FES = np.copy(fback),np.copy(Xback),BESTback,FOBESTback,FESback\n",
        "        Xarq3 = Xarqback\n",
        "        BEST_XY3 = BEST_XYback\n",
        "\n",
        "\n",
        "      N3 = NPAR3\n",
        "      calc = (minNP-maxNP)/maxFES*FES+maxNP\n",
        "      #print('calc=',calc)\n",
        "      # Linear Population Size Reduction (LPSR)\n",
        "      calc = int(np.round(calc)) # Linear Population Size Reduction (LPSR) \n",
        "      #fator = 1.0\n",
        "      NPAR = calc\n",
        "      NPAR1=int(fator*NPAR);\n",
        "      NPAR2=int(fator*NPAR);\n",
        "      NPAR3=NPAR-NPAR1-NPAR2\n",
        "      \n",
        "      #NPAR3=int((NPAR-NPAR1)/3);\n",
        "      #NPAR4=int((NPAR-NPAR1)/3);\n",
        "      #NPAR1 = NPAR-3*NPAR2\n",
        "\n",
        "      #print('gen=',gen,'calc ==',calc,'fes',FES,'===oooo====')      \n",
        "\n",
        "      '''\n",
        "      if(NPAR2 > len(X2[:,0])):\n",
        "        NPAR2 = len(X2[:,0])\n",
        "      '''\n",
        "      if(NPAR1 > len(X1[:,0])):\n",
        "        NPAR1 = len(X1[:,0])\n",
        "      if(NPAR2 > len(X2[:,0])):\n",
        "        NPAR2 = len(X2[:,0])\n",
        "      if(NPAR3 > len(X3[:,0])):\n",
        "        NPAR3 = len(X3[:,0])  \n",
        "      if(N3 >= NPAR3):\n",
        "        NPAR3 = N3            \n",
        "          \n",
        "      X1 = X1[:NPAR1,:];X2 = X2[:NPAR2,:];X3 = X3[:NPAR3,:];\n",
        "      if(len(Xarq)>0) : Xarq = Xarq[:NPAR2]\n",
        "      if(len(Xarq3)>0) : Xarq3 = Xarq3[:NPAR3]\n",
        "       #X4 = X4[:NPAR4,:];\n",
        "      fit1 = fit1[:NPAR1];fit2 = fit2[:NPAR2]; fit3 = fit3[:NPAR3]; # fit4 = fit4[:NPAR4];\n",
        "      popsize = NPAR1\n",
        "      Narquive = popsize\n",
        "      NP = popsize\n",
        "\n",
        "      X1[0,:] = BEST1;X1[1,:] = BEST2;X1[2,:] = BEST3;# X1[2,:] = BEST4;\n",
        "      X2[0,:] = BEST1;X2[1,:] = BEST2;X2[2,:] = BEST3;#X2[3,:] = BEST2;\n",
        "      X3[0,:] = BEST1;X3[1,:] = BEST2;X3[2,:] = BEST3;#X3[3,:] = BEST3;\n",
        "      #X4[0,:] = BEST1;X4[1,:] = BEST2;X4[2,:] = BEST3;X4[3,:] = BEST4;\n",
        "      fit1[0] = FOBEST1; fit1[1] = FOBEST2;fit1[2] = FOBEST3;\n",
        "      fit2[0] = FOBEST1; fit2[1] = FOBEST2;fit2[2] = FOBEST3;\n",
        "      fit3[0] = FOBEST1; fit3[1] = FOBEST2;fit3[2] = FOBEST3;\n",
        "      '''\n",
        "      X1[0,:] = BEST2;X1[1,:] = BEST3; X1[2,:] = BEST4;X1[3,:] = BEST1;\n",
        "      X2[0,:] = BEST1;X2[1,:] = BEST3;X2[2,:] = BEST4;X2[3,:] = BEST2;\n",
        "      X3[0,:] = BEST1;X3[1,:] = BEST2;X3[2,:] = BEST4;X3[3,:] = BEST3;\n",
        "      X4[0,:] = BEST1;X4[1,:] = BEST2;X4[2,:] = BEST3;X4[3,:] = BEST4;\n",
        "      fit1[0] = FOBEST1; fit2[1] = FOBEST2;fit3[0] = FOBEST3; fit4[1] = FOBEST4;\n",
        "      '''\n",
        "    '''\n",
        "    for i in range(FIX):\n",
        "      \n",
        "        Fitback,Xback,BESTback,FOBESTback,FESback= np.copy(fit2), np.copy(X2),BEST2,FOBEST2,FES\n",
        "        \n",
        "        if ( FESr == 0):\n",
        "          Fitback,Xback,BESTback,FOBESTback,FESback= np.copy(X2),BEST2,FOBEST2,FES\n",
        "          fit2,X2,BEST2,FOBEST2,XY2,BEST_XY2,FESr=classicDE_FES_new.de(bounds,mut_best, crossp_best,NPAR2, its,fobj,fit2,X2,FES) # de_bounds_matriz\n",
        "        if ( FESr > 0):\n",
        "          fit2, X2,BEST2,FOBEST2,FES = np.copy(Fitback),np.copy(Xback),BESTback,FOBESTback,FESback\n",
        "\n",
        "\n",
        "        if(FES > maxFES): \n",
        "          fit2, X2,BEST2,FOBEST2,FES = np.copy(Fitback),np.copy(Xback),BESTback,FOBESTback,FESback\n",
        "        \n",
        "        \n",
        "        fit2,X2,BEST2,FOBEST2,XY,BEST_XY, FES= stepsWALK_new.fixWALK(Fun,BEST2,FOBEST2,NPAR2,tunePAR,MAX,MIN,fit2,X2,FIX)\n",
        "        # print('FES',FES)\n",
        "\n",
        "      ############################################################################################\n",
        "      ############################################################################################\n",
        "    \n",
        "    if(FES > maxFES):\n",
        "      fit2,X2,BEST2,FOBEST2,FES = np.copy(Fitback),np.copy(Xback),BESTback,FOBESTback,FESback\n",
        "\n",
        "    FUNCTION.append(FOBEST2)\n",
        "    '''\n",
        "    #setTUNE= [SF,SCR,MF,MCR,p, terminal, Narquive]\n",
        "    setTUNE =[SF,SCR,MF,MCR,p, terminal, Narquive,H,kH]\n",
        "    setTUNE3 =[SF3,SCR3,MF3,MCR3,p3, terminal, Narquive,H,kH]\n",
        "    print('run=',iii,'gen=',gen,'time=',(time.time()-start_time)/60, 'eval FES=', FES,'FO=',FOBEST1)  \n",
        "    BEST_AGENTS.append(BEST_XY3)"
      ],
      "execution_count": 28,
      "outputs": [
        {
          "metadata": {
            "tags": null
          },
          "name": "stdout",
          "output_type": "stream",
          "text": [
            "run= 0 gen= 2262 time= 2.739747401078542 eval FES= 299980 FO= 1.9266671688771173\n",
            "run= 1 gen= 2262 time= 5.277640084425609 eval FES= 299980 FO= 1.5533930895195183\n",
            "run= 2 gen= 2262 time= 7.841611301898956 eval FES= 299980 FO= 1.3709371873336895\n",
            "run= 3 gen= 2262 time= 10.387292273839314 eval FES= 299980 FO= 2.155165135471359\n"
          ]
        },
        {
          "metadata": {
            "tags": null
          },
          "name": "stderr",
          "output_type": "stream",
          "text": [
            "/content/optim_raianars_Insight/LShade_new.py:124: RuntimeWarning: invalid value encountered in double_scalars\n",
            "  MCR[kH] = np.dot(w,y**2)/np.dot(w,y)\n"
          ]
        },
        {
          "output_type": "stream",
          "name": "stdout",
          "text": [
            "run= 4 gen= 2262 time= 13.001145394643148 eval FES= 299980 FO= 1.369800125808036\n",
            "run= 5 gen= 2262 time= 15.54360994497935 eval FES= 299980 FO= 1.5725206318547669\n",
            "run= 6 gen= 2262 time= 18.059883987903596 eval FES= 299980 FO= 1.0159102807016103\n",
            "run= 7 gen= 2262 time= 20.65218911568324 eval FES= 299980 FO= 1.6763740066741022\n",
            "run= 8 gen= 2262 time= 23.1598312775294 eval FES= 299980 FO= 2.563437483080579\n",
            "run= 9 gen= 2262 time= 25.67036851644516 eval FES= 299980 FO= 1.6451272473192704\n",
            "run= 10 gen= 2262 time= 28.187799378236136 eval FES= 299980 FO= 1.0094425072003577\n",
            "run= 11 gen= 2262 time= 30.717948778470358 eval FES= 299980 FO= 1.3408858546032472\n",
            "run= 12 gen= 2262 time= 33.24801514148712 eval FES= 299980 FO= 1.407950272159576\n",
            "run= 13 gen= 2262 time= 35.799270641803744 eval FES= 299980 FO= 1.6681697257209467\n",
            "run= 14 gen= 2262 time= 38.36676930983861 eval FES= 299980 FO= 1.9631190371031388\n",
            "run= 15 gen= 2262 time= 40.8978369474411 eval FES= 299980 FO= 1.8296923552917115\n",
            "run= 16 gen= 2262 time= 43.4280617872874 eval FES= 299980 FO= 1.2647947131514319\n",
            "run= 17 gen= 2262 time= 45.935348276297255 eval FES= 299980 FO= 2.6468942188477453\n",
            "run= 18 gen= 2262 time= 48.424740211168924 eval FES= 299980 FO= 2.1070135189258488\n",
            "run= 19 gen= 2262 time= 50.93634283542633 eval FES= 299980 FO= 2.1395814578286068\n",
            "run= 20 gen= 2262 time= 53.43682398001353 eval FES= 299980 FO= 1.5221672305503544\n",
            "run= 21 gen= 2262 time= 55.94011718829473 eval FES= 299980 FO= 1.1966475442893327\n",
            "run= 22 gen= 2262 time= 58.43605283498764 eval FES= 299980 FO= 1.8654093400715328\n",
            "run= 23 gen= 2262 time= 60.918675208091734 eval FES= 299980 FO= 1.4496025030786863\n",
            "run= 24 gen= 2262 time= 63.374051515261336 eval FES= 299980 FO= 1.6435962947698908\n",
            "run= 25 gen= 2262 time= 65.82823404868444 eval FES= 299980 FO= 2.5171680402698957\n",
            "run= 26 gen= 2262 time= 68.2842930873235 eval FES= 299980 FO= 2.1082717731355523\n",
            "run= 27 gen= 2262 time= 70.74957480033238 eval FES= 299980 FO= 1.6580608075544263\n",
            "run= 28 gen= 2262 time= 73.24120471477508 eval FES= 299980 FO= 1.3210902084632892\n",
            "run= 29 gen= 2262 time= 75.72299739122391 eval FES= 299980 FO= 2.4073028434221864\n",
            "run= 30 gen= 2262 time= 78.20600583950679 eval FES= 299980 FO= 1.4446274742080916\n",
            "run= 31 gen= 2262 time= 80.66614116827647 eval FES= 299980 FO= 1.8617584129518183\n",
            "run= 32 gen= 2262 time= 83.18081123431524 eval FES= 299980 FO= 2.2556345324209377\n",
            "run= 33 gen= 2262 time= 85.64904717206954 eval FES= 299980 FO= 1.6944906333990395\n",
            "run= 34 gen= 2262 time= 88.12364656527838 eval FES= 299980 FO= 2.7033837394346225\n",
            "run= 35 gen= 2262 time= 90.5856904188792 eval FES= 299980 FO= 1.343047223714834\n",
            "run= 36 gen= 2262 time= 93.07215330203374 eval FES= 299980 FO= 1.7895978640138264\n",
            "run= 37 gen= 2262 time= 95.59393232266108 eval FES= 299980 FO= 2.1068913332667965\n",
            "run= 38 gen= 2262 time= 98.11080258687338 eval FES= 299980 FO= 1.7690022752702796\n",
            "run= 39 gen= 2262 time= 100.58635722398758 eval FES= 299980 FO= 1.5771065898903174\n",
            "run= 40 gen= 2262 time= 103.05508141120275 eval FES= 299980 FO= 1.8281537124003933\n",
            "run= 41 gen= 2262 time= 105.5295808116595 eval FES= 299980 FO= 2.1645645570165746\n",
            "run= 42 gen= 2262 time= 108.00290458997091 eval FES= 299980 FO= 1.5167165208856868\n",
            "run= 43 gen= 2262 time= 110.47779138882954 eval FES= 299980 FO= 1.6881170157389107\n",
            "run= 44 gen= 2262 time= 112.95115957260131 eval FES= 299980 FO= 1.563648241873149\n",
            "run= 45 gen= 2262 time= 115.42587505976358 eval FES= 299980 FO= 1.430582860774594\n",
            "run= 46 gen= 2262 time= 117.89164261817932 eval FES= 299980 FO= 1.2538047607484901\n",
            "run= 47 gen= 2262 time= 120.374751440684 eval FES= 299980 FO= 1.8143374075329355\n",
            "run= 48 gen= 2262 time= 122.85511176586151 eval FES= 299980 FO= 1.2992330650249944\n",
            "run= 49 gen= 2262 time= 125.33644255002339 eval FES= 299980 FO= 1.8658640467646435\n"
          ]
        }
      ]
    },
    {
      "cell_type": "code",
      "source": [
        "fit3.shape"
      ],
      "metadata": {
        "id": "TP_aOnia6JWH",
        "colab": {
          "base_uri": "https://localhost:8080/"
        },
        "outputId": "a236725f-3080-4add-ddd4-5e52310d27a7"
      },
      "execution_count": 29,
      "outputs": [
        {
          "output_type": "execute_result",
          "data": {
            "text/plain": [
              "(70,)"
            ]
          },
          "metadata": {},
          "execution_count": 29
        }
      ]
    },
    {
      "cell_type": "code",
      "source": [
        "ri"
      ],
      "metadata": {
        "id": "_XwlI1vDfTuP",
        "colab": {
          "base_uri": "https://localhost:8080/"
        },
        "outputId": "7c155eee-d15b-498d-fb46-ba075e897281"
      },
      "execution_count": 30,
      "outputs": [
        {
          "output_type": "execute_result",
          "data": {
            "text/plain": [
              "0"
            ]
          },
          "metadata": {},
          "execution_count": 30
        }
      ]
    },
    {
      "cell_type": "code",
      "source": [
        "MCR"
      ],
      "metadata": {
        "id": "k0WrHkxaf7kg",
        "colab": {
          "base_uri": "https://localhost:8080/"
        },
        "outputId": "e96238b0-06fe-4f9a-e841-5df50228f1c7"
      },
      "execution_count": 31,
      "outputs": [
        {
          "output_type": "execute_result",
          "data": {
            "text/plain": [
              "[0.1, 0.1, 0.1, 0.1, 0.1, 0.1]"
            ]
          },
          "metadata": {},
          "execution_count": 31
        }
      ]
    },
    {
      "cell_type": "code",
      "source": [
        "MF"
      ],
      "metadata": {
        "id": "GmeY53AKfZle",
        "colab": {
          "base_uri": "https://localhost:8080/"
        },
        "outputId": "fffdd6d4-2c92-4685-e813-0206a74d26d6"
      },
      "execution_count": 32,
      "outputs": [
        {
          "output_type": "execute_result",
          "data": {
            "text/plain": [
              "[1.0,\n",
              " 0.9688752716083666,\n",
              " 0.7560179917511745,\n",
              " 0.9251231105930207,\n",
              " 0.9054334057699093,\n",
              " 1.0]"
            ]
          },
          "metadata": {},
          "execution_count": 32
        }
      ]
    },
    {
      "cell_type": "code",
      "source": [
        "NPAR1,NPAR2,NPAR3,X1.shape,X2.shape,X3.shape"
      ],
      "metadata": {
        "id": "HLMbmikcZEiq",
        "colab": {
          "base_uri": "https://localhost:8080/"
        },
        "outputId": "cfbd5968-60c1-40d1-ea6d-7335f108233c"
      },
      "execution_count": 33,
      "outputs": [
        {
          "output_type": "execute_result",
          "data": {
            "text/plain": [
              "(4, 4, 70, (4, 30), (4, 30), (70, 30))"
            ]
          },
          "metadata": {},
          "execution_count": 33
        }
      ]
    },
    {
      "cell_type": "code",
      "metadata": {
        "id": "TLEE0UrZSvJF",
        "colab": {
          "base_uri": "https://localhost:8080/"
        },
        "outputId": "a0ef1c2d-5c6e-40c2-81c5-5b027138ba7f"
      },
      "source": [
        "#len(X2[1,:])\n",
        "print(cols)"
      ],
      "execution_count": 34,
      "outputs": [
        {
          "output_type": "stream",
          "name": "stdout",
          "text": [
            "30\n"
          ]
        }
      ]
    },
    {
      "cell_type": "code",
      "source": [
        "BEST_AGENTS=np.array(BEST_AGENTS)"
      ],
      "metadata": {
        "id": "scZnrGN1uoW3"
      },
      "execution_count": 35,
      "outputs": []
    },
    {
      "cell_type": "code",
      "metadata": {
        "id": "k3p9TGsx1OCu"
      },
      "source": [
        "NOMES=['DIVERSIDADE (DI)',  'DI RELATIVO','FRAC Its',\n",
        "           'VELOC FOBJ','VELOC X','NP','Fo','CRo','fmin','fmax',\n",
        "           'AD_fmin','AD_fmax','DELTA FOBJ','DELTA VX','r_fitness',\n",
        "           'F','CR']\n",
        "# BEST_INDEX= BEST_AGENTS[BEST_AGENTS[:,-1].argmin()]  \n",
        "BEST_INDEX = np.argmin(BEST_AGENTS[:,-1])\n",
        "#df=pd.DataFrame(MAT_stat[BEST_INDEX], columns=NOMES)\n",
        "\n"
      ],
      "execution_count": 36,
      "outputs": []
    },
    {
      "cell_type": "code",
      "source": [
        "TIME = (time.time() - start_time)/RUNS\n",
        "BEST_AGENTS=np.array(BEST_AGENTS)\n",
        "BEST_AGENTS_ST= BEST_AGENTS[BEST_AGENTS[:,-1].argsort()]\n",
        "BEST=BEST_AGENTS_ST[0]\n",
        "WORSE=BEST_AGENTS_ST[-1]\n",
        "MEAN=np.mean(BEST_AGENTS,axis=0)\n",
        "MAXFO=BEST_AGENTS[:,-1].max()\n",
        "MINFO=BEST_AGENTS[:,-1].min()\n",
        "STD=BEST_AGENTS[:,-1].std()    "
      ],
      "metadata": {
        "id": "CqGHCBBnw7jn"
      },
      "execution_count": 37,
      "outputs": []
    },
    {
      "cell_type": "code",
      "metadata": {
        "id": "lNSN5X-wskcx",
        "colab": {
          "base_uri": "https://localhost:8080/"
        },
        "outputId": "7566becf-afa9-4d86-b87a-530b288a42e4"
      },
      "source": [
        "nome='SUB'+'_Fo-'+str(Fi)+'_CRo-'+str(CRi)+'_D-'+str(dim)+'_Interv-'+str(ITE)\n",
        "print('MCS-FRANNK','Fator F/DE= %.2f' %(fator),'NPAR=',NPAR,'Iterações=',ITE*its,'Dim=', PAR,\"Min/Max=\",MIN[0],\"/\",MAX[0],'_',Fun.__name__)\n",
        "print(nome, '\\n')\n",
        "#print('BEST: ',BEST)\n",
        "#print('MÉDIA: ',MEAN)\n",
        "print('MÉDIA: ',MEAN[-1],'STD __:',STD)\n",
        "print('MIN __:',MINFO, 'MAX__: ',MAXFO)\n",
        "print(MEAN[-1])\n",
        "print(STD)\n",
        "print(MINFO)\n",
        "print(\"Tempo Médio= %.3f segundos ---\" % (TIME))\n",
        "print(RUNS,'Rodadas') \n",
        "print()\n",
        "print('BEST: ',BEST)\n",
        "# print('melhor=',BEST_AGENTS[BEST_INDEX])"
      ],
      "execution_count": 38,
      "outputs": [
        {
          "output_type": "stream",
          "name": "stdout",
          "text": [
            "MCS-FRANNK Fator F/DE= 0.33 NPAR= 12 Iterações= 1000 Dim= 30 Min/Max= -100 / 100 _ F15\n",
            "SUB_Fo-0.5_CRo-0.5_D-30_Interv-1000 \n",
            "\n",
            "MÉDIA:  1.7377377029982481 STD __: 0.4056117236032422\n",
            "MIN __: 1.0094425072003577 MAX__:  2.7033837394346225\n",
            "1.7377377029982481\n",
            "0.4056117236032422\n",
            "1.0094425072003577\n",
            "Tempo Médio= 150.406 segundos ---\n",
            "50 Rodadas\n",
            "\n",
            "BEST:  [ 0.57506488  0.68282955  0.50029913  0.26983537  0.42000825  0.52580166\n",
            "  0.62738155  0.74663552  0.80735229  0.67580604  0.46822452  0.21789491\n",
            "  0.39314507  0.3970668   0.39976308  0.50887247  0.01283246  0.3412498\n",
            " -0.12512728  0.23839736 -0.37038772  0.34760604  0.55019152  0.29270701\n",
            " -0.15507816 -0.30900195  0.50702341  0.60821117  0.35347049  0.47317793\n",
            "  1.00944251]\n"
          ]
        }
      ]
    },
    {
      "cell_type": "code",
      "source": [
        "MF,MCR,SF,SCR"
      ],
      "metadata": {
        "id": "3RQpDGEjsGVx",
        "colab": {
          "base_uri": "https://localhost:8080/"
        },
        "outputId": "c02cb631-9934-456d-a776-a29fe3b45a05"
      },
      "execution_count": 39,
      "outputs": [
        {
          "output_type": "execute_result",
          "data": {
            "text/plain": [
              "([1.0,\n",
              "  0.9688752716083666,\n",
              "  0.7560179917511745,\n",
              "  0.9251231105930207,\n",
              "  0.9054334057699093,\n",
              "  1.0],\n",
              " [0.1, 0.1, 0.1, 0.1, 0.1, 0.1],\n",
              " [],\n",
              " [])"
            ]
          },
          "metadata": {},
          "execution_count": 39
        }
      ]
    }
  ]
}