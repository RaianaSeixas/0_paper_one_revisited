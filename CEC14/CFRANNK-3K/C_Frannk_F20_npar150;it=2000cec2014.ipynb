{
  "nbformat": 4,
  "nbformat_minor": 0,
  "metadata": {
    "colab": {
      "name": "C_Frannk_F20_npar150;it=2000cec2014.ipynb",
      "provenance": [],
      "collapsed_sections": [],
      "include_colab_link": true
    },
    "kernelspec": {
      "name": "python3",
      "display_name": "Python 3"
    },
    "language_info": {
      "codemirror_mode": {
        "name": "ipython",
        "version": 3
      },
      "file_extension": ".py",
      "mimetype": "text/x-python",
      "name": "python",
      "nbconvert_exporter": "python",
      "pygments_lexer": "ipython3",
      "version": "3.7.3"
    }
  },
  "cells": [
    {
      "cell_type": "markdown",
      "metadata": {
        "id": "view-in-github",
        "colab_type": "text"
      },
      "source": [
        "<a href=\"https://colab.research.google.com/github/RaianaSeixas/0_paper_one_revisited/blob/main/CEC14/CFRANNK-3K/C_Frannk_F20_npar150%3Bit%3D2000cec2014.ipynb\" target=\"_parent\"><img src=\"https://colab.research.google.com/assets/colab-badge.svg\" alt=\"Open In Colab\"/></a>"
      ]
    },
    {
      "cell_type": "code",
      "metadata": {
        "colab": {
          "base_uri": "https://localhost:8080/"
        },
        "id": "c59cDVKoxDLX",
        "outputId": "bdc4e9fc-1ef0-4356-a34c-def25e9557de"
      },
      "source": [
        "############################### Importar códigos\n",
        "!git clone https://github.com/ucfilho/optim_raianars_Insight/ #clonar do Github\n",
        "%cd optim_raianars_Insight\n",
        "import de_soma_Insight\n",
        "import de_bounds_matriz\n",
        "import Go2Ann\n",
        "from pandas import read_csv"
      ],
      "execution_count": 1,
      "outputs": [
        {
          "output_type": "stream",
          "name": "stdout",
          "text": [
            "Cloning into 'optim_raianars_Insight'...\n",
            "remote: Enumerating objects: 632, done.\u001b[K\n",
            "remote: Counting objects: 100% (318/318), done.\u001b[K\n",
            "remote: Compressing objects: 100% (192/192), done.\u001b[K\n",
            "remote: Total 632 (delta 200), reused 205 (delta 126), pack-reused 314\u001b[K\n",
            "Receiving objects: 100% (632/632), 392.08 KiB | 7.54 MiB/s, done.\n",
            "Resolving deltas: 100% (381/381), done.\n",
            "/content/optim_raianars_Insight\n"
          ]
        }
      ]
    },
    {
      "cell_type": "code",
      "metadata": {
        "id": "Va-6Xios8RjU",
        "colab": {
          "base_uri": "https://localhost:8080/"
        },
        "outputId": "b60281b2-4069-4309-a8bb-38be2940bb3d"
      },
      "source": [
        "!git clone https://github.com/ucfilho/Raianars_paper_One #clonar do Github\n",
        "%cd Raianars_paper_One"
      ],
      "execution_count": 2,
      "outputs": [
        {
          "output_type": "stream",
          "name": "stdout",
          "text": [
            "Cloning into 'Raianars_paper_One'...\n",
            "remote: Enumerating objects: 277, done.\u001b[K\n",
            "remote: Counting objects:   0% (1/148)\u001b[K\rremote: Counting objects:   1% (2/148)\u001b[K\rremote: Counting objects:   2% (3/148)\u001b[K\rremote: Counting objects:   3% (5/148)\u001b[K\rremote: Counting objects:   4% (6/148)\u001b[K\rremote: Counting objects:   5% (8/148)\u001b[K\rremote: Counting objects:   6% (9/148)\u001b[K\rremote: Counting objects:   7% (11/148)\u001b[K\rremote: Counting objects:   8% (12/148)\u001b[K\rremote: Counting objects:   9% (14/148)\u001b[K\rremote: Counting objects:  10% (15/148)\u001b[K\rremote: Counting objects:  11% (17/148)\u001b[K\rremote: Counting objects:  12% (18/148)\u001b[K\rremote: Counting objects:  13% (20/148)\u001b[K\rremote: Counting objects:  14% (21/148)\u001b[K\rremote: Counting objects:  15% (23/148)\u001b[K\rremote: Counting objects:  16% (24/148)\u001b[K\rremote: Counting objects:  17% (26/148)\u001b[K\rremote: Counting objects:  18% (27/148)\u001b[K\rremote: Counting objects:  19% (29/148)\u001b[K\rremote: Counting objects:  20% (30/148)\u001b[K\rremote: Counting objects:  21% (32/148)\u001b[K\rremote: Counting objects:  22% (33/148)\u001b[K\rremote: Counting objects:  23% (35/148)\u001b[K\rremote: Counting objects:  24% (36/148)\u001b[K\rremote: Counting objects:  25% (37/148)\u001b[K\rremote: Counting objects:  26% (39/148)\u001b[K\rremote: Counting objects:  27% (40/148)\u001b[K\rremote: Counting objects:  28% (42/148)\u001b[K\rremote: Counting objects:  29% (43/148)\u001b[K\rremote: Counting objects:  30% (45/148)\u001b[K\rremote: Counting objects:  31% (46/148)\u001b[K\rremote: Counting objects:  32% (48/148)\u001b[K\rremote: Counting objects:  33% (49/148)\u001b[K\rremote: Counting objects:  34% (51/148)\u001b[K\rremote: Counting objects:  35% (52/148)\u001b[K\rremote: Counting objects:  36% (54/148)\u001b[K\rremote: Counting objects:  37% (55/148)\u001b[K\rremote: Counting objects:  38% (57/148)\u001b[K\rremote: Counting objects:  39% (58/148)\u001b[K\rremote: Counting objects:  40% (60/148)\u001b[K\rremote: Counting objects:  41% (61/148)\u001b[K\rremote: Counting objects:  42% (63/148)\u001b[K\rremote: Counting objects:  43% (64/148)\u001b[K\rremote: Counting objects:  44% (66/148)\u001b[K\rremote: Counting objects:  45% (67/148)\u001b[K\rremote: Counting objects:  46% (69/148)\u001b[K\rremote: Counting objects:  47% (70/148)\u001b[K\rremote: Counting objects:  48% (72/148)\u001b[K\rremote: Counting objects:  49% (73/148)\u001b[K\rremote: Counting objects:  50% (74/148)\u001b[K\rremote: Counting objects:  51% (76/148)\u001b[K\rremote: Counting objects:  52% (77/148)\u001b[K\rremote: Counting objects:  53% (79/148)\u001b[K\rremote: Counting objects:  54% (80/148)\u001b[K\rremote: Counting objects:  55% (82/148)\u001b[K\rremote: Counting objects:  56% (83/148)\u001b[K\rremote: Counting objects:  57% (85/148)\u001b[K\rremote: Counting objects:  58% (86/148)\u001b[K\rremote: Counting objects:  59% (88/148)\u001b[K\rremote: Counting objects:  60% (89/148)\u001b[K\rremote: Counting objects:  61% (91/148)\u001b[K\rremote: Counting objects:  62% (92/148)\u001b[K\rremote: Counting objects:  63% (94/148)\u001b[K\rremote: Counting objects:  64% (95/148)\u001b[K\rremote: Counting objects:  65% (97/148)\u001b[K\rremote: Counting objects:  66% (98/148)\u001b[K\rremote: Counting objects:  67% (100/148)\u001b[K\rremote: Counting objects:  68% (101/148)\u001b[K\rremote: Counting objects:  69% (103/148)\u001b[K\rremote: Counting objects:  70% (104/148)\u001b[K\rremote: Counting objects:  71% (106/148)\u001b[K\rremote: Counting objects:  72% (107/148)\u001b[K\rremote: Counting objects:  73% (109/148)\u001b[K\rremote: Counting objects:  74% (110/148)\u001b[K\rremote: Counting objects:  75% (111/148)\u001b[K\rremote: Counting objects:  76% (113/148)\u001b[K\rremote: Counting objects:  77% (114/148)\u001b[K\rremote: Counting objects:  78% (116/148)\u001b[K\rremote: Counting objects:  79% (117/148)\u001b[K\rremote: Counting objects:  80% (119/148)\u001b[K\rremote: Counting objects:  81% (120/148)\u001b[K\rremote: Counting objects:  82% (122/148)\u001b[K\rremote: Counting objects:  83% (123/148)\u001b[K\rremote: Counting objects:  84% (125/148)\u001b[K\rremote: Counting objects:  85% (126/148)\u001b[K\rremote: Counting objects:  86% (128/148)\u001b[K\rremote: Counting objects:  87% (129/148)\u001b[K\rremote: Counting objects:  88% (131/148)\u001b[K\rremote: Counting objects:  89% (132/148)\u001b[K\rremote: Counting objects:  90% (134/148)\u001b[K\rremote: Counting objects:  91% (135/148)\u001b[K\rremote: Counting objects:  92% (137/148)\u001b[K\rremote: Counting objects:  93% (138/148)\u001b[K\rremote: Counting objects:  94% (140/148)\u001b[K\rremote: Counting objects:  95% (141/148)\u001b[K\rremote: Counting objects:  96% (143/148)\u001b[K\rremote: Counting objects:  97% (144/148)\u001b[K\rremote: Counting objects:  98% (146/148)\u001b[K\rremote: Counting objects:  99% (147/148)\u001b[K\rremote: Counting objects: 100% (148/148)\u001b[K\rremote: Counting objects: 100% (148/148), done.\u001b[K\n",
            "remote: Compressing objects: 100% (65/65), done.\u001b[K\n",
            "remote: Total 277 (delta 83), reused 142 (delta 82), pack-reused 129\u001b[K\n",
            "Receiving objects: 100% (277/277), 667.30 KiB | 10.94 MiB/s, done.\n",
            "Resolving deltas: 100% (155/155), done.\n",
            "/content/optim_raianars_Insight/Raianars_paper_One\n"
          ]
        }
      ]
    },
    {
      "cell_type": "code",
      "metadata": {
        "id": "_E15mKFURR6O"
      },
      "source": [
        "#import Go2Ann\n",
        "#import de_soma_Insight\n",
        "#import de_bounds_matriz\n",
        "#import Function\n",
        "import Go2MinMax\n",
        "from AvaliaX import AvaliaX\n",
        "#from Function import FUN\n",
        "#from Function import Function.FUN\n",
        "#from Function import Function.Fun\n",
        "#from Function import Function\n",
        "from GeraIndices import GeraIndices\n",
        "import numpy as np\n",
        "import time\n",
        "import matplotlib.pyplot as plt\n",
        "from random import randint\n",
        "from scipy import optimize\n",
        "import pandas as pd\n",
        "from sklearn.metrics import confusion_matrix\n",
        "\n",
        "############################### DADOS DE ENTRADA \n",
        "RUNS=50 #NÚMERO DE RODADAS\n",
        "Fc=0.1 # fator de correcao parametros da ANN\n",
        "its=1 #10 # quantas vezes vai usar o NPAR antes de alterar de novo\n",
        "ITE=2000 #10 # PONTOS quantas vezes vai alteral NPAR \n",
        "NPAR=150\n",
        "mut=0.5\n",
        "crossp=0.5\n",
        "\n",
        "#fator = 1.0/3.0; \n",
        "Fi=mut;CRi=crossp;# para impressão\n",
        "fator = 1.0/3.0; \n",
        "mut2=0.5;crossp2=0.5;mut3=0.75;crossp3=0.25;mut4=0.25;crossp4=0.25;\n"
      ],
      "execution_count": 3,
      "outputs": []
    },
    {
      "cell_type": "code",
      "source": [
        "def load_shift_data__(data_file=None):\n",
        "    data = read_csv(data_file, delimiter='\\s+', index_col=False, header=None)\n",
        "    return data.values.reshape((-1))\n",
        "\n",
        "def load_matrix_data__(data_file=None):\n",
        "    data = read_csv(data_file, delimiter='\\s+', index_col=False, header=None)\n",
        "    return data.values"
      ],
      "metadata": {
        "id": "c79u3DHegd1r"
      },
      "execution_count": 4,
      "outputs": []
    },
    {
      "cell_type": "code",
      "metadata": {
        "colab": {
          "base_uri": "https://localhost:8080/"
        },
        "id": "ik3ZjkUKycUK",
        "outputId": "45dcebc4-b515-4177-d002-08e839f7f99b"
      },
      "source": [
        "############################### Importar códigos\n",
        "!git clone https://github.com/ucfilho/optim_raianars_Insight/ #clonar do Github\n",
        "%cd optim_raianars_Insight\n",
        "import de_soma_Insight\n",
        "import de_bounds_matriz"
      ],
      "execution_count": 5,
      "outputs": [
        {
          "output_type": "stream",
          "name": "stdout",
          "text": [
            "Cloning into 'optim_raianars_Insight'...\n",
            "remote: Enumerating objects: 632, done.\u001b[K\n",
            "remote: Counting objects: 100% (318/318), done.\u001b[K\n",
            "remote: Compressing objects: 100% (192/192), done.\u001b[K\n",
            "remote: Total 632 (delta 200), reused 205 (delta 126), pack-reused 314\u001b[K\n",
            "Receiving objects: 100% (632/632), 392.08 KiB | 7.69 MiB/s, done.\n",
            "Resolving deltas: 100% (381/381), done.\n",
            "/content/optim_raianars_Insight/Raianars_paper_One/optim_raianars_Insight\n"
          ]
        }
      ]
    },
    {
      "cell_type": "code",
      "metadata": {
        "colab": {
          "base_uri": "https://localhost:8080/"
        },
        "id": "lJogRB30yepw",
        "outputId": "c9eaba4d-03ca-48b6-cf29-61b40bbc52d7"
      },
      "source": [
        "#!git clone https://github.com/ucfilho/Raianars_paper_One #clonar do Github\n",
        "#%cd Raianars_paper_One\n",
        "\n",
        "!git clone https://github.com/ucfilho/Raianars_Routines #clonar do Github\n",
        "%cd Raianars_Routines"
      ],
      "execution_count": 6,
      "outputs": [
        {
          "output_type": "stream",
          "name": "stdout",
          "text": [
            "Cloning into 'Raianars_Routines'...\n",
            "remote: Enumerating objects: 77, done.\u001b[K\n",
            "remote: Counting objects: 100% (77/77), done.\u001b[K\n",
            "remote: Compressing objects: 100% (73/73), done.\u001b[K\n",
            "remote: Total 77 (delta 23), reused 0 (delta 0), pack-reused 0\u001b[K\n",
            "Unpacking objects: 100% (77/77), done.\n",
            "/content/optim_raianars_Insight/Raianars_paper_One/optim_raianars_Insight/Raianars_Routines\n"
          ]
        }
      ]
    },
    {
      "cell_type": "code",
      "source": [
        "!git clone https://github.com/ucfilho/functions_cec2014_data\n",
        "%cd functions_cec2014_data\n",
        "import F1_to_F27_cec2014_zero_to_hero\n",
        "import cec2014_names\n",
        "import cec2014_shift_rotate"
      ],
      "metadata": {
        "colab": {
          "base_uri": "https://localhost:8080/"
        },
        "id": "Z66tL-D0qM1H",
        "outputId": "e7b33353-20ba-4811-ad5d-09547506eb66"
      },
      "execution_count": 7,
      "outputs": [
        {
          "output_type": "stream",
          "name": "stdout",
          "text": [
            "Cloning into 'functions_cec2014_data'...\n",
            "remote: Enumerating objects: 300, done.\u001b[K\n",
            "remote: Counting objects: 100% (6/6), done.\u001b[K\n",
            "remote: Compressing objects: 100% (6/6), done.\u001b[K\n",
            "remote: Total 300 (delta 2), reused 0 (delta 0), pack-reused 294\u001b[K\n",
            "Receiving objects: 100% (300/300), 465.31 KiB | 6.04 MiB/s, done.\n",
            "Resolving deltas: 100% (181/181), done.\n",
            "/content/optim_raianars_Insight/Raianars_paper_One/optim_raianars_Insight/Raianars_Routines/functions_cec2014_data\n"
          ]
        }
      ]
    },
    {
      "cell_type": "code",
      "source": [
        "function_select = 'F20'\n",
        "\n",
        "problem_size = 30 # possibles 2, 10, 20, 30, 50, 100"
      ],
      "metadata": {
        "id": "hN3HYnHmqX3f"
      },
      "execution_count": 8,
      "outputs": []
    },
    {
      "cell_type": "code",
      "source": [
        "dim = problem_size "
      ],
      "metadata": {
        "id": "yCggKdhhtnp1"
      },
      "execution_count": 9,
      "outputs": []
    },
    {
      "cell_type": "code",
      "source": [
        "if function_select == 'F28':\n",
        "  hybrid_choice = 'F15'\n"
      ],
      "metadata": {
        "id": "jyolFRlJe--x"
      },
      "execution_count": 10,
      "outputs": []
    },
    {
      "cell_type": "code",
      "source": [
        ""
      ],
      "metadata": {
        "id": "AAuTNKnXhVoR"
      },
      "execution_count": 10,
      "outputs": []
    },
    {
      "cell_type": "code",
      "source": [
        "!pip install --upgrade --no-cache-dir gdown"
      ],
      "metadata": {
        "colab": {
          "base_uri": "https://localhost:8080/"
        },
        "id": "QFsJfpK3qfQy",
        "outputId": "e1e9b846-a5fe-43e3-beb9-c5d6dc972ae9"
      },
      "execution_count": 11,
      "outputs": [
        {
          "output_type": "stream",
          "name": "stdout",
          "text": [
            "Requirement already satisfied: gdown in /usr/local/lib/python3.7/dist-packages (4.4.0)\n",
            "Requirement already satisfied: tqdm in /usr/local/lib/python3.7/dist-packages (from gdown) (4.64.0)\n",
            "Requirement already satisfied: requests[socks] in /usr/local/lib/python3.7/dist-packages (from gdown) (2.23.0)\n",
            "Requirement already satisfied: beautifulsoup4 in /usr/local/lib/python3.7/dist-packages (from gdown) (4.6.3)\n",
            "Requirement already satisfied: filelock in /usr/local/lib/python3.7/dist-packages (from gdown) (3.6.0)\n",
            "Requirement already satisfied: six in /usr/local/lib/python3.7/dist-packages (from gdown) (1.15.0)\n",
            "Requirement already satisfied: urllib3!=1.25.0,!=1.25.1,<1.26,>=1.21.1 in /usr/local/lib/python3.7/dist-packages (from requests[socks]->gdown) (1.24.3)\n",
            "Requirement already satisfied: chardet<4,>=3.0.2 in /usr/local/lib/python3.7/dist-packages (from requests[socks]->gdown) (3.0.4)\n",
            "Requirement already satisfied: idna<3,>=2.5 in /usr/local/lib/python3.7/dist-packages (from requests[socks]->gdown) (2.10)\n",
            "Requirement already satisfied: certifi>=2017.4.17 in /usr/local/lib/python3.7/dist-packages (from requests[socks]->gdown) (2021.10.8)\n",
            "Requirement already satisfied: PySocks!=1.5.7,>=1.5.6 in /usr/local/lib/python3.7/dist-packages (from requests[socks]->gdown) (1.7.1)\n"
          ]
        }
      ]
    },
    {
      "cell_type": "code",
      "source": [
        "# !gdown --id 1yM-cGzp7F35bXZ-f80uoJHzGqAb52CPz\n",
        "# https://drive.google.com/file/d/1yM-cGzp7F35bXZ-f80uoJHzGqAb52CPz/view?usp=sharing\n",
        "!gdown --id 1yM-cGzp7F35bXZ-f80uoJHzGqAb52CPz"
      ],
      "metadata": {
        "colab": {
          "base_uri": "https://localhost:8080/"
        },
        "id": "bCv2CFD3qp0q",
        "outputId": "d4a92c87-5ad7-45f6-9420-fc42fd5baefb"
      },
      "execution_count": 12,
      "outputs": [
        {
          "output_type": "stream",
          "name": "stdout",
          "text": [
            "/usr/local/lib/python3.7/dist-packages/gdown/cli.py:131: FutureWarning: Option `--id` was deprecated in version 4.3.1 and will be removed in 5.0. You don't need to pass it anymore to use a file ID.\n",
            "  category=FutureWarning,\n",
            "Downloading...\n",
            "From: https://drive.google.com/uc?id=1yM-cGzp7F35bXZ-f80uoJHzGqAb52CPz\n",
            "To: /content/optim_raianars_Insight/Raianars_paper_One/optim_raianars_Insight/Raianars_Routines/functions_cec2014_data/cec2014.zip\n",
            "100% 36.1M/36.1M [00:00<00:00, 192MB/s]\n"
          ]
        }
      ]
    },
    {
      "cell_type": "code",
      "source": [
        "import zipfile\n",
        "file_name = zipfile.ZipFile('cec2014.zip', 'r')\n",
        "file_name.extractall()"
      ],
      "metadata": {
        "id": "-N1Hsa88W-Mr"
      },
      "execution_count": 13,
      "outputs": []
    },
    {
      "cell_type": "code",
      "source": [
        "\n",
        "Function_CEC2014 =function_select + \"_\" + cec2014_names.NamesFunctions()[function_select]+\"_D_\"+str(problem_size)\n",
        "\n",
        "f_matrix = \"M_\"+function_select[1:]+\"_D\"+str(problem_size) + \".txt\"\n",
        "shift_data_file=\"shift_data_\"+function_select[1:]+\".txt\"\n",
        "shift_data = load_shift_data__(shift_data_file)[:problem_size]\n",
        "matrix = load_matrix_data__(f_matrix)\n",
        "f_shuffle = \"shuffle_data_\"+function_select[1:]+\"_D\"+str(problem_size) + \".txt\"\n",
        "shuffle = (load_shift_data__(f_shuffle)[:problem_size] - np.ones(problem_size)).astype(int)\n",
        "\n",
        "f12_hgbat__ = F1_to_F27_cec2014_zero_to_hero.f12_hgbat__\n",
        "f3_discus__ = F1_to_F27_cec2014_zero_to_hero.f3_discus__\n",
        "f13_expanded_griewank__ = F1_to_F27_cec2014_zero_to_hero.f13_expanded_griewank__\n",
        "f8_rastrigin__ = F1_to_F27_cec2014_zero_to_hero.f8_rastrigin__\n",
        "\n",
        "f1_elliptic__ = F1_to_F27_cec2014_zero_to_hero.f1_elliptic__\n",
        "\n",
        "\n",
        "def F20(solution , shift_data= shift_data , matrix=matrix,shuffle=shuffle):\n",
        "    problem_size = len(solution)\n",
        "    p = np.array([0.2, 0.2, 0.3, 0.3])\n",
        "    n1 = int(np.ceil(p[0] * problem_size))\n",
        "    n2 = int(np.ceil(p[1] * problem_size))\n",
        "    n3 = int(np.ceil(p[2] * problem_size))\n",
        "\n",
        "    idx1 = shuffle[:n1]\n",
        "    idx2 = shuffle[n1:(n1 + n2)]\n",
        "    idx3 = shuffle[(n1 + n2):(n1 + n2 + n3)]\n",
        "    idx4 = shuffle[n1 + n2 + n3:]\n",
        "    mz = np.dot(solution - shift_data, matrix)\n",
        "    return f12_hgbat__(mz[idx1]) + f3_discus__(mz[idx2]) + f13_expanded_griewank__(mz[idx3]) + f8_rastrigin__(mz[idx4])# + bias"
      ],
      "metadata": {
        "id": "DEUr4sgUelxf"
      },
      "execution_count": 14,
      "outputs": []
    },
    {
      "cell_type": "code",
      "source": [
        "def load_shift_data__(data_file=None):\n",
        "    data = read_csv(data_file, delimiter='\\s+', index_col=False, header=None)\n",
        "    return data.values.reshape((-1))\n",
        "\n",
        "def load_matrix_data__(data_file=None):\n",
        "    data = read_csv(data_file, delimiter='\\s+', index_col=False, header=None)\n",
        "    return data.values"
      ],
      "metadata": {
        "id": "_tEgxfW4qwlt"
      },
      "execution_count": 15,
      "outputs": []
    },
    {
      "cell_type": "code",
      "source": [
        "if function_select == 'F28':\n",
        "  Function = F28\n",
        "if function_select == 'F25':\n",
        "  Function = F25\n",
        "if function_select == 'F22':\n",
        "  Function = F22\n",
        "if function_select == 'F20':\n",
        "  Function = F20\n",
        "  \n",
        "fobj=Function\n",
        "Fun = Function"
      ],
      "metadata": {
        "id": "LdoPBTOEu5xa"
      },
      "execution_count": 16,
      "outputs": []
    },
    {
      "cell_type": "code",
      "source": [
        "SUPPORT_DIMENSION = [2, 10, 20, 30, 50, 100]\n",
        "SUPPORT_DIMENSION_2 = [10, 20, 30, 50, 100]\n",
        "\n",
        "#def Fun(solution,shift_data=shift_data_a, matrix=matrix_a, shuffle):#, bias=F_bias):\n",
        "def CEC2014(solution, shift_data ,  matrix, shuffle):#, bias=F_bias):\n",
        "  if(type_fun == 'shift_rotate'):\n",
        "    z = Shift_Rotate(solution , shift_data , matrix,shuffle)\n",
        "    result = Function(z) + F_bias\n",
        "  elif(type_fun =='hybrid'): # F17 to F22\n",
        "    z = Shift_Rotate(solution , shift_data , matrix,shuffle)\n",
        "    result = z + F_bias\n",
        " \n",
        "  return result"
      ],
      "metadata": {
        "id": "AF2E2EIwrC8o"
      },
      "execution_count": 17,
      "outputs": []
    },
    {
      "cell_type": "code",
      "source": [
        "!git clone https://github.com/ucfilho/Raianars_paper_One #clonar do Github\n",
        "%cd Raianars_paper_One"
      ],
      "metadata": {
        "colab": {
          "base_uri": "https://localhost:8080/"
        },
        "id": "9Vsz9VQRrLVf",
        "outputId": "ab836db3-671b-441a-9992-fbf8a50d0a6d"
      },
      "execution_count": 18,
      "outputs": [
        {
          "output_type": "stream",
          "name": "stdout",
          "text": [
            "Cloning into 'Raianars_paper_One'...\n",
            "remote: Enumerating objects: 277, done.\u001b[K\n",
            "remote: Counting objects:   0% (1/148)\u001b[K\rremote: Counting objects:   1% (2/148)\u001b[K\rremote: Counting objects:   2% (3/148)\u001b[K\rremote: Counting objects:   3% (5/148)\u001b[K\rremote: Counting objects:   4% (6/148)\u001b[K\rremote: Counting objects:   5% (8/148)\u001b[K\rremote: Counting objects:   6% (9/148)\u001b[K\rremote: Counting objects:   7% (11/148)\u001b[K\rremote: Counting objects:   8% (12/148)\u001b[K\rremote: Counting objects:   9% (14/148)\u001b[K\rremote: Counting objects:  10% (15/148)\u001b[K\rremote: Counting objects:  11% (17/148)\u001b[K\rremote: Counting objects:  12% (18/148)\u001b[K\rremote: Counting objects:  13% (20/148)\u001b[K\rremote: Counting objects:  14% (21/148)\u001b[K\rremote: Counting objects:  15% (23/148)\u001b[K\rremote: Counting objects:  16% (24/148)\u001b[K\rremote: Counting objects:  17% (26/148)\u001b[K\rremote: Counting objects:  18% (27/148)\u001b[K\rremote: Counting objects:  19% (29/148)\u001b[K\rremote: Counting objects:  20% (30/148)\u001b[K\rremote: Counting objects:  21% (32/148)\u001b[K\rremote: Counting objects:  22% (33/148)\u001b[K\rremote: Counting objects:  23% (35/148)\u001b[K\rremote: Counting objects:  24% (36/148)\u001b[K\rremote: Counting objects:  25% (37/148)\u001b[K\rremote: Counting objects:  26% (39/148)\u001b[K\rremote: Counting objects:  27% (40/148)\u001b[K\rremote: Counting objects:  28% (42/148)\u001b[K\rremote: Counting objects:  29% (43/148)\u001b[K\rremote: Counting objects:  30% (45/148)\u001b[K\rremote: Counting objects:  31% (46/148)\u001b[K\rremote: Counting objects:  32% (48/148)\u001b[K\rremote: Counting objects:  33% (49/148)\u001b[K\rremote: Counting objects:  34% (51/148)\u001b[K\rremote: Counting objects:  35% (52/148)\u001b[K\rremote: Counting objects:  36% (54/148)\u001b[K\rremote: Counting objects:  37% (55/148)\u001b[K\rremote: Counting objects:  38% (57/148)\u001b[K\rremote: Counting objects:  39% (58/148)\u001b[K\rremote: Counting objects:  40% (60/148)\u001b[K\rremote: Counting objects:  41% (61/148)\u001b[K\rremote: Counting objects:  42% (63/148)\u001b[K\rremote: Counting objects:  43% (64/148)\u001b[K\rremote: Counting objects:  44% (66/148)\u001b[K\rremote: Counting objects:  45% (67/148)\u001b[K\rremote: Counting objects:  46% (69/148)\u001b[K\rremote: Counting objects:  47% (70/148)\u001b[K\rremote: Counting objects:  48% (72/148)\u001b[K\rremote: Counting objects:  49% (73/148)\u001b[K\rremote: Counting objects:  50% (74/148)\u001b[K\rremote: Counting objects:  51% (76/148)\u001b[K\rremote: Counting objects:  52% (77/148)\u001b[K\rremote: Counting objects:  53% (79/148)\u001b[K\rremote: Counting objects:  54% (80/148)\u001b[K\rremote: Counting objects:  55% (82/148)\u001b[K\rremote: Counting objects:  56% (83/148)\u001b[K\rremote: Counting objects:  57% (85/148)\u001b[K\rremote: Counting objects:  58% (86/148)\u001b[K\rremote: Counting objects:  59% (88/148)\u001b[K\rremote: Counting objects:  60% (89/148)\u001b[K\rremote: Counting objects:  61% (91/148)\u001b[K\rremote: Counting objects:  62% (92/148)\u001b[K\rremote: Counting objects:  63% (94/148)\u001b[K\rremote: Counting objects:  64% (95/148)\u001b[K\rremote: Counting objects:  65% (97/148)\u001b[K\rremote: Counting objects:  66% (98/148)\u001b[K\rremote: Counting objects:  67% (100/148)\u001b[K\rremote: Counting objects:  68% (101/148)\u001b[K\rremote: Counting objects:  69% (103/148)\u001b[K\rremote: Counting objects:  70% (104/148)\u001b[K\rremote: Counting objects:  71% (106/148)\u001b[K\rremote: Counting objects:  72% (107/148)\u001b[K\rremote: Counting objects:  73% (109/148)\u001b[K\rremote: Counting objects:  74% (110/148)\u001b[K\rremote: Counting objects:  75% (111/148)\u001b[K\rremote: Counting objects:  76% (113/148)\u001b[K\rremote: Counting objects:  77% (114/148)\u001b[K\rremote: Counting objects:  78% (116/148)\u001b[K\rremote: Counting objects:  79% (117/148)\u001b[K\rremote: Counting objects:  80% (119/148)\u001b[K\rremote: Counting objects:  81% (120/148)\u001b[K\rremote: Counting objects:  82% (122/148)\u001b[K\rremote: Counting objects:  83% (123/148)\u001b[K\rremote: Counting objects:  84% (125/148)\u001b[K\rremote: Counting objects:  85% (126/148)\u001b[K\rremote: Counting objects:  86% (128/148)\u001b[K\rremote: Counting objects:  87% (129/148)\u001b[K\rremote: Counting objects:  88% (131/148)\u001b[K\rremote: Counting objects:  89% (132/148)\u001b[K\rremote: Counting objects:  90% (134/148)\u001b[K\rremote: Counting objects:  91% (135/148)\u001b[K\rremote: Counting objects:  92% (137/148)\u001b[K\rremote: Counting objects:  93% (138/148)\u001b[K\rremote: Counting objects:  94% (140/148)\u001b[K\rremote: Counting objects:  95% (141/148)\u001b[K\rremote: Counting objects:  96% (143/148)\u001b[K\rremote: Counting objects:  97% (144/148)\u001b[K\rremote: Counting objects:  98% (146/148)\u001b[K\rremote: Counting objects:  99% (147/148)\u001b[K\rremote: Counting objects: 100% (148/148)\u001b[K\rremote: Counting objects: 100% (148/148), done.\u001b[K\n",
            "remote: Compressing objects:   1% (1/65)\u001b[K\rremote: Compressing objects:   3% (2/65)\u001b[K\rremote: Compressing objects:   4% (3/65)\u001b[K\rremote: Compressing objects:   6% (4/65)\u001b[K\rremote: Compressing objects:   7% (5/65)\u001b[K\rremote: Compressing objects:   9% (6/65)\u001b[K\rremote: Compressing objects:  10% (7/65)\u001b[K\rremote: Compressing objects:  12% (8/65)\u001b[K\rremote: Compressing objects:  13% (9/65)\u001b[K\rremote: Compressing objects:  15% (10/65)\u001b[K\rremote: Compressing objects:  16% (11/65)\u001b[K\rremote: Compressing objects:  18% (12/65)\u001b[K\rremote: Compressing objects:  20% (13/65)\u001b[K\rremote: Compressing objects:  21% (14/65)\u001b[K\rremote: Compressing objects:  23% (15/65)\u001b[K\rremote: Compressing objects:  24% (16/65)\u001b[K\rremote: Compressing objects:  26% (17/65)\u001b[K\rremote: Compressing objects:  27% (18/65)\u001b[K\rremote: Compressing objects:  29% (19/65)\u001b[K\rremote: Compressing objects:  30% (20/65)\u001b[K\rremote: Compressing objects:  32% (21/65)\u001b[K\rremote: Compressing objects:  33% (22/65)\u001b[K\rremote: Compressing objects:  35% (23/65)\u001b[K\rremote: Compressing objects:  36% (24/65)\u001b[K\rremote: Compressing objects:  38% (25/65)\u001b[K\rremote: Compressing objects:  40% (26/65)\u001b[K\rremote: Compressing objects:  41% (27/65)\u001b[K\rremote: Compressing objects:  43% (28/65)\u001b[K\rremote: Compressing objects:  44% (29/65)\u001b[K\rremote: Compressing objects:  46% (30/65)\u001b[K\rremote: Compressing objects:  47% (31/65)\u001b[K\rremote: Compressing objects:  49% (32/65)\u001b[K\rremote: Compressing objects:  50% (33/65)\u001b[K\rremote: Compressing objects:  52% (34/65)\u001b[K\rremote: Compressing objects:  53% (35/65)\u001b[K\rremote: Compressing objects:  55% (36/65)\u001b[K\rremote: Compressing objects:  56% (37/65)\u001b[K\rremote: Compressing objects:  58% (38/65)\u001b[K\rremote: Compressing objects:  60% (39/65)\u001b[K\rremote: Compressing objects:  61% (40/65)\u001b[K\rremote: Compressing objects:  63% (41/65)\u001b[K\rremote: Compressing objects:  64% (42/65)\u001b[K\rremote: Compressing objects:  66% (43/65)\u001b[K\rremote: Compressing objects:  67% (44/65)\u001b[K\rremote: Compressing objects:  69% (45/65)\u001b[K\rremote: Compressing objects:  70% (46/65)\u001b[K\rremote: Compressing objects:  72% (47/65)\u001b[K\rremote: Compressing objects:  73% (48/65)\u001b[K\rremote: Compressing objects:  75% (49/65)\u001b[K\rremote: Compressing objects:  76% (50/65)\u001b[K\rremote: Compressing objects:  78% (51/65)\u001b[K\rremote: Compressing objects:  80% (52/65)\u001b[K\rremote: Compressing objects:  81% (53/65)\u001b[K\rremote: Compressing objects:  83% (54/65)\u001b[K\rremote: Compressing objects:  84% (55/65)\u001b[K\rremote: Compressing objects:  86% (56/65)\u001b[K\rremote: Compressing objects:  87% (57/65)\u001b[K\rremote: Compressing objects:  89% (58/65)\u001b[K\rremote: Compressing objects:  90% (59/65)\u001b[K\rremote: Compressing objects:  92% (60/65)\u001b[K\rremote: Compressing objects:  93% (61/65)\u001b[K\rremote: Compressing objects:  95% (62/65)\u001b[K\rremote: Compressing objects:  96% (63/65)\u001b[K\rremote: Compressing objects:  98% (64/65)\u001b[K\rremote: Compressing objects: 100% (65/65)\u001b[K\rremote: Compressing objects: 100% (65/65), done.\u001b[K\n",
            "Receiving objects:   0% (1/277)   \rReceiving objects:   1% (3/277)   \rReceiving objects:   2% (6/277)   \rReceiving objects:   3% (9/277)   \rReceiving objects:   4% (12/277)   \rReceiving objects:   5% (14/277)   \rReceiving objects:   6% (17/277)   \rReceiving objects:   7% (20/277)   \rReceiving objects:   8% (23/277)   \rReceiving objects:   9% (25/277)   \rReceiving objects:  10% (28/277)   \rReceiving objects:  11% (31/277)   \rReceiving objects:  12% (34/277)   \rReceiving objects:  13% (37/277)   \rReceiving objects:  14% (39/277)   \rReceiving objects:  15% (42/277)   \rReceiving objects:  16% (45/277)   \rReceiving objects:  17% (48/277)   \rReceiving objects:  18% (50/277)   \rReceiving objects:  19% (53/277)   \rReceiving objects:  20% (56/277)   \rReceiving objects:  21% (59/277)   \rReceiving objects:  22% (61/277)   \rReceiving objects:  23% (64/277)   \rReceiving objects:  24% (67/277)   \rReceiving objects:  25% (70/277)   \rReceiving objects:  26% (73/277)   \rReceiving objects:  27% (75/277)   \rReceiving objects:  28% (78/277)   \rReceiving objects:  29% (81/277)   \rReceiving objects:  30% (84/277)   \rReceiving objects:  31% (86/277)   \rReceiving objects:  32% (89/277)   \rReceiving objects:  33% (92/277)   \rReceiving objects:  34% (95/277)   \rReceiving objects:  35% (97/277)   \rReceiving objects:  36% (100/277)   \rReceiving objects:  37% (103/277)   \rReceiving objects:  38% (106/277)   \rReceiving objects:  39% (109/277)   \rReceiving objects:  40% (111/277)   \rReceiving objects:  41% (114/277)   \rReceiving objects:  42% (117/277)   \rReceiving objects:  43% (120/277)   \rReceiving objects:  44% (122/277)   \rReceiving objects:  45% (125/277)   \rReceiving objects:  46% (128/277)   \rReceiving objects:  47% (131/277)   \rReceiving objects:  48% (133/277)   \rReceiving objects:  49% (136/277)   \rReceiving objects:  50% (139/277)   \rReceiving objects:  51% (142/277)   \rReceiving objects:  52% (145/277)   \rReceiving objects:  53% (147/277)   \rReceiving objects:  54% (150/277)   \rReceiving objects:  55% (153/277)   \rReceiving objects:  56% (156/277)   \rReceiving objects:  57% (158/277)   \rReceiving objects:  58% (161/277)   \rReceiving objects:  59% (164/277)   \rReceiving objects:  60% (167/277)   \rReceiving objects:  61% (169/277)   \rReceiving objects:  62% (172/277)   \rReceiving objects:  63% (175/277)   \rReceiving objects:  64% (178/277)   \rReceiving objects:  65% (181/277)   \rReceiving objects:  66% (183/277)   \rReceiving objects:  67% (186/277)   \rReceiving objects:  68% (189/277)   \rReceiving objects:  69% (192/277)   \rReceiving objects:  70% (194/277)   \rReceiving objects:  71% (197/277)   \rReceiving objects:  72% (200/277)   \rReceiving objects:  73% (203/277)   \rReceiving objects:  74% (205/277)   \rReceiving objects:  75% (208/277)   \rReceiving objects:  76% (211/277)   \rReceiving objects:  77% (214/277)   \rReceiving objects:  78% (217/277)   \rReceiving objects:  79% (219/277)   \rReceiving objects:  80% (222/277)   \rReceiving objects:  81% (225/277)   \rReceiving objects:  82% (228/277)   \rReceiving objects:  83% (230/277)   \rReceiving objects:  84% (233/277)   \rReceiving objects:  85% (236/277)   \rReceiving objects:  86% (239/277)   \rReceiving objects:  87% (241/277)   \rReceiving objects:  88% (244/277)   \rReceiving objects:  89% (247/277)   \rReceiving objects:  90% (250/277)   \rReceiving objects:  91% (253/277)   \rReceiving objects:  92% (255/277)   \rReceiving objects:  93% (258/277)   \rReceiving objects:  94% (261/277)   \rReceiving objects:  95% (264/277)   \rReceiving objects:  96% (266/277)   \rReceiving objects:  97% (269/277)   \rremote: Total 277 (delta 83), reused 142 (delta 82), pack-reused 129\u001b[K\n",
            "Receiving objects:  98% (272/277)   \rReceiving objects:  99% (275/277)   \rReceiving objects: 100% (277/277)   \rReceiving objects: 100% (277/277), 667.30 KiB | 11.31 MiB/s, done.\n",
            "Resolving deltas:   0% (0/155)   \rResolving deltas:  34% (54/155)   \rResolving deltas:  44% (69/155)   \rResolving deltas:  45% (70/155)   \rResolving deltas:  46% (72/155)   \rResolving deltas:  76% (119/155)   \rResolving deltas:  77% (120/155)   \rResolving deltas:  85% (133/155)   \rResolving deltas:  86% (134/155)   \rResolving deltas:  97% (151/155)   \rResolving deltas:  98% (153/155)   \rResolving deltas: 100% (155/155)   \rResolving deltas: 100% (155/155), done.\n",
            "/content/optim_raianars_Insight/Raianars_paper_One/optim_raianars_Insight/Raianars_Routines/functions_cec2014_data/Raianars_paper_One\n"
          ]
        }
      ]
    },
    {
      "cell_type": "code",
      "source": [
        "MAX=np.repeat(100,dim)\n",
        "MIN=np.repeat(-100,dim)\n",
        "\n",
        "bounds=[]\n",
        "for k in range(len(MAX)):\n",
        "  bounds.append((MIN[k],MAX[k]))"
      ],
      "metadata": {
        "id": "ukk5Twiiq0MN"
      },
      "execution_count": 19,
      "outputs": []
    },
    {
      "cell_type": "code",
      "metadata": {
        "id": "qTINtQ1cosZK",
        "colab": {
          "base_uri": "https://localhost:8080/"
        },
        "outputId": "6ce04e43-946b-43a5-89f2-5602674417cc"
      },
      "source": [
        "!git clone https://github.com/ucfilho/ANN_read_matrix #clonar do Github\n",
        "%cd ANN_read_matrix"
      ],
      "execution_count": 20,
      "outputs": [
        {
          "output_type": "stream",
          "name": "stdout",
          "text": [
            "Cloning into 'ANN_read_matrix'...\n",
            "remote: Enumerating objects: 20, done.\u001b[K\n",
            "remote: Total 20 (delta 0), reused 0 (delta 0), pack-reused 20\u001b[K\n",
            "Unpacking objects: 100% (20/20), done.\n",
            "/content/optim_raianars_Insight/Raianars_paper_One/optim_raianars_Insight/Raianars_Routines/functions_cec2014_data/Raianars_paper_One/ANN_read_matrix\n"
          ]
        }
      ]
    },
    {
      "cell_type": "code",
      "metadata": {
        "id": "QiQLYOoNoyCw"
      },
      "source": [
        "ANN_F=pd.read_csv('ANN_INSIGHT_Valor_F.csv')"
      ],
      "execution_count": 21,
      "outputs": []
    },
    {
      "cell_type": "code",
      "metadata": {
        "id": "uHtW2amaDzFv"
      },
      "source": [
        "ANN_CR=pd.read_csv('ANN_INSIGHT_CR.csv')"
      ],
      "execution_count": 22,
      "outputs": []
    },
    {
      "cell_type": "code",
      "metadata": {
        "id": "EH6h_vke2yu1"
      },
      "source": [
        "syn0_F,syn1_F,X_max_F,X_min_F=Go2Ann.GetMatriz(ANN_F)"
      ],
      "execution_count": 23,
      "outputs": []
    },
    {
      "cell_type": "code",
      "metadata": {
        "id": "WW_3ZWJXD60i"
      },
      "source": [
        "syn0_CR,syn1_CR,X_max_CR,X_min_CR=Go2Ann.GetMatriz(ANN_CR)"
      ],
      "execution_count": 24,
      "outputs": []
    },
    {
      "cell_type": "code",
      "metadata": {
        "id": "b4gwBvVTyaXh"
      },
      "source": [
        "ANN_CR=pd.read_csv('ANN_INSIGHT_CR.csv')"
      ],
      "execution_count": 25,
      "outputs": []
    },
    {
      "cell_type": "code",
      "metadata": {
        "id": "6jL8MxpHvk-Y"
      },
      "source": [
        "fields = ['DI RELATIVO','FRAC Its','Fo','CRo']"
      ],
      "execution_count": 26,
      "outputs": []
    },
    {
      "cell_type": "code",
      "metadata": {
        "id": "Mb3LmbSmj9v7",
        "colab": {
          "base_uri": "https://localhost:8080/"
        },
        "outputId": "c05c2aa6-014b-4885-c70c-9eae59bf9936"
      },
      "source": [
        "##################################### \n",
        "\n",
        "TOTAL=10*dim*its*ITE\n",
        "TOTAL=int(TOTAL/2)   # CONFERIR SE ESTE EH O MELHOR LUGAR\n",
        "\n",
        "#dimensions=len(MAX)\n",
        "dimensions=dim\n",
        "start_time = time.time() #INICIALIZA CONTAGEM DO TEMPO\n",
        "\n",
        "\n",
        "PAR=dim\n",
        "\n",
        "\n",
        "MAX_P=np.zeros(ITE) # ATENCAO para variar F e Cr MAX_P passa a ser 3 vezes maior\n",
        "MIN_P=np.zeros(ITE) # ATENCAO para variar F e Cr MIN_P passa a ser 3 vezes maior\n",
        "\n",
        "for i in range(dim):\n",
        "  MAX_P[i]=MAX[i] \n",
        "  MIN_P[i]=MIN[i]\n",
        "\n",
        "rodadas=1\n",
        "NPAR1=int(fator*NPAR);\n",
        "NPAR2=int((NPAR-NPAR1)/3);\n",
        "NPAR3=int((NPAR-NPAR1)/3);\n",
        "NPAR4=int((NPAR-NPAR1)/3);\n",
        "NPAR1 = NPAR-3*NPAR2\n",
        "print('frac=',fator);\n",
        "print('Npar1=',NPAR1);\n",
        "print('Npar2=',NPAR2);\n",
        "print('Npar3=',NPAR3);\n",
        "print('Npar4=',NPAR4);\n",
        "print('Npar=',NPAR)\n",
        "\n",
        "cols=dim\n",
        "\n",
        "X1=np.zeros((NPAR1,cols)) # X1 is Frannk population\n",
        "for i in range(NPAR1):\n",
        "  for j in range(cols):\n",
        "    r=np.random.random()\n",
        "    X1[i,j]=r*(MAX[j]-MIN[j])+MIN[j]\n",
        "    \n",
        "X2=np.zeros((NPAR2,cols)) # X2 is population DE (default DE)\n",
        "for i in range(NPAR2):\n",
        "  for j in range(cols):\n",
        "    r=np.random.random()\n",
        "    X2[i,j]=r*(MAX[j]-MIN[j])+MIN[j]\n",
        "\n",
        "X3=np.zeros((NPAR3,cols)) # X1 is Frannk population\n",
        "for i in range(NPAR3):\n",
        "  for j in range(cols):\n",
        "    r=np.random.random()\n",
        "    X3[i,j]=r*(MAX[j]-MIN[j])+MIN[j]\n",
        "    \n",
        "X4=np.zeros((NPAR4,cols)) # X2 is population DE (default DE)\n",
        "for i in range(NPAR4):\n",
        "  for j in range(cols):\n",
        "    r=np.random.random()\n",
        "    X4[i,j]=r*(MAX[j]-MIN[j])+MIN[j]\n",
        "    \n",
        " ############################################################\n",
        "  #bounds=[(5*dim, 15*dim)] * PONTOS # ITE\n",
        "  #bounds=[(3*dim, 12*dim)] * PONTOS # ITE\n",
        "  #bounds=[(4*dim, 16*dim)] * PONTOS\n",
        "  \n",
        "  # nao pode ser assim pq o bounds vale p o DE nao dos parametros\n",
        "  #p=int(TOTAL/its/ITE) \n",
        "  #bounds=[(p, p)] * PONTOS\n"
      ],
      "execution_count": 27,
      "outputs": [
        {
          "output_type": "stream",
          "name": "stdout",
          "text": [
            "frac= 0.3333333333333333\n",
            "Npar1= 51\n",
            "Npar2= 33\n",
            "Npar3= 33\n",
            "Npar4= 33\n",
            "Npar= 150\n"
          ]
        }
      ]
    },
    {
      "cell_type": "code",
      "metadata": {
        "id": "rnX8ttNopd1G",
        "colab": {
          "base_uri": "https://localhost:8080/"
        },
        "outputId": "e91af566-2f2f-4833-ee06-91d3f6626795"
      },
      "source": [
        "\n",
        "start_time = time.time()\n",
        "BEST_AGENTS=[]\n",
        "MAT_stat=[]\n",
        "for iii in range(RUNS):\n",
        "    MAT=[] \n",
        "    mut=Fi\n",
        "    crossp=CRi\n",
        "    SOMA=0\n",
        "    pop = np.random.rand(NPAR, dim)\n",
        "    diff=np.zeros(PAR)\n",
        "\n",
        "\n",
        "    X1=np.zeros((NPAR1,cols)) # X1 is Frannk population\n",
        "    for i in range(NPAR1):\n",
        "      for j in range(cols):\n",
        "        r=np.random.random()\n",
        "        X1[i,j]=r*(MAX[j]-MIN[j])+MIN[j]\n",
        "        \n",
        "    X2=np.zeros((NPAR2,cols)) # X2 is population DE (default DE)\n",
        "    for i in range(NPAR2):\n",
        "      for j in range(cols):\n",
        "        r=np.random.random()\n",
        "        X2[i,j]=r*(MAX[j]-MIN[j])+MIN[j]\n",
        "\n",
        "    X3=np.zeros((NPAR3,cols)) # X2 is population DE (default DE)\n",
        "    for i in range(NPAR3):\n",
        "      for j in range(cols):\n",
        "        r=np.random.random()\n",
        "        X3[i,j]=r*(MAX[j]-MIN[j])+MIN[j]\n",
        "\n",
        "    X4=np.zeros((NPAR4,cols)) # X2 is population DE (default DE)\n",
        "    for i in range(NPAR4):\n",
        "      for j in range(cols):\n",
        "        r=np.random.random()\n",
        "        X4[i,j]=r*(MAX[j]-MIN[j])+MIN[j]\n",
        "    \n",
        "    DIo=1e99\n",
        "  \n",
        "    CRo=crossp;Fo=mut;\n",
        "    Fitness = np.asarray([Fun(ind, shift_data , matrix, shuffle) for ind in X1])\n",
        "    XY,BEST_XY,BESTo,FOBESTo=AvaliaX(X1,Fitness)\n",
        "    nrow,ncol=X1.shape\n",
        "\n",
        "    QUANT=17;MAT_INDo=np.zeros((1,QUANT)); # quantos indices esta fazendo\n",
        "    MAT_INDo[0,5]=nrow  # VALOR NP\n",
        "    MAT_INDo[0,6]=Fo    # VALOR Fo   \n",
        "    MAT_INDo[0,7]=CRo   # VALOR CRo\n",
        "\n",
        "    Fuma = f1_elliptic__  # Fuma era Fun\n",
        "  \n",
        "    MAT_INDo=GeraIndices(X1,BESTo,FOBESTo,DIo,MAT_INDo,SOMA,TOTAL,syn0_F,\n",
        "                        syn1_F,X_max_F,X_min_F,syn0_CR,syn1_CR,X_max_CR,\n",
        "                        X_min_CR,Fc,fields,Fuma)\n",
        "  \n",
        "    DIo=np.copy(MAT_INDo[0,0])\n",
        "    MAT_INDo[0,15]=Fo    # VALOR Fo   \n",
        "    MAT_INDo[0,16]=CRo   # VALOR CRo\n",
        "    #ind_crossp=ITE-1\n",
        "    \n",
        "\n",
        "    \n",
        "    for k in range(ITE):\n",
        "\n",
        "\n",
        "\n",
        "      X2,BEST2,FOBEST,XY,BEST_XY=de_bounds_matriz.de(bounds, mut2, crossp2,NPAR2, its,fobj,X2)\n",
        "      X3,BEST3,FOBEST,XY,BEST_XY=de_bounds_matriz.de(bounds, mut3, crossp3,NPAR3, its,fobj,X3)\n",
        "      X4,BEST4,FOBEST,XY,BEST_XY=de_bounds_matriz.de(bounds, mut4, crossp4,NPAR4, its,fobj,X4)\n",
        "      \n",
        "      X1,BEST1,FOBEST,XY,BEST_XY,SOMA= de_soma_Insight.de(MAX,MIN, mut, crossp,NPAR1,its,Fun,X1,SOMA,TOTAL)\n",
        "\n",
        "      MAT_IND=GeraIndices(X1,BESTo,FOBESTo,DIo,MAT_INDo,SOMA,TOTAL,syn0_F,\n",
        "                          syn1_F,X_max_F,X_min_F,syn0_CR,syn1_CR,X_max_CR,\n",
        "                          X_min_CR,Fc,fields,Fun)\n",
        "    \n",
        "      BESTo=np.copy(BEST1);FOBESTo=np.copy(FOBEST);\n",
        "      MAT.append(MAT_IND.ravel())\n",
        "    \n",
        "      MAT_INDo[0,6]=MAT_IND[0,15]   # VALOR Fo   \n",
        "      MAT_INDo[0,7]=MAT_IND[0,16]   # VALOR CRo\n",
        "      mut=MAT_IND[0,15]\n",
        "      crossp=MAT_IND[0,16]\n",
        "      X1[0,:] = BEST2;X1[1,:] = BEST3; X1[2,:] = BEST4;X1[NPAR1-1,:] = BEST1;\n",
        "      X2[0,:] = BEST1;X2[1,:] = BEST3;X2[2,:] = BEST4;X2[NPAR2-1,:] = BEST2;\n",
        "      X3[0,:] = BEST1;X3[1,:] = BEST2;X3[2,:] = BEST4;X3[NPAR3-1,:] = BEST3;\n",
        "      X4[0,:] = BEST1;X4[1,:] = BEST2;X4[2,:] = BEST3;X4[NPAR4-1,:] = BEST4;\n",
        "    print('k=',iii,'time=',(time.time()-start_time)/60, 'FO=',FOBEST)  \n",
        "    BEST_AGENTS.append(BEST_XY)\n",
        "    MAT_stat.append(MAT)\n",
        "    #print(\"GlobalParam e Solucao:\", BEST,\"Funcao=\",FOBEST)\n",
        "    \n",
        "############################## Cálculo dos Parâmetros de Avaliação   \n",
        "TIME = (time.time() - start_time)/RUNS\n",
        "BEST_AGENTS=np.array(BEST_AGENTS)\n",
        "BEST_AGENTS_ST= BEST_AGENTS[BEST_AGENTS[:,-1].argsort()]\n",
        "BEST=BEST_AGENTS_ST[0]\n",
        "WORSE=BEST_AGENTS_ST[-1]\n",
        "MEAN=np.mean(BEST_AGENTS,axis=0)\n",
        "MAXFO=BEST_AGENTS[:,-1].max()\n",
        "MINFO=BEST_AGENTS[:,-1].min()\n",
        "STD=BEST_AGENTS[:,-1].std()"
      ],
      "execution_count": 28,
      "outputs": [
        {
          "output_type": "stream",
          "name": "stdout",
          "text": [
            "k= 0 time= 4.507486108938853 FO= 4003.0716684628896\n",
            "k= 1 time= 8.652565276622772 FO= 9020.406960536504\n",
            "k= 2 time= 12.806725029150645 FO= 16477.34719061063\n",
            "k= 3 time= 16.97734934091568 FO= 5108.995357179426\n",
            "k= 4 time= 21.139119108517963 FO= 868.8843030531646\n",
            "k= 5 time= 25.274355347951253 FO= 8441.013917655899\n",
            "k= 6 time= 29.410948932170868 FO= 17371.254749369215\n",
            "k= 7 time= 33.555823747317 FO= 5277.224409016371\n",
            "k= 8 time= 37.753722151120506 FO= 75.54168276702734\n",
            "k= 9 time= 41.892104824384056 FO= 2777.0154107938665\n",
            "k= 10 time= 46.02015385627747 FO= 6592.86125657363\n",
            "k= 11 time= 50.17145560979843 FO= 1103.8524997541235\n",
            "k= 12 time= 54.310136663913724 FO= 6757.578525816332\n",
            "k= 13 time= 58.43345473210017 FO= 7464.560340465276\n",
            "k= 14 time= 62.5453253308932 FO= 10210.461421978747\n",
            "k= 15 time= 66.66218746503195 FO= 1673.517912836031\n",
            "k= 16 time= 70.78469244241714 FO= 11421.790488850653\n",
            "k= 17 time= 74.93548291524252 FO= 206.78216407315867\n",
            "k= 18 time= 79.03953299919765 FO= 1874.276242339254\n",
            "k= 19 time= 83.15415559609731 FO= 6940.229313144284\n",
            "k= 20 time= 87.29804069598516 FO= 298.9812244656549\n",
            "k= 21 time= 91.46001921097438 FO= 483.7310310655082\n",
            "k= 22 time= 95.62530825138091 FO= 441.81875659260197\n",
            "k= 23 time= 99.78444957733154 FO= 1987.3361388838746\n",
            "k= 24 time= 103.93343944946925 FO= 1568.5117685365378\n",
            "k= 25 time= 108.09191625515619 FO= 6089.592387770749\n",
            "k= 26 time= 112.26197862625122 FO= 4619.820828101966\n",
            "k= 27 time= 116.39094653129578 FO= 600.6088708592409\n",
            "k= 28 time= 120.52946906884512 FO= 5202.930401451698\n",
            "k= 29 time= 124.68777972459793 FO= 728.3295166382926\n",
            "k= 30 time= 128.82175593773525 FO= 2458.8154108024723\n",
            "k= 31 time= 132.93313624858857 FO= 1494.391300508781\n",
            "k= 32 time= 137.07859505414962 FO= 2866.5242764831123\n",
            "k= 33 time= 141.19148638248444 FO= 2342.069225515999\n",
            "k= 34 time= 145.32341651121774 FO= 5673.812013870259\n",
            "k= 35 time= 149.49127802451451 FO= 1244.063101377689\n",
            "k= 36 time= 153.666969927152 FO= 2003.7798878812036\n",
            "k= 37 time= 157.8281616091728 FO= 6844.729864200568\n",
            "k= 38 time= 161.9816429257393 FO= 9784.417718539487\n",
            "k= 39 time= 166.1288773695628 FO= 1641.6531571134342\n",
            "k= 40 time= 170.28392922083538 FO= 7909.2832770999485\n",
            "k= 41 time= 174.4407338142395 FO= 14629.54797389081\n",
            "k= 42 time= 178.62692435979844 FO= 11692.789421687006\n",
            "k= 43 time= 182.7643774032593 FO= 18097.180716880193\n",
            "k= 44 time= 186.9442427913348 FO= 5828.781043093938\n",
            "k= 45 time= 191.09168835083645 FO= 11148.112113137453\n",
            "k= 46 time= 195.29820110003155 FO= 3780.0691960747076\n",
            "k= 47 time= 199.45115698575972 FO= 8941.653520548069\n",
            "k= 48 time= 203.56439799467722 FO= 16413.436948383358\n",
            "k= 49 time= 207.70146423578262 FO= 11969.69953078866\n"
          ]
        }
      ]
    },
    {
      "cell_type": "code",
      "metadata": {
        "id": "k3p9TGsx1OCu"
      },
      "source": [
        "NOMES=['DIVERSIDADE (DI)',  'DI RELATIVO','FRAC Its',\n",
        "           'VELOC FOBJ','VELOC X','NP','Fo','CRo','fmin','fmax',\n",
        "           'AD_fmin','AD_fmax','DELTA FOBJ','DELTA VX','r_fitness',\n",
        "           'F','CR']\n",
        "# BEST_INDEX= BEST_AGENTS[BEST_AGENTS[:,-1].argmin()]  \n",
        "BEST_INDEX = np.argmin(BEST_AGENTS[:,-1])\n",
        "df=pd.DataFrame(MAT_stat[BEST_INDEX], columns=NOMES)\n",
        "\n"
      ],
      "execution_count": 29,
      "outputs": []
    },
    {
      "cell_type": "code",
      "metadata": {
        "id": "jIHiKR_t1xxs",
        "outputId": "aaa6444b-e5cf-40aa-dc55-c05480d7dd34",
        "colab": {
          "base_uri": "https://localhost:8080/"
        }
      },
      "source": [
        "pd.set_option('display.max_columns', 30)  \n",
        "print(df)"
      ],
      "execution_count": 30,
      "outputs": [
        {
          "output_type": "stream",
          "name": "stdout",
          "text": [
            "      DIVERSIDADE (DI)  DI RELATIVO  FRAC Its  VELOC FOBJ  VELOC X    NP  \\\n",
            "0           311.957574     1.020168   0.00017         1.0      2.0  51.0   \n",
            "1           309.761964     1.012987   0.00034         2.0      2.0  51.0   \n",
            "2           313.062135     1.023780   0.00051         0.0      0.0  51.0   \n",
            "3           307.754270     1.006422   0.00068         1.0      2.0  51.0   \n",
            "4           310.127467     1.014183   0.00085         1.0      2.0  51.0   \n",
            "...                ...          ...       ...         ...      ...   ...   \n",
            "1995        122.757527     0.401443   0.33932         1.0      1.0  51.0   \n",
            "1996        122.757451     0.401443   0.33949         1.0      1.0  51.0   \n",
            "1997        122.757412     0.401443   0.33966         1.0      1.0  51.0   \n",
            "1998        122.757438     0.401443   0.33983         1.0      1.0  51.0   \n",
            "1999        122.757447     0.401443   0.34000         0.0      0.0  51.0   \n",
            "\n",
            "            Fo           CRo          fmin          fmax  AD_fmin  AD_fmax  \\\n",
            "0     0.500000  5.000000e-01  6.659651e+15  6.156817e+18      1.0      1.0   \n",
            "1     0.244958  3.299721e-01  1.009105e+13  6.156817e+18      1.0      1.0   \n",
            "2     0.431063  2.185529e-01  1.009105e+13  3.276121e+18      1.0      1.0   \n",
            "3     0.210406  1.439695e-01  1.006983e+13  8.393630e+17      1.0      1.0   \n",
            "4     0.369224  2.164166e-01  8.823083e+12  8.393630e+17      1.0      1.0   \n",
            "...        ...           ...           ...           ...      ...      ...   \n",
            "1995  0.123487  5.414655e-39  7.554405e+01  3.131998e+16      1.0      1.0   \n",
            "1996  0.160666  4.690096e-39  7.554368e+01  3.131998e+16      1.0      1.0   \n",
            "1997  0.209040  4.062494e-39  7.554361e+01  3.131998e+16      1.0      1.0   \n",
            "1998  0.125122  4.470209e-39  7.554168e+01  3.131998e+16      1.0      1.0   \n",
            "1999  0.162794  3.872031e-39  7.554168e+01  3.131998e+16      1.0      1.0   \n",
            "\n",
            "      DELTA FOBJ  DELTA VX  r_fitness         F            CR  \n",
            "0            0.0       0.0   0.998918  0.244958  3.299721e-01  \n",
            "1            0.0       0.0   0.999998  0.431063  2.185529e-01  \n",
            "2            0.0       0.0   0.999997  0.210406  1.439695e-01  \n",
            "3            0.0       0.0   0.999988  0.369224  2.164166e-01  \n",
            "4            0.0       0.0   0.999989  0.650070  1.432546e-01  \n",
            "...          ...       ...        ...       ...           ...  \n",
            "1995         0.0       0.0   1.000000  0.160666  4.690096e-39  \n",
            "1996         0.0       0.0   1.000000  0.209040  4.062494e-39  \n",
            "1997         0.0       0.0   1.000000  0.125122  4.470209e-39  \n",
            "1998         0.0       0.0   1.000000  0.162794  3.872031e-39  \n",
            "1999         0.0       0.0   1.000000  0.211809  3.353898e-39  \n",
            "\n",
            "[2000 rows x 17 columns]\n"
          ]
        }
      ]
    },
    {
      "cell_type": "code",
      "metadata": {
        "id": "bx0ywpMtAAjw",
        "outputId": "6f25f1a5-b3fe-459d-9a9f-0539e47239ba",
        "colab": {
          "base_uri": "https://localhost:8080/",
          "height": 296
        }
      },
      "source": [
        "plt.plot(df['FRAC Its'],df['CR'])\n",
        "plt.xlabel('Iteração/Total')\n",
        "plt.ylabel('CR')"
      ],
      "execution_count": 31,
      "outputs": [
        {
          "output_type": "execute_result",
          "data": {
            "text/plain": [
              "Text(0, 0.5, 'CR')"
            ]
          },
          "metadata": {},
          "execution_count": 31
        },
        {
          "output_type": "display_data",
          "data": {
            "text/plain": [
              "<Figure size 432x288 with 1 Axes>"
            ],
            "image/png": "[encoded data removed]"
          },
          "metadata": {
            "needs_background": "light"
          }
        }
      ]
    },
    {
      "cell_type": "code",
      "metadata": {
        "id": "BvPFvbDvteDC",
        "outputId": "7f3f73fc-5a03-4753-9fb3-ce1bce12c257",
        "colab": {
          "base_uri": "https://localhost:8080/",
          "height": 295
        }
      },
      "source": [
        "\n",
        "fig, ax = plt.subplots()\n",
        "ax.plot(df['FRAC Its'],df['F'],label='F')\n",
        "ax.set_xlabel('Iteração/Total')\n",
        "ax.set_ylabel('Parâmetros')\n",
        "ax.plot(df['FRAC Its'],df['CR'],'-r', label='CR')\n",
        "nome=Fun.__name__+'  M=Diversidade'+ '  D='+str(dim)\n",
        "ax.set_title(nome)\n",
        "leg = ax.legend()\n"
      ],
      "execution_count": 32,
      "outputs": [
        {
          "output_type": "display_data",
          "data": {
            "text/plain": [
              "<Figure size 432x288 with 1 Axes>"
            ],
            "image/png": "[encoded data removed]"
          },
          "metadata": {
            "needs_background": "light"
          }
        }
      ]
    },
    {
      "cell_type": "code",
      "metadata": {
        "id": "htooaGpDia_0",
        "outputId": "f0e87046-2f56-46e8-bdfb-edcc122afbf9",
        "colab": {
          "base_uri": "https://localhost:8080/",
          "height": 312
        }
      },
      "source": [
        "f, axarr = plt.subplots(2, sharex=True)\n",
        "axarr[0].plot(df['FRAC Its'],df['F'])\n",
        "axarr[0].set_ylabel('F')\n",
        "axarr[1].plot(df['FRAC Its'],df['CR'])\n",
        "axarr[1].set_ylabel('CR')\n",
        "axarr[1].set_xlabel('Iteração/Total')\n",
        "nome=Fun.__name__+'_Diversidade_'+ 'D='+str(dim)\n",
        "axarr[0].set_title(nome)\n"
      ],
      "execution_count": 33,
      "outputs": [
        {
          "output_type": "execute_result",
          "data": {
            "text/plain": [
              "Text(0.5, 1.0, 'F20_Diversidade_D=30')"
            ]
          },
          "metadata": {},
          "execution_count": 33
        },
        {
          "output_type": "display_data",
          "data": {
            "text/plain": [
              "<Figure size 432x288 with 2 Axes>"
            ],
            "image/png": "[encoded data removed]"
          },
          "metadata": {
            "needs_background": "light"
          }
        }
      ]
    },
    {
      "cell_type": "code",
      "metadata": {
        "id": "lNSN5X-wskcx",
        "outputId": "dad56c69-9919-4a91-a172-082c7fe183dc",
        "colab": {
          "base_uri": "https://localhost:8080/"
        }
      },
      "source": [
        "nome='SUB'+'_Fo-'+str(Fi)+'_CRo-'+str(CRi)+'_D-'+str(dim)+'_Interv-'+str(ITE)\n",
        "print('MCS-FRANNK','Fator F/DE= %.2f' %(fator),'NPAR=',NPAR,'Iterações=',ITE*its,'Dim=', PAR,\"Min/Max=\",MIN[0],\"/\",MAX[0],'_',Fun.__name__)\n",
        "print(nome, '\\n')\n",
        "#print('BEST: ',BEST)\n",
        "#print('MÉDIA: ',MEAN)\n",
        "print('MÉDIA: ',MEAN[-1],'STD __:',STD)\n",
        "print('MIN __:',MINFO, 'MAX__: ',MAXFO)\n",
        "print(MEAN[-1])\n",
        "print(STD)\n",
        "print(MINFO)\n",
        "print(\"Tempo Médio= %.3f segundos ---\" % (TIME))\n",
        "print(RUNS,'Rodadas') \n",
        "print()\n",
        "print('BEST: ',BEST)\n",
        "# print('melhor=',BEST_AGENTS[BEST_INDEX])"
      ],
      "execution_count": 34,
      "outputs": [
        {
          "output_type": "stream",
          "name": "stdout",
          "text": [
            "MCS-FRANNK Fator F/DE= 0.33 NPAR= 150 Iterações= 2000 Dim= 30 Min/Max= -100 / 100 _ F20\n",
            "SUB_Fo-0.5_CRo-0.5_D-30_Interv-2000 \n",
            "\n",
            "MÉDIA:  5849.062728750395 STD __: 4966.628079747229\n",
            "MIN __: 75.54168276702734 MAX__:  18097.180716880193\n",
            "5849.062728750395\n",
            "4966.628079747229\n",
            "75.54168276702734\n",
            "Tempo Médio= 249.242 segundos ---\n",
            "50 Rodadas\n",
            "\n",
            "BEST:  [-48.58291994  43.33529989 -25.96021924 -12.74214157 -54.01545076\n",
            "  50.41886327  18.38402229  37.81759309  48.11614818 -69.4108191\n",
            "  72.11214087  -0.46271575  40.17502807  39.16493199  49.63069375\n",
            " -54.51745531  -4.96560392  19.12491913  67.99807646  51.80672405\n",
            "  65.07361811  12.70740223  13.50860947  56.71012706 -76.94457395\n",
            "  61.45526011 -17.0076292  -75.128475    39.20764718 -55.69257219\n",
            "  75.54168277]\n"
          ]
        }
      ]
    }
  ]
}