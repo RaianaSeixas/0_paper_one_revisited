{
  "nbformat": 4,
  "nbformat_minor": 0,
  "metadata": {
    "colab": {
      "name": "New-bestReplace _CFrannk_F17_to_F30_cec2014.ipynb",
      "provenance": [],
      "collapsed_sections": [],
      "include_colab_link": true
    },
    "kernelspec": {
      "name": "python3",
      "display_name": "Python 3"
    },
    "language_info": {
      "codemirror_mode": {
        "name": "ipython",
        "version": 3
      },
      "file_extension": ".py",
      "mimetype": "text/x-python",
      "name": "python",
      "nbconvert_exporter": "python",
      "pygments_lexer": "ipython3",
      "version": "3.7.3"
    }
  },
  "cells": [
    {
      "cell_type": "markdown",
      "metadata": {
        "id": "view-in-github",
        "colab_type": "text"
      },
      "source": [
        "<a href=\"https://colab.research.google.com/github/RaianaSeixas/0_paper_one_revisited/blob/main/CEC14/Models/New_bestReplace__CFrannk_F17_to_F30_cec2014.ipynb\" target=\"_parent\"><img src=\"https://colab.research.google.com/assets/colab-badge.svg\" alt=\"Open In Colab\"/></a>"
      ]
    },
    {
      "cell_type": "code",
      "source": [
        "############################### DADOS DE ENTRADA \n",
        "function_select = 'F20'  \n",
        "# this code only run from F22 to F25 (you just need to change this line the pararameters and type =cool= \n",
        "#          to go to line to change IFrank, de best or your combination\n",
        "RUNS=50 #NÚMERO DE RODADAS\n",
        "Fc=0.1 # fator de correcao parametros da ANN\n",
        "its=1 #10 # quantas vezes vai usar o NPAR antes de alterar de novo\n",
        "ITE=1000 #10 # PONTOS quantas vezes vai alteral NPAR \n",
        "NPAR=100\n",
        "mut=0.5\n",
        "crossp=0.5\n",
        "Fi=mut;CRi=crossp;# para impressão\n",
        "fator = 1.0/3.0; \n",
        "mut2=0.5;crossp2=0.5;mut3=0.75;crossp3=0.25;mut4=0.25;crossp4=0.25;\n",
        "CR_interval = [0.5,0.8]\n",
        "F_interval = [0.5,0.8]\n",
        "mut_best  =0.5 ; crossp_best =0.5\n",
        "pop_split = [100,100,100]\n",
        "run_split = [200,400,400]"
      ],
      "metadata": {
        "id": "cpInmdnteeTN"
      },
      "execution_count": 1,
      "outputs": []
    },
    {
      "cell_type": "code",
      "source": [
        "\n",
        "problem_size = 30 # possibles 2, 10, 20, 30, 50, 100"
      ],
      "metadata": {
        "id": "-bhmT4tPetdF"
      },
      "execution_count": 2,
      "outputs": []
    },
    {
      "cell_type": "code",
      "source": [
        "'''\n",
        "# Where you need to make changes in this code.... ps: if you search =cool= the code will find these lines !!    \n",
        "      X2,BEST2,FOBEST,XY,BEST_XY=de_bounds_matriz.de(bounds, mut2, crossp2,NPAR2, its,fobj,X2)\n",
        "      X3,BEST3,FOBEST,XY,BEST_XY=Rand_DE.de(bounds,  F_interval , CR_interval, NPAR3, its,fobj,X3)\n",
        "      X4,BEST4,FOBEST,XY,BEST_XY=de_bounds_best.de(bounds, mut_best ,crossp_best,NPAR4, its,fobj,X4)\n",
        "      X1,BEST1,FOBEST,XY,BEST_XY,SOMA= de_soma_Insight.de(MAX,MIN, mut, crossp,NPAR1,its,Fun,X1,SOMA,TOTAL)\n",
        "'''"
      ],
      "metadata": {
        "id": "9yrDnwKJhk_j",
        "colab": {
          "base_uri": "https://localhost:8080/",
          "height": 105
        },
        "outputId": "3d621829-32ab-4740-f482-ad569420d2a5"
      },
      "execution_count": 3,
      "outputs": [
        {
          "output_type": "execute_result",
          "data": {
            "text/plain": [
              "'\\n# Where you need to make changes in this code.... ps: if you search =cool= the code will find these lines !!    \\n      X2,BEST2,FOBEST,XY,BEST_XY=de_bounds_matriz.de(bounds, mut2, crossp2,NPAR2, its,fobj,X2)\\n      X3,BEST3,FOBEST,XY,BEST_XY=Rand_DE.de(bounds,  F_interval , CR_interval, NPAR3, its,fobj,X3)\\n      X4,BEST4,FOBEST,XY,BEST_XY=de_bounds_best.de(bounds, mut_best ,crossp_best,NPAR4, its,fobj,X4)\\n      X1,BEST1,FOBEST,XY,BEST_XY,SOMA= de_soma_Insight.de(MAX,MIN, mut, crossp,NPAR1,its,Fun,X1,SOMA,TOTAL)\\n'"
            ],
            "application/vnd.google.colaboratory.intrinsic+json": {
              "type": "string"
            }
          },
          "metadata": {},
          "execution_count": 3
        }
      ]
    },
    {
      "cell_type": "code",
      "metadata": {
        "id": "c59cDVKoxDLX",
        "colab": {
          "base_uri": "https://localhost:8080/"
        },
        "outputId": "32ecf698-ab88-476a-9c86-858ae1ebfffb"
      },
      "source": [
        "############################### Importar códigos\n",
        "!git clone https://github.com/ucfilho/optim_raianars_Insight/ #clonar do Github\n",
        "%cd optim_raianars_Insight\n",
        "import de_soma_Insight\n",
        "import de_bounds_matriz\n",
        "import Go2Ann\n",
        "import Rand_DE\n",
        "import de_bounds_best\n",
        "from pandas import read_csv"
      ],
      "execution_count": 4,
      "outputs": [
        {
          "output_type": "stream",
          "name": "stdout",
          "text": [
            "Cloning into 'optim_raianars_Insight'...\n",
            "remote: Enumerating objects: 427, done.\u001b[K\n",
            "remote: Counting objects: 100% (113/113), done.\u001b[K\n",
            "remote: Compressing objects: 100% (56/56), done.\u001b[K\n",
            "remote: Total 427 (delta 69), reused 96 (delta 57), pack-reused 314\u001b[K\n",
            "Receiving objects: 100% (427/427), 341.28 KiB | 4.06 MiB/s, done.\n",
            "Resolving deltas: 100% (250/250), done.\n",
            "/content/optim_raianars_Insight\n"
          ]
        }
      ]
    },
    {
      "cell_type": "code",
      "metadata": {
        "id": "Va-6Xios8RjU",
        "colab": {
          "base_uri": "https://localhost:8080/"
        },
        "outputId": "ddceaeb9-cebf-4c16-e260-89a431548f1c"
      },
      "source": [
        "!git clone https://github.com/ucfilho/Raianars_paper_One #clonar do Github\n",
        "%cd Raianars_paper_One"
      ],
      "execution_count": 5,
      "outputs": [
        {
          "output_type": "stream",
          "name": "stdout",
          "text": [
            "Cloning into 'Raianars_paper_One'...\n",
            "remote: Enumerating objects: 277, done.\u001b[K\n",
            "remote: Counting objects:   0% (1/148)\u001b[K\rremote: Counting objects:   1% (2/148)\u001b[K\rremote: Counting objects:   2% (3/148)\u001b[K\rremote: Counting objects:   3% (5/148)\u001b[K\rremote: Counting objects:   4% (6/148)\u001b[K\rremote: Counting objects:   5% (8/148)\u001b[K\rremote: Counting objects:   6% (9/148)\u001b[K\rremote: Counting objects:   7% (11/148)\u001b[K\rremote: Counting objects:   8% (12/148)\u001b[K\rremote: Counting objects:   9% (14/148)\u001b[K\rremote: Counting objects:  10% (15/148)\u001b[K\rremote: Counting objects:  11% (17/148)\u001b[K\rremote: Counting objects:  12% (18/148)\u001b[K\rremote: Counting objects:  13% (20/148)\u001b[K\rremote: Counting objects:  14% (21/148)\u001b[K\rremote: Counting objects:  15% (23/148)\u001b[K\rremote: Counting objects:  16% (24/148)\u001b[K\rremote: Counting objects:  17% (26/148)\u001b[K\rremote: Counting objects:  18% (27/148)\u001b[K\rremote: Counting objects:  19% (29/148)\u001b[K\rremote: Counting objects:  20% (30/148)\u001b[K\rremote: Counting objects:  21% (32/148)\u001b[K\rremote: Counting objects:  22% (33/148)\u001b[K\rremote: Counting objects:  23% (35/148)\u001b[K\rremote: Counting objects:  24% (36/148)\u001b[K\rremote: Counting objects:  25% (37/148)\u001b[K\rremote: Counting objects:  26% (39/148)\u001b[K\rremote: Counting objects:  27% (40/148)\u001b[K\rremote: Counting objects:  28% (42/148)\u001b[K\rremote: Counting objects:  29% (43/148)\u001b[K\rremote: Counting objects:  30% (45/148)\u001b[K\rremote: Counting objects:  31% (46/148)\u001b[K\rremote: Counting objects:  32% (48/148)\u001b[K\rremote: Counting objects:  33% (49/148)\u001b[K\rremote: Counting objects:  34% (51/148)\u001b[K\rremote: Counting objects:  35% (52/148)\u001b[K\rremote: Counting objects:  36% (54/148)\u001b[K\rremote: Counting objects:  37% (55/148)\u001b[K\rremote: Counting objects:  38% (57/148)\u001b[K\rremote: Counting objects:  39% (58/148)\u001b[K\rremote: Counting objects:  40% (60/148)\u001b[K\rremote: Counting objects:  41% (61/148)\u001b[K\rremote: Counting objects:  42% (63/148)\u001b[K\rremote: Counting objects:  43% (64/148)\u001b[K\rremote: Counting objects:  44% (66/148)\u001b[K\rremote: Counting objects:  45% (67/148)\u001b[K\rremote: Counting objects:  46% (69/148)\u001b[K\rremote: Counting objects:  47% (70/148)\u001b[K\rremote: Counting objects:  48% (72/148)\u001b[K\rremote: Counting objects:  49% (73/148)\u001b[K\rremote: Counting objects:  50% (74/148)\u001b[K\rremote: Counting objects:  51% (76/148)\u001b[K\rremote: Counting objects:  52% (77/148)\u001b[K\rremote: Counting objects:  53% (79/148)\u001b[K\rremote: Counting objects:  54% (80/148)\u001b[K\rremote: Counting objects:  55% (82/148)\u001b[K\rremote: Counting objects:  56% (83/148)\u001b[K\rremote: Counting objects:  57% (85/148)\u001b[K\rremote: Counting objects:  58% (86/148)\u001b[K\rremote: Counting objects:  59% (88/148)\u001b[K\rremote: Counting objects:  60% (89/148)\u001b[K\rremote: Counting objects:  61% (91/148)\u001b[K\rremote: Counting objects:  62% (92/148)\u001b[K\rremote: Counting objects:  63% (94/148)\u001b[K\rremote: Counting objects:  64% (95/148)\u001b[K\rremote: Counting objects:  65% (97/148)\u001b[K\rremote: Counting objects:  66% (98/148)\u001b[K\rremote: Counting objects:  67% (100/148)\u001b[K\rremote: Counting objects:  68% (101/148)\u001b[K\rremote: Counting objects:  69% (103/148)\u001b[K\rremote: Counting objects:  70% (104/148)\u001b[K\rremote: Counting objects:  71% (106/148)\u001b[K\rremote: Counting objects:  72% (107/148)\u001b[K\rremote: Counting objects:  73% (109/148)\u001b[K\rremote: Counting objects:  74% (110/148)\u001b[K\rremote: Counting objects:  75% (111/148)\u001b[K\rremote: Counting objects:  76% (113/148)\u001b[K\rremote: Counting objects:  77% (114/148)\u001b[K\rremote: Counting objects:  78% (116/148)\u001b[K\rremote: Counting objects:  79% (117/148)\u001b[K\rremote: Counting objects:  80% (119/148)\u001b[K\rremote: Counting objects:  81% (120/148)\u001b[K\rremote: Counting objects:  82% (122/148)\u001b[K\rremote: Counting objects:  83% (123/148)\u001b[K\rremote: Counting objects:  84% (125/148)\u001b[K\rremote: Counting objects:  85% (126/148)\u001b[K\rremote: Counting objects:  86% (128/148)\u001b[K\rremote: Counting objects:  87% (129/148)\u001b[K\rremote: Counting objects:  88% (131/148)\u001b[K\rremote: Counting objects:  89% (132/148)\u001b[K\rremote: Counting objects:  90% (134/148)\u001b[K\rremote: Counting objects:  91% (135/148)\u001b[K\rremote: Counting objects:  92% (137/148)\u001b[K\rremote: Counting objects:  93% (138/148)\u001b[K\rremote: Counting objects:  94% (140/148)\u001b[K\rremote: Counting objects:  95% (141/148)\u001b[K\rremote: Counting objects:  96% (143/148)\u001b[K\rremote: Counting objects:  97% (144/148)\u001b[K\rremote: Counting objects:  98% (146/148)\u001b[K\rremote: Counting objects:  99% (147/148)\u001b[K\rremote: Counting objects: 100% (148/148)\u001b[K\rremote: Counting objects: 100% (148/148), done.\u001b[K\n",
            "remote: Compressing objects: 100% (65/65), done.\u001b[K\n",
            "remote: Total 277 (delta 83), reused 142 (delta 82), pack-reused 129\u001b[K\n",
            "Receiving objects: 100% (277/277), 667.30 KiB | 6.18 MiB/s, done.\n",
            "Resolving deltas: 100% (155/155), done.\n",
            "/content/optim_raianars_Insight/Raianars_paper_One\n"
          ]
        }
      ]
    },
    {
      "cell_type": "code",
      "metadata": {
        "id": "_E15mKFURR6O"
      },
      "source": [
        "import Go2MinMax\n",
        "from AvaliaX import AvaliaX\n",
        "from GeraIndices import GeraIndices\n",
        "import numpy as np\n",
        "import time\n",
        "import matplotlib.pyplot as plt\n",
        "from random import randint\n",
        "from scipy import optimize\n",
        "import pandas as pd\n",
        "from sklearn.metrics import confusion_matrix"
      ],
      "execution_count": 6,
      "outputs": []
    },
    {
      "cell_type": "code",
      "source": [
        "def load_shift_data__(data_file=None):\n",
        "    data = read_csv(data_file, delimiter='\\s+', index_col=False, header=None)\n",
        "    return data.values.reshape((-1))\n",
        "\n",
        "def load_matrix_data__(data_file=None):\n",
        "    data = read_csv(data_file, delimiter='\\s+', index_col=False, header=None)\n",
        "    return data.values"
      ],
      "metadata": {
        "id": "c79u3DHegd1r"
      },
      "execution_count": 7,
      "outputs": []
    },
    {
      "cell_type": "code",
      "metadata": {
        "id": "ik3ZjkUKycUK",
        "colab": {
          "base_uri": "https://localhost:8080/"
        },
        "outputId": "4e2c2054-a8b6-4cf1-dbae-dea41eac5690"
      },
      "source": [
        "############################### Importar códigos\n",
        "!git clone https://github.com/ucfilho/optim_raianars_Insight/ #clonar do Github\n",
        "%cd optim_raianars_Insight\n",
        "import de_soma_Insight\n",
        "import de_bounds_matriz"
      ],
      "execution_count": 8,
      "outputs": [
        {
          "output_type": "stream",
          "name": "stdout",
          "text": [
            "Cloning into 'optim_raianars_Insight'...\n",
            "remote: Enumerating objects: 427, done.\u001b[K\n",
            "remote: Counting objects: 100% (113/113), done.\u001b[K\n",
            "remote: Compressing objects: 100% (56/56), done.\u001b[K\n",
            "remote: Total 427 (delta 69), reused 96 (delta 57), pack-reused 314\u001b[K\n",
            "Receiving objects: 100% (427/427), 341.28 KiB | 4.21 MiB/s, done.\n",
            "Resolving deltas: 100% (250/250), done.\n",
            "/content/optim_raianars_Insight/Raianars_paper_One/optim_raianars_Insight\n"
          ]
        }
      ]
    },
    {
      "cell_type": "code",
      "metadata": {
        "id": "lJogRB30yepw",
        "colab": {
          "base_uri": "https://localhost:8080/"
        },
        "outputId": "d7de905f-0ed2-43ed-a939-7e315b509b22"
      },
      "source": [
        "!git clone https://github.com/ucfilho/Raianars_Routines #clonar do Github\n",
        "%cd Raianars_Routines"
      ],
      "execution_count": 9,
      "outputs": [
        {
          "output_type": "stream",
          "name": "stdout",
          "text": [
            "Cloning into 'Raianars_Routines'...\n",
            "remote: Enumerating objects: 77, done.\u001b[K\n",
            "remote: Counting objects: 100% (77/77), done.\u001b[K\n",
            "remote: Compressing objects: 100% (73/73), done.\u001b[K\n",
            "remote: Total 77 (delta 23), reused 0 (delta 0), pack-reused 0\u001b[K\n",
            "Unpacking objects: 100% (77/77), done.\n",
            "/content/optim_raianars_Insight/Raianars_paper_One/optim_raianars_Insight/Raianars_Routines\n"
          ]
        }
      ]
    },
    {
      "cell_type": "code",
      "source": [
        "!git clone https://github.com/ucfilho/functions_cec2014_data\n",
        "%cd functions_cec2014_data\n",
        "import F1_to_F27_cec2014_zero_to_hero\n",
        "import cec2014_names\n",
        "import cec2014_shift_rotate"
      ],
      "metadata": {
        "id": "Z66tL-D0qM1H",
        "colab": {
          "base_uri": "https://localhost:8080/"
        },
        "outputId": "905d0a11-fd8d-4994-a63a-1005f539cdf5"
      },
      "execution_count": 10,
      "outputs": [
        {
          "output_type": "stream",
          "name": "stdout",
          "text": [
            "Cloning into 'functions_cec2014_data'...\n",
            "remote: Enumerating objects: 300, done.\u001b[K\n",
            "remote: Counting objects: 100% (6/6), done.\u001b[K\n",
            "remote: Compressing objects: 100% (6/6), done.\u001b[K\n",
            "remote: Total 300 (delta 2), reused 0 (delta 0), pack-reused 294\u001b[K\n",
            "Receiving objects: 100% (300/300), 465.31 KiB | 4.27 MiB/s, done.\n",
            "Resolving deltas: 100% (181/181), done.\n",
            "/content/optim_raianars_Insight/Raianars_paper_One/optim_raianars_Insight/Raianars_Routines/functions_cec2014_data\n"
          ]
        }
      ]
    },
    {
      "cell_type": "code",
      "source": [
        "dim = problem_size "
      ],
      "metadata": {
        "id": "yCggKdhhtnp1"
      },
      "execution_count": 11,
      "outputs": []
    },
    {
      "cell_type": "code",
      "source": [
        "!pip install --upgrade --no-cache-dir gdown"
      ],
      "metadata": {
        "id": "QFsJfpK3qfQy",
        "colab": {
          "base_uri": "https://localhost:8080/"
        },
        "outputId": "96a6f9e7-2449-4857-ed82-c5038fd8eb4c"
      },
      "execution_count": 12,
      "outputs": [
        {
          "output_type": "stream",
          "name": "stdout",
          "text": [
            "Requirement already satisfied: gdown in /usr/local/lib/python3.7/dist-packages (4.4.0)\n",
            "Requirement already satisfied: tqdm in /usr/local/lib/python3.7/dist-packages (from gdown) (4.64.0)\n",
            "Requirement already satisfied: six in /usr/local/lib/python3.7/dist-packages (from gdown) (1.15.0)\n",
            "Requirement already satisfied: filelock in /usr/local/lib/python3.7/dist-packages (from gdown) (3.6.0)\n",
            "Requirement already satisfied: requests[socks] in /usr/local/lib/python3.7/dist-packages (from gdown) (2.23.0)\n",
            "Requirement already satisfied: beautifulsoup4 in /usr/local/lib/python3.7/dist-packages (from gdown) (4.6.3)\n",
            "Requirement already satisfied: idna<3,>=2.5 in /usr/local/lib/python3.7/dist-packages (from requests[socks]->gdown) (2.10)\n",
            "Requirement already satisfied: chardet<4,>=3.0.2 in /usr/local/lib/python3.7/dist-packages (from requests[socks]->gdown) (3.0.4)\n",
            "Requirement already satisfied: certifi>=2017.4.17 in /usr/local/lib/python3.7/dist-packages (from requests[socks]->gdown) (2021.10.8)\n",
            "Requirement already satisfied: urllib3!=1.25.0,!=1.25.1,<1.26,>=1.21.1 in /usr/local/lib/python3.7/dist-packages (from requests[socks]->gdown) (1.24.3)\n",
            "Requirement already satisfied: PySocks!=1.5.7,>=1.5.6 in /usr/local/lib/python3.7/dist-packages (from requests[socks]->gdown) (1.7.1)\n"
          ]
        }
      ]
    },
    {
      "cell_type": "code",
      "source": [
        "# !gdown --id 1yM-cGzp7F35bXZ-f80uoJHzGqAb52CPz\n",
        "# https://drive.google.com/file/d/1yM-cGzp7F35bXZ-f80uoJHzGqAb52CPz/view?usp=sharing\n",
        "!gdown --id 1yM-cGzp7F35bXZ-f80uoJHzGqAb52CPz"
      ],
      "metadata": {
        "id": "bCv2CFD3qp0q",
        "colab": {
          "base_uri": "https://localhost:8080/"
        },
        "outputId": "eb45e70f-c982-4bfa-cd2e-9e8561a41699"
      },
      "execution_count": 13,
      "outputs": [
        {
          "output_type": "stream",
          "name": "stdout",
          "text": [
            "/usr/local/lib/python3.7/dist-packages/gdown/cli.py:131: FutureWarning: Option `--id` was deprecated in version 4.3.1 and will be removed in 5.0. You don't need to pass it anymore to use a file ID.\n",
            "  category=FutureWarning,\n",
            "Downloading...\n",
            "From: https://drive.google.com/uc?id=1yM-cGzp7F35bXZ-f80uoJHzGqAb52CPz\n",
            "To: /content/optim_raianars_Insight/Raianars_paper_One/optim_raianars_Insight/Raianars_Routines/functions_cec2014_data/cec2014.zip\n",
            "100% 36.1M/36.1M [00:00<00:00, 211MB/s]\n"
          ]
        }
      ]
    },
    {
      "cell_type": "code",
      "source": [
        "import zipfile\n",
        "file_name = zipfile.ZipFile('cec2014.zip', 'r')\n",
        "file_name.extractall()"
      ],
      "metadata": {
        "id": "-N1Hsa88W-Mr"
      },
      "execution_count": 14,
      "outputs": []
    },
    {
      "cell_type": "code",
      "source": [
        "\n",
        "Function_CEC2014 =function_select + \"_\" + cec2014_names.NamesFunctions()[function_select]+\"_D_\"+str(problem_size)\n",
        "\n",
        "f_matrix = \"M_\"+function_select[1:]+\"_D\"+str(problem_size) + \".txt\"\n",
        "shift_data_file=\"shift_data_\"+function_select[1:]+\".txt\"\n",
        "shift_data = load_shift_data__(shift_data_file)[:problem_size]\n",
        "matrix = load_matrix_data__(f_matrix)\n",
        "f_shuffle = \"shuffle_data_\"+function_select[1:]+\"_D\"+str(problem_size) + \".txt\"\n",
        "shuffle = (load_shift_data__(f_shuffle)[:problem_size] - np.ones(problem_size)).astype(int)\n",
        "\n",
        "if(function_select=='F17'):\n",
        "  f9_modified_schwefel__ = F1_to_F27_cec2014_zero_to_hero.f9_modified_schwefel__\n",
        "  f1_elliptic__ = F1_to_F27_cec2014_zero_to_hero.f1_elliptic__\n",
        "  f8_rastrigin__ = F1_to_F27_cec2014_zero_to_hero.f8_rastrigin__ \n",
        "\n",
        "\n",
        "  def F17(solution , shift_data= shift_data , matrix=matrix,shuffle=shuffle):\n",
        "      problem_size = len(solution)\n",
        "      p = np.array([0.3, 0.3, 0.4])\n",
        "      n1 = int(np.ceil(p[0] * problem_size))\n",
        "      n2 = int(np.ceil(p[1] * problem_size))\n",
        "\n",
        "      idx1 = shuffle[:n1]\n",
        "      idx2 = shuffle[n1:(n1+n2)]\n",
        "      idx3 = shuffle[(n1+n2):]\n",
        "      mz = np.dot(solution - shift_data, matrix)\n",
        "      return f9_modified_schwefel__(mz[idx1]) + f8_rastrigin__(mz[idx2]) + f1_elliptic__(mz[idx3]) #+ bias\n",
        "\n",
        "  Function = F17\n",
        "\n",
        "if(function_select=='F18'):\n",
        "  f2_bent_cigar__ = F1_to_F27_cec2014_zero_to_hero.f2_bent_cigar__\n",
        "  f12_hgbat__ = F1_to_F27_cec2014_zero_to_hero.f12_hgbat__\n",
        "  f8_rastrigin__ = F1_to_F27_cec2014_zero_to_hero.f8_rastrigin__ \n",
        "\n",
        "  def F18(solution , shift_data= shift_data , matrix=matrix,shuffle=shuffle):\n",
        "      problem_size = len(solution)\n",
        "      p = np.array([0.3, 0.3, 0.4])\n",
        "      n1 = int(np.ceil(p[0] * problem_size))\n",
        "      n2 = int(np.ceil(p[1] * problem_size))\n",
        "\n",
        "      idx1 = shuffle[:n1]\n",
        "      idx2 = shuffle[n1:(n1 + n2)]\n",
        "      idx3 = shuffle[(n1 + n2):]\n",
        "      mz = np.dot(solution - shift_data, matrix)\n",
        "      return f2_bent_cigar__(mz[idx1]) + f12_hgbat__(mz[idx2]) + f8_rastrigin__(mz[idx3]) #+ bias\n",
        "\n",
        "  Function = F18\n",
        "\n",
        "if(function_select=='F19'):\n",
        "\n",
        "  f6_weierstrass__ = F1_to_F27_cec2014_zero_to_hero.f6_weierstrass__\n",
        "  f4_rosenbrock__ = F1_to_F27_cec2014_zero_to_hero.f4_rosenbrock__\n",
        "  f7_griewank__ = F1_to_F27_cec2014_zero_to_hero.f7_griewank__\n",
        "  f14_expanded_scaffer__ = F1_to_F27_cec2014_zero_to_hero.f14_expanded_scaffer__\n",
        "\n",
        "\n",
        "  def F19(solution , shift_data= shift_data , matrix=matrix,shuffle=shuffle):\n",
        "      problem_size = len(solution)\n",
        "      p = np.array([0.2, 0.2, 0.3, 0.3])\n",
        "      n1 = int(np.ceil(p[0] * problem_size))\n",
        "      n2 = int(np.ceil(p[1] * problem_size))\n",
        "      n3 = int(np.ceil(p[2] * problem_size))\n",
        "\n",
        "      idx1 = shuffle[:n1]\n",
        "      idx2 = shuffle[n1:(n1 + n2)]\n",
        "      idx3 = shuffle[(n1 + n2):(n1+n2+n3)]\n",
        "      idx4 = shuffle[n1+n2+n3:]\n",
        "      mz = np.dot(solution - shift_data, matrix)\n",
        "      return f7_griewank__(mz[idx1]) + f6_weierstrass__(mz[idx2]) + f4_rosenbrock__(mz[idx3]) + f14_expanded_scaffer__(mz[idx4]) \n",
        "\n",
        "  Function = F19\n",
        "\n",
        "if(function_select=='F20'):\n",
        "  f12_hgbat__ = F1_to_F27_cec2014_zero_to_hero.f12_hgbat__\n",
        "  f3_discus__ = F1_to_F27_cec2014_zero_to_hero.f3_discus__\n",
        "  f13_expanded_griewank__ = F1_to_F27_cec2014_zero_to_hero.f13_expanded_griewank__\n",
        "  f8_rastrigin__ = F1_to_F27_cec2014_zero_to_hero.f8_rastrigin__\n",
        "\n",
        "  def F20(solution , shift_data= shift_data , matrix=matrix,shuffle=shuffle):\n",
        "      problem_size = len(solution)\n",
        "      p = np.array([0.2, 0.2, 0.3, 0.3])\n",
        "      n1 = int(np.ceil(p[0] * problem_size))\n",
        "      n2 = int(np.ceil(p[1] * problem_size))\n",
        "      n3 = int(np.ceil(p[2] * problem_size))\n",
        "\n",
        "      idx1 = shuffle[:n1]\n",
        "      idx2 = shuffle[n1:(n1 + n2)]\n",
        "      idx3 = shuffle[(n1 + n2):(n1 + n2 + n3)]\n",
        "      idx4 = shuffle[n1 + n2 + n3:]\n",
        "      mz = np.dot(solution - shift_data, matrix)\n",
        "      return f12_hgbat__(mz[idx1]) + f3_discus__(mz[idx2]) + f13_expanded_griewank__(mz[idx3]) + f8_rastrigin__(mz[idx4])# + bias\n",
        "\n",
        "  Function = F20\n",
        "\n",
        "if(function_select=='F21'):\n",
        "\n",
        "  f9_modified_schwefel__ = F1_to_F27_cec2014_zero_to_hero.f9_modified_schwefel__ \n",
        "  f12_hgbat__ = F1_to_F27_cec2014_zero_to_hero.f12_hgbat__ \n",
        "  f14_expanded_scaffer__ = F1_to_F27_cec2014_zero_to_hero.f14_expanded_scaffer__  \n",
        "  f1_elliptic__ = F1_to_F27_cec2014_zero_to_hero.f1_elliptic__\n",
        "  f4_rosenbrock__ = F1_to_F27_cec2014_zero_to_hero.f4_rosenbrock__\n",
        "\n",
        "  def F21(solution , shift_data= shift_data , matrix=matrix,shuffle=shuffle):\n",
        "    problem_size = len(solution)\n",
        "    p = np.array([0.1, 0.2, 0.2, 0.2, 0.3])\n",
        "    n1 = int(np.ceil(p[0] * problem_size))\n",
        "    n2 = int(np.ceil(p[1] * problem_size))\n",
        "    n3 = int(np.ceil(p[2] * problem_size))\n",
        "    n4 = int(np.ceil(p[3] * problem_size))\n",
        "\n",
        "    idx1 = shuffle[:n1]\n",
        "    idx2 = shuffle[n1:(n1 + n2)]\n",
        "    idx3 = shuffle[(n1 + n2):(n1 + n2 + n3)]\n",
        "    idx4 = shuffle[(n1+n2+n3):(n1+n2+n3+n4)]\n",
        "    idx5 = shuffle[n1+n2+n3+n4:]\n",
        "    mz = np.dot(solution - shift_data, matrix)\n",
        "\n",
        "    return f14_expanded_scaffer__(mz[idx1]) + f12_hgbat__(mz[idx2]) + f4_rosenbrock__(mz[idx3]) + \\\n",
        "           f9_modified_schwefel__(mz[idx4]) + f1_elliptic__(mz[idx5]) \n",
        "\n",
        "\n",
        "  Function = F21\n",
        "\n",
        "if(function_select=='F22'):\n",
        "\n",
        "  f1_elliptic__ = F1_to_F27_cec2014_zero_to_hero.f1_elliptic__\n",
        "  f10_katsuura__ = F1_to_F27_cec2014_zero_to_hero.f10_katsuura__ \n",
        "  f11_happy_cat__ = F1_to_F27_cec2014_zero_to_hero.f11_happy_cat__\n",
        "  f13_expanded_griewank__ = F1_to_F27_cec2014_zero_to_hero.f13_expanded_griewank__\n",
        "  f9_modified_schwefel__ = F1_to_F27_cec2014_zero_to_hero.f9_modified_schwefel__\n",
        "  f5_ackley__ = F1_to_F27_cec2014_zero_to_hero.f5_ackley__\n",
        "\n",
        "  def F22(solution , shift_data= shift_data , matrix=matrix,shuffle=shuffle):\n",
        "      problem_size = len(solution)\n",
        "      p = np.array([0.1, 0.2, 0.2, 0.2, 0.3])\n",
        "      n1 = int(np.ceil(p[0] * problem_size))\n",
        "      n2 = int(np.ceil(p[1] * problem_size))\n",
        "      n3 = int(np.ceil(p[2] * problem_size))\n",
        "      n4 = int(np.ceil(p[3] * problem_size))\n",
        "\n",
        "      idx1 = shuffle[:n1]\n",
        "      idx2 = shuffle[n1:(n1 + n2)]\n",
        "      idx3 = shuffle[(n1 + n2):(n1 + n2 + n3)]\n",
        "      idx4 = shuffle[(n1 + n2 + n3):(n1 + n2 + n3 + n4)]\n",
        "      idx5 = shuffle[n1 + n2 + n3 + n4:]\n",
        "      mz = np.dot(solution - shift_data, matrix)\n",
        "      \n",
        "      return f10_katsuura__(mz[idx1]) + f11_happy_cat__(mz[idx2]) + f13_expanded_griewank__(mz[idx3]) + \\\n",
        "            f9_modified_schwefel__(mz[idx4]) + f5_ackley__(mz[idx5]) #+ bias\n",
        "\n",
        "  Function = F22\n",
        "\n",
        "if(function_select=='F23'):\n",
        "  f1_elliptic__ = F1_to_F27_cec2014_zero_to_hero.f1_elliptic__\n",
        "  f2_bent_cigar__ = F1_to_F27_cec2014_zero_to_hero.f2_bent_cigar__ \n",
        "  f8_rastrigin__ = F1_to_F27_cec2014_zero_to_hero.f8_rastrigin__ \n",
        "  f3_discus__ = F1_to_F27_cec2014_zero_to_hero.f3_discus__\n",
        "  f4_rosenbrock__   =  F1_to_F27_cec2014_zero_to_hero.f4_rosenbrock__\n",
        "\n",
        "\n",
        "  def F23(solution , shift_data= shift_data , matrix=matrix,shuffle=shuffle):\n",
        "    problem_size = len(solution)\n",
        "    xichma = np.array([10, 20, 30, 40, 50])\n",
        "    lamda = np.array([1, 1e-6, 1e-26, 1e-6, 1e-6])\n",
        "    bias = np.array([0, 100, 200, 300, 400])\n",
        "\n",
        "      \n",
        "    # 1. Rotated Rosenbrock’s Function F4’\n",
        "    t1 = solution - shift_data[0]\n",
        "    g1 = lamda[0] * f4_rosenbrock__(np.dot(t1, matrix[:problem_size, :])) + bias[0]\n",
        "    w1 = (1.0 / np.sqrt(sum(t1 ** 2))) * np.exp(-sum(t1 ** 2) / (2 * problem_size * xichma[0] ** 2))\n",
        "\n",
        "    # 2. High Conditioned Elliptic Function F1’\n",
        "    t2 = solution - shift_data[1]\n",
        "    g2 = lamda[1] * f1_elliptic__(solution) + bias[1]\n",
        "    w2 = (1.0 / np.sqrt(sum(t2 ** 2))) * np.exp(-sum(t2 ** 2) / (2 * problem_size * xichma[1] ** 2))\n",
        "    # 3. Rotated Bent Cigar Function F2’\n",
        "    t3 = solution - shift_data[2]\n",
        "    g3 = lamda[2] * f2_bent_cigar__(np.dot(matrix[2 * problem_size: 3 * problem_size, :], t3)) + bias[2]\n",
        "    w3 = (1.0 / np.sqrt(sum(t3 ** 2))) * np.exp(-sum(t3 ** 2) / (2 * problem_size * xichma[2] ** 2))\n",
        "    # 4. Rotated Discus Function F3’\n",
        "    t4 = solution - shift_data[3]\n",
        "    g4 = lamda[3] * f3_discus__(np.dot(matrix[3 * problem_size: 4 * problem_size, :], t4)) + bias[3]\n",
        "    w4 = (1.0 / np.sqrt(sum(t4 ** 2))) * np.exp(-sum(t4 ** 2) / (2 * problem_size * xichma[3] ** 2))\n",
        "\n",
        "    # 4. High Conditioned Elliptic Function F1’\n",
        "    t5 = solution - shift_data[4]\n",
        "    g5 = lamda[4] * f1_elliptic__(solution) + bias[4]\n",
        "    w5 = (1.0 / np.sqrt(sum(t5 ** 2))) * np.exp(-sum(t5 ** 2) / (2 * problem_size * xichma[4] ** 2))\n",
        "\n",
        "    sw = sum([w1, w2, w3, w4, w5])\n",
        "    result = (w1 * g1 + w2 * g2 + w3 * g3 + w4 * g4 + w5 * g5) / sw\n",
        "    return result #+ f_bias\n",
        "\n",
        "  Function = F23\n",
        "\n",
        "\n",
        "if(function_select=='F24'):\n",
        "  f1_elliptic__ = F1_to_F27_cec2014_zero_to_hero.f1_elliptic__\n",
        "  f2_bent_cigar__ = F1_to_F27_cec2014_zero_to_hero.f2_bent_cigar__ \n",
        "  f8_rastrigin__ = F1_to_F27_cec2014_zero_to_hero.f8_rastrigin__ \n",
        "  f3_discus__ = F1_to_F27_cec2014_zero_to_hero.f3_discus__\n",
        "  f4_rosenbrock__   =  F1_to_F27_cec2014_zero_to_hero.f4_rosenbrock__\n",
        "  f1_elliptic__ = F1_to_F27_cec2014_zero_to_hero.f1_elliptic__\n",
        "  f9_modified_schwefel__ = F1_to_F27_cec2014_zero_to_hero.f9_modified_schwefel__ \n",
        "  f8_rastrigin__ = F1_to_F27_cec2014_zero_to_hero.f8_rastrigin__ \n",
        "  f12_hgbat__ = F1_to_F27_cec2014_zero_to_hero.f12_hgbat__\n",
        "\n",
        "  def F24(solution , shift_data= shift_data , matrix=matrix,shuffle=shuffle):\n",
        "      problem_size = len(solution)\n",
        "      xichma = np.array([20, 20, 20])\n",
        "      lamda = np.array([1, 1, 1])\n",
        "      bias = np.array([0, 100, 200])\n",
        "\n",
        "      # 1. Rotated Rosenbrock’s Function F4’\n",
        "      t1 = solution - shift_data[0]\n",
        "      g1 = lamda[0] * f9_modified_schwefel__(solution) + bias[0]\n",
        "      w1 = (1.0 / np.sqrt(sum(t1 ** 2))) * np.exp(-sum(t1 ** 2) / (2 * problem_size * xichma[0] ** 2))\n",
        "\n",
        "      # 2. Rotated Rastrigin’s Function F9’\n",
        "      t2 = solution - shift_data[1]\n",
        "      g2 = lamda[1] * f8_rastrigin__(np.dot(matrix[problem_size: 2 * problem_size], t2)) + bias[1]\n",
        "      w2 = (1.0 / np.sqrt(sum(t2 ** 2))) * np.exp(-sum(t2 ** 2) / (2 * problem_size * xichma[1] ** 2))\n",
        "\n",
        "      # 3. Rotated HGBat Function F14’\n",
        "      t3 = solution - shift_data[2]\n",
        "      g3 = lamda[2] * f12_hgbat__(np.dot(matrix[2 * problem_size: 3 * problem_size, :], t3)) + bias[2]\n",
        "      w3 = (1.0 / np.sqrt(sum(t3 ** 2))) * np.exp(-sum(t3 ** 2) / (2 * problem_size * xichma[2] ** 2))\n",
        "\n",
        "      sw = sum([w1, w2, w3])\n",
        "      result = (w1 * g1 + w2 * g2 + w3 * g3) / sw\n",
        "      return result #+ f_bias\n",
        "\n",
        "  Function = F24\n",
        "\n",
        " \n",
        "if(function_select=='F25'):\n",
        "\n",
        "  f9_modified_schwefel__ = F1_to_F27_cec2014_zero_to_hero.f9_modified_schwefel__ \n",
        "  f8_rastrigin__ = F1_to_F27_cec2014_zero_to_hero.f8_rastrigin__ \n",
        "  f1_elliptic__ = F1_to_F27_cec2014_zero_to_hero.f1_elliptic__\n",
        "\n",
        "  def F25(solution , shift_data= shift_data , matrix=matrix,shuffle=shuffle):\n",
        "      problem_size = len(solution)\n",
        "      xichma = np.array([10, 30, 50])\n",
        "      lamda = np.array([0.25, 1, 1e-7])\n",
        "      bias = np.array([0, 100, 200])\n",
        "\n",
        "      # 1. Rotated Schwefel's Function F11’\n",
        "      t1 = solution - shift_data[0]\n",
        "      g1 = lamda[0] * f9_modified_schwefel__(np.dot(matrix[:problem_size, :problem_size], t1)) + bias[0]\n",
        "      w1 = (1.0 / np.sqrt(sum(t1 ** 2))) * np.exp(-sum(t1 ** 2) / (2 * problem_size * xichma[0] ** 2))\n",
        "\n",
        "      # 2. Rotated Rastrigin’s Function F9’\n",
        "      t2 = solution - shift_data[1]\n",
        "      g2 = lamda[1] * f8_rastrigin__(np.dot(matrix[problem_size: 2 * problem_size], t2)) + bias[1]\n",
        "      w2 = (1.0 / np.sqrt(sum(t2 ** 2))) * np.exp(-sum(t2 ** 2) / (2 * problem_size * xichma[1] ** 2))\n",
        "\n",
        "      # 3. Rotated High Conditioned Elliptic Function F1'\n",
        "      t3 = solution - shift_data[2]\n",
        "      g3 = lamda[2] * f1_elliptic__(np.dot(matrix[2 * problem_size: 3 * problem_size, :], t3)) + bias[2]\n",
        "      w3 = (1.0 / np.sqrt(sum(t3 ** 2))) * np.exp(-sum(t3 ** 2) / (2 * problem_size * xichma[2] ** 2))\n",
        "\n",
        "      sw = sum([w1, w2, w3])\n",
        "      result = (w1 * g1 + w2 * g2 + w3 * g3) / sw\n",
        "      return result #+ f_bias\n",
        "\n",
        "  Function = F25   \n",
        "\n",
        "if(function_select=='F26'):\n",
        "\n",
        "  f9_modified_schwefel__ = F1_to_F27_cec2014_zero_to_hero.f9_modified_schwefel__ \n",
        "  f11_happy_cat__ = F1_to_F27_cec2014_zero_to_hero.f11_happy_cat__\n",
        "  f1_elliptic__ = F1_to_F27_cec2014_zero_to_hero.f1_elliptic__\n",
        "  f6_weierstrass__ = F1_to_F27_cec2014_zero_to_hero.f6_weierstrass__\n",
        "  f7_griewank__ = F1_to_F27_cec2014_zero_to_hero.f7_griewank__\n",
        "\n",
        "  def F26(solution , shift_data= shift_data , matrix=matrix,shuffle=shuffle):\n",
        "    problem_size = len(solution)\n",
        "    xichma = np.array([10, 10, 10, 10, 10])\n",
        "    lamda = np.array([0.25, 1, 1e-7, 2.5, 10])\n",
        "    bias = np.array([0, 100, 200, 300, 400])\n",
        "\n",
        "    # 1. Rotated Schwefel's Function F11’\n",
        "    t1 = solution - shift_data[0]\n",
        "    g1 = lamda[0] * f9_modified_schwefel__(np.dot(matrix[:problem_size, :], t1)) + bias[0]\n",
        "    w1 = (1.0 / np.sqrt(sum(t1 ** 2))) * np.exp(-sum(t1 ** 2) / (2 * problem_size * xichma[0] ** 2))\n",
        "\n",
        "    # 2. Rotated HappyCat Function F13’\n",
        "    t2 = solution - shift_data[1]\n",
        "    g2 = lamda[1] * f11_happy_cat__(np.dot(matrix[problem_size:2 * problem_size, :], t2)) + bias[1]\n",
        "    w2 = (1.0 / np.sqrt(sum(t2 ** 2))) * np.exp(-sum(t2 ** 2) / (2 * problem_size * xichma[1] ** 2))\n",
        "\n",
        "    # 3. Rotated High Conditioned Elliptic Function F1’\n",
        "    t3 = solution - shift_data[2]\n",
        "    g3 = lamda[2] * f1_elliptic__(np.dot(matrix[2 * problem_size: 3 * problem_size, :], t3)) + bias[2]\n",
        "    w3 = (1.0 / np.sqrt(sum(t3 ** 2))) * np.exp(-sum(t3 ** 2) / (2 * problem_size * xichma[2] ** 2))\n",
        "\n",
        "    # 4. Rotated Weierstrass Function F6’\n",
        "    t4 = solution - shift_data[3]\n",
        "    g4 = lamda[3] * f6_weierstrass__(np.dot(matrix[3 * problem_size: 4 * problem_size, :], t4)) + bias[3]\n",
        "    w4 = (1.0 / np.sqrt(sum(t4 ** 2))) * np.exp(-sum(t4 ** 2) / (2 * problem_size * xichma[3] ** 2))\n",
        "\n",
        "    # 5. Rotated Griewank’s Function F7’\n",
        "    t5 = solution - shift_data[4]\n",
        "    g5 = lamda[4] * f7_griewank__(np.dot(matrix[4*problem_size:, :], t5)) + bias[4]\n",
        "    w5 = (1.0 / np.sqrt(sum(t5 ** 2))) * np.exp(-sum(t5 ** 2) / (2 * problem_size * xichma[4] ** 2))\n",
        "\n",
        "    sw = sum([w1, w2, w3, w4, w5])\n",
        "    result = (w1 * g1 + w2 * g2 + w3 * g3 + w4 * g4 + w5 * g5) / sw\n",
        "    return result #+ f_bias\n",
        "\n",
        "  Function = F26\n",
        "\n",
        "if(function_select=='F27'):\n",
        "\n",
        "  f1_elliptic__ = F1_to_F27_cec2014_zero_to_hero.f1_elliptic__\n",
        "  f9_modified_schwefel__ = F1_to_F27_cec2014_zero_to_hero.f9_modified_schwefel__ \n",
        "  f12_hgbat__ = F1_to_F27_cec2014_zero_to_hero.f12_hgbat__\n",
        "  f8_rastrigin__ = F1_to_F27_cec2014_zero_to_hero.f8_rastrigin__\n",
        "  f6_weierstrass__ = F1_to_F27_cec2014_zero_to_hero.f6_weierstrass__\n",
        "\n",
        "  def F27(solution , shift_data= shift_data , matrix=matrix,shuffle=shuffle):\n",
        "      problem_size = len(solution)\n",
        "      xichma = np.array([10, 10, 10, 20, 20])\n",
        "      lamda = np.array([10, 10, 2.5, 25, 1e-6])\n",
        "      bias = np.array([0, 100, 200, 300, 400])\n",
        "\n",
        "      # 1. Rotated HGBat Function F14'\n",
        "      t1 = solution - shift_data[0]\n",
        "      g1 = lamda[0] * f12_hgbat__(np.dot(matrix[:problem_size, :], t1)) + bias[0]\n",
        "      w1 = (1.0 / np.sqrt(sum(t1 ** 2))) * np.exp(-sum(t1 ** 2) / (2 * problem_size * xichma[0] ** 2))\n",
        "\n",
        "      # 2. Rotated Rastrigin’s Function F9’\n",
        "      t2 = solution - shift_data[1]\n",
        "      g2 = lamda[1] * f8_rastrigin__(np.dot(matrix[problem_size:2 * problem_size, :], t2)) + bias[1]\n",
        "      w2 = (1.0 / np.sqrt(sum(t2 ** 2))) * np.exp(-sum(t2 ** 2) / (2 * problem_size * xichma[1] ** 2))\n",
        "\n",
        "      # 3. Rotated Schwefel's Function F11’\n",
        "      t3 = solution - shift_data[2]\n",
        "      g3 = lamda[2] * f9_modified_schwefel__(np.dot(matrix[2 * problem_size: 3 * problem_size, :], t3)) + bias[2]\n",
        "      w3 = (1.0 / np.sqrt(sum(t3 ** 2))) * np.exp(-sum(t3 ** 2) / (2 * problem_size * xichma[2] ** 2))\n",
        "\n",
        "      # 4. Rotated Weierstrass Function F6’\n",
        "      t4 = solution - shift_data[3]\n",
        "      g4 = lamda[3] * f6_weierstrass__(np.dot(matrix[3 * problem_size: 4 * problem_size, :], t4)) + bias[3]\n",
        "      w4 = (1.0 / np.sqrt(sum(t4 ** 2))) * np.exp(-sum(t4 ** 2) / (2 * problem_size * xichma[3] ** 2))\n",
        "\n",
        "      # 5. Rotated High Conditioned Elliptic Function F1’\n",
        "      t5 = solution - shift_data[4]\n",
        "      g5 = lamda[4] * f1_elliptic__(np.dot(matrix[4 * problem_size:, :], t5)) + bias[4]\n",
        "      w5 = (1.0 / np.sqrt(sum(t5 ** 2))) * np.exp(-sum(t5 ** 2) / (2 * problem_size * xichma[4] ** 2))\n",
        "\n",
        "      sw = sum([w1, w2, w3, w4, w5])\n",
        "      result = (w1 * g1 + w2 * g2 + w3 * g3 + w4 * g4 + w5 * g5) / sw\n",
        "      return result #+ f_bias\n",
        "\n",
        "  Function = F27 \n",
        "\n",
        "if(function_select=='F28'):\n",
        "\n",
        "  # block of functions to F28: it use F17 and F19\n",
        "  f_matrix = \"M_15\"+\"_D\"+str(problem_size) + \".txt\"\n",
        "  matrix_F15 = load_matrix_data__(f_matrix)\n",
        "\n",
        "  f14_expanded_scaffer__ = F1_to_F27_cec2014_zero_to_hero.f14_expanded_scaffer__ \n",
        "  f9_modified_schwefel__ = F1_to_F27_cec2014_zero_to_hero.f9_modified_schwefel__ \n",
        "  f11_happy_cat__ = F1_to_F27_cec2014_zero_to_hero.f11_happy_cat__ \n",
        "  f1_elliptic__ = F1_to_F27_cec2014_zero_to_hero.f1_elliptic__\n",
        "  f13_expanded_griewank__ = F1_to_F27_cec2014_zero_to_hero.f13_expanded_griewank__\n",
        "\n",
        "  def F15_hybrid(solution , shift_data = shift_data, matrix = matrix_F15 , shuffle = shuffle):\n",
        "      problem_size = len(solution)\n",
        "      z = 5 * (solution - shift_data) / 100\n",
        "      z = np.dot(z, matrix) + 1\n",
        "      return f13_expanded_griewank__(z) #+ bias\n",
        "\n",
        "  def F28(solution , shift_data= shift_data , matrix=matrix,shuffle=shuffle):\n",
        "      problem_size = len(solution)\n",
        "      xichma = np.array([10, 20, 30, 40, 50])\n",
        "      lamda = np.array([2.5, 10, 2.5, 5e-4, 1e-6])\n",
        "      bias = np.array([0, 100, 200, 300, 400])\n",
        "\n",
        "      # 1. Rotated Expanded Griewank’s plus Rosenbrock’s Function F15’\n",
        "      t1 = solution - shift_data[0]\n",
        "      g1 = lamda[0] * F15_hybrid(solution) + bias[0]\n",
        "      w1 = (1.0 / np.sqrt(sum(t1 ** 2))) * np.exp(-sum(t1 ** 2) / (2 * problem_size * xichma[0] ** 2))\n",
        "\n",
        "      # 2. Rotated HappyCat Function F13’\n",
        "      t2 = solution - shift_data[1]\n",
        "      g2 = lamda[1] * f11_happy_cat__(np.dot(matrix[problem_size:2 * problem_size, :], t2)) + bias[1]\n",
        "      w2 = (1.0 / np.sqrt(sum(t2 ** 2))) * np.exp(-sum(t2 ** 2) / (2 * problem_size * xichma[1] ** 2))\n",
        "\n",
        "      # 3. Rotated Schwefel's Function F11’\n",
        "      t3 = solution - shift_data[2]\n",
        "      g3 = lamda[2] * f9_modified_schwefel__(np.dot(matrix[2 * problem_size: 3 * problem_size, :], t3)) + bias[2]\n",
        "      w3 = (1.0 / np.sqrt(sum(t3 ** 2))) * np.exp(-sum(t3 ** 2) / (2 * problem_size * xichma[2] ** 2))\n",
        "\n",
        "      # 4. Rotated Expanded Scaffer’s F6 Function F16’\n",
        "      t4 = solution - shift_data[3]\n",
        "      g4 = lamda[3] * f14_expanded_scaffer__(np.dot(matrix[3 * problem_size: 4 * problem_size, :], t4)) + bias[3]\n",
        "      w4 = (1.0 / np.sqrt(sum(t4 ** 2))) * np.exp(-sum(t4 ** 2) / (2 * problem_size * xichma[3] ** 2))\n",
        "\n",
        "      # 5. Rotated High Conditioned Elliptic Function F1’\n",
        "      t5 = solution - shift_data[4]\n",
        "      g5 = lamda[4] * f1_elliptic__(np.dot(matrix[4 * problem_size:, :], t5)) + bias[4]\n",
        "      w5 = (1.0 / np.sqrt(sum(t5 ** 2))) * np.exp(-sum(t5 ** 2) / (2 * problem_size * xichma[4] ** 2))\n",
        "\n",
        "      sw = sum([w1, w2, w3, w4, w5])\n",
        "      result = (w1 * g1 + w2 * g2 + w3 * g3 + w4 * g4 + w5 * g5) / sw\n",
        "      return result #+ f_bias\n",
        "\n",
        "  Function = F28 \n",
        "\n",
        "if(function_select=='F29'):\n",
        "  # block of functions to F28: it use F17 and F19\n",
        "  f_matrix = \"M_17\"+\"_D\"+str(problem_size) + \".txt\"\n",
        "  matrix_F17 = load_matrix_data__(f_matrix)\n",
        "\n",
        "  f_matrix = \"M_18\"+\"_D\"+str(problem_size) + \".txt\"\n",
        "  matrix_F18 = load_matrix_data__(f_matrix)\n",
        "\n",
        "  f_matrix = \"M_19\"+\"_D\"+str(problem_size) + \".txt\"\n",
        "  matrix_F19 = load_matrix_data__(f_matrix)\n",
        "\n",
        "  f9_modified_schwefel__  = F1_to_F27_cec2014_zero_to_hero.f9_modified_schwefel__ \n",
        "  f8_rastrigin__ = F1_to_F27_cec2014_zero_to_hero.f8_rastrigin__\n",
        "  f1_elliptic__ = F1_to_F27_cec2014_zero_to_hero.f1_elliptic__\n",
        "\n",
        "  f2_bent_cigar__ = F1_to_F27_cec2014_zero_to_hero.f2_bent_cigar__\n",
        "  f12_hgbat__ = F1_to_F27_cec2014_zero_to_hero.f12_hgbat__\n",
        "  #f8_rastrigin__ = F1_to_F27_cec2014_zero_to_hero.f8_rastrigin__\n",
        "\n",
        "  f7_griewank__ = F1_to_F27_cec2014_zero_to_hero.f7_griewank__\n",
        "  f6_weierstrass__ = F1_to_F27_cec2014_zero_to_hero.f6_weierstrass__\n",
        "  f4_rosenbrock__ = F1_to_F27_cec2014_zero_to_hero.f4_rosenbrock__\n",
        "  f14_expanded_scaffer__ = F1_to_F27_cec2014_zero_to_hero.f14_expanded_scaffer__ \n",
        "\n",
        "  def F17_hybrid(solution , shift_data = shift_data, matrix = matrix_F17 , shuffle = shuffle):\n",
        "      problem_size = len(solution)\n",
        "      p = np.array([0.3, 0.3, 0.4])\n",
        "      n1 = int(np.ceil(p[0] * problem_size))\n",
        "      n2 = int(np.ceil(p[1] * problem_size))\n",
        "      idx1 = shuffle[:n1]\n",
        "      idx2 = shuffle[n1:(n1+n2)]\n",
        "      idx3 = shuffle[(n1+n2):]\n",
        "      mz = np.dot(solution - shift_data, matrix)\n",
        "\n",
        "      return f9_modified_schwefel__(mz[idx1]) + f8_rastrigin__(mz[idx2]) + f1_elliptic__(mz[idx3]) #+ bias\n",
        "\n",
        "  def F18_hybrid(solution , shift_data = shift_data, matrix = matrix_F17 , shuffle = shuffle):\n",
        "      problem_size = len(solution)\n",
        "      p = np.array([0.3, 0.3, 0.4])\n",
        "      n1 = int(np.ceil(p[0] * problem_size))\n",
        "      n2 = int(np.ceil(p[1] * problem_size))\n",
        "      idx1 = shuffle[:n1]\n",
        "      idx2 = shuffle[n1:(n1 + n2)]\n",
        "      idx3 = shuffle[(n1 + n2):]\n",
        "      mz = np.dot(solution - shift_data, matrix)\n",
        "      return f2_bent_cigar__(mz[idx1]) + f12_hgbat__(mz[idx2]) + f8_rastrigin__(mz[idx3]) #+ bias \n",
        "\n",
        "  def F19_hybrid(solution , shift_data = shift_data, matrix = matrix_F17 , shuffle = shuffle):\n",
        "      problem_size = len(solution)\n",
        "      p = np.array([0.2, 0.2, 0.3, 0.3])\n",
        "      n1 = int(np.ceil(p[0] * problem_size))\n",
        "      n2 = int(np.ceil(p[1] * problem_size))\n",
        "      n3 = int(np.ceil(p[2] * problem_size))\n",
        "      idx1 = shuffle[:n1]\n",
        "      idx2 = shuffle[n1:(n1 + n2)]\n",
        "      idx3 = shuffle[(n1 + n2):(n1+n2+n3)]\n",
        "      idx4 = shuffle[n1+n2+n3:]\n",
        "      mz = np.dot(solution - shift_data, matrix)\n",
        "      return f7_griewank__(mz[idx1]) + f6_weierstrass__(mz[idx2]) + f4_rosenbrock__(mz[idx3]) + f14_expanded_scaffer__(mz[idx4])#+ bias\n",
        "\n",
        "\n",
        "  def F29(solution , shift_data= shift_data , matrix=matrix,shuffle=shuffle):\n",
        "      num_funcs = 3\n",
        "      problem_size = len(solution)\n",
        "      xichma = np.array([10, 30, 50])\n",
        "      lamda = np.array([1, 1, 1])\n",
        "      bias = np.array([0, 100, 200])\n",
        "\n",
        "      def __fi__(solution=None, idx=None):\n",
        "          if idx == 0:\n",
        "              return F17_hybrid(solution) #F17_hybrid(solution , shift_data , matrix, shuffle)\n",
        "          elif idx == 1:\n",
        "              return F18_hybrid(solution )\n",
        "          else:\n",
        "              return F19_hybrid(solution)\n",
        "\n",
        "      weights = np.ones(num_funcs)\n",
        "      fits = np.ones(num_funcs)\n",
        "      for i in range(0, num_funcs):\n",
        "          t1 = lamda[i] * __fi__(solution, i) + bias[i]\n",
        "          t2 = 1.0 / np.sqrt(sum((solution - shift_data[i]) ** 2))\n",
        "          w_i = t2 * np.exp(-sum((solution - shift_data[i]) ** 2) / (2 * problem_size * xichma[i] ** 2))\n",
        "          weights[i] = w_i\n",
        "          fits[i] = t1\n",
        "      sw = sum(weights)\n",
        "      result = 0.0\n",
        "      for i in range(0, num_funcs):\n",
        "          result += (weights[i] / sw) * fits[i]\n",
        "      return result #+ f_bias\n",
        "\n",
        "  Function = F29 \n",
        "\n",
        "if(function_select=='F30'):\n",
        "  f12_hgbat__ = F1_to_F27_cec2014_zero_to_hero.f12_hgbat__ \n",
        "  f3_discus__ = F1_to_F27_cec2014_zero_to_hero.f3_discus__ \n",
        "  f13_expanded_griewank__ = F1_to_F27_cec2014_zero_to_hero.f13_expanded_griewank__ \n",
        "  f8_rastrigin__ = F1_to_F27_cec2014_zero_to_hero.f8_rastrigin__ \n",
        "\n",
        "\n",
        "  f14_expanded_scaffer__ = F1_to_F27_cec2014_zero_to_hero.f14_expanded_scaffer__ \n",
        "  #f12_hgbat__ = F1_to_F27_cec2014_zero_to_hero.f12_hgbat__\n",
        "  f4_rosenbrock__ = F1_to_F27_cec2014_zero_to_hero.f4_rosenbrock__\n",
        "  f9_modified_schwefel__ = F1_to_F27_cec2014_zero_to_hero.f9_modified_schwefel__\n",
        "  f1_elliptic__ = F1_to_F27_cec2014_zero_to_hero.f1_elliptic__  \n",
        "\n",
        "  f10_katsuura__ = F1_to_F27_cec2014_zero_to_hero.f10_katsuura__\n",
        "  f11_happy_cat__ = F1_to_F27_cec2014_zero_to_hero.f11_happy_cat__\n",
        "  #f13_expanded_griewank__ = F1_to_F27_cec2014_zero_to_hero.f13_expanded_griewank__\n",
        "  #f9_modified_schwefel__ = F1_to_F27_cec2014_zero_to_hero.f9_modified_schwefel__\n",
        "  f5_ackley__ = F1_to_F27_cec2014_zero_to_hero.f5_ackley__ \n",
        "\n",
        "  # block of functions to F30: it use F20, F21, F22\n",
        "  f_matrix = \"M_20\"+\"_D\"+str(problem_size) + \".txt\"\n",
        "  matrix_F20 = load_matrix_data__(f_matrix)\n",
        "  f_matrix = \"M_21\"+\"_D\"+str(problem_size) + \".txt\"\n",
        "  matrix_F21 = load_matrix_data__(f_matrix)\n",
        "  f_matrix = \"M_22\"+\"_D\"+str(problem_size) + \".txt\"\n",
        "  matrix_F22 = load_matrix_data__(f_matrix)\n",
        "\n",
        "  def F20_hybrid(solution , shift_data = shift_data, matrix = matrix_F20 , shuffle = shuffle):\n",
        "      problem_size = len(solution)\n",
        "      p = np.array([0.2, 0.2, 0.3, 0.3])\n",
        "      n1 = int(np.ceil(p[0] * problem_size))\n",
        "      n2 = int(np.ceil(p[1] * problem_size))\n",
        "      n3 = int(np.ceil(p[2] * problem_size))\n",
        "\n",
        "      shuffle = (shuffle[:problem_size] - np.ones(problem_size)).astype(int)\n",
        "      idx1 = shuffle[:n1]\n",
        "      idx2 = shuffle[n1:(n1 + n2)]\n",
        "      idx3 = shuffle[(n1 + n2):(n1 + n2 + n3)]\n",
        "      idx4 = shuffle[n1 + n2 + n3:]\n",
        "      mz = np.dot(solution - shift_data, matrix)\n",
        "      return f12_hgbat__(mz[idx1]) + f3_discus__(mz[idx2]) + f13_expanded_griewank__(mz[idx3]) + f8_rastrigin__(mz[idx4]) #+ bias\n",
        "\n",
        "\n",
        "  def F21_hybrid(solution , shift_data = shift_data, matrix = matrix_F21 , shuffle = shuffle):\n",
        "      problem_size = len(solution)\n",
        "      p = np.array([0.1, 0.2, 0.2, 0.2, 0.3])\n",
        "      n1 = int(np.ceil(p[0] * problem_size))\n",
        "      n2 = int(np.ceil(p[1] * problem_size))\n",
        "      n3 = int(np.ceil(p[2] * problem_size))\n",
        "      n4 = int(np.ceil(p[3] * problem_size))\n",
        "\n",
        "      shuffle = (shuffle[:problem_size] - np.ones(problem_size)).astype(int)\n",
        "\n",
        "      idx1 = shuffle[:n1]\n",
        "      idx2 = shuffle[n1:(n1 + n2)]\n",
        "      idx3 = shuffle[(n1 + n2):(n1 + n2 + n3)]\n",
        "      idx4 = shuffle[(n1+n2+n3):(n1+n2+n3+n4)]\n",
        "      idx5 = shuffle[n1+n2+n3+n4:]\n",
        "      mz = np.dot(solution - shift_data, matrix)\n",
        "      return f14_expanded_scaffer__(mz[idx1]) + f12_hgbat__(mz[idx2]) + f4_rosenbrock__(mz[idx3]) + \\\n",
        "            f9_modified_schwefel__(mz[idx4]) + f1_elliptic__(mz[idx5]) #+ bias\n",
        "\n",
        "\n",
        "  def F22_hybrid(solution , shift_data = shift_data, matrix = matrix_F22 , shuffle = shuffle):\n",
        "      problem_size = len(solution)\n",
        "      p = np.array([0.1, 0.2, 0.2, 0.2, 0.3])\n",
        "      n1 = int(np.ceil(p[0] * problem_size))\n",
        "      n2 = int(np.ceil(p[1] * problem_size))\n",
        "      n3 = int(np.ceil(p[2] * problem_size))\n",
        "      n4 = int(np.ceil(p[3] * problem_size))\n",
        "\n",
        "      idx1 = shuffle[:n1]\n",
        "      idx2 = shuffle[n1:(n1 + n2)]\n",
        "      idx3 = shuffle[(n1 + n2):(n1 + n2 + n3)]\n",
        "      idx4 = shuffle[(n1 + n2 + n3):(n1 + n2 + n3 + n4)]\n",
        "      idx5 = shuffle[n1 + n2 + n3 + n4:]\n",
        "      mz = np.dot(solution - shift_data, matrix)\n",
        "      return f10_katsuura__(mz[idx1]) + f11_happy_cat__(mz[idx2]) + f13_expanded_griewank__(mz[idx3]) + \\\n",
        "            f9_modified_schwefel__(mz[idx4]) + f5_ackley__(mz[idx5]) #+ \n",
        "\n",
        "  def F30(solution , shift_data= shift_data , matrix=matrix,shuffle=shuffle):\n",
        "      num_funcs = 3\n",
        "      problem_size = len(solution)\n",
        "      xichma = np.array([10, 30, 50])\n",
        "      lamda = np.array([1, 1, 1])\n",
        "      bias = np.array([0, 100, 200])\n",
        "\n",
        "      def __fi__(solution=None, idx=None):\n",
        "          if idx == 0:\n",
        "              return F20_hybrid(solution)\n",
        "          elif idx == 1:\n",
        "              return F21_hybrid(solution)\n",
        "          else:\n",
        "              return F22_hybrid(solution)\n",
        "\n",
        "      weights = np.ones(num_funcs)\n",
        "      fits = np.ones(num_funcs)\n",
        "      for i in range(0, num_funcs):\n",
        "          t1 = lamda[i] * __fi__(solution, i) + bias[i]\n",
        "          t2 = 1.0 / np.sqrt(sum((solution - shift_data[i]) ** 2))\n",
        "          w_i = t2 * np.exp(-sum((solution - shift_data[i]) ** 2) / (2 * problem_size * xichma[i] ** 2))\n",
        "          weights[i] = w_i\n",
        "          fits[i] = t1\n",
        "      sw = sum(weights)\n",
        "      result = 0.0\n",
        "      for i in range(0, num_funcs):\n",
        "          result += (weights[i] / sw) * fits[i]\n",
        "      return result #+ f_bias\n",
        "\n",
        "  Function = F30 "
      ],
      "metadata": {
        "id": "DEUr4sgUelxf"
      },
      "execution_count": 15,
      "outputs": []
    },
    {
      "cell_type": "code",
      "source": [
        "def load_shift_data__(data_file=None):\n",
        "    data = read_csv(data_file, delimiter='\\s+', index_col=False, header=None)\n",
        "    return data.values.reshape((-1))\n",
        "\n",
        "def load_matrix_data__(data_file=None):\n",
        "    data = read_csv(data_file, delimiter='\\s+', index_col=False, header=None)\n",
        "    return data.values"
      ],
      "metadata": {
        "id": "_tEgxfW4qwlt"
      },
      "execution_count": 16,
      "outputs": []
    },
    {
      "cell_type": "code",
      "source": [
        "fobj=Function\n",
        "Fun = Function"
      ],
      "metadata": {
        "id": "LdoPBTOEu5xa"
      },
      "execution_count": 17,
      "outputs": []
    },
    {
      "cell_type": "code",
      "source": [
        "!git clone https://github.com/ucfilho/Raianars_paper_One #clonar do Github\n",
        "%cd Raianars_paper_One"
      ],
      "metadata": {
        "id": "9Vsz9VQRrLVf",
        "colab": {
          "base_uri": "https://localhost:8080/"
        },
        "outputId": "d3118636-e487-4a52-9b73-65747fbbc599"
      },
      "execution_count": 18,
      "outputs": [
        {
          "output_type": "stream",
          "name": "stdout",
          "text": [
            "Cloning into 'Raianars_paper_One'...\n",
            "remote: Enumerating objects: 277, done.\u001b[K\n",
            "remote: Counting objects: 100% (148/148), done.\u001b[K\n",
            "remote: Compressing objects: 100% (65/65), done.\u001b[K\n",
            "remote: Total 277 (delta 83), reused 142 (delta 82), pack-reused 129\u001b[K\n",
            "Receiving objects: 100% (277/277), 667.30 KiB | 6.18 MiB/s, done.\n",
            "Resolving deltas: 100% (155/155), done.\n",
            "/content/optim_raianars_Insight/Raianars_paper_One/optim_raianars_Insight/Raianars_Routines/functions_cec2014_data/Raianars_paper_One\n"
          ]
        }
      ]
    },
    {
      "cell_type": "code",
      "source": [
        "MAX=np.repeat(100,dim)\n",
        "MIN=np.repeat(-100,dim)\n",
        "\n",
        "bounds=[]\n",
        "for k in range(len(MAX)):\n",
        "  bounds.append((MIN[k],MAX[k]))"
      ],
      "metadata": {
        "id": "ukk5Twiiq0MN"
      },
      "execution_count": 19,
      "outputs": []
    },
    {
      "cell_type": "code",
      "metadata": {
        "id": "qTINtQ1cosZK",
        "colab": {
          "base_uri": "https://localhost:8080/"
        },
        "outputId": "c561f33d-aaf2-4780-bf86-d14c4db41621"
      },
      "source": [
        "!git clone https://github.com/ucfilho/ANN_read_matrix #clonar do Github\n",
        "%cd ANN_read_matrix"
      ],
      "execution_count": 20,
      "outputs": [
        {
          "output_type": "stream",
          "name": "stdout",
          "text": [
            "Cloning into 'ANN_read_matrix'...\n",
            "remote: Enumerating objects: 20, done.\u001b[K\n",
            "remote: Total 20 (delta 0), reused 0 (delta 0), pack-reused 20\u001b[K\n",
            "Unpacking objects: 100% (20/20), done.\n",
            "/content/optim_raianars_Insight/Raianars_paper_One/optim_raianars_Insight/Raianars_Routines/functions_cec2014_data/Raianars_paper_One/ANN_read_matrix\n"
          ]
        }
      ]
    },
    {
      "cell_type": "code",
      "metadata": {
        "id": "QiQLYOoNoyCw"
      },
      "source": [
        "ANN_F=pd.read_csv('ANN_INSIGHT_Valor_F.csv')"
      ],
      "execution_count": 21,
      "outputs": []
    },
    {
      "cell_type": "code",
      "metadata": {
        "id": "uHtW2amaDzFv"
      },
      "source": [
        "ANN_CR=pd.read_csv('ANN_INSIGHT_CR.csv')"
      ],
      "execution_count": 22,
      "outputs": []
    },
    {
      "cell_type": "code",
      "metadata": {
        "id": "EH6h_vke2yu1"
      },
      "source": [
        "syn0_F,syn1_F,X_max_F,X_min_F=Go2Ann.GetMatriz(ANN_F)"
      ],
      "execution_count": 23,
      "outputs": []
    },
    {
      "cell_type": "code",
      "metadata": {
        "id": "WW_3ZWJXD60i"
      },
      "source": [
        "syn0_CR,syn1_CR,X_max_CR,X_min_CR=Go2Ann.GetMatriz(ANN_CR)"
      ],
      "execution_count": 24,
      "outputs": []
    },
    {
      "cell_type": "code",
      "metadata": {
        "id": "b4gwBvVTyaXh"
      },
      "source": [
        "ANN_CR=pd.read_csv('ANN_INSIGHT_CR.csv')"
      ],
      "execution_count": 25,
      "outputs": []
    },
    {
      "cell_type": "code",
      "metadata": {
        "id": "6jL8MxpHvk-Y"
      },
      "source": [
        "fields = ['DI RELATIVO','FRAC Its','Fo','CRo']"
      ],
      "execution_count": 26,
      "outputs": []
    },
    {
      "cell_type": "code",
      "metadata": {
        "id": "Mb3LmbSmj9v7",
        "colab": {
          "base_uri": "https://localhost:8080/"
        },
        "outputId": "e8ebfded-9833-4fbd-9f22-d6d1d8006587"
      },
      "source": [
        "##################################### \n",
        "\n",
        "TOTAL=10*dim*its*ITE\n",
        "TOTAL=int(TOTAL/2)   # CONFERIR SE ESTE EH O MELHOR LUGAR\n",
        "\n",
        "#dimensions=len(MAX)\n",
        "dimensions=dim\n",
        "start_time = time.time() #INICIALIZA CONTAGEM DO TEMPO\n",
        "\n",
        "\n",
        "PAR=dim\n",
        "\n",
        "\n",
        "MAX_P=np.zeros(ITE) # ATENCAO para variar F e Cr MAX_P passa a ser 3 vezes maior\n",
        "MIN_P=np.zeros(ITE) # ATENCAO para variar F e Cr MIN_P passa a ser 3 vezes maior\n",
        "\n",
        "for i in range(dim):\n",
        "  MAX_P[i]=MAX[i] \n",
        "  MIN_P[i]=MIN[i]\n",
        "\n",
        "rodadas=1\n",
        "\n",
        "NPAR = pop_split[0]\n",
        "NPAR1=int(fator*NPAR);\n",
        "NPAR2=int((NPAR-NPAR1)/3);\n",
        "NPAR3=int((NPAR-NPAR1)/3);\n",
        "NPAR4=int((NPAR-NPAR1)/3);\n",
        "NPAR1 = NPAR-3*NPAR2\n",
        "\n",
        "print('frac=',fator);\n",
        "print('Npar1=',NPAR1);\n",
        "print('Npar2=',NPAR2);\n",
        "print('Npar3=',NPAR3);\n",
        "print('Npar4=',NPAR4);\n",
        "print('Npar=',NPAR)\n",
        "\n",
        "cols=dim\n",
        "\n",
        "X1=np.zeros((NPAR1,cols)) # X1 is Frannk population\n",
        "for i in range(NPAR1):\n",
        "  for j in range(cols):\n",
        "    r=np.random.random()\n",
        "    X1[i,j]=r*(MAX[j]-MIN[j])+MIN[j]\n",
        "    \n",
        "X2=np.zeros((NPAR2,cols)) # X2 is population DE (default DE)\n",
        "for i in range(NPAR2):\n",
        "  for j in range(cols):\n",
        "    r=np.random.random()\n",
        "    X2[i,j]=r*(MAX[j]-MIN[j])+MIN[j]\n",
        "\n",
        "X3=np.zeros((NPAR3,cols)) # X1 is Frannk population\n",
        "for i in range(NPAR3):\n",
        "  for j in range(cols):\n",
        "    r=np.random.random()\n",
        "    X3[i,j]=r*(MAX[j]-MIN[j])+MIN[j]\n",
        "    \n",
        "X4=np.zeros((NPAR4,cols)) # X2 is population DE (default DE)\n",
        "for i in range(NPAR4):\n",
        "  for j in range(cols):\n",
        "    r=np.random.random()\n",
        "    X4[i,j]=r*(MAX[j]-MIN[j])+MIN[j]"
      ],
      "execution_count": 27,
      "outputs": [
        {
          "output_type": "stream",
          "name": "stdout",
          "text": [
            "frac= 0.3333333333333333\n",
            "Npar1= 34\n",
            "Npar2= 22\n",
            "Npar3= 22\n",
            "Npar4= 22\n",
            "Npar= 100\n"
          ]
        }
      ]
    },
    {
      "cell_type": "code",
      "metadata": {
        "id": "rnX8ttNopd1G",
        "outputId": "41dc5146-dce0-4c61-d699-bd66a970d838",
        "colab": {
          "base_uri": "https://localhost:8080/"
        }
      },
      "source": [
        "start_time = time.time()\n",
        "BEST_AGENTS=[]\n",
        "MAT_stat=[]\n",
        "for iii in range(RUNS):\n",
        "    MAT=[] \n",
        "    mut=Fi\n",
        "    crossp=CRi\n",
        "    SOMA=0\n",
        "    pop = np.random.rand(NPAR, dim)\n",
        "    diff=np.zeros(PAR)\n",
        "\n",
        "    NPAR = pop_split[0]\n",
        "    NPAR1=int(fator*NPAR);\n",
        "    NPAR2=int((NPAR-NPAR1)/3);\n",
        "    NPAR3=int((NPAR-NPAR1)/3);\n",
        "    NPAR4=int((NPAR-NPAR1)/3);\n",
        "    NPAR1 = NPAR-3*NPAR2\n",
        "    \n",
        "    X1=np.zeros((NPAR1,cols)) # X1 is Frannk population\n",
        "    for i in range(NPAR1):\n",
        "      for j in range(cols):\n",
        "        r=np.random.random()\n",
        "        X1[i,j]=r*(MAX[j]-MIN[j])+MIN[j]\n",
        "        \n",
        "    X2=np.zeros((NPAR2,cols)) # X2 is population DE (default DE)\n",
        "    for i in range(NPAR2):\n",
        "      for j in range(cols):\n",
        "        r=np.random.random()\n",
        "        X2[i,j]=r*(MAX[j]-MIN[j])+MIN[j]\n",
        "\n",
        "    X3=np.zeros((NPAR3,cols)) # X2 is population DE (default DE)\n",
        "    for i in range(NPAR3):\n",
        "      for j in range(cols):\n",
        "        r=np.random.random()\n",
        "        X3[i,j]=r*(MAX[j]-MIN[j])+MIN[j]\n",
        "\n",
        "    X4=np.zeros((NPAR4,cols)) # X2 is population DE (default DE)\n",
        "    for i in range(NPAR4):\n",
        "      for j in range(cols):\n",
        "        r=np.random.random()\n",
        "        X4[i,j]=r*(MAX[j]-MIN[j])+MIN[j]\n",
        "    \n",
        "    DIo=1e99\n",
        "  \n",
        "    CRo=crossp;Fo=mut;\n",
        "    Fitness = np.asarray([Fun(ind, shift_data , matrix, shuffle) for ind in X1])\n",
        "    XY,BEST_XY,BESTo,FOBESTo=AvaliaX(X1,Fitness)\n",
        "    nrow,ncol=X1.shape\n",
        "\n",
        "    QUANT=17;MAT_INDo=np.zeros((1,QUANT)); # quantos indices esta fazendo\n",
        "    MAT_INDo[0,5]=nrow  # VALOR NP\n",
        "    MAT_INDo[0,6]=Fo    # VALOR Fo   \n",
        "    MAT_INDo[0,7]=CRo   # VALOR CRo\n",
        "\n",
        "    Fuma = Fun  # Fuma era Fun\n",
        "  \n",
        "    MAT_INDo=GeraIndices(X1,BESTo,FOBESTo,DIo,MAT_INDo,SOMA,TOTAL,syn0_F,\n",
        "                        syn1_F,X_max_F,X_min_F,syn0_CR,syn1_CR,X_max_CR,\n",
        "                        X_min_CR,Fc,fields,Fuma)\n",
        "  \n",
        "    DIo=np.copy(MAT_INDo[0,0])\n",
        "    MAT_INDo[0,15]=Fo    # VALOR Fo   \n",
        "    MAT_INDo[0,16]=CRo   # VALOR CRo\n",
        "    #ind_crossp=ITE-1\n",
        "    \n",
        "\n",
        "    \n",
        "    for k in range(ITE):\n",
        "\n",
        "\n",
        "      ############################################################################################\n",
        "      ############################################################################################\n",
        "      ############################################################################################\n",
        "      ############################################################################################\n",
        "      ############################################################################################\n",
        "      ##=cool=#####################################################################################\n",
        "      X2,BEST2,FOBEST,XY,BEST_XY=de_bounds_matriz.de(bounds, mut2, crossp2,NPAR2, its,fobj,X2)\n",
        "      # X3,BEST3,FOBEST,XY,BEST_XY=de_bounds_matriz.de(bounds, mut3, crossp3,NPAR3, its,fobj,X3)\n",
        "      X3,BEST3,FOBEST,XY,BEST_XY=Rand_DE.de(bounds,  F_interval , CR_interval, NPAR3, its,fobj,X3)\n",
        "      # X4,BEST4,FOBEST,XY,BEST_XY=de_bounds_best.de(bounds, mut_best ,crossp_best,NPAR4, its,fobj,X4)\n",
        "      X4,BEST4,FOBEST,XY,BEST_XY=de_bounds_matriz.de(bounds, mut4, crossp4,NPAR4, its,fobj,X4)\n",
        "      X1,BEST1,FOBEST,XY,BEST_XY,SOMA= de_soma_Insight.de(MAX,MIN, mut, crossp,NPAR1,its,Fun,X1,SOMA,TOTAL)\n",
        "      ############################################################################################\n",
        "      ############################################################################################\n",
        "      ############################################################################################\n",
        "      ############################################################################################\n",
        "      ############################################################################################\n",
        "      ############################################################################################\n",
        "\n",
        "      MAT_IND=GeraIndices(X1,BESTo,FOBESTo,DIo,MAT_INDo,SOMA,TOTAL,syn0_F,\n",
        "                          syn1_F,X_max_F,X_min_F,syn0_CR,syn1_CR,X_max_CR,\n",
        "                          X_min_CR,Fc,fields,Fun)\n",
        "    \n",
        "      BESTo=np.copy(BEST1);FOBESTo=np.copy(FOBEST);\n",
        "      MAT.append(MAT_IND.ravel())\n",
        "    \n",
        "      MAT_INDo[0,6]=MAT_IND[0,15]   # VALOR Fo   \n",
        "      MAT_INDo[0,7]=MAT_IND[0,16]   # VALOR CRo\n",
        "      mut=MAT_IND[0,15]\n",
        "      crossp=MAT_IND[0,16]\n",
        "      X1[NPAR1-3,:] = BEST2;X1[NPAR1-2,:] = BEST3;X1[NPAR1-1,:] = BEST4;\n",
        "      X2[NPAR2-3,:] = BEST1;X2[NPAR2-2,:] = BEST3;X2[NPAR2-1,:] = BEST4;\n",
        "      X3[NPAR3-3,:] = BEST1;X3[NPAR3-2,:] = BEST2;X3[NPAR3-1,:] = BEST4;\n",
        "      X4[NPAR4-3,:] = BEST1;X4[NPAR4-2,:] = BEST2;X4[NPAR4-1,:] = BEST3;\n",
        "\n",
        "      # run_split = [200,400,400]\n",
        "      if(k <= run_split[0]):\n",
        "        NPAR = pop_split[0]\n",
        "        NPAR1=int(fator*NPAR);\n",
        "        NPAR2=int((NPAR-NPAR1)/3);\n",
        "        NPAR3=int((NPAR-NPAR1)/3);\n",
        "        NPAR4=int((NPAR-NPAR1)/3);\n",
        "        NPAR1 = NPAR-3*NPAR2\n",
        "        X1 = X1[:NPAR1,:]; X2 = X2[:NPAR2,:]; X3 = X3[:NPAR3,:]; X4 = X4[:NPAR4,:];\n",
        "      elif(k<= run_split[1]):\n",
        "        NPAR = pop_split[1]\n",
        "        NPAR1=int(fator*NPAR);\n",
        "        NPAR2=int((NPAR-NPAR1)/3);\n",
        "        NPAR3=int((NPAR-NPAR1)/3);\n",
        "        NPAR4=int((NPAR-NPAR1)/3);\n",
        "        NPAR1 = NPAR-3*NPAR2\n",
        "        X1 = X1[:NPAR1,:]; X2 = X2[:NPAR2,:]; X3 = X3[:NPAR3,:]; X4 = X4[:NPAR4,:];\n",
        "      elif(k<= run_split[2]):\n",
        "        NPAR = pop_split[2]\n",
        "        NPAR1=int(fator*NPAR);\n",
        "        NPAR2=int((NPAR-NPAR1)/3);\n",
        "        NPAR3=int((NPAR-NPAR1)/3);\n",
        "        NPAR4=int((NPAR-NPAR1)/3);\n",
        "        NPAR1 = NPAR-3*NPAR2\n",
        "        X1 = X1[:NPAR1,:]; X2 = X2[:NPAR2,:]; X3 = X3[:NPAR3,:]; X4 = X4[:NPAR4,:];\n",
        "\n",
        "\n",
        "\n",
        "    print('k=',iii,'time=',(time.time()-start_time)/60, 'FO=',FOBEST)  \n",
        "    BEST_AGENTS.append(BEST_XY)\n",
        "    MAT_stat.append(MAT)\n",
        "    #print(\"GlobalParam e Solucao:\", BEST,\"Funcao=\",FOBEST)\n",
        "    \n",
        "############################## Cálculo dos Parâmetros de Avaliação   \n",
        "TIME = (time.time() - start_time)/RUNS\n",
        "BEST_AGENTS=np.array(BEST_AGENTS)\n",
        "BEST_AGENTS_ST= BEST_AGENTS[BEST_AGENTS[:,-1].argsort()]\n",
        "BEST=BEST_AGENTS_ST[0]\n",
        "WORSE=BEST_AGENTS_ST[-1]\n",
        "MEAN=np.mean(BEST_AGENTS,axis=0)\n",
        "MAXFO=BEST_AGENTS[:,-1].max()\n",
        "MINFO=BEST_AGENTS[:,-1].min()\n",
        "STD=BEST_AGENTS[:,-1].std()\n",
        "\n",
        "\n",
        "  "
      ],
      "execution_count": 28,
      "outputs": [
        {
          "output_type": "stream",
          "name": "stdout",
          "text": [
            "k= 0 time= 1.5839588363965353 FO= 27855.06678746578\n",
            "k= 1 time= 3.033566955725352 FO= 19852.365609837274\n",
            "k= 2 time= 4.452181208133697 FO= 20153.857157643644\n",
            "k= 3 time= 5.868050054709117 FO= 5602.107621243857\n",
            "k= 4 time= 7.283218272527059 FO= 33826.97279537285\n",
            "k= 5 time= 8.848607631524404 FO= 6833.100763390334\n",
            "k= 6 time= 10.30184607108434 FO= 4014.375018624521\n",
            "k= 7 time= 11.793123559157054 FO= 8920.637651451236\n",
            "k= 8 time= 13.394057269891103 FO= 7216.6702504011\n",
            "k= 9 time= 14.901534942785899 FO= 9631.749080209096\n",
            "k= 10 time= 16.326830339431762 FO= 15688.803469361803\n",
            "k= 11 time= 17.765980438391367 FO= 4390.582058983715\n",
            "k= 12 time= 19.20052525997162 FO= 18279.70819506892\n",
            "k= 13 time= 20.62729094028473 FO= 3146.086478513049\n",
            "k= 14 time= 22.05026296377182 FO= 7023.883768543085\n",
            "k= 15 time= 23.500136439005534 FO= 7576.646984030628\n",
            "k= 16 time= 24.93995999097824 FO= 6615.0045102798995\n",
            "k= 17 time= 26.37270033756892 FO= 8504.266664685472\n",
            "k= 18 time= 27.83665084441503 FO= 7438.876590447395\n",
            "k= 19 time= 29.295911475022635 FO= 12499.849827617574\n",
            "k= 20 time= 30.758466108640036 FO= 17750.65635466493\n",
            "k= 21 time= 32.2307859023412 FO= 18014.61490838522\n",
            "k= 22 time= 33.68735811312993 FO= 7335.350343103606\n",
            "k= 23 time= 35.13820610046387 FO= 8347.60643921538\n",
            "k= 24 time= 36.598908960819244 FO= 2884.0021862645176\n",
            "k= 25 time= 38.02835448980331 FO= 14837.554825437373\n",
            "k= 26 time= 39.504781564076744 FO= 9239.101433395497\n",
            "k= 27 time= 40.961070779959364 FO= 43783.60033523048\n",
            "k= 28 time= 42.39514435927073 FO= 14128.590926995363\n",
            "k= 29 time= 43.84257230758667 FO= 11127.029738246449\n",
            "k= 30 time= 45.317853911717734 FO= 10326.89203916312\n",
            "k= 31 time= 46.77161699136098 FO= 9699.339834259055\n",
            "k= 32 time= 48.21151769558589 FO= 12441.580926610464\n",
            "k= 33 time= 49.648499965667725 FO= 10611.722900519775\n",
            "k= 34 time= 51.132513542970024 FO= 23628.451456632094\n",
            "k= 35 time= 52.56471305688222 FO= 5696.32132125599\n",
            "k= 36 time= 54.023175772031145 FO= 10195.752548233686\n",
            "k= 37 time= 55.48344282309214 FO= 23076.47307626061\n",
            "k= 38 time= 56.92267937262853 FO= 9890.131441130381\n",
            "k= 39 time= 58.409762974580126 FO= 11511.048577904745\n",
            "k= 40 time= 59.84078708489736 FO= 13778.284874621577\n",
            "k= 41 time= 61.322592723369596 FO= 6053.624538646579\n",
            "k= 42 time= 62.75040637254715 FO= 34179.606932845185\n",
            "k= 43 time= 64.18524843851725 FO= 9863.865273275505\n",
            "k= 44 time= 65.64146816333135 FO= 2667.976763761291\n",
            "k= 45 time= 67.12054187059402 FO= 23828.922877833327\n",
            "k= 46 time= 68.55978762308756 FO= 15738.844962482857\n",
            "k= 47 time= 70.01779712835948 FO= 7817.986150913403\n",
            "k= 48 time= 71.47389213244121 FO= 12114.560517061253\n",
            "k= 49 time= 72.90790788332622 FO= 1668.4874870217548\n"
          ]
        }
      ]
    },
    {
      "cell_type": "code",
      "metadata": {
        "id": "k3p9TGsx1OCu"
      },
      "source": [
        "NOMES=['DIVERSIDADE (DI)',  'DI RELATIVO','FRAC Its',\n",
        "           'VELOC FOBJ','VELOC X','NP','Fo','CRo','fmin','fmax',\n",
        "           'AD_fmin','AD_fmax','DELTA FOBJ','DELTA VX','r_fitness',\n",
        "           'F','CR']\n",
        "# BEST_INDEX= BEST_AGENTS[BEST_AGENTS[:,-1].argmin()]  \n",
        "BEST_INDEX = np.argmin(BEST_AGENTS[:,-1])\n",
        "df=pd.DataFrame(MAT_stat[BEST_INDEX], columns=NOMES)\n",
        "\n"
      ],
      "execution_count": 29,
      "outputs": []
    },
    {
      "cell_type": "code",
      "metadata": {
        "id": "jIHiKR_t1xxs"
      },
      "source": [
        "#pd.set_option('display.max_columns', 30)  \n",
        "#print(df)"
      ],
      "execution_count": 30,
      "outputs": []
    },
    {
      "cell_type": "code",
      "metadata": {
        "id": "bx0ywpMtAAjw",
        "outputId": "3af3969a-90a9-4423-a67c-693d2561d988",
        "colab": {
          "base_uri": "https://localhost:8080/",
          "height": 296
        }
      },
      "source": [
        "plt.plot(df['FRAC Its'],df['CR'])\n",
        "plt.xlabel('Iteração/Total')\n",
        "plt.ylabel('CR')"
      ],
      "execution_count": 31,
      "outputs": [
        {
          "output_type": "execute_result",
          "data": {
            "text/plain": [
              "Text(0, 0.5, 'CR')"
            ]
          },
          "metadata": {},
          "execution_count": 31
        },
        {
          "output_type": "display_data",
          "data": {
            "text/plain": [
              "<Figure size 432x288 with 1 Axes>"
            ],
            "image/png": "[encoded data removed]"
          },
          "metadata": {
            "needs_background": "light"
          }
        }
      ]
    },
    {
      "cell_type": "code",
      "metadata": {
        "id": "BvPFvbDvteDC",
        "outputId": "c0e78394-509e-437f-bb55-f2a094f26e38",
        "colab": {
          "base_uri": "https://localhost:8080/",
          "height": 295
        }
      },
      "source": [
        "\n",
        "fig, ax = plt.subplots()\n",
        "ax.plot(df['FRAC Its'],df['F'],label='F')\n",
        "ax.set_xlabel('Iteração/Total')\n",
        "ax.set_ylabel('Parâmetros')\n",
        "ax.plot(df['FRAC Its'],df['CR'],'-r', label='CR')\n",
        "nome=Fun.__name__+'  M=Diversidade'+ '  D='+str(dim)\n",
        "ax.set_title(nome)\n",
        "leg = ax.legend()\n"
      ],
      "execution_count": 32,
      "outputs": [
        {
          "output_type": "display_data",
          "data": {
            "text/plain": [
              "<Figure size 432x288 with 1 Axes>"
            ],
            "image/png": "[encoded data removed]"
          },
          "metadata": {
            "needs_background": "light"
          }
        }
      ]
    },
    {
      "cell_type": "code",
      "metadata": {
        "id": "htooaGpDia_0",
        "outputId": "dd671ce9-4a52-40db-80ce-befc10f479b9",
        "colab": {
          "base_uri": "https://localhost:8080/",
          "height": 312
        }
      },
      "source": [
        "f, axarr = plt.subplots(2, sharex=True)\n",
        "axarr[0].plot(df['FRAC Its'],df['F'])\n",
        "axarr[0].set_ylabel('F')\n",
        "axarr[1].plot(df['FRAC Its'],df['CR'])\n",
        "axarr[1].set_ylabel('CR')\n",
        "axarr[1].set_xlabel('Iteração/Total')\n",
        "nome=Fun.__name__+'_Diversidade_'+ 'D='+str(dim)\n",
        "axarr[0].set_title(nome)\n"
      ],
      "execution_count": 33,
      "outputs": [
        {
          "output_type": "execute_result",
          "data": {
            "text/plain": [
              "Text(0.5, 1.0, 'F20_Diversidade_D=30')"
            ]
          },
          "metadata": {},
          "execution_count": 33
        },
        {
          "output_type": "display_data",
          "data": {
            "text/plain": [
              "<Figure size 432x288 with 2 Axes>"
            ],
            "image/png": "[encoded data removed]"
          },
          "metadata": {
            "needs_background": "light"
          }
        }
      ]
    },
    {
      "cell_type": "code",
      "metadata": {
        "id": "lNSN5X-wskcx",
        "outputId": "392b02c2-08f2-4b98-95fb-c61f4f74e62f",
        "colab": {
          "base_uri": "https://localhost:8080/"
        }
      },
      "source": [
        "nome='SUB'+'_Fo-'+str(Fi)+'_CRo-'+str(CRi)+'_D-'+str(dim)+'_Interv-'+str(ITE)\n",
        "print('MCS-FRANNK','Fator F/DE= %.2f' %(fator),'NPAR=',NPAR,'Iterações=',ITE*its,'Dim=', PAR,\"Min/Max=\",MIN[0],\"/\",MAX[0],'_',Fun.__name__)\n",
        "print(nome, '\\n')\n",
        "#print('BEST: ',BEST)\n",
        "#print('MÉDIA: ',MEAN)\n",
        "print('MÉDIA: ',MEAN[-1],'STD __:',STD)\n",
        "print('MIN __:',MINFO, 'MAX__: ',MAXFO)\n",
        "print(MEAN[-1])\n",
        "print(STD)\n",
        "print(MINFO)\n",
        "print(\"Tempo Médio= %.3f segundos ---\" % (TIME))\n",
        "print(RUNS,'Rodadas') \n",
        "print()\n",
        "print('BEST: ',BEST)\n",
        "# print('melhor=',BEST_AGENTS[BEST_INDEX])"
      ],
      "execution_count": 34,
      "outputs": [
        {
          "output_type": "stream",
          "name": "stdout",
          "text": [
            "MCS-FRANNK Fator F/DE= 0.33 NPAR= 100 Iterações= 1000 Dim= 30 Min/Max= -100 / 100 _ F20\n",
            "SUB_Fo-0.5_CRo-0.5_D-30_Interv-1000 \n",
            "\n",
            "MÉDIA:  12746.171865490855 STD __: 8634.908652569586\n",
            "MIN __: 1668.4874870217548 MAX__:  43783.60033523048\n",
            "12746.171865490855\n",
            "8634.908652569586\n",
            "1668.4874870217548\n",
            "Tempo Médio= 87.490 segundos ---\n",
            "50 Rodadas\n",
            "\n",
            "BEST:  [-4.90657703e+01  1.18996821e+01 -2.06844172e+01 -1.29299935e+01\n",
            " -5.49127821e+01  5.06479345e+01  2.06069487e+01  3.88732851e+01\n",
            "  4.88372487e+01 -6.88932584e+01  7.25013803e+01 -4.64456760e-01\n",
            "  3.74800890e+01  3.85793298e+01  5.26367865e+01 -5.50293403e+01\n",
            " -9.36700874e+00  1.93571508e+01  5.63318022e+01  7.02082286e+01\n",
            "  5.35758779e+01  1.36725779e+01  1.30684772e+01  5.67297901e+01\n",
            " -7.52036276e+01  6.16691160e+01 -1.44770476e+01 -7.73382745e+01\n",
            "  3.93802377e+01 -5.39550529e+01  1.66848749e+03]\n"
          ]
        }
      ]
    }
  ]
}