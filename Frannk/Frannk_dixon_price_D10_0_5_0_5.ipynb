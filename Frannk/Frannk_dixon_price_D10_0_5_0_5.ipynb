{
  "nbformat": 4,
  "nbformat_minor": 0,
  "metadata": {
    "colab": {
      "name": "Frannk_dixon_price_D10_0.5_0.5.ipynb",
      "provenance": [],
      "collapsed_sections": [],
      "include_colab_link": true
    },
    "kernelspec": {
      "name": "python3",
      "display_name": "Python 3"
    }
  },
  "cells": [
    {
      "cell_type": "markdown",
      "metadata": {
        "id": "view-in-github",
        "colab_type": "text"
      },
      "source": [
        "<a href=\"https://colab.research.google.com/github/RaianaSeixas/0_paper_one_revisited/blob/main/Frannk/Frannk_dixon_price_D10_0_5_0_5.ipynb\" target=\"_parent\"><img src=\"https://colab.research.google.com/assets/colab-badge.svg\" alt=\"Open In Colab\"/></a>"
      ]
    },
    {
      "cell_type": "code",
      "metadata": {
        "id": "anFukot-ypn6"
      },
      "source": [
        "import numpy as np\n",
        "import pandas as pd\n",
        "import time"
      ],
      "execution_count": 1,
      "outputs": []
    },
    {
      "cell_type": "code",
      "metadata": {
        "id": "6Oh714_-z1Ia",
        "colab": {
          "base_uri": "https://localhost:8080/"
        },
        "outputId": "59986c2c-5953-43fd-98d3-1ea0525ac421"
      },
      "source": [
        "#!git clone https://github.com/ucfilho/Raianars_July_2020 #clonar do Github\n",
        "#%cd Raianars_July_2020\n",
        "############################### Importar códigos\n",
        "!git clone https://github.com/ucfilho/optim_raianars_Insight\n",
        "%cd optim_raianars_Insight"
      ],
      "execution_count": 2,
      "outputs": [
        {
          "output_type": "stream",
          "text": [
            "Cloning into 'optim_raianars_Insight'...\n",
            "remote: Enumerating objects: 375, done.\u001b[K\n",
            "remote: Counting objects: 100% (61/61), done.\u001b[K\n",
            "remote: Compressing objects: 100% (61/61), done.\u001b[K\n",
            "remote: Total 375 (delta 35), reused 0 (delta 0), pack-reused 314\u001b[K\n",
            "Receiving objects: 100% (375/375), 327.03 KiB | 2.40 MiB/s, done.\n",
            "Resolving deltas: 100% (216/216), done.\n",
            "/content/optim_raianars_Insight\n"
          ],
          "name": "stdout"
        }
      ]
    },
    {
      "cell_type": "code",
      "metadata": {
        "id": "LnzftXkky78A"
      },
      "source": [
        "import Go2Ann\n",
        "import de_soma_Insight\n",
        "import de_bounds_matriz\n",
        "from AvaliaX import AvaliaX\n",
        "from GeraIndices import GeraIndices"
      ],
      "execution_count": 3,
      "outputs": []
    },
    {
      "cell_type": "code",
      "metadata": {
        "id": "HNW92728z7fR"
      },
      "source": [
        "import Function\n",
        "import Go2MinMax"
      ],
      "execution_count": 4,
      "outputs": []
    },
    {
      "cell_type": "code",
      "metadata": {
        "id": "T_C-e7aH0CZH"
      },
      "source": [
        "ITE=2000 #10 # PONTOS quantas vezes vai alteral NPAR \n",
        "NPAR=100 # NUMBER OF PARTICLES\n",
        "dim=10\n",
        "RUNS=50\n",
        "fchoice='dixon_price_function'  #MS\n",
        "Fun=Function.dixon_price_function\n",
        "\n",
        "MIN,MAX=Go2MinMax.Intervalo(dim,fchoice)\n",
        "bounds = [(0,0)]*dim\n",
        "\n",
        "for i in range(dim):\n",
        "  bounds[i] = (MIN[i],MAX[i])"
      ],
      "execution_count": 5,
      "outputs": []
    },
    {
      "cell_type": "code",
      "metadata": {
        "id": "Nqv5qp9yzQEw"
      },
      "source": [
        "############################### INPUT INFORMATION (FRANNK)\n",
        "Fc=0.1 # fator de correcao parametros da ANN\n",
        "its=1 #10 # quantas vezes vai usar o NPAR antes de alterar de novo\n",
        "mut=0.5\n",
        "crossp=0.5\n",
        "Fi=mut;CRi=crossp;# para impressão\n",
        "PAR=len(MAX) #NUM DE PARAMETROS A SER OTIMIZADOS"
      ],
      "execution_count": 6,
      "outputs": []
    },
    {
      "cell_type": "code",
      "metadata": {
        "id": "raWOfeJBztuj",
        "colab": {
          "base_uri": "https://localhost:8080/"
        },
        "outputId": "39d2736a-b7a0-49b8-e6b1-79389b792cb9"
      },
      "source": [
        "!git clone https://github.com/ucfilho/ANN_read_matrix #clonar do Github\n",
        "%cd ANN_read_matrix"
      ],
      "execution_count": 7,
      "outputs": [
        {
          "output_type": "stream",
          "text": [
            "Cloning into 'ANN_read_matrix'...\n",
            "remote: Enumerating objects: 20, done.\u001b[K\n",
            "remote: Counting objects: 100% (20/20), done.\u001b[K\n",
            "remote: Compressing objects: 100% (18/18), done.\u001b[K\n",
            "remote: Total 20 (delta 5), reused 0 (delta 0), pack-reused 0\u001b[K\n",
            "Unpacking objects: 100% (20/20), done.\n",
            "/content/optim_raianars_Insight/ANN_read_matrix\n"
          ],
          "name": "stdout"
        }
      ]
    },
    {
      "cell_type": "code",
      "metadata": {
        "id": "N2lyPfivzwGv",
        "colab": {
          "base_uri": "https://localhost:8080/"
        },
        "outputId": "66641630-0fe5-4806-a4f9-6714f9c865da"
      },
      "source": [
        "ANN_F=pd.read_csv('ANN_INSIGHT_Valor_F.csv')\n",
        "ANN_CR=pd.read_csv('ANN_INSIGHT_CR.csv')\n",
        "syn0_F,syn1_F,X_max_F,X_min_F=Go2Ann.GetMatriz(ANN_F)\n",
        "syn0_CR,syn1_CR,X_max_CR,X_min_CR=Go2Ann.GetMatriz(ANN_CR)\n",
        "fields = ['DI RELATIVO','FRAC Its','Fo','CRo']\n",
        "\n",
        "#TOTAL=7*dim*its*ITE\n",
        "TOTAL=10*dim*its*ITE\n",
        "TOTAL=int(TOTAL/2)   # CONFERIR SE ESTE EH O MELHOR LUGAR\n",
        "\n",
        "dimensions=len(MAX)\n",
        "start_time = time.time() #INICIALIZA CONTAGEM DO TEMPO\n",
        "\n",
        "MAX_P=np.zeros(ITE) # ATENCAO para variar F e Cr MAX_P passa a ser 3 vezes maior\n",
        "MIN_P=np.zeros(ITE) # ATENCAO para variar F e Cr MIN_P passa a ser 3 vezes maior\n",
        "\n",
        "for i in range(dim):\n",
        "  MAX_P[i]=MAX[i] \n",
        "  MIN_P[i]=MIN[i]\n",
        "\n",
        "rodadas=1\n",
        "for i in range(rodadas):\n",
        "  SOMA=0\n",
        "  pop = np.random.rand(NPAR, dimensions)\n",
        "  diff=np.zeros(PAR)\n",
        "  for ii in range(PAR):\n",
        "    diff[ii] = MAX[ii]-MIN[ii]\n",
        "  X = MIN + pop * diff\n",
        "    \n",
        "  PONTOS=ITE # DIVISOES DA POPULACAO\n",
        "start_time = time.time()\n",
        "BEST_AGENTS=[]\n",
        "MAT_stat=[]\n",
        "for i in range(RUNS):\n",
        "    MAT=[] \n",
        "    mut=Fi\n",
        "    crossp=CRi\n",
        "    SOMA=0\n",
        "    SOMAf=0\n",
        "    start_ite = time.time()\n",
        "    delta_time=(start_ite-start_time)/60\n",
        "    #print('ite=',i,'total=50','time=',delta_time)\n",
        "    pop = np.random.rand(NPAR, dim)\n",
        "    diff=np.zeros(PAR)\n",
        "    for ii in range(PAR):\n",
        "      diff[ii] = MAX[ii]-MIN[ii]\n",
        "    X = MIN + pop * diff\n",
        "    Xf = MIN + pop * diff\n",
        "    \n",
        "    DIo=1e99\n",
        "  \n",
        "    CRo=crossp;Fo=mut;\n",
        "    Fitness = np.asarray([Fun(ind) for ind in X])\n",
        "\n",
        "    XY,BEST_XY,BESTo,FOBESTo=AvaliaX(X,Fitness)\n",
        "    nrow,ncol=X.shape\n",
        "\n",
        "    QUANT=17;MAT_INDo=np.zeros((1,QUANT)); # quantos indices esta fazendo\n",
        "    MAT_INDo[0,5]=nrow  # VALOR NP\n",
        "    MAT_INDo[0,6]=Fo    # VALOR Fo   \n",
        "    MAT_INDo[0,7]=CRo   # VALOR CRo\n",
        "  \n",
        "    MAT_INDo=GeraIndices(X,BESTo,FOBESTo,DIo,MAT_INDo,SOMA,TOTAL,syn0_F,\n",
        "                        syn1_F,X_max_F,X_min_F,syn0_CR,syn1_CR,X_max_CR,\n",
        "                        X_min_CR,Fc,fields,Fun)\n",
        "  \n",
        "    DIo=np.copy(MAT_INDo[0,0])\n",
        "    MAT_INDo[0,15]=Fo    # VALOR Fo   \n",
        "    MAT_INDo[0,16]=CRo   # VALOR CRo\n",
        "    #ind_crossp=ITE-1\n",
        "\n",
        "    \n",
        "    for k in range(ITE):\n",
        "      X,BEST,FOBEST,XY,BEST_XY,SOMA= de_soma_Insight.de(MAX,MIN, mut, crossp,NPAR,its,Fun,X,SOMA,TOTAL)\n",
        "      #Xf,BESTf,FOBESTf,XYf,BEST_XYf,SOMAf= de_soma_Insight.de(MAX,MIN, Fi, CRi, NPAR,its,Fun,Xf,SOMAf,TOTAL)\n",
        "\n",
        "      \n",
        "      MAT_IND=GeraIndices(X,BESTo,FOBESTo,DIo,MAT_INDo,SOMA,TOTAL,syn0_F,\n",
        "                          syn1_F,X_max_F,X_min_F,syn0_CR,syn1_CR,X_max_CR,\n",
        "                          X_min_CR,Fc,fields,Fun)\n",
        "    \n",
        "      BESTo=np.copy(BEST);FOBESTo=np.copy(FOBEST);\n",
        "      MAT.append(MAT_IND.ravel())\n",
        "    \n",
        "      MAT_INDo[0,6]=MAT_IND[0,15]   # VALOR Fo   \n",
        "      MAT_INDo[0,7]=MAT_IND[0,16]   # VALOR CRo\n",
        "      mut=MAT_IND[0,15]\n",
        "      crossp=MAT_IND[0,16]\n",
        "\n",
        "      Fitness = np.asarray([Fun(ind) for ind in X])\n",
        "      #Fitnessf = np.asarray([Fun(ind) for ind in Xf])\n",
        "      Maior=np.argmax(Fitness)\n",
        "      #Maiorf=np.argmax(Fitnessf)\n",
        "      Menor=np.argmin(Fitness)\n",
        "      #Menorf=np.argmin(Fitnessf)\n",
        "\n",
        "      #X[Maior,:]=np.copy(Xf[Menorf,:])\n",
        "      #Xf[Maiorf,:]=np.copy(X[Menor,:])\n",
        "    print('i=',i,'time=',(time.time()-start_time)/60, 'FO=',FOBEST)  \n",
        "      \n",
        "    BEST_AGENTS.append(BEST_XY)\n",
        "    MAT_stat.append(MAT)\n",
        "    #print(\"GlobalParam e Solucao:\", BEST,\"Funcao=\",FOBEST)\n",
        "    \n",
        "############################## Cálculo dos Parâmetros de Avaliação   \n",
        "TIME = (time.time() - start_time)/RUNS\n",
        "BEST_AGENTS=np.array(BEST_AGENTS)\n",
        "BEST_AGENTS_ST= BEST_AGENTS[BEST_AGENTS[:,-1].argsort()]\n",
        "BEST=BEST_AGENTS_ST[0]\n",
        "WORSE=BEST_AGENTS_ST[-1]\n",
        "MEAN=np.mean(BEST_AGENTS,axis=0)\n",
        "MAXFO=BEST_AGENTS[:,-1].max()\n",
        "MINFO=BEST_AGENTS[:,-1].min()\n",
        "STD=BEST_AGENTS[:,-1].std()\n",
        "\n",
        "nome='_ANN_Div3x4_Fo-'+str(Fi)+'_CRo-'+str(CRi)+'_D-'+str(dim)+'_Interv-'+str(ITE)\n",
        "print('DE_POP_VAR_F_CR','TOTAL=',TOTAL,'Iterações=',ITE*its,'Dim=', PAR,\"Min/Max=\",MIN[0],\"/\",MAX[0],'_',Fun.__name__)\n",
        "print(nome, '\\n')\n",
        "print('MÉDIA: ',MEAN[-1])\n",
        "print('MIN __:',MINFO)\n",
        "print('MAX__: ',MAXFO)\n",
        "print('STD __:',STD)\n",
        "print(\"Tempo Médio= %.3f segundos ---\" % (TIME))\n",
        "print(RUNS,'Rodadas') \n",
        "print()\n",
        "print('BEST: ',BEST)"
      ],
      "execution_count": 8,
      "outputs": [
        {
          "output_type": "stream",
          "text": [
            "i= 0 time= 1.0179439862569173 FO= 7.020615941158257e-06\n",
            "i= 1 time= 2.0362051566441854 FO= 0.0028351960697746807\n",
            "i= 2 time= 3.0606035510698955 FO= 0.0025375245410296553\n",
            "i= 3 time= 4.088056576251984 FO= 0.002386346382659706\n",
            "i= 4 time= 5.11245793501536 FO= 3.481384821730486e-05\n",
            "i= 5 time= 6.138487545649211 FO= 2.6596945463762406e-05\n",
            "i= 6 time= 7.165694292386373 FO= 0.0033414976385200534\n",
            "i= 7 time= 8.194789560635884 FO= 3.3706042244181003e-07\n",
            "i= 8 time= 9.245423058668772 FO= 0.061137555931647776\n",
            "i= 9 time= 10.270511078834534 FO= 0.00026239535498219686\n",
            "i= 10 time= 11.299045407772065 FO= 0.00023073143939095529\n",
            "i= 11 time= 12.32824748357137 FO= 0.00014993153879857472\n",
            "i= 12 time= 13.346130998929342 FO= 1.4561609954834013e-05\n",
            "i= 13 time= 14.36604973077774 FO= 0.010973291380995615\n",
            "i= 14 time= 15.391658266385397 FO= 0.007898582208382571\n",
            "i= 15 time= 16.417226791381836 FO= 2.0961439441359106e-06\n",
            "i= 16 time= 17.439493413766225 FO= 8.011342840156983e-05\n",
            "i= 17 time= 18.485584036509195 FO= 0.0024776551729083656\n",
            "i= 18 time= 19.513400638103484 FO= 2.2035887283881524e-08\n",
            "i= 19 time= 20.537271670500438 FO= 9.465157185976288e-06\n",
            "i= 20 time= 21.556022266546886 FO= 1.5588614647175206e-07\n",
            "i= 21 time= 22.5831037123998 FO= 3.0422339788647825e-08\n",
            "i= 22 time= 23.602786668141682 FO= 0.009444807554841433\n",
            "i= 23 time= 24.62942796945572 FO= 4.180530241628503e-06\n",
            "i= 24 time= 25.651517836252847 FO= 0.006864613769472199\n",
            "i= 25 time= 26.67521164417267 FO= 0.005363150653189032\n",
            "i= 26 time= 27.70126827955246 FO= 0.001040487604992449\n",
            "i= 27 time= 28.726147905985513 FO= 1.530078804576415e-05\n",
            "i= 28 time= 29.744418688615163 FO= 1.0451920527671224e-07\n",
            "i= 29 time= 30.7640554467837 FO= 0.0010956468813483357\n",
            "i= 30 time= 31.790580809116364 FO= 8.136094822619085e-09\n",
            "i= 31 time= 32.818072056770326 FO= 0.0012682947064474343\n",
            "i= 32 time= 33.83923792441686 FO= 0.009886649429997492\n",
            "i= 33 time= 34.85834653377533 FO= 0.0011168299663579743\n",
            "i= 34 time= 35.88195580641429 FO= 0.0067839117491079355\n",
            "i= 35 time= 36.90719083547592 FO= 2.940022928474399e-07\n",
            "i= 36 time= 37.93449713786443 FO= 1.249265814491744e-05\n",
            "i= 37 time= 38.9534881512324 FO= 0.00505699221465388\n",
            "i= 38 time= 39.97425930897395 FO= 2.186198712740757e-05\n",
            "i= 39 time= 40.995970300833385 FO= 3.22010963738915e-08\n",
            "i= 40 time= 42.017741084098816 FO= 7.612728776119878e-09\n",
            "i= 41 time= 43.037456166744235 FO= 0.000928706493346356\n",
            "i= 42 time= 44.058932423591614 FO= 3.832278576378232e-06\n",
            "i= 43 time= 45.08513391017914 FO= 3.2263115359362985e-05\n",
            "i= 44 time= 46.10817108551661 FO= 0.000593095639111866\n",
            "i= 45 time= 47.13154414097468 FO= 9.643498931958368e-07\n",
            "i= 46 time= 48.15055440664291 FO= 0.004981198739480053\n",
            "i= 47 time= 49.17724119027456 FO= 1.239447353880572e-07\n",
            "i= 48 time= 50.19701296488444 FO= 0.001610434555387985\n",
            "i= 49 time= 51.2253044962883 FO= 6.442082171144042e-08\n",
            "DE_POP_VAR_F_CR TOTAL= 100000 Iterações= 2000 Dim= 10 Min/Max= -10 / 10 _ dixon_price_function\n",
            "_ANN_Div3x4_Fo-0.5_CRo-0.5_D-10_Interv-2000 \n",
            "\n",
            "MÉDIA:  0.0030106454263018638\n",
            "MIN __: 7.612728776119878e-09\n",
            "MAX__:  0.061137555931647776\n",
            "STD __: 0.008801390771331552\n",
            "Tempo Médio= 61.470 segundos ---\n",
            "50 Rodadas\n",
            "\n",
            "BEST:  [ 1.00000272e+00  7.07120037e-01  5.94600444e-01  5.45258812e-01\n",
            "  5.22142965e-01  5.10955715e-01  5.05453270e-01  5.02718680e-01\n",
            "  5.01360306e-01 -5.00685513e-01  7.61272878e-09]\n"
          ],
          "name": "stdout"
        }
      ]
    },
    {
      "cell_type": "code",
      "metadata": {
        "colab": {
          "base_uri": "https://localhost:8080/"
        },
        "id": "Yjiv8TVoZcaJ",
        "outputId": "5200efd3-363a-42e2-f3f0-430ac6231f5f"
      },
      "source": [
        "print(MEAN[-1])\n",
        "print(STD)\n",
        "print(MINFO)"
      ],
      "execution_count": 9,
      "outputs": [
        {
          "output_type": "stream",
          "text": [
            "0.0030106454263018638\n",
            "0.008801390771331552\n",
            "7.612728776119878e-09\n"
          ],
          "name": "stdout"
        }
      ]
    }
  ]
}