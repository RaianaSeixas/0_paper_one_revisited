{
  "nbformat": 4,
  "nbformat_minor": 0,
  "metadata": {
    "colab": {
      "name": "JADE_AND_Pop_H_Frannk__D30_0.5F-DE_Schwefel_223.ipynb",
      "provenance": [],
      "collapsed_sections": [],
      "include_colab_link": true
    },
    "kernelspec": {
      "display_name": "Python 3",
      "name": "python3"
    },
    "language_info": {
      "codemirror_mode": {
        "name": "ipython",
        "version": 3
      },
      "file_extension": ".py",
      "mimetype": "text/x-python",
      "name": "python",
      "nbconvert_exporter": "python",
      "pygments_lexer": "ipython3",
      "version": "3.7.3"
    }
  },
  "cells": [
    {
      "cell_type": "markdown",
      "metadata": {
        "id": "view-in-github",
        "colab_type": "text"
      },
      "source": [
        "<a href=\"https://colab.research.google.com/github/RaianaSeixas/0_paper_one_revisited/blob/main/JADE_AND_Pop_H_Frannk__D30_0_5F_DE_Schwefel_223.ipynb\" target=\"_parent\"><img src=\"https://colab.research.google.com/assets/colab-badge.svg\" alt=\"Open In Colab\"/></a>"
      ]
    },
    {
      "cell_type": "code",
      "metadata": {
        "colab": {
          "base_uri": "https://localhost:8080/"
        },
        "id": "c59cDVKoxDLX",
        "outputId": "5ee4a57a-b137-4c6c-ec6d-84c0d3dc330d"
      },
      "source": [
        "############################### Importar códigos\n",
        "!git clone https://github.com/ucfilho/optim_raianars_Insight\n",
        "%cd optim_raianars_Insight"
      ],
      "execution_count": 1,
      "outputs": [
        {
          "output_type": "stream",
          "text": [
            "Cloning into 'optim_raianars_Insight'...\n",
            "remote: Enumerating objects: 369, done.\u001b[K\n",
            "remote: Counting objects: 100% (55/55), done.\u001b[K\n",
            "remote: Compressing objects: 100% (55/55), done.\u001b[K\n",
            "remote: Total 369 (delta 31), reused 0 (delta 0), pack-reused 314\u001b[K\n",
            "Receiving objects: 100% (369/369), 325.77 KiB | 21.72 MiB/s, done.\n",
            "Resolving deltas: 100% (212/212), done.\n",
            "/content/optim_raianars_Insight\n"
          ],
          "name": "stdout"
        }
      ]
    },
    {
      "cell_type": "code",
      "metadata": {
        "id": "_E15mKFURR6O"
      },
      "source": [
        "import Function\n",
        "import Go2MinMax\n",
        "from GeraIndices import GeraIndices\n",
        "import Go2Ann\n",
        "import de_soma_Insight\n",
        "import de_bounds_matriz\n",
        "from AvaliaX import AvaliaX\n",
        "\n",
        "import numpy as np\n",
        "import time\n",
        "import matplotlib.pyplot as plt\n",
        "from random import randint\n",
        "from scipy import optimize\n",
        "import pandas as pd\n",
        "from sklearn.metrics import confusion_matrix\n",
        "\n",
        "############################### Função\n",
        "dim=30 # \n",
        "fchoice='Schwefel_223'\n",
        "Fun=Function.Schwefel_223\n",
        "MIN,MAX=Go2MinMax.Intervalo(dim,fchoice)\n",
        "#MAX=np.repeat(1.28,dim)\n",
        "#MIN=np.repeat(-1.28,dim)\n",
        "\n",
        "bounds=[]\n",
        "for k in range(len(MAX)):\n",
        "  bounds.append((MIN[k],MAX[k]))\n",
        "\n",
        "\n",
        "############################### DADOS DE ENTRADA \n",
        "RUNS=50 #NÚMERO DE RODADAS\n",
        "Fc=0.1 # fator de correcao parametros da ANN\n",
        "its=1 #10 # quantas vezes vai usar o NPAR antes de alterar de novo\n",
        "ITE=2000 #00 #10 # PONTOS quantas vezes vai alteral NPAR \n",
        "NPAR=100\n",
        "mut=0.5\n",
        "crossp=0.5\n",
        "\n",
        "#fator = 1.0/3.0; \n",
        "Fi=mut;CRi=crossp;# para impressão\n",
        "fator = 1.0/2.0; \n",
        "mut2=0.5;crossp2=0.5;mut3=0.75;crossp3=0.25;mut4=0.25;crossp4=0.25;\n"
      ],
      "execution_count": 2,
      "outputs": []
    },
    {
      "cell_type": "code",
      "metadata": {
        "colab": {
          "base_uri": "https://localhost:8080/"
        },
        "id": "lAVDJIRmNQUC",
        "outputId": "e1e9f3e5-89d2-4e28-84a9-bcc841160afc"
      },
      "source": [
        "!pip install PyFDE"
      ],
      "execution_count": 3,
      "outputs": [
        {
          "output_type": "stream",
          "text": [
            "Collecting PyFDE\n",
            "\u001b[?25l  Downloading https://files.pythonhosted.org/packages/72/f9/87f7279554d2682e3827d39c3d3a565b2fd42f7114a779e34a601c6c5079/PyFDE-1.3.0.tar.gz (397kB)\n",
            "\r\u001b[K     |▉                               | 10kB 13.4MB/s eta 0:00:01\r\u001b[K     |█▋                              | 20kB 18.0MB/s eta 0:00:01\r\u001b[K     |██▌                             | 30kB 21.7MB/s eta 0:00:01\r\u001b[K     |███▎                            | 40kB 24.8MB/s eta 0:00:01\r\u001b[K     |████▏                           | 51kB 27.3MB/s eta 0:00:01\r\u001b[K     |█████                           | 61kB 28.5MB/s eta 0:00:01\r\u001b[K     |█████▊                          | 71kB 29.8MB/s eta 0:00:01\r\u001b[K     |██████▋                         | 81kB 30.0MB/s eta 0:00:01\r\u001b[K     |███████▍                        | 92kB 26.3MB/s eta 0:00:01\r\u001b[K     |████████▎                       | 102kB 27.0MB/s eta 0:00:01\r\u001b[K     |█████████                       | 112kB 27.0MB/s eta 0:00:01\r\u001b[K     |██████████                      | 122kB 27.0MB/s eta 0:00:01\r\u001b[K     |██████████▊                     | 133kB 27.0MB/s eta 0:00:01\r\u001b[K     |███████████▌                    | 143kB 27.0MB/s eta 0:00:01\r\u001b[K     |████████████▍                   | 153kB 27.0MB/s eta 0:00:01\r\u001b[K     |█████████████▏                  | 163kB 27.0MB/s eta 0:00:01\r\u001b[K     |██████████████                  | 174kB 27.0MB/s eta 0:00:01\r\u001b[K     |██████████████▉                 | 184kB 27.0MB/s eta 0:00:01\r\u001b[K     |███████████████▊                | 194kB 27.0MB/s eta 0:00:01\r\u001b[K     |████████████████▌               | 204kB 27.0MB/s eta 0:00:01\r\u001b[K     |█████████████████▎              | 215kB 27.0MB/s eta 0:00:01\r\u001b[K     |██████████████████▏             | 225kB 27.0MB/s eta 0:00:01\r\u001b[K     |███████████████████             | 235kB 27.0MB/s eta 0:00:01\r\u001b[K     |███████████████████▉            | 245kB 27.0MB/s eta 0:00:01\r\u001b[K     |████████████████████▋           | 256kB 27.0MB/s eta 0:00:01\r\u001b[K     |█████████████████████▌          | 266kB 27.0MB/s eta 0:00:01\r\u001b[K     |██████████████████████▎         | 276kB 27.0MB/s eta 0:00:01\r\u001b[K     |███████████████████████         | 286kB 27.0MB/s eta 0:00:01\r\u001b[K     |████████████████████████        | 296kB 27.0MB/s eta 0:00:01\r\u001b[K     |████████████████████████▊       | 307kB 27.0MB/s eta 0:00:01\r\u001b[K     |█████████████████████████▋      | 317kB 27.0MB/s eta 0:00:01\r\u001b[K     |██████████████████████████▍     | 327kB 27.0MB/s eta 0:00:01\r\u001b[K     |███████████████████████████▎    | 337kB 27.0MB/s eta 0:00:01\r\u001b[K     |████████████████████████████    | 348kB 27.0MB/s eta 0:00:01\r\u001b[K     |████████████████████████████▉   | 358kB 27.0MB/s eta 0:00:01\r\u001b[K     |█████████████████████████████▊  | 368kB 27.0MB/s eta 0:00:01\r\u001b[K     |██████████████████████████████▌ | 378kB 27.0MB/s eta 0:00:01\r\u001b[K     |███████████████████████████████▍| 389kB 27.0MB/s eta 0:00:01\r\u001b[K     |████████████████████████████████| 399kB 27.0MB/s \n",
            "\u001b[?25hRequirement already satisfied: numpy in /usr/local/lib/python3.7/dist-packages (from PyFDE) (1.19.5)\n",
            "Building wheels for collected packages: PyFDE\n",
            "  Building wheel for PyFDE (setup.py) ... \u001b[?25l\u001b[?25hdone\n",
            "  Created wheel for PyFDE: filename=PyFDE-1.3.0-cp37-cp37m-linux_x86_64.whl size=974722 sha256=cd68334689024efe5a3a248c3e00988a833290cab84a0b605c37c0dff589ee96\n",
            "  Stored in directory: /root/.cache/pip/wheels/7d/42/ba/abf21db37934e576c74fc2c9504b5cd97eb6a99e3dec1743c0\n",
            "Successfully built PyFDE\n",
            "Installing collected packages: PyFDE\n",
            "Successfully installed PyFDE-1.3.0\n"
          ],
          "name": "stdout"
        }
      ]
    },
    {
      "cell_type": "code",
      "metadata": {
        "id": "E7DrzRqmM2j8"
      },
      "source": [
        "import pyfde\n",
        "solver = pyfde.JADE(Fun, n_dim= dim, n_pop=NPAR, limits=bounds, minimize=True)\n",
        "solver.p = 0.05\n",
        "solver.c = 0.1"
      ],
      "execution_count": 4,
      "outputs": []
    },
    {
      "cell_type": "code",
      "metadata": {
        "id": "NnOvinHvNl_p"
      },
      "source": [
        "start_time = time.time()\n",
        "BEST_AGENTS=[]\n",
        "MAT_stat=[]"
      ],
      "execution_count": 5,
      "outputs": []
    },
    {
      "cell_type": "code",
      "metadata": {
        "colab": {
          "base_uri": "https://localhost:8080/"
        },
        "id": "3-uCNVsZNnqa",
        "outputId": "609301fe-8808-41fa-86f8-9e9581924cd4"
      },
      "source": [
        "start_time = time.time()\n",
        "BEST_AGENTS=[]\n",
        "BEST_FIT =[]\n",
        "rows = RUNS\n",
        "cols = dim + 1\n",
        "BEST_XY = np.zeros((rows,cols))\n",
        "for iii in range(RUNS):\n",
        "  best, fit = solver.run(n_it=ITE)\n",
        "  kkk = -1\n",
        "  for xi in best:\n",
        "    kkk = kkk +1\n",
        "    BEST_XY[iii,kkk] = xi\n",
        "  BEST_XY[iii,dim] = -fit\n",
        "  BEST_AGENTS.append(best)\n",
        "  TIME = (time.time() - start_time) /60\n",
        "  BEST_FIT.append(-fit)\n",
        "  print('ite ', iii,'time ', TIME,'fob =', -fit)\n",
        "    \n",
        "############################## Cálculo dos Parâmetros de Avaliação   \n",
        "JADE_TIME = (time.time() - start_time)/RUNS"
      ],
      "execution_count": 6,
      "outputs": [
        {
          "output_type": "stream",
          "text": [
            "ite  0 time  0.04764192899068197 fob = 2.0086379631967567e-150\n",
            "ite  1 time  0.09475669463475546 fob = 2.2145118234334802e-256\n",
            "ite  2 time  0.1442040165265401 fob = 0.0\n",
            "ite  3 time  0.19478221337000529 fob = 0.0\n",
            "ite  4 time  0.24499234358469646 fob = 0.0\n",
            "ite  5 time  0.29532837867736816 fob = 0.0\n",
            "ite  6 time  0.3455480376879374 fob = 0.0\n",
            "ite  7 time  0.3954432646433512 fob = 0.0\n",
            "ite  8 time  0.44609007438023884 fob = 0.0\n",
            "ite  9 time  0.49659133752187096 fob = 0.0\n",
            "ite  10 time  0.5467666705449422 fob = 0.0\n",
            "ite  11 time  0.5970118045806885 fob = 0.0\n",
            "ite  12 time  0.6471898476282756 fob = 0.0\n",
            "ite  13 time  0.6974997917811075 fob = 0.0\n",
            "ite  14 time  0.7473959525426229 fob = 0.0\n",
            "ite  15 time  0.7972647190093994 fob = 0.0\n",
            "ite  16 time  0.8470869898796082 fob = 0.0\n",
            "ite  17 time  0.8972019831339518 fob = 0.0\n",
            "ite  18 time  0.9472635507583618 fob = 0.0\n",
            "ite  19 time  0.9968064904212952 fob = 0.0\n",
            "ite  20 time  1.0466901858647664 fob = 0.0\n",
            "ite  21 time  1.0969190756479898 fob = 0.0\n",
            "ite  22 time  1.1466721852620443 fob = 0.0\n",
            "ite  23 time  1.1964952111244203 fob = 0.0\n",
            "ite  24 time  1.2466351628303527 fob = 0.0\n",
            "ite  25 time  1.296479042371114 fob = 0.0\n",
            "ite  26 time  1.3465112725893655 fob = 0.0\n",
            "ite  27 time  1.3966495871543885 fob = 0.0\n",
            "ite  28 time  1.4460082530975342 fob = 0.0\n",
            "ite  29 time  1.4960050543149312 fob = 0.0\n",
            "ite  30 time  1.5461940844853719 fob = 0.0\n",
            "ite  31 time  1.5961579481760662 fob = 0.0\n",
            "ite  32 time  1.6469513138135274 fob = 0.0\n",
            "ite  33 time  1.6974520444869996 fob = 0.0\n",
            "ite  34 time  1.7482108354568482 fob = 0.0\n",
            "ite  35 time  1.798318588733673 fob = 0.0\n",
            "ite  36 time  1.8483072439829509 fob = 0.0\n",
            "ite  37 time  1.8986958344777425 fob = 0.0\n",
            "ite  38 time  1.9485092600186666 fob = 0.0\n",
            "ite  39 time  1.9985443552335103 fob = 0.0\n",
            "ite  40 time  2.0486596703529356 fob = 0.0\n",
            "ite  41 time  2.0991357445716856 fob = 0.0\n",
            "ite  42 time  2.1493178844451903 fob = 0.0\n",
            "ite  43 time  2.1990612705548602 fob = 0.0\n",
            "ite  44 time  2.2496604482332865 fob = 0.0\n",
            "ite  45 time  2.2997259219487507 fob = 0.0\n",
            "ite  46 time  2.350028916200002 fob = 0.0\n",
            "ite  47 time  2.4000988562901813 fob = 0.0\n",
            "ite  48 time  2.449940307935079 fob = 0.0\n",
            "ite  49 time  2.4996439099311827 fob = 0.0\n"
          ],
          "name": "stdout"
        }
      ]
    },
    {
      "cell_type": "code",
      "metadata": {
        "id": "vxovHXZqNuYh"
      },
      "source": [
        "IND_XY = np.argsort(np.array(BEST_XY[:,-1]))\n",
        "BEST_XY = BEST_XY[IND_XY,:]"
      ],
      "execution_count": 7,
      "outputs": []
    },
    {
      "cell_type": "code",
      "metadata": {
        "id": "iNdcjVsFN15n"
      },
      "source": [
        "JADE_BEST=BEST_XY[0]\n",
        "JADE_WORSE=BEST_XY[-1]\n",
        "JADE_MEAN=np.mean(BEST_XY,axis=0)\n",
        "JADE_MAXFO=BEST_XY[:,-1].max()\n",
        "JADE_MINFO=BEST_XY[:,-1].min()\n",
        "JADE_STD=BEST_XY[:,-1].std()\n",
        "JADE_BEST=BEST_XY[(rows-1),(cols-1)]"
      ],
      "execution_count": 8,
      "outputs": []
    },
    {
      "cell_type": "code",
      "metadata": {
        "colab": {
          "base_uri": "https://localhost:8080/"
        },
        "id": "qTINtQ1cosZK",
        "outputId": "0625b050-b0f7-4add-9247-777f195d3c2b"
      },
      "source": [
        "!git clone https://github.com/ucfilho/ANN_read_matrix #clonar do Github\n",
        "%cd ANN_read_matrix"
      ],
      "execution_count": 9,
      "outputs": [
        {
          "output_type": "stream",
          "text": [
            "Cloning into 'ANN_read_matrix'...\n",
            "remote: Enumerating objects: 20, done.\u001b[K\n",
            "remote: Counting objects: 100% (20/20), done.\u001b[K\n",
            "remote: Compressing objects: 100% (18/18), done.\u001b[K\n",
            "remote: Total 20 (delta 5), reused 0 (delta 0), pack-reused 0\u001b[K\n",
            "Unpacking objects: 100% (20/20), done.\n",
            "/content/optim_raianars_Insight/ANN_read_matrix\n"
          ],
          "name": "stdout"
        }
      ]
    },
    {
      "cell_type": "code",
      "metadata": {
        "id": "QiQLYOoNoyCw"
      },
      "source": [
        "ANN_F=pd.read_csv('ANN_INSIGHT_Valor_F.csv')"
      ],
      "execution_count": 10,
      "outputs": []
    },
    {
      "cell_type": "code",
      "metadata": {
        "id": "uHtW2amaDzFv"
      },
      "source": [
        "ANN_CR=pd.read_csv('ANN_INSIGHT_CR.csv')"
      ],
      "execution_count": 11,
      "outputs": []
    },
    {
      "cell_type": "code",
      "metadata": {
        "id": "EH6h_vke2yu1"
      },
      "source": [
        "syn0_F,syn1_F,X_max_F,X_min_F=Go2Ann.GetMatriz(ANN_F)"
      ],
      "execution_count": 12,
      "outputs": []
    },
    {
      "cell_type": "code",
      "metadata": {
        "id": "WW_3ZWJXD60i"
      },
      "source": [
        "syn0_CR,syn1_CR,X_max_CR,X_min_CR=Go2Ann.GetMatriz(ANN_CR)"
      ],
      "execution_count": 13,
      "outputs": []
    },
    {
      "cell_type": "code",
      "metadata": {
        "id": "b4gwBvVTyaXh"
      },
      "source": [
        "ANN_CR=pd.read_csv('ANN_INSIGHT_CR.csv')"
      ],
      "execution_count": 14,
      "outputs": []
    },
    {
      "cell_type": "code",
      "metadata": {
        "id": "6jL8MxpHvk-Y"
      },
      "source": [
        "fields = ['DI RELATIVO','FRAC Its','Fo','CRo']"
      ],
      "execution_count": 15,
      "outputs": []
    },
    {
      "cell_type": "code",
      "metadata": {
        "colab": {
          "base_uri": "https://localhost:8080/"
        },
        "id": "Mb3LmbSmj9v7",
        "outputId": "76c36dd3-c419-46a4-e54a-4b09361ca2d4"
      },
      "source": [
        "##################################### \n",
        "\n",
        "TOTAL=10*dim*its*ITE\n",
        "TOTAL=int(TOTAL/2)   # CONFERIR SE ESTE EH O MELHOR LUGAR\n",
        "\n",
        "dimensions=len(MAX)\n",
        "start_time = time.time() #INICIALIZA CONTAGEM DO TEMPO\n",
        "\n",
        "\n",
        "PAR=dim\n",
        "fobj=Fun\n",
        "\n",
        "MAX_P=np.zeros(ITE) # ATENCAO para variar F e Cr MAX_P passa a ser 3 vezes maior\n",
        "MIN_P=np.zeros(ITE) # ATENCAO para variar F e Cr MIN_P passa a ser 3 vezes maior\n",
        "\n",
        "for i in range(dim):\n",
        "  MAX_P[i]=MAX[i] \n",
        "  MIN_P[i]=MIN[i]\n",
        "\n",
        "rodadas=1\n",
        "NPAR1=int(fator*NPAR);\n",
        "NPAR2=int((NPAR-NPAR1)/3);\n",
        "NPAR3=int((NPAR-NPAR1)/3);\n",
        "NPAR4=int((NPAR-NPAR1)/3);\n",
        "NPAR1 = NPAR-3*NPAR2\n",
        "print('frac=',fator);\n",
        "print('Npar1=',NPAR1);\n",
        "print('Npar2=',NPAR2);\n",
        "print('Npar3=',NPAR3);\n",
        "print('Npar4=',NPAR4);\n",
        "print('Npar=',NPAR)\n",
        "\n",
        "cols=dim\n",
        "\n",
        "X1=np.zeros((NPAR1,cols)) # X1 is Frannk population\n",
        "for i in range(NPAR1):\n",
        "  for j in range(cols):\n",
        "    r=np.random.random()\n",
        "    X1[i,j]=r*(MAX[j]-MIN[j])+MIN[j]\n",
        "    \n",
        "X2=np.zeros((NPAR2,cols)) # X2 is population DE (default DE)\n",
        "for i in range(NPAR2):\n",
        "  for j in range(cols):\n",
        "    r=np.random.random()\n",
        "    X2[i,j]=r*(MAX[j]-MIN[j])+MIN[j]\n",
        "\n",
        "X3=np.zeros((NPAR3,cols)) # X1 is Frannk population\n",
        "for i in range(NPAR3):\n",
        "  for j in range(cols):\n",
        "    r=np.random.random()\n",
        "    X3[i,j]=r*(MAX[j]-MIN[j])+MIN[j]\n",
        "    \n",
        "X4=np.zeros((NPAR4,cols)) # X2 is population DE (default DE)\n",
        "for i in range(NPAR4):\n",
        "  for j in range(cols):\n",
        "    r=np.random.random()\n",
        "    X4[i,j]=r*(MAX[j]-MIN[j])+MIN[j]\n",
        "    \n",
        " ############################################################\n",
        "  #bounds=[(5*dim, 15*dim)] * PONTOS # ITE\n",
        "  #bounds=[(3*dim, 12*dim)] * PONTOS # ITE\n",
        "  #bounds=[(4*dim, 16*dim)] * PONTOS\n",
        "  \n",
        "  # nao pode ser assim pq o bounds vale p o DE nao dos parametros\n",
        "  #p=int(TOTAL/its/ITE) \n",
        "  #bounds=[(p, p)] * PONTOS\n"
      ],
      "execution_count": 16,
      "outputs": [
        {
          "output_type": "stream",
          "text": [
            "frac= 0.5\n",
            "Npar1= 52\n",
            "Npar2= 16\n",
            "Npar3= 16\n",
            "Npar4= 16\n",
            "Npar= 100\n"
          ],
          "name": "stdout"
        }
      ]
    },
    {
      "cell_type": "code",
      "metadata": {
        "colab": {
          "base_uri": "https://localhost:8080/"
        },
        "id": "rnX8ttNopd1G",
        "outputId": "7c660fef-6add-4534-d625-46ce8d5a2a34"
      },
      "source": [
        "\n",
        "start_time = time.time()\n",
        "BEST_AGENTS=[]\n",
        "MAT_stat=[]\n",
        "for iii in range(RUNS):\n",
        "    MAT=[] \n",
        "    mut=Fi\n",
        "    crossp=CRi\n",
        "    SOMA=0\n",
        "    pop = np.random.rand(NPAR, dim)\n",
        "    diff=np.zeros(PAR)\n",
        "\n",
        "\n",
        "    X1=np.zeros((NPAR1,cols)) # X1 is Frannk population\n",
        "    for i in range(NPAR1):\n",
        "      for j in range(cols):\n",
        "        r=np.random.random()\n",
        "        X1[i,j]=r*(MAX[j]-MIN[j])+MIN[j]\n",
        "        \n",
        "    X2=np.zeros((NPAR2,cols)) # X2 is population DE (default DE)\n",
        "    for i in range(NPAR2):\n",
        "      for j in range(cols):\n",
        "        r=np.random.random()\n",
        "        X2[i,j]=r*(MAX[j]-MIN[j])+MIN[j]\n",
        "\n",
        "    X3=np.zeros((NPAR3,cols)) # X2 is population DE (default DE)\n",
        "    for i in range(NPAR3):\n",
        "      for j in range(cols):\n",
        "        r=np.random.random()\n",
        "        X3[i,j]=r*(MAX[j]-MIN[j])+MIN[j]\n",
        "\n",
        "    X4=np.zeros((NPAR4,cols)) # X2 is population DE (default DE)\n",
        "    for i in range(NPAR4):\n",
        "      for j in range(cols):\n",
        "        r=np.random.random()\n",
        "        X4[i,j]=r*(MAX[j]-MIN[j])+MIN[j]\n",
        "    \n",
        "    DIo=1e99\n",
        "  \n",
        "    CRo=crossp;Fo=mut;\n",
        "    Fitness = np.asarray([Fun(ind) for ind in X1])\n",
        "    XY,BEST_XY,BESTo,FOBESTo=AvaliaX(X1,Fitness)\n",
        "    nrow,ncol=X1.shape\n",
        "\n",
        "    QUANT=17;MAT_INDo=np.zeros((1,QUANT)); # quantos indices esta fazendo\n",
        "    MAT_INDo[0,5]=nrow  # VALOR NP\n",
        "    MAT_INDo[0,6]=Fo    # VALOR Fo   \n",
        "    MAT_INDo[0,7]=CRo   # VALOR CRo\n",
        "  \n",
        "    MAT_INDo=GeraIndices(X1,BESTo,FOBESTo,DIo,MAT_INDo,SOMA,TOTAL,syn0_F,\n",
        "                        syn1_F,X_max_F,X_min_F,syn0_CR,syn1_CR,X_max_CR,\n",
        "                        X_min_CR,Fc,fields,Fun)\n",
        "  \n",
        "    DIo=np.copy(MAT_INDo[0,0])\n",
        "    MAT_INDo[0,15]=Fo    # VALOR Fo   \n",
        "    MAT_INDo[0,16]=CRo   # VALOR CRo\n",
        "    #ind_crossp=ITE-1\n",
        "    \n",
        "\n",
        "    \n",
        "    for k in range(ITE):\n",
        "\n",
        "\n",
        "\n",
        "      X2,BEST2,FOBEST,XY,BEST_XY=de_bounds_matriz.de(bounds, mut2, crossp2,NPAR2, its,fobj,X2)\n",
        "      X3,BEST3,FOBEST,XY,BEST_XY=de_bounds_matriz.de(bounds, mut3, crossp3,NPAR3, its,fobj,X3)\n",
        "      X4,BEST4,FOBEST,XY,BEST_XY=de_bounds_matriz.de(bounds, mut4, crossp4,NPAR4, its,fobj,X4)\n",
        "      \n",
        "      X1,BEST1,FOBEST,XY,BEST_XY,SOMA= de_soma_Insight.de(MAX,MIN, mut, crossp,NPAR1,its,Fun,X1,SOMA,TOTAL)\n",
        "\n",
        "      MAT_IND=GeraIndices(X1,BESTo,FOBESTo,DIo,MAT_INDo,SOMA,TOTAL,syn0_F,\n",
        "                          syn1_F,X_max_F,X_min_F,syn0_CR,syn1_CR,X_max_CR,\n",
        "                          X_min_CR,Fc,fields,Fun)\n",
        "    \n",
        "      BESTo=np.copy(BEST1);FOBESTo=np.copy(FOBEST);\n",
        "      MAT.append(MAT_IND.ravel())\n",
        "    \n",
        "      MAT_INDo[0,6]=MAT_IND[0,15]   # VALOR Fo   \n",
        "      MAT_INDo[0,7]=MAT_IND[0,16]   # VALOR CRo\n",
        "      mut=MAT_IND[0,15]\n",
        "      crossp=MAT_IND[0,16]\n",
        "      X1[0,:] = BEST2;X1[1,:] = BEST3; X1[2,:] = BEST4;X1[NPAR1-1,:] = BEST1;\n",
        "      X2[0,:] = BEST1;X2[1,:] = BEST3;X2[2,:] = BEST4;X2[NPAR2-1,:] = BEST2;\n",
        "      X3[0,:] = BEST1;X3[1,:] = BEST2;X3[2,:] = BEST4;X3[NPAR3-1,:] = BEST3;\n",
        "      X4[0,:] = BEST1;X4[1,:] = BEST2;X4[2,:] = BEST3;X4[NPAR4-1,:] = BEST4;\n",
        "    print('k=',iii,'time=',(time.time()-start_time)/60, 'FO=',FOBEST)  \n",
        "    BEST_AGENTS.append(BEST_XY)\n",
        "    MAT_stat.append(MAT)\n",
        "    #print(\"GlobalParam e Solucao:\", BEST,\"Funcao=\",FOBEST)\n",
        "    \n",
        "############################## Cálculo dos Parâmetros de Avaliação   \n",
        "TIME = (time.time() - start_time)/RUNS\n",
        "BEST_AGENTS=np.array(BEST_AGENTS)\n",
        "BEST_AGENTS_ST= BEST_AGENTS[BEST_AGENTS[:,-1].argsort()]\n",
        "BEST=BEST_AGENTS_ST[0]\n",
        "WORSE=BEST_AGENTS_ST[-1]\n",
        "MEAN=np.mean(BEST_AGENTS,axis=0)\n",
        "MAXFO=BEST_AGENTS[:,-1].max()\n",
        "MINFO=BEST_AGENTS[:,-1].min()\n",
        "STD=BEST_AGENTS[:,-1].std()"
      ],
      "execution_count": 17,
      "outputs": [
        {
          "output_type": "stream",
          "text": [
            "k= 0 time= 1.4718929251035056 FO= 4.692438776100615e-165\n",
            "k= 1 time= 2.9372182846069337 FO= 1.5799494609648652e-167\n",
            "k= 2 time= 4.394846852620443 FO= 1.0148226456732006e-168\n",
            "k= 3 time= 5.842813789844513 FO= 7.312383551436316e-162\n",
            "k= 4 time= 7.3109485069910685 FO= 3.8237552754465544e-163\n",
            "k= 5 time= 8.775433945655823 FO= 2.8367064168937055e-166\n",
            "k= 6 time= 10.239898804823557 FO= 9.257400112829077e-166\n",
            "k= 7 time= 11.68364984591802 FO= 5.81229894203219e-164\n",
            "k= 8 time= 13.147939602533976 FO= 2.7368726519838507e-165\n",
            "k= 9 time= 14.615863466262818 FO= 7.934505178567161e-162\n",
            "k= 10 time= 16.080629007021585 FO= 1.1554706149385758e-165\n",
            "k= 11 time= 17.539594701925914 FO= 1.5601362567150214e-165\n",
            "k= 12 time= 19.010023554166157 FO= 1.0292697568538965e-163\n",
            "k= 13 time= 20.474281358718873 FO= 2.1017916450869456e-165\n",
            "k= 14 time= 21.92422596216202 FO= 1.1592185916227026e-167\n",
            "k= 15 time= 23.39197891553243 FO= 2.4561614517768447e-163\n",
            "k= 16 time= 24.850030942757925 FO= 6.881718014135675e-164\n",
            "k= 17 time= 26.30884112914403 FO= 3.029679515014185e-165\n",
            "k= 18 time= 27.7710431377093 FO= 1.8340983705503742e-164\n",
            "k= 19 time= 29.231577452023824 FO= 3.5011298420614744e-165\n",
            "k= 20 time= 30.683056151866914 FO= 1.3803651665932837e-169\n",
            "k= 21 time= 32.14549901485443 FO= 4.263701379023514e-165\n",
            "k= 22 time= 33.5974782427152 FO= 5.1516239241130227e-166\n",
            "k= 23 time= 35.05578834613164 FO= 3.8152526032536573e-168\n",
            "k= 24 time= 36.520745952924095 FO= 1.1106973326867992e-165\n",
            "k= 25 time= 37.97531160910924 FO= 9.30477775516552e-168\n",
            "k= 26 time= 39.439500053723656 FO= 4.8204962982247576e-164\n",
            "k= 27 time= 40.90088467597961 FO= 3.603211743409869e-165\n",
            "k= 28 time= 42.36197275320689 FO= 7.870284896386956e-163\n",
            "k= 29 time= 43.82493714888891 FO= 9.558100844870842e-164\n",
            "k= 30 time= 45.2809906800588 FO= 7.719602464476895e-166\n",
            "k= 31 time= 46.73942991495132 FO= 2.042161716743973e-165\n",
            "k= 32 time= 48.18901251554489 FO= 3.515859723658397e-167\n",
            "k= 33 time= 49.65253215630849 FO= 2.006528467358853e-166\n",
            "k= 34 time= 51.11339447498322 FO= 3.341415602002119e-164\n",
            "k= 35 time= 52.56223704020182 FO= 1.1564242145986144e-165\n",
            "k= 36 time= 54.02256714105606 FO= 8.3502480713995e-167\n",
            "k= 37 time= 55.48391097386678 FO= 2.4085660446053847e-165\n",
            "k= 38 time= 56.93947033484777 FO= 2.3043506666764893e-160\n",
            "k= 39 time= 58.38526824315389 FO= 7.08343662116316e-168\n",
            "k= 40 time= 59.84532064994176 FO= 6.925559987614119e-166\n",
            "k= 41 time= 61.30389608939489 FO= 1.7784068354408783e-162\n",
            "k= 42 time= 62.754822715123495 FO= 3.958200630643184e-166\n",
            "k= 43 time= 64.19815356334051 FO= 6.298221771169851e-164\n",
            "k= 44 time= 65.66081216335297 FO= 4.344747817039251e-162\n",
            "k= 45 time= 67.1248651266098 FO= 3.769796154660212e-162\n",
            "k= 46 time= 68.5937728881836 FO= 2.393187507211223e-166\n",
            "k= 47 time= 70.05979209343592 FO= 2.060774329483668e-166\n",
            "k= 48 time= 71.51260075171788 FO= 1.0405386967714641e-163\n",
            "k= 49 time= 72.97484098275503 FO= 2.0851385123746706e-163\n"
          ],
          "name": "stdout"
        }
      ]
    },
    {
      "cell_type": "code",
      "metadata": {
        "colab": {
          "base_uri": "https://localhost:8080/"
        },
        "id": "TLEE0UrZSvJF",
        "outputId": "93f4c567-5c6a-40f0-a4a4-9ed78a8bb812"
      },
      "source": [
        "#len(X2[1,:])\n",
        "print(cols)"
      ],
      "execution_count": 18,
      "outputs": [
        {
          "output_type": "stream",
          "text": [
            "30\n"
          ],
          "name": "stdout"
        }
      ]
    },
    {
      "cell_type": "code",
      "metadata": {
        "id": "k3p9TGsx1OCu"
      },
      "source": [
        "NOMES=['DIVERSIDADE (DI)',  'DI RELATIVO','FRAC Its',\n",
        "           'VELOC FOBJ','VELOC X','NP','Fo','CRo','fmin','fmax',\n",
        "           'AD_fmin','AD_fmax','DELTA FOBJ','DELTA VX','r_fitness',\n",
        "           'F','CR']\n",
        "# BEST_INDEX= BEST_AGENTS[BEST_AGENTS[:,-1].argmin()]  \n",
        "BEST_INDEX = np.argmin(BEST_AGENTS[:,-1])\n",
        "df=pd.DataFrame(MAT_stat[BEST_INDEX], columns=NOMES)\n",
        "\n"
      ],
      "execution_count": 19,
      "outputs": []
    },
    {
      "cell_type": "code",
      "metadata": {
        "id": "jIHiKR_t1xxs"
      },
      "source": [
        "pd.set_option('display.max_columns', 30)  \n",
        "#print(df)"
      ],
      "execution_count": 20,
      "outputs": []
    },
    {
      "cell_type": "code",
      "metadata": {
        "colab": {
          "base_uri": "https://localhost:8080/",
          "height": 300
        },
        "id": "bx0ywpMtAAjw",
        "outputId": "f9d50641-1bed-4880-db3a-eaf9852a5f76"
      },
      "source": [
        "plt.plot(df['FRAC Its'],df['CR'])\n",
        "plt.xlabel('Iteração/Total')\n",
        "plt.ylabel('CR')"
      ],
      "execution_count": 21,
      "outputs": [
        {
          "output_type": "execute_result",
          "data": {
            "text/plain": [
              "Text(0, 0.5, 'CR')"
            ]
          },
          "metadata": {
            "tags": []
          },
          "execution_count": 21
        },
        {
          "output_type": "display_data",
          "data": {
            "image/png": "[encoded data removed]",
            "text/plain": [
              "<Figure size 432x288 with 1 Axes>"
            ]
          },
          "metadata": {
            "tags": [],
            "needs_background": "light"
          }
        }
      ]
    },
    {
      "cell_type": "code",
      "metadata": {
        "colab": {
          "base_uri": "https://localhost:8080/",
          "height": 295
        },
        "id": "BvPFvbDvteDC",
        "outputId": "c1ae76d1-381e-427f-c59b-94d6ca404933"
      },
      "source": [
        "\n",
        "fig, ax = plt.subplots()\n",
        "ax.plot(df['FRAC Its'],df['F'],label='F')\n",
        "ax.set_xlabel('Iteração/Total')\n",
        "ax.set_ylabel('Parâmetros')\n",
        "ax.plot(df['FRAC Its'],df['CR'],'-r', label='CR')\n",
        "nome=Fun.__name__+'  M=Diversidade'+ '  D='+str(dim)\n",
        "ax.set_title(nome)\n",
        "leg = ax.legend()\n"
      ],
      "execution_count": 22,
      "outputs": [
        {
          "output_type": "display_data",
          "data": {
            "image/png": "[encoded data removed]",
            "text/plain": [
              "<Figure size 432x288 with 1 Axes>"
            ]
          },
          "metadata": {
            "tags": [],
            "needs_background": "light"
          }
        }
      ]
    },
    {
      "cell_type": "code",
      "metadata": {
        "colab": {
          "base_uri": "https://localhost:8080/",
          "height": 312
        },
        "id": "htooaGpDia_0",
        "outputId": "d597e009-9c26-4787-dc23-55756abbc1ff"
      },
      "source": [
        "f, axarr = plt.subplots(2, sharex=True)\n",
        "axarr[0].plot(df['FRAC Its'],df['F'])\n",
        "axarr[0].set_ylabel('F')\n",
        "axarr[1].plot(df['FRAC Its'],df['CR'])\n",
        "axarr[1].set_ylabel('CR')\n",
        "axarr[1].set_xlabel('Iteração/Total')\n",
        "nome=Fun.__name__+'_Diversidade_'+ 'D='+str(dim)\n",
        "axarr[0].set_title(nome)\n"
      ],
      "execution_count": 23,
      "outputs": [
        {
          "output_type": "execute_result",
          "data": {
            "text/plain": [
              "Text(0.5, 1.0, 'Schwefel_223_Diversidade_D=30')"
            ]
          },
          "metadata": {
            "tags": []
          },
          "execution_count": 23
        },
        {
          "output_type": "display_data",
          "data": {
            "image/png": "[encoded data removed]",
            "text/plain": [
              "<Figure size 432x288 with 2 Axes>"
            ]
          },
          "metadata": {
            "tags": [],
            "needs_background": "light"
          }
        }
      ]
    },
    {
      "cell_type": "code",
      "metadata": {
        "colab": {
          "base_uri": "https://localhost:8080/"
        },
        "id": "lNSN5X-wskcx",
        "outputId": "1b829c0d-e586-4340-9d02-e109d28454af"
      },
      "source": [
        "nome='SUB'+'_Fo-'+str(Fi)+'_CRo-'+str(CRi)+'_D-'+str(dim)+'_Interv-'+str(ITE)\n",
        "print('MCS-FRANNK','Fator F/DE= %.2f' %(fator),'NPAR=',NPAR,'Iterações=',ITE*its,'Dim=', PAR,\"Min/Max=\",MIN[0],\"/\",MAX[0],'_',Fun.__name__)\n",
        "print(nome, '\\n')\n",
        "#print('BEST: ',BEST)\n",
        "#print('MÉDIA: ',MEAN)\n",
        "print('MÉDIA: ',MEAN[-1],'STD __:',STD)\n",
        "print('MIN __:',MINFO, 'MAX__: ',MAXFO)\n",
        "print(MEAN[-1])\n",
        "print(STD)\n",
        "print(MINFO)\n",
        "print(\"Tempo Médio= %.3f segundos ---\" % (TIME))\n",
        "print(RUNS,'Rodadas') \n",
        "print()\n",
        "print('BEST: ',BEST)\n",
        "# print('melhor=',BEST_AGENTS[BEST_INDEX])\n",
        "\n",
        "print('======== JADE ==============')\n",
        "print('MÉDIA: ',JADE_MEAN[-1])\n",
        "print('MIN __:',JADE_MINFO)\n",
        "print('MAX__: ',JADE_MAXFO)\n",
        "print('STD __:',JADE_STD)\n",
        "print(\"Tempo Médio= %.3f segundos ---\" % (JADE_TIME))\n",
        "print(RUNS,'Rodadas') \n",
        "print()\n",
        "print('BEST: ',JADE_BEST)\n",
        "\n",
        "print(JADE_MEAN[-1])\n",
        "print(JADE_STD)\n",
        "print(JADE_MINFO)\n",
        "\n",
        "print('================================')"
      ],
      "execution_count": 24,
      "outputs": [
        {
          "output_type": "stream",
          "text": [
            "MCS-FRANNK Fator F/DE= 0.50 NPAR= 100 Iterações= 2000 Dim= 30 Min/Max= -10 / 10 _ Schwefel_223\n",
            "SUB_Fo-0.5_CRo-0.5_D-30_Interv-2000 \n",
            "\n",
            "MÉDIA:  5.156572904227707e-162 STD __: 3.2210834454677166e-161\n",
            "MIN __: 1.3803651665932837e-169 MAX__:  2.3043506666764893e-160\n",
            "5.156572904227707e-162\n",
            "3.2210834454677166e-161\n",
            "1.3803651665932837e-169\n",
            "Tempo Médio= 87.570 segundos ---\n",
            "50 Rodadas\n",
            "\n",
            "BEST:  [ 2.30569812e-018 -2.64823437e-018  2.78810163e-018 -4.39158627e-018\n",
            "  9.26963591e-018 -1.78698419e-018 -1.21299960e-017  3.79184233e-018\n",
            " -4.17433554e-018  9.96553516e-018 -1.62478658e-019 -7.08696986e-018\n",
            " -3.69479040e-018 -2.34381195e-018  7.43305252e-018  7.03425343e-018\n",
            "  5.82473333e-018 -1.15905657e-017 -1.21624176e-018 -6.86981637e-018\n",
            " -3.99001377e-018  7.35736383e-018 -6.23878990e-018  7.57526148e-018\n",
            "  5.72804535e-018 -4.89602667e-018 -5.64019045e-018  1.80369006e-018\n",
            " -9.80811866e-018 -6.02751346e-018  1.38036517e-169]\n",
            "======== JADE ==============\n",
            "MÉDIA:  4.017275926393513e-152\n",
            "MIN __: 0.0\n",
            "MAX__:  2.0086379631967567e-150\n",
            "STD __: 2.8120931484754595e-151\n",
            "Tempo Médio= 3.000 segundos ---\n",
            "50 Rodadas\n",
            "\n",
            "BEST:  2.0086379631967567e-150\n",
            "4.017275926393513e-152\n",
            "2.8120931484754595e-151\n",
            "0.0\n",
            "================================\n"
          ],
          "name": "stdout"
        }
      ]
    },
    {
      "cell_type": "code",
      "metadata": {
        "colab": {
          "base_uri": "https://localhost:8080/"
        },
        "id": "soc6munUN56c",
        "outputId": "002d1934-dc42-4cdf-d7e9-b7644340b024"
      },
      "source": [
        "print('FRANNK POP H                 JADE')\n",
        "print(MEAN[-1],'       ',JADE_MEAN[-1])\n",
        "print(STD,'      ',JADE_STD)\n",
        "print(MINFO,'       ',JADE_MINFO)\n"
      ],
      "execution_count": 25,
      "outputs": [
        {
          "output_type": "stream",
          "text": [
            "FRANNK POP H                 JADE\n",
            "5.156572904227707e-162         4.017275926393513e-152\n",
            "3.2210834454677166e-161        2.8120931484754595e-151\n",
            "1.3803651665932837e-169         0.0\n"
          ],
          "name": "stdout"
        }
      ]
    }
  ]
}