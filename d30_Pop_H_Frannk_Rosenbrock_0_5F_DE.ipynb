{
  "nbformat": 4,
  "nbformat_minor": 0,
  "metadata": {
    "colab": {
      "name": "d30_Pop_H_Frannk_Rosenbrock_0.5F-DE.ipynb",
      "provenance": [],
      "collapsed_sections": [],
      "include_colab_link": true
    },
    "kernelspec": {
      "name": "python3",
      "display_name": "Python 3"
    },
    "language_info": {
      "codemirror_mode": {
        "name": "ipython",
        "version": 3
      },
      "file_extension": ".py",
      "mimetype": "text/x-python",
      "name": "python",
      "nbconvert_exporter": "python",
      "pygments_lexer": "ipython3",
      "version": "3.7.3"
    }
  },
  "cells": [
    {
      "cell_type": "markdown",
      "metadata": {
        "id": "view-in-github",
        "colab_type": "text"
      },
      "source": [
        "<a href=\"https://colab.research.google.com/github/RaianaSeixas/0_paper_one_revisited/blob/main/d30_Pop_H_Frannk_Rosenbrock_0_5F_DE.ipynb\" target=\"_parent\"><img src=\"https://colab.research.google.com/assets/colab-badge.svg\" alt=\"Open In Colab\"/></a>"
      ]
    },
    {
      "cell_type": "code",
      "metadata": {
        "colab": {
          "base_uri": "https://localhost:8080/"
        },
        "id": "c59cDVKoxDLX",
        "outputId": "8e414dec-d656-4af5-d813-2b3e200e13c7"
      },
      "source": [
        "############################### Importar códigos\n",
        "!git clone https://github.com/ucfilho/optim_raianars_Insight/ #clonar do Github\n",
        "%cd optim_raianars_Insight\n",
        "import de_soma_Insight\n",
        "import de_bounds_matriz\n",
        "import Go2Ann"
      ],
      "execution_count": 1,
      "outputs": [
        {
          "output_type": "stream",
          "text": [
            "Cloning into 'optim_raianars_Insight'...\n",
            "remote: Enumerating objects: 323, done.\u001b[K\n",
            "remote: Counting objects: 100% (9/9), done.\u001b[K\n",
            "remote: Compressing objects: 100% (9/9), done.\u001b[K\n",
            "remote: Total 323 (delta 3), reused 0 (delta 0), pack-reused 314\u001b[K\n",
            "Receiving objects: 100% (323/323), 312.84 KiB | 6.38 MiB/s, done.\n",
            "Resolving deltas: 100% (184/184), done.\n",
            "/content/optim_raianars_Insight\n"
          ],
          "name": "stdout"
        }
      ]
    },
    {
      "cell_type": "code",
      "metadata": {
        "id": "Va-6Xios8RjU",
        "colab": {
          "base_uri": "https://localhost:8080/"
        },
        "outputId": "fa1b26a7-ba2e-4078-d20e-266b63e7db6b"
      },
      "source": [
        "!git clone https://github.com/ucfilho/Raianars_paper_One #clonar do Github\n",
        "%cd Raianars_paper_One"
      ],
      "execution_count": 2,
      "outputs": [
        {
          "output_type": "stream",
          "text": [
            "Cloning into 'Raianars_paper_One'...\n",
            "remote: Enumerating objects: 248, done.\u001b[K\n",
            "remote: Counting objects: 100% (119/119), done.\u001b[K\n",
            "remote: Compressing objects: 100% (119/119), done.\u001b[K\n",
            "remote: Total 248 (delta 64), reused 0 (delta 0), pack-reused 129\u001b[K\n",
            "Receiving objects: 100% (248/248), 654.97 KiB | 5.04 MiB/s, done.\n",
            "Resolving deltas: 100% (136/136), done.\n",
            "/content/optim_raianars_Insight/Raianars_paper_One\n"
          ],
          "name": "stdout"
        }
      ]
    },
    {
      "cell_type": "code",
      "metadata": {
        "id": "_E15mKFURR6O"
      },
      "source": [
        "#import Go2Ann\n",
        "#import de_soma_Insight\n",
        "#import de_bounds_matriz\n",
        "#import Function\n",
        "import Go2MinMax\n",
        "from AvaliaX import AvaliaX\n",
        "#from Function import FUN\n",
        "#from Function import Function.FUN\n",
        "#from Function import Function.Fun\n",
        "#from Function import Function\n",
        "from GeraIndices import GeraIndices\n",
        "import numpy as np\n",
        "import time\n",
        "import matplotlib.pyplot as plt\n",
        "from random import randint\n",
        "from scipy import optimize\n",
        "import pandas as pd\n",
        "from sklearn.metrics import confusion_matrix\n",
        "\n",
        "############################### DADOS DE ENTRADA \n",
        "RUNS=50 #NÚMERO DE RODADAS\n",
        "Fc=0.1 # fator de correcao parametros da ANN\n",
        "its=1 #10 # quantas vezes vai usar o NPAR antes de alterar de novo\n",
        "ITE=2000 #10 # PONTOS quantas vezes vai alteral NPAR \n",
        "NPAR=100\n",
        "mut=0.5\n",
        "crossp=0.5\n",
        "\n",
        "#fator = 1.0/3.0; \n",
        "Fi=mut;CRi=crossp;# para impressão\n",
        "fator = 1.0/2.0; \n",
        "mut2=0.5;crossp2=0.5;mut3=0.75;crossp3=0.25;mut4=0.25;crossp4=0.25;\n"
      ],
      "execution_count": 3,
      "outputs": []
    },
    {
      "cell_type": "code",
      "metadata": {
        "colab": {
          "base_uri": "https://localhost:8080/"
        },
        "id": "ik3ZjkUKycUK",
        "outputId": "c273a583-c404-4767-bd16-9781f5875e7f"
      },
      "source": [
        "############################### Importar códigos\n",
        "!git clone https://github.com/ucfilho/optim_raianars_Insight/ #clonar do Github\n",
        "%cd optim_raianars_Insight\n",
        "import de_soma_Insight\n",
        "import de_bounds_matriz"
      ],
      "execution_count": 4,
      "outputs": [
        {
          "output_type": "stream",
          "text": [
            "Cloning into 'optim_raianars_Insight'...\n",
            "remote: Enumerating objects: 323, done.\u001b[K\n",
            "remote: Counting objects:  11% (1/9)\u001b[K\rremote: Counting objects:  22% (2/9)\u001b[K\rremote: Counting objects:  33% (3/9)\u001b[K\rremote: Counting objects:  44% (4/9)\u001b[K\rremote: Counting objects:  55% (5/9)\u001b[K\rremote: Counting objects:  66% (6/9)\u001b[K\rremote: Counting objects:  77% (7/9)\u001b[K\rremote: Counting objects:  88% (8/9)\u001b[K\rremote: Counting objects: 100% (9/9)\u001b[K\rremote: Counting objects: 100% (9/9), done.\u001b[K\n",
            "remote: Compressing objects:  11% (1/9)\u001b[K\rremote: Compressing objects:  22% (2/9)\u001b[K\rremote: Compressing objects:  33% (3/9)\u001b[K\rremote: Compressing objects:  44% (4/9)\u001b[K\rremote: Compressing objects:  55% (5/9)\u001b[K\rremote: Compressing objects:  66% (6/9)\u001b[K\rremote: Compressing objects:  77% (7/9)\u001b[K\rremote: Compressing objects:  88% (8/9)\u001b[K\rremote: Compressing objects: 100% (9/9)\u001b[K\rremote: Compressing objects: 100% (9/9), done.\u001b[K\n",
            "remote: Total 323 (delta 3), reused 0 (delta 0), pack-reused 314\u001b[K\n",
            "Receiving objects: 100% (323/323), 312.84 KiB | 7.82 MiB/s, done.\n",
            "Resolving deltas: 100% (184/184), done.\n",
            "/content/optim_raianars_Insight/Raianars_paper_One/optim_raianars_Insight\n"
          ],
          "name": "stdout"
        }
      ]
    },
    {
      "cell_type": "code",
      "metadata": {
        "colab": {
          "base_uri": "https://localhost:8080/"
        },
        "id": "lJogRB30yepw",
        "outputId": "427014ef-dab7-4c0e-bcce-e3673fe31ecd"
      },
      "source": [
        "!git clone https://github.com/ucfilho/Raianars_paper_One #clonar do Github\n",
        "%cd Raianars_paper_One"
      ],
      "execution_count": 5,
      "outputs": [
        {
          "output_type": "stream",
          "text": [
            "Cloning into 'Raianars_paper_One'...\n",
            "remote: Enumerating objects: 248, done.\u001b[K\n",
            "remote: Counting objects: 100% (119/119), done.\u001b[K\n",
            "remote: Compressing objects: 100% (119/119), done.\u001b[K\n",
            "remote: Total 248 (delta 64), reused 0 (delta 0), pack-reused 129\u001b[K\n",
            "Receiving objects: 100% (248/248), 654.97 KiB | 5.20 MiB/s, done.\n",
            "Resolving deltas: 100% (136/136), done.\n",
            "/content/optim_raianars_Insight/Raianars_paper_One/optim_raianars_Insight/Raianars_paper_One\n"
          ],
          "name": "stdout"
        }
      ]
    },
    {
      "cell_type": "code",
      "metadata": {
        "id": "P8LIRCsdywOX"
      },
      "source": [
        "############################### Função\n",
        "import Function\n",
        "#'''  \n",
        "############################### Função\n",
        "dim=30\n",
        "#fchoice='Rastrigin' #fchoice='Michalewicz' #fchoice='Schwefel' #'Schwefel_222'\n",
        "fchoice='Rosenbrock'\n",
        "Fun=Function.Rosenbrock\n",
        "#MAX=np.repeat(500,dim)\n",
        "#MIN=np.repeat(-500,dim)\n",
        "MIN,MAX=Go2MinMax.Intervalo(dim,fchoice)\n",
        "#####################################\n",
        "PAR=len(MAX) #NUM DE PARAMETROS A SER OTIMIZADOS\n",
        "\n",
        "bounds=[]\n",
        "for k in range(len(MAX)):\n",
        "  bounds.append((MIN[k],MAX[k]))"
      ],
      "execution_count": 6,
      "outputs": []
    },
    {
      "cell_type": "code",
      "metadata": {
        "id": "qTINtQ1cosZK",
        "colab": {
          "base_uri": "https://localhost:8080/"
        },
        "outputId": "51c93cfd-1dd6-4862-e53f-839f4128a817"
      },
      "source": [
        "!git clone https://github.com/ucfilho/ANN_read_matrix #clonar do Github\n",
        "%cd ANN_read_matrix"
      ],
      "execution_count": 7,
      "outputs": [
        {
          "output_type": "stream",
          "text": [
            "Cloning into 'ANN_read_matrix'...\n",
            "remote: Enumerating objects: 20, done.\u001b[K\n",
            "remote: Counting objects: 100% (20/20), done.\u001b[K\n",
            "remote: Compressing objects: 100% (18/18), done.\u001b[K\n",
            "remote: Total 20 (delta 5), reused 0 (delta 0), pack-reused 0\u001b[K\n",
            "Unpacking objects: 100% (20/20), done.\n",
            "/content/optim_raianars_Insight/Raianars_paper_One/optim_raianars_Insight/Raianars_paper_One/ANN_read_matrix\n"
          ],
          "name": "stdout"
        }
      ]
    },
    {
      "cell_type": "code",
      "metadata": {
        "id": "QiQLYOoNoyCw"
      },
      "source": [
        "ANN_F=pd.read_csv('ANN_INSIGHT_Valor_F.csv')"
      ],
      "execution_count": 8,
      "outputs": []
    },
    {
      "cell_type": "code",
      "metadata": {
        "id": "uHtW2amaDzFv"
      },
      "source": [
        "ANN_CR=pd.read_csv('ANN_INSIGHT_CR.csv')"
      ],
      "execution_count": 9,
      "outputs": []
    },
    {
      "cell_type": "code",
      "metadata": {
        "id": "EH6h_vke2yu1"
      },
      "source": [
        "syn0_F,syn1_F,X_max_F,X_min_F=Go2Ann.GetMatriz(ANN_F)"
      ],
      "execution_count": 10,
      "outputs": []
    },
    {
      "cell_type": "code",
      "metadata": {
        "id": "WW_3ZWJXD60i"
      },
      "source": [
        "syn0_CR,syn1_CR,X_max_CR,X_min_CR=Go2Ann.GetMatriz(ANN_CR)"
      ],
      "execution_count": 11,
      "outputs": []
    },
    {
      "cell_type": "code",
      "metadata": {
        "id": "b4gwBvVTyaXh"
      },
      "source": [
        "ANN_CR=pd.read_csv('ANN_INSIGHT_CR.csv')"
      ],
      "execution_count": 12,
      "outputs": []
    },
    {
      "cell_type": "code",
      "metadata": {
        "id": "6jL8MxpHvk-Y"
      },
      "source": [
        "fields = ['DI RELATIVO','FRAC Its','Fo','CRo']"
      ],
      "execution_count": 13,
      "outputs": []
    },
    {
      "cell_type": "code",
      "metadata": {
        "id": "Mb3LmbSmj9v7",
        "colab": {
          "base_uri": "https://localhost:8080/"
        },
        "outputId": "50d09d16-acbd-4122-b379-c97da68c17a2"
      },
      "source": [
        "##################################### \n",
        "\n",
        "TOTAL=10*dim*its*ITE\n",
        "TOTAL=int(TOTAL/2)   # CONFERIR SE ESTE EH O MELHOR LUGAR\n",
        "\n",
        "dimensions=len(MAX)\n",
        "start_time = time.time() #INICIALIZA CONTAGEM DO TEMPO\n",
        "\n",
        "\n",
        "PAR=dim\n",
        "fobj=Fun\n",
        "\n",
        "MAX_P=np.zeros(ITE) # ATENCAO para variar F e Cr MAX_P passa a ser 3 vezes maior\n",
        "MIN_P=np.zeros(ITE) # ATENCAO para variar F e Cr MIN_P passa a ser 3 vezes maior\n",
        "\n",
        "for i in range(dim):\n",
        "  MAX_P[i]=MAX[i] \n",
        "  MIN_P[i]=MIN[i]\n",
        "\n",
        "rodadas=1\n",
        "NPAR1=int(fator*NPAR);\n",
        "NPAR2=int((NPAR-NPAR1)/3);\n",
        "NPAR3=int((NPAR-NPAR1)/3);\n",
        "NPAR4=int((NPAR-NPAR1)/3);\n",
        "NPAR1 = NPAR-3*NPAR2\n",
        "print('frac=',fator);\n",
        "print('Npar1=',NPAR1);\n",
        "print('Npar2=',NPAR2);\n",
        "print('Npar3=',NPAR3);\n",
        "print('Npar4=',NPAR4);\n",
        "print('Npar=',NPAR)\n",
        "\n",
        "cols=dim\n",
        "\n",
        "X1=np.zeros((NPAR1,cols)) # X1 is Frannk population\n",
        "for i in range(NPAR1):\n",
        "  for j in range(cols):\n",
        "    r=np.random.random()\n",
        "    X1[i,j]=r*(MAX[j]-MIN[j])+MIN[j]\n",
        "    \n",
        "X2=np.zeros((NPAR2,cols)) # X2 is population DE (default DE)\n",
        "for i in range(NPAR2):\n",
        "  for j in range(cols):\n",
        "    r=np.random.random()\n",
        "    X2[i,j]=r*(MAX[j]-MIN[j])+MIN[j]\n",
        "\n",
        "X3=np.zeros((NPAR3,cols)) # X1 is Frannk population\n",
        "for i in range(NPAR3):\n",
        "  for j in range(cols):\n",
        "    r=np.random.random()\n",
        "    X3[i,j]=r*(MAX[j]-MIN[j])+MIN[j]\n",
        "    \n",
        "X4=np.zeros((NPAR4,cols)) # X2 is population DE (default DE)\n",
        "for i in range(NPAR4):\n",
        "  for j in range(cols):\n",
        "    r=np.random.random()\n",
        "    X4[i,j]=r*(MAX[j]-MIN[j])+MIN[j]\n",
        "    \n",
        " ############################################################\n",
        "  #bounds=[(5*dim, 15*dim)] * PONTOS # ITE\n",
        "  #bounds=[(3*dim, 12*dim)] * PONTOS # ITE\n",
        "  #bounds=[(4*dim, 16*dim)] * PONTOS\n",
        "  \n",
        "  # nao pode ser assim pq o bounds vale p o DE nao dos parametros\n",
        "  #p=int(TOTAL/its/ITE) \n",
        "  #bounds=[(p, p)] * PONTOS\n"
      ],
      "execution_count": 14,
      "outputs": [
        {
          "output_type": "stream",
          "text": [
            "frac= 0.5\n",
            "Npar1= 52\n",
            "Npar2= 16\n",
            "Npar3= 16\n",
            "Npar4= 16\n",
            "Npar= 100\n"
          ],
          "name": "stdout"
        }
      ]
    },
    {
      "cell_type": "code",
      "metadata": {
        "id": "rnX8ttNopd1G",
        "colab": {
          "base_uri": "https://localhost:8080/"
        },
        "outputId": "20513584-e307-4a9c-aada-b78b39fef00c"
      },
      "source": [
        "\n",
        "start_time = time.time()\n",
        "BEST_AGENTS=[]\n",
        "MAT_stat=[]\n",
        "for iii in range(RUNS):\n",
        "    MAT=[] \n",
        "    mut=Fi\n",
        "    crossp=CRi\n",
        "    SOMA=0\n",
        "    pop = np.random.rand(NPAR, dim)\n",
        "    diff=np.zeros(PAR)\n",
        "\n",
        "\n",
        "    X1=np.zeros((NPAR1,cols)) # X1 is Frannk population\n",
        "    for i in range(NPAR1):\n",
        "      for j in range(cols):\n",
        "        r=np.random.random()\n",
        "        X1[i,j]=r*(MAX[j]-MIN[j])+MIN[j]\n",
        "        \n",
        "    X2=np.zeros((NPAR2,cols)) # X2 is population DE (default DE)\n",
        "    for i in range(NPAR2):\n",
        "      for j in range(cols):\n",
        "        r=np.random.random()\n",
        "        X2[i,j]=r*(MAX[j]-MIN[j])+MIN[j]\n",
        "\n",
        "    X3=np.zeros((NPAR3,cols)) # X2 is population DE (default DE)\n",
        "    for i in range(NPAR3):\n",
        "      for j in range(cols):\n",
        "        r=np.random.random()\n",
        "        X3[i,j]=r*(MAX[j]-MIN[j])+MIN[j]\n",
        "\n",
        "    X4=np.zeros((NPAR4,cols)) # X2 is population DE (default DE)\n",
        "    for i in range(NPAR4):\n",
        "      for j in range(cols):\n",
        "        r=np.random.random()\n",
        "        X4[i,j]=r*(MAX[j]-MIN[j])+MIN[j]\n",
        "    \n",
        "    DIo=1e99\n",
        "  \n",
        "    CRo=crossp;Fo=mut;\n",
        "    Fitness = np.asarray([Fun(ind) for ind in X1])\n",
        "    XY,BEST_XY,BESTo,FOBESTo=AvaliaX(X1,Fitness)\n",
        "    nrow,ncol=X1.shape\n",
        "\n",
        "    QUANT=17;MAT_INDo=np.zeros((1,QUANT)); # quantos indices esta fazendo\n",
        "    MAT_INDo[0,5]=nrow  # VALOR NP\n",
        "    MAT_INDo[0,6]=Fo    # VALOR Fo   \n",
        "    MAT_INDo[0,7]=CRo   # VALOR CRo\n",
        "  \n",
        "    MAT_INDo=GeraIndices(X1,BESTo,FOBESTo,DIo,MAT_INDo,SOMA,TOTAL,syn0_F,\n",
        "                        syn1_F,X_max_F,X_min_F,syn0_CR,syn1_CR,X_max_CR,\n",
        "                        X_min_CR,Fc,fields,Fun)\n",
        "  \n",
        "    DIo=np.copy(MAT_INDo[0,0])\n",
        "    MAT_INDo[0,15]=Fo    # VALOR Fo   \n",
        "    MAT_INDo[0,16]=CRo   # VALOR CRo\n",
        "    #ind_crossp=ITE-1\n",
        "    \n",
        "\n",
        "    \n",
        "    for k in range(ITE):\n",
        "\n",
        "\n",
        "\n",
        "      X2,BEST2,FOBEST,XY,BEST_XY=de_bounds_matriz.de(bounds, mut2, crossp2,NPAR2, its,fobj,X2)\n",
        "      X3,BEST3,FOBEST,XY,BEST_XY=de_bounds_matriz.de(bounds, mut3, crossp3,NPAR3, its,fobj,X3)\n",
        "      X4,BEST4,FOBEST,XY,BEST_XY=de_bounds_matriz.de(bounds, mut4, crossp4,NPAR4, its,fobj,X4)\n",
        "      \n",
        "      X1,BEST1,FOBEST,XY,BEST_XY,SOMA= de_soma_Insight.de(MAX,MIN, mut, crossp,NPAR1,its,Fun,X1,SOMA,TOTAL)\n",
        "\n",
        "      MAT_IND=GeraIndices(X1,BESTo,FOBESTo,DIo,MAT_INDo,SOMA,TOTAL,syn0_F,\n",
        "                          syn1_F,X_max_F,X_min_F,syn0_CR,syn1_CR,X_max_CR,\n",
        "                          X_min_CR,Fc,fields,Fun)\n",
        "    \n",
        "      BESTo=np.copy(BEST1);FOBESTo=np.copy(FOBEST);\n",
        "      MAT.append(MAT_IND.ravel())\n",
        "    \n",
        "      MAT_INDo[0,6]=MAT_IND[0,15]   # VALOR Fo   \n",
        "      MAT_INDo[0,7]=MAT_IND[0,16]   # VALOR CRo\n",
        "      mut=MAT_IND[0,15]\n",
        "      crossp=MAT_IND[0,16]\n",
        "      X1[0,:] = BEST2;X1[1,:] = BEST3; X1[2,:] = BEST4;X1[NPAR1-1,:] = BEST1;\n",
        "      X2[0,:] = BEST1;X2[1,:] = BEST3;X2[2,:] = BEST4;X2[NPAR2-1,:] = BEST2;\n",
        "      X3[0,:] = BEST1;X3[1,:] = BEST2;X3[2,:] = BEST4;X3[NPAR3-1,:] = BEST3;\n",
        "      X4[0,:] = BEST1;X4[1,:] = BEST2;X4[2,:] = BEST3;X4[NPAR4-1,:] = BEST4;\n",
        "    print('k=',iii,'time=',(time.time()-start_time)/60, 'FO=',FOBEST)  \n",
        "    BEST_AGENTS.append(BEST_XY)\n",
        "    MAT_stat.append(MAT)\n",
        "    #print(\"GlobalParam e Solucao:\", BEST,\"Funcao=\",FOBEST)\n",
        "    \n",
        "############################## Cálculo dos Parâmetros de Avaliação   \n",
        "TIME = (time.time() - start_time)/RUNS\n",
        "BEST_AGENTS=np.array(BEST_AGENTS)\n",
        "BEST_AGENTS_ST= BEST_AGENTS[BEST_AGENTS[:,-1].argsort()]\n",
        "BEST=BEST_AGENTS_ST[0]\n",
        "WORSE=BEST_AGENTS_ST[-1]\n",
        "MEAN=np.mean(BEST_AGENTS,axis=0)\n",
        "MAXFO=BEST_AGENTS[:,-1].max()\n",
        "MINFO=BEST_AGENTS[:,-1].min()\n",
        "STD=BEST_AGENTS[:,-1].std()"
      ],
      "execution_count": 15,
      "outputs": [
        {
          "output_type": "stream",
          "text": [
            "k= 0 time= 2.2195815324783323 FO= 25.957465478755125\n",
            "k= 1 time= 4.455537076791128 FO= 72.59210875693176\n",
            "k= 2 time= 6.879353260993957 FO= 23.260714986755918\n",
            "k= 3 time= 9.094463340441386 FO= 24.209432481237325\n",
            "k= 4 time= 11.309023070335389 FO= 3.619848363679222\n",
            "k= 5 time= 13.566780066490173 FO= 71.03108644932585\n",
            "k= 6 time= 15.784854586919149 FO= 23.394685454542678\n",
            "k= 7 time= 17.999082159996032 FO= 18.38383227808717\n",
            "k= 8 time= 20.210772772630055 FO= 2.5428050088511407\n",
            "k= 9 time= 22.420693775018055 FO= 0.059919717146735864\n",
            "k= 10 time= 24.637801706790924 FO= 19.158098071299527\n",
            "k= 11 time= 26.8515065073967 FO= 38.972935684919406\n",
            "k= 12 time= 29.064203997453053 FO= 74.67524930327662\n",
            "k= 13 time= 31.28484901189804 FO= 0.07915940807846342\n",
            "k= 14 time= 33.49794275363286 FO= 4.500107222593907\n",
            "k= 15 time= 35.720219437281294 FO= 0.8251538418016839\n",
            "k= 16 time= 37.93949460188548 FO= 26.394783085207056\n",
            "k= 17 time= 40.16585451761882 FO= 0.7846846353667046\n",
            "k= 18 time= 42.40282923380534 FO= 1.8261840478984488\n",
            "k= 19 time= 44.642030052344005 FO= 72.80367323693864\n",
            "k= 20 time= 46.9148886958758 FO= 24.662084752701585\n",
            "k= 21 time= 49.20366724729538 FO= 9.988671653711743\n",
            "k= 22 time= 51.4715803027153 FO= 53.7956366190023\n",
            "k= 23 time= 53.72784139315287 FO= 0.11859354735681531\n",
            "k= 24 time= 55.96795630852382 FO= 16.954409848234096\n",
            "k= 25 time= 58.19343699216843 FO= 1.5020255475923192\n",
            "k= 26 time= 60.450299032529195 FO= 73.36262115882458\n",
            "k= 27 time= 62.69627742767334 FO= 0.13982206586316406\n",
            "k= 28 time= 64.90408447583516 FO= 9.914527391222151\n",
            "k= 29 time= 67.14770280917486 FO= 73.17214943965648\n",
            "k= 30 time= 69.54749887784322 FO= 0.8623303230300634\n",
            "k= 31 time= 71.97185595035553 FO= 0.003859410569455786\n",
            "k= 32 time= 74.21498337189357 FO= 0.14473514502672669\n",
            "k= 33 time= 76.96364446878434 FO= 67.85664209037603\n",
            "k= 34 time= 79.62708402474722 FO= 1.3503718688810422\n",
            "k= 35 time= 81.85442016919454 FO= 9.561638812813598\n",
            "k= 36 time= 84.09646412531535 FO= 0.008987253705044981\n",
            "k= 37 time= 86.46817838748296 FO= 1.2809768265403618\n",
            "k= 38 time= 88.70751361052196 FO= 1.010348696144849\n",
            "k= 39 time= 90.93324106931686 FO= 18.972059061806117\n",
            "k= 40 time= 93.14066781600316 FO= 0.21839833442839615\n",
            "k= 41 time= 95.3415271838506 FO= 12.760130885494082\n",
            "k= 42 time= 97.54326315323512 FO= 25.056736673256363\n",
            "k= 43 time= 99.75615484714508 FO= 2.792194946209292\n",
            "k= 44 time= 101.9717889547348 FO= 26.537390321766583\n",
            "k= 45 time= 104.18371683359146 FO= 1.5967919396400763\n",
            "k= 46 time= 106.40588461955389 FO= 0.28576523461057723\n",
            "k= 47 time= 108.62420009771982 FO= 73.19019131216113\n",
            "k= 48 time= 110.83946737845739 FO= 3.6818701360216157\n",
            "k= 49 time= 113.0571398973465 FO= 26.12944140065719\n"
          ],
          "name": "stdout"
        }
      ]
    },
    {
      "cell_type": "code",
      "metadata": {
        "id": "TLEE0UrZSvJF",
        "colab": {
          "base_uri": "https://localhost:8080/"
        },
        "outputId": "bbbf1200-44a1-4e08-dca8-d5d9b97092d9"
      },
      "source": [
        "#len(X2[1,:])\n",
        "print(cols)"
      ],
      "execution_count": 16,
      "outputs": [
        {
          "output_type": "stream",
          "text": [
            "30\n"
          ],
          "name": "stdout"
        }
      ]
    },
    {
      "cell_type": "code",
      "metadata": {
        "id": "k3p9TGsx1OCu"
      },
      "source": [
        "NOMES=['DIVERSIDADE (DI)',  'DI RELATIVO','FRAC Its',\n",
        "           'VELOC FOBJ','VELOC X','NP','Fo','CRo','fmin','fmax',\n",
        "           'AD_fmin','AD_fmax','DELTA FOBJ','DELTA VX','r_fitness',\n",
        "           'F','CR']\n",
        "# BEST_INDEX= BEST_AGENTS[BEST_AGENTS[:,-1].argmin()]  \n",
        "BEST_INDEX = np.argmin(BEST_AGENTS[:,-1])\n",
        "df=pd.DataFrame(MAT_stat[BEST_INDEX], columns=NOMES)\n",
        "\n"
      ],
      "execution_count": 17,
      "outputs": []
    },
    {
      "cell_type": "code",
      "metadata": {
        "id": "jIHiKR_t1xxs",
        "colab": {
          "base_uri": "https://localhost:8080/"
        },
        "outputId": "6be6c40f-0dca-4e14-9d8d-1ae38a03fd28"
      },
      "source": [
        "pd.set_option('display.max_columns', 30)  \n",
        "print(df)"
      ],
      "execution_count": 18,
      "outputs": [
        {
          "output_type": "stream",
          "text": [
            "      DIVERSIDADE (DI)  DI RELATIVO  FRAC Its  VELOC FOBJ  VELOC X    NP  \\\n",
            "0            30.673768     0.984478  0.000173         0.0      0.0  52.0   \n",
            "1            29.553952     0.948537  0.000347         1.0      2.0  52.0   \n",
            "2            28.889303     0.927205  0.000520         0.0      0.0  52.0   \n",
            "3            28.261104     0.907043  0.000693         0.0      0.0  52.0   \n",
            "4            27.897116     0.895361  0.000867         1.0      2.0  52.0   \n",
            "...                ...          ...       ...         ...      ...   ...   \n",
            "1995          2.304496     0.073963  0.345973         1.0      1.0  52.0   \n",
            "1996          2.304500     0.073963  0.346147         1.0      1.0  52.0   \n",
            "1997          2.304500     0.073963  0.346320         1.0      1.0  52.0   \n",
            "1998          2.304501     0.073963  0.346493         1.0      1.0  52.0   \n",
            "1999          2.304501     0.073963  0.346667         1.0      1.0  52.0   \n",
            "\n",
            "            Fo       CRo          fmin          fmax  AD_fmin  AD_fmax  \\\n",
            "0     0.500000  0.500000  2.736209e+06  1.031252e+07      1.0      1.0   \n",
            "1     0.253881  0.335920  1.622518e+06  8.448924e+06      1.0      1.0   \n",
            "2     0.434492  0.229709  1.622518e+06  8.448924e+06      1.0      1.0   \n",
            "3     0.233060  0.158713  1.622518e+06  7.408540e+06      1.0      1.0   \n",
            "4     0.391607  0.230693  9.492028e+05  7.408540e+06      1.0      1.0   \n",
            "...        ...       ...           ...           ...      ...      ...   \n",
            "1995  0.308537  0.139122  4.047022e-03  2.021502e+02      1.0      1.0   \n",
            "1996  0.325653  0.144267  4.041165e-03  2.021502e+02      1.0      1.0   \n",
            "1997  0.343717  0.149602  3.989612e-03  2.021502e+02      1.0      1.0   \n",
            "1998  0.362784  0.142225  3.925635e-03  2.021502e+02      1.0      1.0   \n",
            "1999  0.335951  0.135212  3.859411e-03  2.021502e+02      1.0      1.0   \n",
            "\n",
            "      DELTA FOBJ  DELTA VX  r_fitness         F        CR  \n",
            "0            0.0       0.0   0.734671  0.253881  0.335920  \n",
            "1            0.0       0.0   0.807962  0.434492  0.229709  \n",
            "2            0.0       0.0   0.807962  0.233060  0.158713  \n",
            "3            0.0       0.0   0.780994  0.391607  0.230693  \n",
            "4            0.0       0.0   0.871877  0.654579  0.161842  \n",
            "...          ...       ...        ...       ...       ...  \n",
            "1995         0.0       0.0   0.999980  0.325653  0.144267  \n",
            "1996         0.0       0.0   0.999980  0.343717  0.149602  \n",
            "1997         0.0       0.0   0.999980  0.362784  0.142225  \n",
            "1998         0.0       0.0   0.999981  0.335951  0.135212  \n",
            "1999         0.0       0.0   0.999981  0.311103  0.140213  \n",
            "\n",
            "[2000 rows x 17 columns]\n"
          ],
          "name": "stdout"
        }
      ]
    },
    {
      "cell_type": "code",
      "metadata": {
        "id": "bx0ywpMtAAjw",
        "colab": {
          "base_uri": "https://localhost:8080/",
          "height": 296
        },
        "outputId": "91a448a6-c687-4c32-c6c0-5b39d935afd5"
      },
      "source": [
        "plt.plot(df['FRAC Its'],df['CR'])\n",
        "plt.xlabel('Iteração/Total')\n",
        "plt.ylabel('CR')"
      ],
      "execution_count": 19,
      "outputs": [
        {
          "output_type": "execute_result",
          "data": {
            "text/plain": [
              "Text(0, 0.5, 'CR')"
            ]
          },
          "metadata": {
            "tags": []
          },
          "execution_count": 19
        },
        {
          "output_type": "display_data",
          "data": {
            "image/png": "[encoded data removed]",
            "text/plain": [
              "<Figure size 432x288 with 1 Axes>"
            ]
          },
          "metadata": {
            "tags": [],
            "needs_background": "light"
          }
        }
      ]
    },
    {
      "cell_type": "code",
      "metadata": {
        "id": "BvPFvbDvteDC",
        "colab": {
          "base_uri": "https://localhost:8080/",
          "height": 295
        },
        "outputId": "d234823a-7c89-4271-ac6e-1eb24cb4fbdd"
      },
      "source": [
        "\n",
        "fig, ax = plt.subplots()\n",
        "ax.plot(df['FRAC Its'],df['F'],label='F')\n",
        "ax.set_xlabel('Iteração/Total')\n",
        "ax.set_ylabel('Parâmetros')\n",
        "ax.plot(df['FRAC Its'],df['CR'],'-r', label='CR')\n",
        "nome=Fun.__name__+'  M=Diversidade'+ '  D='+str(dim)\n",
        "ax.set_title(nome)\n",
        "leg = ax.legend()\n"
      ],
      "execution_count": 20,
      "outputs": [
        {
          "output_type": "display_data",
          "data": {
            "image/png": "[encoded data removed]",
            "text/plain": [
              "<Figure size 432x288 with 1 Axes>"
            ]
          },
          "metadata": {
            "tags": [],
            "needs_background": "light"
          }
        }
      ]
    },
    {
      "cell_type": "code",
      "metadata": {
        "id": "htooaGpDia_0",
        "colab": {
          "base_uri": "https://localhost:8080/",
          "height": 312
        },
        "outputId": "141886c5-19be-47b0-a283-663f066d2eec"
      },
      "source": [
        "f, axarr = plt.subplots(2, sharex=True)\n",
        "axarr[0].plot(df['FRAC Its'],df['F'])\n",
        "axarr[0].set_ylabel('F')\n",
        "axarr[1].plot(df['FRAC Its'],df['CR'])\n",
        "axarr[1].set_ylabel('CR')\n",
        "axarr[1].set_xlabel('Iteração/Total')\n",
        "nome=Fun.__name__+'_Diversidade_'+ 'D='+str(dim)\n",
        "axarr[0].set_title(nome)\n"
      ],
      "execution_count": 21,
      "outputs": [
        {
          "output_type": "execute_result",
          "data": {
            "text/plain": [
              "Text(0.5, 1.0, 'Rosenbrock_Diversidade_D=30')"
            ]
          },
          "metadata": {
            "tags": []
          },
          "execution_count": 21
        },
        {
          "output_type": "display_data",
          "data": {
            "image/png": "[encoded data removed]",
            "text/plain": [
              "<Figure size 432x288 with 2 Axes>"
            ]
          },
          "metadata": {
            "tags": [],
            "needs_background": "light"
          }
        }
      ]
    },
    {
      "cell_type": "code",
      "metadata": {
        "id": "lNSN5X-wskcx",
        "colab": {
          "base_uri": "https://localhost:8080/"
        },
        "outputId": "baf0b5ff-abba-4f2a-bd5e-abe5e10371a5"
      },
      "source": [
        "nome='SUB'+'_Fo-'+str(Fi)+'_CRo-'+str(CRi)+'_D-'+str(dim)+'_Interv-'+str(ITE)\n",
        "print('MCS-FRANNK','Fator F/DE= %.2f' %(fator),'NPAR=',NPAR,'Iterações=',ITE*its,'Dim=', PAR,\"Min/Max=\",MIN[0],\"/\",MAX[0],'_',Fun.__name__)\n",
        "print(nome, '\\n')\n",
        "#print('BEST: ',BEST)\n",
        "#print('MÉDIA: ',MEAN)\n",
        "print('MÉDIA: ',MEAN[-1],'STD __:',STD)\n",
        "print('MIN __:',MINFO, 'MAX__: ',MAXFO)\n",
        "print(MEAN[-1])\n",
        "print(STD)\n",
        "print(MINFO)\n",
        "print(\"Tempo Médio= %.3f segundos ---\" % (TIME))\n",
        "print(RUNS,'Rodadas') \n",
        "print()\n",
        "print('BEST: ',BEST)\n",
        "# print('melhor=',BEST_AGENTS[BEST_INDEX])"
      ],
      "execution_count": 22,
      "outputs": [
        {
          "output_type": "stream",
          "text": [
            "MCS-FRANNK Fator F/DE= 0.50 NPAR= 100 Iterações= 2000 Dim= 30 Min/Max= -10 / 10 _ Rosenbrock\n",
            "SUB_Fo-0.5_CRo-0.5_D-30_Interv-2000 \n",
            "\n",
            "MÉDIA:  20.839666604199948 STD __: 25.352064827160138\n",
            "MIN __: 0.003859410569455786 MAX__:  74.67524930327662\n",
            "20.839666604199948\n",
            "25.352064827160138\n",
            "0.003859410569455786\n",
            "Tempo Médio= 135.669 segundos ---\n",
            "50 Rodadas\n",
            "\n",
            "BEST:  [0.99960928 0.99962445 0.99939499 0.9992891  0.99890331 0.99917389\n",
            " 0.9992453  0.99960665 0.99993279 1.00007628 0.99998458 1.0000901\n",
            " 0.99985215 0.9995043  0.99948978 0.99937439 0.99914119 0.99871017\n",
            " 0.9989185  0.99898548 0.99874173 0.99905196 0.99908696 0.99888774\n",
            " 0.99982165 1.00167579 1.00567714 1.01236064 1.02583196 1.05289956\n",
            " 0.00385941]\n"
          ],
          "name": "stdout"
        }
      ]
    }
  ]
}