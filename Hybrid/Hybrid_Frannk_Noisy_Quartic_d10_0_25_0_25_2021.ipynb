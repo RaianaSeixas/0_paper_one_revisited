{
  "nbformat": 4,
  "nbformat_minor": 0,
  "metadata": {
    "colab": {
      "name": "Hybrid_Frannk_Noisy_Quartic_d10_0.25-0.25_2021.ipynb",
      "provenance": [],
      "collapsed_sections": [],
      "include_colab_link": true
    },
    "kernelspec": {
      "name": "python3",
      "display_name": "Python 3"
    },
    "language_info": {
      "codemirror_mode": {
        "name": "ipython",
        "version": 3
      },
      "file_extension": ".py",
      "mimetype": "text/x-python",
      "name": "python",
      "nbconvert_exporter": "python",
      "pygments_lexer": "ipython3",
      "version": "3.7.3"
    }
  },
  "cells": [
    {
      "cell_type": "markdown",
      "metadata": {
        "id": "view-in-github",
        "colab_type": "text"
      },
      "source": [
        "<a href=\"https://colab.research.google.com/github/RaianaSeixas/Raianars_paper_one_revisited/blob/main/Hybrid/Hybrid_Frannk_Noisy_Quartic_d10_0_25_0_25_2021.ipynb\" target=\"_parent\"><img src=\"https://colab.research.google.com/assets/colab-badge.svg\" alt=\"Open In Colab\"/></a>"
      ]
    },
    {
      "cell_type": "code",
      "metadata": {
        "colab": {
          "base_uri": "https://localhost:8080/"
        },
        "id": "KCV-rX5Th9at",
        "outputId": "6e9b3fda-24b5-48a4-eae9-f2bee1594985"
      },
      "source": [
        "############################### Importar códigos\r\n",
        "!git clone https://github.com/ucfilho/optim_raianars_Insight/ #clonar do Github\r\n",
        "%cd optim_raianars_Insight\r\n",
        "import de_soma_Insight\r\n",
        "import de_bounds_matriz\r\n",
        "import Go2Ann"
      ],
      "execution_count": 1,
      "outputs": [
        {
          "output_type": "stream",
          "text": [
            "Cloning into 'optim_raianars_Insight'...\n",
            "remote: Enumerating objects: 9, done.\u001b[K\n",
            "remote: Counting objects: 100% (9/9), done.\u001b[K\n",
            "remote: Compressing objects: 100% (9/9), done.\u001b[K\n",
            "remote: Total 323 (delta 3), reused 0 (delta 0), pack-reused 314\u001b[K\n",
            "Receiving objects: 100% (323/323), 312.84 KiB | 1.19 MiB/s, done.\n",
            "Resolving deltas: 100% (184/184), done.\n",
            "/content/optim_raianars_Insight\n"
          ],
          "name": "stdout"
        }
      ]
    },
    {
      "cell_type": "code",
      "metadata": {
        "id": "Va-6Xios8RjU",
        "colab": {
          "base_uri": "https://localhost:8080/"
        },
        "outputId": "37a01dae-3f63-4a41-bc73-d82f7cd58912"
      },
      "source": [
        "!git clone https://github.com/ucfilho/Raianars_paper_One #clonar do Github\n",
        "%cd Raianars_paper_One"
      ],
      "execution_count": 2,
      "outputs": [
        {
          "output_type": "stream",
          "text": [
            "Cloning into 'Raianars_paper_One'...\n",
            "remote: Enumerating objects: 119, done.\u001b[K\n",
            "remote: Counting objects: 100% (119/119), done.\u001b[K\n",
            "remote: Compressing objects: 100% (119/119), done.\u001b[K\n",
            "remote: Total 248 (delta 64), reused 0 (delta 0), pack-reused 129\u001b[K\n",
            "Receiving objects: 100% (248/248), 654.97 KiB | 2.50 MiB/s, done.\n",
            "Resolving deltas: 100% (136/136), done.\n",
            "/content/optim_raianars_Insight/Raianars_paper_One\n"
          ],
          "name": "stdout"
        }
      ]
    },
    {
      "cell_type": "code",
      "metadata": {
        "id": "_E15mKFURR6O"
      },
      "source": [
        "#import Go2Ann\n",
        "#import de_soma_Insight\n",
        "#import de_bounds_matriz\n",
        "#import Function\n",
        "import Go2MinMax\n",
        "from AvaliaX import AvaliaX\n",
        "from GeraIndices import GeraIndices\n",
        "import numpy as np\n",
        "import time\n",
        "import matplotlib.pyplot as plt\n",
        "from random import randint\n",
        "from scipy import optimize\n",
        "import pandas as pd\n",
        "from sklearn.metrics import confusion_matrix\n",
        "\n",
        "############################### DADOS DE ENTRADA \n",
        "\n",
        "Fc=0.1 # fator de correcao parametros da ANN\n",
        "its=1 #10 # quantas vezes vai usar o NPAR antes de alterar de novo\n",
        "ITE=2000 #10 # PONTOS quantas vezes vai alteral NPAR \n",
        "NPAR=100\n",
        "\n",
        "fator = 1.0/3.0; \n",
        "\n"
      ],
      "execution_count": 3,
      "outputs": []
    },
    {
      "cell_type": "code",
      "metadata": {
        "id": "tMGqnxI6h5BT"
      },
      "source": [
        ""
      ],
      "execution_count": 3,
      "outputs": []
    },
    {
      "cell_type": "code",
      "metadata": {
        "colab": {
          "base_uri": "https://localhost:8080/"
        },
        "id": "ik3ZjkUKycUK",
        "outputId": "335a6b6a-fcb6-47ea-83c1-e6655213d5ac"
      },
      "source": [
        "############################### Importar códigos\r\n",
        "!git clone https://github.com/ucfilho/optim_raianars_Insight/ #clonar do Github\r\n",
        "%cd optim_raianars_Insight\r\n",
        "import de_soma_Insight\r\n",
        "import de_bounds_matriz"
      ],
      "execution_count": 4,
      "outputs": [
        {
          "output_type": "stream",
          "text": [
            "Cloning into 'optim_raianars_Insight'...\n",
            "remote: Enumerating objects: 9, done.\u001b[K\n",
            "remote: Counting objects: 100% (9/9), done.\u001b[K\n",
            "remote: Compressing objects: 100% (9/9), done.\u001b[K\n",
            "remote: Total 323 (delta 3), reused 0 (delta 0), pack-reused 314\u001b[K\n",
            "Receiving objects: 100% (323/323), 312.84 KiB | 1.19 MiB/s, done.\n",
            "Resolving deltas: 100% (184/184), done.\n",
            "/content/optim_raianars_Insight/Raianars_paper_One/optim_raianars_Insight\n"
          ],
          "name": "stdout"
        }
      ]
    },
    {
      "cell_type": "code",
      "metadata": {
        "colab": {
          "base_uri": "https://localhost:8080/"
        },
        "id": "lJogRB30yepw",
        "outputId": "bb803042-be80-4cbf-867e-8dc27a784311"
      },
      "source": [
        "!git clone https://github.com/ucfilho/Raianars_paper_One #clonar do Github\r\n",
        "%cd Raianars_paper_One"
      ],
      "execution_count": 5,
      "outputs": [
        {
          "output_type": "stream",
          "text": [
            "Cloning into 'Raianars_paper_One'...\n",
            "remote: Enumerating objects: 119, done.\u001b[K\n",
            "remote: Counting objects: 100% (119/119), done.\u001b[K\n",
            "remote: Compressing objects: 100% (119/119), done.\u001b[K\n",
            "remote: Total 248 (delta 64), reused 0 (delta 0), pack-reused 129\u001b[K\n",
            "Receiving objects: 100% (248/248), 654.97 KiB | 2.01 MiB/s, done.\n",
            "Resolving deltas: 100% (136/136), done.\n",
            "/content/optim_raianars_Insight/Raianars_paper_One/optim_raianars_Insight/Raianars_paper_One\n"
          ],
          "name": "stdout"
        }
      ]
    },
    {
      "cell_type": "code",
      "metadata": {
        "id": "P8LIRCsdywOX"
      },
      "source": [
        "RUNS=50\r\n",
        "mut=0.25\r\n",
        "crossp=0.25\r\n",
        "Fi=mut;CRi=crossp;# para impressão\r\n",
        "\r\n",
        "############################### Função\r\n",
        "import Function\r\n",
        "#'''  \r\n",
        "############################### Função\r\n",
        "dim=10\r\n",
        "#fchoice='Rastrigin' #fchoice='Michalewicz' #fchoice='Schwefel' #'Schwefel_222' Ackley Alpine_n1  Griewank\r\n",
        "fchoice='Noisy_Quartic'\r\n",
        "Fun=Function.Noisy_Quartic\r\n",
        "MIN,MAX=Go2MinMax.Intervalo(dim,fchoice)\r\n",
        "\r\n",
        "#'''\r\n",
        "#####################################\r\n",
        "PAR=len(MAX) #NUM DE PARAMETROS A SER OTIMIZADOS\r\n",
        "\r\n",
        "bounds=[]\r\n",
        "for k in range(len(MAX)):\r\n",
        "  bounds.append((MIN[k],MAX[k]))"
      ],
      "execution_count": 6,
      "outputs": []
    },
    {
      "cell_type": "code",
      "metadata": {
        "id": "qTINtQ1cosZK",
        "colab": {
          "base_uri": "https://localhost:8080/"
        },
        "outputId": "dd01bb42-d845-4334-d495-faf10515f66a"
      },
      "source": [
        "!git clone https://github.com/ucfilho/ANN_read_matrix #clonar do Github\n",
        "%cd ANN_read_matrix"
      ],
      "execution_count": 7,
      "outputs": [
        {
          "output_type": "stream",
          "text": [
            "Cloning into 'ANN_read_matrix'...\n",
            "remote: Enumerating objects: 20, done.\u001b[K\n",
            "remote: Counting objects: 100% (20/20), done.\u001b[K\n",
            "remote: Compressing objects: 100% (18/18), done.\u001b[K\n",
            "remote: Total 20 (delta 5), reused 0 (delta 0), pack-reused 0\u001b[K\n",
            "Unpacking objects: 100% (20/20), done.\n",
            "/content/optim_raianars_Insight/Raianars_paper_One/optim_raianars_Insight/Raianars_paper_One/ANN_read_matrix\n"
          ],
          "name": "stdout"
        }
      ]
    },
    {
      "cell_type": "code",
      "metadata": {
        "id": "QiQLYOoNoyCw"
      },
      "source": [
        "ANN_F=pd.read_csv('ANN_INSIGHT_Valor_F.csv')"
      ],
      "execution_count": 8,
      "outputs": []
    },
    {
      "cell_type": "code",
      "metadata": {
        "id": "uHtW2amaDzFv"
      },
      "source": [
        "ANN_CR=pd.read_csv('ANN_INSIGHT_CR.csv')"
      ],
      "execution_count": 9,
      "outputs": []
    },
    {
      "cell_type": "code",
      "metadata": {
        "id": "EH6h_vke2yu1"
      },
      "source": [
        "syn0_F,syn1_F,X_max_F,X_min_F=Go2Ann.GetMatriz(ANN_F)"
      ],
      "execution_count": 10,
      "outputs": []
    },
    {
      "cell_type": "code",
      "metadata": {
        "id": "WW_3ZWJXD60i"
      },
      "source": [
        "syn0_CR,syn1_CR,X_max_CR,X_min_CR=Go2Ann.GetMatriz(ANN_CR)"
      ],
      "execution_count": 11,
      "outputs": []
    },
    {
      "cell_type": "code",
      "metadata": {
        "id": "b4gwBvVTyaXh"
      },
      "source": [
        "ANN_CR=pd.read_csv('ANN_INSIGHT_CR.csv')"
      ],
      "execution_count": 12,
      "outputs": []
    },
    {
      "cell_type": "code",
      "metadata": {
        "id": "6jL8MxpHvk-Y"
      },
      "source": [
        "fields = ['DI RELATIVO','FRAC Its','Fo','CRo']"
      ],
      "execution_count": 13,
      "outputs": []
    },
    {
      "cell_type": "code",
      "metadata": {
        "id": "Mb3LmbSmj9v7",
        "colab": {
          "base_uri": "https://localhost:8080/"
        },
        "outputId": "87922e7e-7fdf-415d-a44e-93381429d377"
      },
      "source": [
        "##################################### \n",
        "\n",
        "TOTAL=10*dim*its*ITE\n",
        "TOTAL=int(TOTAL/2)   # CONFERIR SE ESTE EH O MELHOR LUGAR\n",
        "\n",
        "dimensions=len(MAX)\n",
        "start_time = time.time() #INICIALIZA CONTAGEM DO TEMPO\n",
        "\n",
        "\n",
        "PAR=dim\n",
        "fobj=Fun\n",
        "\n",
        "MAX_P=np.zeros(ITE) # ATENCAO para variar F e Cr MAX_P passa a ser 3 vezes maior\n",
        "MIN_P=np.zeros(ITE) # ATENCAO para variar F e Cr MIN_P passa a ser 3 vezes maior\n",
        "\n",
        "for i in range(dim):\n",
        "  MAX_P[i]=MAX[i] \n",
        "  MIN_P[i]=MIN[i]\n",
        "\n",
        "rodadas=1\n",
        "NPAR1=int(fator*NPAR);print('Npar1=',NPAR1);print('frac=',fator)\n",
        "NPAR2=NPAR-NPAR1;print('Npar2=',NPAR2);print('Npar=',NPAR)\n",
        "\n",
        "cols=dim\n",
        "\n",
        "X1=np.zeros((NPAR1,cols)) # X1 is Frannk population\n",
        "for i in range(NPAR1):\n",
        "  for j in range(cols):\n",
        "    r=np.random.random()\n",
        "    X1[i,j]=r*(MAX[j]-MIN[j])+MIN[j]\n",
        "    \n",
        "X2=np.zeros((NPAR2,cols)) # X2 is population DE (default DE)\n",
        "for i in range(NPAR2):\n",
        "  for j in range(cols):\n",
        "    r=np.random.random()\n",
        "    X2[i,j]=r*(MAX[j]-MIN[j])+MIN[j]\n",
        " ############################################################\n",
        "  #bounds=[(5*dim, 15*dim)] * PONTOS # ITE\n",
        "  #bounds=[(3*dim, 12*dim)] * PONTOS # ITE\n",
        "  #bounds=[(4*dim, 16*dim)] * PONTOS\n",
        "  \n",
        "  # nao pode ser assim pq o bounds vale p o DE nao dos parametros\n",
        "  #p=int(TOTAL/its/ITE) \n",
        "  #bounds=[(p, p)] * PONTOS\n"
      ],
      "execution_count": 14,
      "outputs": [
        {
          "output_type": "stream",
          "text": [
            "Npar1= 33\n",
            "frac= 0.3333333333333333\n",
            "Npar2= 67\n",
            "Npar= 100\n"
          ],
          "name": "stdout"
        }
      ]
    },
    {
      "cell_type": "code",
      "metadata": {
        "id": "rnX8ttNopd1G",
        "colab": {
          "base_uri": "https://localhost:8080/"
        },
        "outputId": "bcede439-a81d-412d-c019-b3544d719a7c"
      },
      "source": [
        "\n",
        "start_time = time.time()\n",
        "BEST_AGENTS=[]\n",
        "MAT_stat=[]\n",
        "for iii in range(RUNS):\n",
        "    MAT=[] \n",
        "    mut=Fi\n",
        "    crossp=CRi\n",
        "    SOMA=0\n",
        "    pop = np.random.rand(NPAR, dim)\n",
        "    diff=np.zeros(PAR)\n",
        "    X1=np.zeros((NPAR1,cols)) # X1 is Frannk population\n",
        "    for i in range(NPAR1):\n",
        "      for j in range(cols):\n",
        "        r=np.random.random()\n",
        "        X1[i,j]=r*(MAX[j]-MIN[j])+MIN[j]\n",
        "        \n",
        "    X2=np.zeros((NPAR2,cols)) # X2 is population DE (default DE)\n",
        "    for i in range(NPAR2):\n",
        "      for j in range(cols):\n",
        "        r=np.random.random()\n",
        "        X2[i,j]=r*(MAX[j]-MIN[j])+MIN[j]\n",
        "    \n",
        "    DIo=1e99\n",
        "  \n",
        "    CRo=crossp;Fo=mut;\n",
        "    Fitness = np.asarray([Fun(ind) for ind in X1])\n",
        "    XY,BEST_XY,BESTo,FOBESTo=AvaliaX(X1,Fitness)\n",
        "    nrow,ncol=X1.shape\n",
        "\n",
        "    QUANT=17;MAT_INDo=np.zeros((1,QUANT)); # quantos indices esta fazendo\n",
        "    MAT_INDo[0,5]=nrow  # VALOR NP\n",
        "    MAT_INDo[0,6]=Fo    # VALOR Fo   \n",
        "    MAT_INDo[0,7]=CRo   # VALOR CRo\n",
        "  \n",
        "    MAT_INDo=GeraIndices(X1,BESTo,FOBESTo,DIo,MAT_INDo,SOMA,TOTAL,syn0_F,\n",
        "                        syn1_F,X_max_F,X_min_F,syn0_CR,syn1_CR,X_max_CR,\n",
        "                        X_min_CR,Fc,fields,Fun)\n",
        "  \n",
        "    DIo=np.copy(MAT_INDo[0,0])\n",
        "    MAT_INDo[0,15]=Fo    # VALOR Fo   \n",
        "    MAT_INDo[0,16]=CRo   # VALOR CRo\n",
        "    #ind_crossp=ITE-1\n",
        "    \n",
        "\n",
        "    \n",
        "    for k in range(ITE):\n",
        "\n",
        "      X2,BEST2,FOBEST,XY,BEST_XY=de_bounds_matriz.de(bounds, mut, crossp,NPAR2, its,fobj,X2)\n",
        "      \n",
        "      \n",
        "      X1,BEST1,FOBEST,XY,BEST_XY,SOMA= de_soma_Insight.de(MAX,MIN, mut, crossp,NPAR1,its,Fun,X1,SOMA,TOTAL)\n",
        "\n",
        "      MAT_IND=GeraIndices(X1,BESTo,FOBESTo,DIo,MAT_INDo,SOMA,TOTAL,syn0_F,\n",
        "                          syn1_F,X_max_F,X_min_F,syn0_CR,syn1_CR,X_max_CR,\n",
        "                          X_min_CR,Fc,fields,Fun)\n",
        "    \n",
        "      BESTo=np.copy(BEST1);FOBESTo=np.copy(FOBEST);\n",
        "      MAT.append(MAT_IND.ravel())\n",
        "    \n",
        "      MAT_INDo[0,6]=MAT_IND[0,15]   # VALOR Fo   \n",
        "      MAT_INDo[0,7]=MAT_IND[0,16]   # VALOR CRo\n",
        "      mut=MAT_IND[0,15]\n",
        "      crossp=MAT_IND[0,16]\n",
        "      X1[0,:] = BEST2;\n",
        "      X1[NPAR1-1,:] = BEST1;\n",
        "      X2[0,:] = BEST1;\n",
        "      X2[NPAR2-1,:] = BEST2;\n",
        "    print('k=',iii,'time=',(time.time()-start_time)/60, 'FOBEST=',FOBEST)  \n",
        "    BEST_AGENTS.append(BEST_XY)\n",
        "    MAT_stat.append(MAT)\n",
        "    #print(\"GlobalParam e Solucao:\", BEST,\"Funcao=\",FOBEST)\n",
        "    \n",
        "############################## Cálculo dos Parâmetros de Avaliação   \n",
        "TIME = (time.time() - start_time)/RUNS\n",
        "BEST_AGENTS=np.array(BEST_AGENTS)\n",
        "BEST_AGENTS_ST= BEST_AGENTS[BEST_AGENTS[:,-1].argsort()]\n",
        "BEST=BEST_AGENTS_ST[0]\n",
        "WORSE=BEST_AGENTS_ST[-1]\n",
        "MEAN=np.mean(BEST_AGENTS,axis=0)\n",
        "MAXFO=BEST_AGENTS[:,-1].max()\n",
        "MINFO=BEST_AGENTS[:,-1].min()\n",
        "STD=BEST_AGENTS[:,-1].std()"
      ],
      "execution_count": 15,
      "outputs": [
        {
          "output_type": "stream",
          "text": [
            "k= 0 time= 0.6637994766235351 FOBEST= 0.0863142115849566\n",
            "k= 1 time= 1.3271090467770894 FOBEST= 0.12920308662948093\n",
            "k= 2 time= 1.9884879430135092 FOBEST= 0.06712242631917077\n",
            "k= 3 time= 2.647180728117625 FOBEST= 0.08039970685718627\n",
            "k= 4 time= 3.313761579990387 FOBEST= 0.09219771219758935\n",
            "k= 5 time= 3.973382663726807 FOBEST= 0.058298201896001454\n",
            "k= 6 time= 4.633270537853241 FOBEST= 0.02540857990042586\n",
            "k= 7 time= 5.296065429846446 FOBEST= 0.08831531359820191\n",
            "k= 8 time= 5.960154410203298 FOBEST= 0.03659497568581309\n",
            "k= 9 time= 6.618548353513082 FOBEST= 0.12343425908375877\n",
            "k= 10 time= 7.277475873629252 FOBEST= 0.055112746809050095\n",
            "k= 11 time= 7.942272492249807 FOBEST= 0.1346212176567995\n",
            "k= 12 time= 8.600545112291972 FOBEST= 0.07906670683228484\n",
            "k= 13 time= 9.25937563975652 FOBEST= 0.09926904425702296\n",
            "k= 14 time= 9.91652689774831 FOBEST= 0.03288953233904089\n",
            "k= 15 time= 10.582671678066253 FOBEST= 0.029519422198759485\n",
            "k= 16 time= 11.249183038870493 FOBEST= 0.07313838674823625\n",
            "k= 17 time= 11.908678801854451 FOBEST= 0.11805371684630331\n",
            "k= 18 time= 12.574937041600545 FOBEST= 0.12177268548480412\n",
            "k= 19 time= 13.241635473569234 FOBEST= 0.06620840476432086\n",
            "k= 20 time= 13.912396899859111 FOBEST= 0.043323030101867555\n",
            "k= 21 time= 14.577333895365397 FOBEST= 0.02374832001971362\n",
            "k= 22 time= 15.240570783615112 FOBEST= 0.09793228591186934\n",
            "k= 23 time= 15.905019116401672 FOBEST= 0.07088046391031227\n",
            "k= 24 time= 16.569667959213255 FOBEST= 0.04406005545596152\n",
            "k= 25 time= 17.232845441500345 FOBEST= 0.05686364529909502\n",
            "k= 26 time= 17.898837506771088 FOBEST= 0.070818427853315\n",
            "k= 27 time= 18.56358019510905 FOBEST= 0.07105802398388522\n",
            "k= 28 time= 19.223338870207467 FOBEST= 0.0807795294104024\n",
            "k= 29 time= 19.881114526589712 FOBEST= 0.17500199925564072\n",
            "k= 30 time= 20.545320848623913 FOBEST= 0.030411602928290645\n",
            "k= 31 time= 21.20869394938151 FOBEST= 0.05220632383369381\n",
            "k= 32 time= 21.872454579671224 FOBEST= 0.07623599623887836\n",
            "k= 33 time= 22.533508455753328 FOBEST= 0.1503979952985454\n",
            "k= 34 time= 23.19483625094096 FOBEST= 0.10445308672041749\n",
            "k= 35 time= 23.85747622648875 FOBEST= 0.005701201830796107\n",
            "k= 36 time= 24.519676295916238 FOBEST= 0.10813313757201333\n",
            "k= 37 time= 25.179242642720542 FOBEST= 0.01881374766367433\n",
            "k= 38 time= 25.837756637732188 FOBEST= 0.10565750689288521\n",
            "k= 39 time= 26.495384335517883 FOBEST= 0.0926616474431805\n",
            "k= 40 time= 27.14928851524989 FOBEST= 0.04457438415334411\n",
            "k= 41 time= 27.807487614949544 FOBEST= 0.09664485423545673\n",
            "k= 42 time= 28.464766760667164 FOBEST= 0.05180816928885924\n",
            "k= 43 time= 29.123864924907686 FOBEST= 0.13883749444430712\n",
            "k= 44 time= 29.783182418346406 FOBEST= 0.09036657458159436\n",
            "k= 45 time= 30.44066721200943 FOBEST= 0.09545028066032626\n",
            "k= 46 time= 31.09846416314443 FOBEST= 0.045060808614765885\n",
            "k= 47 time= 31.756980872154237 FOBEST= 0.16981663577785355\n",
            "k= 48 time= 32.41630677779516 FOBEST= 0.07992683737324371\n",
            "k= 49 time= 33.073745588461556 FOBEST= 0.05984606465491346\n"
          ],
          "name": "stdout"
        }
      ]
    },
    {
      "cell_type": "code",
      "metadata": {
        "id": "TLEE0UrZSvJF",
        "colab": {
          "base_uri": "https://localhost:8080/"
        },
        "outputId": "2be120bc-7323-4e1f-d5f0-8c771a8fb037"
      },
      "source": [
        "#len(X2[1,:])\r\n",
        "print(cols)"
      ],
      "execution_count": 16,
      "outputs": [
        {
          "output_type": "stream",
          "text": [
            "10\n"
          ],
          "name": "stdout"
        }
      ]
    },
    {
      "cell_type": "code",
      "metadata": {
        "id": "k3p9TGsx1OCu"
      },
      "source": [
        "NOMES=['DIVERSIDADE (DI)',  'DI RELATIVO','FRAC Its',\n",
        "           'VELOC FOBJ','VELOC X','NP','Fo','CRo','fmin','fmax',\n",
        "           'AD_fmin','AD_fmax','DELTA FOBJ','DELTA VX','r_fitness',\n",
        "           'F','CR']\n",
        "# BEST_INDEX= BEST_AGENTS[BEST_AGENTS[:,-1].argmin()]  \n",
        "BEST_INDEX = np.argmin(BEST_AGENTS[:,-1])\n",
        "df=pd.DataFrame(MAT_stat[BEST_INDEX], columns=NOMES)\n",
        "\n"
      ],
      "execution_count": 17,
      "outputs": []
    },
    {
      "cell_type": "code",
      "metadata": {
        "id": "jIHiKR_t1xxs",
        "colab": {
          "base_uri": "https://localhost:8080/"
        },
        "outputId": "e565238c-07d0-4133-a6c2-50ef6712f1bc"
      },
      "source": [
        "pd.set_option('display.max_columns', 30)  \n",
        "print(df)"
      ],
      "execution_count": 18,
      "outputs": [
        {
          "output_type": "stream",
          "text": [
            "      DIVERSIDADE (DI)  DI RELATIVO  FRAC Its  VELOC FOBJ  VELOC X    NP  \\\n",
            "0             2.181830     0.956495   0.00033         1.0      0.0  33.0   \n",
            "1             2.061420     0.903709   0.00066         2.0      2.0  33.0   \n",
            "2             1.947523     0.853777   0.00099         1.0      0.0  33.0   \n",
            "3             1.908185     0.836532   0.00132         1.0      0.0  33.0   \n",
            "4             1.803115     0.790470   0.00165         1.0      2.0  33.0   \n",
            "...                ...          ...       ...         ...      ...   ...   \n",
            "1995          0.413507     0.181278   0.65868         1.0      2.0  33.0   \n",
            "1996          0.406713     0.178299   0.65901         2.0      2.0  33.0   \n",
            "1997          0.413774     0.181395   0.65934         1.0      2.0  33.0   \n",
            "1998          0.406418     0.178170   0.65967         1.0      2.0  33.0   \n",
            "1999          0.413980     0.181485   0.66000         1.0      2.0  33.0   \n",
            "\n",
            "            Fo       CRo      fmin       fmax  AD_fmin  AD_fmax  DELTA FOBJ  \\\n",
            "0     0.250000  0.250000  9.804625  48.229558      1.0      1.0         0.0   \n",
            "1     0.429343  0.170292  1.971928  46.322904      1.0      1.0         0.0   \n",
            "2     0.235342  0.118994  1.719306  42.459238      1.0      1.0         0.0   \n",
            "3     0.386040  0.169791  1.146759  42.377290      1.0      1.0         0.0   \n",
            "4     0.224573  0.122446  1.576270  37.424575      1.0      1.0         0.0   \n",
            "...        ...       ...       ...        ...      ...      ...         ...   \n",
            "1995  0.334398  0.129496  0.067021   0.991211      1.0      1.0         0.0   \n",
            "1996  0.273779  0.141233  0.021850   0.982727      1.0      1.0         0.0   \n",
            "1997  0.310390  0.153824  0.034004   0.997243      1.0      1.0         0.0   \n",
            "1998  0.352617  0.167776  0.069963   0.953512      1.0      1.0         0.0   \n",
            "1999  0.399737  0.147847  0.082441   1.090634      1.0      1.0         0.0   \n",
            "\n",
            "      DELTA VX  r_fitness         F        CR  \n",
            "0          0.0   0.796709  0.429343  0.170292  \n",
            "1          0.0   0.957431  0.235342  0.118994  \n",
            "2          0.0   0.959507  0.386040  0.169791  \n",
            "3          0.0   0.972939  0.224573  0.122446  \n",
            "4          0.0   0.957881  0.357711  0.170841  \n",
            "...        ...        ...       ...       ...  \n",
            "1995       0.0   0.932384  0.273779  0.141233  \n",
            "1996       0.0   0.977766  0.310390  0.153824  \n",
            "1997       0.0   0.965902  0.352617  0.167776  \n",
            "1998       0.0   0.926626  0.399737  0.147847  \n",
            "1999       0.0   0.924410  0.327190  0.129959  \n",
            "\n",
            "[2000 rows x 17 columns]\n"
          ],
          "name": "stdout"
        }
      ]
    },
    {
      "cell_type": "code",
      "metadata": {
        "id": "bx0ywpMtAAjw",
        "colab": {
          "base_uri": "https://localhost:8080/",
          "height": 296
        },
        "outputId": "22f79d8f-97e9-4993-8030-dfe58a4ae830"
      },
      "source": [
        "plt.plot(df['FRAC Its'],df['CR'])\n",
        "plt.xlabel('Iteração/Total')\n",
        "plt.ylabel('CR')"
      ],
      "execution_count": 19,
      "outputs": [
        {
          "output_type": "execute_result",
          "data": {
            "text/plain": [
              "Text(0, 0.5, 'CR')"
            ]
          },
          "metadata": {
            "tags": []
          },
          "execution_count": 19
        },
        {
          "output_type": "display_data",
          "data": {
            "image/png": "[encoded data removed]",
            "text/plain": [
              "<Figure size 432x288 with 1 Axes>"
            ]
          },
          "metadata": {
            "tags": [],
            "needs_background": "light"
          }
        }
      ]
    },
    {
      "cell_type": "code",
      "metadata": {
        "id": "BvPFvbDvteDC",
        "colab": {
          "base_uri": "https://localhost:8080/",
          "height": 295
        },
        "outputId": "fbb82872-57ef-4126-f6c7-b283f9d7beb9"
      },
      "source": [
        "\n",
        "fig, ax = plt.subplots()\n",
        "ax.plot(df['FRAC Its'],df['F'],label='F')\n",
        "ax.set_xlabel('Iteração/Total')\n",
        "ax.set_ylabel('Parâmetros')\n",
        "ax.plot(df['FRAC Its'],df['CR'],'-r', label='CR')\n",
        "nome=Fun.__name__+'  M=Diversidade'+ '  D='+str(dim)\n",
        "ax.set_title(nome)\n",
        "leg = ax.legend()\n"
      ],
      "execution_count": 20,
      "outputs": [
        {
          "output_type": "display_data",
          "data": {
            "image/png": "[encoded data removed]",
            "text/plain": [
              "<Figure size 432x288 with 1 Axes>"
            ]
          },
          "metadata": {
            "tags": [],
            "needs_background": "light"
          }
        }
      ]
    },
    {
      "cell_type": "code",
      "metadata": {
        "id": "htooaGpDia_0",
        "colab": {
          "base_uri": "https://localhost:8080/",
          "height": 312
        },
        "outputId": "a8515a80-9ef7-4472-c610-feb13bcd3fd4"
      },
      "source": [
        "f, axarr = plt.subplots(2, sharex=True)\n",
        "axarr[0].plot(df['FRAC Its'],df['F'])\n",
        "axarr[0].set_ylabel('F')\n",
        "axarr[1].plot(df['FRAC Its'],df['CR'])\n",
        "axarr[1].set_ylabel('CR')\n",
        "axarr[1].set_xlabel('Iteração/Total')\n",
        "nome=Fun.__name__+'_Diversidade_'+ 'D='+str(dim)\n",
        "axarr[0].set_title(nome)\n"
      ],
      "execution_count": 21,
      "outputs": [
        {
          "output_type": "execute_result",
          "data": {
            "text/plain": [
              "Text(0.5, 1.0, 'Noisy_Quartic_Diversidade_D=10')"
            ]
          },
          "metadata": {
            "tags": []
          },
          "execution_count": 21
        },
        {
          "output_type": "display_data",
          "data": {
            "image/png": "[encoded data removed]",
            "text/plain": [
              "<Figure size 432x288 with 2 Axes>"
            ]
          },
          "metadata": {
            "tags": [],
            "needs_background": "light"
          }
        }
      ]
    },
    {
      "cell_type": "code",
      "metadata": {
        "id": "lNSN5X-wskcx",
        "colab": {
          "base_uri": "https://localhost:8080/"
        },
        "outputId": "a7d8e0d1-9938-4041-92a6-93d1e08badd4"
      },
      "source": [
        "nome='_ANN_Div3x4_Fo-'+str(Fi)+'_CRo-'+str(CRi)+'_D-'+str(dim)+'_Interv-'+str(ITE)\n",
        "print('H-FRANNK - ','TOTAL=',TOTAL,'Iterações=',ITE*its,'Dim=', PAR,\"Min/Max=\",MIN[0],\"/\",MAX[0],'_',Fun.__name__)\n",
        "print(nome, '\\n')\n",
        "#print('BEST: ',BEST)\n",
        "#print('MÉDIA: ',MEAN)\n",
        "print('MÉDIA: ',MEAN[-1])\n",
        "print('MIN __:',MINFO)\n",
        "print('MAX__: ',MAXFO)\n",
        "print('STD __:',STD)\n",
        "print(\"Tempo Médio= %.3f segundos ---\" % (TIME))\n",
        "print(RUNS,'Rodadas') \n",
        "print()\n",
        "print('BEST: ',BEST)\n",
        "# print('melhor=',BEST_AGENTS[BEST_INDEX])"
      ],
      "execution_count": 22,
      "outputs": [
        {
          "output_type": "stream",
          "text": [
            "H-FRANNK -  TOTAL= 100000 Iterações= 2000 Dim= 10 Min/Max= -1.28 / 1.28 _ Noisy_Quartic\n",
            "_ANN_Div3x4_Fo-0.25_CRo-0.25_D-10_Interv-2000 \n",
            "\n",
            "MÉDIA:  0.07896820938196618\n",
            "MIN __: 0.005701201830796107\n",
            "MAX__:  0.17500199925564072\n",
            "STD __: 0.03837189694352872\n",
            "Tempo Médio= 39.689 segundos ---\n",
            "50 Rodadas\n",
            "\n",
            "BEST:  [ 0.15014296 -0.09343432 -0.04818902 -0.05965762  0.03519166 -0.03753731\n",
            "  0.13538795 -0.11652711  0.03999177 -0.09329081  0.0057012 ]\n"
          ],
          "name": "stdout"
        }
      ]
    }
  ]
}