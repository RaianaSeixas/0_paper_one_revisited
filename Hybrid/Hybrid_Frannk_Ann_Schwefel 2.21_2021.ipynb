{
  "nbformat": 4,
  "nbformat_minor": 0,
  "metadata": {
    "colab": {
      "name": "Hybrid_Frannk_Ann_fev_09_2021.ipynb",
      "provenance": [],
      "collapsed_sections": [],
      "include_colab_link": true
    },
    "kernelspec": {
      "name": "python3",
      "display_name": "Python 3"
    },
    "language_info": {
      "codemirror_mode": {
        "name": "ipython",
        "version": 3
      },
      "file_extension": ".py",
      "mimetype": "text/x-python",
      "name": "python",
      "nbconvert_exporter": "python",
      "pygments_lexer": "ipython3",
      "version": "3.7.3"
    }
  },
  "cells": [
    {
      "cell_type": "markdown",
      "metadata": {
        "id": "view-in-github",
        "colab_type": "text"
      },
      "source": [
        "<a href=\"https://colab.research.google.com/github/ucfilho/Raianars_paper_one_revisited/blob/main/Hybrid/Hybrid_Frannk_Ann_Schwefel%202.21_2021.ipynb\" target=\"_parent\"><img src=\"https://colab.research.google.com/assets/colab-badge.svg\" alt=\"Open In Colab\"/></a>"
      ]
    },
    {
      "cell_type": "code",
      "metadata": {
        "colab": {
          "base_uri": "https://localhost:8080/"
        },
        "id": "c59cDVKoxDLX",
        "outputId": "0e83afd0-6bdf-4e96-dc32-ac4193fa3b55"
      },
      "source": [
        "############################### Importar códigos\r\n",
        "!git clone https://github.com/ucfilho/optim_raianars_Insight/ #clonar do Github\r\n",
        "%cd optim_raianars_Insight\r\n",
        "import de_soma_Insight\r\n",
        "import de_bounds_matriz\r\n",
        "import Go2Ann"
      ],
      "execution_count": 16,
      "outputs": [
        {
          "output_type": "stream",
          "text": [
            "Cloning into 'optim_raianars_Insight'...\n",
            "remote: Enumerating objects: 9, done.\u001b[K\n",
            "remote: Counting objects:  11% (1/9)\u001b[K\rremote: Counting objects:  22% (2/9)\u001b[K\rremote: Counting objects:  33% (3/9)\u001b[K\rremote: Counting objects:  44% (4/9)\u001b[K\rremote: Counting objects:  55% (5/9)\u001b[K\rremote: Counting objects:  66% (6/9)\u001b[K\rremote: Counting objects:  77% (7/9)\u001b[K\rremote: Counting objects:  88% (8/9)\u001b[K\rremote: Counting objects: 100% (9/9)\u001b[K\rremote: Counting objects: 100% (9/9), done.\u001b[K\n",
            "remote: Compressing objects:  11% (1/9)\u001b[K\rremote: Compressing objects:  22% (2/9)\u001b[K\rremote: Compressing objects:  33% (3/9)\u001b[K\rremote: Compressing objects:  44% (4/9)\u001b[K\rremote: Compressing objects:  55% (5/9)\u001b[K\rremote: Compressing objects:  66% (6/9)\u001b[K\rremote: Compressing objects:  77% (7/9)\u001b[K\rremote: Compressing objects:  88% (8/9)\u001b[K\rremote: Compressing objects: 100% (9/9)\u001b[K\rremote: Compressing objects: 100% (9/9), done.\u001b[K\n",
            "Receiving objects:   0% (1/323)   \rReceiving objects:   1% (4/323)   \rReceiving objects:   2% (7/323)   \rReceiving objects:   3% (10/323)   \rReceiving objects:   4% (13/323)   \rReceiving objects:   5% (17/323)   \rReceiving objects:   6% (20/323)   \rReceiving objects:   7% (23/323)   \rReceiving objects:   8% (26/323)   \rReceiving objects:   9% (30/323)   \rReceiving objects:  10% (33/323)   \rReceiving objects:  11% (36/323)   \rReceiving objects:  12% (39/323)   \rReceiving objects:  13% (42/323)   \rReceiving objects:  14% (46/323)   \rReceiving objects:  15% (49/323)   \rReceiving objects:  16% (52/323)   \rReceiving objects:  17% (55/323)   \rReceiving objects:  18% (59/323)   \rReceiving objects:  19% (62/323)   \rReceiving objects:  20% (65/323)   \rReceiving objects:  21% (68/323)   \rReceiving objects:  22% (72/323)   \rReceiving objects:  23% (75/323)   \rReceiving objects:  24% (78/323)   \rReceiving objects:  25% (81/323)   \rReceiving objects:  26% (84/323)   \rReceiving objects:  27% (88/323)   \rReceiving objects:  28% (91/323)   \rReceiving objects:  29% (94/323)   \rReceiving objects:  30% (97/323)   \rReceiving objects:  31% (101/323)   \rReceiving objects:  32% (104/323)   \rReceiving objects:  33% (107/323)   \rReceiving objects:  34% (110/323)   \rReceiving objects:  35% (114/323)   \rReceiving objects:  36% (117/323)   \rReceiving objects:  37% (120/323)   \rReceiving objects:  38% (123/323)   \rReceiving objects:  39% (126/323)   \rReceiving objects:  40% (130/323)   \rReceiving objects:  41% (133/323)   \rReceiving objects:  42% (136/323)   \rReceiving objects:  43% (139/323)   \rReceiving objects:  44% (143/323)   \rReceiving objects:  45% (146/323)   \rReceiving objects:  46% (149/323)   \rReceiving objects:  47% (152/323)   \rReceiving objects:  48% (156/323)   \rReceiving objects:  49% (159/323)   \rReceiving objects:  50% (162/323)   \rReceiving objects:  51% (165/323)   \rReceiving objects:  52% (168/323)   \rReceiving objects:  53% (172/323)   \rReceiving objects:  54% (175/323)   \rReceiving objects:  55% (178/323)   \rReceiving objects:  56% (181/323)   \rReceiving objects:  57% (185/323)   \rReceiving objects:  58% (188/323)   \rremote: Total 323 (delta 3), reused 0 (delta 0), pack-reused 314\u001b[K\n",
            "Receiving objects:  59% (191/323)   \rReceiving objects:  60% (194/323)   \rReceiving objects:  61% (198/323)   \rReceiving objects:  62% (201/323)   \rReceiving objects:  63% (204/323)   \rReceiving objects:  64% (207/323)   \rReceiving objects:  65% (210/323)   \rReceiving objects:  66% (214/323)   \rReceiving objects:  67% (217/323)   \rReceiving objects:  68% (220/323)   \rReceiving objects:  69% (223/323)   \rReceiving objects:  70% (227/323)   \rReceiving objects:  71% (230/323)   \rReceiving objects:  72% (233/323)   \rReceiving objects:  73% (236/323)   \rReceiving objects:  74% (240/323)   \rReceiving objects:  75% (243/323)   \rReceiving objects:  76% (246/323)   \rReceiving objects:  77% (249/323)   \rReceiving objects:  78% (252/323)   \rReceiving objects:  79% (256/323)   \rReceiving objects:  80% (259/323)   \rReceiving objects:  81% (262/323)   \rReceiving objects:  82% (265/323)   \rReceiving objects:  83% (269/323)   \rReceiving objects:  84% (272/323)   \rReceiving objects:  85% (275/323)   \rReceiving objects:  86% (278/323)   \rReceiving objects:  87% (282/323)   \rReceiving objects:  88% (285/323)   \rReceiving objects:  89% (288/323)   \rReceiving objects:  90% (291/323)   \rReceiving objects:  91% (294/323)   \rReceiving objects:  92% (298/323)   \rReceiving objects:  93% (301/323)   \rReceiving objects:  94% (304/323)   \rReceiving objects:  95% (307/323)   \rReceiving objects:  96% (311/323)   \rReceiving objects:  97% (314/323)   \rReceiving objects:  98% (317/323)   \rReceiving objects:  99% (320/323)   \rReceiving objects: 100% (323/323)   \rReceiving objects: 100% (323/323), 312.84 KiB | 6.02 MiB/s, done.\n",
            "Resolving deltas:   0% (0/184)   \rResolving deltas:  21% (39/184)   \rResolving deltas:  47% (88/184)   \rResolving deltas:  60% (112/184)   \rResolving deltas:  69% (128/184)   \rResolving deltas:  73% (136/184)   \rResolving deltas:  76% (141/184)   \rResolving deltas:  89% (164/184)   \rResolving deltas:  94% (174/184)   \rResolving deltas:  95% (176/184)   \rResolving deltas:  97% (180/184)   \rResolving deltas:  98% (182/184)   \rResolving deltas: 100% (184/184)   \rResolving deltas: 100% (184/184), done.\n",
            "/content/optim_raianars_Insight/Raianars_paper_One/optim_raianars_Insight/Raianars_paper_One/ANN_read_matrix/optim_raianars_Insight\n"
          ],
          "name": "stdout"
        }
      ]
    },
    {
      "cell_type": "code",
      "metadata": {
        "id": "Va-6Xios8RjU",
        "colab": {
          "base_uri": "https://localhost:8080/"
        },
        "outputId": "3ac49681-6234-4513-eaa6-360b93df4d19"
      },
      "source": [
        "!git clone https://github.com/ucfilho/Raianars_paper_One #clonar do Github\n",
        "%cd Raianars_paper_One"
      ],
      "execution_count": 17,
      "outputs": [
        {
          "output_type": "stream",
          "text": [
            "Cloning into 'Raianars_paper_One'...\n",
            "remote: Enumerating objects: 113, done.\u001b[K\n",
            "remote: Counting objects: 100% (113/113), done.\u001b[K\n",
            "remote: Compressing objects: 100% (113/113), done.\u001b[K\n",
            "remote: Total 242 (delta 60), reused 0 (delta 0), pack-reused 129\u001b[K\n",
            "Receiving objects: 100% (242/242), 653.68 KiB | 10.21 MiB/s, done.\n",
            "Resolving deltas: 100% (132/132), done.\n",
            "/content/optim_raianars_Insight/Raianars_paper_One/optim_raianars_Insight/Raianars_paper_One/ANN_read_matrix/optim_raianars_Insight/Raianars_paper_One\n"
          ],
          "name": "stdout"
        }
      ]
    },
    {
      "cell_type": "code",
      "metadata": {
        "id": "_E15mKFURR6O"
      },
      "source": [
        "#import Go2Ann\n",
        "#import de_soma_Insight\n",
        "#import de_bounds_matriz\n",
        "#import Function\n",
        "#import Go2MinMax\n",
        "from AvaliaX import AvaliaX\n",
        "#from Function import FUN\n",
        "#from Function import Function.FUN\n",
        "#from Function import Function.Fun\n",
        "#from Function import Function\n",
        "from GeraIndices import GeraIndices\n",
        "import numpy as np\n",
        "import time\n",
        "import matplotlib.pyplot as plt\n",
        "from random import randint\n",
        "from scipy import optimize\n",
        "import pandas as pd\n",
        "from sklearn.metrics import confusion_matrix\n",
        "\n",
        "############################### DADOS DE ENTRADA \n",
        "RUNS=50 #NÚMERO DE RODADAS\n",
        "Fc=0.1 # fator de correcao parametros da ANN\n",
        "its=1 #10 # quantas vezes vai usar o NPAR antes de alterar de novo\n",
        "ITE=2000 #10 # PONTOS quantas vezes vai alteral NPAR \n",
        "NPAR=100\n",
        "mut=0.5\n",
        "crossp=0.5\n",
        "Fi=mut;CRi=crossp;# para impressão\n",
        "fator = 1.0/3.0; \n",
        "\n"
      ],
      "execution_count": 18,
      "outputs": []
    },
    {
      "cell_type": "code",
      "metadata": {
        "colab": {
          "base_uri": "https://localhost:8080/"
        },
        "id": "ik3ZjkUKycUK",
        "outputId": "fe25a753-c848-4825-8482-daed0e26b001"
      },
      "source": [
        "############################### Importar códigos\r\n",
        "!git clone https://github.com/ucfilho/optim_raianars_Insight/ #clonar do Github\r\n",
        "%cd optim_raianars_Insight\r\n",
        "import de_soma_Insight\r\n",
        "import de_bounds_matriz"
      ],
      "execution_count": 19,
      "outputs": [
        {
          "output_type": "stream",
          "text": [
            "Cloning into 'optim_raianars_Insight'...\n",
            "remote: Enumerating objects: 9, done.\u001b[K\n",
            "remote: Counting objects: 100% (9/9), done.\u001b[K\n",
            "remote: Compressing objects: 100% (9/9), done.\u001b[K\n",
            "remote: Total 323 (delta 3), reused 0 (delta 0), pack-reused 314\u001b[K\n",
            "Receiving objects: 100% (323/323), 312.84 KiB | 6.95 MiB/s, done.\n",
            "Resolving deltas: 100% (184/184), done.\n",
            "/content/optim_raianars_Insight/Raianars_paper_One/optim_raianars_Insight/Raianars_paper_One/ANN_read_matrix/optim_raianars_Insight/Raianars_paper_One/optim_raianars_Insight\n"
          ],
          "name": "stdout"
        }
      ]
    },
    {
      "cell_type": "code",
      "metadata": {
        "colab": {
          "base_uri": "https://localhost:8080/"
        },
        "id": "lJogRB30yepw",
        "outputId": "43a23a14-531b-4243-971f-e31f83fd33ec"
      },
      "source": [
        "!git clone https://github.com/ucfilho/Raianars_paper_One #clonar do Github\r\n",
        "%cd Raianars_paper_One"
      ],
      "execution_count": 20,
      "outputs": [
        {
          "output_type": "stream",
          "text": [
            "Cloning into 'Raianars_paper_One'...\n",
            "remote: Enumerating objects: 113, done.\u001b[K\n",
            "remote: Counting objects: 100% (113/113), done.\u001b[K\n",
            "remote: Compressing objects: 100% (113/113), done.\u001b[K\n",
            "remote: Total 242 (delta 60), reused 0 (delta 0), pack-reused 129\u001b[K\n",
            "Receiving objects: 100% (242/242), 653.68 KiB | 9.34 MiB/s, done.\n",
            "Resolving deltas: 100% (132/132), done.\n",
            "/content/optim_raianars_Insight/Raianars_paper_One/optim_raianars_Insight/Raianars_paper_One/ANN_read_matrix/optim_raianars_Insight/Raianars_paper_One/optim_raianars_Insight/Raianars_paper_One\n"
          ],
          "name": "stdout"
        }
      ]
    },
    {
      "cell_type": "code",
      "metadata": {
        "id": "P8LIRCsdywOX"
      },
      "source": [
        "############################### Função\r\n",
        "import Function\r\n",
        "#'''  \r\n",
        "############################### Função\r\n",
        "dim=10\r\n",
        "#fchoice='Rastrigin' #fchoice='Michalewicz' #fchoice='Schwefel' #'Schwefel_222'\r\n",
        "fchoice='Schwefel_221'\r\n",
        "Fun=Function.Schwefel_221\r\n",
        "MAX=np.repeat(100,dim)\r\n",
        "MIN=np.repeat(-100,dim)\r\n",
        " #fx=\r\n",
        "#'''\r\n",
        "#####################################\r\n",
        "PAR=len(MAX) #NUM DE PARAMETROS A SER OTIMIZADOS\r\n",
        "\r\n",
        "bounds=[]\r\n",
        "for k in range(len(MAX)):\r\n",
        "  bounds.append((MIN[k],MAX[k]))"
      ],
      "execution_count": 21,
      "outputs": []
    },
    {
      "cell_type": "code",
      "metadata": {
        "id": "qTINtQ1cosZK",
        "colab": {
          "base_uri": "https://localhost:8080/"
        },
        "outputId": "04a23632-1f32-4cc5-ce04-d61ca7ff0d4e"
      },
      "source": [
        "!git clone https://github.com/ucfilho/ANN_read_matrix #clonar do Github\n",
        "%cd ANN_read_matrix"
      ],
      "execution_count": 22,
      "outputs": [
        {
          "output_type": "stream",
          "text": [
            "Cloning into 'ANN_read_matrix'...\n",
            "remote: Enumerating objects: 20, done.\u001b[K\n",
            "remote: Counting objects: 100% (20/20), done.\u001b[K\n",
            "remote: Compressing objects: 100% (18/18), done.\u001b[K\n",
            "remote: Total 20 (delta 5), reused 0 (delta 0), pack-reused 0\u001b[K\n",
            "Unpacking objects: 100% (20/20), done.\n",
            "/content/optim_raianars_Insight/Raianars_paper_One/optim_raianars_Insight/Raianars_paper_One/ANN_read_matrix/optim_raianars_Insight/Raianars_paper_One/optim_raianars_Insight/Raianars_paper_One/ANN_read_matrix\n"
          ],
          "name": "stdout"
        }
      ]
    },
    {
      "cell_type": "code",
      "metadata": {
        "id": "QiQLYOoNoyCw"
      },
      "source": [
        "ANN_F=pd.read_csv('ANN_INSIGHT_Valor_F.csv')"
      ],
      "execution_count": 23,
      "outputs": []
    },
    {
      "cell_type": "code",
      "metadata": {
        "id": "uHtW2amaDzFv"
      },
      "source": [
        "ANN_CR=pd.read_csv('ANN_INSIGHT_CR.csv')"
      ],
      "execution_count": 24,
      "outputs": []
    },
    {
      "cell_type": "code",
      "metadata": {
        "id": "EH6h_vke2yu1"
      },
      "source": [
        "syn0_F,syn1_F,X_max_F,X_min_F=Go2Ann.GetMatriz(ANN_F)"
      ],
      "execution_count": 25,
      "outputs": []
    },
    {
      "cell_type": "code",
      "metadata": {
        "id": "WW_3ZWJXD60i"
      },
      "source": [
        "syn0_CR,syn1_CR,X_max_CR,X_min_CR=Go2Ann.GetMatriz(ANN_CR)"
      ],
      "execution_count": 26,
      "outputs": []
    },
    {
      "cell_type": "code",
      "metadata": {
        "id": "b4gwBvVTyaXh"
      },
      "source": [
        "ANN_CR=pd.read_csv('ANN_INSIGHT_CR.csv')"
      ],
      "execution_count": 27,
      "outputs": []
    },
    {
      "cell_type": "code",
      "metadata": {
        "id": "6jL8MxpHvk-Y"
      },
      "source": [
        "fields = ['DI RELATIVO','FRAC Its','Fo','CRo']"
      ],
      "execution_count": 28,
      "outputs": []
    },
    {
      "cell_type": "code",
      "metadata": {
        "id": "Mb3LmbSmj9v7",
        "colab": {
          "base_uri": "https://localhost:8080/"
        },
        "outputId": "216d0e46-947a-40d2-ba7a-8d1109333056"
      },
      "source": [
        "##################################### \n",
        "\n",
        "TOTAL=10*dim*its*ITE\n",
        "TOTAL=int(TOTAL/2)   # CONFERIR SE ESTE EH O MELHOR LUGAR\n",
        "\n",
        "dimensions=len(MAX)\n",
        "start_time = time.time() #INICIALIZA CONTAGEM DO TEMPO\n",
        "\n",
        "\n",
        "PAR=dim\n",
        "fobj=Fun\n",
        "\n",
        "MAX_P=np.zeros(ITE) # ATENCAO para variar F e Cr MAX_P passa a ser 3 vezes maior\n",
        "MIN_P=np.zeros(ITE) # ATENCAO para variar F e Cr MIN_P passa a ser 3 vezes maior\n",
        "\n",
        "for i in range(dim):\n",
        "  MAX_P[i]=MAX[i] \n",
        "  MIN_P[i]=MIN[i]\n",
        "\n",
        "rodadas=1\n",
        "NPAR1=int(fator*NPAR);print('Npar1=',NPAR1);print('frac=',fator)\n",
        "NPAR2=NPAR-NPAR1;print('Npar2=',NPAR2);print('Npar=',NPAR)\n",
        "\n",
        "cols=dim\n",
        "\n",
        "X1=np.zeros((NPAR1,cols)) # X1 is Frannk population\n",
        "for i in range(NPAR1):\n",
        "  for j in range(cols):\n",
        "    r=np.random.random()\n",
        "    X1[i,j]=r*(MAX[j]-MIN[j])+MIN[j]\n",
        "    \n",
        "X2=np.zeros((NPAR2,cols)) # X2 is population DE (default DE)\n",
        "for i in range(NPAR2):\n",
        "  for j in range(cols):\n",
        "    r=np.random.random()\n",
        "    X2[i,j]=r*(MAX[j]-MIN[j])+MIN[j]\n",
        " ############################################################\n",
        "  #bounds=[(5*dim, 15*dim)] * PONTOS # ITE\n",
        "  #bounds=[(3*dim, 12*dim)] * PONTOS # ITE\n",
        "  #bounds=[(4*dim, 16*dim)] * PONTOS\n",
        "  \n",
        "  # nao pode ser assim pq o bounds vale p o DE nao dos parametros\n",
        "  #p=int(TOTAL/its/ITE) \n",
        "  #bounds=[(p, p)] * PONTOS\n"
      ],
      "execution_count": 29,
      "outputs": [
        {
          "output_type": "stream",
          "text": [
            "Npar1= 33\n",
            "frac= 0.3333333333333333\n",
            "Npar2= 67\n",
            "Npar= 100\n"
          ],
          "name": "stdout"
        }
      ]
    },
    {
      "cell_type": "code",
      "metadata": {
        "id": "rnX8ttNopd1G",
        "colab": {
          "base_uri": "https://localhost:8080/"
        },
        "outputId": "8ce34c06-ade4-468b-abc6-ce65eeeaa310"
      },
      "source": [
        "\n",
        "start_time = time.time()\n",
        "BEST_AGENTS=[]\n",
        "MAT_stat=[]\n",
        "for iii in range(RUNS):\n",
        "    MAT=[] \n",
        "    mut=Fi\n",
        "    crossp=CRi\n",
        "    SOMA=0\n",
        "    pop = np.random.rand(NPAR, dim)\n",
        "    diff=np.zeros(PAR)\n",
        "    X1=np.zeros((NPAR1,cols)) # X1 is Frannk population\n",
        "    for i in range(NPAR1):\n",
        "      for j in range(cols):\n",
        "        r=np.random.random()\n",
        "        X1[i,j]=r*(MAX[j]-MIN[j])+MIN[j]\n",
        "        \n",
        "    X2=np.zeros((NPAR2,cols)) # X2 is population DE (default DE)\n",
        "    for i in range(NPAR2):\n",
        "      for j in range(cols):\n",
        "        r=np.random.random()\n",
        "        X2[i,j]=r*(MAX[j]-MIN[j])+MIN[j]\n",
        "    \n",
        "    DIo=1e99\n",
        "  \n",
        "    CRo=crossp;Fo=mut;\n",
        "    Fitness = np.asarray([Fun(ind) for ind in X1])\n",
        "    XY,BEST_XY,BESTo,FOBESTo=AvaliaX(X1,Fitness)\n",
        "    nrow,ncol=X1.shape\n",
        "\n",
        "    QUANT=17;MAT_INDo=np.zeros((1,QUANT)); # quantos indices esta fazendo\n",
        "    MAT_INDo[0,5]=nrow  # VALOR NP\n",
        "    MAT_INDo[0,6]=Fo    # VALOR Fo   \n",
        "    MAT_INDo[0,7]=CRo   # VALOR CRo\n",
        "  \n",
        "    MAT_INDo=GeraIndices(X1,BESTo,FOBESTo,DIo,MAT_INDo,SOMA,TOTAL,syn0_F,\n",
        "                        syn1_F,X_max_F,X_min_F,syn0_CR,syn1_CR,X_max_CR,\n",
        "                        X_min_CR,Fc,fields,Fun)\n",
        "  \n",
        "    DIo=np.copy(MAT_INDo[0,0])\n",
        "    MAT_INDo[0,15]=Fo    # VALOR Fo   \n",
        "    MAT_INDo[0,16]=CRo   # VALOR CRo\n",
        "    #ind_crossp=ITE-1\n",
        "    \n",
        "\n",
        "    \n",
        "    for k in range(ITE):\n",
        "\n",
        "      X2,BEST2,FOBEST,XY,BEST_XY=de_bounds_matriz.de(bounds, mut, crossp,NPAR2, its,fobj,X2)\n",
        "      \n",
        "      \n",
        "      X1,BEST1,FOBEST,XY,BEST_XY,SOMA= de_soma_Insight.de(MAX,MIN, mut, crossp,NPAR1,its,Fun,X1,SOMA,TOTAL)\n",
        "\n",
        "      MAT_IND=GeraIndices(X1,BESTo,FOBESTo,DIo,MAT_INDo,SOMA,TOTAL,syn0_F,\n",
        "                          syn1_F,X_max_F,X_min_F,syn0_CR,syn1_CR,X_max_CR,\n",
        "                          X_min_CR,Fc,fields,Fun)\n",
        "    \n",
        "      BESTo=np.copy(BEST1);FOBESTo=np.copy(FOBEST);\n",
        "      MAT.append(MAT_IND.ravel())\n",
        "    \n",
        "      MAT_INDo[0,6]=MAT_IND[0,15]   # VALOR Fo   \n",
        "      MAT_INDo[0,7]=MAT_IND[0,16]   # VALOR CRo\n",
        "      mut=MAT_IND[0,15]\n",
        "      crossp=MAT_IND[0,16]\n",
        "      X1[0,:] = BEST2;\n",
        "      X1[NPAR1-1,:] = BEST1;\n",
        "      X2[0,:] = BEST1;\n",
        "      X2[NPAR2-1,:] = BEST2;\n",
        "    print('k=',iii,'time=',(time.time()-start_time)/60)  \n",
        "    BEST_AGENTS.append(BEST_XY)\n",
        "    MAT_stat.append(MAT)\n",
        "    #print(\"GlobalParam e Solucao:\", BEST,\"Funcao=\",FOBEST)\n",
        "    \n",
        "############################## Cálculo dos Parâmetros de Avaliação   \n",
        "TIME = (time.time() - start_time)/RUNS\n",
        "BEST_AGENTS=np.array(BEST_AGENTS)\n",
        "BEST_AGENTS_ST= BEST_AGENTS[BEST_AGENTS[:,-1].argsort()]\n",
        "BEST=BEST_AGENTS_ST[0]\n",
        "WORSE=BEST_AGENTS_ST[-1]\n",
        "MEAN=np.mean(BEST_AGENTS,axis=0)\n",
        "MAXFO=BEST_AGENTS[:,-1].max()\n",
        "MINFO=BEST_AGENTS[:,-1].min()\n",
        "STD=BEST_AGENTS[:,-1].std()"
      ],
      "execution_count": 30,
      "outputs": [
        {
          "output_type": "stream",
          "text": [
            "k= 0 time= 0.5441469709078471\n",
            "k= 1 time= 1.090281641483307\n",
            "k= 2 time= 1.6414079109827677\n",
            "k= 3 time= 2.193581744035085\n",
            "k= 4 time= 2.721395397186279\n",
            "k= 5 time= 3.2657719254493713\n",
            "k= 6 time= 3.81214382648468\n",
            "k= 7 time= 4.358855919043223\n",
            "k= 8 time= 4.965718905131022\n",
            "k= 9 time= 5.5134206732114155\n",
            "k= 10 time= 6.05950604279836\n",
            "k= 11 time= 6.603183376789093\n",
            "k= 12 time= 7.149827325344086\n",
            "k= 13 time= 7.697776027520498\n",
            "k= 14 time= 8.223188010851542\n",
            "k= 15 time= 8.770505468050638\n",
            "k= 16 time= 9.315654408931731\n",
            "k= 17 time= 9.863759779930115\n",
            "k= 18 time= 10.394427247842152\n",
            "k= 19 time= 10.944628055890401\n",
            "k= 20 time= 11.471489282449086\n",
            "k= 21 time= 12.021142443021139\n",
            "k= 22 time= 12.580616966883342\n",
            "k= 23 time= 13.133193071683248\n",
            "k= 24 time= 13.699041970570882\n",
            "k= 25 time= 14.25132604042689\n",
            "k= 26 time= 14.875523094336192\n",
            "k= 27 time= 15.426600094636282\n",
            "k= 28 time= 15.969451502958934\n",
            "k= 29 time= 16.519692627588906\n",
            "k= 30 time= 17.06509684721629\n",
            "k= 31 time= 17.588374412059785\n",
            "k= 32 time= 18.13400092522303\n",
            "k= 33 time= 18.68156307140986\n",
            "k= 34 time= 19.226789220174155\n",
            "k= 35 time= 19.775763956705728\n",
            "k= 36 time= 20.296527481079103\n",
            "k= 37 time= 20.84130653937658\n",
            "k= 38 time= 21.384119959672294\n",
            "k= 39 time= 21.928800861040752\n",
            "k= 40 time= 22.46340434551239\n",
            "k= 41 time= 23.007880397637685\n",
            "k= 42 time= 23.55142996708552\n",
            "k= 43 time= 24.1000173330307\n",
            "k= 44 time= 24.64283641576767\n",
            "k= 45 time= 25.180165672302245\n",
            "k= 46 time= 25.73314377069473\n",
            "k= 47 time= 26.283501867453257\n",
            "k= 48 time= 26.820952991644543\n",
            "k= 49 time= 27.369246367613474\n"
          ],
          "name": "stdout"
        }
      ]
    },
    {
      "cell_type": "code",
      "metadata": {
        "colab": {
          "base_uri": "https://localhost:8080/"
        },
        "id": "TLEE0UrZSvJF",
        "outputId": "01c4f8a3-b5cb-4df8-fa62-07627e04afb5"
      },
      "source": [
        "#len(X2[1,:])\r\n",
        "print(cols)"
      ],
      "execution_count": 31,
      "outputs": [
        {
          "output_type": "stream",
          "text": [
            "10\n"
          ],
          "name": "stdout"
        }
      ]
    },
    {
      "cell_type": "code",
      "metadata": {
        "id": "k3p9TGsx1OCu"
      },
      "source": [
        "NOMES=['DIVERSIDADE (DI)',  'DI RELATIVO','FRAC Its',\n",
        "           'VELOC FOBJ','VELOC X','NP','Fo','CRo','fmin','fmax',\n",
        "           'AD_fmin','AD_fmax','DELTA FOBJ','DELTA VX','r_fitness',\n",
        "           'F','CR']\n",
        "# BEST_INDEX= BEST_AGENTS[BEST_AGENTS[:,-1].argmin()]  \n",
        "BEST_INDEX = np.argmin(BEST_AGENTS[:,-1])\n",
        "df=pd.DataFrame(MAT_stat[BEST_INDEX], columns=NOMES)\n",
        "\n"
      ],
      "execution_count": 32,
      "outputs": []
    },
    {
      "cell_type": "code",
      "metadata": {
        "id": "jIHiKR_t1xxs",
        "colab": {
          "base_uri": "https://localhost:8080/"
        },
        "outputId": "4a62a53b-e0a8-40bd-cea1-968f48a43211"
      },
      "source": [
        "pd.set_option('display.max_columns', 30)  \n",
        "print(df)"
      ],
      "execution_count": 33,
      "outputs": [
        {
          "output_type": "stream",
          "text": [
            "      DIVERSIDADE (DI)   DI RELATIVO  FRAC Its  VELOC FOBJ  VELOC X    NP  \\\n",
            "0         1.708677e+02  9.830528e-01   0.00033         1.0      2.0  33.0   \n",
            "1         1.642764e+02  9.451307e-01   0.00066         1.0      2.0  33.0   \n",
            "2         1.597941e+02  9.193429e-01   0.00099         1.0      2.0  33.0   \n",
            "3         1.563917e+02  8.997679e-01   0.00132         0.0      0.0  33.0   \n",
            "4         1.534806e+02  8.830194e-01   0.00165         1.0      2.0  33.0   \n",
            "...                ...           ...       ...         ...      ...   ...   \n",
            "1995      2.768980e-13  1.593076e-15   0.65868         1.0      1.0  33.0   \n",
            "1996      2.753442e-13  1.584137e-15   0.65901         0.0      0.0  33.0   \n",
            "1997      2.747478e-13  1.580705e-15   0.65934         0.0      0.0  33.0   \n",
            "1998      2.721638e-13  1.565839e-15   0.65967         1.0      1.0  33.0   \n",
            "1999      2.701264e-13  1.554118e-15   0.66000         0.0      0.0  33.0   \n",
            "\n",
            "            Fo       CRo          fmin          fmax  AD_fmin  AD_fmax  \\\n",
            "0     0.500000  0.500000  4.627955e+01  9.960563e+01      1.0      1.0   \n",
            "1     0.254237  0.336158  4.182167e+01  9.960563e+01      1.0      1.0   \n",
            "2     0.434452  0.230253  4.108219e+01  9.960563e+01      1.0      1.0   \n",
            "3     0.234747  0.159693  4.108219e+01  9.960563e+01      1.0      1.0   \n",
            "4     0.393160  0.231536  4.092463e+01  9.879547e+01      1.0      1.0   \n",
            "...        ...       ...           ...           ...      ...      ...   \n",
            "1995  0.336337  0.139216  1.349616e-14  4.500044e-13      1.0      1.0   \n",
            "1996  0.336337  0.139216  1.349616e-14  4.500044e-13      1.0      1.0   \n",
            "1997  0.336337  0.139216  1.349616e-14  4.500044e-13      1.0      1.0   \n",
            "1998  0.336337  0.139216  1.336565e-14  4.500044e-13      1.0      1.0   \n",
            "1999  0.336337  0.139216  1.336565e-14  4.500044e-13      1.0      1.0   \n",
            "\n",
            "      DELTA FOBJ  DELTA VX  r_fitness         F        CR  \n",
            "0            0.0       0.0   0.535372  0.254237  0.336158  \n",
            "1            0.0       0.0   0.580127  0.434452  0.230253  \n",
            "2            0.0       0.0   0.587552  0.234747  0.159693  \n",
            "3            0.0       0.0   0.587552  0.393160  0.231536  \n",
            "4            0.0       0.0   0.585764  0.653536  0.163386  \n",
            "...          ...       ...        ...       ...       ...  \n",
            "1995         0.0       0.0   0.970009  0.336337  0.139216  \n",
            "1996         0.0       0.0   0.970009  0.336337  0.139216  \n",
            "1997         0.0       0.0   0.970009  0.336337  0.139216  \n",
            "1998         0.0       0.0   0.970299  0.336337  0.139216  \n",
            "1999         0.0       0.0   0.970299  0.336337  0.139216  \n",
            "\n",
            "[2000 rows x 17 columns]\n"
          ],
          "name": "stdout"
        }
      ]
    },
    {
      "cell_type": "code",
      "metadata": {
        "id": "bx0ywpMtAAjw",
        "colab": {
          "base_uri": "https://localhost:8080/",
          "height": 299
        },
        "outputId": "36c1a036-7d65-47e0-fb22-a3346990b207"
      },
      "source": [
        "plt.plot(df['FRAC Its'],df['CR'])\n",
        "plt.xlabel('Iteração/Total')\n",
        "plt.ylabel('CR')"
      ],
      "execution_count": 34,
      "outputs": [
        {
          "output_type": "execute_result",
          "data": {
            "text/plain": [
              "Text(0, 0.5, 'CR')"
            ]
          },
          "metadata": {
            "tags": []
          },
          "execution_count": 34
        },
        {
          "output_type": "display_data",
          "data": {
            "image/png": "[encoded data removed]",
            "text/plain": [
              "<Figure size 432x288 with 1 Axes>"
            ]
          },
          "metadata": {
            "tags": [],
            "needs_background": "light"
          }
        }
      ]
    },
    {
      "cell_type": "code",
      "metadata": {
        "id": "BvPFvbDvteDC",
        "colab": {
          "base_uri": "https://localhost:8080/",
          "height": 295
        },
        "outputId": "de1e0827-36ad-42a5-d585-785d47a00d9d"
      },
      "source": [
        "\n",
        "fig, ax = plt.subplots()\n",
        "ax.plot(df['FRAC Its'],df['F'],label='F')\n",
        "ax.set_xlabel('Iteração/Total')\n",
        "ax.set_ylabel('Parâmetros')\n",
        "ax.plot(df['FRAC Its'],df['CR'],'-r', label='CR')\n",
        "nome=Fun.__name__+'  M=Diversidade'+ '  D='+str(dim)\n",
        "ax.set_title(nome)\n",
        "leg = ax.legend()\n"
      ],
      "execution_count": 35,
      "outputs": [
        {
          "output_type": "display_data",
          "data": {
            "image/png": "[encoded data removed]",
            "text/plain": [
              "<Figure size 432x288 with 1 Axes>"
            ]
          },
          "metadata": {
            "tags": [],
            "needs_background": "light"
          }
        }
      ]
    },
    {
      "cell_type": "code",
      "metadata": {
        "id": "htooaGpDia_0",
        "colab": {
          "base_uri": "https://localhost:8080/",
          "height": 312
        },
        "outputId": "425386e2-b1f6-439b-972a-4ca389523f42"
      },
      "source": [
        "f, axarr = plt.subplots(2, sharex=True)\n",
        "axarr[0].plot(df['FRAC Its'],df['F'])\n",
        "axarr[0].set_ylabel('F')\n",
        "axarr[1].plot(df['FRAC Its'],df['CR'])\n",
        "axarr[1].set_ylabel('CR')\n",
        "axarr[1].set_xlabel('Iteração/Total')\n",
        "nome=Fun.__name__+'_Diversidade_'+ 'D='+str(dim)\n",
        "axarr[0].set_title(nome)\n"
      ],
      "execution_count": 36,
      "outputs": [
        {
          "output_type": "execute_result",
          "data": {
            "text/plain": [
              "Text(0.5, 1.0, 'Schwefel_221_Diversidade_D=10')"
            ]
          },
          "metadata": {
            "tags": []
          },
          "execution_count": 36
        },
        {
          "output_type": "display_data",
          "data": {
            "image/png": "[encoded data removed]",
            "text/plain": [
              "<Figure size 432x288 with 2 Axes>"
            ]
          },
          "metadata": {
            "tags": [],
            "needs_background": "light"
          }
        }
      ]
    },
    {
      "cell_type": "code",
      "metadata": {
        "id": "lNSN5X-wskcx",
        "colab": {
          "base_uri": "https://localhost:8080/"
        },
        "outputId": "237e44b8-d562-4214-f370-6a70e4e5ed93"
      },
      "source": [
        "nome='_ANN_Div3x4_Fo-'+str(Fi)+'_CRo-'+str(CRi)+'_D-'+str(dim)+'_Interv-'+str(ITE)\n",
        "print('DE_POP_VAR_F_CR','TOTAL=',TOTAL,'Iterações=',ITE*its,'Dim=', PAR,\"Min/Max=\",MIN[0],\"/\",MAX[0],'_',Fun.__name__)\n",
        "print(nome, '\\n')\n",
        "#print('BEST: ',BEST)\n",
        "#print('MÉDIA: ',MEAN)\n",
        "print('MÉDIA: ',MEAN[-1])\n",
        "print('MIN __:',MINFO)\n",
        "print('MAX__: ',MAXFO)\n",
        "print('STD __:',STD)\n",
        "print(\"Tempo Médio= %.3f segundos ---\" % (TIME))\n",
        "print(RUNS,'Rodadas') \n",
        "print()\n",
        "print('BEST: ',BEST)\n",
        "# print('melhor=',BEST_AGENTS[BEST_INDEX])"
      ],
      "execution_count": 37,
      "outputs": [
        {
          "output_type": "stream",
          "text": [
            "DE_POP_VAR_F_CR TOTAL= 100000 Iterações= 2000 Dim= 10 Min/Max= -100 / 100 _ Schwefel_221\n",
            "_ANN_Div3x4_Fo-0.5_CRo-0.5_D-10_Interv-2000 \n",
            "\n",
            "MÉDIA:  6.542969070534977e-06\n",
            "MIN __: 1.3365647955839843e-14\n",
            "MAX__:  0.00032431086993050916\n",
            "STD __: 4.5395630318732736e-05\n",
            "Tempo Médio= 32.843 segundos ---\n",
            "50 Rodadas\n",
            "\n",
            "BEST:  [ 8.93203948e-15 -9.56614505e-16 -1.41094980e-15  1.33656480e-14\n",
            " -3.50325317e-15  1.24771623e-15 -2.09004456e-15 -5.57634998e-15\n",
            "  4.13361019e-15  3.96011408e-15  1.33656480e-14]\n"
          ],
          "name": "stdout"
        }
      ]
    }
  ]
}