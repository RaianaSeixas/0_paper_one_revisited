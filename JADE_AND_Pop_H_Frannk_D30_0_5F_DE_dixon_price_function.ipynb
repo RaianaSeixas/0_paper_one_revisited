{
  "nbformat": 4,
  "nbformat_minor": 0,
  "metadata": {
    "colab": {
      "name": "JADE_AND_Pop_H_Frannk_D30_0.5F-DE_dixon_price_function.ipynb",
      "provenance": [],
      "collapsed_sections": [],
      "include_colab_link": true
    },
    "kernelspec": {
      "name": "python3",
      "display_name": "Python 3"
    },
    "language_info": {
      "codemirror_mode": {
        "name": "ipython",
        "version": 3
      },
      "file_extension": ".py",
      "mimetype": "text/x-python",
      "name": "python",
      "nbconvert_exporter": "python",
      "pygments_lexer": "ipython3",
      "version": "3.7.3"
    }
  },
  "cells": [
    {
      "cell_type": "markdown",
      "metadata": {
        "id": "view-in-github",
        "colab_type": "text"
      },
      "source": [
        "<a href=\"https://colab.research.google.com/github/RaianaSeixas/0_paper_one_revisited/blob/main/JADE_AND_Pop_H_Frannk_D30_0_5F_DE_dixon_price_function.ipynb\" target=\"_parent\"><img src=\"https://colab.research.google.com/assets/colab-badge.svg\" alt=\"Open In Colab\"/></a>"
      ]
    },
    {
      "cell_type": "code",
      "metadata": {
        "id": "c59cDVKoxDLX",
        "colab": {
          "base_uri": "https://localhost:8080/"
        },
        "outputId": "4c9d6fc5-4b16-4edb-dd05-19024397cf18"
      },
      "source": [
        "############################### Importar códigos\n",
        "!git clone https://github.com/ucfilho/optim_raianars_Insight\n",
        "%cd optim_raianars_Insight"
      ],
      "execution_count": 1,
      "outputs": [
        {
          "output_type": "stream",
          "text": [
            "Cloning into 'optim_raianars_Insight'...\n",
            "remote: Enumerating objects: 354, done.\u001b[K\n",
            "remote: Counting objects: 100% (40/40), done.\u001b[K\n",
            "remote: Compressing objects: 100% (40/40), done.\u001b[K\n",
            "remote: Total 354 (delta 21), reused 0 (delta 0), pack-reused 314\u001b[K\n",
            "Receiving objects: 100% (354/354), 322.48 KiB | 11.94 MiB/s, done.\n",
            "Resolving deltas: 100% (202/202), done.\n",
            "/content/optim_raianars_Insight\n"
          ],
          "name": "stdout"
        }
      ]
    },
    {
      "cell_type": "code",
      "metadata": {
        "id": "_E15mKFURR6O"
      },
      "source": [
        "import Function\n",
        "import Go2MinMax\n",
        "from GeraIndices import GeraIndices\n",
        "import Go2Ann\n",
        "import de_soma_Insight\n",
        "import de_bounds_matriz\n",
        "from AvaliaX import AvaliaX\n",
        "\n",
        "import numpy as np\n",
        "import time\n",
        "import matplotlib.pyplot as plt\n",
        "from random import randint\n",
        "from scipy import optimize\n",
        "import pandas as pd\n",
        "from sklearn.metrics import confusion_matrix\n",
        "\n",
        "############################### Função\n",
        "dim=30 # \n",
        "fchoice='dixon_price_function'\n",
        "Fun=Function.dixon_price_function\n",
        "MIN,MAX=Go2MinMax.Intervalo(dim,fchoice)\n",
        "#MAX=np.repeat(1.28,dim)\n",
        "#MIN=np.repeat(-1.28,dim)\n",
        "\n",
        "bounds=[]\n",
        "for k in range(len(MAX)):\n",
        "  bounds.append((MIN[k],MAX[k]))\n",
        "\n",
        "\n",
        "############################### DADOS DE ENTRADA \n",
        "RUNS=50 #NÚMERO DE RODADAS\n",
        "Fc=0.1 # fator de correcao parametros da ANN\n",
        "its=1 #10 # quantas vezes vai usar o NPAR antes de alterar de novo\n",
        "ITE=2000 #00 #10 # PONTOS quantas vezes vai alteral NPAR \n",
        "NPAR=100\n",
        "mut=0.5\n",
        "crossp=0.5\n",
        "\n",
        "#fator = 1.0/3.0; \n",
        "Fi=mut;CRi=crossp;# para impressão\n",
        "fator = 1.0/2.0; \n",
        "mut2=0.5;crossp2=0.5;mut3=0.75;crossp3=0.25;mut4=0.25;crossp4=0.25;\n"
      ],
      "execution_count": 2,
      "outputs": []
    },
    {
      "cell_type": "code",
      "metadata": {
        "id": "lAVDJIRmNQUC",
        "colab": {
          "base_uri": "https://localhost:8080/"
        },
        "outputId": "1313a3e6-60d8-438a-ae65-ae2cec7ae81d"
      },
      "source": [
        "!pip install PyFDE"
      ],
      "execution_count": 3,
      "outputs": [
        {
          "output_type": "stream",
          "text": [
            "Collecting PyFDE\n",
            "\u001b[?25l  Downloading https://files.pythonhosted.org/packages/72/f9/87f7279554d2682e3827d39c3d3a565b2fd42f7114a779e34a601c6c5079/PyFDE-1.3.0.tar.gz (397kB)\n",
            "\r\u001b[K     |▉                               | 10kB 9.5MB/s eta 0:00:01\r\u001b[K     |█▋                              | 20kB 13.5MB/s eta 0:00:01\r\u001b[K     |██▌                             | 30kB 16.6MB/s eta 0:00:01\r\u001b[K     |███▎                            | 40kB 8.7MB/s eta 0:00:01\r\u001b[K     |████▏                           | 51kB 10.0MB/s eta 0:00:01\r\u001b[K     |█████                           | 61kB 7.9MB/s eta 0:00:01\r\u001b[K     |█████▊                          | 71kB 8.8MB/s eta 0:00:01\r\u001b[K     |██████▋                         | 81kB 7.5MB/s eta 0:00:01\r\u001b[K     |███████▍                        | 92kB 8.0MB/s eta 0:00:01\r\u001b[K     |████████▎                       | 102kB 8.7MB/s eta 0:00:01\r\u001b[K     |█████████                       | 112kB 8.7MB/s eta 0:00:01\r\u001b[K     |██████████                      | 122kB 8.7MB/s eta 0:00:01\r\u001b[K     |██████████▊                     | 133kB 8.7MB/s eta 0:00:01\r\u001b[K     |███████████▌                    | 143kB 8.7MB/s eta 0:00:01\r\u001b[K     |████████████▍                   | 153kB 8.7MB/s eta 0:00:01\r\u001b[K     |█████████████▏                  | 163kB 8.7MB/s eta 0:00:01\r\u001b[K     |██████████████                  | 174kB 8.7MB/s eta 0:00:01\r\u001b[K     |██████████████▉                 | 184kB 8.7MB/s eta 0:00:01\r\u001b[K     |███████████████▊                | 194kB 8.7MB/s eta 0:00:01\r\u001b[K     |████████████████▌               | 204kB 8.7MB/s eta 0:00:01\r\u001b[K     |█████████████████▎              | 215kB 8.7MB/s eta 0:00:01\r\u001b[K     |██████████████████▏             | 225kB 8.7MB/s eta 0:00:01\r\u001b[K     |███████████████████             | 235kB 8.7MB/s eta 0:00:01\r\u001b[K     |███████████████████▉            | 245kB 8.7MB/s eta 0:00:01\r\u001b[K     |████████████████████▋           | 256kB 8.7MB/s eta 0:00:01\r\u001b[K     |█████████████████████▌          | 266kB 8.7MB/s eta 0:00:01\r\u001b[K     |██████████████████████▎         | 276kB 8.7MB/s eta 0:00:01\r\u001b[K     |███████████████████████         | 286kB 8.7MB/s eta 0:00:01\r\u001b[K     |████████████████████████        | 296kB 8.7MB/s eta 0:00:01\r\u001b[K     |████████████████████████▊       | 307kB 8.7MB/s eta 0:00:01\r\u001b[K     |█████████████████████████▋      | 317kB 8.7MB/s eta 0:00:01\r\u001b[K     |██████████████████████████▍     | 327kB 8.7MB/s eta 0:00:01\r\u001b[K     |███████████████████████████▎    | 337kB 8.7MB/s eta 0:00:01\r\u001b[K     |████████████████████████████    | 348kB 8.7MB/s eta 0:00:01\r\u001b[K     |████████████████████████████▉   | 358kB 8.7MB/s eta 0:00:01\r\u001b[K     |█████████████████████████████▊  | 368kB 8.7MB/s eta 0:00:01\r\u001b[K     |██████████████████████████████▌ | 378kB 8.7MB/s eta 0:00:01\r\u001b[K     |███████████████████████████████▍| 389kB 8.7MB/s eta 0:00:01\r\u001b[K     |████████████████████████████████| 399kB 8.7MB/s \n",
            "\u001b[?25hRequirement already satisfied: numpy in /usr/local/lib/python3.7/dist-packages (from PyFDE) (1.19.5)\n",
            "Building wheels for collected packages: PyFDE\n",
            "  Building wheel for PyFDE (setup.py) ... \u001b[?25l\u001b[?25hdone\n",
            "  Created wheel for PyFDE: filename=PyFDE-1.3.0-cp37-cp37m-linux_x86_64.whl size=974727 sha256=984f66161fc9c24139fb3efffcd18943ecb3576c5343e418495de60056eb76c8\n",
            "  Stored in directory: /root/.cache/pip/wheels/7d/42/ba/abf21db37934e576c74fc2c9504b5cd97eb6a99e3dec1743c0\n",
            "Successfully built PyFDE\n",
            "Installing collected packages: PyFDE\n",
            "Successfully installed PyFDE-1.3.0\n"
          ],
          "name": "stdout"
        }
      ]
    },
    {
      "cell_type": "code",
      "metadata": {
        "id": "E7DrzRqmM2j8"
      },
      "source": [
        "import pyfde\n",
        "solver = pyfde.JADE(Fun, n_dim= dim, n_pop=NPAR, limits=bounds, minimize=True)\n",
        "solver.p = 0.05\n",
        "solver.c = 0.1"
      ],
      "execution_count": 4,
      "outputs": []
    },
    {
      "cell_type": "code",
      "metadata": {
        "id": "NnOvinHvNl_p"
      },
      "source": [
        "start_time = time.time()\n",
        "BEST_AGENTS=[]\n",
        "MAT_stat=[]"
      ],
      "execution_count": 5,
      "outputs": []
    },
    {
      "cell_type": "code",
      "metadata": {
        "colab": {
          "base_uri": "https://localhost:8080/"
        },
        "id": "3-uCNVsZNnqa",
        "outputId": "599f3836-0dab-4fb1-f39e-bd7ebdd8dc3e"
      },
      "source": [
        "start_time = time.time()\n",
        "BEST_AGENTS=[]\n",
        "BEST_FIT =[]\n",
        "rows = RUNS\n",
        "cols = dim + 1\n",
        "BEST_XY = np.zeros((rows,cols))\n",
        "for iii in range(RUNS):\n",
        "  best, fit = solver.run(n_it=ITE)\n",
        "  kkk = -1\n",
        "  for xi in best:\n",
        "    kkk = kkk +1\n",
        "    BEST_XY[iii,kkk] = xi\n",
        "  BEST_XY[iii,dim] = -fit\n",
        "  BEST_AGENTS.append(best)\n",
        "  TIME = (time.time() - start_time) /60\n",
        "  BEST_FIT.append(-fit)\n",
        "  print('ite ', iii,'time ', TIME,'fob =', -fit)\n",
        "    \n",
        "############################## Cálculo dos Parâmetros de Avaliação   \n",
        "JADE_TIME = (time.time() - start_time)/RUNS"
      ],
      "execution_count": 6,
      "outputs": [
        {
          "output_type": "stream",
          "text": [
            "ite  0 time  0.07677055994669596 fob = 0.6666666666666665\n",
            "ite  1 time  0.15259944597880046 fob = 0.6666666666666665\n",
            "ite  2 time  0.22862438360850015 fob = 0.6666666666666665\n",
            "ite  3 time  0.3040329456329346 fob = 0.6666666666666665\n",
            "ite  4 time  0.37984118461608884 fob = 0.6666666666666665\n",
            "ite  5 time  0.4548734347025553 fob = 0.6666666666666665\n",
            "ite  6 time  0.5308968146642049 fob = 0.6666666666666665\n",
            "ite  7 time  0.6075226783752441 fob = 0.6666666666666665\n",
            "ite  8 time  0.6835878451665243 fob = 0.6666666666666665\n",
            "ite  9 time  0.7598032434781392 fob = 0.6666666666666665\n",
            "ite  10 time  0.8363387187321981 fob = 0.6666666666666665\n",
            "ite  11 time  0.9125040968259176 fob = 0.6666666666666665\n",
            "ite  12 time  0.9883901834487915 fob = 0.6666666666666665\n",
            "ite  13 time  1.0643166542053222 fob = 0.6666666666666665\n",
            "ite  14 time  1.1397884209950766 fob = 0.6666666666666665\n",
            "ite  15 time  1.2155007521311443 fob = 0.6666666666666665\n",
            "ite  16 time  1.2914027015368144 fob = 0.6666666666666665\n",
            "ite  17 time  1.367460568745931 fob = 0.6666666666666665\n",
            "ite  18 time  1.443405854701996 fob = 0.6666666666666665\n",
            "ite  19 time  1.519887093702952 fob = 0.6666666666666665\n",
            "ite  20 time  1.5954617977142334 fob = 0.6666666666666665\n",
            "ite  21 time  1.67101997534434 fob = 0.6666666666666665\n",
            "ite  22 time  1.7468592206637064 fob = 0.6666666666666665\n",
            "ite  23 time  1.8223038554191588 fob = 0.6666666666666665\n",
            "ite  24 time  1.8978115995724996 fob = 0.6666666666666665\n",
            "ite  25 time  1.9732908566792806 fob = 0.6666666666666665\n",
            "ite  26 time  2.0490795811017355 fob = 0.6666666666666665\n",
            "ite  27 time  2.125356630484263 fob = 0.6666666666666665\n",
            "ite  28 time  2.2006588498751323 fob = 0.6666666666666665\n",
            "ite  29 time  2.275970967610677 fob = 0.6666666666666665\n",
            "ite  30 time  2.352084835370382 fob = 0.6666666666666665\n",
            "ite  31 time  2.427462939421336 fob = 0.6666666666666665\n",
            "ite  32 time  2.502736739317576 fob = 0.6666666666666665\n",
            "ite  33 time  2.5783348162968953 fob = 0.6666666666666665\n",
            "ite  34 time  2.6541343172391256 fob = 0.6666666666666665\n",
            "ite  35 time  2.729385475317637 fob = 0.6666666666666665\n",
            "ite  36 time  2.80488942861557 fob = 0.6666666666666665\n",
            "ite  37 time  2.880296202500661 fob = 0.6666666666666665\n",
            "ite  38 time  2.9559024413426718 fob = 0.6666666666666665\n",
            "ite  39 time  3.031889323393504 fob = 0.6666666666666665\n",
            "ite  40 time  3.107715006669362 fob = 0.6666666666666665\n",
            "ite  41 time  3.1830591917037965 fob = 0.6666666666666665\n",
            "ite  42 time  3.2583673278490703 fob = 0.6666666666666665\n",
            "ite  43 time  3.333511221408844 fob = 0.6666666666666665\n",
            "ite  44 time  3.408739666144053 fob = 0.6666666666666665\n",
            "ite  45 time  3.485006252924601 fob = 0.6666666666666665\n",
            "ite  46 time  3.5626620928446453 fob = 0.6666666666666665\n",
            "ite  47 time  3.640416630109151 fob = 0.6666666666666665\n",
            "ite  48 time  3.716835920015971 fob = 0.6666666666666665\n",
            "ite  49 time  3.7933882236480714 fob = 0.6666666666666665\n"
          ],
          "name": "stdout"
        }
      ]
    },
    {
      "cell_type": "code",
      "metadata": {
        "id": "vxovHXZqNuYh"
      },
      "source": [
        "IND_XY = np.argsort(np.array(BEST_XY[:,-1]))\n",
        "BEST_XY = BEST_XY[IND_XY,:]"
      ],
      "execution_count": 7,
      "outputs": []
    },
    {
      "cell_type": "code",
      "metadata": {
        "id": "iNdcjVsFN15n"
      },
      "source": [
        "JADE_BEST=BEST_XY[0]\n",
        "JADE_WORSE=BEST_XY[-1]\n",
        "JADE_MEAN=np.mean(BEST_XY,axis=0)\n",
        "JADE_MAXFO=BEST_XY[:,-1].max()\n",
        "JADE_MINFO=BEST_XY[:,-1].min()\n",
        "JADE_STD=BEST_XY[:,-1].std()\n",
        "JADE_BEST=BEST_XY[(rows-1),(cols-1)]"
      ],
      "execution_count": 8,
      "outputs": []
    },
    {
      "cell_type": "code",
      "metadata": {
        "id": "qTINtQ1cosZK",
        "colab": {
          "base_uri": "https://localhost:8080/"
        },
        "outputId": "05cd6a5a-e292-4d22-8ed5-4029dce9d50d"
      },
      "source": [
        "!git clone https://github.com/ucfilho/ANN_read_matrix #clonar do Github\n",
        "%cd ANN_read_matrix"
      ],
      "execution_count": 9,
      "outputs": [
        {
          "output_type": "stream",
          "text": [
            "Cloning into 'ANN_read_matrix'...\n",
            "remote: Enumerating objects: 20, done.\u001b[K\n",
            "remote: Counting objects: 100% (20/20), done.\u001b[K\n",
            "remote: Compressing objects: 100% (18/18), done.\u001b[K\n",
            "remote: Total 20 (delta 5), reused 0 (delta 0), pack-reused 0\u001b[K\n",
            "Unpacking objects: 100% (20/20), done.\n",
            "/content/optim_raianars_Insight/ANN_read_matrix\n"
          ],
          "name": "stdout"
        }
      ]
    },
    {
      "cell_type": "code",
      "metadata": {
        "id": "QiQLYOoNoyCw"
      },
      "source": [
        "ANN_F=pd.read_csv('ANN_INSIGHT_Valor_F.csv')"
      ],
      "execution_count": 10,
      "outputs": []
    },
    {
      "cell_type": "code",
      "metadata": {
        "id": "uHtW2amaDzFv"
      },
      "source": [
        "ANN_CR=pd.read_csv('ANN_INSIGHT_CR.csv')"
      ],
      "execution_count": 11,
      "outputs": []
    },
    {
      "cell_type": "code",
      "metadata": {
        "id": "EH6h_vke2yu1"
      },
      "source": [
        "syn0_F,syn1_F,X_max_F,X_min_F=Go2Ann.GetMatriz(ANN_F)"
      ],
      "execution_count": 12,
      "outputs": []
    },
    {
      "cell_type": "code",
      "metadata": {
        "id": "WW_3ZWJXD60i"
      },
      "source": [
        "syn0_CR,syn1_CR,X_max_CR,X_min_CR=Go2Ann.GetMatriz(ANN_CR)"
      ],
      "execution_count": 13,
      "outputs": []
    },
    {
      "cell_type": "code",
      "metadata": {
        "id": "b4gwBvVTyaXh"
      },
      "source": [
        "ANN_CR=pd.read_csv('ANN_INSIGHT_CR.csv')"
      ],
      "execution_count": 14,
      "outputs": []
    },
    {
      "cell_type": "code",
      "metadata": {
        "id": "6jL8MxpHvk-Y"
      },
      "source": [
        "fields = ['DI RELATIVO','FRAC Its','Fo','CRo']"
      ],
      "execution_count": 15,
      "outputs": []
    },
    {
      "cell_type": "code",
      "metadata": {
        "id": "Mb3LmbSmj9v7",
        "colab": {
          "base_uri": "https://localhost:8080/"
        },
        "outputId": "1fc8030d-6629-4031-e199-d4bd15e17eef"
      },
      "source": [
        "##################################### \n",
        "\n",
        "TOTAL=10*dim*its*ITE\n",
        "TOTAL=int(TOTAL/2)   # CONFERIR SE ESTE EH O MELHOR LUGAR\n",
        "\n",
        "dimensions=len(MAX)\n",
        "start_time = time.time() #INICIALIZA CONTAGEM DO TEMPO\n",
        "\n",
        "\n",
        "PAR=dim\n",
        "fobj=Fun\n",
        "\n",
        "MAX_P=np.zeros(ITE) # ATENCAO para variar F e Cr MAX_P passa a ser 3 vezes maior\n",
        "MIN_P=np.zeros(ITE) # ATENCAO para variar F e Cr MIN_P passa a ser 3 vezes maior\n",
        "\n",
        "for i in range(dim):\n",
        "  MAX_P[i]=MAX[i] \n",
        "  MIN_P[i]=MIN[i]\n",
        "\n",
        "rodadas=1\n",
        "NPAR1=int(fator*NPAR);\n",
        "NPAR2=int((NPAR-NPAR1)/3);\n",
        "NPAR3=int((NPAR-NPAR1)/3);\n",
        "NPAR4=int((NPAR-NPAR1)/3);\n",
        "NPAR1 = NPAR-3*NPAR2\n",
        "print('frac=',fator);\n",
        "print('Npar1=',NPAR1);\n",
        "print('Npar2=',NPAR2);\n",
        "print('Npar3=',NPAR3);\n",
        "print('Npar4=',NPAR4);\n",
        "print('Npar=',NPAR)\n",
        "\n",
        "cols=dim\n",
        "\n",
        "X1=np.zeros((NPAR1,cols)) # X1 is Frannk population\n",
        "for i in range(NPAR1):\n",
        "  for j in range(cols):\n",
        "    r=np.random.random()\n",
        "    X1[i,j]=r*(MAX[j]-MIN[j])+MIN[j]\n",
        "    \n",
        "X2=np.zeros((NPAR2,cols)) # X2 is population DE (default DE)\n",
        "for i in range(NPAR2):\n",
        "  for j in range(cols):\n",
        "    r=np.random.random()\n",
        "    X2[i,j]=r*(MAX[j]-MIN[j])+MIN[j]\n",
        "\n",
        "X3=np.zeros((NPAR3,cols)) # X1 is Frannk population\n",
        "for i in range(NPAR3):\n",
        "  for j in range(cols):\n",
        "    r=np.random.random()\n",
        "    X3[i,j]=r*(MAX[j]-MIN[j])+MIN[j]\n",
        "    \n",
        "X4=np.zeros((NPAR4,cols)) # X2 is population DE (default DE)\n",
        "for i in range(NPAR4):\n",
        "  for j in range(cols):\n",
        "    r=np.random.random()\n",
        "    X4[i,j]=r*(MAX[j]-MIN[j])+MIN[j]\n",
        "    \n",
        " ############################################################\n",
        "  #bounds=[(5*dim, 15*dim)] * PONTOS # ITE\n",
        "  #bounds=[(3*dim, 12*dim)] * PONTOS # ITE\n",
        "  #bounds=[(4*dim, 16*dim)] * PONTOS\n",
        "  \n",
        "  # nao pode ser assim pq o bounds vale p o DE nao dos parametros\n",
        "  #p=int(TOTAL/its/ITE) \n",
        "  #bounds=[(p, p)] * PONTOS\n"
      ],
      "execution_count": 16,
      "outputs": [
        {
          "output_type": "stream",
          "text": [
            "frac= 0.5\n",
            "Npar1= 52\n",
            "Npar2= 16\n",
            "Npar3= 16\n",
            "Npar4= 16\n",
            "Npar= 100\n"
          ],
          "name": "stdout"
        }
      ]
    },
    {
      "cell_type": "code",
      "metadata": {
        "id": "rnX8ttNopd1G",
        "colab": {
          "base_uri": "https://localhost:8080/"
        },
        "outputId": "4f408797-d337-4750-e498-dfb18235a706"
      },
      "source": [
        "\n",
        "start_time = time.time()\n",
        "BEST_AGENTS=[]\n",
        "MAT_stat=[]\n",
        "for iii in range(RUNS):\n",
        "    MAT=[] \n",
        "    mut=Fi\n",
        "    crossp=CRi\n",
        "    SOMA=0\n",
        "    pop = np.random.rand(NPAR, dim)\n",
        "    diff=np.zeros(PAR)\n",
        "\n",
        "\n",
        "    X1=np.zeros((NPAR1,cols)) # X1 is Frannk population\n",
        "    for i in range(NPAR1):\n",
        "      for j in range(cols):\n",
        "        r=np.random.random()\n",
        "        X1[i,j]=r*(MAX[j]-MIN[j])+MIN[j]\n",
        "        \n",
        "    X2=np.zeros((NPAR2,cols)) # X2 is population DE (default DE)\n",
        "    for i in range(NPAR2):\n",
        "      for j in range(cols):\n",
        "        r=np.random.random()\n",
        "        X2[i,j]=r*(MAX[j]-MIN[j])+MIN[j]\n",
        "\n",
        "    X3=np.zeros((NPAR3,cols)) # X2 is population DE (default DE)\n",
        "    for i in range(NPAR3):\n",
        "      for j in range(cols):\n",
        "        r=np.random.random()\n",
        "        X3[i,j]=r*(MAX[j]-MIN[j])+MIN[j]\n",
        "\n",
        "    X4=np.zeros((NPAR4,cols)) # X2 is population DE (default DE)\n",
        "    for i in range(NPAR4):\n",
        "      for j in range(cols):\n",
        "        r=np.random.random()\n",
        "        X4[i,j]=r*(MAX[j]-MIN[j])+MIN[j]\n",
        "    \n",
        "    DIo=1e99\n",
        "  \n",
        "    CRo=crossp;Fo=mut;\n",
        "    Fitness = np.asarray([Fun(ind) for ind in X1])\n",
        "    XY,BEST_XY,BESTo,FOBESTo=AvaliaX(X1,Fitness)\n",
        "    nrow,ncol=X1.shape\n",
        "\n",
        "    QUANT=17;MAT_INDo=np.zeros((1,QUANT)); # quantos indices esta fazendo\n",
        "    MAT_INDo[0,5]=nrow  # VALOR NP\n",
        "    MAT_INDo[0,6]=Fo    # VALOR Fo   \n",
        "    MAT_INDo[0,7]=CRo   # VALOR CRo\n",
        "  \n",
        "    MAT_INDo=GeraIndices(X1,BESTo,FOBESTo,DIo,MAT_INDo,SOMA,TOTAL,syn0_F,\n",
        "                        syn1_F,X_max_F,X_min_F,syn0_CR,syn1_CR,X_max_CR,\n",
        "                        X_min_CR,Fc,fields,Fun)\n",
        "  \n",
        "    DIo=np.copy(MAT_INDo[0,0])\n",
        "    MAT_INDo[0,15]=Fo    # VALOR Fo   \n",
        "    MAT_INDo[0,16]=CRo   # VALOR CRo\n",
        "    #ind_crossp=ITE-1\n",
        "    \n",
        "\n",
        "    \n",
        "    for k in range(ITE):\n",
        "\n",
        "\n",
        "\n",
        "      X2,BEST2,FOBEST,XY,BEST_XY=de_bounds_matriz.de(bounds, mut2, crossp2,NPAR2, its,fobj,X2)\n",
        "      X3,BEST3,FOBEST,XY,BEST_XY=de_bounds_matriz.de(bounds, mut3, crossp3,NPAR3, its,fobj,X3)\n",
        "      X4,BEST4,FOBEST,XY,BEST_XY=de_bounds_matriz.de(bounds, mut4, crossp4,NPAR4, its,fobj,X4)\n",
        "      \n",
        "      X1,BEST1,FOBEST,XY,BEST_XY,SOMA= de_soma_Insight.de(MAX,MIN, mut, crossp,NPAR1,its,Fun,X1,SOMA,TOTAL)\n",
        "\n",
        "      MAT_IND=GeraIndices(X1,BESTo,FOBESTo,DIo,MAT_INDo,SOMA,TOTAL,syn0_F,\n",
        "                          syn1_F,X_max_F,X_min_F,syn0_CR,syn1_CR,X_max_CR,\n",
        "                          X_min_CR,Fc,fields,Fun)\n",
        "    \n",
        "      BESTo=np.copy(BEST1);FOBESTo=np.copy(FOBEST);\n",
        "      MAT.append(MAT_IND.ravel())\n",
        "    \n",
        "      MAT_INDo[0,6]=MAT_IND[0,15]   # VALOR Fo   \n",
        "      MAT_INDo[0,7]=MAT_IND[0,16]   # VALOR CRo\n",
        "      mut=MAT_IND[0,15]\n",
        "      crossp=MAT_IND[0,16]\n",
        "      X1[0,:] = BEST2;X1[1,:] = BEST3; X1[2,:] = BEST4;X1[NPAR1-1,:] = BEST1;\n",
        "      X2[0,:] = BEST1;X2[1,:] = BEST3;X2[2,:] = BEST4;X2[NPAR2-1,:] = BEST2;\n",
        "      X3[0,:] = BEST1;X3[1,:] = BEST2;X3[2,:] = BEST4;X3[NPAR3-1,:] = BEST3;\n",
        "      X4[0,:] = BEST1;X4[1,:] = BEST2;X4[2,:] = BEST3;X4[NPAR4-1,:] = BEST4;\n",
        "    print('k=',iii,'time=',(time.time()-start_time)/60, 'FO=',FOBEST)  \n",
        "    BEST_AGENTS.append(BEST_XY)\n",
        "    MAT_stat.append(MAT)\n",
        "    #print(\"GlobalParam e Solucao:\", BEST,\"Funcao=\",FOBEST)\n",
        "    \n",
        "############################## Cálculo dos Parâmetros de Avaliação   \n",
        "TIME = (time.time() - start_time)/RUNS\n",
        "BEST_AGENTS=np.array(BEST_AGENTS)\n",
        "BEST_AGENTS_ST= BEST_AGENTS[BEST_AGENTS[:,-1].argsort()]\n",
        "BEST=BEST_AGENTS_ST[0]\n",
        "WORSE=BEST_AGENTS_ST[-1]\n",
        "MEAN=np.mean(BEST_AGENTS,axis=0)\n",
        "MAXFO=BEST_AGENTS[:,-1].max()\n",
        "MINFO=BEST_AGENTS[:,-1].min()\n",
        "STD=BEST_AGENTS[:,-1].std()"
      ],
      "execution_count": 17,
      "outputs": [
        {
          "output_type": "stream",
          "text": [
            "k= 0 time= 2.0577916542689008 FO= 0.7828405389061612\n",
            "k= 1 time= 4.1223478277524315 FO= 6.392476160166108e-06\n",
            "k= 2 time= 6.165573728084564 FO= 7.490887034492673e-05\n",
            "k= 3 time= 8.20144671201706 FO= 0.00029107188885470794\n",
            "k= 4 time= 10.232789782683055 FO= 0.6666669274251186\n",
            "k= 5 time= 12.271991924444835 FO= 0.0007855303370480038\n",
            "k= 6 time= 14.317351575692495 FO= 0.6986478941799237\n",
            "k= 7 time= 16.343963499863943 FO= 0.66788302143619\n",
            "k= 8 time= 18.37850332657496 FO= 5.962004649594753e-09\n",
            "k= 9 time= 20.407846661408744 FO= 3.094151099009973e-08\n",
            "k= 10 time= 22.419219013055166 FO= 0.6666667814393545\n",
            "k= 11 time= 24.395120322704315 FO= 0.8536225249366309\n",
            "k= 12 time= 26.369966745376587 FO= 0.6669651650285234\n",
            "k= 13 time= 28.353463848431904 FO= 6.218078160504003e-06\n",
            "k= 14 time= 30.351706155141194 FO= 0.001170849783360599\n",
            "k= 15 time= 32.35010861158371 FO= 0.001920057614674229\n",
            "k= 16 time= 34.330814719200134 FO= 1.886058730394255e-05\n",
            "k= 17 time= 36.31676125923793 FO= 4.7624895600090615e-06\n",
            "k= 18 time= 38.297007369995114 FO= 1.2815332770836559e-05\n",
            "k= 19 time= 40.2786959807078 FO= 0.666666666825492\n",
            "k= 20 time= 42.25983130931854 FO= 0.874530975651095\n",
            "k= 21 time= 44.232397381464644 FO= 0.8963054767830546\n",
            "k= 22 time= 46.212444182236986 FO= 3.9174834928009076e-07\n",
            "k= 23 time= 48.19465394020081 FO= 0.6666666666666674\n",
            "k= 24 time= 50.18844074010849 FO= 0.015541499714350033\n",
            "k= 25 time= 52.177491207917534 FO= 6.789117124413188e-08\n",
            "k= 26 time= 54.17106487751007 FO= 8.154248505031062e-08\n",
            "k= 27 time= 56.162068688869475 FO= 2.6412152709610393e-07\n",
            "k= 28 time= 58.14396132628123 FO= 0.856407721165698\n",
            "k= 29 time= 60.14134190479914 FO= 0.00014124376009457272\n",
            "k= 30 time= 62.1484280427297 FO= 0.0015481810755150014\n",
            "k= 31 time= 64.15111985206605 FO= 0.6666666666666722\n",
            "k= 32 time= 66.15272878011068 FO= 0.6666671204797734\n",
            "k= 33 time= 68.15972747802735 FO= 0.007594561176554645\n",
            "k= 34 time= 70.17224249442418 FO= 0.00016111901983555\n",
            "k= 35 time= 72.15861478249232 FO= 2.2075221598722157e-06\n",
            "k= 36 time= 74.1483142097791 FO= 0.6666666666666736\n",
            "k= 37 time= 76.15794868469239 FO= 6.19492822065278e-07\n",
            "k= 38 time= 78.1495640873909 FO= 0.0002002938437798617\n",
            "k= 39 time= 80.14487218459448 FO= 0.6666666666668662\n",
            "k= 40 time= 82.13277203639349 FO= 9.516629467395732e-08\n",
            "k= 41 time= 84.10409069856009 FO= 7.981195434737073e-05\n",
            "k= 42 time= 86.08223101695378 FO= 0.0009201580555276001\n",
            "k= 43 time= 88.05335754950842 FO= 0.011766596993108253\n",
            "k= 44 time= 90.03165483077368 FO= 4.045836137526023e-05\n",
            "k= 45 time= 92.01336251099904 FO= 0.0017635417020512613\n",
            "k= 46 time= 93.99551734129588 FO= 4.024097738207161e-06\n",
            "k= 47 time= 95.97589512666066 FO= 0.00025724190357852424\n",
            "k= 48 time= 97.95861452817917 FO= 1.9117015732539535e-07\n",
            "k= 49 time= 99.94352749188741 FO= 3.987139741208545e-06\n"
          ],
          "name": "stdout"
        }
      ]
    },
    {
      "cell_type": "code",
      "metadata": {
        "id": "TLEE0UrZSvJF",
        "outputId": "a14a9ee0-48b8-4db3-fa71-55cecfb45f87",
        "colab": {
          "base_uri": "https://localhost:8080/"
        }
      },
      "source": [
        "#len(X2[1,:])\n",
        "print(cols)"
      ],
      "execution_count": 18,
      "outputs": [
        {
          "output_type": "stream",
          "text": [
            "30\n"
          ],
          "name": "stdout"
        }
      ]
    },
    {
      "cell_type": "code",
      "metadata": {
        "id": "k3p9TGsx1OCu"
      },
      "source": [
        "NOMES=['DIVERSIDADE (DI)',  'DI RELATIVO','FRAC Its',\n",
        "           'VELOC FOBJ','VELOC X','NP','Fo','CRo','fmin','fmax',\n",
        "           'AD_fmin','AD_fmax','DELTA FOBJ','DELTA VX','r_fitness',\n",
        "           'F','CR']\n",
        "# BEST_INDEX= BEST_AGENTS[BEST_AGENTS[:,-1].argmin()]  \n",
        "BEST_INDEX = np.argmin(BEST_AGENTS[:,-1])\n",
        "df=pd.DataFrame(MAT_stat[BEST_INDEX], columns=NOMES)\n",
        "\n"
      ],
      "execution_count": 19,
      "outputs": []
    },
    {
      "cell_type": "code",
      "metadata": {
        "id": "jIHiKR_t1xxs"
      },
      "source": [
        "pd.set_option('display.max_columns', 30)  \n",
        "#print(df)"
      ],
      "execution_count": 20,
      "outputs": []
    },
    {
      "cell_type": "code",
      "metadata": {
        "id": "bx0ywpMtAAjw",
        "outputId": "9e545d9e-ccac-4bf8-b748-74bd78e1424c",
        "colab": {
          "base_uri": "https://localhost:8080/",
          "height": 299
        }
      },
      "source": [
        "plt.plot(df['FRAC Its'],df['CR'])\n",
        "plt.xlabel('Iteração/Total')\n",
        "plt.ylabel('CR')"
      ],
      "execution_count": 21,
      "outputs": [
        {
          "output_type": "execute_result",
          "data": {
            "text/plain": [
              "Text(0, 0.5, 'CR')"
            ]
          },
          "metadata": {
            "tags": []
          },
          "execution_count": 21
        },
        {
          "output_type": "display_data",
          "data": {
            "image/png": "[encoded data removed]",
            "text/plain": [
              "<Figure size 432x288 with 1 Axes>"
            ]
          },
          "metadata": {
            "tags": [],
            "needs_background": "light"
          }
        }
      ]
    },
    {
      "cell_type": "code",
      "metadata": {
        "id": "BvPFvbDvteDC",
        "outputId": "a5a09ce5-1d2e-4646-b27b-0cf7f286c264",
        "colab": {
          "base_uri": "https://localhost:8080/",
          "height": 295
        }
      },
      "source": [
        "\n",
        "fig, ax = plt.subplots()\n",
        "ax.plot(df['FRAC Its'],df['F'],label='F')\n",
        "ax.set_xlabel('Iteração/Total')\n",
        "ax.set_ylabel('Parâmetros')\n",
        "ax.plot(df['FRAC Its'],df['CR'],'-r', label='CR')\n",
        "nome=Fun.__name__+'  M=Diversidade'+ '  D='+str(dim)\n",
        "ax.set_title(nome)\n",
        "leg = ax.legend()\n"
      ],
      "execution_count": 22,
      "outputs": [
        {
          "output_type": "display_data",
          "data": {
            "image/png": "[encoded data removed]",
            "text/plain": [
              "<Figure size 432x288 with 1 Axes>"
            ]
          },
          "metadata": {
            "tags": [],
            "needs_background": "light"
          }
        }
      ]
    },
    {
      "cell_type": "code",
      "metadata": {
        "id": "htooaGpDia_0",
        "outputId": "d1e648c2-791f-474b-be82-04fb3b30b433",
        "colab": {
          "base_uri": "https://localhost:8080/",
          "height": 312
        }
      },
      "source": [
        "f, axarr = plt.subplots(2, sharex=True)\n",
        "axarr[0].plot(df['FRAC Its'],df['F'])\n",
        "axarr[0].set_ylabel('F')\n",
        "axarr[1].plot(df['FRAC Its'],df['CR'])\n",
        "axarr[1].set_ylabel('CR')\n",
        "axarr[1].set_xlabel('Iteração/Total')\n",
        "nome=Fun.__name__+'_Diversidade_'+ 'D='+str(dim)\n",
        "axarr[0].set_title(nome)\n"
      ],
      "execution_count": 23,
      "outputs": [
        {
          "output_type": "execute_result",
          "data": {
            "text/plain": [
              "Text(0.5, 1.0, 'dixon_price_function_Diversidade_D=30')"
            ]
          },
          "metadata": {
            "tags": []
          },
          "execution_count": 23
        },
        {
          "output_type": "display_data",
          "data": {
            "image/png": "[encoded data removed]",
            "text/plain": [
              "<Figure size 432x288 with 2 Axes>"
            ]
          },
          "metadata": {
            "tags": [],
            "needs_background": "light"
          }
        }
      ]
    },
    {
      "cell_type": "code",
      "metadata": {
        "id": "lNSN5X-wskcx",
        "outputId": "8ad8b404-5dd5-41b3-bc66-8e96f9d87946",
        "colab": {
          "base_uri": "https://localhost:8080/"
        }
      },
      "source": [
        "nome='SUB'+'_Fo-'+str(Fi)+'_CRo-'+str(CRi)+'_D-'+str(dim)+'_Interv-'+str(ITE)\n",
        "print('MCS-FRANNK','Fator F/DE= %.2f' %(fator),'NPAR=',NPAR,'Iterações=',ITE*its,'Dim=', PAR,\"Min/Max=\",MIN[0],\"/\",MAX[0],'_',Fun.__name__)\n",
        "print(nome, '\\n')\n",
        "#print('BEST: ',BEST)\n",
        "#print('MÉDIA: ',MEAN)\n",
        "print('MÉDIA: ',MEAN[-1],'STD __:',STD)\n",
        "print('MIN __:',MINFO, 'MAX__: ',MAXFO)\n",
        "print(MEAN[-1])\n",
        "print(STD)\n",
        "print(MINFO)\n",
        "print(\"Tempo Médio= %.3f segundos ---\" % (TIME))\n",
        "print(RUNS,'Rodadas') \n",
        "print()\n",
        "print('BEST: ',BEST)\n",
        "# print('melhor=',BEST_AGENTS[BEST_INDEX])\n",
        "\n",
        "print('======== JADE ==============')\n",
        "print('MÉDIA: ',JADE_MEAN[-1])\n",
        "print('MIN __:',JADE_MINFO)\n",
        "print('MAX__: ',JADE_MAXFO)\n",
        "print('STD __:',JADE_STD)\n",
        "print(\"Tempo Médio= %.3f segundos ---\" % (JADE_TIME))\n",
        "print(RUNS,'Rodadas') \n",
        "print()\n",
        "print('BEST: ',JADE_BEST)\n",
        "\n",
        "print(JADE_MEAN[-1])\n",
        "print(JADE_STD)\n",
        "print(JADE_MINFO)\n",
        "\n",
        "print('================================')"
      ],
      "execution_count": 24,
      "outputs": [
        {
          "output_type": "stream",
          "text": [
            "MCS-FRANNK Fator F/DE= 0.50 NPAR= 100 Iterações= 2000 Dim= 30 Min/Max= -10 / 10 _ dixon_price_function\n",
            "SUB_Fo-0.5_CRo-0.5_D-30_Interv-2000 \n",
            "\n",
            "MÉDIA:  0.2334971124547643 STD __: 0.342113826649071\n",
            "MIN __: 5.962004649594753e-09 MAX__:  0.8963054767830546\n",
            "0.2334971124547643\n",
            "0.342113826649071\n",
            "5.962004649594753e-09\n",
            "Tempo Médio= 119.932 segundos ---\n",
            "50 Rodadas\n",
            "\n",
            "BEST:  [ 9.99948115e-01  7.07080063e-01  5.94592032e-01  5.45247087e-01\n",
            "  5.22131229e-01  5.10943032e-01  5.05439364e-01  5.02708903e-01\n",
            "  5.01350335e-01  5.00673816e-01  5.00335597e-01  5.00166513e-01\n",
            "  5.00081984e-01  5.00039616e-01  5.00018660e-01  5.00007692e-01\n",
            "  5.00003099e-01  5.00000627e-01  5.00000419e-01  5.00000895e-01\n",
            "  5.00000944e-01  5.00001226e-01  5.00000970e-01  5.00000693e-01\n",
            "  5.00000790e-01  5.00000816e-01  5.00001133e-01  5.00001259e-01\n",
            "  5.00001056e-01 -5.00000056e-01  5.96200465e-09]\n",
            "======== JADE ==============\n",
            "MÉDIA:  0.6666666666666669\n",
            "MIN __: 0.6666666666666665\n",
            "MAX__:  0.6666666666666665\n",
            "STD __: 1.1102230246251565e-16\n",
            "Tempo Médio= 4.552 segundos ---\n",
            "50 Rodadas\n",
            "\n",
            "BEST:  0.6666666666666665\n",
            "0.6666666666666669\n",
            "1.1102230246251565e-16\n",
            "0.6666666666666665\n",
            "================================\n"
          ],
          "name": "stdout"
        }
      ]
    },
    {
      "cell_type": "code",
      "metadata": {
        "id": "soc6munUN56c",
        "outputId": "9ee3871d-fd79-416f-eb6e-b09957dd8158",
        "colab": {
          "base_uri": "https://localhost:8080/"
        }
      },
      "source": [
        "print('FRANNK POP H                 JADE')\n",
        "print(MEAN[-1],'       ',JADE_MEAN[-1])\n",
        "print(STD,'      ',JADE_STD)\n",
        "print(MINFO,'       ',JADE_MINFO)\n"
      ],
      "execution_count": 25,
      "outputs": [
        {
          "output_type": "stream",
          "text": [
            "FRANNK POP H                 JADE\n",
            "0.2334971124547643         0.6666666666666669\n",
            "0.342113826649071        1.1102230246251565e-16\n",
            "5.962004649594753e-09         0.6666666666666665\n"
          ],
          "name": "stdout"
        }
      ]
    }
  ]
}