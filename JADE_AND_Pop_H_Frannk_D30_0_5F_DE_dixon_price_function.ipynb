{
  "nbformat": 4,
  "nbformat_minor": 0,
  "metadata": {
    "colab": {
      "name": "JADE_AND_Pop_H_Frannk_D30_0.5F-DE_dixon_price_function.ipynb",
      "provenance": [],
      "collapsed_sections": [],
      "include_colab_link": true
    },
    "kernelspec": {
      "name": "python3",
      "display_name": "Python 3"
    },
    "language_info": {
      "codemirror_mode": {
        "name": "ipython",
        "version": 3
      },
      "file_extension": ".py",
      "mimetype": "text/x-python",
      "name": "python",
      "nbconvert_exporter": "python",
      "pygments_lexer": "ipython3",
      "version": "3.7.3"
    }
  },
  "cells": [
    {
      "cell_type": "markdown",
      "metadata": {
        "id": "view-in-github",
        "colab_type": "text"
      },
      "source": [
        "<a href=\"https://colab.research.google.com/github/RaianaSeixas/0_paper_one_revisited/blob/main/JADE_AND_Pop_H_Frannk_D30_0_5F_DE_dixon_price_function.ipynb\" target=\"_parent\"><img src=\"https://colab.research.google.com/assets/colab-badge.svg\" alt=\"Open In Colab\"/></a>"
      ]
    },
    {
      "cell_type": "code",
      "metadata": {
        "id": "c59cDVKoxDLX",
        "colab": {
          "base_uri": "https://localhost:8080/"
        },
        "outputId": "1d4c433a-ff87-4073-e4d4-4a9586f8a5f8"
      },
      "source": [
        "############################### Importar códigos\n",
        "!git clone https://github.com/ucfilho/optim_raianars_Insight\n",
        "%cd optim_raianars_Insight"
      ],
      "execution_count": 1,
      "outputs": [
        {
          "output_type": "stream",
          "text": [
            "Cloning into 'optim_raianars_Insight'...\n",
            "remote: Enumerating objects: 348, done.\u001b[K\n",
            "remote: Counting objects: 100% (34/34), done.\u001b[K\n",
            "remote: Compressing objects: 100% (34/34), done.\u001b[K\n",
            "remote: Total 348 (delta 17), reused 0 (delta 0), pack-reused 314\u001b[K\n",
            "Receiving objects: 100% (348/348), 321.21 KiB | 2.82 MiB/s, done.\n",
            "Resolving deltas: 100% (198/198), done.\n",
            "/content/optim_raianars_Insight\n"
          ],
          "name": "stdout"
        }
      ]
    },
    {
      "cell_type": "code",
      "metadata": {
        "id": "_E15mKFURR6O"
      },
      "source": [
        "import Function\n",
        "import Go2MinMax\n",
        "from GeraIndices import GeraIndices\n",
        "import Go2Ann\n",
        "import de_soma_Insight\n",
        "import de_bounds_matriz\n",
        "from AvaliaX import AvaliaX\n",
        "\n",
        "import numpy as np\n",
        "import time\n",
        "import matplotlib.pyplot as plt\n",
        "from random import randint\n",
        "from scipy import optimize\n",
        "import pandas as pd\n",
        "from sklearn.metrics import confusion_matrix\n",
        "\n",
        "############################### Função\n",
        "dim=30 # \n",
        "fchoice='dixon_price_function'\n",
        "Fun=Function.dixon_price_function\n",
        "MIN,MAX=Go2MinMax.Intervalo(dim,fchoice)\n",
        "#MAX=np.repeat(1.28,dim)\n",
        "#MIN=np.repeat(-1.28,dim)\n",
        "\n",
        "bounds=[]\n",
        "for k in range(len(MAX)):\n",
        "  bounds.append((MIN[k],MAX[k]))\n",
        "\n",
        "\n",
        "############################### DADOS DE ENTRADA \n",
        "RUNS=50 #NÚMERO DE RODADAS\n",
        "Fc=0.1 # fator de correcao parametros da ANN\n",
        "its=1 #10 # quantas vezes vai usar o NPAR antes de alterar de novo\n",
        "ITE=2000 #00 #10 # PONTOS quantas vezes vai alteral NPAR \n",
        "NPAR=100\n",
        "mut=0.5\n",
        "crossp=0.5\n",
        "\n",
        "#fator = 1.0/3.0; \n",
        "Fi=mut;CRi=crossp;# para impressão\n",
        "fator = 1.0/2.0; \n",
        "mut2=0.5;crossp2=0.5;mut3=0.75;crossp3=0.25;mut4=0.25;crossp4=0.25;\n"
      ],
      "execution_count": 2,
      "outputs": []
    },
    {
      "cell_type": "code",
      "metadata": {
        "id": "lAVDJIRmNQUC",
        "colab": {
          "base_uri": "https://localhost:8080/"
        },
        "outputId": "430712e9-aa2e-47a6-c132-cb9ee733409a"
      },
      "source": [
        "!pip install PyFDE"
      ],
      "execution_count": 3,
      "outputs": [
        {
          "output_type": "stream",
          "text": [
            "Collecting PyFDE\n",
            "\u001b[?25l  Downloading https://files.pythonhosted.org/packages/72/f9/87f7279554d2682e3827d39c3d3a565b2fd42f7114a779e34a601c6c5079/PyFDE-1.3.0.tar.gz (397kB)\n",
            "\r\u001b[K     |▉                               | 10kB 14.4MB/s eta 0:00:01\r\u001b[K     |█▋                              | 20kB 12.6MB/s eta 0:00:01\r\u001b[K     |██▌                             | 30kB 9.3MB/s eta 0:00:01\r\u001b[K     |███▎                            | 40kB 8.0MB/s eta 0:00:01\r\u001b[K     |████▏                           | 51kB 4.2MB/s eta 0:00:01\r\u001b[K     |█████                           | 61kB 4.9MB/s eta 0:00:01\r\u001b[K     |█████▊                          | 71kB 5.0MB/s eta 0:00:01\r\u001b[K     |██████▋                         | 81kB 5.4MB/s eta 0:00:01\r\u001b[K     |███████▍                        | 92kB 5.4MB/s eta 0:00:01\r\u001b[K     |████████▎                       | 102kB 4.1MB/s eta 0:00:01\r\u001b[K     |█████████                       | 112kB 4.1MB/s eta 0:00:01\r\u001b[K     |██████████                      | 122kB 4.1MB/s eta 0:00:01\r\u001b[K     |██████████▊                     | 133kB 4.1MB/s eta 0:00:01\r\u001b[K     |███████████▌                    | 143kB 4.1MB/s eta 0:00:01\r\u001b[K     |████████████▍                   | 153kB 4.1MB/s eta 0:00:01\r\u001b[K     |█████████████▏                  | 163kB 4.1MB/s eta 0:00:01\r\u001b[K     |██████████████                  | 174kB 4.1MB/s eta 0:00:01\r\u001b[K     |██████████████▉                 | 184kB 4.1MB/s eta 0:00:01\r\u001b[K     |███████████████▊                | 194kB 4.1MB/s eta 0:00:01\r\u001b[K     |████████████████▌               | 204kB 4.1MB/s eta 0:00:01\r\u001b[K     |█████████████████▎              | 215kB 4.1MB/s eta 0:00:01\r\u001b[K     |██████████████████▏             | 225kB 4.1MB/s eta 0:00:01\r\u001b[K     |███████████████████             | 235kB 4.1MB/s eta 0:00:01\r\u001b[K     |███████████████████▉            | 245kB 4.1MB/s eta 0:00:01\r\u001b[K     |████████████████████▋           | 256kB 4.1MB/s eta 0:00:01\r\u001b[K     |█████████████████████▌          | 266kB 4.1MB/s eta 0:00:01\r\u001b[K     |██████████████████████▎         | 276kB 4.1MB/s eta 0:00:01\r\u001b[K     |███████████████████████         | 286kB 4.1MB/s eta 0:00:01\r\u001b[K     |████████████████████████        | 296kB 4.1MB/s eta 0:00:01\r\u001b[K     |████████████████████████▊       | 307kB 4.1MB/s eta 0:00:01\r\u001b[K     |█████████████████████████▋      | 317kB 4.1MB/s eta 0:00:01\r\u001b[K     |██████████████████████████▍     | 327kB 4.1MB/s eta 0:00:01\r\u001b[K     |███████████████████████████▎    | 337kB 4.1MB/s eta 0:00:01\r\u001b[K     |████████████████████████████    | 348kB 4.1MB/s eta 0:00:01\r\u001b[K     |████████████████████████████▉   | 358kB 4.1MB/s eta 0:00:01\r\u001b[K     |█████████████████████████████▊  | 368kB 4.1MB/s eta 0:00:01\r\u001b[K     |██████████████████████████████▌ | 378kB 4.1MB/s eta 0:00:01\r\u001b[K     |███████████████████████████████▍| 389kB 4.1MB/s eta 0:00:01\r\u001b[K     |████████████████████████████████| 399kB 4.1MB/s \n",
            "\u001b[?25hRequirement already satisfied: numpy in /usr/local/lib/python3.7/dist-packages (from PyFDE) (1.19.5)\n",
            "Building wheels for collected packages: PyFDE\n",
            "  Building wheel for PyFDE (setup.py) ... \u001b[?25l\u001b[?25hdone\n",
            "  Created wheel for PyFDE: filename=PyFDE-1.3.0-cp37-cp37m-linux_x86_64.whl size=974715 sha256=ae43e301f7636b277288478ee5c97f6f0df1377d01832c91230e055c1f006af9\n",
            "  Stored in directory: /root/.cache/pip/wheels/7d/42/ba/abf21db37934e576c74fc2c9504b5cd97eb6a99e3dec1743c0\n",
            "Successfully built PyFDE\n",
            "Installing collected packages: PyFDE\n",
            "Successfully installed PyFDE-1.3.0\n"
          ],
          "name": "stdout"
        }
      ]
    },
    {
      "cell_type": "code",
      "metadata": {
        "id": "E7DrzRqmM2j8"
      },
      "source": [
        "import pyfde\n",
        "solver = pyfde.JADE(Fun, n_dim= dim, n_pop=NPAR, limits=bounds, minimize=True)\n",
        "solver.p = 0.05\n",
        "solver.c = 0.1"
      ],
      "execution_count": 4,
      "outputs": []
    },
    {
      "cell_type": "code",
      "metadata": {
        "id": "NnOvinHvNl_p"
      },
      "source": [
        "start_time = time.time()\n",
        "BEST_AGENTS=[]\n",
        "MAT_stat=[]"
      ],
      "execution_count": 5,
      "outputs": []
    },
    {
      "cell_type": "code",
      "metadata": {
        "colab": {
          "base_uri": "https://localhost:8080/"
        },
        "id": "3-uCNVsZNnqa",
        "outputId": "2436f02f-4f63-493f-aee8-815a27b955ca"
      },
      "source": [
        "start_time = time.time()\n",
        "BEST_AGENTS=[]\n",
        "BEST_FIT =[]\n",
        "rows = RUNS\n",
        "cols = dim + 1\n",
        "BEST_XY = np.zeros((rows,cols))\n",
        "for iii in range(RUNS):\n",
        "  best, fit = solver.run(n_it=ITE)\n",
        "  kkk = -1\n",
        "  for xi in best:\n",
        "    kkk = kkk +1\n",
        "    BEST_XY[iii,kkk] = xi\n",
        "  BEST_XY[iii,dim] = -fit\n",
        "  BEST_AGENTS.append(best)\n",
        "  TIME = (time.time() - start_time) /60\n",
        "  BEST_FIT.append(-fit)\n",
        "  print('ite ', iii,'time ', TIME,'fob =', -fit)\n",
        "    \n",
        "############################## Cálculo dos Parâmetros de Avaliação   \n",
        "JADE_TIME = (time.time() - start_time)/RUNS"
      ],
      "execution_count": 6,
      "outputs": [
        {
          "output_type": "stream",
          "text": [
            "ite  0 time  0.07474114497502644 fob = 0.6666666666666666\n",
            "ite  1 time  0.14857508341471354 fob = 0.6666666666666666\n",
            "ite  2 time  0.22205215692520142 fob = 0.6666666666666666\n",
            "ite  3 time  0.2952253063519796 fob = 0.6666666666666666\n",
            "ite  4 time  0.36871251662572224 fob = 0.6666666666666666\n",
            "ite  5 time  0.4427147150039673 fob = 0.6666666666666666\n",
            "ite  6 time  0.5171053727467855 fob = 0.6666666666666666\n",
            "ite  7 time  0.590864626566569 fob = 0.6666666666666666\n",
            "ite  8 time  0.6653726458549499 fob = 0.6666666666666666\n",
            "ite  9 time  0.7395331939061482 fob = 0.6666666666666666\n",
            "ite  10 time  0.812670107682546 fob = 0.6666666666666666\n",
            "ite  11 time  0.8847975969314575 fob = 0.6666666666666666\n",
            "ite  12 time  0.9573813835779826 fob = 0.6666666666666666\n",
            "ite  13 time  1.0300510287284852 fob = 0.6666666666666666\n",
            "ite  14 time  1.1026521603266397 fob = 0.6666666666666666\n",
            "ite  15 time  1.1753486712773642 fob = 0.6666666666666666\n",
            "ite  16 time  1.2487467606862386 fob = 0.6666666666666666\n",
            "ite  17 time  1.32205624183019 fob = 0.6666666666666666\n",
            "ite  18 time  1.3949584325154623 fob = 0.6666666666666666\n",
            "ite  19 time  1.46729971965154 fob = 0.6666666666666666\n",
            "ite  20 time  1.5403917908668519 fob = 0.6666666666666666\n",
            "ite  21 time  1.6121398091316224 fob = 0.6666666666666666\n",
            "ite  22 time  1.6848417282104493 fob = 0.6666666666666666\n",
            "ite  23 time  1.757088295618693 fob = 0.6666666666666666\n",
            "ite  24 time  1.8296769897143046 fob = 0.6666666666666666\n",
            "ite  25 time  1.9022973934809366 fob = 0.6666666666666666\n",
            "ite  26 time  1.9741238832473755 fob = 0.6666666666666666\n",
            "ite  27 time  2.046122928460439 fob = 0.6666666666666666\n",
            "ite  28 time  2.1176565368970235 fob = 0.6666666666666666\n",
            "ite  29 time  2.19041219552358 fob = 0.6666666666666666\n",
            "ite  30 time  2.2628867427508035 fob = 0.6666666666666666\n",
            "ite  31 time  2.33488005399704 fob = 0.6666666666666666\n",
            "ite  32 time  2.4062546531359357 fob = 0.6666666666666666\n",
            "ite  33 time  2.4777601679166157 fob = 0.6666666666666666\n",
            "ite  34 time  2.55031840801239 fob = 0.6666666666666666\n",
            "ite  35 time  2.622485899925232 fob = 0.6666666666666666\n",
            "ite  36 time  2.69452467362086 fob = 0.6666666666666666\n",
            "ite  37 time  2.7664696335792542 fob = 0.6666666666666666\n",
            "ite  38 time  2.839593557516734 fob = 0.6666666666666666\n",
            "ite  39 time  2.9114096721013385 fob = 0.6666666666666666\n",
            "ite  40 time  2.984402362505595 fob = 0.6666666666666666\n",
            "ite  41 time  3.057564683755239 fob = 0.6666666666666666\n",
            "ite  42 time  3.1304112871487937 fob = 0.6666666666666666\n",
            "ite  43 time  3.202953859170278 fob = 0.6666666666666666\n",
            "ite  44 time  3.275993808110555 fob = 0.6666666666666666\n",
            "ite  45 time  3.349061687787374 fob = 0.6666666666666666\n",
            "ite  46 time  3.4217856764793395 fob = 0.6666666666666666\n",
            "ite  47 time  3.494207513332367 fob = 0.6666666666666666\n",
            "ite  48 time  3.5681981643040976 fob = 0.6666666666666666\n",
            "ite  49 time  3.6415297230084738 fob = 0.6666666666666666\n"
          ],
          "name": "stdout"
        }
      ]
    },
    {
      "cell_type": "code",
      "metadata": {
        "id": "vxovHXZqNuYh"
      },
      "source": [
        "IND_XY = np.argsort(np.array(BEST_XY[:,-1]))\n",
        "BEST_XY = BEST_XY[IND_XY,:]"
      ],
      "execution_count": 7,
      "outputs": []
    },
    {
      "cell_type": "code",
      "metadata": {
        "id": "iNdcjVsFN15n"
      },
      "source": [
        "JADE_BEST=BEST_XY[0]\n",
        "JADE_WORSE=BEST_XY[-1]\n",
        "JADE_MEAN=np.mean(BEST_XY,axis=0)\n",
        "JADE_MAXFO=BEST_XY[:,-1].max()\n",
        "JADE_MINFO=BEST_XY[:,-1].min()\n",
        "JADE_STD=BEST_XY[:,-1].std()\n",
        "JADE_BEST=BEST_XY[(rows-1),(cols-1)]"
      ],
      "execution_count": 8,
      "outputs": []
    },
    {
      "cell_type": "code",
      "metadata": {
        "id": "qTINtQ1cosZK",
        "colab": {
          "base_uri": "https://localhost:8080/"
        },
        "outputId": "47142615-e34a-47f4-a731-fb1ce1a5894e"
      },
      "source": [
        "!git clone https://github.com/ucfilho/ANN_read_matrix #clonar do Github\n",
        "%cd ANN_read_matrix"
      ],
      "execution_count": 9,
      "outputs": [
        {
          "output_type": "stream",
          "text": [
            "Cloning into 'ANN_read_matrix'...\n",
            "remote: Enumerating objects: 20, done.\u001b[K\n",
            "remote: Counting objects: 100% (20/20), done.\u001b[K\n",
            "remote: Compressing objects: 100% (18/18), done.\u001b[K\n",
            "remote: Total 20 (delta 5), reused 0 (delta 0), pack-reused 0\u001b[K\n",
            "Unpacking objects: 100% (20/20), done.\n",
            "/content/optim_raianars_Insight/ANN_read_matrix\n"
          ],
          "name": "stdout"
        }
      ]
    },
    {
      "cell_type": "code",
      "metadata": {
        "id": "QiQLYOoNoyCw"
      },
      "source": [
        "ANN_F=pd.read_csv('ANN_INSIGHT_Valor_F.csv')"
      ],
      "execution_count": 10,
      "outputs": []
    },
    {
      "cell_type": "code",
      "metadata": {
        "id": "uHtW2amaDzFv"
      },
      "source": [
        "ANN_CR=pd.read_csv('ANN_INSIGHT_CR.csv')"
      ],
      "execution_count": 11,
      "outputs": []
    },
    {
      "cell_type": "code",
      "metadata": {
        "id": "EH6h_vke2yu1"
      },
      "source": [
        "syn0_F,syn1_F,X_max_F,X_min_F=Go2Ann.GetMatriz(ANN_F)"
      ],
      "execution_count": 12,
      "outputs": []
    },
    {
      "cell_type": "code",
      "metadata": {
        "id": "WW_3ZWJXD60i"
      },
      "source": [
        "syn0_CR,syn1_CR,X_max_CR,X_min_CR=Go2Ann.GetMatriz(ANN_CR)"
      ],
      "execution_count": 13,
      "outputs": []
    },
    {
      "cell_type": "code",
      "metadata": {
        "id": "b4gwBvVTyaXh"
      },
      "source": [
        "ANN_CR=pd.read_csv('ANN_INSIGHT_CR.csv')"
      ],
      "execution_count": 14,
      "outputs": []
    },
    {
      "cell_type": "code",
      "metadata": {
        "id": "6jL8MxpHvk-Y"
      },
      "source": [
        "fields = ['DI RELATIVO','FRAC Its','Fo','CRo']"
      ],
      "execution_count": 15,
      "outputs": []
    },
    {
      "cell_type": "code",
      "metadata": {
        "id": "Mb3LmbSmj9v7",
        "colab": {
          "base_uri": "https://localhost:8080/"
        },
        "outputId": "70031331-7d0d-4132-8202-8c3252e93000"
      },
      "source": [
        "##################################### \n",
        "\n",
        "TOTAL=10*dim*its*ITE\n",
        "TOTAL=int(TOTAL/2)   # CONFERIR SE ESTE EH O MELHOR LUGAR\n",
        "\n",
        "dimensions=len(MAX)\n",
        "start_time = time.time() #INICIALIZA CONTAGEM DO TEMPO\n",
        "\n",
        "\n",
        "PAR=dim\n",
        "fobj=Fun\n",
        "\n",
        "MAX_P=np.zeros(ITE) # ATENCAO para variar F e Cr MAX_P passa a ser 3 vezes maior\n",
        "MIN_P=np.zeros(ITE) # ATENCAO para variar F e Cr MIN_P passa a ser 3 vezes maior\n",
        "\n",
        "for i in range(dim):\n",
        "  MAX_P[i]=MAX[i] \n",
        "  MIN_P[i]=MIN[i]\n",
        "\n",
        "rodadas=1\n",
        "NPAR1=int(fator*NPAR);\n",
        "NPAR2=int((NPAR-NPAR1)/3);\n",
        "NPAR3=int((NPAR-NPAR1)/3);\n",
        "NPAR4=int((NPAR-NPAR1)/3);\n",
        "NPAR1 = NPAR-3*NPAR2\n",
        "print('frac=',fator);\n",
        "print('Npar1=',NPAR1);\n",
        "print('Npar2=',NPAR2);\n",
        "print('Npar3=',NPAR3);\n",
        "print('Npar4=',NPAR4);\n",
        "print('Npar=',NPAR)\n",
        "\n",
        "cols=dim\n",
        "\n",
        "X1=np.zeros((NPAR1,cols)) # X1 is Frannk population\n",
        "for i in range(NPAR1):\n",
        "  for j in range(cols):\n",
        "    r=np.random.random()\n",
        "    X1[i,j]=r*(MAX[j]-MIN[j])+MIN[j]\n",
        "    \n",
        "X2=np.zeros((NPAR2,cols)) # X2 is population DE (default DE)\n",
        "for i in range(NPAR2):\n",
        "  for j in range(cols):\n",
        "    r=np.random.random()\n",
        "    X2[i,j]=r*(MAX[j]-MIN[j])+MIN[j]\n",
        "\n",
        "X3=np.zeros((NPAR3,cols)) # X1 is Frannk population\n",
        "for i in range(NPAR3):\n",
        "  for j in range(cols):\n",
        "    r=np.random.random()\n",
        "    X3[i,j]=r*(MAX[j]-MIN[j])+MIN[j]\n",
        "    \n",
        "X4=np.zeros((NPAR4,cols)) # X2 is population DE (default DE)\n",
        "for i in range(NPAR4):\n",
        "  for j in range(cols):\n",
        "    r=np.random.random()\n",
        "    X4[i,j]=r*(MAX[j]-MIN[j])+MIN[j]\n",
        "    \n",
        " ############################################################\n",
        "  #bounds=[(5*dim, 15*dim)] * PONTOS # ITE\n",
        "  #bounds=[(3*dim, 12*dim)] * PONTOS # ITE\n",
        "  #bounds=[(4*dim, 16*dim)] * PONTOS\n",
        "  \n",
        "  # nao pode ser assim pq o bounds vale p o DE nao dos parametros\n",
        "  #p=int(TOTAL/its/ITE) \n",
        "  #bounds=[(p, p)] * PONTOS\n"
      ],
      "execution_count": 16,
      "outputs": [
        {
          "output_type": "stream",
          "text": [
            "frac= 0.5\n",
            "Npar1= 52\n",
            "Npar2= 16\n",
            "Npar3= 16\n",
            "Npar4= 16\n",
            "Npar= 100\n"
          ],
          "name": "stdout"
        }
      ]
    },
    {
      "cell_type": "code",
      "metadata": {
        "id": "rnX8ttNopd1G",
        "colab": {
          "base_uri": "https://localhost:8080/"
        },
        "outputId": "18950433-e183-4972-e497-7a5d505d747b"
      },
      "source": [
        "\n",
        "start_time = time.time()\n",
        "BEST_AGENTS=[]\n",
        "MAT_stat=[]\n",
        "for iii in range(RUNS):\n",
        "    MAT=[] \n",
        "    mut=Fi\n",
        "    crossp=CRi\n",
        "    SOMA=0\n",
        "    pop = np.random.rand(NPAR, dim)\n",
        "    diff=np.zeros(PAR)\n",
        "\n",
        "\n",
        "    X1=np.zeros((NPAR1,cols)) # X1 is Frannk population\n",
        "    for i in range(NPAR1):\n",
        "      for j in range(cols):\n",
        "        r=np.random.random()\n",
        "        X1[i,j]=r*(MAX[j]-MIN[j])+MIN[j]\n",
        "        \n",
        "    X2=np.zeros((NPAR2,cols)) # X2 is population DE (default DE)\n",
        "    for i in range(NPAR2):\n",
        "      for j in range(cols):\n",
        "        r=np.random.random()\n",
        "        X2[i,j]=r*(MAX[j]-MIN[j])+MIN[j]\n",
        "\n",
        "    X3=np.zeros((NPAR3,cols)) # X2 is population DE (default DE)\n",
        "    for i in range(NPAR3):\n",
        "      for j in range(cols):\n",
        "        r=np.random.random()\n",
        "        X3[i,j]=r*(MAX[j]-MIN[j])+MIN[j]\n",
        "\n",
        "    X4=np.zeros((NPAR4,cols)) # X2 is population DE (default DE)\n",
        "    for i in range(NPAR4):\n",
        "      for j in range(cols):\n",
        "        r=np.random.random()\n",
        "        X4[i,j]=r*(MAX[j]-MIN[j])+MIN[j]\n",
        "    \n",
        "    DIo=1e99\n",
        "  \n",
        "    CRo=crossp;Fo=mut;\n",
        "    Fitness = np.asarray([Fun(ind) for ind in X1])\n",
        "    XY,BEST_XY,BESTo,FOBESTo=AvaliaX(X1,Fitness)\n",
        "    nrow,ncol=X1.shape\n",
        "\n",
        "    QUANT=17;MAT_INDo=np.zeros((1,QUANT)); # quantos indices esta fazendo\n",
        "    MAT_INDo[0,5]=nrow  # VALOR NP\n",
        "    MAT_INDo[0,6]=Fo    # VALOR Fo   \n",
        "    MAT_INDo[0,7]=CRo   # VALOR CRo\n",
        "  \n",
        "    MAT_INDo=GeraIndices(X1,BESTo,FOBESTo,DIo,MAT_INDo,SOMA,TOTAL,syn0_F,\n",
        "                        syn1_F,X_max_F,X_min_F,syn0_CR,syn1_CR,X_max_CR,\n",
        "                        X_min_CR,Fc,fields,Fun)\n",
        "  \n",
        "    DIo=np.copy(MAT_INDo[0,0])\n",
        "    MAT_INDo[0,15]=Fo    # VALOR Fo   \n",
        "    MAT_INDo[0,16]=CRo   # VALOR CRo\n",
        "    #ind_crossp=ITE-1\n",
        "    \n",
        "\n",
        "    \n",
        "    for k in range(ITE):\n",
        "\n",
        "\n",
        "\n",
        "      X2,BEST2,FOBEST,XY,BEST_XY=de_bounds_matriz.de(bounds, mut2, crossp2,NPAR2, its,fobj,X2)\n",
        "      X3,BEST3,FOBEST,XY,BEST_XY=de_bounds_matriz.de(bounds, mut3, crossp3,NPAR3, its,fobj,X3)\n",
        "      X4,BEST4,FOBEST,XY,BEST_XY=de_bounds_matriz.de(bounds, mut4, crossp4,NPAR4, its,fobj,X4)\n",
        "      \n",
        "      X1,BEST1,FOBEST,XY,BEST_XY,SOMA= de_soma_Insight.de(MAX,MIN, mut, crossp,NPAR1,its,Fun,X1,SOMA,TOTAL)\n",
        "\n",
        "      MAT_IND=GeraIndices(X1,BESTo,FOBESTo,DIo,MAT_INDo,SOMA,TOTAL,syn0_F,\n",
        "                          syn1_F,X_max_F,X_min_F,syn0_CR,syn1_CR,X_max_CR,\n",
        "                          X_min_CR,Fc,fields,Fun)\n",
        "    \n",
        "      BESTo=np.copy(BEST1);FOBESTo=np.copy(FOBEST);\n",
        "      MAT.append(MAT_IND.ravel())\n",
        "    \n",
        "      MAT_INDo[0,6]=MAT_IND[0,15]   # VALOR Fo   \n",
        "      MAT_INDo[0,7]=MAT_IND[0,16]   # VALOR CRo\n",
        "      mut=MAT_IND[0,15]\n",
        "      crossp=MAT_IND[0,16]\n",
        "      X1[0,:] = BEST2;X1[1,:] = BEST3; X1[2,:] = BEST4;X1[NPAR1-1,:] = BEST1;\n",
        "      X2[0,:] = BEST1;X2[1,:] = BEST3;X2[2,:] = BEST4;X2[NPAR2-1,:] = BEST2;\n",
        "      X3[0,:] = BEST1;X3[1,:] = BEST2;X3[2,:] = BEST4;X3[NPAR3-1,:] = BEST3;\n",
        "      X4[0,:] = BEST1;X4[1,:] = BEST2;X4[2,:] = BEST3;X4[NPAR4-1,:] = BEST4;\n",
        "    print('k=',iii,'time=',(time.time()-start_time)/60, 'FO=',FOBEST)  \n",
        "    BEST_AGENTS.append(BEST_XY)\n",
        "    MAT_stat.append(MAT)\n",
        "    #print(\"GlobalParam e Solucao:\", BEST,\"Funcao=\",FOBEST)\n",
        "    \n",
        "############################## Cálculo dos Parâmetros de Avaliação   \n",
        "TIME = (time.time() - start_time)/RUNS\n",
        "BEST_AGENTS=np.array(BEST_AGENTS)\n",
        "BEST_AGENTS_ST= BEST_AGENTS[BEST_AGENTS[:,-1].argsort()]\n",
        "BEST=BEST_AGENTS_ST[0]\n",
        "WORSE=BEST_AGENTS_ST[-1]\n",
        "MEAN=np.mean(BEST_AGENTS,axis=0)\n",
        "MAXFO=BEST_AGENTS[:,-1].max()\n",
        "MINFO=BEST_AGENTS[:,-1].min()\n",
        "STD=BEST_AGENTS[:,-1].std()"
      ],
      "execution_count": null,
      "outputs": [
        {
          "output_type": "stream",
          "text": [
            "k= 0 time= 1.9140149394671122 FO= 7.300025162457871e-08\n",
            "k= 1 time= 3.8047308246294658 FO= 1.7747562985632415e-05\n",
            "k= 2 time= 5.717658897240956 FO= 5.4276754774722527e-05\n",
            "k= 3 time= 7.621945834159851 FO= 0.03280611585551588\n",
            "k= 4 time= 9.542099396387735 FO= 0.03490648015728557\n",
            "k= 5 time= 11.467257368564606 FO= 5.6596768791717616e-05\n",
            "k= 6 time= 13.391613964239756 FO= 3.1386118048265614e-06\n",
            "k= 7 time= 15.315540941556295 FO= 4.448654741493229e-07\n",
            "k= 8 time= 17.241262992223103 FO= 4.5072515568734696e-05\n",
            "k= 9 time= 19.160465176900228 FO= 0.6666666666666731\n",
            "k= 10 time= 21.075977778434755 FO= 1.1332085418860032e-06\n",
            "k= 11 time= 23.00713622570038 FO= 0.0005426253788460497\n",
            "k= 12 time= 24.92448002099991 FO= 0.009069617979365808\n",
            "k= 13 time= 26.842379808425903 FO= 1.506450613069324e-09\n",
            "k= 14 time= 28.756088630358377 FO= 6.239496784407985e-05\n",
            "k= 15 time= 30.673705943425496 FO= 6.414250658964094e-06\n",
            "k= 16 time= 32.59936609268188 FO= 1.880673002326858e-07\n",
            "k= 17 time= 34.51355931758881 FO= 0.8796869224407333\n",
            "k= 18 time= 36.42937415440877 FO= 0.03522054045176945\n",
            "k= 19 time= 38.35273912747701 FO= 1.8754046900809231e-06\n",
            "k= 20 time= 40.27369230190913 FO= 1.58504377571902e-09\n",
            "k= 21 time= 42.17584711313248 FO= 0.8969948105730222\n",
            "k= 22 time= 44.06944131453832 FO= 0.6677548193926597\n",
            "k= 23 time= 45.96404674053192 FO= 0.8388810135184005\n"
          ],
          "name": "stdout"
        }
      ]
    },
    {
      "cell_type": "code",
      "metadata": {
        "id": "TLEE0UrZSvJF"
      },
      "source": [
        "#len(X2[1,:])\n",
        "print(cols)"
      ],
      "execution_count": null,
      "outputs": []
    },
    {
      "cell_type": "code",
      "metadata": {
        "id": "k3p9TGsx1OCu"
      },
      "source": [
        "NOMES=['DIVERSIDADE (DI)',  'DI RELATIVO','FRAC Its',\n",
        "           'VELOC FOBJ','VELOC X','NP','Fo','CRo','fmin','fmax',\n",
        "           'AD_fmin','AD_fmax','DELTA FOBJ','DELTA VX','r_fitness',\n",
        "           'F','CR']\n",
        "# BEST_INDEX= BEST_AGENTS[BEST_AGENTS[:,-1].argmin()]  \n",
        "BEST_INDEX = np.argmin(BEST_AGENTS[:,-1])\n",
        "df=pd.DataFrame(MAT_stat[BEST_INDEX], columns=NOMES)\n",
        "\n"
      ],
      "execution_count": null,
      "outputs": []
    },
    {
      "cell_type": "code",
      "metadata": {
        "id": "jIHiKR_t1xxs"
      },
      "source": [
        "pd.set_option('display.max_columns', 30)  \n",
        "#print(df)"
      ],
      "execution_count": null,
      "outputs": []
    },
    {
      "cell_type": "code",
      "metadata": {
        "id": "bx0ywpMtAAjw"
      },
      "source": [
        "plt.plot(df['FRAC Its'],df['CR'])\n",
        "plt.xlabel('Iteração/Total')\n",
        "plt.ylabel('CR')"
      ],
      "execution_count": null,
      "outputs": []
    },
    {
      "cell_type": "code",
      "metadata": {
        "id": "BvPFvbDvteDC"
      },
      "source": [
        "\n",
        "fig, ax = plt.subplots()\n",
        "ax.plot(df['FRAC Its'],df['F'],label='F')\n",
        "ax.set_xlabel('Iteração/Total')\n",
        "ax.set_ylabel('Parâmetros')\n",
        "ax.plot(df['FRAC Its'],df['CR'],'-r', label='CR')\n",
        "nome=Fun.__name__+'  M=Diversidade'+ '  D='+str(dim)\n",
        "ax.set_title(nome)\n",
        "leg = ax.legend()\n"
      ],
      "execution_count": null,
      "outputs": []
    },
    {
      "cell_type": "code",
      "metadata": {
        "id": "htooaGpDia_0"
      },
      "source": [
        "f, axarr = plt.subplots(2, sharex=True)\n",
        "axarr[0].plot(df['FRAC Its'],df['F'])\n",
        "axarr[0].set_ylabel('F')\n",
        "axarr[1].plot(df['FRAC Its'],df['CR'])\n",
        "axarr[1].set_ylabel('CR')\n",
        "axarr[1].set_xlabel('Iteração/Total')\n",
        "nome=Fun.__name__+'_Diversidade_'+ 'D='+str(dim)\n",
        "axarr[0].set_title(nome)\n"
      ],
      "execution_count": null,
      "outputs": []
    },
    {
      "cell_type": "code",
      "metadata": {
        "id": "lNSN5X-wskcx"
      },
      "source": [
        "nome='SUB'+'_Fo-'+str(Fi)+'_CRo-'+str(CRi)+'_D-'+str(dim)+'_Interv-'+str(ITE)\n",
        "print('MCS-FRANNK','Fator F/DE= %.2f' %(fator),'NPAR=',NPAR,'Iterações=',ITE*its,'Dim=', PAR,\"Min/Max=\",MIN[0],\"/\",MAX[0],'_',Fun.__name__)\n",
        "print(nome, '\\n')\n",
        "#print('BEST: ',BEST)\n",
        "#print('MÉDIA: ',MEAN)\n",
        "print('MÉDIA: ',MEAN[-1],'STD __:',STD)\n",
        "print('MIN __:',MINFO, 'MAX__: ',MAXFO)\n",
        "print(MEAN[-1])\n",
        "print(STD)\n",
        "print(MINFO)\n",
        "print(\"Tempo Médio= %.3f segundos ---\" % (TIME))\n",
        "print(RUNS,'Rodadas') \n",
        "print()\n",
        "print('BEST: ',BEST)\n",
        "# print('melhor=',BEST_AGENTS[BEST_INDEX])\n",
        "\n",
        "print('======== JADE ==============')\n",
        "print('MÉDIA: ',JADE_MEAN[-1])\n",
        "print('MIN __:',JADE_MINFO)\n",
        "print('MAX__: ',JADE_MAXFO)\n",
        "print('STD __:',JADE_STD)\n",
        "print(\"Tempo Médio= %.3f segundos ---\" % (JADE_TIME))\n",
        "print(RUNS,'Rodadas') \n",
        "print()\n",
        "print('BEST: ',JADE_BEST)\n",
        "\n",
        "print(JADE_MEAN[-1])\n",
        "print(JADE_STD)\n",
        "print(JADE_MINFO)\n",
        "\n",
        "print('================================')"
      ],
      "execution_count": null,
      "outputs": []
    },
    {
      "cell_type": "code",
      "metadata": {
        "id": "soc6munUN56c"
      },
      "source": [
        "print('FRANNK POP H                 JADE')\n",
        "print(MEAN[-1],'       ',JADE_MEAN[-1])\n",
        "print(STD,'      ',JADE_STD)\n",
        "print(MINFO,'       ',JADE_MINFO)\n"
      ],
      "execution_count": null,
      "outputs": []
    }
  ]
}