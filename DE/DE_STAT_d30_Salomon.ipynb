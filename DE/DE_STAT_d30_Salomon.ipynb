{
  "nbformat": 4,
  "nbformat_minor": 0,
  "metadata": {
    "colab": {
      "name": "DE_STAT_d30_Salomon.ipynb",
      "provenance": [],
      "collapsed_sections": [],
      "include_colab_link": true
    },
    "kernelspec": {
      "display_name": "Python 3",
      "language": "python",
      "name": "python3"
    },
    "language_info": {
      "codemirror_mode": {
        "name": "ipython",
        "version": 3
      },
      "file_extension": ".py",
      "mimetype": "text/x-python",
      "name": "python",
      "nbconvert_exporter": "python",
      "pygments_lexer": "ipython3",
      "version": "3.6.1"
    }
  },
  "cells": [
    {
      "cell_type": "markdown",
      "metadata": {
        "id": "view-in-github",
        "colab_type": "text"
      },
      "source": [
        "<a href=\"https://colab.research.google.com/github/RaianaSeixas/0_paper_one_revisited/blob/main/DE/DE_STAT_d30_Salomon.ipynb\" target=\"_parent\"><img src=\"https://colab.research.google.com/assets/colab-badge.svg\" alt=\"Open In Colab\"/></a>"
      ]
    },
    {
      "cell_type": "code",
      "metadata": {
        "id": "v1OxgXboBKoG"
      },
      "source": [
        "import time\n",
        "import matplotlib.pyplot as plt\n",
        "import numpy as np\n",
        "from random import randint"
      ],
      "execution_count": 1,
      "outputs": []
    },
    {
      "cell_type": "code",
      "metadata": {
        "id": "LbcaeSLNPSIS",
        "colab": {
          "base_uri": "https://localhost:8080/",
          "height": 171
        },
        "outputId": "4511297a-6f39-4c40-c6b4-7de7016b113d"
      },
      "source": [
        "!git clone https://github.com/ucfilho/optim_raianars_Insight\n",
        "%cd optim_raianars_Insight\n",
        "\n",
        "'''!git clone https://github.com/ucfilho/Raianars_Routines #clonar do Github\n",
        "%cd Raianars_Routines'''"
      ],
      "execution_count": 2,
      "outputs": [
        {
          "output_type": "stream",
          "text": [
            "Cloning into 'optim_raianars_Insight'...\n",
            "remote: Enumerating objects: 378, done.\u001b[K\n",
            "remote: Counting objects: 100% (64/64), done.\u001b[K\n",
            "remote: Compressing objects: 100% (64/64), done.\u001b[K\n",
            "remote: Total 378 (delta 37), reused 0 (delta 0), pack-reused 314\u001b[K\n",
            "Receiving objects: 100% (378/378), 327.66 KiB | 19.27 MiB/s, done.\n",
            "Resolving deltas: 100% (218/218), done.\n",
            "/content/optim_raianars_Insight\n"
          ],
          "name": "stdout"
        },
        {
          "output_type": "execute_result",
          "data": {
            "application/vnd.google.colaboratory.intrinsic+json": {
              "type": "string"
            },
            "text/plain": [
              "'!git clone https://github.com/ucfilho/Raianars_Routines #clonar do Github\\n%cd Raianars_Routines'"
            ]
          },
          "metadata": {
            "tags": []
          },
          "execution_count": 2
        }
      ]
    },
    {
      "cell_type": "code",
      "metadata": {
        "id": "tjabLb6IPUbC"
      },
      "source": [
        "############################### Função\n",
        "import Function\n",
        "import Go2MinMax\n",
        "#'''  \n",
        "############################### Função\n",
        "dim=30 # \n",
        "fchoice='Salomon'\n",
        "Fun=Function.Salomon\n",
        "MIN,MAX=Go2MinMax.Intervalo(dim,fchoice)\n",
        "\n",
        "'''MAX=np.repeat(10,dim)\n",
        "MIN=np.repeat(-10,dim)'''\n",
        "\n",
        "bounds = [(0,0)]*dim\n",
        "for i in range(dim):\n",
        "  bounds[i] = (MIN[i],MAX[i])\n",
        "\n",
        "\n",
        "############################### DADOS DE ENTRADA \n",
        "RUNS=50 #NÚMERO DE RODADAS\n",
        "its=1 #10 # quantas vezes vai usar o NPAR antes de alterar de novo\n",
        "ITE=2000 #10 # PONTOS quantas vezes vai alteral NPAR \n",
        "NPAR=100\n",
        "\n",
        "mut=0.50\n",
        "crossp=0.50\n"
      ],
      "execution_count": 3,
      "outputs": []
    },
    {
      "cell_type": "code",
      "metadata": {
        "id": "qMRpE0dGULCI",
        "colab": {
          "base_uri": "https://localhost:8080/"
        },
        "outputId": "fb408d47-28c8-4b93-df5e-cfdaa40ee403"
      },
      "source": [
        "!git clone https://github.com/ucfilho/Raianars_July_2020 #clonar do Github\n",
        "%cd Raianars_July_2020"
      ],
      "execution_count": 4,
      "outputs": [
        {
          "output_type": "stream",
          "text": [
            "Cloning into 'Raianars_July_2020'...\n",
            "remote: Enumerating objects: 172, done.\u001b[K\n",
            "remote: Counting objects: 100% (49/49), done.\u001b[K\n",
            "remote: Compressing objects: 100% (49/49), done.\u001b[K\n",
            "remote: Total 172 (delta 24), reused 0 (delta 0), pack-reused 123\u001b[K\n",
            "Receiving objects: 100% (172/172), 390.34 KiB | 19.52 MiB/s, done.\n",
            "Resolving deltas: 100% (86/86), done.\n",
            "/content/optim_raianars_Insight/Raianars_July_2020\n"
          ],
          "name": "stdout"
        }
      ]
    },
    {
      "cell_type": "code",
      "metadata": {
        "id": "_E15mKFURR6O"
      },
      "source": [
        "import de_soma_Insight\n",
        "import de_bounds_matriz\n",
        "import Go2MinMax\n",
        "from AvaliaX import AvaliaX\n",
        "\n",
        "\n",
        "\n",
        "\n",
        "\n",
        "# MIN,MAX=Go2MinMax.Intervalo(dim,fchoice)\n",
        "\n",
        "#TOTAL=10*dim*its*ITE\n",
        "TOTAL=NPAR*its*ITE\n",
        "SOMA=0"
      ],
      "execution_count": 5,
      "outputs": []
    },
    {
      "cell_type": "code",
      "metadata": {
        "id": "rnX8ttNopd1G",
        "colab": {
          "base_uri": "https://localhost:8080/"
        },
        "outputId": "3bc12d7c-8099-4caa-9d67-ee1236e99890"
      },
      "source": [
        "start_time = time.time()\n",
        "BEST_AGENTS=[]\n",
        "MAT_stat=[]\n",
        "\n",
        "for i in range(RUNS):\n",
        "\n",
        "    pop = np.random.rand(NPAR, dim)\n",
        "    diff=np.zeros(dim)\n",
        "    for ii in range(dim):\n",
        "      diff[ii] = MAX[ii]-MIN[ii]\n",
        "    X = MIN + pop * diff\n",
        "\n",
        "    SOMA=0\n",
        "\n",
        "    for k in range(ITE):\n",
        "      X,BEST,FOBEST,XY,BEST_XY,SOMA= de_soma_Insight.de(MAX,MIN, mut, crossp,dim,its,Fun,X,SOMA,TOTAL)\n",
        "\n",
        "    start_run = (time.time()-start_time)/60\n",
        "    print('time ',start_run,'run=',i,'Fobj=',FOBEST)  \n",
        "    BEST_AGENTS.append(BEST_XY)"
      ],
      "execution_count": 6,
      "outputs": [
        {
          "output_type": "stream",
          "text": [
            "time  0.33994981050491335 run= 0 Fobj= 0.19987334674805915\n",
            "time  0.67503741979599 run= 1 Fobj= 0.1998733611000963\n",
            "time  1.0079333583513896 run= 2 Fobj= 0.1998834760586717\n",
            "time  1.3409586668014526 run= 3 Fobj= 0.19991496859093097\n",
            "time  1.6711601297060648 run= 4 Fobj= 0.19987337914247488\n",
            "time  2.001665763060252 run= 5 Fobj= 0.20198800127522298\n",
            "time  2.331738841533661 run= 6 Fobj= 0.19987334903450205\n",
            "time  2.664848538239797 run= 7 Fobj= 0.1998733504532553\n",
            "time  2.995592216650645 run= 8 Fobj= 0.19987334631322523\n",
            "time  3.3244648536046344 run= 9 Fobj= 0.19987339269916388\n",
            "time  3.6592827399571735 run= 10 Fobj= 0.19987374977127653\n",
            "time  3.994675322373708 run= 11 Fobj= 0.19987790620774337\n",
            "time  4.3295482436815895 run= 12 Fobj= 0.19987768888428675\n",
            "time  4.6630268573760985 run= 13 Fobj= 0.19987607210445668\n",
            "time  4.995886997381846 run= 14 Fobj= 0.19988594337716514\n",
            "time  5.332297849655151 run= 15 Fobj= 0.19987411584121892\n",
            "time  5.667157888412476 run= 16 Fobj= 0.2000420736874488\n",
            "time  6.014161765575409 run= 17 Fobj= 0.1998734737187119\n",
            "time  6.360934829711914 run= 18 Fobj= 0.19987839820904735\n",
            "time  6.7096462607383724 run= 19 Fobj= 0.19987595974736663\n",
            "time  7.056401511033376 run= 20 Fobj= 0.20276997124507348\n",
            "time  7.394103368123372 run= 21 Fobj= 0.20372757707249323\n",
            "time  7.737512723604838 run= 22 Fobj= 0.19987425693936486\n",
            "time  8.076701637109121 run= 23 Fobj= 0.199877472276167\n",
            "time  8.412732605139414 run= 24 Fobj= 0.1998733892929746\n",
            "time  8.7500772078832 run= 25 Fobj= 0.2005640566019666\n",
            "time  9.086746287345886 run= 26 Fobj= 0.19991608561420607\n",
            "time  9.41927269299825 run= 27 Fobj= 0.19987449384453837\n",
            "time  9.75296218395233 run= 28 Fobj= 0.20004375978848657\n",
            "time  10.086253845691681 run= 29 Fobj= 0.19990046281298765\n",
            "time  10.42417729695638 run= 30 Fobj= 0.19987338240519584\n",
            "time  10.757686042785645 run= 31 Fobj= 0.1998741933303977\n",
            "time  11.091481331984202 run= 32 Fobj= 0.19987335498561434\n",
            "time  11.423412160078685 run= 33 Fobj= 0.19987769563289542\n",
            "time  11.756531902154286 run= 34 Fobj= 0.2024736743331443\n",
            "time  12.088454536596934 run= 35 Fobj= 0.1998737354744226\n",
            "time  12.421327062447865 run= 36 Fobj= 0.20135000494544716\n",
            "time  12.755257980028789 run= 37 Fobj= 0.19987625036033219\n",
            "time  13.090421962738038 run= 38 Fobj= 0.19988332688572036\n",
            "time  13.429824717839558 run= 39 Fobj= 0.19987335996248945\n",
            "time  13.763281242052715 run= 40 Fobj= 0.19991322510019122\n",
            "time  14.105649709701538 run= 41 Fobj= 0.20004019441967363\n",
            "time  14.444802021980285 run= 42 Fobj= 0.19987411759293894\n",
            "time  14.779187973340353 run= 43 Fobj= 0.1998738082086014\n",
            "time  15.112811291217804 run= 44 Fobj= 0.19987549336039004\n",
            "time  15.451719983418782 run= 45 Fobj= 0.1998799795714588\n",
            "time  15.783097076416016 run= 46 Fobj= 0.19987337714925912\n",
            "time  16.116901274522146 run= 47 Fobj= 0.19987428733921284\n",
            "time  16.4507257382075 run= 48 Fobj= 0.2119374184810679\n",
            "time  16.78335580031077 run= 49 Fobj= 0.19987338242298708\n"
          ],
          "name": "stdout"
        }
      ]
    },
    {
      "cell_type": "code",
      "metadata": {
        "id": "lNSN5X-wskcx",
        "colab": {
          "base_uri": "https://localhost:8080/"
        },
        "outputId": "807d5af9-97b4-4fad-8e1e-fa8efa29e18b"
      },
      "source": [
        "############################## Cálculo dos Parâmetros de Avaliação   \n",
        "TIME = (time.time() - start_time)/RUNS\n",
        "BEST_AGENTS=np.array(BEST_AGENTS)\n",
        "BEST_AGENTS_ST= BEST_AGENTS[BEST_AGENTS[:,-1].argsort()]\n",
        "BEST=BEST_AGENTS_ST[0]\n",
        "WORSE=BEST_AGENTS_ST[-1]\n",
        "MEAN=np.mean(BEST_AGENTS,axis=0)\n",
        "MAXFO=BEST_AGENTS[:,-1].max()\n",
        "MINFO=BEST_AGENTS[:,-1].min()\n",
        "STD=BEST_AGENTS[:,-1].std()\n",
        "\n",
        "nome='_DE_STAT_Fo-'+str(mut)+'_CRo-'+str(crossp)+'_D-'+str(dim)+'_Interv-'+str(ITE)\n",
        "print('DE','TOTAL=',TOTAL,'Iterações=',ITE*its,'npar=', NPAR,'Dim=', dim,\"Min/Max=\",MIN[0],\"/\",MAX[0],'_',Fun.__name__)\n",
        "print(nome, '\\n')\n",
        "#print('BEST: ',BEST)\n",
        "#print('MÉDIA: ',MEAN)\n",
        "print('MÉDIA: ',MEAN[-1])\n",
        "print('MIN __:',MINFO)\n",
        "print('MAX__: ',MAXFO)\n",
        "print('STD __:',STD)\n",
        "print(\"Tempo Médio= %.3f segundos ---\" % (TIME))\n",
        "print(RUNS,'Rodadas') \n",
        "print()\n",
        "print('BEST: ',BEST)\n",
        "print()\n",
        "print(MEAN[-1])\n",
        "print(STD)\n",
        "print(MINFO)\n",
        "# print('melhor=',BEST_AGENTS[BEST_INDEX])"
      ],
      "execution_count": 7,
      "outputs": [
        {
          "output_type": "stream",
          "text": [
            "DE TOTAL= 200000 Iterações= 2000 npar= 100 Dim= 30 Min/Max= -100 / 100 _ Salomon\n",
            "_DE_STAT_Fo-0.5_CRo-0.5_D-30_Interv-2000 \n",
            "\n",
            "MÉDIA:  0.20040202280828048\n",
            "MIN __: 0.19987334631322523\n",
            "MAX__:  0.2119374184810679\n",
            "STD __: 0.0018373637119427377\n",
            "Tempo Médio= 20.141 segundos ---\n",
            "50 Rodadas\n",
            "\n",
            "BEST:  [ 0.21556884  0.41260398  0.305422    0.06227389 -0.49069117  0.21143904\n",
            " -0.00092219  0.39356542 -0.1201365   0.12957197  0.04852244 -0.17287394\n",
            " -0.05996897 -0.45198414 -0.31818527  0.10738099  0.04156373 -0.14005946\n",
            "  0.41137962  0.85885793  0.55000923 -0.82161749 -0.12881292 -0.46339155\n",
            "  0.48237664 -0.16948681  0.08261781 -0.13696593  0.61122794  0.23190673\n",
            "  0.19987335]\n",
            "\n",
            "0.20040202280828048\n",
            "0.0018373637119427377\n",
            "0.19987334631322523\n"
          ],
          "name": "stdout"
        }
      ]
    }
  ]
}