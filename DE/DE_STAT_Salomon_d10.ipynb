{
  "nbformat": 4,
  "nbformat_minor": 0,
  "metadata": {
    "colab": {
      "name": "DE_STAT_Salomon_d10.ipynb",
      "provenance": [],
      "collapsed_sections": [],
      "include_colab_link": true
    },
    "kernelspec": {
      "display_name": "Python 3",
      "language": "python",
      "name": "python3"
    },
    "language_info": {
      "codemirror_mode": {
        "name": "ipython",
        "version": 3
      },
      "file_extension": ".py",
      "mimetype": "text/x-python",
      "name": "python",
      "nbconvert_exporter": "python",
      "pygments_lexer": "ipython3",
      "version": "3.6.1"
    }
  },
  "cells": [
    {
      "cell_type": "markdown",
      "metadata": {
        "id": "view-in-github",
        "colab_type": "text"
      },
      "source": [
        "<a href=\"https://colab.research.google.com/github/RaianaSeixas/0_paper_one_revisited/blob/main/DE/DE_STAT_Salomon_d10.ipynb\" target=\"_parent\"><img src=\"https://colab.research.google.com/assets/colab-badge.svg\" alt=\"Open In Colab\"/></a>"
      ]
    },
    {
      "cell_type": "code",
      "metadata": {
        "id": "v1OxgXboBKoG"
      },
      "source": [
        "import time\n",
        "import matplotlib.pyplot as plt\n",
        "import numpy as np\n",
        "from random import randint"
      ],
      "execution_count": 1,
      "outputs": []
    },
    {
      "cell_type": "code",
      "metadata": {
        "id": "LbcaeSLNPSIS",
        "colab": {
          "base_uri": "https://localhost:8080/",
          "height": 172
        },
        "outputId": "cb8512e8-24a1-4011-aefa-256415340c54"
      },
      "source": [
        "!git clone https://github.com/ucfilho/optim_raianars_Insight\n",
        "%cd optim_raianars_Insight\n",
        "\n",
        "'''!git clone https://github.com/ucfilho/Raianars_Routines #clonar do Github\n",
        "%cd Raianars_Routines'''"
      ],
      "execution_count": 2,
      "outputs": [
        {
          "output_type": "stream",
          "text": [
            "Cloning into 'optim_raianars_Insight'...\n",
            "remote: Enumerating objects: 378, done.\u001b[K\n",
            "remote: Counting objects: 100% (64/64), done.\u001b[K\n",
            "remote: Compressing objects: 100% (64/64), done.\u001b[K\n",
            "remote: Total 378 (delta 37), reused 0 (delta 0), pack-reused 314\u001b[K\n",
            "Receiving objects: 100% (378/378), 327.66 KiB | 11.70 MiB/s, done.\n",
            "Resolving deltas: 100% (218/218), done.\n",
            "/content/optim_raianars_Insight\n"
          ],
          "name": "stdout"
        },
        {
          "output_type": "execute_result",
          "data": {
            "application/vnd.google.colaboratory.intrinsic+json": {
              "type": "string"
            },
            "text/plain": [
              "'!git clone https://github.com/ucfilho/Raianars_Routines #clonar do Github\\n%cd Raianars_Routines'"
            ]
          },
          "metadata": {
            "tags": []
          },
          "execution_count": 2
        }
      ]
    },
    {
      "cell_type": "code",
      "metadata": {
        "id": "tjabLb6IPUbC"
      },
      "source": [
        "############################### Função\n",
        "import Function\n",
        "import Go2MinMax\n",
        "#'''  \n",
        "############################### Função\n",
        "dim=10 # \n",
        "fchoice='Salomon'\n",
        "Fun=Function.Salomon\n",
        "MIN,MAX=Go2MinMax.Intervalo(dim,fchoice)\n",
        "\n",
        "'''MAX=np.repeat(10,dim)\n",
        "MIN=np.repeat(-10,dim)'''\n",
        "\n",
        "bounds = [(0,0)]*dim\n",
        "for i in range(dim):\n",
        "  bounds[i] = (MIN[i],MAX[i])\n",
        "\n",
        "\n",
        "############################### DADOS DE ENTRADA \n",
        "RUNS=50 #NÚMERO DE RODADAS\n",
        "its=1 #10 # quantas vezes vai usar o NPAR antes de alterar de novo\n",
        "ITE=2000 #10 # PONTOS quantas vezes vai alteral NPAR \n",
        "NPAR=100\n",
        "\n",
        "mut=0.50\n",
        "crossp=0.50\n"
      ],
      "execution_count": 3,
      "outputs": []
    },
    {
      "cell_type": "code",
      "metadata": {
        "id": "qMRpE0dGULCI",
        "colab": {
          "base_uri": "https://localhost:8080/"
        },
        "outputId": "d93a134c-5463-4b43-d441-213036db3c2f"
      },
      "source": [
        "!git clone https://github.com/ucfilho/Raianars_July_2020 #clonar do Github\n",
        "%cd Raianars_July_2020"
      ],
      "execution_count": 4,
      "outputs": [
        {
          "output_type": "stream",
          "text": [
            "Cloning into 'Raianars_July_2020'...\n",
            "remote: Enumerating objects: 172, done.\u001b[K\n",
            "remote: Counting objects: 100% (49/49), done.\u001b[K\n",
            "remote: Compressing objects: 100% (49/49), done.\u001b[K\n",
            "remote: Total 172 (delta 24), reused 0 (delta 0), pack-reused 123\u001b[K\n",
            "Receiving objects: 100% (172/172), 390.34 KiB | 10.84 MiB/s, done.\n",
            "Resolving deltas: 100% (86/86), done.\n",
            "/content/optim_raianars_Insight/Raianars_July_2020\n"
          ],
          "name": "stdout"
        }
      ]
    },
    {
      "cell_type": "code",
      "metadata": {
        "id": "_E15mKFURR6O"
      },
      "source": [
        "import de_soma_Insight\n",
        "import de_bounds_matriz\n",
        "import Go2MinMax\n",
        "from AvaliaX import AvaliaX\n",
        "\n",
        "\n",
        "\n",
        "\n",
        "\n",
        "# MIN,MAX=Go2MinMax.Intervalo(dim,fchoice)\n",
        "\n",
        "TOTAL=10*dim*its*ITE\n",
        "SOMA=0"
      ],
      "execution_count": 5,
      "outputs": []
    },
    {
      "cell_type": "code",
      "metadata": {
        "id": "rnX8ttNopd1G",
        "colab": {
          "base_uri": "https://localhost:8080/"
        },
        "outputId": "00b32800-258b-437b-d354-0311d9d196d3"
      },
      "source": [
        "start_time = time.time()\n",
        "BEST_AGENTS=[]\n",
        "MAT_stat=[]\n",
        "\n",
        "for i in range(RUNS):\n",
        "\n",
        "    pop = np.random.rand(NPAR, dim)\n",
        "    diff=np.zeros(dim)\n",
        "    for ii in range(dim):\n",
        "      diff[ii] = MAX[ii]-MIN[ii]\n",
        "    X = MIN + pop * diff\n",
        "\n",
        "    SOMA=0\n",
        "\n",
        "    for k in range(ITE):\n",
        "      X,BEST,FOBEST,XY,BEST_XY,SOMA= de_soma_Insight.de(MAX,MIN, mut, crossp,dim,its,Fun,X,SOMA,TOTAL)\n",
        "\n",
        "    start_run = (time.time()-start_time)/60\n",
        "    print('time ',start_run,'run=',i,'Fobj=',FOBEST)  \n",
        "    BEST_AGENTS.append(BEST_XY)"
      ],
      "execution_count": 6,
      "outputs": [
        {
          "output_type": "stream",
          "text": [
            "time  0.055584760506947835 run= 0 Fobj= 0.09987334584903057\n",
            "time  0.10998950401941936 run= 1 Fobj= 0.7998733552278539\n",
            "time  0.16500245332717894 run= 2 Fobj= 0.39987335798275536\n",
            "time  0.21939698855082193 run= 3 Fobj= 0.0998733477228663\n",
            "time  0.2737579941749573 run= 4 Fobj= 0.5998733498166278\n",
            "time  0.32903403441111245 run= 5 Fobj= 0.09988680488044774\n",
            "time  0.38351674874623615 run= 6 Fobj= 0.2998733467551419\n",
            "time  0.4375733455022176 run= 7 Fobj= 0.17441880135140397\n",
            "time  0.4924614032109578 run= 8 Fobj= 0.0998733526481767\n",
            "time  0.5473640322685241 run= 9 Fobj= 0.09987334868749653\n",
            "time  0.6022715171178182 run= 10 Fobj= 0.09987334638069206\n",
            "time  0.65700869957606 run= 11 Fobj= 0.0998733822680158\n",
            "time  0.712043805917104 run= 12 Fobj= 0.19987334629864736\n",
            "time  0.7665671586990357 run= 13 Fobj= 0.29987334638198626\n",
            "time  0.8207827051480611 run= 14 Fobj= 0.09987334591356019\n",
            "time  0.8752327680587768 run= 15 Fobj= 0.19987334586271177\n",
            "time  0.9290861169497172 run= 16 Fobj= 0.19987334616169614\n",
            "time  0.9833052158355713 run= 17 Fobj= 0.0998733597680207\n",
            "time  1.0380774140357971 run= 18 Fobj= 0.4998733812648022\n",
            "time  1.0928973833719888 run= 19 Fobj= 0.1998733462671888\n",
            "time  1.1479536294937134 run= 20 Fobj= 0.29987334977706026\n",
            "time  1.2026155591011047 run= 21 Fobj= 0.09987337814134539\n",
            "time  1.256875209013621 run= 22 Fobj= 0.39987337319231714\n",
            "time  1.3105640649795531 run= 23 Fobj= 0.09987415256387117\n",
            "time  1.363933551311493 run= 24 Fobj= 0.19987334638353743\n",
            "time  1.4178051153818767 run= 25 Fobj= 0.29987335487398975\n",
            "time  1.4714265545209249 run= 26 Fobj= 0.799873362719726\n",
            "time  1.5255823651949565 run= 27 Fobj= 0.09987334679439097\n",
            "time  1.5796949863433838 run= 28 Fobj= 0.8998733481811344\n",
            "time  1.6320169727007547 run= 29 Fobj= 0.29987335489751366\n",
            "time  1.6861833095550538 run= 30 Fobj= 0.19987337356003565\n",
            "time  1.7397577285766601 run= 31 Fobj= 0.09987334603417773\n",
            "time  1.7935186584790548 run= 32 Fobj= 0.09987334622993255\n",
            "time  1.8476165970166525 run= 33 Fobj= 0.0998733928805498\n",
            "time  1.9012102047602335 run= 34 Fobj= 0.09987334615301581\n",
            "time  1.954885486761729 run= 35 Fobj= 0.6998733478586151\n",
            "time  2.0083994030952455 run= 36 Fobj= 0.2998733543042968\n",
            "time  2.0627981503804524 run= 37 Fobj= 0.8998733488403491\n",
            "time  2.1171071251233418 run= 38 Fobj= 0.09987335040743184\n",
            "time  2.171497408548991 run= 39 Fobj= 0.0998733654604772\n",
            "time  2.2258912444114687 run= 40 Fobj= 0.09987337820234972\n",
            "time  2.28043958346049 run= 41 Fobj= 0.3998733458480827\n",
            "time  2.3338221669197083 run= 42 Fobj= 0.19987334661697537\n",
            "time  2.388320783774058 run= 43 Fobj= 0.19987334700085557\n",
            "time  2.4428100188573203 run= 44 Fobj= 0.09987338031555876\n",
            "time  2.496886670589447 run= 45 Fobj= 0.19987334584765298\n",
            "time  2.5504593729972838 run= 46 Fobj= 0.09987337277252714\n",
            "time  2.6046049276987713 run= 47 Fobj= 0.8998733494656642\n",
            "time  2.658133856455485 run= 48 Fobj= 0.199873396907298\n",
            "time  2.7129522562026978 run= 49 Fobj= 0.09987335896308018\n"
          ],
          "name": "stdout"
        }
      ]
    },
    {
      "cell_type": "code",
      "metadata": {
        "id": "lNSN5X-wskcx",
        "colab": {
          "base_uri": "https://localhost:8080/"
        },
        "outputId": "8918aa65-3ed8-4e5c-dd94-f82a1b5daa92"
      },
      "source": [
        "############################## Cálculo dos Parâmetros de Avaliação   \n",
        "TIME = (time.time() - start_time)/RUNS\n",
        "BEST_AGENTS=np.array(BEST_AGENTS)\n",
        "BEST_AGENTS_ST= BEST_AGENTS[BEST_AGENTS[:,-1].argsort()]\n",
        "BEST=BEST_AGENTS_ST[0]\n",
        "WORSE=BEST_AGENTS_ST[-1]\n",
        "MEAN=np.mean(BEST_AGENTS,axis=0)\n",
        "MAXFO=BEST_AGENTS[:,-1].max()\n",
        "MINFO=BEST_AGENTS[:,-1].min()\n",
        "STD=BEST_AGENTS[:,-1].std()\n",
        "\n",
        "nome='_DE_STAT_Fo-'+str(mut)+'_CRo-'+str(crossp)+'_D-'+str(dim)+'_Interv-'+str(ITE)\n",
        "print('DE','TOTAL=',TOTAL,'Iterações=',ITE*its,'npar=', NPAR,'Dim=', dim,\"Min/Max=\",MIN[0],\"/\",MAX[0],'_',Fun.__name__)\n",
        "print(nome, '\\n')\n",
        "#print('BEST: ',BEST)\n",
        "#print('MÉDIA: ',MEAN)\n",
        "print('MÉDIA: ',MEAN[-1])\n",
        "print('MIN __:',MINFO)\n",
        "print('MAX__: ',MAXFO)\n",
        "print('STD __:',STD)\n",
        "print(\"Tempo Médio= %.3f segundos ---\" % (TIME))\n",
        "print(RUNS,'Rodadas') \n",
        "print()\n",
        "print('BEST: ',BEST)\n",
        "print()\n",
        "print(MEAN[-1])\n",
        "print(STD)\n",
        "print(MINFO)\n",
        "# print('melhor=',BEST_AGENTS[BEST_INDEX])"
      ],
      "execution_count": 7,
      "outputs": [
        {
          "output_type": "stream",
          "text": [
            "DE TOTAL= 200000 Iterações= 2000 npar= 100 Dim= 10 Min/Max= -100 / 100 _ Salomon\n",
            "_DE_STAT_Fo-0.5_CRo-0.5_D-10_Interv-2000 \n",
            "\n",
            "MÉDIA:  0.26936455037365864\n",
            "MIN __: 0.09987334584903057\n",
            "MAX__:  0.8998733494656642\n",
            "STD __: 0.2387129549584501\n",
            "Tempo Médio= 3.256 segundos ---\n",
            "50 Rodadas\n",
            "\n",
            "BEST:  [-0.04727231 -0.4367056  -0.41153475 -0.05423464 -0.13671733  0.27054955\n",
            "  0.72343583  0.07205408 -0.06371046  0.0720547   0.09987335]\n",
            "\n",
            "0.26936455037365864\n",
            "0.2387129549584501\n",
            "0.09987334584903057\n"
          ],
          "name": "stdout"
        }
      ]
    }
  ]
}