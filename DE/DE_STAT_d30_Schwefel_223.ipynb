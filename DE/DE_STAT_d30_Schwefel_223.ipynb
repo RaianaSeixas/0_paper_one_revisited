{
  "nbformat": 4,
  "nbformat_minor": 0,
  "metadata": {
    "colab": {
      "name": "DE_STAT_d30_Schwefel_223.ipynb",
      "provenance": [],
      "collapsed_sections": [],
      "include_colab_link": true
    },
    "kernelspec": {
      "display_name": "Python 3",
      "language": "python",
      "name": "python3"
    },
    "language_info": {
      "codemirror_mode": {
        "name": "ipython",
        "version": 3
      },
      "file_extension": ".py",
      "mimetype": "text/x-python",
      "name": "python",
      "nbconvert_exporter": "python",
      "pygments_lexer": "ipython3",
      "version": "3.6.1"
    }
  },
  "cells": [
    {
      "cell_type": "markdown",
      "metadata": {
        "id": "view-in-github",
        "colab_type": "text"
      },
      "source": [
        "<a href=\"https://colab.research.google.com/github/RaianaSeixas/0_paper_one_revisited/blob/main/DE/DE_STAT_d30_Schwefel_223.ipynb\" target=\"_parent\"><img src=\"https://colab.research.google.com/assets/colab-badge.svg\" alt=\"Open In Colab\"/></a>"
      ]
    },
    {
      "cell_type": "code",
      "metadata": {
        "id": "v1OxgXboBKoG"
      },
      "source": [
        "import time\n",
        "import matplotlib.pyplot as plt\n",
        "import numpy as np\n",
        "from random import randint"
      ],
      "execution_count": 1,
      "outputs": []
    },
    {
      "cell_type": "code",
      "metadata": {
        "id": "LbcaeSLNPSIS",
        "colab": {
          "base_uri": "https://localhost:8080/",
          "height": 171
        },
        "outputId": "62694fd4-e4d1-48fe-c4ab-743c2fb148c1"
      },
      "source": [
        "!git clone https://github.com/ucfilho/optim_raianars_Insight\n",
        "%cd optim_raianars_Insight\n",
        "\n",
        "'''!git clone https://github.com/ucfilho/Raianars_Routines #clonar do Github\n",
        "%cd Raianars_Routines'''"
      ],
      "execution_count": 2,
      "outputs": [
        {
          "output_type": "stream",
          "text": [
            "Cloning into 'optim_raianars_Insight'...\n",
            "remote: Enumerating objects: 378, done.\u001b[K\n",
            "remote: Counting objects: 100% (64/64), done.\u001b[K\n",
            "remote: Compressing objects: 100% (64/64), done.\u001b[K\n",
            "remote: Total 378 (delta 37), reused 0 (delta 0), pack-reused 314\u001b[K\n",
            "Receiving objects: 100% (378/378), 327.66 KiB | 1.44 MiB/s, done.\n",
            "Resolving deltas: 100% (218/218), done.\n",
            "/content/optim_raianars_Insight\n"
          ],
          "name": "stdout"
        },
        {
          "output_type": "execute_result",
          "data": {
            "application/vnd.google.colaboratory.intrinsic+json": {
              "type": "string"
            },
            "text/plain": [
              "'!git clone https://github.com/ucfilho/Raianars_Routines #clonar do Github\\n%cd Raianars_Routines'"
            ]
          },
          "metadata": {
            "tags": []
          },
          "execution_count": 2
        }
      ]
    },
    {
      "cell_type": "code",
      "metadata": {
        "id": "tjabLb6IPUbC"
      },
      "source": [
        "############################### Função\n",
        "import Function\n",
        "import Go2MinMax\n",
        "#'''  \n",
        "############################### Função\n",
        "dim=30 # \n",
        "fchoice='Schwefel_223'\n",
        "Fun=Function.Schwefel_223\n",
        "MIN,MAX=Go2MinMax.Intervalo(dim,fchoice)\n",
        "\n",
        "'''MAX=np.repeat(10,dim)\n",
        "MIN=np.repeat(-10,dim)'''\n",
        "\n",
        "bounds = [(0,0)]*dim\n",
        "for i in range(dim):\n",
        "  bounds[i] = (MIN[i],MAX[i])\n",
        "\n",
        "\n",
        "############################### DADOS DE ENTRADA \n",
        "RUNS=50 #NÚMERO DE RODADAS\n",
        "its=1 #10 # quantas vezes vai usar o NPAR antes de alterar de novo\n",
        "ITE=2000 #10 # PONTOS quantas vezes vai alteral NPAR \n",
        "NPAR=100\n",
        "\n",
        "mut=0.50\n",
        "crossp=0.50\n"
      ],
      "execution_count": 3,
      "outputs": []
    },
    {
      "cell_type": "code",
      "metadata": {
        "id": "qMRpE0dGULCI",
        "colab": {
          "base_uri": "https://localhost:8080/"
        },
        "outputId": "7abd4b0c-bb82-4628-8ec5-9a130f86acdd"
      },
      "source": [
        "!git clone https://github.com/ucfilho/Raianars_July_2020 #clonar do Github\n",
        "%cd Raianars_July_2020"
      ],
      "execution_count": 4,
      "outputs": [
        {
          "output_type": "stream",
          "text": [
            "Cloning into 'Raianars_July_2020'...\n",
            "remote: Enumerating objects: 172, done.\u001b[K\n",
            "remote: Counting objects: 100% (49/49), done.\u001b[K\n",
            "remote: Compressing objects: 100% (49/49), done.\u001b[K\n",
            "remote: Total 172 (delta 24), reused 0 (delta 0), pack-reused 123\u001b[K\n",
            "Receiving objects: 100% (172/172), 390.34 KiB | 3.39 MiB/s, done.\n",
            "Resolving deltas: 100% (86/86), done.\n",
            "/content/optim_raianars_Insight/Raianars_July_2020\n"
          ],
          "name": "stdout"
        }
      ]
    },
    {
      "cell_type": "code",
      "metadata": {
        "id": "_E15mKFURR6O"
      },
      "source": [
        "import de_soma_Insight\n",
        "import de_bounds_matriz\n",
        "import Go2MinMax\n",
        "from AvaliaX import AvaliaX\n",
        "\n",
        "\n",
        "\n",
        "\n",
        "\n",
        "# MIN,MAX=Go2MinMax.Intervalo(dim,fchoice)\n",
        "\n",
        "#TOTAL=10*dim*its*ITE\n",
        "TOTAL=NPAR*its*ITE\n",
        "SOMA=0"
      ],
      "execution_count": 5,
      "outputs": []
    },
    {
      "cell_type": "code",
      "metadata": {
        "id": "rnX8ttNopd1G",
        "colab": {
          "base_uri": "https://localhost:8080/"
        },
        "outputId": "35705a24-f8b8-4389-c8c0-8acd8b41d573"
      },
      "source": [
        "start_time = time.time()\n",
        "BEST_AGENTS=[]\n",
        "MAT_stat=[]\n",
        "\n",
        "for i in range(RUNS):\n",
        "\n",
        "    pop = np.random.rand(NPAR, dim)\n",
        "    diff=np.zeros(dim)\n",
        "    for ii in range(dim):\n",
        "      diff[ii] = MAX[ii]-MIN[ii]\n",
        "    X = MIN + pop * diff\n",
        "\n",
        "    SOMA=0\n",
        "\n",
        "    for k in range(ITE):\n",
        "      X,BEST,FOBEST,XY,BEST_XY,SOMA= de_soma_Insight.de(MAX,MIN, mut, crossp,dim,its,Fun,X,SOMA,TOTAL)\n",
        "\n",
        "    start_run = (time.time()-start_time)/60\n",
        "    print('time ',start_run,'run=',i,'Fobj=',FOBEST)  \n",
        "    BEST_AGENTS.append(BEST_XY)"
      ],
      "execution_count": 6,
      "outputs": [
        {
          "output_type": "stream",
          "text": [
            "time  0.3284862478574117 run= 0 Fobj= 2.2526040229207768e-61\n",
            "time  0.6534739971160889 run= 1 Fobj= 3.2028301602960623e-68\n",
            "time  0.9778035521507263 run= 2 Fobj= 2.678834839097858e-68\n",
            "time  1.3044126947720847 run= 3 Fobj= 9.681118829010696e-73\n",
            "time  1.626940166950226 run= 4 Fobj= 2.1914097238291422e-72\n",
            "time  1.9510095516840618 run= 5 Fobj= 2.8916950915126957e-67\n",
            "time  2.2767417510350545 run= 6 Fobj= 2.0741946015709366e-62\n",
            "time  2.600699508190155 run= 7 Fobj= 9.781067879398042e-67\n",
            "time  2.926595854759216 run= 8 Fobj= 6.814602957545316e-72\n",
            "time  3.2476300557454425 run= 9 Fobj= 5.6877797484800424e-64\n",
            "time  3.5670235117276508 run= 10 Fobj= 6.633822618286939e-72\n",
            "time  3.894957959651947 run= 11 Fobj= 1.8205722872717123e-71\n",
            "time  4.227882440884908 run= 12 Fobj= 1.7467173843565827e-74\n",
            "time  4.552265858650207 run= 13 Fobj= 3.5583102524737633e-69\n",
            "time  4.874757651487986 run= 14 Fobj= 9.734973494606747e-69\n",
            "time  5.201233955224355 run= 15 Fobj= 9.982248498419818e-69\n",
            "time  5.525151960055033 run= 16 Fobj= 2.3620355318700377e-70\n",
            "time  5.8515010913213095 run= 17 Fobj= 2.7874524675654747e-61\n",
            "time  6.174443809191386 run= 18 Fobj= 1.4458711045539619e-65\n",
            "time  6.504654820760091 run= 19 Fobj= 9.586732328261578e-70\n",
            "time  6.8291748801867165 run= 20 Fobj= 3.541277302324334e-76\n",
            "time  7.153567365805308 run= 21 Fobj= 5.026192703281774e-73\n",
            "time  7.479007852077484 run= 22 Fobj= 1.301898152668882e-75\n",
            "time  7.80530606508255 run= 23 Fobj= 4.80773783209577e-68\n",
            "time  8.133218820889791 run= 24 Fobj= 2.6699513614190552e-67\n",
            "time  8.460908854007721 run= 25 Fobj= 3.0480329712903903e-74\n",
            "time  8.786627157529194 run= 26 Fobj= 8.498014793738657e-71\n",
            "time  9.114458433787028 run= 27 Fobj= 2.2605929087982744e-68\n",
            "time  9.447493958473206 run= 28 Fobj= 1.131065158598157e-71\n",
            "time  9.773489844799041 run= 29 Fobj= 2.351518270749935e-73\n",
            "time  10.095933139324188 run= 30 Fobj= 2.1836577902336685e-71\n",
            "time  10.419176244735718 run= 31 Fobj= 6.038117075468231e-69\n",
            "time  10.749688136577607 run= 32 Fobj= 3.162329423350504e-66\n",
            "time  11.076366090774536 run= 33 Fobj= 3.411606530542911e-72\n",
            "time  11.402412962913512 run= 34 Fobj= 2.8326010590620366e-68\n",
            "time  11.727578258514404 run= 35 Fobj= 6.413063060885806e-37\n",
            "time  12.053977898756663 run= 36 Fobj= 1.4983311615426974e-60\n",
            "time  12.37924981911977 run= 37 Fobj= 3.50169941735429e-72\n",
            "time  12.703880190849304 run= 38 Fobj= 1.0866239736533641e-66\n",
            "time  13.032824071248372 run= 39 Fobj= 5.598551855296236e-57\n",
            "time  13.35965917110443 run= 40 Fobj= 1.0931277174956292e-68\n",
            "time  13.683047680060069 run= 41 Fobj= 1.328742869485714e-72\n",
            "time  14.008293839295705 run= 42 Fobj= 1.0348167734977248e-67\n",
            "time  14.332076203823089 run= 43 Fobj= 2.483799979350656e-72\n",
            "time  14.664742092291513 run= 44 Fobj= 3.468723640536651e-64\n",
            "time  14.98869920571645 run= 45 Fobj= 2.152366656249329e-67\n",
            "time  15.313262001673381 run= 46 Fobj= 1.9689588977497758e-67\n",
            "time  15.637530001004537 run= 47 Fobj= 8.143834751240652e-68\n",
            "time  15.963225213686625 run= 48 Fobj= 7.144513611433453e-70\n",
            "time  16.288194906711578 run= 49 Fobj= 1.429996738073242e-44\n"
          ],
          "name": "stdout"
        }
      ]
    },
    {
      "cell_type": "code",
      "metadata": {
        "id": "lNSN5X-wskcx",
        "colab": {
          "base_uri": "https://localhost:8080/"
        },
        "outputId": "40fdaa5c-1116-4e94-f2c9-5e755cd7504e"
      },
      "source": [
        "############################## Cálculo dos Parâmetros de Avaliação   \n",
        "TIME = (time.time() - start_time)/RUNS\n",
        "BEST_AGENTS=np.array(BEST_AGENTS)\n",
        "BEST_AGENTS_ST= BEST_AGENTS[BEST_AGENTS[:,-1].argsort()]\n",
        "BEST=BEST_AGENTS_ST[0]\n",
        "WORSE=BEST_AGENTS_ST[-1]\n",
        "MEAN=np.mean(BEST_AGENTS,axis=0)\n",
        "MAXFO=BEST_AGENTS[:,-1].max()\n",
        "MINFO=BEST_AGENTS[:,-1].min()\n",
        "STD=BEST_AGENTS[:,-1].std()\n",
        "\n",
        "nome='_DE_STAT_Fo-'+str(mut)+'_CRo-'+str(crossp)+'_D-'+str(dim)+'_Interv-'+str(ITE)\n",
        "print('DE','TOTAL=',TOTAL,'Iterações=',ITE*its,'npar=', NPAR,'Dim=', dim,\"Min/Max=\",MIN[0],\"/\",MAX[0],'_',Fun.__name__)\n",
        "print(nome, '\\n')\n",
        "#print('BEST: ',BEST)\n",
        "#print('MÉDIA: ',MEAN)\n",
        "print('MÉDIA: ',MEAN[-1])\n",
        "print('MIN __:',MINFO)\n",
        "print('MAX__: ',MAXFO)\n",
        "print('STD __:',STD)\n",
        "print(\"Tempo Médio= %.3f segundos ---\" % (TIME))\n",
        "print(RUNS,'Rodadas') \n",
        "print()\n",
        "print('BEST: ',BEST)\n",
        "print()\n",
        "print(MEAN[-1])\n",
        "print(STD)\n",
        "print(MINFO)\n",
        "# print('melhor=',BEST_AGENTS[BEST_INDEX])"
      ],
      "execution_count": 7,
      "outputs": [
        {
          "output_type": "stream",
          "text": [
            "DE TOTAL= 200000 Iterações= 2000 npar= 100 Dim= 30 Min/Max= -10 / 10 _ Schwefel_223\n",
            "_DE_STAT_Fo-0.5_CRo-0.5_D-30_Interv-2000 \n",
            "\n",
            "MÉDIA:  1.282612640777096e-38\n",
            "MIN __: 3.541277302324334e-76\n",
            "MAX__:  6.413063060885806e-37\n",
            "STD __: 8.978288281154425e-38\n",
            "Tempo Médio= 19.546 segundos ---\n",
            "50 Rodadas\n",
            "\n",
            "BEST:  [ 2.53889944e-08  9.13745046e-09  3.36909803e-09 -4.69749103e-09\n",
            "  1.79550450e-08  5.69987240e-10 -4.79083254e-09 -5.47396105e-09\n",
            " -5.86384410e-10 -2.66111138e-08  4.31755338e-10 -1.03252253e-08\n",
            " -1.12214980e-08 -9.66471737e-09 -1.50409806e-08 -2.87877472e-09\n",
            "  5.24612591e-09  8.26748799e-09  1.65599287e-08 -8.24471297e-09\n",
            " -8.52679615e-09  5.68764505e-09  1.63420394e-08 -9.08363654e-09\n",
            "  1.75293636e-08 -1.18907242e-08  1.34550612e-08  1.20005778e-08\n",
            " -1.00306050e-08  2.36456076e-08  3.54127730e-76]\n",
            "\n",
            "1.282612640777096e-38\n",
            "8.978288281154425e-38\n",
            "3.541277302324334e-76\n"
          ],
          "name": "stdout"
        }
      ]
    }
  ]
}