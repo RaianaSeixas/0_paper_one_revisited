{
  "nbformat": 4,
  "nbformat_minor": 0,
  "metadata": {
    "colab": {
      "name": "DE_STAT_Schwefel_223_d10.ipynb",
      "provenance": [],
      "collapsed_sections": [],
      "include_colab_link": true
    },
    "kernelspec": {
      "display_name": "Python 3",
      "language": "python",
      "name": "python3"
    },
    "language_info": {
      "codemirror_mode": {
        "name": "ipython",
        "version": 3
      },
      "file_extension": ".py",
      "mimetype": "text/x-python",
      "name": "python",
      "nbconvert_exporter": "python",
      "pygments_lexer": "ipython3",
      "version": "3.6.1"
    }
  },
  "cells": [
    {
      "cell_type": "markdown",
      "metadata": {
        "id": "view-in-github",
        "colab_type": "text"
      },
      "source": [
        "<a href=\"https://colab.research.google.com/github/RaianaSeixas/0_paper_one_revisited/blob/main/DE/DE_STAT_Schwefel_223_d10.ipynb\" target=\"_parent\"><img src=\"https://colab.research.google.com/assets/colab-badge.svg\" alt=\"Open In Colab\"/></a>"
      ]
    },
    {
      "cell_type": "code",
      "metadata": {
        "id": "v1OxgXboBKoG"
      },
      "source": [
        "import time\n",
        "import matplotlib.pyplot as plt\n",
        "import numpy as np\n",
        "from random import randint"
      ],
      "execution_count": 15,
      "outputs": []
    },
    {
      "cell_type": "code",
      "metadata": {
        "id": "LbcaeSLNPSIS",
        "colab": {
          "base_uri": "https://localhost:8080/",
          "height": 172
        },
        "outputId": "03368112-db00-476a-a176-fcf1d007227a"
      },
      "source": [
        "!git clone https://github.com/ucfilho/optim_raianars_Insight\n",
        "%cd optim_raianars_Insight\n",
        "\n",
        "'''!git clone https://github.com/ucfilho/Raianars_Routines #clonar do Github\n",
        "%cd Raianars_Routines'''"
      ],
      "execution_count": 16,
      "outputs": [
        {
          "output_type": "stream",
          "text": [
            "Cloning into 'optim_raianars_Insight'...\n",
            "remote: Enumerating objects: 378, done.\u001b[K\n",
            "remote: Counting objects:   1% (1/64)\u001b[K\rremote: Counting objects:   3% (2/64)\u001b[K\rremote: Counting objects:   4% (3/64)\u001b[K\rremote: Counting objects:   6% (4/64)\u001b[K\rremote: Counting objects:   7% (5/64)\u001b[K\rremote: Counting objects:   9% (6/64)\u001b[K\rremote: Counting objects:  10% (7/64)\u001b[K\rremote: Counting objects:  12% (8/64)\u001b[K\rremote: Counting objects:  14% (9/64)\u001b[K\rremote: Counting objects:  15% (10/64)\u001b[K\rremote: Counting objects:  17% (11/64)\u001b[K\rremote: Counting objects:  18% (12/64)\u001b[K\rremote: Counting objects:  20% (13/64)\u001b[K\rremote: Counting objects:  21% (14/64)\u001b[K\rremote: Counting objects:  23% (15/64)\u001b[K\rremote: Counting objects:  25% (16/64)\u001b[K\rremote: Counting objects:  26% (17/64)\u001b[K\rremote: Counting objects:  28% (18/64)\u001b[K\rremote: Counting objects:  29% (19/64)\u001b[K\rremote: Counting objects:  31% (20/64)\u001b[K\rremote: Counting objects:  32% (21/64)\u001b[K\rremote: Counting objects:  34% (22/64)\u001b[K\rremote: Counting objects:  35% (23/64)\u001b[K\rremote: Counting objects:  37% (24/64)\u001b[K\rremote: Counting objects:  39% (25/64)\u001b[K\rremote: Counting objects:  40% (26/64)\u001b[K\rremote: Counting objects:  42% (27/64)\u001b[K\rremote: Counting objects:  43% (28/64)\u001b[K\rremote: Counting objects:  45% (29/64)\u001b[K\rremote: Counting objects:  46% (30/64)\u001b[K\rremote: Counting objects:  48% (31/64)\u001b[K\rremote: Counting objects:  50% (32/64)\u001b[K\rremote: Counting objects:  51% (33/64)\u001b[K\rremote: Counting objects:  53% (34/64)\u001b[K\rremote: Counting objects:  54% (35/64)\u001b[K\rremote: Counting objects:  56% (36/64)\u001b[K\rremote: Counting objects:  57% (37/64)\u001b[K\rremote: Counting objects:  59% (38/64)\u001b[K\rremote: Counting objects:  60% (39/64)\u001b[K\rremote: Counting objects:  62% (40/64)\u001b[K\rremote: Counting objects:  64% (41/64)\u001b[K\rremote: Counting objects:  65% (42/64)\u001b[K\rremote: Counting objects:  67% (43/64)\u001b[K\rremote: Counting objects:  68% (44/64)\u001b[K\rremote: Counting objects:  70% (45/64)\u001b[K\rremote: Counting objects:  71% (46/64)\u001b[K\rremote: Counting objects:  73% (47/64)\u001b[K\rremote: Counting objects:  75% (48/64)\u001b[K\rremote: Counting objects:  76% (49/64)\u001b[K\rremote: Counting objects:  78% (50/64)\u001b[K\rremote: Counting objects:  79% (51/64)\u001b[K\rremote: Counting objects:  81% (52/64)\u001b[K\rremote: Counting objects:  82% (53/64)\u001b[K\rremote: Counting objects:  84% (54/64)\u001b[K\rremote: Counting objects:  85% (55/64)\u001b[K\rremote: Counting objects:  87% (56/64)\u001b[K\rremote: Counting objects:  89% (57/64)\u001b[K\rremote: Counting objects:  90% (58/64)\u001b[K\rremote: Counting objects:  92% (59/64)\u001b[K\rremote: Counting objects:  93% (60/64)\u001b[K\rremote: Counting objects:  95% (61/64)\u001b[K\rremote: Counting objects:  96% (62/64)\u001b[K\rremote: Counting objects:  98% (63/64)\u001b[K\rremote: Counting objects: 100% (64/64)\u001b[K\rremote: Counting objects: 100% (64/64), done.\u001b[K\n",
            "remote: Compressing objects:   1% (1/64)\u001b[K\rremote: Compressing objects:   3% (2/64)\u001b[K\rremote: Compressing objects:   4% (3/64)\u001b[K\rremote: Compressing objects:   6% (4/64)\u001b[K\rremote: Compressing objects:   7% (5/64)\u001b[K\rremote: Compressing objects:   9% (6/64)\u001b[K\rremote: Compressing objects:  10% (7/64)\u001b[K\rremote: Compressing objects:  12% (8/64)\u001b[K\rremote: Compressing objects:  14% (9/64)\u001b[K\rremote: Compressing objects:  15% (10/64)\u001b[K\rremote: Compressing objects:  17% (11/64)\u001b[K\rremote: Compressing objects:  18% (12/64)\u001b[K\rremote: Compressing objects:  20% (13/64)\u001b[K\rremote: Compressing objects:  21% (14/64)\u001b[K\rremote: Compressing objects:  23% (15/64)\u001b[K\rremote: Compressing objects:  25% (16/64)\u001b[K\rremote: Compressing objects:  26% (17/64)\u001b[K\rremote: Compressing objects:  28% (18/64)\u001b[K\rremote: Compressing objects:  29% (19/64)\u001b[K\rremote: Compressing objects:  31% (20/64)\u001b[K\rremote: Compressing objects:  32% (21/64)\u001b[K\rremote: Compressing objects:  34% (22/64)\u001b[K\rremote: Compressing objects:  35% (23/64)\u001b[K\rremote: Compressing objects:  37% (24/64)\u001b[K\rremote: Compressing objects:  39% (25/64)\u001b[K\rremote: Compressing objects:  40% (26/64)\u001b[K\rremote: Compressing objects:  42% (27/64)\u001b[K\rremote: Compressing objects:  43% (28/64)\u001b[K\rremote: Compressing objects:  45% (29/64)\u001b[K\rremote: Compressing objects:  46% (30/64)\u001b[K\rremote: Compressing objects:  48% (31/64)\u001b[K\rremote: Compressing objects:  50% (32/64)\u001b[K\rremote: Compressing objects:  51% (33/64)\u001b[K\rremote: Compressing objects:  53% (34/64)\u001b[K\rremote: Compressing objects:  54% (35/64)\u001b[K\rremote: Compressing objects:  56% (36/64)\u001b[K\rremote: Compressing objects:  57% (37/64)\u001b[K\rremote: Compressing objects:  59% (38/64)\u001b[K\rremote: Compressing objects:  60% (39/64)\u001b[K\rremote: Compressing objects:  62% (40/64)\u001b[K\rremote: Compressing objects:  64% (41/64)\u001b[K\rremote: Compressing objects:  65% (42/64)\u001b[K\rremote: Compressing objects:  67% (43/64)\u001b[K\rremote: Compressing objects:  68% (44/64)\u001b[K\rremote: Compressing objects:  70% (45/64)\u001b[K\rremote: Compressing objects:  71% (46/64)\u001b[K\rremote: Compressing objects:  73% (47/64)\u001b[K\rremote: Compressing objects:  75% (48/64)\u001b[K\rremote: Compressing objects:  76% (49/64)\u001b[K\rremote: Compressing objects:  78% (50/64)\u001b[K\rremote: Compressing objects:  79% (51/64)\u001b[K\rremote: Compressing objects:  81% (52/64)\u001b[K\rremote: Compressing objects:  82% (53/64)\u001b[K\rremote: Compressing objects:  84% (54/64)\u001b[K\rremote: Compressing objects:  85% (55/64)\u001b[K\rremote: Compressing objects:  87% (56/64)\u001b[K\rremote: Compressing objects:  89% (57/64)\u001b[K\rremote: Compressing objects:  90% (58/64)\u001b[K\rremote: Compressing objects:  92% (59/64)\u001b[K\rremote: Compressing objects:  93% (60/64)\u001b[K\rremote: Compressing objects:  95% (61/64)\u001b[K\rremote: Compressing objects:  96% (62/64)\u001b[K\rremote: Compressing objects:  98% (63/64)\u001b[K\rremote: Compressing objects: 100% (64/64)\u001b[K\rremote: Compressing objects: 100% (64/64), done.\u001b[K\n",
            "Receiving objects:   0% (1/378)   \rReceiving objects:   1% (4/378)   \rReceiving objects:   2% (8/378)   \rReceiving objects:   3% (12/378)   \rReceiving objects:   4% (16/378)   \rReceiving objects:   5% (19/378)   \rReceiving objects:   6% (23/378)   \rReceiving objects:   7% (27/378)   \rReceiving objects:   8% (31/378)   \rReceiving objects:   9% (35/378)   \rReceiving objects:  10% (38/378)   \rReceiving objects:  11% (42/378)   \rReceiving objects:  12% (46/378)   \rReceiving objects:  13% (50/378)   \rReceiving objects:  14% (53/378)   \rReceiving objects:  15% (57/378)   \rReceiving objects:  16% (61/378)   \rReceiving objects:  17% (65/378)   \rReceiving objects:  18% (69/378)   \rReceiving objects:  19% (72/378)   \rReceiving objects:  20% (76/378)   \rReceiving objects:  21% (80/378)   \rReceiving objects:  22% (84/378)   \rReceiving objects:  23% (87/378)   \rReceiving objects:  24% (91/378)   \rReceiving objects:  25% (95/378)   \rReceiving objects:  26% (99/378)   \rReceiving objects:  27% (103/378)   \rReceiving objects:  28% (106/378)   \rReceiving objects:  29% (110/378)   \rReceiving objects:  30% (114/378)   \rReceiving objects:  31% (118/378)   \rReceiving objects:  32% (121/378)   \rReceiving objects:  33% (125/378)   \rReceiving objects:  34% (129/378)   \rReceiving objects:  35% (133/378)   \rReceiving objects:  36% (137/378)   \rReceiving objects:  37% (140/378)   \rReceiving objects:  38% (144/378)   \rReceiving objects:  39% (148/378)   \rReceiving objects:  40% (152/378)   \rReceiving objects:  41% (155/378)   \rReceiving objects:  42% (159/378)   \rReceiving objects:  43% (163/378)   \rReceiving objects:  44% (167/378)   \rReceiving objects:  45% (171/378)   \rReceiving objects:  46% (174/378)   \rReceiving objects:  47% (178/378)   \rReceiving objects:  48% (182/378)   \rReceiving objects:  49% (186/378)   \rReceiving objects:  50% (189/378)   \rReceiving objects:  51% (193/378)   \rremote: Total 378 (delta 37), reused 0 (delta 0), pack-reused 314\u001b[K\n",
            "Receiving objects: 100% (378/378), 327.66 KiB | 20.48 MiB/s, done.\n",
            "Resolving deltas: 100% (218/218), done.\n",
            "/content/optim_raianars_Insight/Raianars_July_2020/optim_raianars_Insight/Raianars_July_2020/optim_raianars_Insight\n"
          ],
          "name": "stdout"
        },
        {
          "output_type": "execute_result",
          "data": {
            "application/vnd.google.colaboratory.intrinsic+json": {
              "type": "string"
            },
            "text/plain": [
              "'!git clone https://github.com/ucfilho/Raianars_Routines #clonar do Github\\n%cd Raianars_Routines'"
            ]
          },
          "metadata": {
            "tags": []
          },
          "execution_count": 16
        }
      ]
    },
    {
      "cell_type": "code",
      "metadata": {
        "id": "tjabLb6IPUbC"
      },
      "source": [
        "############################### Função\n",
        "import Function\n",
        "import Go2MinMax\n",
        "#'''  \n",
        "############################### Função\n",
        "dim=10 # \n",
        "fchoice='Schwefel_223'\n",
        "Fun=Function.Schwefel_223\n",
        "MIN,MAX=Go2MinMax.Intervalo(dim,fchoice)\n",
        "\n",
        "'''MAX=np.repeat(10,dim)\n",
        "MIN=np.repeat(-10,dim)'''\n",
        "\n",
        "bounds = [(0,0)]*dim\n",
        "for i in range(dim):\n",
        "  bounds[i] = (MIN[i],MAX[i])\n",
        "\n",
        "\n",
        "############################### DADOS DE ENTRADA \n",
        "RUNS=50 #NÚMERO DE RODADAS\n",
        "its=1 #10 # quantas vezes vai usar o NPAR antes de alterar de novo\n",
        "ITE=2000 #10 # PONTOS quantas vezes vai alteral NPAR \n",
        "NPAR=100\n",
        "\n",
        "mut=0.50\n",
        "crossp=0.50\n"
      ],
      "execution_count": 17,
      "outputs": []
    },
    {
      "cell_type": "code",
      "metadata": {
        "id": "qMRpE0dGULCI",
        "colab": {
          "base_uri": "https://localhost:8080/"
        },
        "outputId": "71ba3adc-cc9d-4b01-e7ad-fc7ea4d30d62"
      },
      "source": [
        "!git clone https://github.com/ucfilho/Raianars_July_2020 #clonar do Github\n",
        "%cd Raianars_July_2020"
      ],
      "execution_count": 18,
      "outputs": [
        {
          "output_type": "stream",
          "text": [
            "Cloning into 'Raianars_July_2020'...\n",
            "remote: Enumerating objects: 172, done.\u001b[K\n",
            "remote: Counting objects: 100% (49/49), done.\u001b[K\n",
            "remote: Compressing objects: 100% (49/49), done.\u001b[K\n",
            "remote: Total 172 (delta 24), reused 0 (delta 0), pack-reused 123\u001b[K\n",
            "Receiving objects: 100% (172/172), 390.34 KiB | 26.02 MiB/s, done.\n",
            "Resolving deltas: 100% (86/86), done.\n",
            "/content/optim_raianars_Insight/Raianars_July_2020/optim_raianars_Insight/Raianars_July_2020/optim_raianars_Insight/Raianars_July_2020\n"
          ],
          "name": "stdout"
        }
      ]
    },
    {
      "cell_type": "code",
      "metadata": {
        "id": "_E15mKFURR6O"
      },
      "source": [
        "import de_soma_Insight\n",
        "import de_bounds_matriz\n",
        "import Go2MinMax\n",
        "from AvaliaX import AvaliaX\n",
        "\n",
        "\n",
        "\n",
        "\n",
        "\n",
        "# MIN,MAX=Go2MinMax.Intervalo(dim,fchoice)\n",
        "\n",
        "TOTAL=10*dim*its*ITE\n",
        "SOMA=0"
      ],
      "execution_count": 19,
      "outputs": []
    },
    {
      "cell_type": "code",
      "metadata": {
        "id": "rnX8ttNopd1G",
        "colab": {
          "base_uri": "https://localhost:8080/"
        },
        "outputId": "ef59960f-d6f4-4c38-edee-08e7c986aebf"
      },
      "source": [
        "start_time = time.time()\n",
        "BEST_AGENTS=[]\n",
        "MAT_stat=[]\n",
        "\n",
        "for i in range(RUNS):\n",
        "\n",
        "    pop = np.random.rand(NPAR, dim)\n",
        "    diff=np.zeros(dim)\n",
        "    for ii in range(dim):\n",
        "      diff[ii] = MAX[ii]-MIN[ii]\n",
        "    X = MIN + pop * diff\n",
        "\n",
        "    SOMA=0\n",
        "\n",
        "    for k in range(ITE):\n",
        "      X,BEST,FOBEST,XY,BEST_XY,SOMA= de_soma_Insight.de(MAX,MIN, mut, crossp,dim,its,Fun,X,SOMA,TOTAL)\n",
        "\n",
        "    start_run = (time.time()-start_time)/60\n",
        "    print('time ',start_run,'run=',i,'Fobj=',FOBEST)  \n",
        "    BEST_AGENTS.append(BEST_XY)"
      ],
      "execution_count": 20,
      "outputs": [
        {
          "output_type": "stream",
          "text": [
            "time  0.0538753867149353 run= 0 total=50 Fobj= 168.6408660854539\n",
            "time  0.10575368007024129 run= 1 total=50 Fobj= 0.003185770624430302\n",
            "time  0.15739281177520753 run= 2 total=50 Fobj= 38210.2001340446\n",
            "time  0.21025680303573607 run= 3 total=50 Fobj= 2.997920761891713\n",
            "time  0.2629413326581319 run= 4 total=50 Fobj= 3912.0068260207922\n",
            "time  0.3149226665496826 run= 5 total=50 Fobj= 0.3868400072203213\n",
            "time  0.36692919333775836 run= 6 total=50 Fobj= 23573.3906703297\n",
            "time  0.4194724520047506 run= 7 total=50 Fobj= 0.39129759208980625\n",
            "time  0.47159843842188515 run= 8 total=50 Fobj= 1673.2604615975454\n",
            "time  0.5236185630162556 run= 9 total=50 Fobj= 7.151190559767093e-18\n",
            "time  0.5751843492190043 run= 10 total=50 Fobj= 2.2373918003833792e-09\n",
            "time  0.6272825002670288 run= 11 total=50 Fobj= 4.1373407471599344e-15\n",
            "time  0.6798178633054097 run= 12 total=50 Fobj= 0.011425294202393601\n",
            "time  0.7320151090621948 run= 13 total=50 Fobj= 0.0029658620692791736\n",
            "time  0.7840989589691162 run= 14 total=50 Fobj= 72.4388174339543\n",
            "time  0.8356983860333761 run= 15 total=50 Fobj= 0.0019343943180115657\n",
            "time  0.8881274223327636 run= 16 total=50 Fobj= 1.6088857635048258e-05\n",
            "time  0.9420347571372986 run= 17 total=50 Fobj= 7.816561495724685e-19\n",
            "time  0.9958036382993062 run= 18 total=50 Fobj= 0.04754637159094109\n",
            "time  1.050161071618398 run= 19 total=50 Fobj= 7364.8065997595595\n",
            "time  1.1024624546368917 run= 20 total=50 Fobj= 0.0002713336145463505\n",
            "time  1.1546252568562825 run= 21 total=50 Fobj= 19.400384829473193\n",
            "time  1.2069677829742431 run= 22 total=50 Fobj= 884.194508008316\n",
            "time  1.2586870630582174 run= 23 total=50 Fobj= 0.0035794862190132734\n",
            "time  1.3111481388409933 run= 24 total=50 Fobj= 1.91730905903394e-08\n",
            "time  1.364282476902008 run= 25 total=50 Fobj= 65.92454786189059\n",
            "time  1.4180556138356526 run= 26 total=50 Fobj= 4.122221192311689e-23\n",
            "time  1.4704075972239177 run= 27 total=50 Fobj= 2.0023681375989607e-06\n",
            "time  1.52239377895991 run= 28 total=50 Fobj= 1.0403743860045639e-11\n",
            "time  1.5747903744379679 run= 29 total=50 Fobj= 1.779966496697188\n",
            "time  1.6267966469128927 run= 30 total=50 Fobj= 0.001833789890237139\n",
            "time  1.6793226798375447 run= 31 total=50 Fobj= 0.0019936655667742585\n",
            "time  1.730962340037028 run= 32 total=50 Fobj= 81925.28650575859\n",
            "time  1.7834519068400065 run= 33 total=50 Fobj= 0.0002345617856827704\n",
            "time  1.8352651794751484 run= 34 total=50 Fobj= 8.806903040912222e-06\n",
            "time  1.887166925271352 run= 35 total=50 Fobj= 5.136269759899444\n",
            "time  1.93955131371816 run= 36 total=50 Fobj= 1.0800306976235832e-06\n",
            "time  1.9922076106071471 run= 37 total=50 Fobj= 3.404013870031829e-11\n",
            "time  2.044749156634013 run= 38 total=50 Fobj= 707.0464325757299\n",
            "time  2.096373716990153 run= 39 total=50 Fobj= 0.00408336434109058\n",
            "time  2.148100745677948 run= 40 total=50 Fobj= 0.35904901889241336\n",
            "time  2.2001755992571512 run= 41 total=50 Fobj= 356.28858469450944\n",
            "time  2.2517831206321715 run= 42 total=50 Fobj= 0.0011585009508921138\n",
            "time  2.3040343244870503 run= 43 total=50 Fobj= 1.8863444082851955\n",
            "time  2.3567028443018594 run= 44 total=50 Fobj= 0.0015391461300964125\n",
            "time  2.410137053330739 run= 45 total=50 Fobj= 0.1087137375707156\n",
            "time  2.462438937028249 run= 46 total=50 Fobj= 4.2232919255613226e-12\n",
            "time  2.515286314487457 run= 47 total=50 Fobj= 1.892898160259067e-06\n",
            "time  2.5692991932233173 run= 48 total=50 Fobj= 3.3529475738485085e-13\n",
            "time  2.621589394410451 run= 49 total=50 Fobj= 1.984767865858525e-07\n"
          ],
          "name": "stdout"
        }
      ]
    },
    {
      "cell_type": "code",
      "metadata": {
        "id": "lNSN5X-wskcx",
        "colab": {
          "base_uri": "https://localhost:8080/"
        },
        "outputId": "0a40c94f-4aaa-4105-c41d-aa8886c06002"
      },
      "source": [
        "############################## Cálculo dos Parâmetros de Avaliação   \n",
        "TIME = (time.time() - start_time)/RUNS\n",
        "BEST_AGENTS=np.array(BEST_AGENTS)\n",
        "BEST_AGENTS_ST= BEST_AGENTS[BEST_AGENTS[:,-1].argsort()]\n",
        "BEST=BEST_AGENTS_ST[0]\n",
        "WORSE=BEST_AGENTS_ST[-1]\n",
        "MEAN=np.mean(BEST_AGENTS,axis=0)\n",
        "MAXFO=BEST_AGENTS[:,-1].max()\n",
        "MINFO=BEST_AGENTS[:,-1].min()\n",
        "STD=BEST_AGENTS[:,-1].std()\n",
        "\n",
        "nome='_DE_STAT_Fo-'+str(mut)+'_CRo-'+str(crossp)+'_D-'+str(dim)+'_Interv-'+str(ITE)\n",
        "print('DE','TOTAL=',TOTAL,'Iterações=',ITE*its,'npar=', NPAR,'Dim=', dim,\"Min/Max=\",MIN[0],\"/\",MAX[0],'_',Fun.__name__)\n",
        "print(nome, '\\n')\n",
        "#print('BEST: ',BEST)\n",
        "#print('MÉDIA: ',MEAN)\n",
        "print('MÉDIA: ',MEAN[-1])\n",
        "print('MIN __:',MINFO)\n",
        "print('MAX__: ',MAXFO)\n",
        "print('STD __:',STD)\n",
        "print(\"Tempo Médio= %.3f segundos ---\" % (TIME))\n",
        "print(RUNS,'Rodadas') \n",
        "print()\n",
        "print('BEST: ',BEST)\n",
        "print()\n",
        "print(MEAN[-1])\n",
        "print(STD)\n",
        "print(MINFO)\n",
        "# print('melhor=',BEST_AGENTS[BEST_INDEX])"
      ],
      "execution_count": 23,
      "outputs": [
        {
          "output_type": "stream",
          "text": [
            "DE TOTAL= 200000 Iterações= 2000 npar= 100 Dim= 10 Min/Max= -10 / 10 _ Schwefel_223\n",
            "_DE_STAT_Fo-0.5_CRo-0.5_D-10_Interv-2000 \n",
            "\n",
            "MÉDIA:  3178.920270448299\n",
            "MIN __: 4.122221192311689e-23\n",
            "MAX__:  81925.28650575859\n",
            "STD __: 12880.986832689245\n",
            "Tempo Médio= 8.207 segundos ---\n",
            "50 Rodadas\n",
            "\n",
            "BEST:  [ 8.65855667e-04  2.28685091e-04 -4.55168046e-03  2.34016159e-03\n",
            " -4.75817399e-03 -8.26317664e-05 -1.65313087e-03 -1.84044106e-03\n",
            "  5.62035620e-03  1.86247626e-04  4.12222119e-23]\n",
            "\n",
            "3178.920270448299\n",
            "12880.986832689245\n",
            "4.122221192311689e-23\n"
          ],
          "name": "stdout"
        }
      ]
    }
  ]
}