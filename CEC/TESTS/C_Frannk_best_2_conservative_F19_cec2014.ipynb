{
  "cells": [
    {
      "cell_type": "markdown",
      "metadata": {
        "id": "view-in-github",
        "colab_type": "text"
      },
      "source": [
        "<a href=\"https://colab.research.google.com/github/RaianaSeixas/0_paper_one_revisited/blob/main/CEC/TESTS/C_Frannk_best_2_conservative_F19_cec2014.ipynb\" target=\"_parent\"><img src=\"https://colab.research.google.com/assets/colab-badge.svg\" alt=\"Open In Colab\"/></a>"
      ]
    },
    {
      "cell_type": "code",
      "execution_count": null,
      "metadata": {
        "colab": {
          "base_uri": "https://localhost:8080/"
        },
        "id": "c59cDVKoxDLX",
        "outputId": "650f1522-a95b-417c-f234-015eab6a84aa"
      },
      "outputs": [
        {
          "name": "stdout",
          "output_type": "stream",
          "text": [
            "Cloning into 'optim_raianars_Insight'...\n",
            "remote: Enumerating objects: 397, done.\u001b[K\n",
            "remote: Counting objects:   1% (1/83)\u001b[K\rremote: Counting objects:   2% (2/83)\u001b[K\rremote: Counting objects:   3% (3/83)\u001b[K\rremote: Counting objects:   4% (4/83)\u001b[K\rremote: Counting objects:   6% (5/83)\u001b[K\rremote: Counting objects:   7% (6/83)\u001b[K\rremote: Counting objects:   8% (7/83)\u001b[K\rremote: Counting objects:   9% (8/83)\u001b[K\rremote: Counting objects:  10% (9/83)\u001b[K\rremote: Counting objects:  12% (10/83)\u001b[K\rremote: Counting objects:  13% (11/83)\u001b[K\rremote: Counting objects:  14% (12/83)\u001b[K\rremote: Counting objects:  15% (13/83)\u001b[K\rremote: Counting objects:  16% (14/83)\u001b[K\rremote: Counting objects:  18% (15/83)\u001b[K\rremote: Counting objects:  19% (16/83)\u001b[K\rremote: Counting objects:  20% (17/83)\u001b[K\rremote: Counting objects:  21% (18/83)\u001b[K\rremote: Counting objects:  22% (19/83)\u001b[K\rremote: Counting objects:  24% (20/83)\u001b[K\rremote: Counting objects:  25% (21/83)\u001b[K\rremote: Counting objects:  26% (22/83)\u001b[K\rremote: Counting objects:  27% (23/83)\u001b[K\rremote: Counting objects:  28% (24/83)\u001b[K\rremote: Counting objects:  30% (25/83)\u001b[K\rremote: Counting objects:  31% (26/83)\u001b[K\rremote: Counting objects:  32% (27/83)\u001b[K\rremote: Counting objects:  33% (28/83)\u001b[K\rremote: Counting objects:  34% (29/83)\u001b[K\rremote: Counting objects:  36% (30/83)\u001b[K\rremote: Counting objects:  37% (31/83)\u001b[K\rremote: Counting objects:  38% (32/83)\u001b[K\rremote: Counting objects:  39% (33/83)\u001b[K\rremote: Counting objects:  40% (34/83)\u001b[K\rremote: Counting objects:  42% (35/83)\u001b[K\rremote: Counting objects:  43% (36/83)\u001b[K\rremote: Counting objects:  44% (37/83)\u001b[K\rremote: Counting objects:  45% (38/83)\u001b[K\rremote: Counting objects:  46% (39/83)\u001b[K\rremote: Counting objects:  48% (40/83)\u001b[K\rremote: Counting objects:  49% (41/83)\u001b[K\rremote: Counting objects:  50% (42/83)\u001b[K\rremote: Counting objects:  51% (43/83)\u001b[K\rremote: Counting objects:  53% (44/83)\u001b[K\rremote: Counting objects:  54% (45/83)\u001b[K\rremote: Counting objects:  55% (46/83)\u001b[K\rremote: Counting objects:  56% (47/83)\u001b[K\rremote: Counting objects:  57% (48/83)\u001b[K\rremote: Counting objects:  59% (49/83)\u001b[K\rremote: Counting objects:  60% (50/83)\u001b[K\rremote: Counting objects:  61% (51/83)\u001b[K\rremote: Counting objects:  62% (52/83)\u001b[K\rremote: Counting objects:  63% (53/83)\u001b[K\rremote: Counting objects:  65% (54/83)\u001b[K\rremote: Counting objects:  66% (55/83)\u001b[K\rremote: Counting objects:  67% (56/83)\u001b[K\rremote: Counting objects:  68% (57/83)\u001b[K\rremote: Counting objects:  69% (58/83)\u001b[K\rremote: Counting objects:  71% (59/83)\u001b[K\rremote: Counting objects:  72% (60/83)\u001b[K\rremote: Counting objects:  73% (61/83)\u001b[K\rremote: Counting objects:  74% (62/83)\u001b[K\rremote: Counting objects:  75% (63/83)\u001b[K\rremote: Counting objects:  77% (64/83)\u001b[K\rremote: Counting objects:  78% (65/83)\u001b[K\rremote: Counting objects:  79% (66/83)\u001b[K\rremote: Counting objects:  80% (67/83)\u001b[K\rremote: Counting objects:  81% (68/83)\u001b[K\rremote: Counting objects:  83% (69/83)\u001b[K\rremote: Counting objects:  84% (70/83)\u001b[K\rremote: Counting objects:  85% (71/83)\u001b[K\rremote: Counting objects:  86% (72/83)\u001b[K\rremote: Counting objects:  87% (73/83)\u001b[K\rremote: Counting objects:  89% (74/83)\u001b[K\rremote: Counting objects:  90% (75/83)\u001b[K\rremote: Counting objects:  91% (76/83)\u001b[K\rremote: Counting objects:  92% (77/83)\u001b[K\rremote: Counting objects:  93% (78/83)\u001b[K\rremote: Counting objects:  95% (79/83)\u001b[K\rremote: Counting objects:  96% (80/83)\u001b[K\rremote: Counting objects:  97% (81/83)\u001b[K\rremote: Counting objects:  98% (82/83)\u001b[K\rremote: Counting objects: 100% (83/83)\u001b[K\rremote: Counting objects: 100% (83/83), done.\u001b[K\n",
            "remote: Compressing objects:   1% (1/83)\u001b[K\rremote: Compressing objects:   2% (2/83)\u001b[K\rremote: Compressing objects:   3% (3/83)\u001b[K\rremote: Compressing objects:   4% (4/83)\u001b[K\rremote: Compressing objects:   6% (5/83)\u001b[K\rremote: Compressing objects:   7% (6/83)\u001b[K\rremote: Compressing objects:   8% (7/83)\u001b[K\rremote: Compressing objects:   9% (8/83)\u001b[K\rremote: Compressing objects:  10% (9/83)\u001b[K\rremote: Compressing objects:  12% (10/83)\u001b[K\rremote: Compressing objects:  13% (11/83)\u001b[K\rremote: Compressing objects:  14% (12/83)\u001b[K\rremote: Compressing objects:  15% (13/83)\u001b[K\rremote: Compressing objects:  16% (14/83)\u001b[K\rremote: Compressing objects:  18% (15/83)\u001b[K\rremote: Compressing objects:  19% (16/83)\u001b[K\rremote: Compressing objects:  20% (17/83)\u001b[K\rremote: Compressing objects:  21% (18/83)\u001b[K\rremote: Compressing objects:  22% (19/83)\u001b[K\rremote: Compressing objects:  24% (20/83)\u001b[K\rremote: Compressing objects:  25% (21/83)\u001b[K\rremote: Compressing objects:  26% (22/83)\u001b[K\rremote: Compressing objects:  27% (23/83)\u001b[K\rremote: Compressing objects:  28% (24/83)\u001b[K\rremote: Compressing objects:  30% (25/83)\u001b[K\rremote: Compressing objects:  31% (26/83)\u001b[K\rremote: Compressing objects:  32% (27/83)\u001b[K\rremote: Compressing objects:  33% (28/83)\u001b[K\rremote: Compressing objects:  34% (29/83)\u001b[K\rremote: Compressing objects:  36% (30/83)\u001b[K\rremote: Compressing objects:  37% (31/83)\u001b[K\rremote: Compressing objects:  38% (32/83)\u001b[K\rremote: Compressing objects:  39% (33/83)\u001b[K\rremote: Compressing objects:  40% (34/83)\u001b[K\rremote: Compressing objects:  42% (35/83)\u001b[K\rremote: Compressing objects:  43% (36/83)\u001b[K\rremote: Compressing objects:  44% (37/83)\u001b[K\rremote: Compressing objects:  45% (38/83)\u001b[K\rremote: Compressing objects:  46% (39/83)\u001b[K\rremote: Compressing objects:  48% (40/83)\u001b[K\rremote: Compressing objects:  49% (41/83)\u001b[K\rremote: Compressing objects:  50% (42/83)\u001b[K\rremote: Compressing objects:  51% (43/83)\u001b[K\rremote: Compressing objects:  53% (44/83)\u001b[K\rremote: Compressing objects:  54% (45/83)\u001b[K\rremote: Compressing objects:  55% (46/83)\u001b[K\rremote: Compressing objects:  56% (47/83)\u001b[K\rremote: Compressing objects:  57% (48/83)\u001b[K\rremote: Compressing objects:  59% (49/83)\u001b[K\rremote: Compressing objects:  60% (50/83)\u001b[K\rremote: Compressing objects:  61% (51/83)\u001b[K\rremote: Compressing objects:  62% (52/83)\u001b[K\rremote: Compressing objects:  63% (53/83)\u001b[K\rremote: Compressing objects:  65% (54/83)\u001b[K\rremote: Compressing objects:  66% (55/83)\u001b[K\rremote: Compressing objects:  67% (56/83)\u001b[K\rremote: Compressing objects:  68% (57/83)\u001b[K\rremote: Compressing objects:  69% (58/83)\u001b[K\rremote: Compressing objects:  71% (59/83)\u001b[K\rremote: Compressing objects:  72% (60/83)\u001b[K\rremote: Compressing objects:  73% (61/83)\u001b[K\rremote: Compressing objects:  74% (62/83)\u001b[K\rremote: Compressing objects:  75% (63/83)\u001b[K\rremote: Compressing objects:  77% (64/83)\u001b[K\rremote: Compressing objects:  78% (65/83)\u001b[K\rremote: Compressing objects:  79% (66/83)\u001b[K\rremote: Compressing objects:  80% (67/83)\u001b[K\rremote: Compressing objects:  81% (68/83)\u001b[K\rremote: Compressing objects:  83% (69/83)\u001b[K\rremote: Compressing objects:  84% (70/83)\u001b[K\rremote: Compressing objects:  85% (71/83)\u001b[K\rremote: Compressing objects:  86% (72/83)\u001b[K\rremote: Compressing objects:  87% (73/83)\u001b[K\rremote: Compressing objects:  89% (74/83)\u001b[K\rremote: Compressing objects:  90% (75/83)\u001b[K\rremote: Compressing objects:  91% (76/83)\u001b[K\rremote: Compressing objects:  92% (77/83)\u001b[K\rremote: Compressing objects:  93% (78/83)\u001b[K\rremote: Compressing objects:  95% (79/83)\u001b[K\rremote: Compressing objects:  96% (80/83)\u001b[K\rremote: Compressing objects:  97% (81/83)\u001b[K\rremote: Compressing objects:  98% (82/83)\u001b[K\rremote: Compressing objects: 100% (83/83)\u001b[K\rremote: Compressing objects: 100% (83/83), done.\u001b[K\n",
            "Receiving objects:   0% (1/397)   \rReceiving objects:   1% (4/397)   \rReceiving objects:   2% (8/397)   \rReceiving objects:   3% (12/397)   \rReceiving objects:   4% (16/397)   \rReceiving objects:   5% (20/397)   \rReceiving objects:   6% (24/397)   \rReceiving objects:   7% (28/397)   \rReceiving objects:   8% (32/397)   \rReceiving objects:   9% (36/397)   \rReceiving objects:  10% (40/397)   \rReceiving objects:  11% (44/397)   \rReceiving objects:  12% (48/397)   \rReceiving objects:  13% (52/397)   \rReceiving objects:  14% (56/397)   \rReceiving objects:  15% (60/397)   \rReceiving objects:  16% (64/397)   \rReceiving objects:  17% (68/397)   \rReceiving objects:  18% (72/397)   \rReceiving objects:  19% (76/397)   \rReceiving objects:  20% (80/397)   \rReceiving objects:  21% (84/397)   \rReceiving objects:  22% (88/397)   \rReceiving objects:  23% (92/397)   \rReceiving objects:  24% (96/397)   \rReceiving objects:  25% (100/397)   \rReceiving objects:  26% (104/397)   \rReceiving objects:  27% (108/397)   \rReceiving objects:  28% (112/397)   \rReceiving objects:  29% (116/397)   \rReceiving objects:  30% (120/397)   \rReceiving objects:  31% (124/397)   \rReceiving objects:  32% (128/397)   \rReceiving objects:  33% (132/397)   \rReceiving objects:  34% (135/397)   \rReceiving objects:  35% (139/397)   \rReceiving objects:  36% (143/397)   \rReceiving objects:  37% (147/397)   \rReceiving objects:  38% (151/397)   \rReceiving objects:  39% (155/397)   \rReceiving objects:  40% (159/397)   \rReceiving objects:  41% (163/397)   \rReceiving objects:  42% (167/397)   \rReceiving objects:  43% (171/397)   \rReceiving objects:  44% (175/397)   \rReceiving objects:  45% (179/397)   \rReceiving objects:  46% (183/397)   \rReceiving objects:  47% (187/397)   \rReceiving objects:  48% (191/397)   \rReceiving objects:  49% (195/397)   \rReceiving objects:  50% (199/397)   \rReceiving objects:  51% (203/397)   \rReceiving objects:  52% (207/397)   \rReceiving objects:  53% (211/397)   \rReceiving objects:  54% (215/397)   \rReceiving objects:  55% (219/397)   \rReceiving objects:  56% (223/397)   \rReceiving objects:  57% (227/397)   \rReceiving objects:  58% (231/397)   \rReceiving objects:  59% (235/397)   \rReceiving objects:  60% (239/397)   \rReceiving objects:  61% (243/397)   \rReceiving objects:  62% (247/397)   \rReceiving objects:  63% (251/397)   \rReceiving objects:  64% (255/397)   \rReceiving objects:  65% (259/397)   \rReceiving objects:  66% (263/397)   \rReceiving objects:  67% (266/397)   \rReceiving objects:  68% (270/397)   \rReceiving objects:  69% (274/397)   \rReceiving objects:  70% (278/397)   \rReceiving objects:  71% (282/397)   \rReceiving objects:  72% (286/397)   \rReceiving objects:  73% (290/397)   \rReceiving objects:  74% (294/397)   \rremote: Total 397 (delta 46), reused 0 (delta 0), pack-reused 314\u001b[K\n",
            "Receiving objects:  75% (298/397)   \rReceiving objects:  76% (302/397)   \rReceiving objects:  77% (306/397)   \rReceiving objects:  78% (310/397)   \rReceiving objects:  79% (314/397)   \rReceiving objects:  80% (318/397)   \rReceiving objects:  81% (322/397)   \rReceiving objects:  82% (326/397)   \rReceiving objects:  83% (330/397)   \rReceiving objects:  84% (334/397)   \rReceiving objects:  85% (338/397)   \rReceiving objects:  86% (342/397)   \rReceiving objects:  87% (346/397)   \rReceiving objects:  88% (350/397)   \rReceiving objects:  89% (354/397)   \rReceiving objects:  90% (358/397)   \rReceiving objects:  91% (362/397)   \rReceiving objects:  92% (366/397)   \rReceiving objects:  93% (370/397)   \rReceiving objects:  94% (374/397)   \rReceiving objects:  95% (378/397)   \rReceiving objects:  96% (382/397)   \rReceiving objects:  97% (386/397)   \rReceiving objects:  98% (390/397)   \rReceiving objects:  99% (394/397)   \rReceiving objects: 100% (397/397)   \rReceiving objects: 100% (397/397), 335.23 KiB | 17.64 MiB/s, done.\n",
            "Resolving deltas:   0% (0/227)   \rResolving deltas:  47% (108/227)   \rResolving deltas:  48% (109/227)   \rResolving deltas:  54% (123/227)   \rResolving deltas:  55% (127/227)   \rResolving deltas:  58% (133/227)   \rResolving deltas:  61% (139/227)   \rResolving deltas:  72% (164/227)   \rResolving deltas:  78% (178/227)   \rResolving deltas:  79% (180/227)   \rResolving deltas:  90% (206/227)   \rResolving deltas:  93% (213/227)   \rResolving deltas:  98% (223/227)   \rResolving deltas:  99% (226/227)   \rResolving deltas: 100% (227/227)   \rResolving deltas: 100% (227/227), done.\n",
            "/content/optim_raianars_Insight/Raianars_paper_One/optim_raianars_Insight/Raianars_Routines/functions_cec2014_data/Raianars_paper_One/ANN_read_matrix/optim_raianars_Insight\n"
          ]
        }
      ],
      "source": [
        "############################### Importar códigos\n",
        "!git clone https://github.com/ucfilho/optim_raianars_Insight/ #clonar do Github\n",
        "%cd optim_raianars_Insight\n",
        "import de_soma_Insight\n",
        "import de_bounds_matriz\n",
        "import de_bounds_best\n",
        "import Go2Ann\n",
        "from pandas import read_csv"
      ]
    },
    {
      "cell_type": "code",
      "execution_count": null,
      "metadata": {
        "colab": {
          "base_uri": "https://localhost:8080/"
        },
        "id": "Va-6Xios8RjU",
        "outputId": "4d8066d3-109c-4cc1-96b2-f5adf077d40b"
      },
      "outputs": [
        {
          "name": "stdout",
          "output_type": "stream",
          "text": [
            "Cloning into 'Raianars_paper_One'...\n",
            "remote: Enumerating objects: 272, done.\u001b[K\n",
            "remote: Counting objects: 100% (143/143), done.\u001b[K\n",
            "remote: Compressing objects: 100% (61/61), done.\u001b[K\n",
            "remote: Total 272 (delta 82), reused 143 (delta 82), pack-reused 129\u001b[K\n",
            "Receiving objects: 100% (272/272), 659.28 KiB | 24.42 MiB/s, done.\n",
            "Resolving deltas: 100% (154/154), done.\n",
            "/content/optim_raianars_Insight/Raianars_paper_One/optim_raianars_Insight/Raianars_Routines/functions_cec2014_data/Raianars_paper_One/ANN_read_matrix/optim_raianars_Insight/Raianars_paper_One\n"
          ]
        }
      ],
      "source": [
        "!git clone https://github.com/ucfilho/Raianars_paper_One #clonar do Github\n",
        "%cd Raianars_paper_One"
      ]
    },
    {
      "cell_type": "code",
      "execution_count": null,
      "metadata": {
        "id": "_E15mKFURR6O"
      },
      "outputs": [],
      "source": [
        "#import Go2Ann\n",
        "#import de_soma_Insight\n",
        "#import de_bounds_matriz\n",
        "#import Function\n",
        "import Go2MinMax\n",
        "from AvaliaX import AvaliaX\n",
        "#from Function import FUN\n",
        "#from Function import Function.FUN\n",
        "#from Function import Function.Fun\n",
        "#from Function import Function\n",
        "from GeraIndices import GeraIndices\n",
        "import numpy as np\n",
        "import time\n",
        "import matplotlib.pyplot as plt\n",
        "from random import randint\n",
        "from scipy import optimize\n",
        "import pandas as pd\n",
        "from sklearn.metrics import confusion_matrix\n",
        "\n",
        "############################### DADOS DE ENTRADA \n",
        "RUNS=50 #NÚMERO DE RODADAS\n",
        "Fc=0.1 # fator de correcao parametros da ANN\n",
        "its=1 #10 # quantas vezes vai usar o NPAR antes de alterar de novo\n",
        "ITE=1000 #10 # PONTOS quantas vezes vai alteral NPAR \n",
        "NPAR=100\n",
        "mut=0.5\n",
        "crossp=0.5\n",
        "\n",
        "#fator = 1.0/3.0; \n",
        "Fi=mut;CRi=crossp;# para impressão\n",
        "fator = 1.0/3.0; \n",
        "mut2=0.5;crossp2=0.5;mut3=0.75;crossp3=0.25;mut4=0.50;crossp4=0.50;\n"
      ]
    },
    {
      "cell_type": "code",
      "execution_count": null,
      "metadata": {
        "id": "c79u3DHegd1r"
      },
      "outputs": [],
      "source": [
        "def load_shift_data__(data_file=None):\n",
        "    data = read_csv(data_file, delimiter='\\s+', index_col=False, header=None)\n",
        "    return data.values.reshape((-1))\n",
        "\n",
        "def load_matrix_data__(data_file=None):\n",
        "    data = read_csv(data_file, delimiter='\\s+', index_col=False, header=None)\n",
        "    return data.values"
      ]
    },
    {
      "cell_type": "code",
      "execution_count": null,
      "metadata": {
        "colab": {
          "base_uri": "https://localhost:8080/"
        },
        "id": "ik3ZjkUKycUK",
        "outputId": "b9036146-3056-4b2d-f5d1-2892a87e3d82"
      },
      "outputs": [
        {
          "name": "stdout",
          "output_type": "stream",
          "text": [
            "Cloning into 'optim_raianars_Insight'...\n",
            "remote: Enumerating objects: 397, done.\u001b[K\n",
            "remote: Counting objects: 100% (83/83), done.\u001b[K\n",
            "remote: Compressing objects: 100% (83/83), done.\u001b[K\n",
            "remote: Total 397 (delta 46), reused 0 (delta 0), pack-reused 314\u001b[K\n",
            "Receiving objects: 100% (397/397), 335.23 KiB | 14.57 MiB/s, done.\n",
            "Resolving deltas: 100% (227/227), done.\n",
            "/content/optim_raianars_Insight/Raianars_paper_One/optim_raianars_Insight/Raianars_Routines/functions_cec2014_data/Raianars_paper_One/ANN_read_matrix/optim_raianars_Insight/Raianars_paper_One/optim_raianars_Insight\n"
          ]
        }
      ],
      "source": [
        "############################### Importar códigos\n",
        "!git clone https://github.com/ucfilho/optim_raianars_Insight/ #clonar do Github\n",
        "%cd optim_raianars_Insight\n",
        "import de_soma_Insight\n",
        "import de_bounds_matriz"
      ]
    },
    {
      "cell_type": "code",
      "execution_count": null,
      "metadata": {
        "colab": {
          "base_uri": "https://localhost:8080/"
        },
        "id": "lJogRB30yepw",
        "outputId": "ce270a9e-5841-4b21-ccf0-b8904f62dcc6"
      },
      "outputs": [
        {
          "name": "stdout",
          "output_type": "stream",
          "text": [
            "Cloning into 'Raianars_Routines'...\n",
            "remote: Enumerating objects: 77, done.\u001b[K\n",
            "remote: Counting objects: 100% (77/77), done.\u001b[K\n",
            "remote: Compressing objects: 100% (73/73), done.\u001b[K\n",
            "remote: Total 77 (delta 23), reused 0 (delta 0), pack-reused 0\u001b[K\n",
            "Unpacking objects: 100% (77/77), done.\n",
            "/content/optim_raianars_Insight/Raianars_paper_One/optim_raianars_Insight/Raianars_Routines/functions_cec2014_data/Raianars_paper_One/ANN_read_matrix/optim_raianars_Insight/Raianars_paper_One/optim_raianars_Insight/Raianars_Routines\n"
          ]
        }
      ],
      "source": [
        "#!git clone https://github.com/ucfilho/Raianars_paper_One #clonar do Github\n",
        "#%cd Raianars_paper_One\n",
        "\n",
        "!git clone https://github.com/ucfilho/Raianars_Routines #clonar do Github\n",
        "%cd Raianars_Routines"
      ]
    },
    {
      "cell_type": "code",
      "execution_count": null,
      "metadata": {
        "colab": {
          "base_uri": "https://localhost:8080/"
        },
        "id": "Z66tL-D0qM1H",
        "outputId": "70361696-cffb-4372-b6d0-6f84952d1896"
      },
      "outputs": [
        {
          "name": "stdout",
          "output_type": "stream",
          "text": [
            "Cloning into 'functions_cec2014_data'...\n",
            "remote: Enumerating objects: 300, done.\u001b[K\n",
            "remote: Counting objects: 100% (6/6), done.\u001b[K\n",
            "remote: Compressing objects: 100% (6/6), done.\u001b[K\n",
            "remote: Total 300 (delta 2), reused 0 (delta 0), pack-reused 294\u001b[K\n",
            "Receiving objects: 100% (300/300), 465.31 KiB | 8.78 MiB/s, done.\n",
            "Resolving deltas: 100% (181/181), done.\n",
            "/content/optim_raianars_Insight/Raianars_paper_One/optim_raianars_Insight/Raianars_Routines/functions_cec2014_data/Raianars_paper_One/ANN_read_matrix/optim_raianars_Insight/Raianars_paper_One/optim_raianars_Insight/Raianars_Routines/functions_cec2014_data\n"
          ]
        }
      ],
      "source": [
        "!git clone https://github.com/ucfilho/functions_cec2014_data\n",
        "%cd functions_cec2014_data\n",
        "import F1_to_F27_cec2014_zero_to_hero\n",
        "import cec2014_names\n",
        "import cec2014_shift_rotate"
      ]
    },
    {
      "cell_type": "code",
      "execution_count": null,
      "metadata": {
        "id": "hN3HYnHmqX3f"
      },
      "outputs": [],
      "source": [
        "function_select = 'F19'\n",
        "\n",
        "problem_size = 30 # possibles 2, 10, 20, 30, 50, 100"
      ]
    },
    {
      "cell_type": "code",
      "execution_count": null,
      "metadata": {
        "id": "yCggKdhhtnp1"
      },
      "outputs": [],
      "source": [
        "dim = problem_size "
      ]
    },
    {
      "cell_type": "code",
      "execution_count": null,
      "metadata": {
        "id": "jyolFRlJe--x"
      },
      "outputs": [],
      "source": [
        "if function_select == 'F28':\n",
        "  hybrid_choice = 'F15'\n"
      ]
    },
    {
      "cell_type": "code",
      "execution_count": null,
      "metadata": {
        "id": "AAuTNKnXhVoR"
      },
      "outputs": [],
      "source": [
        ""
      ]
    },
    {
      "cell_type": "code",
      "execution_count": null,
      "metadata": {
        "colab": {
          "base_uri": "https://localhost:8080/"
        },
        "id": "QFsJfpK3qfQy",
        "outputId": "f8a75073-4ba7-485c-f29c-184dda0f3dfb"
      },
      "outputs": [
        {
          "name": "stdout",
          "output_type": "stream",
          "text": [
            "Requirement already satisfied: gdown in /usr/local/lib/python3.7/dist-packages (4.4.0)\n",
            "Requirement already satisfied: tqdm in /usr/local/lib/python3.7/dist-packages (from gdown) (4.64.0)\n",
            "Requirement already satisfied: filelock in /usr/local/lib/python3.7/dist-packages (from gdown) (3.6.0)\n",
            "Requirement already satisfied: beautifulsoup4 in /usr/local/lib/python3.7/dist-packages (from gdown) (4.6.3)\n",
            "Requirement already satisfied: six in /usr/local/lib/python3.7/dist-packages (from gdown) (1.15.0)\n",
            "Requirement already satisfied: requests[socks] in /usr/local/lib/python3.7/dist-packages (from gdown) (2.23.0)\n",
            "Requirement already satisfied: chardet<4,>=3.0.2 in /usr/local/lib/python3.7/dist-packages (from requests[socks]->gdown) (3.0.4)\n",
            "Requirement already satisfied: idna<3,>=2.5 in /usr/local/lib/python3.7/dist-packages (from requests[socks]->gdown) (2.10)\n",
            "Requirement already satisfied: urllib3!=1.25.0,!=1.25.1,<1.26,>=1.21.1 in /usr/local/lib/python3.7/dist-packages (from requests[socks]->gdown) (1.24.3)\n",
            "Requirement already satisfied: certifi>=2017.4.17 in /usr/local/lib/python3.7/dist-packages (from requests[socks]->gdown) (2021.10.8)\n",
            "Requirement already satisfied: PySocks!=1.5.7,>=1.5.6 in /usr/local/lib/python3.7/dist-packages (from requests[socks]->gdown) (1.7.1)\n"
          ]
        }
      ],
      "source": [
        "!pip install --upgrade --no-cache-dir gdown"
      ]
    },
    {
      "cell_type": "code",
      "execution_count": null,
      "metadata": {
        "colab": {
          "base_uri": "https://localhost:8080/"
        },
        "id": "bCv2CFD3qp0q",
        "outputId": "fea008dc-5044-4d0e-a442-2712d9783371"
      },
      "outputs": [
        {
          "name": "stdout",
          "output_type": "stream",
          "text": [
            "/usr/local/lib/python3.7/dist-packages/gdown/cli.py:131: FutureWarning: Option `--id` was deprecated in version 4.3.1 and will be removed in 5.0. You don't need to pass it anymore to use a file ID.\n",
            "  category=FutureWarning,\n",
            "Downloading...\n",
            "From: https://drive.google.com/uc?id=1yM-cGzp7F35bXZ-f80uoJHzGqAb52CPz\n",
            "To: /content/optim_raianars_Insight/Raianars_paper_One/optim_raianars_Insight/Raianars_Routines/functions_cec2014_data/Raianars_paper_One/ANN_read_matrix/optim_raianars_Insight/Raianars_paper_One/optim_raianars_Insight/Raianars_Routines/functions_cec2014_data/cec2014.zip\n",
            "100% 36.1M/36.1M [00:00<00:00, 272MB/s]\n"
          ]
        }
      ],
      "source": [
        "# !gdown --id 1yM-cGzp7F35bXZ-f80uoJHzGqAb52CPz\n",
        "# https://drive.google.com/file/d/1yM-cGzp7F35bXZ-f80uoJHzGqAb52CPz/view?usp=sharing\n",
        "!gdown --id 1yM-cGzp7F35bXZ-f80uoJHzGqAb52CPz"
      ]
    },
    {
      "cell_type": "code",
      "execution_count": null,
      "metadata": {
        "id": "-N1Hsa88W-Mr"
      },
      "outputs": [],
      "source": [
        "import zipfile\n",
        "file_name = zipfile.ZipFile('cec2014.zip', 'r')\n",
        "file_name.extractall()"
      ]
    },
    {
      "cell_type": "code",
      "execution_count": null,
      "metadata": {
        "id": "DEUr4sgUelxf"
      },
      "outputs": [],
      "source": [
        "\n",
        "Function_CEC2014 =function_select + \"_\" + cec2014_names.NamesFunctions()[function_select]+\"_D_\"+str(problem_size)\n",
        "\n",
        "f_matrix = \"M_\"+function_select[1:]+\"_D\"+str(problem_size) + \".txt\"\n",
        "shift_data_file=\"shift_data_\"+function_select[1:]+\".txt\"\n",
        "shift_data = load_shift_data__(shift_data_file)[:problem_size]\n",
        "matrix = load_matrix_data__(f_matrix)\n",
        "f_shuffle = \"shuffle_data_\"+function_select[1:]+\"_D\"+str(problem_size) + \".txt\"\n",
        "shuffle = (load_shift_data__(f_shuffle)[:problem_size] - np.ones(problem_size)).astype(int)\n",
        "\n",
        "f12_hgbat__ = F1_to_F27_cec2014_zero_to_hero.f12_hgbat__\n",
        "f3_discus__ = F1_to_F27_cec2014_zero_to_hero.f3_discus__\n",
        "f13_expanded_griewank__ = F1_to_F27_cec2014_zero_to_hero.f13_expanded_griewank__\n",
        "f8_rastrigin__ = F1_to_F27_cec2014_zero_to_hero.f8_rastrigin__\n",
        "\n",
        "f1_elliptic__ = F1_to_F27_cec2014_zero_to_hero.f1_elliptic__\n",
        "\n",
        "\n",
        "def F20(solution , shift_data= shift_data , matrix=matrix,shuffle=shuffle):\n",
        "    problem_size = len(solution)\n",
        "    p = np.array([0.2, 0.2, 0.3, 0.3])\n",
        "    n1 = int(np.ceil(p[0] * problem_size))\n",
        "    n2 = int(np.ceil(p[1] * problem_size))\n",
        "    n3 = int(np.ceil(p[2] * problem_size))\n",
        "\n",
        "    idx1 = shuffle[:n1]\n",
        "    idx2 = shuffle[n1:(n1 + n2)]\n",
        "    idx3 = shuffle[(n1 + n2):(n1 + n2 + n3)]\n",
        "    idx4 = shuffle[n1 + n2 + n3:]\n",
        "    mz = np.dot(solution - shift_data, matrix)\n",
        "    return f12_hgbat__(mz[idx1]) + f3_discus__(mz[idx2]) + f13_expanded_griewank__(mz[idx3]) + f8_rastrigin__(mz[idx4])# + bias"
      ]
    },
    {
      "cell_type": "code",
      "execution_count": null,
      "metadata": {
        "id": "_tEgxfW4qwlt"
      },
      "outputs": [],
      "source": [
        "def load_shift_data__(data_file=None):\n",
        "    data = read_csv(data_file, delimiter='\\s+', index_col=False, header=None)\n",
        "    return data.values.reshape((-1))\n",
        "\n",
        "def load_matrix_data__(data_file=None):\n",
        "    data = read_csv(data_file, delimiter='\\s+', index_col=False, header=None)\n",
        "    return data.values"
      ]
    },
    {
      "cell_type": "code",
      "execution_count": null,
      "metadata": {
        "id": "LdoPBTOEu5xa"
      },
      "outputs": [],
      "source": [
        "if function_select == 'F28':\n",
        "  Function = F28\n",
        "if function_select == 'F25':\n",
        "  Function = F25\n",
        "if function_select == 'F22':\n",
        "  Function = F22\n",
        "if function_select == 'F20':\n",
        "  Function = F20\n",
        "  \n",
        "fobj=Function\n",
        "Fun = Function"
      ]
    },
    {
      "cell_type": "code",
      "execution_count": null,
      "metadata": {
        "id": "AF2E2EIwrC8o"
      },
      "outputs": [],
      "source": [
        "SUPPORT_DIMENSION = [2, 10, 20, 30, 50, 100]\n",
        "SUPPORT_DIMENSION_2 = [10, 20, 30, 50, 100]\n",
        "\n",
        "#def Fun(solution,shift_data=shift_data_a, matrix=matrix_a, shuffle):#, bias=F_bias):\n",
        "def CEC2014(solution, shift_data ,  matrix, shuffle):#, bias=F_bias):\n",
        "  if(type_fun == 'shift_rotate'):\n",
        "    z = Shift_Rotate(solution , shift_data , matrix,shuffle)\n",
        "    result = Function(z) + F_bias\n",
        "  elif(type_fun =='hybrid'): # F17 to F22\n",
        "    z = Shift_Rotate(solution , shift_data , matrix,shuffle)\n",
        "    result = z + F_bias\n",
        " \n",
        "  return result"
      ]
    },
    {
      "cell_type": "code",
      "execution_count": null,
      "metadata": {
        "colab": {
          "base_uri": "https://localhost:8080/"
        },
        "id": "9Vsz9VQRrLVf",
        "outputId": "afdc1751-9449-4d6d-b665-76155015730a"
      },
      "outputs": [
        {
          "name": "stdout",
          "output_type": "stream",
          "text": [
            "Cloning into 'Raianars_paper_One'...\n",
            "remote: Enumerating objects: 272, done.\u001b[K\n",
            "remote: Counting objects:   0% (1/143)\u001b[K\rremote: Counting objects:   1% (2/143)\u001b[K\rremote: Counting objects:   2% (3/143)\u001b[K\rremote: Counting objects:   3% (5/143)\u001b[K\rremote: Counting objects:   4% (6/143)\u001b[K\rremote: Counting objects:   5% (8/143)\u001b[K\rremote: Counting objects:   6% (9/143)\u001b[K\rremote: Counting objects:   7% (11/143)\u001b[K\rremote: Counting objects:   8% (12/143)\u001b[K\rremote: Counting objects:   9% (13/143)\u001b[K\rremote: Counting objects:  10% (15/143)\u001b[K\rremote: Counting objects:  11% (16/143)\u001b[K\rremote: Counting objects:  12% (18/143)\u001b[K\rremote: Counting objects:  13% (19/143)\u001b[K\rremote: Counting objects:  14% (21/143)\u001b[K\rremote: Counting objects:  15% (22/143)\u001b[K\rremote: Counting objects:  16% (23/143)\u001b[K\rremote: Counting objects:  17% (25/143)\u001b[K\rremote: Counting objects:  18% (26/143)\u001b[K\rremote: Counting objects:  19% (28/143)\u001b[K\rremote: Counting objects:  20% (29/143)\u001b[K\rremote: Counting objects:  21% (31/143)\u001b[K\rremote: Counting objects:  22% (32/143)\u001b[K\rremote: Counting objects:  23% (33/143)\u001b[K\rremote: Counting objects:  24% (35/143)\u001b[K\rremote: Counting objects:  25% (36/143)\u001b[K\rremote: Counting objects:  26% (38/143)\u001b[K\rremote: Counting objects:  27% (39/143)\u001b[K\rremote: Counting objects:  28% (41/143)\u001b[K\rremote: Counting objects:  29% (42/143)\u001b[K\rremote: Counting objects:  30% (43/143)\u001b[K\rremote: Counting objects:  31% (45/143)\u001b[K\rremote: Counting objects:  32% (46/143)\u001b[K\rremote: Counting objects:  33% (48/143)\u001b[K\rremote: Counting objects:  34% (49/143)\u001b[K\rremote: Counting objects:  35% (51/143)\u001b[K\rremote: Counting objects:  36% (52/143)\u001b[K\rremote: Counting objects:  37% (53/143)\u001b[K\rremote: Counting objects:  38% (55/143)\u001b[K\rremote: Counting objects:  39% (56/143)\u001b[K\rremote: Counting objects:  40% (58/143)\u001b[K\rremote: Counting objects:  41% (59/143)\u001b[K\rremote: Counting objects:  42% (61/143)\u001b[K\rremote: Counting objects:  43% (62/143)\u001b[K\rremote: Counting objects:  44% (63/143)\u001b[K\rremote: Counting objects:  45% (65/143)\u001b[K\rremote: Counting objects:  46% (66/143)\u001b[K\rremote: Counting objects:  47% (68/143)\u001b[K\rremote: Counting objects:  48% (69/143)\u001b[K\rremote: Counting objects:  49% (71/143)\u001b[K\rremote: Counting objects:  50% (72/143)\u001b[K\rremote: Counting objects:  51% (73/143)\u001b[K\rremote: Counting objects:  52% (75/143)\u001b[K\rremote: Counting objects:  53% (76/143)\u001b[K\rremote: Counting objects:  54% (78/143)\u001b[K\rremote: Counting objects:  55% (79/143)\u001b[K\rremote: Counting objects:  56% (81/143)\u001b[K\rremote: Counting objects:  57% (82/143)\u001b[K\rremote: Counting objects:  58% (83/143)\u001b[K\rremote: Counting objects:  59% (85/143)\u001b[K\rremote: Counting objects:  60% (86/143)\u001b[K\rremote: Counting objects:  61% (88/143)\u001b[K\rremote: Counting objects:  62% (89/143)\u001b[K\rremote: Counting objects:  63% (91/143)\u001b[K\rremote: Counting objects:  64% (92/143)\u001b[K\rremote: Counting objects:  65% (93/143)\u001b[K\rremote: Counting objects:  66% (95/143)\u001b[K\rremote: Counting objects:  67% (96/143)\u001b[K\rremote: Counting objects:  68% (98/143)\u001b[K\rremote: Counting objects:  69% (99/143)\u001b[K\rremote: Counting objects:  70% (101/143)\u001b[K\rremote: Counting objects:  71% (102/143)\u001b[K\rremote: Counting objects:  72% (103/143)\u001b[K\rremote: Counting objects:  73% (105/143)\u001b[K\rremote: Counting objects:  74% (106/143)\u001b[K\rremote: Counting objects:  75% (108/143)\u001b[K\rremote: Counting objects:  76% (109/143)\u001b[K\rremote: Counting objects:  77% (111/143)\u001b[K\rremote: Counting objects:  78% (112/143)\u001b[K\rremote: Counting objects:  79% (113/143)\u001b[K\rremote: Counting objects:  80% (115/143)\u001b[K\rremote: Counting objects:  81% (116/143)\u001b[K\rremote: Counting objects:  82% (118/143)\u001b[K\rremote: Counting objects:  83% (119/143)\u001b[K\rremote: Counting objects:  84% (121/143)\u001b[K\rremote: Counting objects:  85% (122/143)\u001b[K\rremote: Counting objects:  86% (123/143)\u001b[K\rremote: Counting objects:  87% (125/143)\u001b[K\rremote: Counting objects:  88% (126/143)\u001b[K\rremote: Counting objects:  89% (128/143)\u001b[K\rremote: Counting objects:  90% (129/143)\u001b[K\rremote: Counting objects:  91% (131/143)\u001b[K\rremote: Counting objects:  92% (132/143)\u001b[K\rremote: Counting objects:  93% (133/143)\u001b[K\rremote: Counting objects:  94% (135/143)\u001b[K\rremote: Counting objects:  95% (136/143)\u001b[K\rremote: Counting objects:  96% (138/143)\u001b[K\rremote: Counting objects:  97% (139/143)\u001b[K\rremote: Counting objects:  98% (141/143)\u001b[K\rremote: Counting objects:  99% (142/143)\u001b[K\rremote: Counting objects: 100% (143/143)\u001b[K\rremote: Counting objects: 100% (143/143), done.\u001b[K\n",
            "remote: Compressing objects: 100% (61/61), done.\u001b[K\n",
            "remote: Total 272 (delta 82), reused 143 (delta 82), pack-reused 129\u001b[K\n",
            "Receiving objects: 100% (272/272), 659.28 KiB | 15.70 MiB/s, done.\n",
            "Resolving deltas: 100% (154/154), done.\n",
            "/content/optim_raianars_Insight/Raianars_paper_One/optim_raianars_Insight/Raianars_Routines/functions_cec2014_data/Raianars_paper_One/ANN_read_matrix/optim_raianars_Insight/Raianars_paper_One/optim_raianars_Insight/Raianars_Routines/functions_cec2014_data/Raianars_paper_One\n"
          ]
        }
      ],
      "source": [
        "!git clone https://github.com/ucfilho/Raianars_paper_One #clonar do Github\n",
        "%cd Raianars_paper_One"
      ]
    },
    {
      "cell_type": "code",
      "execution_count": null,
      "metadata": {
        "id": "ukk5Twiiq0MN"
      },
      "outputs": [],
      "source": [
        "MAX=np.repeat(100,dim)\n",
        "MIN=np.repeat(-100,dim)\n",
        "\n",
        "bounds=[]\n",
        "for k in range(len(MAX)):\n",
        "  bounds.append((MIN[k],MAX[k]))"
      ]
    },
    {
      "cell_type": "code",
      "execution_count": null,
      "metadata": {
        "colab": {
          "base_uri": "https://localhost:8080/"
        },
        "id": "qTINtQ1cosZK",
        "outputId": "d735fd88-30f8-49aa-cf72-8dfea9300104"
      },
      "outputs": [
        {
          "name": "stdout",
          "output_type": "stream",
          "text": [
            "Cloning into 'ANN_read_matrix'...\n",
            "remote: Enumerating objects: 20, done.\u001b[K\n",
            "remote: Total 20 (delta 0), reused 0 (delta 0), pack-reused 20\u001b[K\n",
            "Unpacking objects: 100% (20/20), done.\n",
            "/content/optim_raianars_Insight/Raianars_paper_One/optim_raianars_Insight/Raianars_Routines/functions_cec2014_data/Raianars_paper_One/ANN_read_matrix/optim_raianars_Insight/Raianars_paper_One/optim_raianars_Insight/Raianars_Routines/functions_cec2014_data/Raianars_paper_One/ANN_read_matrix\n"
          ]
        }
      ],
      "source": [
        "!git clone https://github.com/ucfilho/ANN_read_matrix #clonar do Github\n",
        "%cd ANN_read_matrix"
      ]
    },
    {
      "cell_type": "code",
      "execution_count": null,
      "metadata": {
        "id": "QiQLYOoNoyCw"
      },
      "outputs": [],
      "source": [
        "ANN_F=pd.read_csv('ANN_INSIGHT_Valor_F.csv')"
      ]
    },
    {
      "cell_type": "code",
      "execution_count": null,
      "metadata": {
        "id": "uHtW2amaDzFv"
      },
      "outputs": [],
      "source": [
        "ANN_CR=pd.read_csv('ANN_INSIGHT_CR.csv')"
      ]
    },
    {
      "cell_type": "code",
      "execution_count": null,
      "metadata": {
        "id": "EH6h_vke2yu1"
      },
      "outputs": [],
      "source": [
        "syn0_F,syn1_F,X_max_F,X_min_F=Go2Ann.GetMatriz(ANN_F)"
      ]
    },
    {
      "cell_type": "code",
      "execution_count": null,
      "metadata": {
        "id": "WW_3ZWJXD60i"
      },
      "outputs": [],
      "source": [
        "syn0_CR,syn1_CR,X_max_CR,X_min_CR=Go2Ann.GetMatriz(ANN_CR)"
      ]
    },
    {
      "cell_type": "code",
      "execution_count": null,
      "metadata": {
        "id": "b4gwBvVTyaXh"
      },
      "outputs": [],
      "source": [
        "ANN_CR=pd.read_csv('ANN_INSIGHT_CR.csv')"
      ]
    },
    {
      "cell_type": "code",
      "execution_count": null,
      "metadata": {
        "id": "6jL8MxpHvk-Y"
      },
      "outputs": [],
      "source": [
        "fields = ['DI RELATIVO','FRAC Its','Fo','CRo']"
      ]
    },
    {
      "cell_type": "code",
      "execution_count": null,
      "metadata": {
        "colab": {
          "base_uri": "https://localhost:8080/"
        },
        "id": "Mb3LmbSmj9v7",
        "outputId": "d4ee9ed1-aa1c-4272-d737-b4ddc8f8a186"
      },
      "outputs": [
        {
          "name": "stdout",
          "output_type": "stream",
          "text": [
            "frac= 0.3333333333333333\n",
            "Npar1= 34\n",
            "Npar2= 22\n",
            "Npar3= 22\n",
            "Npar4= 22\n",
            "Npar= 100\n"
          ]
        }
      ],
      "source": [
        "##################################### \n",
        "\n",
        "TOTAL=10*dim*its*ITE\n",
        "TOTAL=int(TOTAL/2)   # CONFERIR SE ESTE EH O MELHOR LUGAR\n",
        "\n",
        "#dimensions=len(MAX)\n",
        "dimensions=dim\n",
        "start_time = time.time() #INICIALIZA CONTAGEM DO TEMPO\n",
        "\n",
        "\n",
        "PAR=dim\n",
        "\n",
        "\n",
        "MAX_P=np.zeros(ITE) # ATENCAO para variar F e Cr MAX_P passa a ser 3 vezes maior\n",
        "MIN_P=np.zeros(ITE) # ATENCAO para variar F e Cr MIN_P passa a ser 3 vezes maior\n",
        "\n",
        "for i in range(dim):\n",
        "  MAX_P[i]=MAX[i] \n",
        "  MIN_P[i]=MIN[i]\n",
        "\n",
        "rodadas=1\n",
        "NPAR1=int(fator*NPAR);\n",
        "NPAR2=int((NPAR-NPAR1)/3);\n",
        "NPAR3=int((NPAR-NPAR1)/3);\n",
        "NPAR4=int((NPAR-NPAR1)/3);\n",
        "NPAR1 = NPAR-3*NPAR2\n",
        "print('frac=',fator);\n",
        "print('Npar1=',NPAR1);\n",
        "print('Npar2=',NPAR2);\n",
        "print('Npar3=',NPAR3);\n",
        "print('Npar4=',NPAR4);\n",
        "print('Npar=',NPAR)\n",
        "\n",
        "cols=dim\n",
        "\n",
        "X1=np.zeros((NPAR1,cols)) # X1 is Frannk population\n",
        "for i in range(NPAR1):\n",
        "  for j in range(cols):\n",
        "    r=np.random.random()\n",
        "    X1[i,j]=r*(MAX[j]-MIN[j])+MIN[j]\n",
        "    \n",
        "X2=np.zeros((NPAR2,cols)) # X2 is population DE (default DE)\n",
        "for i in range(NPAR2):\n",
        "  for j in range(cols):\n",
        "    r=np.random.random()\n",
        "    X2[i,j]=r*(MAX[j]-MIN[j])+MIN[j]\n",
        "\n",
        "X3=np.zeros((NPAR3,cols)) # X1 is Frannk population\n",
        "for i in range(NPAR3):\n",
        "  for j in range(cols):\n",
        "    r=np.random.random()\n",
        "    X3[i,j]=r*(MAX[j]-MIN[j])+MIN[j]\n",
        "    \n",
        "X4=np.zeros((NPAR4,cols)) # X2 is population DE (default DE)\n",
        "for i in range(NPAR4):\n",
        "  for j in range(cols):\n",
        "    r=np.random.random()\n",
        "    X4[i,j]=r*(MAX[j]-MIN[j])+MIN[j]\n",
        "    \n",
        " ############################################################\n",
        "  #bounds=[(5*dim, 15*dim)] * PONTOS # ITE\n",
        "  #bounds=[(3*dim, 12*dim)] * PONTOS # ITE\n",
        "  #bounds=[(4*dim, 16*dim)] * PONTOS\n",
        "  \n",
        "  # nao pode ser assim pq o bounds vale p o DE nao dos parametros\n",
        "  #p=int(TOTAL/its/ITE) \n",
        "  #bounds=[(p, p)] * PONTOS\n"
      ]
    },
    {
      "cell_type": "code",
      "execution_count": null,
      "metadata": {
        "colab": {
          "background_save": true,
          "base_uri": "https://localhost:8080/"
        },
        "id": "rnX8ttNopd1G",
        "outputId": "03a5ceb0-2d90-44c2-e344-6af065cfd6b0"
      },
      "outputs": [
        {
          "name": "stdout",
          "output_type": "stream",
          "text": [
            "k= 0 time= 1.5289571126302084 FO= 6987.193169204745\n",
            "k= 1 time= 2.8569238742192584 FO= 30018.519086142147\n",
            "k= 2 time= 4.1644806663195295 FO= 2377.563181362022\n",
            "k= 3 time= 5.485203750928243 FO= 19330.43220939647\n",
            "k= 4 time= 6.838881536324819 FO= 18484.599215027174\n",
            "k= 5 time= 8.157476762930552 FO= 7077.4063932446015\n",
            "k= 6 time= 9.480594515800476 FO= 16326.168873521887\n",
            "k= 7 time= 10.792052574952443 FO= 24693.55783049611\n",
            "k= 8 time= 12.094279750188191 FO= 4290.382757648642\n",
            "k= 9 time= 13.393200103441874 FO= 4581.548647965089\n",
            "k= 10 time= 14.700925207138061 FO= 2609.2197899066714\n",
            "k= 11 time= 16.011255713303886 FO= 14667.601156086554\n",
            "k= 12 time= 17.306026577949524 FO= 4166.736278936509\n",
            "k= 13 time= 18.601826671759287 FO= 13237.743530147374\n",
            "k= 14 time= 19.900823092460634 FO= 1928.1174050294876\n",
            "k= 15 time= 21.207282797495523 FO= 5420.46958314475\n",
            "k= 16 time= 22.515705839792886 FO= 7866.177872360844\n",
            "k= 17 time= 23.81792021592458 FO= 6395.863135094176\n",
            "k= 18 time= 25.12609761953354 FO= 1227.7490560674316\n",
            "k= 19 time= 26.44716410636902 FO= 2532.4105278726165\n",
            "k= 20 time= 27.74945488770803 FO= 16761.952309130593\n",
            "k= 21 time= 29.057293029626212 FO= 10684.319070594507\n",
            "k= 22 time= 30.35870977640152 FO= 3039.082147235332\n",
            "k= 23 time= 31.665938619772593 FO= 1173.9824419968131\n",
            "k= 24 time= 32.968712206681566 FO= 24725.305182756652\n",
            "k= 25 time= 34.278955511252086 FO= 13983.708948686251\n",
            "k= 26 time= 35.58522608280182 FO= 6487.926468186091\n",
            "k= 27 time= 36.89251698255539 FO= 19640.457900615445\n",
            "k= 28 time= 38.19413628180822 FO= 3492.017378848246\n",
            "k= 29 time= 39.49868620634079 FO= 4790.09430276\n",
            "k= 30 time= 40.80691868464152 FO= 12236.022434026403\n",
            "k= 31 time= 42.09369630416234 FO= 5404.436365721229\n",
            "k= 32 time= 43.37213557958603 FO= 4438.579992864493\n",
            "k= 33 time= 44.63745495875676 FO= 5979.984359923218\n",
            "k= 34 time= 45.90266430775325 FO= 2318.347636572897\n",
            "k= 35 time= 47.16106980244319 FO= 5483.0569361434555\n",
            "k= 36 time= 48.43077753782272 FO= 11212.20078009547\n",
            "k= 37 time= 49.69550079902013 FO= 4473.529943050286\n",
            "k= 38 time= 50.958265562852226 FO= 2546.847323479914\n",
            "k= 39 time= 52.22675662438075 FO= 4342.990557950918\n",
            "k= 40 time= 53.50077512661616 FO= 3447.9651896399673\n",
            "k= 41 time= 54.75945267677307 FO= 13477.629504514585\n",
            "k= 42 time= 56.017078057924905 FO= 20179.822052258936\n",
            "k= 43 time= 57.27434190511703 FO= 10244.392465311963\n",
            "k= 44 time= 58.537901536623636 FO= 10351.516986479544\n",
            "k= 45 time= 59.79466973543167 FO= 4748.9087322483165\n",
            "k= 46 time= 61.05254705746969 FO= 18064.14634751845\n",
            "k= 47 time= 62.31214325030645 FO= 3111.4325671466067\n",
            "k= 48 time= 63.57496745189031 FO= 6917.590967985592\n",
            "k= 49 time= 64.84031131267548 FO= 24083.42299057422\n"
          ]
        }
      ],
      "source": [
        "\n",
        "start_time = time.time()\n",
        "BEST_AGENTS=[]\n",
        "MAT_stat=[]\n",
        "for iii in range(RUNS):\n",
        "    MAT=[] \n",
        "    mut=Fi\n",
        "    crossp=CRi\n",
        "    SOMA=0\n",
        "    pop = np.random.rand(NPAR, dim)\n",
        "    diff=np.zeros(PAR)\n",
        "\n",
        "\n",
        "    X1=np.zeros((NPAR1,cols)) # X1 is Frannk population\n",
        "    for i in range(NPAR1):\n",
        "      for j in range(cols):\n",
        "        r=np.random.random()\n",
        "        X1[i,j]=r*(MAX[j]-MIN[j])+MIN[j]\n",
        "        \n",
        "    X2=np.zeros((NPAR2,cols)) # X2 is population DE (default DE)\n",
        "    for i in range(NPAR2):\n",
        "      for j in range(cols):\n",
        "        r=np.random.random()\n",
        "        X2[i,j]=r*(MAX[j]-MIN[j])+MIN[j]\n",
        "\n",
        "    X3=np.zeros((NPAR3,cols)) # X2 is population DE (default DE)\n",
        "    for i in range(NPAR3):\n",
        "      for j in range(cols):\n",
        "        r=np.random.random()\n",
        "        X3[i,j]=r*(MAX[j]-MIN[j])+MIN[j]\n",
        "\n",
        "    X4=np.zeros((NPAR4,cols)) # X2 is population DE (default DE)\n",
        "    for i in range(NPAR4):\n",
        "      for j in range(cols):\n",
        "        r=np.random.random()\n",
        "        X4[i,j]=r*(MAX[j]-MIN[j])+MIN[j]\n",
        "    \n",
        "    DIo=1e99\n",
        "  \n",
        "    CRo=crossp;Fo=mut;\n",
        "    Fitness = np.asarray([Fun(ind, shift_data , matrix, shuffle) for ind in X1])\n",
        "    XY,BEST_XY,BESTo,FOBESTo=AvaliaX(X1,Fitness)\n",
        "    nrow,ncol=X1.shape\n",
        "\n",
        "    QUANT=17;MAT_INDo=np.zeros((1,QUANT)); # quantos indices esta fazendo\n",
        "    MAT_INDo[0,5]=nrow  # VALOR NP\n",
        "    MAT_INDo[0,6]=Fo    # VALOR Fo   \n",
        "    MAT_INDo[0,7]=CRo   # VALOR CRo\n",
        "\n",
        "    Fuma = f1_elliptic__  # Fuma era Fun\n",
        "  \n",
        "    MAT_INDo=GeraIndices(X1,BESTo,FOBESTo,DIo,MAT_INDo,SOMA,TOTAL,syn0_F,\n",
        "                        syn1_F,X_max_F,X_min_F,syn0_CR,syn1_CR,X_max_CR,\n",
        "                        X_min_CR,Fc,fields,Fuma)\n",
        "  \n",
        "    DIo=np.copy(MAT_INDo[0,0])\n",
        "    MAT_INDo[0,15]=Fo    # VALOR Fo   \n",
        "    MAT_INDo[0,16]=CRo   # VALOR CRo\n",
        "    #ind_crossp=ITE-1\n",
        "    \n",
        "\n",
        "    \n",
        "    for k in range(ITE):\n",
        "\n",
        "\n",
        "\n",
        "      X2,BEST2,FOBEST,XY,BEST_XY=de_bounds_matriz.de(bounds, mut2, crossp2,NPAR2, its,fobj,X2)\n",
        "      X3,BEST3,FOBEST,XY,BEST_XY=de_bounds_matriz.de(bounds, mut3, crossp3,NPAR3, its,fobj,X3)\n",
        "      X4,BEST4,FOBEST,XY,BEST_XY=de_bounds_best.de(bounds, mut4, crossp4,NPAR4, its,fobj,X4)\n",
        "      \n",
        "      X1,BEST1,FOBEST,XY,BEST_XY,SOMA= de_soma_Insight.de(MAX,MIN, mut, crossp,NPAR1,its,Fun,X1,SOMA,TOTAL)\n",
        "\n",
        "      MAT_IND=GeraIndices(X1,BESTo,FOBESTo,DIo,MAT_INDo,SOMA,TOTAL,syn0_F,\n",
        "                          syn1_F,X_max_F,X_min_F,syn0_CR,syn1_CR,X_max_CR,\n",
        "                          X_min_CR,Fc,fields,Fun)\n",
        "    \n",
        "      BESTo=np.copy(BEST1);FOBESTo=np.copy(FOBEST);\n",
        "      MAT.append(MAT_IND.ravel())\n",
        "    \n",
        "      MAT_INDo[0,6]=MAT_IND[0,15]   # VALOR Fo   \n",
        "      MAT_INDo[0,7]=MAT_IND[0,16]   # VALOR CRo\n",
        "      mut=MAT_IND[0,15]\n",
        "      crossp=MAT_IND[0,16]\n",
        "      X1[0,:] = BEST2;X1[1,:] = BEST3; X1[2,:] = BEST4;X1[NPAR1-1,:] = BEST1;\n",
        "      X2[0,:] = BEST1;X2[1,:] = BEST3;X2[2,:] = BEST4;X2[NPAR2-1,:] = BEST2;\n",
        "      X3[0,:] = BEST1;X3[1,:] = BEST2;X3[2,:] = BEST4;X3[NPAR3-1,:] = BEST3;\n",
        "      X4[0,:] = BEST1;X4[1,:] = BEST2;X4[2,:] = BEST3;X4[NPAR4-1,:] = BEST4;\n",
        "    print('k=',iii,'time=',(time.time()-start_time)/60, 'FO=',FOBEST)  \n",
        "    BEST_AGENTS.append(BEST_XY)\n",
        "    MAT_stat.append(MAT)\n",
        "    #print(\"GlobalParam e Solucao:\", BEST,\"Funcao=\",FOBEST)\n",
        "    \n",
        "############################## Cálculo dos Parâmetros de Avaliação   \n",
        "TIME = (time.time() - start_time)/RUNS\n",
        "BEST_AGENTS=np.array(BEST_AGENTS)\n",
        "BEST_AGENTS_ST= BEST_AGENTS[BEST_AGENTS[:,-1].argsort()]\n",
        "BEST=BEST_AGENTS_ST[0]\n",
        "WORSE=BEST_AGENTS_ST[-1]\n",
        "MEAN=np.mean(BEST_AGENTS,axis=0)\n",
        "MAXFO=BEST_AGENTS[:,-1].max()\n",
        "MINFO=BEST_AGENTS[:,-1].min()\n",
        "STD=BEST_AGENTS[:,-1].std()"
      ]
    },
    {
      "cell_type": "code",
      "execution_count": null,
      "metadata": {
        "colab": {
          "background_save": true
        },
        "id": "k3p9TGsx1OCu"
      },
      "outputs": [],
      "source": [
        "NOMES=['DIVERSIDADE (DI)',  'DI RELATIVO','FRAC Its',\n",
        "           'VELOC FOBJ','VELOC X','NP','Fo','CRo','fmin','fmax',\n",
        "           'AD_fmin','AD_fmax','DELTA FOBJ','DELTA VX','r_fitness',\n",
        "           'F','CR']\n",
        "# BEST_INDEX= BEST_AGENTS[BEST_AGENTS[:,-1].argmin()]  \n",
        "BEST_INDEX = np.argmin(BEST_AGENTS[:,-1])\n",
        "df=pd.DataFrame(MAT_stat[BEST_INDEX], columns=NOMES)\n",
        "\n"
      ]
    },
    {
      "cell_type": "code",
      "execution_count": null,
      "metadata": {
        "colab": {
          "background_save": true
        },
        "id": "jIHiKR_t1xxs",
        "outputId": "774e6a67-6ee3-44bb-c2c5-37565403dd3d"
      },
      "outputs": [
        {
          "name": "stdout",
          "output_type": "stream",
          "text": [
            "     DIVERSIDADE (DI)  DI RELATIVO  FRAC Its  VELOC FOBJ  VELOC X    NP  \\\n",
            "0          322.450528     1.027159  0.000227         2.0      2.0  34.0   \n",
            "1          320.348443     1.020463  0.000453         2.0      2.0  34.0   \n",
            "2          319.305603     1.017141  0.000680         0.0      0.0  34.0   \n",
            "3          318.937075     1.015967  0.000907         1.0      2.0  34.0   \n",
            "4          316.640812     1.008652  0.001133         2.0      2.0  34.0   \n",
            "..                ...          ...       ...         ...      ...   ...   \n",
            "995        131.017564     0.417354  0.225760         1.0      1.0  34.0   \n",
            "996        131.017564     0.417354  0.225987         1.0      1.0  34.0   \n",
            "997        131.017564     0.417354  0.226213         1.0      1.0  34.0   \n",
            "998        131.017455     0.417353  0.226440         1.0      1.0  34.0   \n",
            "999        131.017531     0.417353  0.226667         1.0      1.0  34.0   \n",
            "\n",
            "           Fo           CRo          fmin          fmax  AD_fmin  AD_fmax  \\\n",
            "0    0.500000  5.000000e-01  3.044835e+15  2.045665e+18      1.0      1.0   \n",
            "1    0.243210  3.288068e-01  5.282532e+13  1.814536e+18      1.0      1.0   \n",
            "2    0.429351  2.169618e-01  5.282532e+13  1.034753e+18      1.0      1.0   \n",
            "3    0.210996  1.434016e-01  3.281500e+13  1.034753e+18      1.0      1.0   \n",
            "4    0.371769  2.162472e-01  1.359334e+13  6.965865e+17      1.0      1.0   \n",
            "..        ...           ...           ...           ...      ...      ...   \n",
            "995  0.189315  3.683285e-23  1.173985e+03  2.136957e+06      1.0      1.0   \n",
            "996  0.248573  4.067594e-23  1.173985e+03  2.136957e+06      1.0      1.0   \n",
            "997  0.144830  4.492000e-23  1.173985e+03  2.136957e+06      1.0      1.0   \n",
            "998  0.190164  3.867082e-23  1.173984e+03  2.136957e+06      1.0      1.0   \n",
            "999  0.249689  4.270567e-23  1.173982e+03  2.136957e+06      1.0      1.0   \n",
            "\n",
            "     DELTA FOBJ  DELTA VX  r_fitness         F            CR  \n",
            "0           0.0       0.0   0.998512  0.243210  3.288068e-01  \n",
            "1           0.0       0.0   0.999971  0.429351  2.169618e-01  \n",
            "2           0.0       0.0   0.999949  0.210996  1.434016e-01  \n",
            "3           0.0       0.0   0.999968  0.371769  2.162472e-01  \n",
            "4           0.0       0.0   0.999980  0.653008  1.435411e-01  \n",
            "..          ...       ...        ...       ...           ...  \n",
            "995         0.0       0.0   0.999451  0.248573  4.067594e-23  \n",
            "996         0.0       0.0   0.999451  0.144830  4.492000e-23  \n",
            "997         0.0       0.0   0.999451  0.190164  3.867082e-23  \n",
            "998         0.0       0.0   0.999451  0.249689  4.270567e-23  \n",
            "999         0.0       0.0   0.999451  0.145480  4.716151e-23  \n",
            "\n",
            "[1000 rows x 17 columns]\n"
          ]
        }
      ],
      "source": [
        "pd.set_option('display.max_columns', 30)  \n",
        "print(df)"
      ]
    },
    {
      "cell_type": "code",
      "execution_count": null,
      "metadata": {
        "colab": {
          "background_save": true
        },
        "id": "bx0ywpMtAAjw",
        "outputId": "45be0c0b-1597-4f9a-e720-8bb1e5ef63a8"
      },
      "outputs": [
        {
          "data": {
            "text/plain": [
              "Text(0, 0.5, 'CR')"
            ]
          },
          "execution_count": null,
          "metadata": {},
          "output_type": "execute_result"
        },
        {
          "data": {
            "image/png": "[encoded data removed]",
            "text/plain": [
              "<Figure size 432x288 with 1 Axes>"
            ]
          },
          "metadata": {},
          "output_type": "display_data"
        }
      ],
      "source": [
        "plt.plot(df['FRAC Its'],df['CR'])\n",
        "plt.xlabel('Iteração/Total')\n",
        "plt.ylabel('CR')"
      ]
    },
    {
      "cell_type": "code",
      "execution_count": null,
      "metadata": {
        "colab": {
          "background_save": true
        },
        "id": "BvPFvbDvteDC",
        "outputId": "fd233b99-de29-4fd1-8e83-a66bbbe5680f"
      },
      "outputs": [
        {
          "data": {
            "image/png": "[encoded data removed]",
            "text/plain": [
              "<Figure size 432x288 with 1 Axes>"
            ]
          },
          "metadata": {},
          "output_type": "display_data"
        }
      ],
      "source": [
        "\n",
        "fig, ax = plt.subplots()\n",
        "ax.plot(df['FRAC Its'],df['F'],label='F')\n",
        "ax.set_xlabel('Iteração/Total')\n",
        "ax.set_ylabel('Parâmetros')\n",
        "ax.plot(df['FRAC Its'],df['CR'],'-r', label='CR')\n",
        "nome=Fun.__name__+'  M=Diversidade'+ '  D='+str(dim)\n",
        "ax.set_title(nome)\n",
        "leg = ax.legend()\n"
      ]
    },
    {
      "cell_type": "code",
      "execution_count": null,
      "metadata": {
        "colab": {
          "background_save": true
        },
        "id": "htooaGpDia_0",
        "outputId": "89e5910d-b7f5-4675-bbdf-889fd98b4049"
      },
      "outputs": [
        {
          "data": {
            "text/plain": [
              "Text(0.5, 1.0, 'F20_Diversidade_D=30')"
            ]
          },
          "execution_count": null,
          "metadata": {},
          "output_type": "execute_result"
        },
        {
          "data": {
            "image/png": "[encoded data removed]",
            "text/plain": [
              "<Figure size 432x288 with 2 Axes>"
            ]
          },
          "metadata": {},
          "output_type": "display_data"
        }
      ],
      "source": [
        "f, axarr = plt.subplots(2, sharex=True)\n",
        "axarr[0].plot(df['FRAC Its'],df['F'])\n",
        "axarr[0].set_ylabel('F')\n",
        "axarr[1].plot(df['FRAC Its'],df['CR'])\n",
        "axarr[1].set_ylabel('CR')\n",
        "axarr[1].set_xlabel('Iteração/Total')\n",
        "nome=Fun.__name__+'_Diversidade_'+ 'D='+str(dim)\n",
        "axarr[0].set_title(nome)\n"
      ]
    },
    {
      "cell_type": "code",
      "execution_count": null,
      "metadata": {
        "colab": {
          "background_save": true
        },
        "id": "lNSN5X-wskcx",
        "outputId": "d62e135a-1b49-422c-cd90-f1ae6c4c541c"
      },
      "outputs": [
        {
          "name": "stdout",
          "output_type": "stream",
          "text": [
            "MCS-FRANNK Fator F/DE= 0.33 NPAR= 100 Iterações= 1000 Dim= 30 Min/Max= -100 / 100 _ F20\n",
            "SUB_Fo-0.5_CRo-0.5_D-30_Interv-1000 \n",
            "\n",
            "MÉDIA:  9441.22259965943 STD __: 7285.631014826245\n",
            "MIN __: 1173.9824419968131 MAX__:  30018.519086142147\n",
            "9441.22259965943\n",
            "7285.631014826245\n",
            "1173.9824419968131\n",
            "Tempo Médio= 77.808 segundos ---\n",
            "50 Rodadas\n",
            "\n",
            "BEST:  [-5.01826848e+01  2.38653342e+01 -2.38912531e+01 -1.26885184e+01\n",
            " -5.42517894e+01  5.16405236e+01  1.81030399e+01  3.80311138e+01\n",
            "  4.92309286e+01 -6.93043944e+01  7.27936745e+01  4.26730357e-01\n",
            "  3.94885274e+01  3.84873916e+01  3.50097350e+01 -5.40393695e+01\n",
            " -8.26371801e+00  1.68252826e+01  5.41987445e+01  5.52652718e+01\n",
            "  6.89731942e+01  1.23312203e+01  1.34721123e+01  5.63707117e+01\n",
            " -7.59492929e+01  6.11706274e+01 -1.28355771e+01 -7.57916483e+01\n",
            "  3.96766457e+01 -5.82854117e+01  1.17398244e+03]\n"
          ]
        }
      ],
      "source": [
        "nome='SUB'+'_Fo-'+str(Fi)+'_CRo-'+str(CRi)+'_D-'+str(dim)+'_Interv-'+str(ITE)\n",
        "print('MCS-FRANNK','Fator F/DE= %.2f' %(fator),'NPAR=',NPAR,'Iterações=',ITE*its,'Dim=', PAR,\"Min/Max=\",MIN[0],\"/\",MAX[0],'_',Fun.__name__)\n",
        "print(nome, '\\n')\n",
        "#print('BEST: ',BEST)\n",
        "#print('MÉDIA: ',MEAN)\n",
        "print('MÉDIA: ',MEAN[-1],'STD __:',STD)\n",
        "print('MIN __:',MINFO, 'MAX__: ',MAXFO)\n",
        "print(MEAN[-1])\n",
        "print(STD)\n",
        "print(MINFO)\n",
        "print(\"Tempo Médio= %.3f segundos ---\" % (TIME))\n",
        "print(RUNS,'Rodadas') \n",
        "print()\n",
        "print('BEST: ',BEST)\n",
        "# print('melhor=',BEST_AGENTS[BEST_INDEX])"
      ]
    }
  ],
  "metadata": {
    "colab": {
      "collapsed_sections": [],
      "name": "C_Frannk_best_2_conservative_F19_cec2014.ipynb",
      "provenance": [],
      "include_colab_link": true
    },
    "kernelspec": {
      "display_name": "Python 3",
      "name": "python3"
    },
    "language_info": {
      "codemirror_mode": {
        "name": "ipython",
        "version": 3
      },
      "file_extension": ".py",
      "mimetype": "text/x-python",
      "name": "python",
      "nbconvert_exporter": "python",
      "pygments_lexer": "ipython3",
      "version": "3.7.3"
    }
  },
  "nbformat": 4,
  "nbformat_minor": 0
}